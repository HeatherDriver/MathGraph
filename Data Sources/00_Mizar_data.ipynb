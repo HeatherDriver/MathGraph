{
  "nbformat": 4,
  "nbformat_minor": 0,
  "metadata": {
    "colab": {
      "provenance": [],
      "authorship_tag": "ABX9TyOnQnMHqHpNLyt2S6LKnEyo"
    },
    "kernelspec": {
      "name": "python3",
      "display_name": "Python 3"
    },
    "language_info": {
      "name": "python"
    }
  },
  "cells": [
    {
      "cell_type": "code",
      "source": [
        "! pip install rdflib"
      ],
      "metadata": {
        "colab": {
          "base_uri": "https://localhost:8080/"
        },
        "id": "iU0bhwP4mdT0",
        "outputId": "b0686ec7-7adf-414a-d007-addb09e6c2b7"
      },
      "execution_count": null,
      "outputs": [
        {
          "output_type": "stream",
          "name": "stdout",
          "text": [
            "Collecting rdflib\n",
            "  Downloading rdflib-7.1.3-py3-none-any.whl.metadata (11 kB)\n",
            "Requirement already satisfied: pyparsing<4,>=2.1.0 in /usr/local/lib/python3.11/dist-packages (from rdflib) (3.2.1)\n",
            "Downloading rdflib-7.1.3-py3-none-any.whl (564 kB)\n",
            "\u001b[?25l   \u001b[90m━━━━━━━━━━━━━━━━━━━━━━━━━━━━━━━━━━━━━━━━\u001b[0m \u001b[32m0.0/564.9 kB\u001b[0m \u001b[31m?\u001b[0m eta \u001b[36m-:--:--\u001b[0m\r\u001b[2K   \u001b[91m━━━━━━━━━━━━━━━━━━━━━━━━━━━━━━━━━━━━━━━\u001b[0m\u001b[91m╸\u001b[0m \u001b[32m563.2/564.9 kB\u001b[0m \u001b[31m51.8 MB/s\u001b[0m eta \u001b[36m0:00:01\u001b[0m\r\u001b[2K   \u001b[90m━━━━━━━━━━━━━━━━━━━━━━━━━━━━━━━━━━━━━━━━\u001b[0m \u001b[32m564.9/564.9 kB\u001b[0m \u001b[31m14.1 MB/s\u001b[0m eta \u001b[36m0:00:00\u001b[0m\n",
            "\u001b[?25hInstalling collected packages: rdflib\n",
            "Successfully installed rdflib-7.1.3\n"
          ]
        }
      ]
    },
    {
      "cell_type": "code",
      "execution_count": null,
      "metadata": {
        "id": "-PHfH_Q7W7M6"
      },
      "outputs": [],
      "source": [
        "from google.colab import drive\n",
        "from rdflib import Graph, URIRef, Literal, RDF\n",
        "import pickle"
      ]
    },
    {
      "cell_type": "code",
      "source": [
        "drive.mount(\"/content/drive\")\n",
        "%cd '/content/drive/MyDrive/Colab Notebooks/Math_Graph/mmlkg/rdf'"
      ],
      "metadata": {
        "colab": {
          "base_uri": "https://localhost:8080/"
        },
        "id": "PCUxnPY85FOO",
        "outputId": "e44ad3fa-cc77-4f99-e1e0-872380260846"
      },
      "execution_count": null,
      "outputs": [
        {
          "output_type": "stream",
          "name": "stdout",
          "text": [
            "Drive already mounted at /content/drive; to attempt to forcibly remount, call drive.mount(\"/content/drive\", force_remount=True).\n",
            "/content/drive/MyDrive/Colab Notebooks/Math_Graph/mmlkg/rdf\n"
          ]
        }
      ]
    },
    {
      "cell_type": "code",
      "source": [
        "# Create a graph object\n",
        "graph = Graph()\n",
        "\n",
        "# Load the RDF data from the file\n",
        "graph.parse(\"rdf_data.nt\", format=\"nt\")\n",
        "\n",
        "# Print the number of triples loaded\n",
        "print(f\"Number of triples in the graph: {len(graph)}\")"
      ],
      "metadata": {
        "colab": {
          "base_uri": "https://localhost:8080/"
        },
        "id": "B6SNTpHqmwpO",
        "outputId": "79726de5-0d8b-4fc3-c32a-08044aee7bf6"
      },
      "execution_count": null,
      "outputs": [
        {
          "output_type": "stream",
          "name": "stdout",
          "text": [
            "Number of triples in the graph: 9735\n"
          ]
        }
      ]
    },
    {
      "cell_type": "code",
      "source": [
        "# Print first 10 subjects\n",
        "for i, stmt in enumerate(graph):\n",
        "  if i <= 10:\n",
        "    print(stmt)"
      ],
      "metadata": {
        "colab": {
          "base_uri": "https://localhost:8080/"
        },
        "id": "42eEEZQHoHu3",
        "outputId": "5cb7dfd3-ab4c-451e-cafc-69b54bf1122f"
      },
      "execution_count": null,
      "outputs": [
        {
          "output_type": "stream",
          "name": "stdout",
          "text": [
            "(rdflib.term.URIRef(\"https://mizar.uwb.edu.pl/Desargues's_theorem\"), rdflib.term.URIRef('https://mizar.uwb.edu.pl/edge/label'), rdflib.term.Literal('Twierdzenie Desarguesa', lang='pl'))\n",
            "(rdflib.term.URIRef(\"https://mizar.uwb.edu.pl/Bertrand's_postulate\"), rdflib.term.URIRef('https://mizar.uwb.edu.pl/edge/label'), rdflib.term.Literal('Постулат Бертрана', lang='uk'))\n",
            "(rdflib.term.URIRef('https://mizar.uwb.edu.pl/Approximations_of_π'), rdflib.term.URIRef('https://mizar.uwb.edu.pl/edge/altLabel'), rdflib.term.Literal('approximations of pi', lang='en'))\n",
            "(rdflib.term.URIRef('https://mizar.uwb.edu.pl/Law_of_cosines'), rdflib.term.URIRef('https://mizar.uwb.edu.pl/edge/label'), rdflib.term.Literal('ទ្រឹស្តីបទកូស៊ីនុស', lang='km'))\n",
            "(rdflib.term.URIRef(\"https://mizar.uwb.edu.pl/Arrow's_impossibility_theorem\"), rdflib.term.URIRef('https://mizar.uwb.edu.pl/edge/altLabel'), rdflib.term.Literal('парадокс Эрроу', lang='ru'))\n",
            "(rdflib.term.URIRef(\"https://mizar.uwb.edu.pl/Routh's_theorem\"), rdflib.term.URIRef('https://mizar.uwb.edu.pl/edge/exactMatch'), rdflib.term.URIRef('https://fr.wikipedia.org/wiki/Th%C3%A9or%C3%A8me_de_Routh'))\n",
            "(rdflib.term.URIRef('https://mizar.uwb.edu.pl/Isosceles_triangle'), rdflib.term.URIRef('https://mizar.uwb.edu.pl/edge/label'), rdflib.term.Literal('Paarkolmnukk', lang='vro'))\n",
            "(rdflib.term.URIRef('https://mizar.uwb.edu.pl/Binomial_theorem'), rdflib.term.URIRef('https://mizar.uwb.edu.pl/edge/altLabel'), rdflib.term.Literal('Binomialteorem', lang='sv'))\n",
            "(rdflib.term.URIRef('https://mizar.uwb.edu.pl/Birthday_problem'), rdflib.term.URIRef('https://mizar.uwb.edu.pl/edge/exactMatch'), rdflib.term.URIRef('http://dbpedia.org/resource/Birthday_problem'))\n",
            "(rdflib.term.URIRef('https://mizar.uwb.edu.pl/Sylow_theorems'), rdflib.term.URIRef('https://mizar.uwb.edu.pl/edge/altLabel'), rdflib.term.Literal('teori grup', lang='id'))\n",
            "(rdflib.term.URIRef('https://mizar.uwb.edu.pl/Pythagorean_triple'), rdflib.term.URIRef('https://mizar.uwb.edu.pl/edge/altLabel'), rdflib.term.Literal('Pytagoreisk trippel', lang='sv'))\n"
          ]
        }
      ]
    },
    {
      "cell_type": "code",
      "source": [
        "# Example query on Pythagorean Theorem\n",
        "query = \"\"\"\n",
        "SELECT ?subject ?predicate ?object\n",
        "WHERE {\n",
        "    ?subject ?predicate ?object .\n",
        "    FILTER(?subject = <https://mizar.uwb.edu.pl/Pythagorean_theorem> && (STRSTARTS(LANG(?object), \"en\") || LANG(?object) = \"\"))\n",
        "}\n",
        "\"\"\""
      ],
      "metadata": {
        "id": "CKl04bfF_E2z"
      },
      "execution_count": null,
      "outputs": []
    },
    {
      "cell_type": "code",
      "source": [
        "for row in graph.query(query):\n",
        "  print(row)"
      ],
      "metadata": {
        "colab": {
          "base_uri": "https://localhost:8080/"
        },
        "id": "e86cp5cF_HJc",
        "outputId": "579f83d4-dcea-4101-d2db-41aeee94f0ab"
      },
      "execution_count": null,
      "outputs": [
        {
          "output_type": "stream",
          "name": "stdout",
          "text": [
            "(rdflib.term.URIRef('https://mizar.uwb.edu.pl/Pythagorean_theorem'), rdflib.term.URIRef('https://mizar.uwb.edu.pl/edge/AEVID'), rdflib.term.Literal('scot/8601'))\n",
            "(rdflib.term.URIRef('https://mizar.uwb.edu.pl/Pythagorean_theorem'), rdflib.term.URIRef('https://mizar.uwb.edu.pl/edge/BnFID'), rdflib.term.Literal('11946942j'))\n",
            "(rdflib.term.URIRef('https://mizar.uwb.edu.pl/Pythagorean_theorem'), rdflib.term.URIRef('https://mizar.uwb.edu.pl/edge/ZhihuTopicID'), rdflib.term.Literal('19558754'))\n",
            "(rdflib.term.URIRef('https://mizar.uwb.edu.pl/Pythagorean_theorem'), rdflib.term.URIRef('https://mizar.uwb.edu.pl/edge/IDJ9U'), rdflib.term.Literal('987007551078005171'))\n",
            "(rdflib.term.URIRef('https://mizar.uwb.edu.pl/Pythagorean_theorem'), rdflib.term.URIRef('https://mizar.uwb.edu.pl/edge/PWNID'), rdflib.term.Literal('3957740'))\n",
            "(rdflib.term.URIRef('https://mizar.uwb.edu.pl/Pythagorean_theorem'), rdflib.term.URIRef('https://mizar.uwb.edu.pl/edge/vleID'), rdflib.term.Literal('pitagoro-teorema'))\n",
            "(rdflib.term.URIRef('https://mizar.uwb.edu.pl/Pythagorean_theorem'), rdflib.term.URIRef('https://mizar.uwb.edu.pl/edge/label'), rdflib.term.Literal('Pythagorean theorem', lang='en'))\n",
            "(rdflib.term.URIRef('https://mizar.uwb.edu.pl/Pythagorean_theorem'), rdflib.term.URIRef('https://mizar.uwb.edu.pl/edge/SpanishVikidiaID'), rdflib.term.Literal('Teorema_de_Pitágoras'))\n",
            "(rdflib.term.URIRef('https://mizar.uwb.edu.pl/Pythagorean_theorem'), rdflib.term.URIRef('https://mizar.uwb.edu.pl/edge/EnciclopediaDellaMatematicaID'), rdflib.term.Literal('teorema-di-pitagora'))\n",
            "(rdflib.term.URIRef('https://mizar.uwb.edu.pl/Pythagorean_theorem'), rdflib.term.URIRef('https://mizar.uwb.edu.pl/edge/SNLID'), rdflib.term.Literal(\"Pytagoras'_setning\"))\n",
            "(rdflib.term.URIRef('https://mizar.uwb.edu.pl/Pythagorean_theorem'), rdflib.term.URIRef('https://mizar.uwb.edu.pl/edge/GECID'), rdflib.term.Literal('0051188'))\n",
            "(rdflib.term.URIRef('https://mizar.uwb.edu.pl/Pythagorean_theorem'), rdflib.term.URIRef('https://mizar.uwb.edu.pl/edge/ElhuyarZTHID'), rdflib.term.Literal('029735'))\n",
            "(rdflib.term.URIRef('https://mizar.uwb.edu.pl/Pythagorean_theorem'), rdflib.term.URIRef('https://mizar.uwb.edu.pl/edge/FrenchVikidiaID'), rdflib.term.Literal('Théorème_de_Pythagore'))\n",
            "(rdflib.term.URIRef('https://mizar.uwb.edu.pl/Pythagorean_theorem'), rdflib.term.URIRef('https://mizar.uwb.edu.pl/edge/BNEID'), rdflib.term.Literal('XX4809534'))\n",
            "(rdflib.term.URIRef('https://mizar.uwb.edu.pl/Pythagorean_theorem'), rdflib.term.URIRef('https://mizar.uwb.edu.pl/edge/LarousseID'), rdflib.term.Literal('divers/wd/84556'))\n",
            "(rdflib.term.URIRef('https://mizar.uwb.edu.pl/Pythagorean_theorem'), rdflib.term.URIRef('https://mizar.uwb.edu.pl/edge/version'), rdflib.term.Literal('1836243785', datatype=rdflib.term.URIRef('http://www.w3.org/2001/XMLSchema#integer')))\n",
            "(rdflib.term.URIRef('https://mizar.uwb.edu.pl/Pythagorean_theorem'), rdflib.term.URIRef('https://mizar.uwb.edu.pl/edge/GNDID'), rdflib.term.Literal('4176546-1'))\n",
            "(rdflib.term.URIRef('https://mizar.uwb.edu.pl/Pythagorean_theorem'), rdflib.term.URIRef('https://mizar.uwb.edu.pl/edge/dateModified'), rdflib.term.Literal('2023-02-18T06:01:09+00:00', datatype=rdflib.term.URIRef('http://www.w3.org/2001/XMLSchema#dateTime')))\n",
            "(rdflib.term.URIRef('https://mizar.uwb.edu.pl/Pythagorean_theorem'), rdflib.term.URIRef('https://mizar.uwb.edu.pl/edge/LCCN'), rdflib.term.Literal('sh85109374'))\n",
            "(rdflib.term.URIRef('https://mizar.uwb.edu.pl/Pythagorean_theorem'), rdflib.term.URIRef('https://mizar.uwb.edu.pl/edge/NDLAuthorityID'), rdflib.term.Literal('00934581'))\n",
            "(rdflib.term.URIRef('https://mizar.uwb.edu.pl/Pythagorean_theorem'), rdflib.term.URIRef('https://mizar.uwb.edu.pl/edge/OpenAlexID'), rdflib.term.Literal('C100461760'))\n",
            "(rdflib.term.URIRef('https://mizar.uwb.edu.pl/Pythagorean_theorem'), rdflib.term.URIRef('https://mizar.uwb.edu.pl/edge/BNCFThesaurusID'), rdflib.term.Literal('23251'))\n",
            "(rdflib.term.URIRef('https://mizar.uwb.edu.pl/Pythagorean_theorem'), rdflib.term.URIRef('https://mizar.uwb.edu.pl/edge/nLabID'), rdflib.term.Literal('Pythagorean theorem'))\n",
            "(rdflib.term.URIRef('https://mizar.uwb.edu.pl/Pythagorean_theorem'), rdflib.term.URIRef('https://mizar.uwb.edu.pl/edge/description'), rdflib.term.Literal('relation in Euclidean geometry among the three sides of a right triangle', lang='en'))\n",
            "(rdflib.term.URIRef('https://mizar.uwb.edu.pl/Pythagorean_theorem'), rdflib.term.URIRef('https://mizar.uwb.edu.pl/edge/altLabel'), rdflib.term.Literal(\"Pythagoras' theorem\", lang='en'))\n",
            "(rdflib.term.URIRef('https://mizar.uwb.edu.pl/Pythagorean_theorem'), rdflib.term.URIRef('https://mizar.uwb.edu.pl/edge/QuoraTopicID'), rdflib.term.Literal('Pythagorean-Theorem'))\n",
            "(rdflib.term.URIRef('https://mizar.uwb.edu.pl/Pythagorean_theorem'), rdflib.term.URIRef('https://mizar.uwb.edu.pl/edge/GoldenID'), rdflib.term.Literal('Pythagorean_theorem-JDY8M5'))\n",
            "(rdflib.term.URIRef('https://mizar.uwb.edu.pl/Pythagorean_theorem'), rdflib.term.URIRef('https://mizar.uwb.edu.pl/edge/GREOID'), rdflib.term.Literal('3142022'))\n",
            "(rdflib.term.URIRef('https://mizar.uwb.edu.pl/Pythagorean_theorem'), rdflib.term.URIRef('https://mizar.uwb.edu.pl/edge/EncyclopediaOfChina'), rdflib.term.Literal('318366'))\n",
            "(rdflib.term.URIRef('https://mizar.uwb.edu.pl/Pythagorean_theorem'), rdflib.term.URIRef('https://mizar.uwb.edu.pl/edge/JSTORTopicID'), rdflib.term.Literal('pythagorean-theorem'))\n",
            "(rdflib.term.URIRef('https://mizar.uwb.edu.pl/Pythagorean_theorem'), rdflib.term.URIRef('https://mizar.uwb.edu.pl/edge/MathWorldIdentifier'), rdflib.term.Literal('PythagoreanTheorem'))\n",
            "(rdflib.term.URIRef('https://mizar.uwb.edu.pl/Pythagorean_theorem'), rdflib.term.URIRef('https://mizar.uwb.edu.pl/edge/NamuwikiID'), rdflib.term.Literal('피타고라스 정리'))\n",
            "(rdflib.term.URIRef('https://mizar.uwb.edu.pl/Pythagorean_theorem'), rdflib.term.URIRef('https://mizar.uwb.edu.pl/edge/MicrosoftAcademicID'), rdflib.term.Literal('100461760'))\n",
            "(rdflib.term.URIRef('https://mizar.uwb.edu.pl/Pythagorean_theorem'), rdflib.term.URIRef('https://mizar.uwb.edu.pl/edge/altLabel'), rdflib.term.Literal('Pythagorean proposition', lang='en'))\n",
            "(rdflib.term.URIRef('https://mizar.uwb.edu.pl/Pythagorean_theorem'), rdflib.term.URIRef('https://mizar.uwb.edu.pl/edge/EncyclopediaOfMathematicsWikiID'), rdflib.term.Literal('Pythagorean_theorem'))\n",
            "(rdflib.term.URIRef('https://mizar.uwb.edu.pl/Pythagorean_theorem'), rdflib.term.URIRef('https://mizar.uwb.edu.pl/edge/EncyclopædiaBritannicaOnlineID'), rdflib.term.Literal('topic/Pythagorean-theorem'))\n",
            "(rdflib.term.URIRef('https://mizar.uwb.edu.pl/Pythagorean_theorem'), rdflib.term.URIRef('https://mizar.uwb.edu.pl/edge/CommonsCategory'), rdflib.term.Literal('Pythagorean theorem'))\n",
            "(rdflib.term.URIRef('https://mizar.uwb.edu.pl/Pythagorean_theorem'), rdflib.term.URIRef('https://mizar.uwb.edu.pl/edge/FreebaseID'), rdflib.term.Literal('/m/05r2j'))\n"
          ]
        }
      ]
    },
    {
      "cell_type": "code",
      "source": [
        "# Export subject list for API calls\n",
        "subj_list = []\n",
        "for subj, pred, obj in graph:\n",
        "  name = subj.split('/')[-1]\n",
        "  if name not in subj_list:\n",
        "    subj_list.append(name)\n",
        "\n",
        "subj_list = sorted(subj_list)"
      ],
      "metadata": {
        "id": "vcH_dHxoKXI7"
      },
      "execution_count": null,
      "outputs": []
    },
    {
      "cell_type": "code",
      "source": [
        "%cd '/content/drive/MyDrive/Colab Notebooks/Math_Graph/pickle_files'\n",
        "try:\n",
        "  dict_file = 'mizar_subjects.pkl'\n",
        "  with open(dict_file, 'wb') as file:\n",
        "    pickle.dump(subj_list, file)\n",
        "except Exception as e:\n",
        "  print(f\"Error: {e}\")"
      ],
      "metadata": {
        "colab": {
          "base_uri": "https://localhost:8080/"
        },
        "id": "eL9tOq4SEs2n",
        "outputId": "44f4fa9f-9164-4e1e-bbd6-a0bd925cb01b"
      },
      "execution_count": null,
      "outputs": [
        {
          "output_type": "stream",
          "name": "stdout",
          "text": [
            "/content/drive/MyDrive/Colab Notebooks/Math_Graph/pickle_files\n"
          ]
        }
      ]
    }
  ]
}
