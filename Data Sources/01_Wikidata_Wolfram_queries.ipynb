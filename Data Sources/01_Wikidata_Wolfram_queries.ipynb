{
  "nbformat": 4,
  "nbformat_minor": 0,
  "metadata": {
    "colab": {
      "provenance": [],
      "authorship_tag": "ABX9TyOH1n7d4v8YTd0kh9e/G51J"
    },
    "kernelspec": {
      "name": "python3",
      "display_name": "Python 3"
    },
    "language_info": {
      "name": "python"
    }
  },
  "cells": [
    {
      "cell_type": "code",
      "execution_count": null,
      "metadata": {
        "id": "-PHfH_Q7W7M6"
      },
      "outputs": [],
      "source": [
        "from google.colab import drive, userdata\n",
        "import requests\n",
        "import pickle\n",
        "import pprint\n",
        "import random\n",
        "import re"
      ]
    },
    {
      "cell_type": "code",
      "source": [
        "drive.mount(\"/content/drive\")\n",
        "%cd '/content/drive/MyDrive/Colab Notebooks/Math_Graph/pickle_files'\n",
        "\n",
        "# Get API key\n",
        "wolfram = userdata.get('Wolfram_alpha')"
      ],
      "metadata": {
        "colab": {
          "base_uri": "https://localhost:8080/"
        },
        "id": "GsqTV5pPGakk",
        "outputId": "f467fcc3-c1c5-400f-daab-e70729b79f62"
      },
      "execution_count": null,
      "outputs": [
        {
          "output_type": "stream",
          "name": "stdout",
          "text": [
            "Mounted at /content/drive\n",
            "/content/drive/MyDrive/Colab Notebooks/Math_Graph/pickle_files\n"
          ]
        }
      ]
    },
    {
      "cell_type": "code",
      "source": [
        "def read_pickle(file_name):\n",
        "  with open(file_name, 'rb') as file:\n",
        "    data = pickle.load(file)\n",
        "  return data"
      ],
      "metadata": {
        "id": "FGsww41hI0wp"
      },
      "execution_count": null,
      "outputs": []
    },
    {
      "cell_type": "code",
      "source": [
        "# Load mizar_subjects\n",
        "dict_file = \"mizar_subjects.pkl\"\n",
        "mizar_subj_list = read_pickle(dict_file)"
      ],
      "metadata": {
        "id": "yqmRjJN3GjT3"
      },
      "execution_count": null,
      "outputs": []
    },
    {
      "cell_type": "code",
      "source": [
        "def get_wikidata_subject_info(entity_name, subject_dict):\n",
        "  \"\"\"Retrieves data from Wikidata API\"\"\"\n",
        "  # Construct Wikidata API URL call\n",
        "  url = f\"https://www.wikidata.org/w/api.php?action=wbsearchentities&search={entity_name}&language=en&format=json\"\n",
        "\n",
        "  # Send a GET request to Wikidata API\n",
        "  response = requests.get(url)\n",
        "\n",
        "  # If search was successful, extract results\n",
        "  if response.status_code == 200:\n",
        "    search_results = response.json().get(\"search\")\n",
        "    if search_results:\n",
        "      subject_dict.update({entity_name : search_results})\n",
        "    else:\n",
        "      print(f\"No results found for {entity_name}\")\n",
        "  return subject_dict"
      ],
      "metadata": {
        "id": "3n3o76WBpyni"
      },
      "execution_count": null,
      "outputs": []
    },
    {
      "cell_type": "code",
      "source": [
        "def load_or_create_dict(subject_dict_name, function_to_run, subj_list):\n",
        "  \"\"\"If pickle file not in existence, create via running appropriate API function\"\"\"\n",
        "\n",
        "  try:\n",
        "    subject_dict = read_pickle(subject_dict_name)\n",
        "\n",
        "  except FileNotFoundError:\n",
        "    print(f\"{subject_dict_name} not found, creating {subject_dict_name}...\")\n",
        "    subject_dict = dict()\n",
        "    for entity_name in subj_list:\n",
        "      subject_dict = function_to_run(entity_name, subject_dict)\n",
        "\n",
        "    with open(subject_dict_name, 'wb') as file:\n",
        "      pickle.dump(subject_dict, file)\n",
        "\n",
        "  return subject_dict"
      ],
      "metadata": {
        "id": "GN6pG8QXKXpa"
      },
      "execution_count": null,
      "outputs": []
    },
    {
      "cell_type": "code",
      "source": [
        "def split_camel_case(text):\n",
        "    # Use regex to insert a space before uppercase letters preceded by lowercase letters\n",
        "    return re.sub(r'(?<=[a-z])(?=[A-Z])', ' ', text)"
      ],
      "metadata": {
        "id": "m9wKziwaHdeL"
      },
      "execution_count": null,
      "outputs": []
    },
    {
      "cell_type": "code",
      "source": [
        "mizar_wikidata_dict = load_or_create_dict(\"mizar_wikidata_api.pkl\", get_wikidata_subject_info, mizar_subj_list)\n",
        "\n",
        "print(f\"dictionary length: {len(mizar_wikidata_dict)}\")\n",
        "random_pairs = random.sample(list(mizar_wikidata_dict.items()), 5)\n",
        "\n",
        "for key, value in random_pairs:\n",
        "  print(f\"{key}:\\n{value}\")"
      ],
      "metadata": {
        "id": "D0okF6D-LVe6",
        "colab": {
          "base_uri": "https://localhost:8080/"
        },
        "outputId": "bdb8ef82-24b4-4688-cdbb-1d0f2b5a1d70"
      },
      "execution_count": null,
      "outputs": [
        {
          "output_type": "stream",
          "name": "stdout",
          "text": [
            "dictionary length: 96\n",
            "Arrow's_impossibility_theorem:\n",
            "[{'id': 'Q33481', 'title': 'Q33481', 'pageid': 36319, 'concepturi': 'http://www.wikidata.org/entity/Q33481', 'repository': 'wikidata', 'url': '//www.wikidata.org/wiki/Q33481', 'display': {'label': {'value': \"Arrow's impossibility theorem\", 'language': 'en'}, 'description': {'value': 'Result that no ranked-choice system is spoilerproof', 'language': 'en'}}, 'label': \"Arrow's impossibility theorem\", 'description': 'Result that no ranked-choice system is spoilerproof', 'match': {'type': 'label', 'language': 'en', 'text': \"Arrow's impossibility theorem\"}}, {'id': 'Q56659147', 'title': 'Q56659147', 'pageid': 56600106, 'concepturi': 'http://www.wikidata.org/entity/Q56659147', 'repository': 'wikidata', 'url': '//www.wikidata.org/wiki/Q56659147', 'display': {'label': {'value': \"Arrow's impossibility theorem: Concise proof and infinite voters\", 'language': 'en'}}, 'label': \"Arrow's impossibility theorem: Concise proof and infinite voters\", 'match': {'type': 'label', 'language': 'en', 'text': \"Arrow's impossibility theorem: Concise proof and infinite voters\"}}]\n",
            "Tychonoff's_theorem:\n",
            "[{'id': 'Q1137014', 'title': 'Q1137014', 'pageid': 1083798, 'concepturi': 'http://www.wikidata.org/entity/Q1137014', 'repository': 'wikidata', 'url': '//www.wikidata.org/wiki/Q1137014', 'display': {'label': {'value': \"Tychonoff's theorem\", 'language': 'en'}, 'description': {'value': 'theorem', 'language': 'en'}}, 'label': \"Tychonoff's theorem\", 'description': 'theorem', 'match': {'type': 'label', 'language': 'en', 'text': \"Tychonoff's theorem\"}}, {'id': 'Q114573934', 'title': 'Q114573934', 'pageid': 109263471, 'concepturi': 'http://www.wikidata.org/entity/Q114573934', 'repository': 'wikidata', 'url': '//www.wikidata.org/wiki/Q114573934', 'display': {'label': {'value': \"Tychonoff's theorem without the axiom of choice\", 'language': 'en'}, 'description': {'value': 'scientific article published in 1981', 'language': 'en'}}, 'label': \"Tychonoff's theorem without the axiom of choice\", 'description': 'scientific article published in 1981', 'match': {'type': 'label', 'language': 'en', 'text': \"Tychonoff's theorem without the axiom of choice\"}}, {'id': 'Q124879796', 'title': 'Q124879796', 'pageid': 119062602, 'concepturi': 'http://www.wikidata.org/entity/Q124879796', 'repository': 'wikidata', 'url': '//www.wikidata.org/wiki/Q124879796', 'display': {'label': {'value': 'Tychonoff’s Theorem as a Direct Application of Zorn’s Lemma', 'language': 'en'}, 'description': {'value': 'scientific article published in 2015', 'language': 'en'}}, 'label': 'Tychonoff’s Theorem as a Direct Application of Zorn’s Lemma', 'description': 'scientific article published in 2015', 'match': {'type': 'label', 'language': 'en', 'text': 'Tychonoff’s Theorem as a Direct Application of Zorn’s Lemma'}}, {'id': 'Q7859732', 'title': 'Q7859732', 'pageid': 7795094, 'concepturi': 'http://www.wikidata.org/entity/Q7859732', 'repository': 'wikidata', 'url': '//www.wikidata.org/wiki/Q7859732', 'display': {'label': {'value': \"Tychonoff's theorem\", 'language': 'en'}, 'description': {'value': 'Wikimedia disambiguation page', 'language': 'en'}}, 'label': \"Tychonoff's theorem\", 'description': 'Wikimedia disambiguation page', 'match': {'type': 'label', 'language': 'en', 'text': \"Tychonoff's theorem\"}}]\n",
            "Jordan_matrix:\n",
            "[{'id': 'Q3738073', 'title': 'Q3738073', 'pageid': 3563472, 'concepturi': 'http://www.wikidata.org/entity/Q3738073', 'repository': 'wikidata', 'url': '//www.wikidata.org/wiki/Q3738073', 'display': {'label': {'value': 'Jordan matrix', 'language': 'en'}, 'description': {'value': 'block diagonal matrix of Jordan blocks', 'language': 'en'}}, 'label': 'Jordan matrix', 'description': 'block diagonal matrix of Jordan blocks', 'match': {'type': 'label', 'language': 'en', 'text': 'Jordan matrix'}}, {'id': 'Q838495', 'title': 'Q838495', 'pageid': 790844, 'concepturi': 'http://www.wikidata.org/entity/Q838495', 'repository': 'wikidata', 'url': '//www.wikidata.org/wiki/Q838495', 'display': {'label': {'value': 'Jordan normal form', 'language': 'en'}, 'description': {'value': 'form of a matrix indicating its eigenvalues and their algebraic multiplicities', 'language': 'en'}}, 'label': 'Jordan normal form', 'description': 'form of a matrix indicating its eigenvalues and their algebraic multiplicities', 'match': {'type': 'alias', 'language': 'de', 'text': 'Jordan-Matrix'}, 'aliases': ['Jordan-Matrix']}, {'id': 'Q114910289', 'title': 'Q114910289', 'pageid': 109572843, 'concepturi': 'http://www.wikidata.org/entity/Q114910289', 'repository': 'wikidata', 'url': '//www.wikidata.org/wiki/Q114910289', 'display': {'label': {'value': 'Jordan-Matrix/2/i/Potenzen/Konvergenzverhalten/Aufgabe', 'language': 'de'}}, 'label': 'Jordan-Matrix/2/i/Potenzen/Konvergenzverhalten/Aufgabe', 'match': {'type': 'label', 'language': 'de', 'text': 'Jordan-Matrix/2/i/Potenzen/Konvergenzverhalten/Aufgabe'}}, {'id': 'Q114910095', 'title': 'Q114910095', 'pageid': 109572686, 'concepturi': 'http://www.wikidata.org/entity/Q114910095', 'repository': 'wikidata', 'url': '//www.wikidata.org/wiki/Q114910095', 'display': {'label': {'value': 'Jordan Matrix/2/Aufgabe', 'language': 'de'}}, 'label': 'Jordan Matrix/2/Aufgabe', 'match': {'type': 'label', 'language': 'de', 'text': 'Jordan Matrix/2/Aufgabe'}}, {'id': 'Q114910291', 'title': 'Q114910291', 'pageid': 109572845, 'concepturi': 'http://www.wikidata.org/entity/Q114910291', 'repository': 'wikidata', 'url': '//www.wikidata.org/wiki/Q114910291', 'display': {'label': {'value': 'Jordan-Matrix/2/i/Potenzen/Konvergenzverhalten/Aufgabe/Lösung', 'language': 'de'}}, 'label': 'Jordan-Matrix/2/i/Potenzen/Konvergenzverhalten/Aufgabe/Lösung', 'match': {'type': 'label', 'language': 'de', 'text': 'Jordan-Matrix/2/i/Potenzen/Konvergenzverhalten/Aufgabe/Lösung'}}]\n",
            "Inequality_of_arithmetic_and_geometric_means:\n",
            "[{'id': 'Q841170', 'title': 'Q841170', 'pageid': 793419, 'concepturi': 'http://www.wikidata.org/entity/Q841170', 'repository': 'wikidata', 'url': '//www.wikidata.org/wiki/Q841170', 'display': {'label': {'value': 'AM–GM inequality', 'language': 'en'}, 'description': {'value': 'states that the arithmetic mean of a list of non-negative real numbers is greater than or equal to the geometric mean of the same list', 'language': 'en'}}, 'label': 'AM–GM inequality', 'description': 'states that the arithmetic mean of a list of non-negative real numbers is greater than or equal to the geometric mean of the same list', 'match': {'type': 'label', 'language': 'nl', 'text': 'inequality of arithmetic and geometric means'}, 'aliases': ['inequality of arithmetic and geometric means']}]\n",
            "Friendship_graph:\n",
            "[{'id': 'Q5504427', 'title': 'Q5504427', 'pageid': 5266027, 'concepturi': 'http://www.wikidata.org/entity/Q5504427', 'repository': 'wikidata', 'url': '//www.wikidata.org/wiki/Q5504427', 'display': {'label': {'value': 'friendship graph', 'language': 'en'}, 'description': {'value': 'planar undirected graph with 2n+1 vertices and 3n edges', 'language': 'en'}}, 'label': 'friendship graph', 'description': 'planar undirected graph with 2n+1 vertices and 3n edges', 'match': {'type': 'label', 'language': 'en', 'text': 'friendship graph'}}, {'id': 'Q3035340', 'title': 'Q3035340', 'pageid': 2901724, 'concepturi': 'http://www.wikidata.org/entity/Q3035340', 'repository': 'wikidata', 'url': '//www.wikidata.org/wiki/Q3035340', 'display': {'label': {'value': 'butterfly graph', 'language': 'en'}, 'description': {'value': 'planar graph with 5 nodes and 6 edges', 'language': 'en'}}, 'label': 'butterfly graph', 'description': 'planar graph with 5 nodes and 6 edges', 'match': {'type': 'alias', 'language': 'en', 'text': 'friendship graph F2'}, 'aliases': ['friendship graph F2']}]\n"
          ]
        }
      ]
    },
    {
      "cell_type": "code",
      "source": [
        "def get_wolfram_short_answer_query_name(entity_name):\n",
        "  \"\"\" Prepares the entity name for Wolfram API query: requires query to be prefixed 'What is ...'\"\"\"\n",
        "  entity_name_split = entity_name.split(\"_\")\n",
        "\n",
        "  if len(entity_name_split) > 2:\n",
        "    concatenated_subtext = '+'.join(entity_name_split[1:-1])\n",
        "    concatenated = f\"{entity_name_split[0]}+{concatenated_subtext}+{entity_name_split[-1]}\"\n",
        "  elif len(entity_name_split) == 2:\n",
        "    concatenated = f\"{entity_name_split[0]}+{entity_name_split[-1]}\"\n",
        "  else:\n",
        "    concatenated = f\"{entity_name_split[0]}\"\n",
        "\n",
        "  query_name = f\"What+is+{concatenated}%3f\"\n",
        "  return query_name\n",
        "\n",
        "def get_wolfram_alpha_subject_info(entity_name, subject_dict):\n",
        "  \"\"\" Retrieves data from Wolfram short answer API'\"\"\"\n",
        "  query_name = get_wolfram_short_answer_query_name(entity_name)\n",
        "\n",
        "  # # Construct WolframAlpha API call\n",
        "  url = f\"http://api.wolframalpha.com/v1/result?appid={wolfram}&i={query_name}\"\n",
        "\n",
        "  # Send a GET request to WolframAlpha API\n",
        "  response = requests.get(url)\n",
        "\n",
        "  # If search was successful, extract results\n",
        "  if response.status_code == 200:\n",
        "    search_results = response.text\n",
        "    if search_results:\n",
        "      subject_dict.update({entity_name : search_results})\n",
        "    else:\n",
        "      print(f\"No results found for {entity_name}\")\n",
        "  return subject_dict"
      ],
      "metadata": {
        "id": "vgJJci8aQa5E"
      },
      "execution_count": null,
      "outputs": []
    },
    {
      "cell_type": "code",
      "source": [
        "mizar_wolfram_alpha_dict = load_or_create_dict(\"mizar_short_ans_api.pkl\", get_wolfram_alpha_subject_info, mizar_subj_list)\n",
        "\n",
        "print(f\"dictionary length: {len(mizar_wolfram_alpha_dict)}\")\n",
        "random_pairs = random.sample(list(mizar_wolfram_alpha_dict.items()), 5)\n",
        "\n",
        "for key, value in random_pairs:\n",
        "  print(f\"{key}:\\n{value}\")"
      ],
      "metadata": {
        "id": "yv-cS--KJ5s9",
        "colab": {
          "base_uri": "https://localhost:8080/"
        },
        "outputId": "150f39e3-8199-4ace-ea41-a17fac1c4a67"
      },
      "execution_count": null,
      "outputs": [
        {
          "output_type": "stream",
          "name": "stdout",
          "text": [
            "dictionary length: 65\n",
            "Chinese_remainder_theorem:\n",
            "Let r and s be positive integers that are relatively prime and let A and b be any two integers.  Then there is an integer N such that N is congruent both to A mod r and to b mod s.  Moreover, N is uniquely determined modulo r times s\n",
            "Quotient_ring:\n",
            "A quotient ring (also called a residue‐class ring) is a ring that is the quotient of a ring A and one of its ideals a, denoted A/a.  For example, when the ring A is Z (the integers) and the ideal is 6Z (multiples of 6), the quotient ring is Z_6 equals Z/6Z.  In general, a quotient ring is a set of equivalence classes where [x] equals [y] iff x-y∈a.  The quotient ring is an integral domain iff the ideal a is prime.  A stronger condition occurs when the quotient ring is a field, which corresponds to when the ideal a is maximal\n",
            "Jordan_curve_theorem:\n",
            "If J is a simple closed curve in R^2, then the Jordan curve theorem, also called the Jordan‐Brouwer theorem states that R^2-J has two components (an inside and outside), with J the boundary of each.  The Jordan curve theorem is a standard result in algebraic topology with a rich history.  A complete proof can be found in Hatcher, or in classic texts such as Spanier.  Recently, a proof checker was used by a Japanese‐Polish team to create a computer‐checked proof of the theorem\n",
            "Desargues's_theorem:\n",
            "If the three straight lines joining the corresponding vertices of two triangles ABC and x’x’x’ all meet in a point (the perspector), then the three intersections of pairs of corresponding sides lie on a straight line (the perspectrix).  Equivalently, if two triangles are perspective from a point, they are perspective from a line.  The 10 lines and 10 3‐line intersections form a (10)_3 configuration sometimes called Desargues’ configuration.  Desargues’ theorem is self‐dual\n",
            "Combination:\n",
            "a collection of things that have been combined; an assemblage of separate parts or qualities\n"
          ]
        }
      ]
    },
    {
      "cell_type": "code",
      "source": [
        "# Repeat for additional scraped topics from wolfram math world"
      ],
      "metadata": {
        "id": "gGLUyYfVdPoV"
      },
      "execution_count": null,
      "outputs": []
    },
    {
      "cell_type": "code",
      "source": [
        "# Load topics\n",
        "dict_file = \"topics.pkl\"\n",
        "topics = read_pickle(dict_file)\n",
        "\n",
        "# Load sub_topics\n",
        "dict_file = \"sub_topics.pkl\"\n",
        "sub_topics = read_pickle(dict_file)\n",
        "\n",
        "# Load alg_2\n",
        "dict_file = \"alg_2.pkl\"\n",
        "alg_2 = read_pickle(dict_file)\n",
        "\n",
        "# Load alg_3\n",
        "dict_file = \"alg_3.pkl\"\n",
        "alg_3 = read_pickle(dict_file)"
      ],
      "metadata": {
        "id": "mSwihIfWJcpC"
      },
      "execution_count": null,
      "outputs": []
    },
    {
      "cell_type": "code",
      "source": [
        "scraped_subj_list = []\n",
        "for key, value in topics.items():\n",
        "  scraped_subj_list.append(key)\n",
        "  scraped_subj_list.extend(value)\n",
        "\n",
        "for key, value in sub_topics.items():\n",
        "  key = split_camel_case(key)\n",
        "  scraped_subj_list.append(key)\n",
        "  scraped_subj_list.extend(value)\n",
        "\n",
        "for key, value in alg_2.items():\n",
        "  scraped_subj_list.append(key)\n",
        "  scraped_subj_list.extend(value)\n",
        "\n",
        "for key, value in alg_3.items():\n",
        "  scraped_subj_list.append(key)\n",
        "  scraped_subj_list.extend(value)\n",
        "\n",
        "scraped_subj_list = list(set(scraped_subj_list))\n",
        "scraped_subj_list = [x.replace(\" \", \"_\") for x in scraped_subj_list]"
      ],
      "metadata": {
        "id": "XsubHKFTd58Y"
      },
      "execution_count": null,
      "outputs": []
    },
    {
      "cell_type": "code",
      "source": [
        "scraped_wikidata_dict = load_or_create_dict(\"wolfram_wikidata_api.pkl\", get_wikidata_subject_info, scraped_subj_list)\n",
        "\n",
        "print(f\"dictionary length: {len(scraped_wikidata_dict)}\")\n",
        "random_pairs = random.sample(list(scraped_wikidata_dict.items()), 5)\n",
        "\n",
        "for key, value in random_pairs:\n",
        "  print(f\"{key}:\\n{value}\")"
      ],
      "metadata": {
        "colab": {
          "base_uri": "https://localhost:8080/"
        },
        "id": "I8LNuEdpgibC",
        "outputId": "84c29c07-e422-4af5-dcf5-33f3f4ce03aa"
      },
      "execution_count": null,
      "outputs": [
        {
          "output_type": "stream",
          "name": "stdout",
          "text": [
            "dictionary length: 3227\n",
            "Integral_Element:\n",
            "[{'id': 'Q1493740', 'title': 'Q1493740', 'pageid': 1431393, 'concepturi': 'http://www.wikidata.org/entity/Q1493740', 'repository': 'wikidata', 'url': '//www.wikidata.org/wiki/Q1493740', 'display': {'label': {'value': 'integral element', 'language': 'en'}, 'description': {'value': 'Mathematical element', 'language': 'en'}}, 'label': 'integral element', 'description': 'Mathematical element', 'match': {'type': 'label', 'language': 'en', 'text': 'integral element'}}]\n",
            "Integrally_Closed:\n",
            "[{'id': 'Q6042740', 'title': 'Q6042740', 'pageid': 5827375, 'concepturi': 'http://www.wikidata.org/entity/Q6042740', 'repository': 'wikidata', 'url': '//www.wikidata.org/wiki/Q6042740', 'display': {'label': {'value': 'integrally closed', 'language': 'en'}, 'description': {'value': 'Wikimedia disambiguation page', 'language': 'en'}}, 'label': 'integrally closed', 'description': 'Wikimedia disambiguation page', 'match': {'type': 'label', 'language': 'en', 'text': 'integrally closed'}}, {'id': 'Q2851427', 'title': 'Q2851427', 'pageid': 2730757, 'concepturi': 'http://www.wikidata.org/entity/Q2851427', 'repository': 'wikidata', 'url': '//www.wikidata.org/wiki/Q2851427', 'display': {'label': {'value': 'integrally closed domain', 'language': 'en'}, 'description': {'value': 'mathematical concept', 'language': 'en'}}, 'label': 'integrally closed domain', 'description': 'mathematical concept', 'match': {'type': 'label', 'language': 'en', 'text': 'integrally closed domain'}}, {'id': 'Q60795856', 'title': 'Q60795856', 'pageid': 60651092, 'concepturi': 'http://www.wikidata.org/entity/Q60795856', 'repository': 'wikidata', 'url': '//www.wikidata.org/wiki/Q60795856', 'display': {'label': {'value': 'integrally closed ordered group', 'language': 'en'}}, 'label': 'integrally closed ordered group', 'match': {'type': 'label', 'language': 'en', 'text': 'integrally closed ordered group'}}, {'id': 'Q126795942', 'title': 'Q126795942', 'pageid': 120805898, 'concepturi': 'http://www.wikidata.org/entity/Q126795942', 'repository': 'wikidata', 'url': '//www.wikidata.org/wiki/Q126795942', 'display': {'label': {'value': 'Integrally Closed Residuated Lattices', 'language': 'en'}, 'description': {'value': 'scholarly article', 'language': 'en'}}, 'label': 'Integrally Closed Residuated Lattices', 'description': 'scholarly article', 'match': {'type': 'label', 'language': 'en', 'text': 'Integrally Closed Residuated Lattices'}}]\n",
            "Busemann-Petty_Problem:\n",
            "[{'id': 'Q127985956', 'title': 'Q127985956', 'pageid': 121969752, 'concepturi': 'http://www.wikidata.org/entity/Q127985956', 'repository': 'wikidata', 'url': '//www.wikidata.org/wiki/Q127985956', 'display': {'label': {'value': 'Busemann-Petty problem for the i-th radial Blaschke-Minkowski homomorphisms', 'language': 'en'}, 'description': {'value': 'scholarly article', 'language': 'en'}}, 'label': 'Busemann-Petty problem for the i-th radial Blaschke-Minkowski homomorphisms', 'description': 'scholarly article', 'match': {'type': 'label', 'language': 'en', 'text': 'Busemann-Petty problem for the i-th radial Blaschke-Minkowski homomorphisms'}}, {'id': 'Q126307198', 'title': 'Q126307198', 'pageid': 120334082, 'concepturi': 'http://www.wikidata.org/entity/Q126307198', 'repository': 'wikidata', 'url': '//www.wikidata.org/wiki/Q126307198', 'display': {'label': {'value': 'Busemann-Petty problems for L_p mixed intersection bodies', 'language': 'en'}, 'description': {'value': 'scholarly article', 'language': 'en'}}, 'label': 'Busemann-Petty problems for L_p mixed intersection bodies', 'description': 'scholarly article', 'match': {'type': 'label', 'language': 'en', 'text': 'Busemann-Petty problems for L_p mixed intersection bodies'}}]\n",
            "Circumcenter_of_Mass:\n",
            "[{'id': 'Q25303866', 'title': 'Q25303866', 'pageid': 27257010, 'concepturi': 'http://www.wikidata.org/entity/Q25303866', 'repository': 'wikidata', 'url': '//www.wikidata.org/wiki/Q25303866', 'display': {'label': {'value': 'Circumcenter of mass', 'language': 'en'}}, 'label': 'Circumcenter of mass', 'match': {'type': 'label', 'language': 'en', 'text': 'Circumcenter of mass'}}, {'id': 'Q56158054', 'title': 'Q56158054', 'pageid': 56101223, 'concepturi': 'http://www.wikidata.org/entity/Q56158054', 'repository': 'wikidata', 'url': '//www.wikidata.org/wiki/Q56158054', 'display': {'label': {'value': 'Circumcenter of Mass and Generalized Euler Line', 'language': 'en'}}, 'label': 'Circumcenter of Mass and Generalized Euler Line', 'match': {'type': 'label', 'language': 'en', 'text': 'Circumcenter of Mass and Generalized Euler Line'}}]\n",
            "Dissection:\n",
            "[{'id': 'Q116646', 'title': 'Q116646', 'pageid': 119183, 'concepturi': 'http://www.wikidata.org/entity/Q116646', 'repository': 'wikidata', 'url': '//www.wikidata.org/wiki/Q116646', 'display': {'label': {'value': 'dissection', 'language': 'en'}, 'description': {'value': 'cutting procedure used in anatomy', 'language': 'en'}}, 'label': 'dissection', 'description': 'cutting procedure used in anatomy', 'match': {'type': 'label', 'language': 'en', 'text': 'dissection'}}, {'id': 'Q1145479', 'title': 'Q1145479', 'pageid': 1092072, 'concepturi': 'http://www.wikidata.org/entity/Q1145479', 'repository': 'wikidata', 'url': '//www.wikidata.org/wiki/Q1145479', 'display': {'label': {'value': 'Dissection', 'language': 'en'}, 'description': {'value': 'Swedish extreme metal band', 'language': 'en'}}, 'label': 'Dissection', 'description': 'Swedish extreme metal band', 'match': {'type': 'label', 'language': 'en', 'text': 'Dissection'}}, {'id': 'Q2660911', 'title': 'Q2660911', 'pageid': 2564248, 'concepturi': 'http://www.wikidata.org/entity/Q2660911', 'repository': 'wikidata', 'url': '//www.wikidata.org/wiki/Q2660911', 'display': {'label': {'value': 'dissection', 'language': 'en'}, 'description': {'value': 'tear within the wall of a blood vessel', 'language': 'en'}}, 'label': 'dissection', 'description': 'tear within the wall of a blood vessel', 'match': {'type': 'label', 'language': 'en', 'text': 'dissection'}}, {'id': 'Q1584293', 'title': 'Q1584293', 'pageid': 1520012, 'concepturi': 'http://www.wikidata.org/entity/Q1584293', 'repository': 'wikidata', 'url': '//www.wikidata.org/wiki/Q1584293', 'display': {'label': {'value': 'dissected plateau', 'language': 'en'}, 'description': {'value': 'plateau area that has been severely eroded so that the relief is sharp', 'language': 'en'}}, 'label': 'dissected plateau', 'description': 'plateau area that has been severely eroded so that the relief is sharp', 'match': {'type': 'alias', 'language': 'en', 'text': 'Dissection'}, 'aliases': ['Dissection']}, {'id': 'Q3030636', 'title': 'Q3030636', 'pageid': 2897303, 'concepturi': 'http://www.wikidata.org/entity/Q3030636', 'repository': 'wikidata', 'url': '//www.wikidata.org/wiki/Q3030636', 'display': {'label': {'value': 'carotid artery dissection', 'language': 'en'}, 'description': {'value': 'Human disease', 'language': 'en'}}, 'label': 'carotid artery dissection', 'description': 'Human disease', 'match': {'type': 'alias', 'language': 'en', 'text': 'Dissection of carotid artery'}, 'aliases': ['Dissection of carotid artery']}, {'id': 'Q56057483', 'title': 'Q56057483', 'pageid': 56003347, 'concepturi': 'http://www.wikidata.org/entity/Q56057483', 'repository': 'wikidata', 'url': '//www.wikidata.org/wiki/Q56057483', 'display': {'label': {'value': 'Dissection', 'language': 'en'}, 'description': {'value': 'Quebec city Thrash Metal band', 'language': 'en'}}, 'label': 'Dissection', 'description': 'Quebec city Thrash Metal band', 'match': {'type': 'label', 'language': 'en', 'text': 'Dissection'}}, {'id': 'Q3710296', 'title': 'Q3710296', 'pageid': 3536219, 'concepturi': 'http://www.wikidata.org/entity/Q3710296', 'repository': 'wikidata', 'url': '//www.wikidata.org/wiki/Q3710296', 'display': {'label': {'value': 'Dissection', 'language': 'en'}, 'description': {'value': 'music album', 'language': 'en'}}, 'label': 'Dissection', 'description': 'music album', 'match': {'type': 'label', 'language': 'en', 'text': 'Dissection'}}]\n"
          ]
        }
      ]
    },
    {
      "cell_type": "code",
      "source": [
        "scraped_wolfram_alpha_dict = load_or_create_dict(\"wolfram_short_ans_api.pkl\", get_wolfram_alpha_subject_info, scraped_subj_list)\n",
        "\n",
        "print(f\"dictionary length: {len(scraped_wolfram_alpha_dict)}\")\n",
        "random_pairs = random.sample(list(scraped_wolfram_alpha_dict.items()), 5)\n",
        "\n",
        "for key, value in random_pairs:\n",
        "  print(f\"{key}:\\n{value}\")"
      ],
      "metadata": {
        "colab": {
          "base_uri": "https://localhost:8080/"
        },
        "id": "_qHQqJRZmRcY",
        "outputId": "b56adfe7-a0e3-49b4-946d-e3e4c9080b2b"
      },
      "execution_count": null,
      "outputs": [
        {
          "output_type": "stream",
          "name": "stdout",
          "text": [
            "dictionary length: 5026\n",
            "Lochs'_Theorem:\n",
            "For a real number x∈(0,1), let m be the number of terms in the convergent to a regular continued fraction that are required to represent n decimal places of x.  Then for almost all x, lim_n->∞m/n equals 6ln2ln10/π^2 equals 0.97027014…(OEIS A086819; Lochs 1964).  This number is sometimes known as Lochs’ constant.  Therefore, the regular continued fraction is only slightly more efficient at representing real numbers than is the decimal expansion.  The set of x for which this statement does not hold is of measure 0\n",
            "Cube_Dovetailing_Problem:\n",
            "Given the above figure (without looking at the figure below!), determine how to disengage the two slotted cube halves without cutting, breaking, or distorting.  One possible solution is shown above; the slots are not perpendicular to one another but instead consist of parallel slotted tracks.  Other solutions are also possible.  For example, another construction involves two circular arcs sharing the same center\n",
            "Far-Out_Point:\n",
            "The far‐out point F of a triangle ΔABC is the inverse point of the triangle centroid with respect to the circumcircle of ΔABC.  For a triangle with side lengths a, b, and c, the far‐out point has triangle center function α equals a(b^4+c^4-a^4-b^2c^2).  As a:b:c approaches 1:1:1, this point moves out along the Euler line to infinity\n",
            "Maximally_Linearly_Independent:\n",
            "A set of vectors is maximally linearly independent if including any other vector in the vector space would make it linearly dependent (that is, if any other vector in the space can be expressed as a linear combination of elements of a maximal set—the basis)\n",
            "Logarithmic_Singularity:\n",
            "A logarithmic singularity is a singularity of an analytic function whose main z‐dependent term is of order O(lnz).  An example is the singularity of the Bessel function of the second kind Y_0(z)∼2γ/π+2/πln(1/2z)+… at z equals 0 (where γ is the Euler‐Mascheroni constant), plotted above along the real axis, where Y_0(z) is shown in red and the constant and logarithmic terms shown in blue.  Singularities with leading term consisting of nested logarithms, e.g., lnlnlnz, are also considered logarithmic\n"
          ]
        }
      ]
    }
  ]
}
