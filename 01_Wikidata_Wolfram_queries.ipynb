{
  "nbformat": 4,
  "nbformat_minor": 0,
  "metadata": {
    "colab": {
      "provenance": [],
      "authorship_tag": "ABX9TyOH1n7d4v8YTd0kh9e/G51J",
      "include_colab_link": true
    },
    "kernelspec": {
      "name": "python3",
      "display_name": "Python 3"
    },
    "language_info": {
      "name": "python"
    }
  },
  "cells": [
    {
      "cell_type": "markdown",
      "metadata": {
        "id": "view-in-github",
        "colab_type": "text"
      },
      "source": [
        "<a href=\"https://colab.research.google.com/github/HeatherDriver/MathGraph/blob/main/01_Wikidata_Wolfram_queries.ipynb\" target=\"_parent\"><img src=\"https://colab.research.google.com/assets/colab-badge.svg\" alt=\"Open In Colab\"/></a>"
      ]
    },
    {
      "cell_type": "code",
      "execution_count": null,
      "metadata": {
        "id": "-PHfH_Q7W7M6"
      },
      "outputs": [],
      "source": [
        "from google.colab import drive, userdata\n",
        "import requests\n",
        "import pickle\n",
        "import pprint\n",
        "import random\n",
        "import re"
      ]
    },
    {
      "cell_type": "code",
      "source": [
        "drive.mount(\"/content/drive\")\n",
        "%cd '/content/drive/MyDrive/Colab Notebooks/Math_Graph/pickle_files'\n",
        "\n",
        "# Get API key\n",
        "wolfram = userdata.get('Wolfram_alpha')"
      ],
      "metadata": {
        "colab": {
          "base_uri": "https://localhost:8080/"
        },
        "id": "GsqTV5pPGakk",
        "outputId": "94135fa7-6999-4758-85da-db8337619670"
      },
      "execution_count": null,
      "outputs": [
        {
          "output_type": "stream",
          "name": "stdout",
          "text": [
            "Mounted at /content/drive\n",
            "/content/drive/MyDrive/Colab Notebooks/Math_Graph/pickle_files\n"
          ]
        }
      ]
    },
    {
      "cell_type": "code",
      "source": [
        "def read_pickle(file_name):\n",
        "  with open(file_name, 'rb') as file:\n",
        "    data = pickle.load(file)\n",
        "  return data"
      ],
      "metadata": {
        "id": "FGsww41hI0wp"
      },
      "execution_count": null,
      "outputs": []
    },
    {
      "cell_type": "code",
      "source": [
        "# Load mizar_subjects\n",
        "dict_file = \"mizar_subjects.pkl\"\n",
        "mizar_subj_list = read_pickle(dict_file)"
      ],
      "metadata": {
        "id": "yqmRjJN3GjT3"
      },
      "execution_count": null,
      "outputs": []
    },
    {
      "cell_type": "code",
      "source": [
        "def get_wikidata_subject_info(entity_name, subject_dict):\n",
        "  \"\"\"Retrieves data from Wikidata API\"\"\"\n",
        "  # Construct Wikidata API URL call\n",
        "  url = f\"https://www.wikidata.org/w/api.php?action=wbsearchentities&search={entity_name}&language=en&format=json\"\n",
        "\n",
        "  # Send a GET request to Wikidata API\n",
        "  response = requests.get(url)\n",
        "\n",
        "  # If search was successful, extract results\n",
        "  if response.status_code == 200:\n",
        "    search_results = response.json().get(\"search\")\n",
        "    if search_results:\n",
        "      subject_dict.update({entity_name : search_results})\n",
        "    else:\n",
        "      print(f\"No results found for {entity_name}\")\n",
        "  return subject_dict"
      ],
      "metadata": {
        "id": "3n3o76WBpyni"
      },
      "execution_count": null,
      "outputs": []
    },
    {
      "cell_type": "code",
      "source": [
        "def load_or_create_dict(subject_dict_name, function_to_run, subj_list):\n",
        "  \"\"\"If pickle file not in existence, create via running appropriate API function\"\"\"\n",
        "\n",
        "  try:\n",
        "    subject_dict = read_pickle(subject_dict_name)\n",
        "\n",
        "  except FileNotFoundError:\n",
        "    print(f\"{subject_dict_name} not found, creating {subject_dict_name}...\")\n",
        "    subject_dict = dict()\n",
        "    for entity_name in subj_list:\n",
        "      subject_dict = function_to_run(entity_name, subject_dict)\n",
        "\n",
        "    with open(subject_dict_name, 'wb') as file:\n",
        "      pickle.dump(subject_dict, file)\n",
        "\n",
        "  return subject_dict"
      ],
      "metadata": {
        "id": "GN6pG8QXKXpa"
      },
      "execution_count": null,
      "outputs": []
    },
    {
      "cell_type": "code",
      "source": [
        "def split_camel_case(text):\n",
        "    # Use regex to insert a space before uppercase letters preceded by lowercase letters\n",
        "    return re.sub(r'(?<=[a-z])(?=[A-Z])', ' ', text)"
      ],
      "metadata": {
        "id": "m9wKziwaHdeL"
      },
      "execution_count": null,
      "outputs": []
    },
    {
      "cell_type": "code",
      "source": [
        "mizar_wikidata_dict = load_or_create_dict(\"mizar_wikidata_api.pkl\", get_wikidata_subject_info, mizar_subj_list)\n",
        "\n",
        "print(f\"dictionary length: {len(mizar_wikidata_dict)}\")\n",
        "random_pairs = random.sample(list(mizar_wikidata_dict.items()), 5)\n",
        "\n",
        "for key, value in random_pairs:\n",
        "  print(f\"{key}:\\n{value}\")"
      ],
      "metadata": {
        "id": "D0okF6D-LVe6",
        "colab": {
          "base_uri": "https://localhost:8080/"
        },
        "outputId": "a31f0e9b-2716-417c-ef16-33cfc1502e83"
      },
      "execution_count": null,
      "outputs": [
        {
          "output_type": "stream",
          "name": "stdout",
          "text": [
            "dictionary length: 96\n",
            "Pell's_equation:\n",
            "[{'id': 'Q853067', 'title': 'Q853067', 'pageid': 804878, 'concepturi': 'http://www.wikidata.org/entity/Q853067', 'repository': 'wikidata', 'url': '//www.wikidata.org/wiki/Q853067', 'display': {'label': {'value': \"Pell's equation\", 'language': 'en'}, 'description': {'value': 'mathematical equation, specifically a kind of Diophantine equation', 'language': 'en'}}, 'label': \"Pell's equation\", 'description': 'mathematical equation, specifically a kind of Diophantine equation', 'match': {'type': 'label', 'language': 'en', 'text': \"Pell's equation\"}}, {'id': 'Q128057376', 'title': 'Q128057376', 'pageid': 122040493, 'concepturi': 'http://www.wikidata.org/entity/Q128057376', 'repository': 'wikidata', 'url': '//www.wikidata.org/wiki/Q128057376', 'display': {'label': {'value': 'PELL’S EQUATIONS IN GAUSSIAN INTEGERS', 'language': 'en'}, 'description': {'value': 'scholarly article', 'language': 'en'}}, 'label': 'PELL’S EQUATIONS IN GAUSSIAN INTEGERS', 'description': 'scholarly article', 'match': {'type': 'label', 'language': 'en', 'text': 'PELL’S EQUATIONS IN GAUSSIAN INTEGERS'}}]\n",
            "Sequence:\n",
            "[{'id': 'Q20937557', 'title': 'Q20937557', 'pageid': 22989682, 'concepturi': 'http://www.wikidata.org/entity/Q20937557', 'repository': 'wikidata', 'url': '//www.wikidata.org/wiki/Q20937557', 'display': {'label': {'value': 'sequence', 'language': 'en'}, 'description': {'value': 'countable ordered set of similar objects', 'language': 'en'}}, 'label': 'sequence', 'description': 'countable ordered set of similar objects', 'match': {'type': 'label', 'language': 'en', 'text': 'sequence'}}, {'id': 'Q81204096', 'title': 'Q81204096', 'pageid': 80569996, 'concepturi': 'http://www.wikidata.org/entity/Q81204096', 'repository': 'wikidata', 'url': '//www.wikidata.org/wiki/Q81204096', 'display': {'label': {'value': 'inferred from timeline of events', 'language': 'en'}, 'description': {'value': 'heuristic for sourcing Wikidata statements from known dates of other events which occurred before or after this event', 'language': 'en'}}, 'label': 'inferred from timeline of events', 'description': 'heuristic for sourcing Wikidata statements from known dates of other events which occurred before or after this event', 'match': {'type': 'alias', 'language': 'en', 'text': 'sequence of events as a heuristic'}, 'aliases': ['sequence of events as a heuristic']}, {'id': 'Q133250', 'title': 'Q133250', 'pageid': 135022, 'concepturi': 'http://www.wikidata.org/entity/Q133250', 'repository': 'wikidata', 'url': '//www.wikidata.org/wiki/Q133250', 'display': {'label': {'value': 'sequence', 'language': 'en'}, 'description': {'value': 'ordered list of the same type of elements (finite or infinite)', 'language': 'en'}}, 'label': 'sequence', 'description': 'ordered list of the same type of elements (finite or infinite)', 'match': {'type': 'label', 'language': 'en', 'text': 'sequence'}}, {'id': 'Q14817979', 'title': 'Q14817979', 'pageid': 16486977, 'concepturi': 'http://www.wikidata.org/entity/Q14817979', 'repository': 'wikidata', 'url': '//www.wikidata.org/wiki/Q14817979', 'display': {'label': {'value': 'DNA-binding transcription factor activity', 'language': 'en'}, 'description': {'value': 'protein or a member of a complex that interacts selectively and non-covalently with a specific DNA sequence (sometimes referred to as a motif) within the regulatory region of a gene to modulate transcription', 'language': 'en'}}, 'label': 'DNA-binding transcription factor activity', 'description': 'protein or a member of a complex that interacts selectively and non-covalently with a specific DNA sequence (sometimes referred to as a motif) within the regulatory region of a gene to modulate transcription', 'match': {'type': 'alias', 'language': 'en', 'text': 'sequence-specific DNA binding transcription factor activity'}, 'aliases': ['sequence-specific DNA binding transcription factor activity']}, {'id': 'Q27948', 'title': 'Q27948', 'pageid': 31341, 'concepturi': 'http://www.wikidata.org/entity/Q27948', 'repository': 'wikidata', 'url': '//www.wikidata.org/wiki/Q27948', 'display': {'label': {'value': 'list', 'language': 'en'}, 'description': {'value': 'abstract data type used in computer science', 'language': 'en'}}, 'label': 'list', 'description': 'abstract data type used in computer science', 'match': {'type': 'alias', 'language': 'en', 'text': 'sequence'}, 'aliases': ['sequence']}, {'id': 'Q2542347', 'title': 'Q2542347', 'pageid': 2453571, 'concepturi': 'http://www.wikidata.org/entity/Q2542347', 'repository': 'wikidata', 'url': '//www.wikidata.org/wiki/Q2542347', 'display': {'label': {'value': 'RNA sequencing', 'language': 'en'}, 'description': {'value': 'process of cloning, physical mapping, subcloning, sequencing, and information analysis of an RNA sequence', 'language': 'en'}}, 'label': 'RNA sequencing', 'description': 'process of cloning, physical mapping, subcloning, sequencing, and information analysis of an RNA sequence', 'match': {'type': 'alias', 'language': 'en', 'text': 'Sequence Analysis, RNA'}, 'aliases': ['Sequence Analysis, RNA']}, {'id': 'Q14818107', 'title': 'Q14818107', 'pageid': 16487106, 'concepturi': 'http://www.wikidata.org/entity/Q14818107', 'repository': 'wikidata', 'url': '//www.wikidata.org/wiki/Q14818107', 'display': {'label': {'value': 'sequence-specific DNA binding', 'language': 'en'}, 'description': {'value': 'Interacting selectively and non-covalently with DNA of a specific nucleotide composition, e.g. GC-rich DNA binding, or with a specific sequence motif or type of DNA e.g. promotor binding or rDNA binding.', 'language': 'en'}}, 'label': 'sequence-specific DNA binding', 'description': 'Interacting selectively and non-covalently with DNA of a specific nucleotide composition, e.g. GC-rich DNA binding, or with a specific sequence motif or type of DNA e.g. promotor binding or rDNA binding.', 'match': {'type': 'label', 'language': 'en', 'text': 'sequence-specific DNA binding'}}]\n",
            "Derangement:\n",
            "[{'id': 'Q1207920', 'title': 'Q1207920', 'pageid': 1150391, 'concepturi': 'http://www.wikidata.org/entity/Q1207920', 'repository': 'wikidata', 'url': '//www.wikidata.org/wiki/Q1207920', 'display': {'label': {'value': 'derangement', 'language': 'en'}, 'description': {'value': 'permutation of a set which leaves no member in its original place', 'language': 'en'}}, 'label': 'derangement', 'description': 'permutation of a set which leaves no member in its original place', 'match': {'type': 'label', 'language': 'en', 'text': 'derangement'}}, {'id': 'Q35573513', 'title': 'Q35573513', 'pageid': 36969656, 'concepturi': 'http://www.wikidata.org/entity/Q35573513', 'repository': 'wikidata', 'url': '//www.wikidata.org/wiki/Q35573513', 'display': {'label': {'value': 'Derangement of immune responses by myeloid suppressor cells', 'language': 'en'}, 'description': {'value': 'scientific article published on October 30, 2003', 'language': 'en'}}, 'label': 'Derangement of immune responses by myeloid suppressor cells', 'description': 'scientific article published on October 30, 2003', 'match': {'type': 'label', 'language': 'en', 'text': 'Derangement of immune responses by myeloid suppressor cells'}}, {'id': 'Q44396214', 'title': 'Q44396214', 'pageid': 45589946, 'concepturi': 'http://www.wikidata.org/entity/Q44396214', 'repository': 'wikidata', 'url': '//www.wikidata.org/wiki/Q44396214', 'display': {'label': {'value': 'Derangements of hippocampal calcium/calmodulin-dependent protein kinase II in a mouse model for Angelman mental retardation syndrome.', 'language': 'en'}, 'description': {'value': 'scientific article published in April 2003', 'language': 'en'}}, 'label': 'Derangements of hippocampal calcium/calmodulin-dependent protein kinase II in a mouse model for Angelman mental retardation syndrome.', 'description': 'scientific article published in April 2003', 'match': {'type': 'label', 'language': 'en', 'text': 'Derangements of hippocampal calcium/calmodulin-dependent protein kinase II in a mouse model for Angelman mental retardation syndrome.'}}, {'id': 'Q40865699', 'title': 'Q40865699', 'pageid': 42198230, 'concepturi': 'http://www.wikidata.org/entity/Q40865699', 'repository': 'wikidata', 'url': '//www.wikidata.org/wiki/Q40865699', 'display': {'label': {'value': 'Derangements of coagulation and fibrinolysis in critically ill patients with sepsis and septic shock', 'language': 'en'}, 'description': {'value': 'scientific article published on January 1998', 'language': 'en'}}, 'label': 'Derangements of coagulation and fibrinolysis in critically ill patients with sepsis and septic shock', 'description': 'scientific article published on January 1998', 'match': {'type': 'label', 'language': 'en', 'text': 'Derangements of coagulation and fibrinolysis in critically ill patients with sepsis and septic shock'}}, {'id': 'Q79800545', 'title': 'Q79800545', 'pageid': 79212719, 'concepturi': 'http://www.wikidata.org/entity/Q79800545', 'repository': 'wikidata', 'url': '//www.wikidata.org/wiki/Q79800545', 'display': {'label': {'value': 'Derangements in mitochondrial metabolism in intercostal and leg muscle of critically ill patients with sepsis-induced multiple organ failure', 'language': 'en'}, 'description': {'value': 'scientific article published on 27 June 2006', 'language': 'en'}}, 'label': 'Derangements in mitochondrial metabolism in intercostal and leg muscle of critically ill patients with sepsis-induced multiple organ failure', 'description': 'scientific article published on 27 June 2006', 'match': {'type': 'label', 'language': 'en', 'text': 'Derangements in mitochondrial metabolism in intercostal and leg muscle of critically ill patients with sepsis-induced multiple organ failure'}}, {'id': 'Q78054433', 'title': 'Q78054433', 'pageid': 77511964, 'concepturi': 'http://www.wikidata.org/entity/Q78054433', 'repository': 'wikidata', 'url': '//www.wikidata.org/wiki/Q78054433', 'display': {'label': {'value': \"Derangements of immunoglobulin levels, phytohemagglutinin responsiveness and T and B cell markers in Down's syndrome at different ages\", 'language': 'en'}, 'description': {'value': 'scientific article published on 01 September 1975', 'language': 'en'}}, 'label': \"Derangements of immunoglobulin levels, phytohemagglutinin responsiveness and T and B cell markers in Down's syndrome at different ages\", 'description': 'scientific article published on 01 September 1975', 'match': {'type': 'label', 'language': 'en', 'text': \"Derangements of immunoglobulin levels, phytohemagglutinin responsiveness and T and B cell markers in Down's syndrome at different ages\"}}, {'id': 'Q18648707', 'title': 'Q18648707', 'pageid': 20179304, 'concepturi': 'http://www.wikidata.org/entity/Q18648707', 'repository': 'wikidata', 'url': '//www.wikidata.org/wiki/Q18648707', 'display': {'label': {'value': 'internal derangement', 'language': 'en'}, 'description': {'value': 'Disruption of the normal architecture of the joint', 'language': 'en'}}, 'label': 'internal derangement', 'description': 'Disruption of the normal architecture of the joint', 'match': {'type': 'label', 'language': 'fr', 'text': 'dérangement articulaire interne'}, 'aliases': ['dérangement articulaire interne']}]\n",
            "Arithmetic_progression:\n",
            "[{'id': 'Q170008', 'title': 'Q170008', 'pageid': 170388, 'concepturi': 'http://www.wikidata.org/entity/Q170008', 'repository': 'wikidata', 'url': '//www.wikidata.org/wiki/Q170008', 'display': {'label': {'value': 'arithmetic progression', 'language': 'en'}, 'description': {'value': 'sequence of numbers with constant differences between consecutive numbers', 'language': 'en'}}, 'label': 'arithmetic progression', 'description': 'sequence of numbers with constant differences between consecutive numbers', 'match': {'type': 'label', 'language': 'en', 'text': 'arithmetic progression'}}, {'id': 'Q60791353', 'title': 'Q60791353', 'pageid': 60646615, 'concepturi': 'http://www.wikidata.org/entity/Q60791353', 'repository': 'wikidata', 'url': '//www.wikidata.org/wiki/Q60791353', 'display': {'label': {'value': 'Arithmetic progression game', 'language': 'en'}, 'description': {'value': 'positional game', 'language': 'en'}}, 'label': 'Arithmetic progression game', 'description': 'positional game', 'match': {'type': 'label', 'language': 'en', 'text': 'Arithmetic progression game'}}, {'id': 'Q97694931', 'title': 'Q97694931', 'pageid': 96078858, 'concepturi': 'http://www.wikidata.org/entity/Q97694931', 'repository': 'wikidata', 'url': '//www.wikidata.org/wiki/Q97694931', 'display': {'label': {'value': 'Arithmetic progressions of length three in subsets of a random set', 'language': 'en'}, 'description': {'value': 'scientific article published in 1996', 'language': 'en'}}, 'label': 'Arithmetic progressions of length three in subsets of a random set', 'description': 'scientific article published in 1996', 'match': {'type': 'label', 'language': 'en', 'text': 'Arithmetic progressions of length three in subsets of a random set'}}, {'id': 'Q56688903', 'title': 'Q56688903', 'pageid': 56629333, 'concepturi': 'http://www.wikidata.org/entity/Q56688903', 'repository': 'wikidata', 'url': '//www.wikidata.org/wiki/Q56688903', 'display': {'label': {'value': 'Arithmetic progressions in sumsets', 'language': 'en'}}, 'label': 'Arithmetic progressions in sumsets', 'match': {'type': 'label', 'language': 'en', 'text': 'Arithmetic progressions in sumsets'}}, {'id': 'Q130048501', 'title': 'Q130048501', 'pageid': 124015771, 'concepturi': 'http://www.wikidata.org/entity/Q130048501', 'repository': 'wikidata', 'url': '//www.wikidata.org/wiki/Q130048501', 'display': {'label': {'value': 'Arithmetic progressions in the least positive reduced residue systems', 'language': 'en'}, 'description': {'value': 'scholarly article published in September 2018', 'language': 'en'}}, 'label': 'Arithmetic progressions in the least positive reduced residue systems', 'description': 'scholarly article published in September 2018', 'match': {'type': 'label', 'language': 'en', 'text': 'Arithmetic progressions in the least positive reduced residue systems'}}, {'id': 'Q127918662', 'title': 'Q127918662', 'pageid': 121903505, 'concepturi': 'http://www.wikidata.org/entity/Q127918662', 'repository': 'wikidata', 'url': '//www.wikidata.org/wiki/Q127918662', 'display': {'label': {'value': 'Arithmetic progressions in binary quadratic forms and norm forms', 'language': 'en'}, 'description': {'value': 'scholarly article', 'language': 'en'}}, 'label': 'Arithmetic progressions in binary quadratic forms and norm forms', 'description': 'scholarly article', 'match': {'type': 'label', 'language': 'en', 'text': 'Arithmetic progressions in binary quadratic forms and norm forms'}}, {'id': 'Q115132679', 'title': 'Q115132679', 'pageid': 109769819, 'concepturi': 'http://www.wikidata.org/entity/Q115132679', 'repository': 'wikidata', 'url': '//www.wikidata.org/wiki/Q115132679', 'display': {'label': {'value': 'ARITHMETIC PROGRESSIONS ON CONIC SECTIONS', 'language': 'en'}, 'description': {'value': 'scientific article published in September 2013', 'language': 'en'}}, 'label': 'ARITHMETIC PROGRESSIONS ON CONIC SECTIONS', 'description': 'scientific article published in September 2013', 'match': {'type': 'label', 'language': 'en', 'text': 'ARITHMETIC PROGRESSIONS ON CONIC SECTIONS'}}]\n",
            "Knaster–Tarski_theorem:\n",
            "[{'id': 'Q609612', 'title': 'Q609612', 'pageid': 574013, 'concepturi': 'http://www.wikidata.org/entity/Q609612', 'repository': 'wikidata', 'url': '//www.wikidata.org/wiki/Q609612', 'display': {'label': {'value': 'Knaster–Tarski theorem', 'language': 'en'}, 'description': {'value': 'theorem', 'language': 'en'}}, 'label': 'Knaster–Tarski theorem', 'description': 'theorem', 'match': {'type': 'label', 'language': 'en', 'text': 'Knaster–Tarski theorem'}}]\n"
          ]
        }
      ]
    },
    {
      "cell_type": "code",
      "source": [
        "def get_wolfram_short_answer_query_name(entity_name):\n",
        "  \"\"\" Prepares the entity name for Wolfram API query: requires query to be prefixed 'What is ...'\"\"\"\n",
        "  entity_name_split = entity_name.split(\"_\")\n",
        "\n",
        "  if len(entity_name_split) > 2:\n",
        "    concatenated_subtext = '+'.join(entity_name_split[1:-1])\n",
        "    concatenated = f\"{entity_name_split[0]}+{concatenated_subtext}+{entity_name_split[-1]}\"\n",
        "  elif len(entity_name_split) == 2:\n",
        "    concatenated = f\"{entity_name_split[0]}+{entity_name_split[-1]}\"\n",
        "  else:\n",
        "    concatenated = f\"{entity_name_split[0]}\"\n",
        "\n",
        "  query_name = f\"What+is+{concatenated}%3f\"\n",
        "  return query_name\n",
        "\n",
        "def get_wolfram_alpha_subject_info(entity_name, subject_dict):\n",
        "  \"\"\" Retrieves data from Wolfram short answer API'\"\"\"\n",
        "  query_name = get_wolfram_short_answer_query_name(entity_name)\n",
        "\n",
        "  # # Construct WolframAlpha API call\n",
        "  url = f\"http://api.wolframalpha.com/v1/result?appid={wolfram}&i={query_name}\"\n",
        "\n",
        "  # Send a GET request to WolframAlpha API\n",
        "  response = requests.get(url)\n",
        "\n",
        "  # If search was successful, extract results\n",
        "  if response.status_code == 200:\n",
        "    search_results = response.text\n",
        "    if search_results:\n",
        "      subject_dict.update({entity_name : search_results})\n",
        "    else:\n",
        "      print(f\"No results found for {entity_name}\")\n",
        "  return subject_dict"
      ],
      "metadata": {
        "id": "vgJJci8aQa5E"
      },
      "execution_count": null,
      "outputs": []
    },
    {
      "cell_type": "code",
      "source": [
        "mizar_wolfram_alpha_dict = load_or_create_dict(\"mizar_short_ans_api.pkl\", get_wolfram_alpha_subject_info, mizar_subj_list)\n",
        "\n",
        "print(f\"dictionary length: {len(mizar_wolfram_alpha_dict)}\")\n",
        "random_pairs = random.sample(list(mizar_wolfram_alpha_dict.items()), 5)\n",
        "\n",
        "for key, value in random_pairs:\n",
        "  print(f\"{key}:\\n{value}\")"
      ],
      "metadata": {
        "id": "yv-cS--KJ5s9",
        "colab": {
          "base_uri": "https://localhost:8080/"
        },
        "outputId": "ba8825f3-3581-4c76-a5f8-0166937b13ca"
      },
      "execution_count": null,
      "outputs": [
        {
          "output_type": "stream",
          "name": "stdout",
          "text": [
            "dictionary length: 65\n",
            "Bertrand's_postulate:\n",
            "Bertrand's postulate posits that if n is greater than 3, then there is always at least one prime between n and two times n minus two\n",
            "Binomial_theorem:\n",
            "a theorem giving the expansion of a binomial raised to a given power\n",
            "Jordan_curve_theorem:\n",
            "If J is a simple closed curve in R^2, then the Jordan curve theorem, also called the Jordan‐Brouwer theorem states that R^2-J has two components (an inside and outside), with J the boundary of each.  The Jordan curve theorem is a standard result in algebraic topology with a rich history.  A complete proof can be found in Hatcher, or in classic texts such as Spanier.  Recently, a proof checker was used by a Japanese‐Polish team to create a computer‐checked proof of the theorem\n",
            "Subset:\n",
            "a set whose members are members of another set; a set contained within another set\n",
            "Fundamental_theorem_of_algebra:\n",
            "The fundamental theorem of algebra states that every polynomial equation having complex coefficients and degree greater than or equal to 1 has at least one complex root\n"
          ]
        }
      ]
    },
    {
      "cell_type": "code",
      "source": [
        "# Repeat for additional scraped topics from wolfram math world"
      ],
      "metadata": {
        "id": "gGLUyYfVdPoV"
      },
      "execution_count": null,
      "outputs": []
    },
    {
      "cell_type": "code",
      "source": [
        "# Load topics\n",
        "dict_file = \"topics.pkl\"\n",
        "topics = read_pickle(dict_file)\n",
        "\n",
        "# Load sub_topics\n",
        "dict_file = \"sub_topics.pkl\"\n",
        "sub_topics = read_pickle(dict_file)\n",
        "\n",
        "# Load alg_2\n",
        "dict_file = \"alg_2.pkl\"\n",
        "alg_2 = read_pickle(dict_file)\n",
        "\n",
        "# Load alg_3\n",
        "dict_file = \"alg_3.pkl\"\n",
        "alg_3 = read_pickle(dict_file)"
      ],
      "metadata": {
        "id": "mSwihIfWJcpC"
      },
      "execution_count": null,
      "outputs": []
    },
    {
      "cell_type": "code",
      "source": [
        "scraped_subj_list = []\n",
        "for key, value in topics.items():\n",
        "  scraped_subj_list.append(key)\n",
        "  scraped_subj_list.extend(value)\n",
        "\n",
        "for key, value in sub_topics.items():\n",
        "  key = split_camel_case(key)\n",
        "  scraped_subj_list.append(key)\n",
        "  scraped_subj_list.extend(value)\n",
        "\n",
        "for key, value in alg_2.items():\n",
        "  scraped_subj_list.append(key)\n",
        "  scraped_subj_list.extend(value)\n",
        "\n",
        "for key, value in alg_3.items():\n",
        "  scraped_subj_list.append(key)\n",
        "  scraped_subj_list.extend(value)\n",
        "\n",
        "scraped_subj_list = list(set(scraped_subj_list))\n",
        "scraped_subj_list = [x.replace(\" \", \"_\") for x in scraped_subj_list]"
      ],
      "metadata": {
        "id": "XsubHKFTd58Y"
      },
      "execution_count": null,
      "outputs": []
    },
    {
      "cell_type": "code",
      "source": [
        "scraped_wikidata_dict = load_or_create_dict(\"wolfram_wikidata_api.pkl\", get_wikidata_subject_info, scraped_subj_list)\n",
        "\n",
        "print(f\"dictionary length: {len(scraped_wikidata_dict)}\")\n",
        "random_pairs = random.sample(list(scraped_wikidata_dict.items()), 5)\n",
        "\n",
        "for key, value in random_pairs:\n",
        "  print(f\"{key}:\\n{value}\")"
      ],
      "metadata": {
        "colab": {
          "base_uri": "https://localhost:8080/"
        },
        "id": "I8LNuEdpgibC",
        "outputId": "3dbd70f4-695b-4ecb-a42d-45b7ddd22c73"
      },
      "execution_count": null,
      "outputs": [
        {
          "output_type": "stream",
          "name": "stdout",
          "text": [
            "dictionary length: 3227\n",
            "Row_Vector:\n",
            "[{'id': 'Q2916003', 'title': 'Q2916003', 'pageid': 2790383, 'concepturi': 'http://www.wikidata.org/entity/Q2916003', 'repository': 'wikidata', 'url': '//www.wikidata.org/wiki/Q2916003', 'display': {'label': {'value': 'row vector', 'language': 'en'}, 'description': {'value': '1 × n matrix in linear algebra', 'language': 'en'}}, 'label': 'row vector', 'description': '1 × n matrix in linear algebra', 'match': {'type': 'label', 'language': 'en', 'text': 'row vector'}}]\n",
            "Cesàro_Mean:\n",
            "[{'id': 'Q2045894', 'title': 'Q2045894', 'pageid': 1973519, 'concepturi': 'http://www.wikidata.org/entity/Q2045894', 'repository': 'wikidata', 'url': '//www.wikidata.org/wiki/Q2045894', 'display': {'label': {'value': 'Cesàro mean', 'language': 'en'}}, 'label': 'Cesàro mean', 'match': {'type': 'label', 'language': 'en', 'text': 'Cesàro mean'}}, {'id': 'Q98382962', 'title': 'Q98382962', 'pageid': 96598998, 'concepturi': 'http://www.wikidata.org/entity/Q98382962', 'repository': 'wikidata', 'url': '//www.wikidata.org/wiki/Q98382962', 'display': {'label': {'value': 'Cesàro mean distribution of group automata starting from measures with summable decay', 'language': 'en'}, 'description': {'value': \"journal article from 'Ergodic Theory and Dynamical Systems' published in 2000\", 'language': 'en'}}, 'label': 'Cesàro mean distribution of group automata starting from measures with summable decay', 'description': \"journal article from 'Ergodic Theory and Dynamical Systems' published in 2000\", 'match': {'type': 'label', 'language': 'en', 'text': 'Cesàro mean distribution of group automata starting from measures with summable decay'}}]\n",
            "Cyclotomic_Invariant:\n",
            "[{'id': 'Q56226425', 'title': 'Q56226425', 'pageid': 56167585, 'concepturi': 'http://www.wikidata.org/entity/Q56226425', 'repository': 'wikidata', 'url': '//www.wikidata.org/wiki/Q56226425', 'display': {'label': {'value': 'Cyclotomic Invariants for Primes Between 125000 and 150000', 'language': 'en'}}, 'label': 'Cyclotomic Invariants for Primes Between 125000 and 150000', 'match': {'type': 'label', 'language': 'en', 'text': 'Cyclotomic Invariants for Primes Between 125000 and 150000'}}, {'id': 'Q56226426', 'title': 'Q56226426', 'pageid': 56167586, 'concepturi': 'http://www.wikidata.org/entity/Q56226426', 'repository': 'wikidata', 'url': '//www.wikidata.org/wiki/Q56226426', 'display': {'label': {'value': 'Cyclotomic Invariants for Primes to One Million', 'language': 'en'}}, 'label': 'Cyclotomic Invariants for Primes to One Million', 'match': {'type': 'label', 'language': 'en', 'text': 'Cyclotomic Invariants for Primes to One Million'}}]\n",
            "Fredholm_Alternative:\n",
            "[{'id': 'Q657820', 'title': 'Q657820', 'pageid': 619149, 'concepturi': 'http://www.wikidata.org/entity/Q657820', 'repository': 'wikidata', 'url': '//www.wikidata.org/wiki/Q657820', 'display': {'label': {'value': 'Fredholm alternative', 'language': 'en'}, 'description': {'value': 'mathematical theorem', 'language': 'en'}}, 'label': 'Fredholm alternative', 'description': 'mathematical theorem', 'match': {'type': 'label', 'language': 'en', 'text': 'Fredholm alternative'}}, {'id': 'Q59319492', 'title': 'Q59319492', 'pageid': 59223983, 'concepturi': 'http://www.wikidata.org/entity/Q59319492', 'repository': 'wikidata', 'url': '//www.wikidata.org/wiki/Q59319492', 'display': {'label': {'value': 'Fredholm alternative for the second-order singular Dirichlet problem', 'language': 'en'}}, 'label': 'Fredholm alternative for the second-order singular Dirichlet problem', 'match': {'type': 'label', 'language': 'en', 'text': 'Fredholm alternative for the second-order singular Dirichlet problem'}}]\n",
            "Residual:\n",
            "[{'id': 'Q108502362', 'title': 'Q108502362', 'pageid': 103751402, 'concepturi': 'http://www.wikidata.org/entity/Q108502362', 'repository': 'wikidata', 'url': '//www.wikidata.org/wiki/Q108502362', 'display': {'label': {'value': 'Residual', 'language': 'en'}, 'description': {'value': '2021 video game', 'language': 'en'}}, 'label': 'Residual', 'description': '2021 video game', 'match': {'type': 'label', 'language': 'en', 'text': 'Residual'}}, {'id': 'Q287450', 'title': 'Q287450', 'pageid': 277881, 'concepturi': 'http://www.wikidata.org/entity/Q287450', 'repository': 'wikidata', 'url': '//www.wikidata.org/wiki/Q287450', 'display': {'label': {'value': 'residual', 'language': 'en'}, 'description': {'value': 'the function whose value in the n-th approximation by a numerical method is that of the well-posed problem in the couple consisting of the exact data and the n-th approximation', 'language': 'en'}}, 'label': 'residual', 'description': 'the function whose value in the n-th approximation by a numerical method is that of the well-posed problem in the couple consisting of the exact data and the n-th approximation', 'match': {'type': 'label', 'language': 'en', 'text': 'residual'}}, {'id': 'Q58833980', 'title': 'Q58833980', 'pageid': 58746063, 'concepturi': 'http://www.wikidata.org/entity/Q58833980', 'repository': 'wikidata', 'url': '//www.wikidata.org/wiki/Q58833980', 'display': {'label': {'value': 'residual neoplasm', 'language': 'en'}, 'description': {'value': 'neoplasm listed in Medical Subject Headings (MeSH)', 'language': 'en'}}, 'label': 'residual neoplasm', 'description': 'neoplasm listed in Medical Subject Headings (MeSH)', 'match': {'type': 'label', 'language': 'en', 'text': 'residual neoplasm'}}, {'id': 'Q43744058', 'title': 'Q43744058', 'pageid': 44952984, 'concepturi': 'http://www.wikidata.org/entity/Q43744058', 'repository': 'wikidata', 'url': '//www.wikidata.org/wiki/Q43744058', 'display': {'label': {'value': 'residual neural network', 'language': 'en'}, 'description': {'value': 'type of artificial neural network', 'language': 'en'}}, 'label': 'residual neural network', 'description': 'type of artificial neural network', 'match': {'type': 'label', 'language': 'en', 'text': 'residual neural network'}}, {'id': 'Q3208830', 'title': 'Q3208830', 'pageid': 3063860, 'concepturi': 'http://www.wikidata.org/entity/Q3208830', 'repository': 'wikidata', 'url': '//www.wikidata.org/wiki/Q3208830', 'display': {'label': {'value': 'residual schizophrenia', 'language': 'en'}, 'description': {'value': 'mental disorder, chronic stage in the development of a schizophrenic illness', 'language': 'en'}}, 'label': 'residual schizophrenia', 'description': 'mental disorder, chronic stage in the development of a schizophrenic illness', 'match': {'type': 'label', 'language': 'en', 'text': 'residual schizophrenia'}}, {'id': 'Q7315501', 'title': 'Q7315501', 'pageid': 7221142, 'concepturi': 'http://www.wikidata.org/entity/Q7315501', 'repository': 'wikidata', 'url': '//www.wikidata.org/wiki/Q7315501', 'display': {'label': {'value': 'residual', 'language': 'en'}, 'description': {'value': 'A form of financial compensation', 'language': 'en'}}, 'label': 'residual', 'description': 'A form of financial compensation', 'match': {'type': 'label', 'language': 'en', 'text': 'residual'}}, {'id': 'Q1147377', 'title': 'Q1147377', 'pageid': 1093940, 'concepturi': 'http://www.wikidata.org/entity/Q1147377', 'repository': 'wikidata', 'url': '//www.wikidata.org/wiki/Q1147377', 'display': {'label': {'value': 'muscle tone', 'language': 'en'}, 'description': {'value': 'continuous and passive partial contraction of the muscles', 'language': 'en'}}, 'label': 'muscle tone', 'description': 'continuous and passive partial contraction of the muscles', 'match': {'type': 'alias', 'language': 'en', 'text': 'residual muscle tension'}, 'aliases': ['residual muscle tension']}]\n"
          ]
        }
      ]
    },
    {
      "cell_type": "code",
      "source": [
        "scraped_wolfram_alpha_dict = load_or_create_dict(\"wolfram_short_ans_api.pkl\", get_wolfram_alpha_subject_info, scraped_subj_list)\n",
        "\n",
        "print(f\"dictionary length: {len(scraped_wolfram_alpha_dict)}\")\n",
        "random_pairs = random.sample(list(scraped_wolfram_alpha_dict.items()), 5)\n",
        "\n",
        "for key, value in random_pairs:\n",
        "  print(f\"{key}:\\n{value}\")"
      ],
      "metadata": {
        "colab": {
          "base_uri": "https://localhost:8080/"
        },
        "id": "_qHQqJRZmRcY",
        "outputId": "177c3f74-95d2-48df-a55d-590f4840c4fb"
      },
      "execution_count": null,
      "outputs": [
        {
          "output_type": "stream",
          "name": "stdout",
          "text": [
            "wolfram_short_ans_api.pkl not found, creating wolfram_short_ans_api.pkl...\n",
            "dictionary length: 5026\n",
            "Productive_Property:\n",
            "A property that is always fulfilled by the product of topological spaces, if it is fulfilled by each single factor.  Examples of productive properties are connectedness, and path‐connectedness, axioms T_0, T_1, T_2 and T_3, regularity and complete regularity, the property of being a Tychonoff space, but not axiom T_4 and normality, which does not even pass, in general, from a space X to X×X.  Metrizability is not productive, but is preserved by products of at most ℵ_0 spaces\n",
            "Green_Space:\n",
            "A G‐space provides local notions of harmonic, hyperharmonic, and superharmonic functions.  When there exists a nonconstant superharmonic function greater than 0, it is a called a Green space.  Examples are R^n (for n≥3) and any bounded domain of R^n\n",
            "Gelfand_Mazur_Theorem:\n",
            "If A is a unital Banach algebra where every nonzero element is invertible, then A is the algebra of complex numbers\n",
            "Parallelogram_Illusion:\n",
            "In the above figure, the sides a and b have the same length, appearances to the contrary.  In the related illusion illustrated above, the interior lines appear to be of different lengths, despite the fact that they are the same\n",
            "Frobenius_Theorem:\n",
            "Let A equals a_ij be a matrix with positive coefficients so that a_ij>0 for all i,j equals 1, 2, …, n, then A has a positive eigenvalue λ_0, and all its eigenvalues lie on the closed disk |z|≤λ_0\n"
          ]
        }
      ]
    }
  ]
}