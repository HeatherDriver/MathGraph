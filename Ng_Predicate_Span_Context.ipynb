{
  "nbformat": 4,
  "nbformat_minor": 0,
  "metadata": {
    "colab": {
      "provenance": [],
      "gpuType": "A100",
      "mount_file_id": "1i6s8PyTpRBNOw5t1797ktuJyIDzJkIkU",
      "authorship_tag": "ABX9TyMatUTUWFDssgO3FEOv3phg"
    },
    "kernelspec": {
      "name": "python3",
      "display_name": "Python 3"
    },
    "language_info": {
      "name": "python"
    },
    "widgets": {
      "application/vnd.jupyter.widget-state+json": {
        "19d3fcad64e644d894177f4339333b9a": {
          "model_module": "@jupyter-widgets/controls",
          "model_name": "HBoxModel",
          "model_module_version": "1.5.0",
          "state": {
            "_dom_classes": [],
            "_model_module": "@jupyter-widgets/controls",
            "_model_module_version": "1.5.0",
            "_model_name": "HBoxModel",
            "_view_count": null,
            "_view_module": "@jupyter-widgets/controls",
            "_view_module_version": "1.5.0",
            "_view_name": "HBoxView",
            "box_style": "",
            "children": [
              "IPY_MODEL_9f777d76f1704f13aba29e00b689bd1c",
              "IPY_MODEL_80064b8f71a540ed8aa506600c74be8a",
              "IPY_MODEL_14103d1c147b4d7db28a5ac72236554c"
            ],
            "layout": "IPY_MODEL_3f1dc050c5764dc39b9742f494306d1b"
          }
        },
        "9f777d76f1704f13aba29e00b689bd1c": {
          "model_module": "@jupyter-widgets/controls",
          "model_name": "HTMLModel",
          "model_module_version": "1.5.0",
          "state": {
            "_dom_classes": [],
            "_model_module": "@jupyter-widgets/controls",
            "_model_module_version": "1.5.0",
            "_model_name": "HTMLModel",
            "_view_count": null,
            "_view_module": "@jupyter-widgets/controls",
            "_view_module_version": "1.5.0",
            "_view_name": "HTMLView",
            "description": "",
            "description_tooltip": null,
            "layout": "IPY_MODEL_a18f79df2f424847909fcf5da83ad8c8",
            "placeholder": "​",
            "style": "IPY_MODEL_243139225a7e49718745c572dab52bed",
            "value": "Map: 100%"
          }
        },
        "80064b8f71a540ed8aa506600c74be8a": {
          "model_module": "@jupyter-widgets/controls",
          "model_name": "FloatProgressModel",
          "model_module_version": "1.5.0",
          "state": {
            "_dom_classes": [],
            "_model_module": "@jupyter-widgets/controls",
            "_model_module_version": "1.5.0",
            "_model_name": "FloatProgressModel",
            "_view_count": null,
            "_view_module": "@jupyter-widgets/controls",
            "_view_module_version": "1.5.0",
            "_view_name": "ProgressView",
            "bar_style": "success",
            "description": "",
            "description_tooltip": null,
            "layout": "IPY_MODEL_3dafdac1c6f042068698a94aa841fff0",
            "max": 292,
            "min": 0,
            "orientation": "horizontal",
            "style": "IPY_MODEL_438ae09f51224378920a7b3221738e27",
            "value": 292
          }
        },
        "14103d1c147b4d7db28a5ac72236554c": {
          "model_module": "@jupyter-widgets/controls",
          "model_name": "HTMLModel",
          "model_module_version": "1.5.0",
          "state": {
            "_dom_classes": [],
            "_model_module": "@jupyter-widgets/controls",
            "_model_module_version": "1.5.0",
            "_model_name": "HTMLModel",
            "_view_count": null,
            "_view_module": "@jupyter-widgets/controls",
            "_view_module_version": "1.5.0",
            "_view_name": "HTMLView",
            "description": "",
            "description_tooltip": null,
            "layout": "IPY_MODEL_20fd0a18b65b4157852a0b665e9e61d3",
            "placeholder": "​",
            "style": "IPY_MODEL_561160aa08684006b2e3e11037b54d5a",
            "value": " 292/292 [00:00&lt;00:00, 5064.10 examples/s]"
          }
        },
        "3f1dc050c5764dc39b9742f494306d1b": {
          "model_module": "@jupyter-widgets/base",
          "model_name": "LayoutModel",
          "model_module_version": "1.2.0",
          "state": {
            "_model_module": "@jupyter-widgets/base",
            "_model_module_version": "1.2.0",
            "_model_name": "LayoutModel",
            "_view_count": null,
            "_view_module": "@jupyter-widgets/base",
            "_view_module_version": "1.2.0",
            "_view_name": "LayoutView",
            "align_content": null,
            "align_items": null,
            "align_self": null,
            "border": null,
            "bottom": null,
            "display": null,
            "flex": null,
            "flex_flow": null,
            "grid_area": null,
            "grid_auto_columns": null,
            "grid_auto_flow": null,
            "grid_auto_rows": null,
            "grid_column": null,
            "grid_gap": null,
            "grid_row": null,
            "grid_template_areas": null,
            "grid_template_columns": null,
            "grid_template_rows": null,
            "height": null,
            "justify_content": null,
            "justify_items": null,
            "left": null,
            "margin": null,
            "max_height": null,
            "max_width": null,
            "min_height": null,
            "min_width": null,
            "object_fit": null,
            "object_position": null,
            "order": null,
            "overflow": null,
            "overflow_x": null,
            "overflow_y": null,
            "padding": null,
            "right": null,
            "top": null,
            "visibility": null,
            "width": null
          }
        },
        "a18f79df2f424847909fcf5da83ad8c8": {
          "model_module": "@jupyter-widgets/base",
          "model_name": "LayoutModel",
          "model_module_version": "1.2.0",
          "state": {
            "_model_module": "@jupyter-widgets/base",
            "_model_module_version": "1.2.0",
            "_model_name": "LayoutModel",
            "_view_count": null,
            "_view_module": "@jupyter-widgets/base",
            "_view_module_version": "1.2.0",
            "_view_name": "LayoutView",
            "align_content": null,
            "align_items": null,
            "align_self": null,
            "border": null,
            "bottom": null,
            "display": null,
            "flex": null,
            "flex_flow": null,
            "grid_area": null,
            "grid_auto_columns": null,
            "grid_auto_flow": null,
            "grid_auto_rows": null,
            "grid_column": null,
            "grid_gap": null,
            "grid_row": null,
            "grid_template_areas": null,
            "grid_template_columns": null,
            "grid_template_rows": null,
            "height": null,
            "justify_content": null,
            "justify_items": null,
            "left": null,
            "margin": null,
            "max_height": null,
            "max_width": null,
            "min_height": null,
            "min_width": null,
            "object_fit": null,
            "object_position": null,
            "order": null,
            "overflow": null,
            "overflow_x": null,
            "overflow_y": null,
            "padding": null,
            "right": null,
            "top": null,
            "visibility": null,
            "width": null
          }
        },
        "243139225a7e49718745c572dab52bed": {
          "model_module": "@jupyter-widgets/controls",
          "model_name": "DescriptionStyleModel",
          "model_module_version": "1.5.0",
          "state": {
            "_model_module": "@jupyter-widgets/controls",
            "_model_module_version": "1.5.0",
            "_model_name": "DescriptionStyleModel",
            "_view_count": null,
            "_view_module": "@jupyter-widgets/base",
            "_view_module_version": "1.2.0",
            "_view_name": "StyleView",
            "description_width": ""
          }
        },
        "3dafdac1c6f042068698a94aa841fff0": {
          "model_module": "@jupyter-widgets/base",
          "model_name": "LayoutModel",
          "model_module_version": "1.2.0",
          "state": {
            "_model_module": "@jupyter-widgets/base",
            "_model_module_version": "1.2.0",
            "_model_name": "LayoutModel",
            "_view_count": null,
            "_view_module": "@jupyter-widgets/base",
            "_view_module_version": "1.2.0",
            "_view_name": "LayoutView",
            "align_content": null,
            "align_items": null,
            "align_self": null,
            "border": null,
            "bottom": null,
            "display": null,
            "flex": null,
            "flex_flow": null,
            "grid_area": null,
            "grid_auto_columns": null,
            "grid_auto_flow": null,
            "grid_auto_rows": null,
            "grid_column": null,
            "grid_gap": null,
            "grid_row": null,
            "grid_template_areas": null,
            "grid_template_columns": null,
            "grid_template_rows": null,
            "height": null,
            "justify_content": null,
            "justify_items": null,
            "left": null,
            "margin": null,
            "max_height": null,
            "max_width": null,
            "min_height": null,
            "min_width": null,
            "object_fit": null,
            "object_position": null,
            "order": null,
            "overflow": null,
            "overflow_x": null,
            "overflow_y": null,
            "padding": null,
            "right": null,
            "top": null,
            "visibility": null,
            "width": null
          }
        },
        "438ae09f51224378920a7b3221738e27": {
          "model_module": "@jupyter-widgets/controls",
          "model_name": "ProgressStyleModel",
          "model_module_version": "1.5.0",
          "state": {
            "_model_module": "@jupyter-widgets/controls",
            "_model_module_version": "1.5.0",
            "_model_name": "ProgressStyleModel",
            "_view_count": null,
            "_view_module": "@jupyter-widgets/base",
            "_view_module_version": "1.2.0",
            "_view_name": "StyleView",
            "bar_color": null,
            "description_width": ""
          }
        },
        "20fd0a18b65b4157852a0b665e9e61d3": {
          "model_module": "@jupyter-widgets/base",
          "model_name": "LayoutModel",
          "model_module_version": "1.2.0",
          "state": {
            "_model_module": "@jupyter-widgets/base",
            "_model_module_version": "1.2.0",
            "_model_name": "LayoutModel",
            "_view_count": null,
            "_view_module": "@jupyter-widgets/base",
            "_view_module_version": "1.2.0",
            "_view_name": "LayoutView",
            "align_content": null,
            "align_items": null,
            "align_self": null,
            "border": null,
            "bottom": null,
            "display": null,
            "flex": null,
            "flex_flow": null,
            "grid_area": null,
            "grid_auto_columns": null,
            "grid_auto_flow": null,
            "grid_auto_rows": null,
            "grid_column": null,
            "grid_gap": null,
            "grid_row": null,
            "grid_template_areas": null,
            "grid_template_columns": null,
            "grid_template_rows": null,
            "height": null,
            "justify_content": null,
            "justify_items": null,
            "left": null,
            "margin": null,
            "max_height": null,
            "max_width": null,
            "min_height": null,
            "min_width": null,
            "object_fit": null,
            "object_position": null,
            "order": null,
            "overflow": null,
            "overflow_x": null,
            "overflow_y": null,
            "padding": null,
            "right": null,
            "top": null,
            "visibility": null,
            "width": null
          }
        },
        "561160aa08684006b2e3e11037b54d5a": {
          "model_module": "@jupyter-widgets/controls",
          "model_name": "DescriptionStyleModel",
          "model_module_version": "1.5.0",
          "state": {
            "_model_module": "@jupyter-widgets/controls",
            "_model_module_version": "1.5.0",
            "_model_name": "DescriptionStyleModel",
            "_view_count": null,
            "_view_module": "@jupyter-widgets/base",
            "_view_module_version": "1.2.0",
            "_view_name": "StyleView",
            "description_width": ""
          }
        },
        "270dbdb426d64985aa3116ed3a9aebaa": {
          "model_module": "@jupyter-widgets/controls",
          "model_name": "HBoxModel",
          "model_module_version": "1.5.0",
          "state": {
            "_dom_classes": [],
            "_model_module": "@jupyter-widgets/controls",
            "_model_module_version": "1.5.0",
            "_model_name": "HBoxModel",
            "_view_count": null,
            "_view_module": "@jupyter-widgets/controls",
            "_view_module_version": "1.5.0",
            "_view_name": "HBoxView",
            "box_style": "",
            "children": [
              "IPY_MODEL_e78bddc3b61a4937b514454599c98d22",
              "IPY_MODEL_ab58508bfcf24100b276940152bc8c06",
              "IPY_MODEL_32be06c8a5ae43ad972ea10b0e386432"
            ],
            "layout": "IPY_MODEL_5ec0473f552e4a5f87a9cada98f264a9"
          }
        },
        "e78bddc3b61a4937b514454599c98d22": {
          "model_module": "@jupyter-widgets/controls",
          "model_name": "HTMLModel",
          "model_module_version": "1.5.0",
          "state": {
            "_dom_classes": [],
            "_model_module": "@jupyter-widgets/controls",
            "_model_module_version": "1.5.0",
            "_model_name": "HTMLModel",
            "_view_count": null,
            "_view_module": "@jupyter-widgets/controls",
            "_view_module_version": "1.5.0",
            "_view_name": "HTMLView",
            "description": "",
            "description_tooltip": null,
            "layout": "IPY_MODEL_5957381fa2cf47b195e54cab2219a21d",
            "placeholder": "​",
            "style": "IPY_MODEL_a61eea33a1464ebb95575b848ec26907",
            "value": "Map: 100%"
          }
        },
        "ab58508bfcf24100b276940152bc8c06": {
          "model_module": "@jupyter-widgets/controls",
          "model_name": "FloatProgressModel",
          "model_module_version": "1.5.0",
          "state": {
            "_dom_classes": [],
            "_model_module": "@jupyter-widgets/controls",
            "_model_module_version": "1.5.0",
            "_model_name": "FloatProgressModel",
            "_view_count": null,
            "_view_module": "@jupyter-widgets/controls",
            "_view_module_version": "1.5.0",
            "_view_name": "ProgressView",
            "bar_style": "success",
            "description": "",
            "description_tooltip": null,
            "layout": "IPY_MODEL_cf19e8ce017d476084a28a388567f497",
            "max": 22,
            "min": 0,
            "orientation": "horizontal",
            "style": "IPY_MODEL_d0da4cf21121486eb1e997297f25661d",
            "value": 22
          }
        },
        "32be06c8a5ae43ad972ea10b0e386432": {
          "model_module": "@jupyter-widgets/controls",
          "model_name": "HTMLModel",
          "model_module_version": "1.5.0",
          "state": {
            "_dom_classes": [],
            "_model_module": "@jupyter-widgets/controls",
            "_model_module_version": "1.5.0",
            "_model_name": "HTMLModel",
            "_view_count": null,
            "_view_module": "@jupyter-widgets/controls",
            "_view_module_version": "1.5.0",
            "_view_name": "HTMLView",
            "description": "",
            "description_tooltip": null,
            "layout": "IPY_MODEL_badb7137d29a4dfa9a265f7f8e31ff4a",
            "placeholder": "​",
            "style": "IPY_MODEL_3e2f6ca01fb04fa2a7d454821d136f52",
            "value": " 22/22 [00:00&lt;00:00, 1248.52 examples/s]"
          }
        },
        "5ec0473f552e4a5f87a9cada98f264a9": {
          "model_module": "@jupyter-widgets/base",
          "model_name": "LayoutModel",
          "model_module_version": "1.2.0",
          "state": {
            "_model_module": "@jupyter-widgets/base",
            "_model_module_version": "1.2.0",
            "_model_name": "LayoutModel",
            "_view_count": null,
            "_view_module": "@jupyter-widgets/base",
            "_view_module_version": "1.2.0",
            "_view_name": "LayoutView",
            "align_content": null,
            "align_items": null,
            "align_self": null,
            "border": null,
            "bottom": null,
            "display": null,
            "flex": null,
            "flex_flow": null,
            "grid_area": null,
            "grid_auto_columns": null,
            "grid_auto_flow": null,
            "grid_auto_rows": null,
            "grid_column": null,
            "grid_gap": null,
            "grid_row": null,
            "grid_template_areas": null,
            "grid_template_columns": null,
            "grid_template_rows": null,
            "height": null,
            "justify_content": null,
            "justify_items": null,
            "left": null,
            "margin": null,
            "max_height": null,
            "max_width": null,
            "min_height": null,
            "min_width": null,
            "object_fit": null,
            "object_position": null,
            "order": null,
            "overflow": null,
            "overflow_x": null,
            "overflow_y": null,
            "padding": null,
            "right": null,
            "top": null,
            "visibility": null,
            "width": null
          }
        },
        "5957381fa2cf47b195e54cab2219a21d": {
          "model_module": "@jupyter-widgets/base",
          "model_name": "LayoutModel",
          "model_module_version": "1.2.0",
          "state": {
            "_model_module": "@jupyter-widgets/base",
            "_model_module_version": "1.2.0",
            "_model_name": "LayoutModel",
            "_view_count": null,
            "_view_module": "@jupyter-widgets/base",
            "_view_module_version": "1.2.0",
            "_view_name": "LayoutView",
            "align_content": null,
            "align_items": null,
            "align_self": null,
            "border": null,
            "bottom": null,
            "display": null,
            "flex": null,
            "flex_flow": null,
            "grid_area": null,
            "grid_auto_columns": null,
            "grid_auto_flow": null,
            "grid_auto_rows": null,
            "grid_column": null,
            "grid_gap": null,
            "grid_row": null,
            "grid_template_areas": null,
            "grid_template_columns": null,
            "grid_template_rows": null,
            "height": null,
            "justify_content": null,
            "justify_items": null,
            "left": null,
            "margin": null,
            "max_height": null,
            "max_width": null,
            "min_height": null,
            "min_width": null,
            "object_fit": null,
            "object_position": null,
            "order": null,
            "overflow": null,
            "overflow_x": null,
            "overflow_y": null,
            "padding": null,
            "right": null,
            "top": null,
            "visibility": null,
            "width": null
          }
        },
        "a61eea33a1464ebb95575b848ec26907": {
          "model_module": "@jupyter-widgets/controls",
          "model_name": "DescriptionStyleModel",
          "model_module_version": "1.5.0",
          "state": {
            "_model_module": "@jupyter-widgets/controls",
            "_model_module_version": "1.5.0",
            "_model_name": "DescriptionStyleModel",
            "_view_count": null,
            "_view_module": "@jupyter-widgets/base",
            "_view_module_version": "1.2.0",
            "_view_name": "StyleView",
            "description_width": ""
          }
        },
        "cf19e8ce017d476084a28a388567f497": {
          "model_module": "@jupyter-widgets/base",
          "model_name": "LayoutModel",
          "model_module_version": "1.2.0",
          "state": {
            "_model_module": "@jupyter-widgets/base",
            "_model_module_version": "1.2.0",
            "_model_name": "LayoutModel",
            "_view_count": null,
            "_view_module": "@jupyter-widgets/base",
            "_view_module_version": "1.2.0",
            "_view_name": "LayoutView",
            "align_content": null,
            "align_items": null,
            "align_self": null,
            "border": null,
            "bottom": null,
            "display": null,
            "flex": null,
            "flex_flow": null,
            "grid_area": null,
            "grid_auto_columns": null,
            "grid_auto_flow": null,
            "grid_auto_rows": null,
            "grid_column": null,
            "grid_gap": null,
            "grid_row": null,
            "grid_template_areas": null,
            "grid_template_columns": null,
            "grid_template_rows": null,
            "height": null,
            "justify_content": null,
            "justify_items": null,
            "left": null,
            "margin": null,
            "max_height": null,
            "max_width": null,
            "min_height": null,
            "min_width": null,
            "object_fit": null,
            "object_position": null,
            "order": null,
            "overflow": null,
            "overflow_x": null,
            "overflow_y": null,
            "padding": null,
            "right": null,
            "top": null,
            "visibility": null,
            "width": null
          }
        },
        "d0da4cf21121486eb1e997297f25661d": {
          "model_module": "@jupyter-widgets/controls",
          "model_name": "ProgressStyleModel",
          "model_module_version": "1.5.0",
          "state": {
            "_model_module": "@jupyter-widgets/controls",
            "_model_module_version": "1.5.0",
            "_model_name": "ProgressStyleModel",
            "_view_count": null,
            "_view_module": "@jupyter-widgets/base",
            "_view_module_version": "1.2.0",
            "_view_name": "StyleView",
            "bar_color": null,
            "description_width": ""
          }
        },
        "badb7137d29a4dfa9a265f7f8e31ff4a": {
          "model_module": "@jupyter-widgets/base",
          "model_name": "LayoutModel",
          "model_module_version": "1.2.0",
          "state": {
            "_model_module": "@jupyter-widgets/base",
            "_model_module_version": "1.2.0",
            "_model_name": "LayoutModel",
            "_view_count": null,
            "_view_module": "@jupyter-widgets/base",
            "_view_module_version": "1.2.0",
            "_view_name": "LayoutView",
            "align_content": null,
            "align_items": null,
            "align_self": null,
            "border": null,
            "bottom": null,
            "display": null,
            "flex": null,
            "flex_flow": null,
            "grid_area": null,
            "grid_auto_columns": null,
            "grid_auto_flow": null,
            "grid_auto_rows": null,
            "grid_column": null,
            "grid_gap": null,
            "grid_row": null,
            "grid_template_areas": null,
            "grid_template_columns": null,
            "grid_template_rows": null,
            "height": null,
            "justify_content": null,
            "justify_items": null,
            "left": null,
            "margin": null,
            "max_height": null,
            "max_width": null,
            "min_height": null,
            "min_width": null,
            "object_fit": null,
            "object_position": null,
            "order": null,
            "overflow": null,
            "overflow_x": null,
            "overflow_y": null,
            "padding": null,
            "right": null,
            "top": null,
            "visibility": null,
            "width": null
          }
        },
        "3e2f6ca01fb04fa2a7d454821d136f52": {
          "model_module": "@jupyter-widgets/controls",
          "model_name": "DescriptionStyleModel",
          "model_module_version": "1.5.0",
          "state": {
            "_model_module": "@jupyter-widgets/controls",
            "_model_module_version": "1.5.0",
            "_model_name": "DescriptionStyleModel",
            "_view_count": null,
            "_view_module": "@jupyter-widgets/base",
            "_view_module_version": "1.2.0",
            "_view_name": "StyleView",
            "description_width": ""
          }
        },
        "271faf7859c64ce2be67739d2e0852bb": {
          "model_module": "@jupyter-widgets/controls",
          "model_name": "HBoxModel",
          "model_module_version": "1.5.0",
          "state": {
            "_dom_classes": [],
            "_model_module": "@jupyter-widgets/controls",
            "_model_module_version": "1.5.0",
            "_model_name": "HBoxModel",
            "_view_count": null,
            "_view_module": "@jupyter-widgets/controls",
            "_view_module_version": "1.5.0",
            "_view_name": "HBoxView",
            "box_style": "",
            "children": [
              "IPY_MODEL_33b9108a474d4cca8cd0f78b5fcce694",
              "IPY_MODEL_d2bee806d53a422a87ccef9ce8b4ad3f",
              "IPY_MODEL_9b0d53d62ef34fdb87cc1ee65d617fda"
            ],
            "layout": "IPY_MODEL_8e8c10ca8ce84623b8fad71d475f391e"
          }
        },
        "33b9108a474d4cca8cd0f78b5fcce694": {
          "model_module": "@jupyter-widgets/controls",
          "model_name": "HTMLModel",
          "model_module_version": "1.5.0",
          "state": {
            "_dom_classes": [],
            "_model_module": "@jupyter-widgets/controls",
            "_model_module_version": "1.5.0",
            "_model_name": "HTMLModel",
            "_view_count": null,
            "_view_module": "@jupyter-widgets/controls",
            "_view_module_version": "1.5.0",
            "_view_name": "HTMLView",
            "description": "",
            "description_tooltip": null,
            "layout": "IPY_MODEL_64d9029081384b5fba5c3eb3a85275db",
            "placeholder": "​",
            "style": "IPY_MODEL_076c59005e204780b668cfb19c15792a",
            "value": "Map: 100%"
          }
        },
        "d2bee806d53a422a87ccef9ce8b4ad3f": {
          "model_module": "@jupyter-widgets/controls",
          "model_name": "FloatProgressModel",
          "model_module_version": "1.5.0",
          "state": {
            "_dom_classes": [],
            "_model_module": "@jupyter-widgets/controls",
            "_model_module_version": "1.5.0",
            "_model_name": "FloatProgressModel",
            "_view_count": null,
            "_view_module": "@jupyter-widgets/controls",
            "_view_module_version": "1.5.0",
            "_view_name": "ProgressView",
            "bar_style": "success",
            "description": "",
            "description_tooltip": null,
            "layout": "IPY_MODEL_ff68980933624f1b94fe9b6232006ea2",
            "max": 126,
            "min": 0,
            "orientation": "horizontal",
            "style": "IPY_MODEL_43a0c1822b1447b79f79d0318f1d3276",
            "value": 126
          }
        },
        "9b0d53d62ef34fdb87cc1ee65d617fda": {
          "model_module": "@jupyter-widgets/controls",
          "model_name": "HTMLModel",
          "model_module_version": "1.5.0",
          "state": {
            "_dom_classes": [],
            "_model_module": "@jupyter-widgets/controls",
            "_model_module_version": "1.5.0",
            "_model_name": "HTMLModel",
            "_view_count": null,
            "_view_module": "@jupyter-widgets/controls",
            "_view_module_version": "1.5.0",
            "_view_name": "HTMLView",
            "description": "",
            "description_tooltip": null,
            "layout": "IPY_MODEL_1b6097d0f0f2485593f4059a61887ba4",
            "placeholder": "​",
            "style": "IPY_MODEL_5636483f174d4cfd902a3e5f48a032f1",
            "value": " 126/126 [00:00&lt;00:00, 3925.70 examples/s]"
          }
        },
        "8e8c10ca8ce84623b8fad71d475f391e": {
          "model_module": "@jupyter-widgets/base",
          "model_name": "LayoutModel",
          "model_module_version": "1.2.0",
          "state": {
            "_model_module": "@jupyter-widgets/base",
            "_model_module_version": "1.2.0",
            "_model_name": "LayoutModel",
            "_view_count": null,
            "_view_module": "@jupyter-widgets/base",
            "_view_module_version": "1.2.0",
            "_view_name": "LayoutView",
            "align_content": null,
            "align_items": null,
            "align_self": null,
            "border": null,
            "bottom": null,
            "display": null,
            "flex": null,
            "flex_flow": null,
            "grid_area": null,
            "grid_auto_columns": null,
            "grid_auto_flow": null,
            "grid_auto_rows": null,
            "grid_column": null,
            "grid_gap": null,
            "grid_row": null,
            "grid_template_areas": null,
            "grid_template_columns": null,
            "grid_template_rows": null,
            "height": null,
            "justify_content": null,
            "justify_items": null,
            "left": null,
            "margin": null,
            "max_height": null,
            "max_width": null,
            "min_height": null,
            "min_width": null,
            "object_fit": null,
            "object_position": null,
            "order": null,
            "overflow": null,
            "overflow_x": null,
            "overflow_y": null,
            "padding": null,
            "right": null,
            "top": null,
            "visibility": null,
            "width": null
          }
        },
        "64d9029081384b5fba5c3eb3a85275db": {
          "model_module": "@jupyter-widgets/base",
          "model_name": "LayoutModel",
          "model_module_version": "1.2.0",
          "state": {
            "_model_module": "@jupyter-widgets/base",
            "_model_module_version": "1.2.0",
            "_model_name": "LayoutModel",
            "_view_count": null,
            "_view_module": "@jupyter-widgets/base",
            "_view_module_version": "1.2.0",
            "_view_name": "LayoutView",
            "align_content": null,
            "align_items": null,
            "align_self": null,
            "border": null,
            "bottom": null,
            "display": null,
            "flex": null,
            "flex_flow": null,
            "grid_area": null,
            "grid_auto_columns": null,
            "grid_auto_flow": null,
            "grid_auto_rows": null,
            "grid_column": null,
            "grid_gap": null,
            "grid_row": null,
            "grid_template_areas": null,
            "grid_template_columns": null,
            "grid_template_rows": null,
            "height": null,
            "justify_content": null,
            "justify_items": null,
            "left": null,
            "margin": null,
            "max_height": null,
            "max_width": null,
            "min_height": null,
            "min_width": null,
            "object_fit": null,
            "object_position": null,
            "order": null,
            "overflow": null,
            "overflow_x": null,
            "overflow_y": null,
            "padding": null,
            "right": null,
            "top": null,
            "visibility": null,
            "width": null
          }
        },
        "076c59005e204780b668cfb19c15792a": {
          "model_module": "@jupyter-widgets/controls",
          "model_name": "DescriptionStyleModel",
          "model_module_version": "1.5.0",
          "state": {
            "_model_module": "@jupyter-widgets/controls",
            "_model_module_version": "1.5.0",
            "_model_name": "DescriptionStyleModel",
            "_view_count": null,
            "_view_module": "@jupyter-widgets/base",
            "_view_module_version": "1.2.0",
            "_view_name": "StyleView",
            "description_width": ""
          }
        },
        "ff68980933624f1b94fe9b6232006ea2": {
          "model_module": "@jupyter-widgets/base",
          "model_name": "LayoutModel",
          "model_module_version": "1.2.0",
          "state": {
            "_model_module": "@jupyter-widgets/base",
            "_model_module_version": "1.2.0",
            "_model_name": "LayoutModel",
            "_view_count": null,
            "_view_module": "@jupyter-widgets/base",
            "_view_module_version": "1.2.0",
            "_view_name": "LayoutView",
            "align_content": null,
            "align_items": null,
            "align_self": null,
            "border": null,
            "bottom": null,
            "display": null,
            "flex": null,
            "flex_flow": null,
            "grid_area": null,
            "grid_auto_columns": null,
            "grid_auto_flow": null,
            "grid_auto_rows": null,
            "grid_column": null,
            "grid_gap": null,
            "grid_row": null,
            "grid_template_areas": null,
            "grid_template_columns": null,
            "grid_template_rows": null,
            "height": null,
            "justify_content": null,
            "justify_items": null,
            "left": null,
            "margin": null,
            "max_height": null,
            "max_width": null,
            "min_height": null,
            "min_width": null,
            "object_fit": null,
            "object_position": null,
            "order": null,
            "overflow": null,
            "overflow_x": null,
            "overflow_y": null,
            "padding": null,
            "right": null,
            "top": null,
            "visibility": null,
            "width": null
          }
        },
        "43a0c1822b1447b79f79d0318f1d3276": {
          "model_module": "@jupyter-widgets/controls",
          "model_name": "ProgressStyleModel",
          "model_module_version": "1.5.0",
          "state": {
            "_model_module": "@jupyter-widgets/controls",
            "_model_module_version": "1.5.0",
            "_model_name": "ProgressStyleModel",
            "_view_count": null,
            "_view_module": "@jupyter-widgets/base",
            "_view_module_version": "1.2.0",
            "_view_name": "StyleView",
            "bar_color": null,
            "description_width": ""
          }
        },
        "1b6097d0f0f2485593f4059a61887ba4": {
          "model_module": "@jupyter-widgets/base",
          "model_name": "LayoutModel",
          "model_module_version": "1.2.0",
          "state": {
            "_model_module": "@jupyter-widgets/base",
            "_model_module_version": "1.2.0",
            "_model_name": "LayoutModel",
            "_view_count": null,
            "_view_module": "@jupyter-widgets/base",
            "_view_module_version": "1.2.0",
            "_view_name": "LayoutView",
            "align_content": null,
            "align_items": null,
            "align_self": null,
            "border": null,
            "bottom": null,
            "display": null,
            "flex": null,
            "flex_flow": null,
            "grid_area": null,
            "grid_auto_columns": null,
            "grid_auto_flow": null,
            "grid_auto_rows": null,
            "grid_column": null,
            "grid_gap": null,
            "grid_row": null,
            "grid_template_areas": null,
            "grid_template_columns": null,
            "grid_template_rows": null,
            "height": null,
            "justify_content": null,
            "justify_items": null,
            "left": null,
            "margin": null,
            "max_height": null,
            "max_width": null,
            "min_height": null,
            "min_width": null,
            "object_fit": null,
            "object_position": null,
            "order": null,
            "overflow": null,
            "overflow_x": null,
            "overflow_y": null,
            "padding": null,
            "right": null,
            "top": null,
            "visibility": null,
            "width": null
          }
        },
        "5636483f174d4cfd902a3e5f48a032f1": {
          "model_module": "@jupyter-widgets/controls",
          "model_name": "DescriptionStyleModel",
          "model_module_version": "1.5.0",
          "state": {
            "_model_module": "@jupyter-widgets/controls",
            "_model_module_version": "1.5.0",
            "_model_name": "DescriptionStyleModel",
            "_view_count": null,
            "_view_module": "@jupyter-widgets/base",
            "_view_module_version": "1.2.0",
            "_view_name": "StyleView",
            "description_width": ""
          }
        },
        "7a0bf532562a4ab9970801ba66a9ef42": {
          "model_module": "@jupyter-widgets/controls",
          "model_name": "HBoxModel",
          "model_module_version": "1.5.0",
          "state": {
            "_dom_classes": [],
            "_model_module": "@jupyter-widgets/controls",
            "_model_module_version": "1.5.0",
            "_model_name": "HBoxModel",
            "_view_count": null,
            "_view_module": "@jupyter-widgets/controls",
            "_view_module_version": "1.5.0",
            "_view_name": "HBoxView",
            "box_style": "",
            "children": [
              "IPY_MODEL_2ac23a4520da47769fc4f91fda19a59e",
              "IPY_MODEL_14eb502596e54e1ba9e4dc7564f8d898",
              "IPY_MODEL_45b3e2b3e5d9457d95c2c0a030fdf234"
            ],
            "layout": "IPY_MODEL_252c7988815d4553866463fff22aec5d"
          }
        },
        "2ac23a4520da47769fc4f91fda19a59e": {
          "model_module": "@jupyter-widgets/controls",
          "model_name": "HTMLModel",
          "model_module_version": "1.5.0",
          "state": {
            "_dom_classes": [],
            "_model_module": "@jupyter-widgets/controls",
            "_model_module_version": "1.5.0",
            "_model_name": "HTMLModel",
            "_view_count": null,
            "_view_module": "@jupyter-widgets/controls",
            "_view_module_version": "1.5.0",
            "_view_name": "HTMLView",
            "description": "",
            "description_tooltip": null,
            "layout": "IPY_MODEL_1198b059c2d04ec0ab727bca8ee135ca",
            "placeholder": "​",
            "style": "IPY_MODEL_7bbca5e431f34a5f9cd5e03c1d9a1c01",
            "value": "Map: 100%"
          }
        },
        "14eb502596e54e1ba9e4dc7564f8d898": {
          "model_module": "@jupyter-widgets/controls",
          "model_name": "FloatProgressModel",
          "model_module_version": "1.5.0",
          "state": {
            "_dom_classes": [],
            "_model_module": "@jupyter-widgets/controls",
            "_model_module_version": "1.5.0",
            "_model_name": "FloatProgressModel",
            "_view_count": null,
            "_view_module": "@jupyter-widgets/controls",
            "_view_module_version": "1.5.0",
            "_view_name": "ProgressView",
            "bar_style": "success",
            "description": "",
            "description_tooltip": null,
            "layout": "IPY_MODEL_536e0567b3d94b789b2970f6004d3a73",
            "max": 292,
            "min": 0,
            "orientation": "horizontal",
            "style": "IPY_MODEL_046ac2a380164938ad38c069daef3a0f",
            "value": 292
          }
        },
        "45b3e2b3e5d9457d95c2c0a030fdf234": {
          "model_module": "@jupyter-widgets/controls",
          "model_name": "HTMLModel",
          "model_module_version": "1.5.0",
          "state": {
            "_dom_classes": [],
            "_model_module": "@jupyter-widgets/controls",
            "_model_module_version": "1.5.0",
            "_model_name": "HTMLModel",
            "_view_count": null,
            "_view_module": "@jupyter-widgets/controls",
            "_view_module_version": "1.5.0",
            "_view_name": "HTMLView",
            "description": "",
            "description_tooltip": null,
            "layout": "IPY_MODEL_c25f053d4ee24b9386d4763ca3d59ba8",
            "placeholder": "​",
            "style": "IPY_MODEL_2d7ed292d61b441284280c1ad9c8ee0a",
            "value": " 292/292 [00:00&lt;00:00, 5388.29 examples/s]"
          }
        },
        "252c7988815d4553866463fff22aec5d": {
          "model_module": "@jupyter-widgets/base",
          "model_name": "LayoutModel",
          "model_module_version": "1.2.0",
          "state": {
            "_model_module": "@jupyter-widgets/base",
            "_model_module_version": "1.2.0",
            "_model_name": "LayoutModel",
            "_view_count": null,
            "_view_module": "@jupyter-widgets/base",
            "_view_module_version": "1.2.0",
            "_view_name": "LayoutView",
            "align_content": null,
            "align_items": null,
            "align_self": null,
            "border": null,
            "bottom": null,
            "display": null,
            "flex": null,
            "flex_flow": null,
            "grid_area": null,
            "grid_auto_columns": null,
            "grid_auto_flow": null,
            "grid_auto_rows": null,
            "grid_column": null,
            "grid_gap": null,
            "grid_row": null,
            "grid_template_areas": null,
            "grid_template_columns": null,
            "grid_template_rows": null,
            "height": null,
            "justify_content": null,
            "justify_items": null,
            "left": null,
            "margin": null,
            "max_height": null,
            "max_width": null,
            "min_height": null,
            "min_width": null,
            "object_fit": null,
            "object_position": null,
            "order": null,
            "overflow": null,
            "overflow_x": null,
            "overflow_y": null,
            "padding": null,
            "right": null,
            "top": null,
            "visibility": null,
            "width": null
          }
        },
        "1198b059c2d04ec0ab727bca8ee135ca": {
          "model_module": "@jupyter-widgets/base",
          "model_name": "LayoutModel",
          "model_module_version": "1.2.0",
          "state": {
            "_model_module": "@jupyter-widgets/base",
            "_model_module_version": "1.2.0",
            "_model_name": "LayoutModel",
            "_view_count": null,
            "_view_module": "@jupyter-widgets/base",
            "_view_module_version": "1.2.0",
            "_view_name": "LayoutView",
            "align_content": null,
            "align_items": null,
            "align_self": null,
            "border": null,
            "bottom": null,
            "display": null,
            "flex": null,
            "flex_flow": null,
            "grid_area": null,
            "grid_auto_columns": null,
            "grid_auto_flow": null,
            "grid_auto_rows": null,
            "grid_column": null,
            "grid_gap": null,
            "grid_row": null,
            "grid_template_areas": null,
            "grid_template_columns": null,
            "grid_template_rows": null,
            "height": null,
            "justify_content": null,
            "justify_items": null,
            "left": null,
            "margin": null,
            "max_height": null,
            "max_width": null,
            "min_height": null,
            "min_width": null,
            "object_fit": null,
            "object_position": null,
            "order": null,
            "overflow": null,
            "overflow_x": null,
            "overflow_y": null,
            "padding": null,
            "right": null,
            "top": null,
            "visibility": null,
            "width": null
          }
        },
        "7bbca5e431f34a5f9cd5e03c1d9a1c01": {
          "model_module": "@jupyter-widgets/controls",
          "model_name": "DescriptionStyleModel",
          "model_module_version": "1.5.0",
          "state": {
            "_model_module": "@jupyter-widgets/controls",
            "_model_module_version": "1.5.0",
            "_model_name": "DescriptionStyleModel",
            "_view_count": null,
            "_view_module": "@jupyter-widgets/base",
            "_view_module_version": "1.2.0",
            "_view_name": "StyleView",
            "description_width": ""
          }
        },
        "536e0567b3d94b789b2970f6004d3a73": {
          "model_module": "@jupyter-widgets/base",
          "model_name": "LayoutModel",
          "model_module_version": "1.2.0",
          "state": {
            "_model_module": "@jupyter-widgets/base",
            "_model_module_version": "1.2.0",
            "_model_name": "LayoutModel",
            "_view_count": null,
            "_view_module": "@jupyter-widgets/base",
            "_view_module_version": "1.2.0",
            "_view_name": "LayoutView",
            "align_content": null,
            "align_items": null,
            "align_self": null,
            "border": null,
            "bottom": null,
            "display": null,
            "flex": null,
            "flex_flow": null,
            "grid_area": null,
            "grid_auto_columns": null,
            "grid_auto_flow": null,
            "grid_auto_rows": null,
            "grid_column": null,
            "grid_gap": null,
            "grid_row": null,
            "grid_template_areas": null,
            "grid_template_columns": null,
            "grid_template_rows": null,
            "height": null,
            "justify_content": null,
            "justify_items": null,
            "left": null,
            "margin": null,
            "max_height": null,
            "max_width": null,
            "min_height": null,
            "min_width": null,
            "object_fit": null,
            "object_position": null,
            "order": null,
            "overflow": null,
            "overflow_x": null,
            "overflow_y": null,
            "padding": null,
            "right": null,
            "top": null,
            "visibility": null,
            "width": null
          }
        },
        "046ac2a380164938ad38c069daef3a0f": {
          "model_module": "@jupyter-widgets/controls",
          "model_name": "ProgressStyleModel",
          "model_module_version": "1.5.0",
          "state": {
            "_model_module": "@jupyter-widgets/controls",
            "_model_module_version": "1.5.0",
            "_model_name": "ProgressStyleModel",
            "_view_count": null,
            "_view_module": "@jupyter-widgets/base",
            "_view_module_version": "1.2.0",
            "_view_name": "StyleView",
            "bar_color": null,
            "description_width": ""
          }
        },
        "c25f053d4ee24b9386d4763ca3d59ba8": {
          "model_module": "@jupyter-widgets/base",
          "model_name": "LayoutModel",
          "model_module_version": "1.2.0",
          "state": {
            "_model_module": "@jupyter-widgets/base",
            "_model_module_version": "1.2.0",
            "_model_name": "LayoutModel",
            "_view_count": null,
            "_view_module": "@jupyter-widgets/base",
            "_view_module_version": "1.2.0",
            "_view_name": "LayoutView",
            "align_content": null,
            "align_items": null,
            "align_self": null,
            "border": null,
            "bottom": null,
            "display": null,
            "flex": null,
            "flex_flow": null,
            "grid_area": null,
            "grid_auto_columns": null,
            "grid_auto_flow": null,
            "grid_auto_rows": null,
            "grid_column": null,
            "grid_gap": null,
            "grid_row": null,
            "grid_template_areas": null,
            "grid_template_columns": null,
            "grid_template_rows": null,
            "height": null,
            "justify_content": null,
            "justify_items": null,
            "left": null,
            "margin": null,
            "max_height": null,
            "max_width": null,
            "min_height": null,
            "min_width": null,
            "object_fit": null,
            "object_position": null,
            "order": null,
            "overflow": null,
            "overflow_x": null,
            "overflow_y": null,
            "padding": null,
            "right": null,
            "top": null,
            "visibility": null,
            "width": null
          }
        },
        "2d7ed292d61b441284280c1ad9c8ee0a": {
          "model_module": "@jupyter-widgets/controls",
          "model_name": "DescriptionStyleModel",
          "model_module_version": "1.5.0",
          "state": {
            "_model_module": "@jupyter-widgets/controls",
            "_model_module_version": "1.5.0",
            "_model_name": "DescriptionStyleModel",
            "_view_count": null,
            "_view_module": "@jupyter-widgets/base",
            "_view_module_version": "1.2.0",
            "_view_name": "StyleView",
            "description_width": ""
          }
        },
        "73a3e968684445f2b348da7a06294c24": {
          "model_module": "@jupyter-widgets/controls",
          "model_name": "HBoxModel",
          "model_module_version": "1.5.0",
          "state": {
            "_dom_classes": [],
            "_model_module": "@jupyter-widgets/controls",
            "_model_module_version": "1.5.0",
            "_model_name": "HBoxModel",
            "_view_count": null,
            "_view_module": "@jupyter-widgets/controls",
            "_view_module_version": "1.5.0",
            "_view_name": "HBoxView",
            "box_style": "",
            "children": [
              "IPY_MODEL_d1d3949033794c21846b9292b25b0cca",
              "IPY_MODEL_85d123f91d68499d92b4ce1c8acd4547",
              "IPY_MODEL_eb501fb14eb54de69c21b197a62fa3fa"
            ],
            "layout": "IPY_MODEL_59d8c1f3dd4e4fed9e50fad80b597104"
          }
        },
        "d1d3949033794c21846b9292b25b0cca": {
          "model_module": "@jupyter-widgets/controls",
          "model_name": "HTMLModel",
          "model_module_version": "1.5.0",
          "state": {
            "_dom_classes": [],
            "_model_module": "@jupyter-widgets/controls",
            "_model_module_version": "1.5.0",
            "_model_name": "HTMLModel",
            "_view_count": null,
            "_view_module": "@jupyter-widgets/controls",
            "_view_module_version": "1.5.0",
            "_view_name": "HTMLView",
            "description": "",
            "description_tooltip": null,
            "layout": "IPY_MODEL_0b17b16fddef46d896e5baf2828ba592",
            "placeholder": "​",
            "style": "IPY_MODEL_8b6de3157036415999ad4c379c6714b4",
            "value": "Map: 100%"
          }
        },
        "85d123f91d68499d92b4ce1c8acd4547": {
          "model_module": "@jupyter-widgets/controls",
          "model_name": "FloatProgressModel",
          "model_module_version": "1.5.0",
          "state": {
            "_dom_classes": [],
            "_model_module": "@jupyter-widgets/controls",
            "_model_module_version": "1.5.0",
            "_model_name": "FloatProgressModel",
            "_view_count": null,
            "_view_module": "@jupyter-widgets/controls",
            "_view_module_version": "1.5.0",
            "_view_name": "ProgressView",
            "bar_style": "success",
            "description": "",
            "description_tooltip": null,
            "layout": "IPY_MODEL_25e7b137a636402d99d1b496e42bdedb",
            "max": 22,
            "min": 0,
            "orientation": "horizontal",
            "style": "IPY_MODEL_b2c3ebc6466548debcf8f509534f8b81",
            "value": 22
          }
        },
        "eb501fb14eb54de69c21b197a62fa3fa": {
          "model_module": "@jupyter-widgets/controls",
          "model_name": "HTMLModel",
          "model_module_version": "1.5.0",
          "state": {
            "_dom_classes": [],
            "_model_module": "@jupyter-widgets/controls",
            "_model_module_version": "1.5.0",
            "_model_name": "HTMLModel",
            "_view_count": null,
            "_view_module": "@jupyter-widgets/controls",
            "_view_module_version": "1.5.0",
            "_view_name": "HTMLView",
            "description": "",
            "description_tooltip": null,
            "layout": "IPY_MODEL_a6b01749c95b4efd9e128f237bd439a9",
            "placeholder": "​",
            "style": "IPY_MODEL_19cd28f86ff141e49d960f6cebdbc126",
            "value": " 22/22 [00:00&lt;00:00, 1111.66 examples/s]"
          }
        },
        "59d8c1f3dd4e4fed9e50fad80b597104": {
          "model_module": "@jupyter-widgets/base",
          "model_name": "LayoutModel",
          "model_module_version": "1.2.0",
          "state": {
            "_model_module": "@jupyter-widgets/base",
            "_model_module_version": "1.2.0",
            "_model_name": "LayoutModel",
            "_view_count": null,
            "_view_module": "@jupyter-widgets/base",
            "_view_module_version": "1.2.0",
            "_view_name": "LayoutView",
            "align_content": null,
            "align_items": null,
            "align_self": null,
            "border": null,
            "bottom": null,
            "display": null,
            "flex": null,
            "flex_flow": null,
            "grid_area": null,
            "grid_auto_columns": null,
            "grid_auto_flow": null,
            "grid_auto_rows": null,
            "grid_column": null,
            "grid_gap": null,
            "grid_row": null,
            "grid_template_areas": null,
            "grid_template_columns": null,
            "grid_template_rows": null,
            "height": null,
            "justify_content": null,
            "justify_items": null,
            "left": null,
            "margin": null,
            "max_height": null,
            "max_width": null,
            "min_height": null,
            "min_width": null,
            "object_fit": null,
            "object_position": null,
            "order": null,
            "overflow": null,
            "overflow_x": null,
            "overflow_y": null,
            "padding": null,
            "right": null,
            "top": null,
            "visibility": null,
            "width": null
          }
        },
        "0b17b16fddef46d896e5baf2828ba592": {
          "model_module": "@jupyter-widgets/base",
          "model_name": "LayoutModel",
          "model_module_version": "1.2.0",
          "state": {
            "_model_module": "@jupyter-widgets/base",
            "_model_module_version": "1.2.0",
            "_model_name": "LayoutModel",
            "_view_count": null,
            "_view_module": "@jupyter-widgets/base",
            "_view_module_version": "1.2.0",
            "_view_name": "LayoutView",
            "align_content": null,
            "align_items": null,
            "align_self": null,
            "border": null,
            "bottom": null,
            "display": null,
            "flex": null,
            "flex_flow": null,
            "grid_area": null,
            "grid_auto_columns": null,
            "grid_auto_flow": null,
            "grid_auto_rows": null,
            "grid_column": null,
            "grid_gap": null,
            "grid_row": null,
            "grid_template_areas": null,
            "grid_template_columns": null,
            "grid_template_rows": null,
            "height": null,
            "justify_content": null,
            "justify_items": null,
            "left": null,
            "margin": null,
            "max_height": null,
            "max_width": null,
            "min_height": null,
            "min_width": null,
            "object_fit": null,
            "object_position": null,
            "order": null,
            "overflow": null,
            "overflow_x": null,
            "overflow_y": null,
            "padding": null,
            "right": null,
            "top": null,
            "visibility": null,
            "width": null
          }
        },
        "8b6de3157036415999ad4c379c6714b4": {
          "model_module": "@jupyter-widgets/controls",
          "model_name": "DescriptionStyleModel",
          "model_module_version": "1.5.0",
          "state": {
            "_model_module": "@jupyter-widgets/controls",
            "_model_module_version": "1.5.0",
            "_model_name": "DescriptionStyleModel",
            "_view_count": null,
            "_view_module": "@jupyter-widgets/base",
            "_view_module_version": "1.2.0",
            "_view_name": "StyleView",
            "description_width": ""
          }
        },
        "25e7b137a636402d99d1b496e42bdedb": {
          "model_module": "@jupyter-widgets/base",
          "model_name": "LayoutModel",
          "model_module_version": "1.2.0",
          "state": {
            "_model_module": "@jupyter-widgets/base",
            "_model_module_version": "1.2.0",
            "_model_name": "LayoutModel",
            "_view_count": null,
            "_view_module": "@jupyter-widgets/base",
            "_view_module_version": "1.2.0",
            "_view_name": "LayoutView",
            "align_content": null,
            "align_items": null,
            "align_self": null,
            "border": null,
            "bottom": null,
            "display": null,
            "flex": null,
            "flex_flow": null,
            "grid_area": null,
            "grid_auto_columns": null,
            "grid_auto_flow": null,
            "grid_auto_rows": null,
            "grid_column": null,
            "grid_gap": null,
            "grid_row": null,
            "grid_template_areas": null,
            "grid_template_columns": null,
            "grid_template_rows": null,
            "height": null,
            "justify_content": null,
            "justify_items": null,
            "left": null,
            "margin": null,
            "max_height": null,
            "max_width": null,
            "min_height": null,
            "min_width": null,
            "object_fit": null,
            "object_position": null,
            "order": null,
            "overflow": null,
            "overflow_x": null,
            "overflow_y": null,
            "padding": null,
            "right": null,
            "top": null,
            "visibility": null,
            "width": null
          }
        },
        "b2c3ebc6466548debcf8f509534f8b81": {
          "model_module": "@jupyter-widgets/controls",
          "model_name": "ProgressStyleModel",
          "model_module_version": "1.5.0",
          "state": {
            "_model_module": "@jupyter-widgets/controls",
            "_model_module_version": "1.5.0",
            "_model_name": "ProgressStyleModel",
            "_view_count": null,
            "_view_module": "@jupyter-widgets/base",
            "_view_module_version": "1.2.0",
            "_view_name": "StyleView",
            "bar_color": null,
            "description_width": ""
          }
        },
        "a6b01749c95b4efd9e128f237bd439a9": {
          "model_module": "@jupyter-widgets/base",
          "model_name": "LayoutModel",
          "model_module_version": "1.2.0",
          "state": {
            "_model_module": "@jupyter-widgets/base",
            "_model_module_version": "1.2.0",
            "_model_name": "LayoutModel",
            "_view_count": null,
            "_view_module": "@jupyter-widgets/base",
            "_view_module_version": "1.2.0",
            "_view_name": "LayoutView",
            "align_content": null,
            "align_items": null,
            "align_self": null,
            "border": null,
            "bottom": null,
            "display": null,
            "flex": null,
            "flex_flow": null,
            "grid_area": null,
            "grid_auto_columns": null,
            "grid_auto_flow": null,
            "grid_auto_rows": null,
            "grid_column": null,
            "grid_gap": null,
            "grid_row": null,
            "grid_template_areas": null,
            "grid_template_columns": null,
            "grid_template_rows": null,
            "height": null,
            "justify_content": null,
            "justify_items": null,
            "left": null,
            "margin": null,
            "max_height": null,
            "max_width": null,
            "min_height": null,
            "min_width": null,
            "object_fit": null,
            "object_position": null,
            "order": null,
            "overflow": null,
            "overflow_x": null,
            "overflow_y": null,
            "padding": null,
            "right": null,
            "top": null,
            "visibility": null,
            "width": null
          }
        },
        "19cd28f86ff141e49d960f6cebdbc126": {
          "model_module": "@jupyter-widgets/controls",
          "model_name": "DescriptionStyleModel",
          "model_module_version": "1.5.0",
          "state": {
            "_model_module": "@jupyter-widgets/controls",
            "_model_module_version": "1.5.0",
            "_model_name": "DescriptionStyleModel",
            "_view_count": null,
            "_view_module": "@jupyter-widgets/base",
            "_view_module_version": "1.2.0",
            "_view_name": "StyleView",
            "description_width": ""
          }
        },
        "7270e52d9e544c129e9fe02d4391cd8f": {
          "model_module": "@jupyter-widgets/controls",
          "model_name": "HBoxModel",
          "model_module_version": "1.5.0",
          "state": {
            "_dom_classes": [],
            "_model_module": "@jupyter-widgets/controls",
            "_model_module_version": "1.5.0",
            "_model_name": "HBoxModel",
            "_view_count": null,
            "_view_module": "@jupyter-widgets/controls",
            "_view_module_version": "1.5.0",
            "_view_name": "HBoxView",
            "box_style": "",
            "children": [
              "IPY_MODEL_a03fc03dbcc94820810083e342c83c17",
              "IPY_MODEL_24d0a078744648e6bf2865e97d733da3",
              "IPY_MODEL_5d0cf534eba343aa88994020b1cfa105"
            ],
            "layout": "IPY_MODEL_35d218d28c7a4f759aa6f4b1764cf845"
          }
        },
        "a03fc03dbcc94820810083e342c83c17": {
          "model_module": "@jupyter-widgets/controls",
          "model_name": "HTMLModel",
          "model_module_version": "1.5.0",
          "state": {
            "_dom_classes": [],
            "_model_module": "@jupyter-widgets/controls",
            "_model_module_version": "1.5.0",
            "_model_name": "HTMLModel",
            "_view_count": null,
            "_view_module": "@jupyter-widgets/controls",
            "_view_module_version": "1.5.0",
            "_view_name": "HTMLView",
            "description": "",
            "description_tooltip": null,
            "layout": "IPY_MODEL_629aca2744f04862b204772217682f33",
            "placeholder": "​",
            "style": "IPY_MODEL_771ad4d63f7643059ffecba5a985054c",
            "value": "Map: 100%"
          }
        },
        "24d0a078744648e6bf2865e97d733da3": {
          "model_module": "@jupyter-widgets/controls",
          "model_name": "FloatProgressModel",
          "model_module_version": "1.5.0",
          "state": {
            "_dom_classes": [],
            "_model_module": "@jupyter-widgets/controls",
            "_model_module_version": "1.5.0",
            "_model_name": "FloatProgressModel",
            "_view_count": null,
            "_view_module": "@jupyter-widgets/controls",
            "_view_module_version": "1.5.0",
            "_view_name": "ProgressView",
            "bar_style": "success",
            "description": "",
            "description_tooltip": null,
            "layout": "IPY_MODEL_fb066e725b1e4581b2180af595464ca0",
            "max": 126,
            "min": 0,
            "orientation": "horizontal",
            "style": "IPY_MODEL_b001767b1a7a4708ab7aca6dad0322de",
            "value": 126
          }
        },
        "5d0cf534eba343aa88994020b1cfa105": {
          "model_module": "@jupyter-widgets/controls",
          "model_name": "HTMLModel",
          "model_module_version": "1.5.0",
          "state": {
            "_dom_classes": [],
            "_model_module": "@jupyter-widgets/controls",
            "_model_module_version": "1.5.0",
            "_model_name": "HTMLModel",
            "_view_count": null,
            "_view_module": "@jupyter-widgets/controls",
            "_view_module_version": "1.5.0",
            "_view_name": "HTMLView",
            "description": "",
            "description_tooltip": null,
            "layout": "IPY_MODEL_6a90a64370684be8a7afd3f7cc9c7d1d",
            "placeholder": "​",
            "style": "IPY_MODEL_5d9070f0b42841e9a52aa9ae2be61e41",
            "value": " 126/126 [00:00&lt;00:00, 3605.44 examples/s]"
          }
        },
        "35d218d28c7a4f759aa6f4b1764cf845": {
          "model_module": "@jupyter-widgets/base",
          "model_name": "LayoutModel",
          "model_module_version": "1.2.0",
          "state": {
            "_model_module": "@jupyter-widgets/base",
            "_model_module_version": "1.2.0",
            "_model_name": "LayoutModel",
            "_view_count": null,
            "_view_module": "@jupyter-widgets/base",
            "_view_module_version": "1.2.0",
            "_view_name": "LayoutView",
            "align_content": null,
            "align_items": null,
            "align_self": null,
            "border": null,
            "bottom": null,
            "display": null,
            "flex": null,
            "flex_flow": null,
            "grid_area": null,
            "grid_auto_columns": null,
            "grid_auto_flow": null,
            "grid_auto_rows": null,
            "grid_column": null,
            "grid_gap": null,
            "grid_row": null,
            "grid_template_areas": null,
            "grid_template_columns": null,
            "grid_template_rows": null,
            "height": null,
            "justify_content": null,
            "justify_items": null,
            "left": null,
            "margin": null,
            "max_height": null,
            "max_width": null,
            "min_height": null,
            "min_width": null,
            "object_fit": null,
            "object_position": null,
            "order": null,
            "overflow": null,
            "overflow_x": null,
            "overflow_y": null,
            "padding": null,
            "right": null,
            "top": null,
            "visibility": null,
            "width": null
          }
        },
        "629aca2744f04862b204772217682f33": {
          "model_module": "@jupyter-widgets/base",
          "model_name": "LayoutModel",
          "model_module_version": "1.2.0",
          "state": {
            "_model_module": "@jupyter-widgets/base",
            "_model_module_version": "1.2.0",
            "_model_name": "LayoutModel",
            "_view_count": null,
            "_view_module": "@jupyter-widgets/base",
            "_view_module_version": "1.2.0",
            "_view_name": "LayoutView",
            "align_content": null,
            "align_items": null,
            "align_self": null,
            "border": null,
            "bottom": null,
            "display": null,
            "flex": null,
            "flex_flow": null,
            "grid_area": null,
            "grid_auto_columns": null,
            "grid_auto_flow": null,
            "grid_auto_rows": null,
            "grid_column": null,
            "grid_gap": null,
            "grid_row": null,
            "grid_template_areas": null,
            "grid_template_columns": null,
            "grid_template_rows": null,
            "height": null,
            "justify_content": null,
            "justify_items": null,
            "left": null,
            "margin": null,
            "max_height": null,
            "max_width": null,
            "min_height": null,
            "min_width": null,
            "object_fit": null,
            "object_position": null,
            "order": null,
            "overflow": null,
            "overflow_x": null,
            "overflow_y": null,
            "padding": null,
            "right": null,
            "top": null,
            "visibility": null,
            "width": null
          }
        },
        "771ad4d63f7643059ffecba5a985054c": {
          "model_module": "@jupyter-widgets/controls",
          "model_name": "DescriptionStyleModel",
          "model_module_version": "1.5.0",
          "state": {
            "_model_module": "@jupyter-widgets/controls",
            "_model_module_version": "1.5.0",
            "_model_name": "DescriptionStyleModel",
            "_view_count": null,
            "_view_module": "@jupyter-widgets/base",
            "_view_module_version": "1.2.0",
            "_view_name": "StyleView",
            "description_width": ""
          }
        },
        "fb066e725b1e4581b2180af595464ca0": {
          "model_module": "@jupyter-widgets/base",
          "model_name": "LayoutModel",
          "model_module_version": "1.2.0",
          "state": {
            "_model_module": "@jupyter-widgets/base",
            "_model_module_version": "1.2.0",
            "_model_name": "LayoutModel",
            "_view_count": null,
            "_view_module": "@jupyter-widgets/base",
            "_view_module_version": "1.2.0",
            "_view_name": "LayoutView",
            "align_content": null,
            "align_items": null,
            "align_self": null,
            "border": null,
            "bottom": null,
            "display": null,
            "flex": null,
            "flex_flow": null,
            "grid_area": null,
            "grid_auto_columns": null,
            "grid_auto_flow": null,
            "grid_auto_rows": null,
            "grid_column": null,
            "grid_gap": null,
            "grid_row": null,
            "grid_template_areas": null,
            "grid_template_columns": null,
            "grid_template_rows": null,
            "height": null,
            "justify_content": null,
            "justify_items": null,
            "left": null,
            "margin": null,
            "max_height": null,
            "max_width": null,
            "min_height": null,
            "min_width": null,
            "object_fit": null,
            "object_position": null,
            "order": null,
            "overflow": null,
            "overflow_x": null,
            "overflow_y": null,
            "padding": null,
            "right": null,
            "top": null,
            "visibility": null,
            "width": null
          }
        },
        "b001767b1a7a4708ab7aca6dad0322de": {
          "model_module": "@jupyter-widgets/controls",
          "model_name": "ProgressStyleModel",
          "model_module_version": "1.5.0",
          "state": {
            "_model_module": "@jupyter-widgets/controls",
            "_model_module_version": "1.5.0",
            "_model_name": "ProgressStyleModel",
            "_view_count": null,
            "_view_module": "@jupyter-widgets/base",
            "_view_module_version": "1.2.0",
            "_view_name": "StyleView",
            "bar_color": null,
            "description_width": ""
          }
        },
        "6a90a64370684be8a7afd3f7cc9c7d1d": {
          "model_module": "@jupyter-widgets/base",
          "model_name": "LayoutModel",
          "model_module_version": "1.2.0",
          "state": {
            "_model_module": "@jupyter-widgets/base",
            "_model_module_version": "1.2.0",
            "_model_name": "LayoutModel",
            "_view_count": null,
            "_view_module": "@jupyter-widgets/base",
            "_view_module_version": "1.2.0",
            "_view_name": "LayoutView",
            "align_content": null,
            "align_items": null,
            "align_self": null,
            "border": null,
            "bottom": null,
            "display": null,
            "flex": null,
            "flex_flow": null,
            "grid_area": null,
            "grid_auto_columns": null,
            "grid_auto_flow": null,
            "grid_auto_rows": null,
            "grid_column": null,
            "grid_gap": null,
            "grid_row": null,
            "grid_template_areas": null,
            "grid_template_columns": null,
            "grid_template_rows": null,
            "height": null,
            "justify_content": null,
            "justify_items": null,
            "left": null,
            "margin": null,
            "max_height": null,
            "max_width": null,
            "min_height": null,
            "min_width": null,
            "object_fit": null,
            "object_position": null,
            "order": null,
            "overflow": null,
            "overflow_x": null,
            "overflow_y": null,
            "padding": null,
            "right": null,
            "top": null,
            "visibility": null,
            "width": null
          }
        },
        "5d9070f0b42841e9a52aa9ae2be61e41": {
          "model_module": "@jupyter-widgets/controls",
          "model_name": "DescriptionStyleModel",
          "model_module_version": "1.5.0",
          "state": {
            "_model_module": "@jupyter-widgets/controls",
            "_model_module_version": "1.5.0",
            "_model_name": "DescriptionStyleModel",
            "_view_count": null,
            "_view_module": "@jupyter-widgets/base",
            "_view_module_version": "1.2.0",
            "_view_name": "StyleView",
            "description_width": ""
          }
        },
        "98e810ff7b5141e9a1fb23f512a649d8": {
          "model_module": "@jupyter-widgets/controls",
          "model_name": "HBoxModel",
          "model_module_version": "1.5.0",
          "state": {
            "_dom_classes": [],
            "_model_module": "@jupyter-widgets/controls",
            "_model_module_version": "1.5.0",
            "_model_name": "HBoxModel",
            "_view_count": null,
            "_view_module": "@jupyter-widgets/controls",
            "_view_module_version": "1.5.0",
            "_view_name": "HBoxView",
            "box_style": "",
            "children": [
              "IPY_MODEL_b4251af077b441759c82ddd0eb741e17",
              "IPY_MODEL_9b263ec1280b4a0f962a6c7865dda2e7",
              "IPY_MODEL_3f6998ee4c73493496633a0cfc0cd38e"
            ],
            "layout": "IPY_MODEL_8b7ee71c0d844a73b02b093df8e62f87"
          }
        },
        "b4251af077b441759c82ddd0eb741e17": {
          "model_module": "@jupyter-widgets/controls",
          "model_name": "HTMLModel",
          "model_module_version": "1.5.0",
          "state": {
            "_dom_classes": [],
            "_model_module": "@jupyter-widgets/controls",
            "_model_module_version": "1.5.0",
            "_model_name": "HTMLModel",
            "_view_count": null,
            "_view_module": "@jupyter-widgets/controls",
            "_view_module_version": "1.5.0",
            "_view_name": "HTMLView",
            "description": "",
            "description_tooltip": null,
            "layout": "IPY_MODEL_00316ab1987d40b0b000287eb235cb19",
            "placeholder": "​",
            "style": "IPY_MODEL_8b311afed55f4d8b81b60b70486b9dff",
            "value": "Map: 100%"
          }
        },
        "9b263ec1280b4a0f962a6c7865dda2e7": {
          "model_module": "@jupyter-widgets/controls",
          "model_name": "FloatProgressModel",
          "model_module_version": "1.5.0",
          "state": {
            "_dom_classes": [],
            "_model_module": "@jupyter-widgets/controls",
            "_model_module_version": "1.5.0",
            "_model_name": "FloatProgressModel",
            "_view_count": null,
            "_view_module": "@jupyter-widgets/controls",
            "_view_module_version": "1.5.0",
            "_view_name": "ProgressView",
            "bar_style": "success",
            "description": "",
            "description_tooltip": null,
            "layout": "IPY_MODEL_6f7d8b7f64114a71956b09efcda9f5d9",
            "max": 292,
            "min": 0,
            "orientation": "horizontal",
            "style": "IPY_MODEL_60e7a467655b4ea18d3f86a3251aceec",
            "value": 292
          }
        },
        "3f6998ee4c73493496633a0cfc0cd38e": {
          "model_module": "@jupyter-widgets/controls",
          "model_name": "HTMLModel",
          "model_module_version": "1.5.0",
          "state": {
            "_dom_classes": [],
            "_model_module": "@jupyter-widgets/controls",
            "_model_module_version": "1.5.0",
            "_model_name": "HTMLModel",
            "_view_count": null,
            "_view_module": "@jupyter-widgets/controls",
            "_view_module_version": "1.5.0",
            "_view_name": "HTMLView",
            "description": "",
            "description_tooltip": null,
            "layout": "IPY_MODEL_cd9ca92c2406451aa058f6fc36c5a6da",
            "placeholder": "​",
            "style": "IPY_MODEL_eb16bddf789d4b5c9d3c2848beb809d6",
            "value": " 292/292 [00:00&lt;00:00, 4900.46 examples/s]"
          }
        },
        "8b7ee71c0d844a73b02b093df8e62f87": {
          "model_module": "@jupyter-widgets/base",
          "model_name": "LayoutModel",
          "model_module_version": "1.2.0",
          "state": {
            "_model_module": "@jupyter-widgets/base",
            "_model_module_version": "1.2.0",
            "_model_name": "LayoutModel",
            "_view_count": null,
            "_view_module": "@jupyter-widgets/base",
            "_view_module_version": "1.2.0",
            "_view_name": "LayoutView",
            "align_content": null,
            "align_items": null,
            "align_self": null,
            "border": null,
            "bottom": null,
            "display": null,
            "flex": null,
            "flex_flow": null,
            "grid_area": null,
            "grid_auto_columns": null,
            "grid_auto_flow": null,
            "grid_auto_rows": null,
            "grid_column": null,
            "grid_gap": null,
            "grid_row": null,
            "grid_template_areas": null,
            "grid_template_columns": null,
            "grid_template_rows": null,
            "height": null,
            "justify_content": null,
            "justify_items": null,
            "left": null,
            "margin": null,
            "max_height": null,
            "max_width": null,
            "min_height": null,
            "min_width": null,
            "object_fit": null,
            "object_position": null,
            "order": null,
            "overflow": null,
            "overflow_x": null,
            "overflow_y": null,
            "padding": null,
            "right": null,
            "top": null,
            "visibility": null,
            "width": null
          }
        },
        "00316ab1987d40b0b000287eb235cb19": {
          "model_module": "@jupyter-widgets/base",
          "model_name": "LayoutModel",
          "model_module_version": "1.2.0",
          "state": {
            "_model_module": "@jupyter-widgets/base",
            "_model_module_version": "1.2.0",
            "_model_name": "LayoutModel",
            "_view_count": null,
            "_view_module": "@jupyter-widgets/base",
            "_view_module_version": "1.2.0",
            "_view_name": "LayoutView",
            "align_content": null,
            "align_items": null,
            "align_self": null,
            "border": null,
            "bottom": null,
            "display": null,
            "flex": null,
            "flex_flow": null,
            "grid_area": null,
            "grid_auto_columns": null,
            "grid_auto_flow": null,
            "grid_auto_rows": null,
            "grid_column": null,
            "grid_gap": null,
            "grid_row": null,
            "grid_template_areas": null,
            "grid_template_columns": null,
            "grid_template_rows": null,
            "height": null,
            "justify_content": null,
            "justify_items": null,
            "left": null,
            "margin": null,
            "max_height": null,
            "max_width": null,
            "min_height": null,
            "min_width": null,
            "object_fit": null,
            "object_position": null,
            "order": null,
            "overflow": null,
            "overflow_x": null,
            "overflow_y": null,
            "padding": null,
            "right": null,
            "top": null,
            "visibility": null,
            "width": null
          }
        },
        "8b311afed55f4d8b81b60b70486b9dff": {
          "model_module": "@jupyter-widgets/controls",
          "model_name": "DescriptionStyleModel",
          "model_module_version": "1.5.0",
          "state": {
            "_model_module": "@jupyter-widgets/controls",
            "_model_module_version": "1.5.0",
            "_model_name": "DescriptionStyleModel",
            "_view_count": null,
            "_view_module": "@jupyter-widgets/base",
            "_view_module_version": "1.2.0",
            "_view_name": "StyleView",
            "description_width": ""
          }
        },
        "6f7d8b7f64114a71956b09efcda9f5d9": {
          "model_module": "@jupyter-widgets/base",
          "model_name": "LayoutModel",
          "model_module_version": "1.2.0",
          "state": {
            "_model_module": "@jupyter-widgets/base",
            "_model_module_version": "1.2.0",
            "_model_name": "LayoutModel",
            "_view_count": null,
            "_view_module": "@jupyter-widgets/base",
            "_view_module_version": "1.2.0",
            "_view_name": "LayoutView",
            "align_content": null,
            "align_items": null,
            "align_self": null,
            "border": null,
            "bottom": null,
            "display": null,
            "flex": null,
            "flex_flow": null,
            "grid_area": null,
            "grid_auto_columns": null,
            "grid_auto_flow": null,
            "grid_auto_rows": null,
            "grid_column": null,
            "grid_gap": null,
            "grid_row": null,
            "grid_template_areas": null,
            "grid_template_columns": null,
            "grid_template_rows": null,
            "height": null,
            "justify_content": null,
            "justify_items": null,
            "left": null,
            "margin": null,
            "max_height": null,
            "max_width": null,
            "min_height": null,
            "min_width": null,
            "object_fit": null,
            "object_position": null,
            "order": null,
            "overflow": null,
            "overflow_x": null,
            "overflow_y": null,
            "padding": null,
            "right": null,
            "top": null,
            "visibility": null,
            "width": null
          }
        },
        "60e7a467655b4ea18d3f86a3251aceec": {
          "model_module": "@jupyter-widgets/controls",
          "model_name": "ProgressStyleModel",
          "model_module_version": "1.5.0",
          "state": {
            "_model_module": "@jupyter-widgets/controls",
            "_model_module_version": "1.5.0",
            "_model_name": "ProgressStyleModel",
            "_view_count": null,
            "_view_module": "@jupyter-widgets/base",
            "_view_module_version": "1.2.0",
            "_view_name": "StyleView",
            "bar_color": null,
            "description_width": ""
          }
        },
        "cd9ca92c2406451aa058f6fc36c5a6da": {
          "model_module": "@jupyter-widgets/base",
          "model_name": "LayoutModel",
          "model_module_version": "1.2.0",
          "state": {
            "_model_module": "@jupyter-widgets/base",
            "_model_module_version": "1.2.0",
            "_model_name": "LayoutModel",
            "_view_count": null,
            "_view_module": "@jupyter-widgets/base",
            "_view_module_version": "1.2.0",
            "_view_name": "LayoutView",
            "align_content": null,
            "align_items": null,
            "align_self": null,
            "border": null,
            "bottom": null,
            "display": null,
            "flex": null,
            "flex_flow": null,
            "grid_area": null,
            "grid_auto_columns": null,
            "grid_auto_flow": null,
            "grid_auto_rows": null,
            "grid_column": null,
            "grid_gap": null,
            "grid_row": null,
            "grid_template_areas": null,
            "grid_template_columns": null,
            "grid_template_rows": null,
            "height": null,
            "justify_content": null,
            "justify_items": null,
            "left": null,
            "margin": null,
            "max_height": null,
            "max_width": null,
            "min_height": null,
            "min_width": null,
            "object_fit": null,
            "object_position": null,
            "order": null,
            "overflow": null,
            "overflow_x": null,
            "overflow_y": null,
            "padding": null,
            "right": null,
            "top": null,
            "visibility": null,
            "width": null
          }
        },
        "eb16bddf789d4b5c9d3c2848beb809d6": {
          "model_module": "@jupyter-widgets/controls",
          "model_name": "DescriptionStyleModel",
          "model_module_version": "1.5.0",
          "state": {
            "_model_module": "@jupyter-widgets/controls",
            "_model_module_version": "1.5.0",
            "_model_name": "DescriptionStyleModel",
            "_view_count": null,
            "_view_module": "@jupyter-widgets/base",
            "_view_module_version": "1.2.0",
            "_view_name": "StyleView",
            "description_width": ""
          }
        },
        "517f9b2177ec4fdc85b928f41a80485b": {
          "model_module": "@jupyter-widgets/controls",
          "model_name": "HBoxModel",
          "model_module_version": "1.5.0",
          "state": {
            "_dom_classes": [],
            "_model_module": "@jupyter-widgets/controls",
            "_model_module_version": "1.5.0",
            "_model_name": "HBoxModel",
            "_view_count": null,
            "_view_module": "@jupyter-widgets/controls",
            "_view_module_version": "1.5.0",
            "_view_name": "HBoxView",
            "box_style": "",
            "children": [
              "IPY_MODEL_e47dd13affe042829d86774afe9a8428",
              "IPY_MODEL_d896a447feaa42538382668c02a99abe",
              "IPY_MODEL_8d5f8def526c4a1f8db711166a9c1fc5"
            ],
            "layout": "IPY_MODEL_a45c369e81f64b51aca0f20b4d811e30"
          }
        },
        "e47dd13affe042829d86774afe9a8428": {
          "model_module": "@jupyter-widgets/controls",
          "model_name": "HTMLModel",
          "model_module_version": "1.5.0",
          "state": {
            "_dom_classes": [],
            "_model_module": "@jupyter-widgets/controls",
            "_model_module_version": "1.5.0",
            "_model_name": "HTMLModel",
            "_view_count": null,
            "_view_module": "@jupyter-widgets/controls",
            "_view_module_version": "1.5.0",
            "_view_name": "HTMLView",
            "description": "",
            "description_tooltip": null,
            "layout": "IPY_MODEL_1c51469db642487ab425462c4dd6b395",
            "placeholder": "​",
            "style": "IPY_MODEL_a6a4188905094e9da63a509bb5b63321",
            "value": "Map: 100%"
          }
        },
        "d896a447feaa42538382668c02a99abe": {
          "model_module": "@jupyter-widgets/controls",
          "model_name": "FloatProgressModel",
          "model_module_version": "1.5.0",
          "state": {
            "_dom_classes": [],
            "_model_module": "@jupyter-widgets/controls",
            "_model_module_version": "1.5.0",
            "_model_name": "FloatProgressModel",
            "_view_count": null,
            "_view_module": "@jupyter-widgets/controls",
            "_view_module_version": "1.5.0",
            "_view_name": "ProgressView",
            "bar_style": "success",
            "description": "",
            "description_tooltip": null,
            "layout": "IPY_MODEL_e96f0092154143a2917b0059a8353440",
            "max": 22,
            "min": 0,
            "orientation": "horizontal",
            "style": "IPY_MODEL_80d0e5a8d68d42898e116fd214486710",
            "value": 22
          }
        },
        "8d5f8def526c4a1f8db711166a9c1fc5": {
          "model_module": "@jupyter-widgets/controls",
          "model_name": "HTMLModel",
          "model_module_version": "1.5.0",
          "state": {
            "_dom_classes": [],
            "_model_module": "@jupyter-widgets/controls",
            "_model_module_version": "1.5.0",
            "_model_name": "HTMLModel",
            "_view_count": null,
            "_view_module": "@jupyter-widgets/controls",
            "_view_module_version": "1.5.0",
            "_view_name": "HTMLView",
            "description": "",
            "description_tooltip": null,
            "layout": "IPY_MODEL_70a28363b90e42c5a6c9b65864b0ca63",
            "placeholder": "​",
            "style": "IPY_MODEL_776658f986054490830e66fc4d69fa29",
            "value": " 22/22 [00:00&lt;00:00, 1250.79 examples/s]"
          }
        },
        "a45c369e81f64b51aca0f20b4d811e30": {
          "model_module": "@jupyter-widgets/base",
          "model_name": "LayoutModel",
          "model_module_version": "1.2.0",
          "state": {
            "_model_module": "@jupyter-widgets/base",
            "_model_module_version": "1.2.0",
            "_model_name": "LayoutModel",
            "_view_count": null,
            "_view_module": "@jupyter-widgets/base",
            "_view_module_version": "1.2.0",
            "_view_name": "LayoutView",
            "align_content": null,
            "align_items": null,
            "align_self": null,
            "border": null,
            "bottom": null,
            "display": null,
            "flex": null,
            "flex_flow": null,
            "grid_area": null,
            "grid_auto_columns": null,
            "grid_auto_flow": null,
            "grid_auto_rows": null,
            "grid_column": null,
            "grid_gap": null,
            "grid_row": null,
            "grid_template_areas": null,
            "grid_template_columns": null,
            "grid_template_rows": null,
            "height": null,
            "justify_content": null,
            "justify_items": null,
            "left": null,
            "margin": null,
            "max_height": null,
            "max_width": null,
            "min_height": null,
            "min_width": null,
            "object_fit": null,
            "object_position": null,
            "order": null,
            "overflow": null,
            "overflow_x": null,
            "overflow_y": null,
            "padding": null,
            "right": null,
            "top": null,
            "visibility": null,
            "width": null
          }
        },
        "1c51469db642487ab425462c4dd6b395": {
          "model_module": "@jupyter-widgets/base",
          "model_name": "LayoutModel",
          "model_module_version": "1.2.0",
          "state": {
            "_model_module": "@jupyter-widgets/base",
            "_model_module_version": "1.2.0",
            "_model_name": "LayoutModel",
            "_view_count": null,
            "_view_module": "@jupyter-widgets/base",
            "_view_module_version": "1.2.0",
            "_view_name": "LayoutView",
            "align_content": null,
            "align_items": null,
            "align_self": null,
            "border": null,
            "bottom": null,
            "display": null,
            "flex": null,
            "flex_flow": null,
            "grid_area": null,
            "grid_auto_columns": null,
            "grid_auto_flow": null,
            "grid_auto_rows": null,
            "grid_column": null,
            "grid_gap": null,
            "grid_row": null,
            "grid_template_areas": null,
            "grid_template_columns": null,
            "grid_template_rows": null,
            "height": null,
            "justify_content": null,
            "justify_items": null,
            "left": null,
            "margin": null,
            "max_height": null,
            "max_width": null,
            "min_height": null,
            "min_width": null,
            "object_fit": null,
            "object_position": null,
            "order": null,
            "overflow": null,
            "overflow_x": null,
            "overflow_y": null,
            "padding": null,
            "right": null,
            "top": null,
            "visibility": null,
            "width": null
          }
        },
        "a6a4188905094e9da63a509bb5b63321": {
          "model_module": "@jupyter-widgets/controls",
          "model_name": "DescriptionStyleModel",
          "model_module_version": "1.5.0",
          "state": {
            "_model_module": "@jupyter-widgets/controls",
            "_model_module_version": "1.5.0",
            "_model_name": "DescriptionStyleModel",
            "_view_count": null,
            "_view_module": "@jupyter-widgets/base",
            "_view_module_version": "1.2.0",
            "_view_name": "StyleView",
            "description_width": ""
          }
        },
        "e96f0092154143a2917b0059a8353440": {
          "model_module": "@jupyter-widgets/base",
          "model_name": "LayoutModel",
          "model_module_version": "1.2.0",
          "state": {
            "_model_module": "@jupyter-widgets/base",
            "_model_module_version": "1.2.0",
            "_model_name": "LayoutModel",
            "_view_count": null,
            "_view_module": "@jupyter-widgets/base",
            "_view_module_version": "1.2.0",
            "_view_name": "LayoutView",
            "align_content": null,
            "align_items": null,
            "align_self": null,
            "border": null,
            "bottom": null,
            "display": null,
            "flex": null,
            "flex_flow": null,
            "grid_area": null,
            "grid_auto_columns": null,
            "grid_auto_flow": null,
            "grid_auto_rows": null,
            "grid_column": null,
            "grid_gap": null,
            "grid_row": null,
            "grid_template_areas": null,
            "grid_template_columns": null,
            "grid_template_rows": null,
            "height": null,
            "justify_content": null,
            "justify_items": null,
            "left": null,
            "margin": null,
            "max_height": null,
            "max_width": null,
            "min_height": null,
            "min_width": null,
            "object_fit": null,
            "object_position": null,
            "order": null,
            "overflow": null,
            "overflow_x": null,
            "overflow_y": null,
            "padding": null,
            "right": null,
            "top": null,
            "visibility": null,
            "width": null
          }
        },
        "80d0e5a8d68d42898e116fd214486710": {
          "model_module": "@jupyter-widgets/controls",
          "model_name": "ProgressStyleModel",
          "model_module_version": "1.5.0",
          "state": {
            "_model_module": "@jupyter-widgets/controls",
            "_model_module_version": "1.5.0",
            "_model_name": "ProgressStyleModel",
            "_view_count": null,
            "_view_module": "@jupyter-widgets/base",
            "_view_module_version": "1.2.0",
            "_view_name": "StyleView",
            "bar_color": null,
            "description_width": ""
          }
        },
        "70a28363b90e42c5a6c9b65864b0ca63": {
          "model_module": "@jupyter-widgets/base",
          "model_name": "LayoutModel",
          "model_module_version": "1.2.0",
          "state": {
            "_model_module": "@jupyter-widgets/base",
            "_model_module_version": "1.2.0",
            "_model_name": "LayoutModel",
            "_view_count": null,
            "_view_module": "@jupyter-widgets/base",
            "_view_module_version": "1.2.0",
            "_view_name": "LayoutView",
            "align_content": null,
            "align_items": null,
            "align_self": null,
            "border": null,
            "bottom": null,
            "display": null,
            "flex": null,
            "flex_flow": null,
            "grid_area": null,
            "grid_auto_columns": null,
            "grid_auto_flow": null,
            "grid_auto_rows": null,
            "grid_column": null,
            "grid_gap": null,
            "grid_row": null,
            "grid_template_areas": null,
            "grid_template_columns": null,
            "grid_template_rows": null,
            "height": null,
            "justify_content": null,
            "justify_items": null,
            "left": null,
            "margin": null,
            "max_height": null,
            "max_width": null,
            "min_height": null,
            "min_width": null,
            "object_fit": null,
            "object_position": null,
            "order": null,
            "overflow": null,
            "overflow_x": null,
            "overflow_y": null,
            "padding": null,
            "right": null,
            "top": null,
            "visibility": null,
            "width": null
          }
        },
        "776658f986054490830e66fc4d69fa29": {
          "model_module": "@jupyter-widgets/controls",
          "model_name": "DescriptionStyleModel",
          "model_module_version": "1.5.0",
          "state": {
            "_model_module": "@jupyter-widgets/controls",
            "_model_module_version": "1.5.0",
            "_model_name": "DescriptionStyleModel",
            "_view_count": null,
            "_view_module": "@jupyter-widgets/base",
            "_view_module_version": "1.2.0",
            "_view_name": "StyleView",
            "description_width": ""
          }
        },
        "cd606221edec4309802e5477fc3f2209": {
          "model_module": "@jupyter-widgets/controls",
          "model_name": "HBoxModel",
          "model_module_version": "1.5.0",
          "state": {
            "_dom_classes": [],
            "_model_module": "@jupyter-widgets/controls",
            "_model_module_version": "1.5.0",
            "_model_name": "HBoxModel",
            "_view_count": null,
            "_view_module": "@jupyter-widgets/controls",
            "_view_module_version": "1.5.0",
            "_view_name": "HBoxView",
            "box_style": "",
            "children": [
              "IPY_MODEL_5177f17ecf244024a8a1d4710dfb16d6",
              "IPY_MODEL_0076f555c1a848b9bd755c9e16881043",
              "IPY_MODEL_5dfcaa25cbb54e72b3554b0bf738c124"
            ],
            "layout": "IPY_MODEL_a901ca4c8de34f158acca9a7a628d31b"
          }
        },
        "5177f17ecf244024a8a1d4710dfb16d6": {
          "model_module": "@jupyter-widgets/controls",
          "model_name": "HTMLModel",
          "model_module_version": "1.5.0",
          "state": {
            "_dom_classes": [],
            "_model_module": "@jupyter-widgets/controls",
            "_model_module_version": "1.5.0",
            "_model_name": "HTMLModel",
            "_view_count": null,
            "_view_module": "@jupyter-widgets/controls",
            "_view_module_version": "1.5.0",
            "_view_name": "HTMLView",
            "description": "",
            "description_tooltip": null,
            "layout": "IPY_MODEL_9df0b0087486423dbf523458adbfbe48",
            "placeholder": "​",
            "style": "IPY_MODEL_53629fdc7bb04239a6eb727290a736dc",
            "value": "Map: 100%"
          }
        },
        "0076f555c1a848b9bd755c9e16881043": {
          "model_module": "@jupyter-widgets/controls",
          "model_name": "FloatProgressModel",
          "model_module_version": "1.5.0",
          "state": {
            "_dom_classes": [],
            "_model_module": "@jupyter-widgets/controls",
            "_model_module_version": "1.5.0",
            "_model_name": "FloatProgressModel",
            "_view_count": null,
            "_view_module": "@jupyter-widgets/controls",
            "_view_module_version": "1.5.0",
            "_view_name": "ProgressView",
            "bar_style": "success",
            "description": "",
            "description_tooltip": null,
            "layout": "IPY_MODEL_4f101ebe344d499e8383370a33133f59",
            "max": 126,
            "min": 0,
            "orientation": "horizontal",
            "style": "IPY_MODEL_659d98f063334effaeaaa8bd374194ca",
            "value": 126
          }
        },
        "5dfcaa25cbb54e72b3554b0bf738c124": {
          "model_module": "@jupyter-widgets/controls",
          "model_name": "HTMLModel",
          "model_module_version": "1.5.0",
          "state": {
            "_dom_classes": [],
            "_model_module": "@jupyter-widgets/controls",
            "_model_module_version": "1.5.0",
            "_model_name": "HTMLModel",
            "_view_count": null,
            "_view_module": "@jupyter-widgets/controls",
            "_view_module_version": "1.5.0",
            "_view_name": "HTMLView",
            "description": "",
            "description_tooltip": null,
            "layout": "IPY_MODEL_7b97a68e29a941638504b7234a5bdf39",
            "placeholder": "​",
            "style": "IPY_MODEL_9bea99f8cd584d1ba08706d7c9f0ae78",
            "value": " 126/126 [00:00&lt;00:00, 3894.66 examples/s]"
          }
        },
        "a901ca4c8de34f158acca9a7a628d31b": {
          "model_module": "@jupyter-widgets/base",
          "model_name": "LayoutModel",
          "model_module_version": "1.2.0",
          "state": {
            "_model_module": "@jupyter-widgets/base",
            "_model_module_version": "1.2.0",
            "_model_name": "LayoutModel",
            "_view_count": null,
            "_view_module": "@jupyter-widgets/base",
            "_view_module_version": "1.2.0",
            "_view_name": "LayoutView",
            "align_content": null,
            "align_items": null,
            "align_self": null,
            "border": null,
            "bottom": null,
            "display": null,
            "flex": null,
            "flex_flow": null,
            "grid_area": null,
            "grid_auto_columns": null,
            "grid_auto_flow": null,
            "grid_auto_rows": null,
            "grid_column": null,
            "grid_gap": null,
            "grid_row": null,
            "grid_template_areas": null,
            "grid_template_columns": null,
            "grid_template_rows": null,
            "height": null,
            "justify_content": null,
            "justify_items": null,
            "left": null,
            "margin": null,
            "max_height": null,
            "max_width": null,
            "min_height": null,
            "min_width": null,
            "object_fit": null,
            "object_position": null,
            "order": null,
            "overflow": null,
            "overflow_x": null,
            "overflow_y": null,
            "padding": null,
            "right": null,
            "top": null,
            "visibility": null,
            "width": null
          }
        },
        "9df0b0087486423dbf523458adbfbe48": {
          "model_module": "@jupyter-widgets/base",
          "model_name": "LayoutModel",
          "model_module_version": "1.2.0",
          "state": {
            "_model_module": "@jupyter-widgets/base",
            "_model_module_version": "1.2.0",
            "_model_name": "LayoutModel",
            "_view_count": null,
            "_view_module": "@jupyter-widgets/base",
            "_view_module_version": "1.2.0",
            "_view_name": "LayoutView",
            "align_content": null,
            "align_items": null,
            "align_self": null,
            "border": null,
            "bottom": null,
            "display": null,
            "flex": null,
            "flex_flow": null,
            "grid_area": null,
            "grid_auto_columns": null,
            "grid_auto_flow": null,
            "grid_auto_rows": null,
            "grid_column": null,
            "grid_gap": null,
            "grid_row": null,
            "grid_template_areas": null,
            "grid_template_columns": null,
            "grid_template_rows": null,
            "height": null,
            "justify_content": null,
            "justify_items": null,
            "left": null,
            "margin": null,
            "max_height": null,
            "max_width": null,
            "min_height": null,
            "min_width": null,
            "object_fit": null,
            "object_position": null,
            "order": null,
            "overflow": null,
            "overflow_x": null,
            "overflow_y": null,
            "padding": null,
            "right": null,
            "top": null,
            "visibility": null,
            "width": null
          }
        },
        "53629fdc7bb04239a6eb727290a736dc": {
          "model_module": "@jupyter-widgets/controls",
          "model_name": "DescriptionStyleModel",
          "model_module_version": "1.5.0",
          "state": {
            "_model_module": "@jupyter-widgets/controls",
            "_model_module_version": "1.5.0",
            "_model_name": "DescriptionStyleModel",
            "_view_count": null,
            "_view_module": "@jupyter-widgets/base",
            "_view_module_version": "1.2.0",
            "_view_name": "StyleView",
            "description_width": ""
          }
        },
        "4f101ebe344d499e8383370a33133f59": {
          "model_module": "@jupyter-widgets/base",
          "model_name": "LayoutModel",
          "model_module_version": "1.2.0",
          "state": {
            "_model_module": "@jupyter-widgets/base",
            "_model_module_version": "1.2.0",
            "_model_name": "LayoutModel",
            "_view_count": null,
            "_view_module": "@jupyter-widgets/base",
            "_view_module_version": "1.2.0",
            "_view_name": "LayoutView",
            "align_content": null,
            "align_items": null,
            "align_self": null,
            "border": null,
            "bottom": null,
            "display": null,
            "flex": null,
            "flex_flow": null,
            "grid_area": null,
            "grid_auto_columns": null,
            "grid_auto_flow": null,
            "grid_auto_rows": null,
            "grid_column": null,
            "grid_gap": null,
            "grid_row": null,
            "grid_template_areas": null,
            "grid_template_columns": null,
            "grid_template_rows": null,
            "height": null,
            "justify_content": null,
            "justify_items": null,
            "left": null,
            "margin": null,
            "max_height": null,
            "max_width": null,
            "min_height": null,
            "min_width": null,
            "object_fit": null,
            "object_position": null,
            "order": null,
            "overflow": null,
            "overflow_x": null,
            "overflow_y": null,
            "padding": null,
            "right": null,
            "top": null,
            "visibility": null,
            "width": null
          }
        },
        "659d98f063334effaeaaa8bd374194ca": {
          "model_module": "@jupyter-widgets/controls",
          "model_name": "ProgressStyleModel",
          "model_module_version": "1.5.0",
          "state": {
            "_model_module": "@jupyter-widgets/controls",
            "_model_module_version": "1.5.0",
            "_model_name": "ProgressStyleModel",
            "_view_count": null,
            "_view_module": "@jupyter-widgets/base",
            "_view_module_version": "1.2.0",
            "_view_name": "StyleView",
            "bar_color": null,
            "description_width": ""
          }
        },
        "7b97a68e29a941638504b7234a5bdf39": {
          "model_module": "@jupyter-widgets/base",
          "model_name": "LayoutModel",
          "model_module_version": "1.2.0",
          "state": {
            "_model_module": "@jupyter-widgets/base",
            "_model_module_version": "1.2.0",
            "_model_name": "LayoutModel",
            "_view_count": null,
            "_view_module": "@jupyter-widgets/base",
            "_view_module_version": "1.2.0",
            "_view_name": "LayoutView",
            "align_content": null,
            "align_items": null,
            "align_self": null,
            "border": null,
            "bottom": null,
            "display": null,
            "flex": null,
            "flex_flow": null,
            "grid_area": null,
            "grid_auto_columns": null,
            "grid_auto_flow": null,
            "grid_auto_rows": null,
            "grid_column": null,
            "grid_gap": null,
            "grid_row": null,
            "grid_template_areas": null,
            "grid_template_columns": null,
            "grid_template_rows": null,
            "height": null,
            "justify_content": null,
            "justify_items": null,
            "left": null,
            "margin": null,
            "max_height": null,
            "max_width": null,
            "min_height": null,
            "min_width": null,
            "object_fit": null,
            "object_position": null,
            "order": null,
            "overflow": null,
            "overflow_x": null,
            "overflow_y": null,
            "padding": null,
            "right": null,
            "top": null,
            "visibility": null,
            "width": null
          }
        },
        "9bea99f8cd584d1ba08706d7c9f0ae78": {
          "model_module": "@jupyter-widgets/controls",
          "model_name": "DescriptionStyleModel",
          "model_module_version": "1.5.0",
          "state": {
            "_model_module": "@jupyter-widgets/controls",
            "_model_module_version": "1.5.0",
            "_model_name": "DescriptionStyleModel",
            "_view_count": null,
            "_view_module": "@jupyter-widgets/base",
            "_view_module_version": "1.2.0",
            "_view_name": "StyleView",
            "description_width": ""
          }
        }
      }
    },
    "accelerator": "GPU"
  },
  "cells": [
    {
      "cell_type": "code",
      "source": [
        "# Setup\n",
        "! pip install seqeval evaluate\n",
        "! pip install kaleido\n",
        "! pip install --upgrade nevergrad # upgrade to ensure latest version"
      ],
      "metadata": {
        "colab": {
          "base_uri": "https://localhost:8080/"
        },
        "id": "l8K_pVvB82I8",
        "outputId": "de5f9be1-4a2f-4636-a7ff-73fee0d9d464"
      },
      "execution_count": 28,
      "outputs": [
        {
          "output_type": "stream",
          "name": "stdout",
          "text": [
            "Requirement already satisfied: seqeval in /usr/local/lib/python3.11/dist-packages (1.2.2)\n",
            "Requirement already satisfied: evaluate in /usr/local/lib/python3.11/dist-packages (0.4.3)\n",
            "Requirement already satisfied: numpy>=1.14.0 in /usr/local/lib/python3.11/dist-packages (from seqeval) (1.26.4)\n",
            "Requirement already satisfied: scikit-learn>=0.21.3 in /usr/local/lib/python3.11/dist-packages (from seqeval) (1.6.1)\n",
            "Requirement already satisfied: datasets>=2.0.0 in /usr/local/lib/python3.11/dist-packages (from evaluate) (3.3.2)\n",
            "Requirement already satisfied: dill in /usr/local/lib/python3.11/dist-packages (from evaluate) (0.3.8)\n",
            "Requirement already satisfied: pandas in /usr/local/lib/python3.11/dist-packages (from evaluate) (2.2.2)\n",
            "Requirement already satisfied: requests>=2.19.0 in /usr/local/lib/python3.11/dist-packages (from evaluate) (2.32.3)\n",
            "Requirement already satisfied: tqdm>=4.62.1 in /usr/local/lib/python3.11/dist-packages (from evaluate) (4.67.1)\n",
            "Requirement already satisfied: xxhash in /usr/local/lib/python3.11/dist-packages (from evaluate) (3.5.0)\n",
            "Requirement already satisfied: multiprocess in /usr/local/lib/python3.11/dist-packages (from evaluate) (0.70.16)\n",
            "Requirement already satisfied: fsspec>=2021.05.0 in /usr/local/lib/python3.11/dist-packages (from fsspec[http]>=2021.05.0->evaluate) (2024.10.0)\n",
            "Requirement already satisfied: huggingface-hub>=0.7.0 in /usr/local/lib/python3.11/dist-packages (from evaluate) (0.28.1)\n",
            "Requirement already satisfied: packaging in /usr/local/lib/python3.11/dist-packages (from evaluate) (24.2)\n",
            "Requirement already satisfied: filelock in /usr/local/lib/python3.11/dist-packages (from datasets>=2.0.0->evaluate) (3.17.0)\n",
            "Requirement already satisfied: pyarrow>=15.0.0 in /usr/local/lib/python3.11/dist-packages (from datasets>=2.0.0->evaluate) (18.1.0)\n",
            "Requirement already satisfied: aiohttp in /usr/local/lib/python3.11/dist-packages (from datasets>=2.0.0->evaluate) (3.11.12)\n",
            "Requirement already satisfied: pyyaml>=5.1 in /usr/local/lib/python3.11/dist-packages (from datasets>=2.0.0->evaluate) (6.0.2)\n",
            "Requirement already satisfied: typing-extensions>=3.7.4.3 in /usr/local/lib/python3.11/dist-packages (from huggingface-hub>=0.7.0->evaluate) (4.12.2)\n",
            "Requirement already satisfied: charset-normalizer<4,>=2 in /usr/local/lib/python3.11/dist-packages (from requests>=2.19.0->evaluate) (3.4.1)\n",
            "Requirement already satisfied: idna<4,>=2.5 in /usr/local/lib/python3.11/dist-packages (from requests>=2.19.0->evaluate) (3.10)\n",
            "Requirement already satisfied: urllib3<3,>=1.21.1 in /usr/local/lib/python3.11/dist-packages (from requests>=2.19.0->evaluate) (2.3.0)\n",
            "Requirement already satisfied: certifi>=2017.4.17 in /usr/local/lib/python3.11/dist-packages (from requests>=2.19.0->evaluate) (2025.1.31)\n",
            "Requirement already satisfied: scipy>=1.6.0 in /usr/local/lib/python3.11/dist-packages (from scikit-learn>=0.21.3->seqeval) (1.13.1)\n",
            "Requirement already satisfied: joblib>=1.2.0 in /usr/local/lib/python3.11/dist-packages (from scikit-learn>=0.21.3->seqeval) (1.4.2)\n",
            "Requirement already satisfied: threadpoolctl>=3.1.0 in /usr/local/lib/python3.11/dist-packages (from scikit-learn>=0.21.3->seqeval) (3.5.0)\n",
            "Requirement already satisfied: python-dateutil>=2.8.2 in /usr/local/lib/python3.11/dist-packages (from pandas->evaluate) (2.8.2)\n",
            "Requirement already satisfied: pytz>=2020.1 in /usr/local/lib/python3.11/dist-packages (from pandas->evaluate) (2025.1)\n",
            "Requirement already satisfied: tzdata>=2022.7 in /usr/local/lib/python3.11/dist-packages (from pandas->evaluate) (2025.1)\n",
            "Requirement already satisfied: aiohappyeyeballs>=2.3.0 in /usr/local/lib/python3.11/dist-packages (from aiohttp->datasets>=2.0.0->evaluate) (2.4.6)\n",
            "Requirement already satisfied: aiosignal>=1.1.2 in /usr/local/lib/python3.11/dist-packages (from aiohttp->datasets>=2.0.0->evaluate) (1.3.2)\n",
            "Requirement already satisfied: attrs>=17.3.0 in /usr/local/lib/python3.11/dist-packages (from aiohttp->datasets>=2.0.0->evaluate) (25.1.0)\n",
            "Requirement already satisfied: frozenlist>=1.1.1 in /usr/local/lib/python3.11/dist-packages (from aiohttp->datasets>=2.0.0->evaluate) (1.5.0)\n",
            "Requirement already satisfied: multidict<7.0,>=4.5 in /usr/local/lib/python3.11/dist-packages (from aiohttp->datasets>=2.0.0->evaluate) (6.1.0)\n",
            "Requirement already satisfied: propcache>=0.2.0 in /usr/local/lib/python3.11/dist-packages (from aiohttp->datasets>=2.0.0->evaluate) (0.3.0)\n",
            "Requirement already satisfied: yarl<2.0,>=1.17.0 in /usr/local/lib/python3.11/dist-packages (from aiohttp->datasets>=2.0.0->evaluate) (1.18.3)\n",
            "Requirement already satisfied: six>=1.5 in /usr/local/lib/python3.11/dist-packages (from python-dateutil>=2.8.2->pandas->evaluate) (1.17.0)\n",
            "Requirement already satisfied: kaleido in /usr/local/lib/python3.11/dist-packages (0.2.1)\n",
            "Requirement already satisfied: nevergrad in /usr/local/lib/python3.11/dist-packages (1.0.8)\n",
            "Requirement already satisfied: numpy>=1.24.0 in /usr/local/lib/python3.11/dist-packages (from nevergrad) (1.26.4)\n",
            "Requirement already satisfied: cma>=2.6.0 in /usr/local/lib/python3.11/dist-packages (from nevergrad) (4.0.0)\n",
            "Requirement already satisfied: bayesian-optimization==1.4.0 in /usr/local/lib/python3.11/dist-packages (from nevergrad) (1.4.0)\n",
            "Requirement already satisfied: typing_extensions>=3.6.6 in /usr/local/lib/python3.11/dist-packages (from nevergrad) (4.12.2)\n",
            "Requirement already satisfied: pandas in /usr/local/lib/python3.11/dist-packages (from nevergrad) (2.2.2)\n",
            "Requirement already satisfied: colorama==0.4.0 in /usr/local/lib/python3.11/dist-packages (from nevergrad) (0.4.0)\n",
            "Requirement already satisfied: directsearch in /usr/local/lib/python3.11/dist-packages (from nevergrad) (1.0)\n",
            "Requirement already satisfied: scipy>=1.0.0 in /usr/local/lib/python3.11/dist-packages (from bayesian-optimization==1.4.0->nevergrad) (1.13.1)\n",
            "Requirement already satisfied: scikit-learn>=0.18.0 in /usr/local/lib/python3.11/dist-packages (from bayesian-optimization==1.4.0->nevergrad) (1.6.1)\n",
            "Requirement already satisfied: python-dateutil>=2.8.2 in /usr/local/lib/python3.11/dist-packages (from pandas->nevergrad) (2.8.2)\n",
            "Requirement already satisfied: pytz>=2020.1 in /usr/local/lib/python3.11/dist-packages (from pandas->nevergrad) (2025.1)\n",
            "Requirement already satisfied: tzdata>=2022.7 in /usr/local/lib/python3.11/dist-packages (from pandas->nevergrad) (2025.1)\n",
            "Requirement already satisfied: six>=1.5 in /usr/local/lib/python3.11/dist-packages (from python-dateutil>=2.8.2->pandas->nevergrad) (1.17.0)\n",
            "Requirement already satisfied: joblib>=1.2.0 in /usr/local/lib/python3.11/dist-packages (from scikit-learn>=0.18.0->bayesian-optimization==1.4.0->nevergrad) (1.4.2)\n",
            "Requirement already satisfied: threadpoolctl>=3.1.0 in /usr/local/lib/python3.11/dist-packages (from scikit-learn>=0.18.0->bayesian-optimization==1.4.0->nevergrad) (3.5.0)\n"
          ]
        }
      ]
    },
    {
      "cell_type": "code",
      "execution_count": 29,
      "metadata": {
        "id": "75soUDcWD9wO"
      },
      "outputs": [],
      "source": [
        "# Library imports\n",
        "from transformers import AutoTokenizer, AutoModel, pipeline, AutoConfig, DistilBertForSequenceClassification, DistilBertModel, DistilBertConfig, DistilBertPreTrainedModel, AutoModelForSequenceClassification\n",
        "from transformers import DataCollatorWithPadding, TrainingArguments, Trainer\n",
        "from transformers.modeling_outputs import SequenceClassifierOutput\n",
        "from transformers.tokenization_utils_base import BatchEncoding\n",
        "from datasets import Dataset, DatasetDict\n",
        "import torch\n",
        "import torch.nn as nn\n",
        "from google.colab import drive, userdata\n",
        "import pickle\n",
        "import random\n",
        "import re\n",
        "import time\n",
        "import pandas as pd\n",
        "import numpy as np\n",
        "from sklearn.model_selection import train_test_split\n",
        "import plotly.express as px\n",
        "import evaluate\n",
        "import pprint\n",
        "import kaleido\n",
        "import matplotlib.pyplot as plt\n",
        "import seaborn as sns\n",
        "from sklearn.metrics import accuracy_score, f1_score, recall_score, precision_score\n",
        "import re\n",
        "from tqdm import tqdm\n",
        "import torch.nn.functional as F\n",
        "from torch.utils.data import DataLoader\n",
        "import nevergrad as ng\n",
        "import wandb\n",
        "import shutil\n",
        "import tempfile\n",
        "import os"
      ]
    },
    {
      "cell_type": "code",
      "source": [
        "# Mount drive\n",
        "drive.mount(\"/content/drive\")\n",
        "%cd '/content/drive/MyDrive/Colab Notebooks/Math_Graph/pickle_files'"
      ],
      "metadata": {
        "colab": {
          "base_uri": "https://localhost:8080/"
        },
        "id": "CuSCLxyxEWlZ",
        "outputId": "9dbd7e56-955c-4fe3-f955-fb38ad267035"
      },
      "execution_count": 30,
      "outputs": [
        {
          "output_type": "stream",
          "name": "stdout",
          "text": [
            "Drive already mounted at /content/drive; to attempt to forcibly remount, call drive.mount(\"/content/drive\", force_remount=True).\n",
            "/content/drive/MyDrive/Colab Notebooks/Math_Graph/pickle_files\n"
          ]
        }
      ]
    },
    {
      "cell_type": "code",
      "source": [
        "# View all pandas columns, rows\n",
        "pd.set_option('display.max_columns', None)\n",
        "pd.set_option('display.max_rows', None)"
      ],
      "metadata": {
        "id": "FlbHeJT1EZQJ"
      },
      "execution_count": 31,
      "outputs": []
    },
    {
      "cell_type": "code",
      "source": [
        "# Define file read function\n",
        "def read_pickle(dict_file):\n",
        "  with open(dict_file, 'rb') as file:\n",
        "    return pickle.load(file)"
      ],
      "metadata": {
        "id": "jDh6B_A7EcKL"
      },
      "execution_count": 32,
      "outputs": []
    },
    {
      "cell_type": "code",
      "source": [
        "# Load custom trained model\n",
        "\n",
        "checkpoint = \"Heather-Driver/distilbert-NER-LinearAlg-finetuned\"\n",
        "tokenizer = AutoTokenizer.from_pretrained(checkpoint, do_lower_case=False)\n",
        "distilbert_model = DistilBertModel.from_pretrained(checkpoint)\n",
        "device = torch.device(\"cuda\" if torch.cuda.is_available() else \"cpu\")"
      ],
      "metadata": {
        "id": "IU0OFbxRZGDF"
      },
      "execution_count": 33,
      "outputs": []
    },
    {
      "cell_type": "code",
      "source": [
        "def extract_window(sentence, predicate, window_size):\n",
        "  \"\"\"This function creates a window around the matching predicate in order to tokenize and later get the span vectors for the window.\n",
        "  The function adjusts according to the window size wanted\"\"\"\n",
        "  tokens = sentence.split()\n",
        "\n",
        "  # Find the starting index of the predicate in the sentence (find all word positions for the predicate)\n",
        "  pattern = re.escape(predicate)  # Escape the predicate string to handle special characters if any\n",
        "  match = re.search(pattern, sentence)\n",
        "\n",
        "  if not match:\n",
        "      return \"Predicate not found in the sentence.\"\n",
        "\n",
        "  # Get the index of where the predicate starts in the list of tokens\n",
        "  start_index = len(sentence[:match.start()].split())  # Token index of the start of predicate\n",
        "\n",
        "  # Define the sample window\n",
        "  start_window = max(0, start_index - window_size)\n",
        "  end_window = min(len(tokens), start_index + len(predicate.split()) + window_size)\n",
        "\n",
        "  # Create the window of words around the predicate\n",
        "  window = tokens[start_window:end_window]\n",
        "\n",
        "  # If the window is too short at the beginning or the end, adjust to take as many as possible\n",
        "  if start_window == 0:\n",
        "      # If the window is at the start, extend the end if possible\n",
        "      end_window = min(len(tokens), start_index + len(predicate.split()) + window_size)\n",
        "  if end_window == len(tokens):\n",
        "      # If the window is at the end, extend the start if possible\n",
        "      start_window = max(0, start_index - window_size)\n",
        "\n",
        "  # Create the window of words around the predicate again after adjustments\n",
        "  window = tokens[start_window:end_window]\n",
        "  return ' '.join(window)\n",
        "\n",
        "def adds_context_window(window_size, df):\n",
        "  for i in range(len(df)):\n",
        "    text = extract_window(df.at[i, 'sentence'], df.at[i, 'predicate'], window_size=window_size)\n",
        "    df.at[i, 'context_window'] = text\n",
        "  return df"
      ],
      "metadata": {
        "id": "nqrXrYsqtyLm"
      },
      "execution_count": 34,
      "outputs": []
    },
    {
      "cell_type": "code",
      "source": [
        "# Read in dictionary\n",
        "predicate_data = read_pickle('predicate_data.pkl')\n",
        "predicate_data = predicate_data.rename(columns={'Window_1': 'context_window', 'Label': 'string_label'})\n",
        "predicate_data.columns = predicate_data.columns.str.lower()"
      ],
      "metadata": {
        "id": "yXGhf-neElw2"
      },
      "execution_count": 35,
      "outputs": []
    },
    {
      "cell_type": "code",
      "source": [
        "# Need mapping of classification tags to their indices for model to use\n",
        "\n",
        "index2tag = {idx:tag for idx, tag in enumerate(predicate_data['string_label'].unique())} # This is just a nonsignificant arbitrary mapping of the label to a number for training the model\n",
        "tag2index = {tag:idx for idx, tag in enumerate(predicate_data['string_label'].unique())} # To lookup indices from tags"
      ],
      "metadata": {
        "id": "kbNLxFcAKtGO"
      },
      "execution_count": 36,
      "outputs": []
    },
    {
      "cell_type": "code",
      "source": [
        "predicate_data['label'] = predicate_data['string_label'].map(tag2index)"
      ],
      "metadata": {
        "id": "OrMStOxQKvpF"
      },
      "execution_count": 37,
      "outputs": []
    },
    {
      "cell_type": "code",
      "source": [
        "predicate_data = adds_context_window(window_size=1, df=predicate_data)"
      ],
      "metadata": {
        "id": "eoLHAqUmGDqo"
      },
      "execution_count": 38,
      "outputs": []
    },
    {
      "cell_type": "code",
      "source": [
        "predicate_data.head(2)"
      ],
      "metadata": {
        "colab": {
          "base_uri": "https://localhost:8080/",
          "height": 112
        },
        "id": "a0WjOqO-5Q3W",
        "outputId": "70539337-811f-4d04-bcbf-52a9e4c38af9"
      },
      "execution_count": 39,
      "outputs": [
        {
          "output_type": "execute_result",
          "data": {
            "text/plain": [
              "                                            sentence               subject  \\\n",
              "0  The Wishart distribution is used in multivaria...  wishart distribution   \n",
              "1  The Square Root Method is transformed by the a...    Square Root Method   \n",
              "\n",
              "        predicate                                             object  \\\n",
              "0      is used in                            multivariate statistics   \n",
              "1  transformed by  the application of inverse operations to deriv...   \n",
              "\n",
              "  string_label                        context_window  label  \n",
              "0      used in  distribution is used in multivariate      0  \n",
              "1  computation                 is transformed by the      1  "
            ],
            "text/html": [
              "\n",
              "  <div id=\"df-cb2da387-b4cb-455d-b6d7-4b2751da3d1c\" class=\"colab-df-container\">\n",
              "    <div>\n",
              "<style scoped>\n",
              "    .dataframe tbody tr th:only-of-type {\n",
              "        vertical-align: middle;\n",
              "    }\n",
              "\n",
              "    .dataframe tbody tr th {\n",
              "        vertical-align: top;\n",
              "    }\n",
              "\n",
              "    .dataframe thead th {\n",
              "        text-align: right;\n",
              "    }\n",
              "</style>\n",
              "<table border=\"1\" class=\"dataframe\">\n",
              "  <thead>\n",
              "    <tr style=\"text-align: right;\">\n",
              "      <th></th>\n",
              "      <th>sentence</th>\n",
              "      <th>subject</th>\n",
              "      <th>predicate</th>\n",
              "      <th>object</th>\n",
              "      <th>string_label</th>\n",
              "      <th>context_window</th>\n",
              "      <th>label</th>\n",
              "    </tr>\n",
              "  </thead>\n",
              "  <tbody>\n",
              "    <tr>\n",
              "      <th>0</th>\n",
              "      <td>The Wishart distribution is used in multivaria...</td>\n",
              "      <td>wishart distribution</td>\n",
              "      <td>is used in</td>\n",
              "      <td>multivariate statistics</td>\n",
              "      <td>used in</td>\n",
              "      <td>distribution is used in multivariate</td>\n",
              "      <td>0</td>\n",
              "    </tr>\n",
              "    <tr>\n",
              "      <th>1</th>\n",
              "      <td>The Square Root Method is transformed by the a...</td>\n",
              "      <td>Square Root Method</td>\n",
              "      <td>transformed by</td>\n",
              "      <td>the application of inverse operations to deriv...</td>\n",
              "      <td>computation</td>\n",
              "      <td>is transformed by the</td>\n",
              "      <td>1</td>\n",
              "    </tr>\n",
              "  </tbody>\n",
              "</table>\n",
              "</div>\n",
              "    <div class=\"colab-df-buttons\">\n",
              "\n",
              "  <div class=\"colab-df-container\">\n",
              "    <button class=\"colab-df-convert\" onclick=\"convertToInteractive('df-cb2da387-b4cb-455d-b6d7-4b2751da3d1c')\"\n",
              "            title=\"Convert this dataframe to an interactive table.\"\n",
              "            style=\"display:none;\">\n",
              "\n",
              "  <svg xmlns=\"http://www.w3.org/2000/svg\" height=\"24px\" viewBox=\"0 -960 960 960\">\n",
              "    <path d=\"M120-120v-720h720v720H120Zm60-500h600v-160H180v160Zm220 220h160v-160H400v160Zm0 220h160v-160H400v160ZM180-400h160v-160H180v160Zm440 0h160v-160H620v160ZM180-180h160v-160H180v160Zm440 0h160v-160H620v160Z\"/>\n",
              "  </svg>\n",
              "    </button>\n",
              "\n",
              "  <style>\n",
              "    .colab-df-container {\n",
              "      display:flex;\n",
              "      gap: 12px;\n",
              "    }\n",
              "\n",
              "    .colab-df-convert {\n",
              "      background-color: #E8F0FE;\n",
              "      border: none;\n",
              "      border-radius: 50%;\n",
              "      cursor: pointer;\n",
              "      display: none;\n",
              "      fill: #1967D2;\n",
              "      height: 32px;\n",
              "      padding: 0 0 0 0;\n",
              "      width: 32px;\n",
              "    }\n",
              "\n",
              "    .colab-df-convert:hover {\n",
              "      background-color: #E2EBFA;\n",
              "      box-shadow: 0px 1px 2px rgba(60, 64, 67, 0.3), 0px 1px 3px 1px rgba(60, 64, 67, 0.15);\n",
              "      fill: #174EA6;\n",
              "    }\n",
              "\n",
              "    .colab-df-buttons div {\n",
              "      margin-bottom: 4px;\n",
              "    }\n",
              "\n",
              "    [theme=dark] .colab-df-convert {\n",
              "      background-color: #3B4455;\n",
              "      fill: #D2E3FC;\n",
              "    }\n",
              "\n",
              "    [theme=dark] .colab-df-convert:hover {\n",
              "      background-color: #434B5C;\n",
              "      box-shadow: 0px 1px 3px 1px rgba(0, 0, 0, 0.15);\n",
              "      filter: drop-shadow(0px 1px 2px rgba(0, 0, 0, 0.3));\n",
              "      fill: #FFFFFF;\n",
              "    }\n",
              "  </style>\n",
              "\n",
              "    <script>\n",
              "      const buttonEl =\n",
              "        document.querySelector('#df-cb2da387-b4cb-455d-b6d7-4b2751da3d1c button.colab-df-convert');\n",
              "      buttonEl.style.display =\n",
              "        google.colab.kernel.accessAllowed ? 'block' : 'none';\n",
              "\n",
              "      async function convertToInteractive(key) {\n",
              "        const element = document.querySelector('#df-cb2da387-b4cb-455d-b6d7-4b2751da3d1c');\n",
              "        const dataTable =\n",
              "          await google.colab.kernel.invokeFunction('convertToInteractive',\n",
              "                                                    [key], {});\n",
              "        if (!dataTable) return;\n",
              "\n",
              "        const docLinkHtml = 'Like what you see? Visit the ' +\n",
              "          '<a target=\"_blank\" href=https://colab.research.google.com/notebooks/data_table.ipynb>data table notebook</a>'\n",
              "          + ' to learn more about interactive tables.';\n",
              "        element.innerHTML = '';\n",
              "        dataTable['output_type'] = 'display_data';\n",
              "        await google.colab.output.renderOutput(dataTable, element);\n",
              "        const docLink = document.createElement('div');\n",
              "        docLink.innerHTML = docLinkHtml;\n",
              "        element.appendChild(docLink);\n",
              "      }\n",
              "    </script>\n",
              "  </div>\n",
              "\n",
              "\n",
              "<div id=\"df-84c7457c-b0f2-4880-b471-4631f776022b\">\n",
              "  <button class=\"colab-df-quickchart\" onclick=\"quickchart('df-84c7457c-b0f2-4880-b471-4631f776022b')\"\n",
              "            title=\"Suggest charts\"\n",
              "            style=\"display:none;\">\n",
              "\n",
              "<svg xmlns=\"http://www.w3.org/2000/svg\" height=\"24px\"viewBox=\"0 0 24 24\"\n",
              "     width=\"24px\">\n",
              "    <g>\n",
              "        <path d=\"M19 3H5c-1.1 0-2 .9-2 2v14c0 1.1.9 2 2 2h14c1.1 0 2-.9 2-2V5c0-1.1-.9-2-2-2zM9 17H7v-7h2v7zm4 0h-2V7h2v10zm4 0h-2v-4h2v4z\"/>\n",
              "    </g>\n",
              "</svg>\n",
              "  </button>\n",
              "\n",
              "<style>\n",
              "  .colab-df-quickchart {\n",
              "      --bg-color: #E8F0FE;\n",
              "      --fill-color: #1967D2;\n",
              "      --hover-bg-color: #E2EBFA;\n",
              "      --hover-fill-color: #174EA6;\n",
              "      --disabled-fill-color: #AAA;\n",
              "      --disabled-bg-color: #DDD;\n",
              "  }\n",
              "\n",
              "  [theme=dark] .colab-df-quickchart {\n",
              "      --bg-color: #3B4455;\n",
              "      --fill-color: #D2E3FC;\n",
              "      --hover-bg-color: #434B5C;\n",
              "      --hover-fill-color: #FFFFFF;\n",
              "      --disabled-bg-color: #3B4455;\n",
              "      --disabled-fill-color: #666;\n",
              "  }\n",
              "\n",
              "  .colab-df-quickchart {\n",
              "    background-color: var(--bg-color);\n",
              "    border: none;\n",
              "    border-radius: 50%;\n",
              "    cursor: pointer;\n",
              "    display: none;\n",
              "    fill: var(--fill-color);\n",
              "    height: 32px;\n",
              "    padding: 0;\n",
              "    width: 32px;\n",
              "  }\n",
              "\n",
              "  .colab-df-quickchart:hover {\n",
              "    background-color: var(--hover-bg-color);\n",
              "    box-shadow: 0 1px 2px rgba(60, 64, 67, 0.3), 0 1px 3px 1px rgba(60, 64, 67, 0.15);\n",
              "    fill: var(--button-hover-fill-color);\n",
              "  }\n",
              "\n",
              "  .colab-df-quickchart-complete:disabled,\n",
              "  .colab-df-quickchart-complete:disabled:hover {\n",
              "    background-color: var(--disabled-bg-color);\n",
              "    fill: var(--disabled-fill-color);\n",
              "    box-shadow: none;\n",
              "  }\n",
              "\n",
              "  .colab-df-spinner {\n",
              "    border: 2px solid var(--fill-color);\n",
              "    border-color: transparent;\n",
              "    border-bottom-color: var(--fill-color);\n",
              "    animation:\n",
              "      spin 1s steps(1) infinite;\n",
              "  }\n",
              "\n",
              "  @keyframes spin {\n",
              "    0% {\n",
              "      border-color: transparent;\n",
              "      border-bottom-color: var(--fill-color);\n",
              "      border-left-color: var(--fill-color);\n",
              "    }\n",
              "    20% {\n",
              "      border-color: transparent;\n",
              "      border-left-color: var(--fill-color);\n",
              "      border-top-color: var(--fill-color);\n",
              "    }\n",
              "    30% {\n",
              "      border-color: transparent;\n",
              "      border-left-color: var(--fill-color);\n",
              "      border-top-color: var(--fill-color);\n",
              "      border-right-color: var(--fill-color);\n",
              "    }\n",
              "    40% {\n",
              "      border-color: transparent;\n",
              "      border-right-color: var(--fill-color);\n",
              "      border-top-color: var(--fill-color);\n",
              "    }\n",
              "    60% {\n",
              "      border-color: transparent;\n",
              "      border-right-color: var(--fill-color);\n",
              "    }\n",
              "    80% {\n",
              "      border-color: transparent;\n",
              "      border-right-color: var(--fill-color);\n",
              "      border-bottom-color: var(--fill-color);\n",
              "    }\n",
              "    90% {\n",
              "      border-color: transparent;\n",
              "      border-bottom-color: var(--fill-color);\n",
              "    }\n",
              "  }\n",
              "</style>\n",
              "\n",
              "  <script>\n",
              "    async function quickchart(key) {\n",
              "      const quickchartButtonEl =\n",
              "        document.querySelector('#' + key + ' button');\n",
              "      quickchartButtonEl.disabled = true;  // To prevent multiple clicks.\n",
              "      quickchartButtonEl.classList.add('colab-df-spinner');\n",
              "      try {\n",
              "        const charts = await google.colab.kernel.invokeFunction(\n",
              "            'suggestCharts', [key], {});\n",
              "      } catch (error) {\n",
              "        console.error('Error during call to suggestCharts:', error);\n",
              "      }\n",
              "      quickchartButtonEl.classList.remove('colab-df-spinner');\n",
              "      quickchartButtonEl.classList.add('colab-df-quickchart-complete');\n",
              "    }\n",
              "    (() => {\n",
              "      let quickchartButtonEl =\n",
              "        document.querySelector('#df-84c7457c-b0f2-4880-b471-4631f776022b button');\n",
              "      quickchartButtonEl.style.display =\n",
              "        google.colab.kernel.accessAllowed ? 'block' : 'none';\n",
              "    })();\n",
              "  </script>\n",
              "</div>\n",
              "\n",
              "    </div>\n",
              "  </div>\n"
            ],
            "application/vnd.google.colaboratory.intrinsic+json": {
              "type": "dataframe",
              "variable_name": "predicate_data",
              "summary": "{\n  \"name\": \"predicate_data\",\n  \"rows\": 440,\n  \"fields\": [\n    {\n      \"column\": \"sentence\",\n      \"properties\": {\n        \"dtype\": \"string\",\n        \"num_unique_values\": 376,\n        \"samples\": [\n          \"Schweins's Theorem is specialized by the study of topological spaces and their compactness properties.\",\n          \"The transition matrix can be solved by employing algorithms that calculate the steady-state distribution, allowing researchers to determine the long-term behavior of the Markov process.\",\n          \"In many applications, the concept of a nonpositive matrix is useful for modeling relationships that inherently involve non-positive interactions, such as certain types of resource allocation problems.\"\n        ],\n        \"semantic_type\": \"\",\n        \"description\": \"\"\n      }\n    },\n    {\n      \"column\": \"subject\",\n      \"properties\": {\n        \"dtype\": \"string\",\n        \"num_unique_values\": 328,\n        \"samples\": [\n          \"refined alternating sign matrix conjecture\",\n          \"Singular System\",\n          \"Immanant\"\n        ],\n        \"semantic_type\": \"\",\n        \"description\": \"\"\n      }\n    },\n    {\n      \"column\": \"predicate\",\n      \"properties\": {\n        \"dtype\": \"category\",\n        \"num_unique_values\": 193,\n        \"samples\": [\n          \"is a special type of\",\n          \"is influenced by\",\n          \"has components\"\n        ],\n        \"semantic_type\": \"\",\n        \"description\": \"\"\n      }\n    },\n    {\n      \"column\": \"object\",\n      \"properties\": {\n        \"dtype\": \"string\",\n        \"num_unique_values\": 372,\n        \"samples\": [\n          \"understanding matrix transformations and their effects on vector spaces\",\n          \"the diagonal of the parallelogram formed by the two original vectors\",\n          \"transpose operations combined with complex conjugation\"\n        ],\n        \"semantic_type\": \"\",\n        \"description\": \"\"\n      }\n    },\n    {\n      \"column\": \"string_label\",\n      \"properties\": {\n        \"dtype\": \"category\",\n        \"num_unique_values\": 11,\n        \"samples\": [\n          \"represented\",\n          \"used in\",\n          \"verification\"\n        ],\n        \"semantic_type\": \"\",\n        \"description\": \"\"\n      }\n    },\n    {\n      \"column\": \"context_window\",\n      \"properties\": {\n        \"dtype\": \"string\",\n        \"num_unique_values\": 336,\n        \"samples\": [\n          \"product has subclass characteristics\",\n          \"fundamentally related to the\",\n          \"morphism coincides with the\"\n        ],\n        \"semantic_type\": \"\",\n        \"description\": \"\"\n      }\n    },\n    {\n      \"column\": \"label\",\n      \"properties\": {\n        \"dtype\": \"number\",\n        \"std\": 3,\n        \"min\": 0,\n        \"max\": 10,\n        \"num_unique_values\": 11,\n        \"samples\": [\n          5,\n          0,\n          9\n        ],\n        \"semantic_type\": \"\",\n        \"description\": \"\"\n      }\n    }\n  ]\n}"
            }
          },
          "metadata": {},
          "execution_count": 39
        }
      ]
    },
    {
      "cell_type": "code",
      "source": [
        "X_train_indices, X_test_indices, y_train_indices, y_test_indices = train_test_split(predicate_data.index.to_numpy(), predicate_data['label'].to_numpy(),\n",
        "                                                                                    test_size=0.05, random_state=42, stratify=predicate_data['label'].to_numpy())\n",
        "\n",
        "# Repeat to get validation sub-sample of Train\n",
        "X_train_indices, X_valid_indices, y_train_indices, y_valid_indices = train_test_split(X_train_indices, y_train_indices, test_size=0.3, random_state=42, stratify=y_train_indices)"
      ],
      "metadata": {
        "id": "N5Fm-l7aU946"
      },
      "execution_count": 40,
      "outputs": []
    },
    {
      "cell_type": "markdown",
      "source": [
        "## Preprocessing"
      ],
      "metadata": {
        "id": "uqEkPdbEWy44"
      }
    },
    {
      "cell_type": "code",
      "source": [
        "dataset = Dataset.from_pandas(predicate_data[['sentence', 'label', 'context_window', 'predicate']])"
      ],
      "metadata": {
        "id": "HeiylYQsZqKz"
      },
      "execution_count": 41,
      "outputs": []
    },
    {
      "cell_type": "code",
      "source": [
        "# Select subsets of the dataset for train, test and validation\n",
        "train_split = dataset.select(X_train_indices)\n",
        "test_split = dataset.select(X_test_indices)\n",
        "valid_split = dataset.select(X_valid_indices)\n",
        "\n",
        "dataset = DatasetDict({\n",
        "    'train': train_split,\n",
        "    'test': test_split,\n",
        "    'validation': valid_split\n",
        "})"
      ],
      "metadata": {
        "id": "hYqjVxrhMaku"
      },
      "execution_count": 42,
      "outputs": []
    },
    {
      "cell_type": "code",
      "source": [
        "def preprocess_function_predicate(examples):\n",
        "  context_inputs = tokenizer(examples[\"predicate\"], return_tensors=\"pt\", add_special_tokens=False, truncation=True, padding=\"max_length\", max_length=256)\n",
        "  return context_inputs\n",
        "\n",
        "dataset = dataset.map(preprocess_function_predicate, batched=True)\n",
        "# Rename the 'attention_mask' column to 'context_attention_mask'\n",
        "dataset = dataset.rename_columns({\"attention_mask\": \"predicate_attention_mask\", \"input_ids\": \"predicate_input_ids\"})"
      ],
      "metadata": {
        "colab": {
          "base_uri": "https://localhost:8080/",
          "height": 113,
          "referenced_widgets": [
            "19d3fcad64e644d894177f4339333b9a",
            "9f777d76f1704f13aba29e00b689bd1c",
            "80064b8f71a540ed8aa506600c74be8a",
            "14103d1c147b4d7db28a5ac72236554c",
            "3f1dc050c5764dc39b9742f494306d1b",
            "a18f79df2f424847909fcf5da83ad8c8",
            "243139225a7e49718745c572dab52bed",
            "3dafdac1c6f042068698a94aa841fff0",
            "438ae09f51224378920a7b3221738e27",
            "20fd0a18b65b4157852a0b665e9e61d3",
            "561160aa08684006b2e3e11037b54d5a",
            "270dbdb426d64985aa3116ed3a9aebaa",
            "e78bddc3b61a4937b514454599c98d22",
            "ab58508bfcf24100b276940152bc8c06",
            "32be06c8a5ae43ad972ea10b0e386432",
            "5ec0473f552e4a5f87a9cada98f264a9",
            "5957381fa2cf47b195e54cab2219a21d",
            "a61eea33a1464ebb95575b848ec26907",
            "cf19e8ce017d476084a28a388567f497",
            "d0da4cf21121486eb1e997297f25661d",
            "badb7137d29a4dfa9a265f7f8e31ff4a",
            "3e2f6ca01fb04fa2a7d454821d136f52",
            "271faf7859c64ce2be67739d2e0852bb",
            "33b9108a474d4cca8cd0f78b5fcce694",
            "d2bee806d53a422a87ccef9ce8b4ad3f",
            "9b0d53d62ef34fdb87cc1ee65d617fda",
            "8e8c10ca8ce84623b8fad71d475f391e",
            "64d9029081384b5fba5c3eb3a85275db",
            "076c59005e204780b668cfb19c15792a",
            "ff68980933624f1b94fe9b6232006ea2",
            "43a0c1822b1447b79f79d0318f1d3276",
            "1b6097d0f0f2485593f4059a61887ba4",
            "5636483f174d4cfd902a3e5f48a032f1"
          ]
        },
        "id": "WoJjnbcoRpYU",
        "outputId": "a6fb9993-bc1e-499d-f85e-46073e15caaa"
      },
      "execution_count": 43,
      "outputs": [
        {
          "output_type": "display_data",
          "data": {
            "text/plain": [
              "Map:   0%|          | 0/292 [00:00<?, ? examples/s]"
            ],
            "application/vnd.jupyter.widget-view+json": {
              "version_major": 2,
              "version_minor": 0,
              "model_id": "19d3fcad64e644d894177f4339333b9a"
            }
          },
          "metadata": {}
        },
        {
          "output_type": "display_data",
          "data": {
            "text/plain": [
              "Map:   0%|          | 0/22 [00:00<?, ? examples/s]"
            ],
            "application/vnd.jupyter.widget-view+json": {
              "version_major": 2,
              "version_minor": 0,
              "model_id": "270dbdb426d64985aa3116ed3a9aebaa"
            }
          },
          "metadata": {}
        },
        {
          "output_type": "display_data",
          "data": {
            "text/plain": [
              "Map:   0%|          | 0/126 [00:00<?, ? examples/s]"
            ],
            "application/vnd.jupyter.widget-view+json": {
              "version_major": 2,
              "version_minor": 0,
              "model_id": "271faf7859c64ce2be67739d2e0852bb"
            }
          },
          "metadata": {}
        }
      ]
    },
    {
      "cell_type": "code",
      "source": [
        "def preprocess_function_context(examples):\n",
        "  context_inputs = tokenizer(examples[\"context_window\"], return_tensors=\"pt\", add_special_tokens=True, truncation=True, padding=\"max_length\", max_length=256)\n",
        "  return context_inputs\n",
        "\n",
        "dataset = dataset.map(preprocess_function_context, batched=True)\n",
        "# Rename the 'attention_mask' column to 'context_attention_mask'\n",
        "dataset = dataset.rename_columns({\"attention_mask\": \"context_attention_mask\", \"input_ids\": \"context_input_ids\"})"
      ],
      "metadata": {
        "id": "VDz-FMAyWyZX",
        "colab": {
          "base_uri": "https://localhost:8080/",
          "height": 113,
          "referenced_widgets": [
            "7a0bf532562a4ab9970801ba66a9ef42",
            "2ac23a4520da47769fc4f91fda19a59e",
            "14eb502596e54e1ba9e4dc7564f8d898",
            "45b3e2b3e5d9457d95c2c0a030fdf234",
            "252c7988815d4553866463fff22aec5d",
            "1198b059c2d04ec0ab727bca8ee135ca",
            "7bbca5e431f34a5f9cd5e03c1d9a1c01",
            "536e0567b3d94b789b2970f6004d3a73",
            "046ac2a380164938ad38c069daef3a0f",
            "c25f053d4ee24b9386d4763ca3d59ba8",
            "2d7ed292d61b441284280c1ad9c8ee0a",
            "73a3e968684445f2b348da7a06294c24",
            "d1d3949033794c21846b9292b25b0cca",
            "85d123f91d68499d92b4ce1c8acd4547",
            "eb501fb14eb54de69c21b197a62fa3fa",
            "59d8c1f3dd4e4fed9e50fad80b597104",
            "0b17b16fddef46d896e5baf2828ba592",
            "8b6de3157036415999ad4c379c6714b4",
            "25e7b137a636402d99d1b496e42bdedb",
            "b2c3ebc6466548debcf8f509534f8b81",
            "a6b01749c95b4efd9e128f237bd439a9",
            "19cd28f86ff141e49d960f6cebdbc126",
            "7270e52d9e544c129e9fe02d4391cd8f",
            "a03fc03dbcc94820810083e342c83c17",
            "24d0a078744648e6bf2865e97d733da3",
            "5d0cf534eba343aa88994020b1cfa105",
            "35d218d28c7a4f759aa6f4b1764cf845",
            "629aca2744f04862b204772217682f33",
            "771ad4d63f7643059ffecba5a985054c",
            "fb066e725b1e4581b2180af595464ca0",
            "b001767b1a7a4708ab7aca6dad0322de",
            "6a90a64370684be8a7afd3f7cc9c7d1d",
            "5d9070f0b42841e9a52aa9ae2be61e41"
          ]
        },
        "outputId": "3d85477c-7cc3-4146-ac37-f774217d12c4"
      },
      "execution_count": 44,
      "outputs": [
        {
          "output_type": "display_data",
          "data": {
            "text/plain": [
              "Map:   0%|          | 0/292 [00:00<?, ? examples/s]"
            ],
            "application/vnd.jupyter.widget-view+json": {
              "version_major": 2,
              "version_minor": 0,
              "model_id": "7a0bf532562a4ab9970801ba66a9ef42"
            }
          },
          "metadata": {}
        },
        {
          "output_type": "display_data",
          "data": {
            "text/plain": [
              "Map:   0%|          | 0/22 [00:00<?, ? examples/s]"
            ],
            "application/vnd.jupyter.widget-view+json": {
              "version_major": 2,
              "version_minor": 0,
              "model_id": "73a3e968684445f2b348da7a06294c24"
            }
          },
          "metadata": {}
        },
        {
          "output_type": "display_data",
          "data": {
            "text/plain": [
              "Map:   0%|          | 0/126 [00:00<?, ? examples/s]"
            ],
            "application/vnd.jupyter.widget-view+json": {
              "version_major": 2,
              "version_minor": 0,
              "model_id": "7270e52d9e544c129e9fe02d4391cd8f"
            }
          },
          "metadata": {}
        }
      ]
    },
    {
      "cell_type": "code",
      "source": [
        "def preprocess_function(examples):\n",
        "  inputs = tokenizer(examples[\"sentence\"], return_tensors=\"pt\", add_special_tokens=True, truncation=True, padding=\"max_length\", max_length=256)\n",
        "  return inputs\n",
        "\n",
        "dataset = dataset.map(preprocess_function, batched=True)\n",
        "\n",
        "dataset.set_format(type='torch', columns=['input_ids', 'attention_mask', 'label', 'context_attention_mask', 'context_input_ids', 'predicate_attention_mask', 'predicate_input_ids'])"
      ],
      "metadata": {
        "id": "blVRdINTdldr",
        "colab": {
          "base_uri": "https://localhost:8080/",
          "height": 113,
          "referenced_widgets": [
            "98e810ff7b5141e9a1fb23f512a649d8",
            "b4251af077b441759c82ddd0eb741e17",
            "9b263ec1280b4a0f962a6c7865dda2e7",
            "3f6998ee4c73493496633a0cfc0cd38e",
            "8b7ee71c0d844a73b02b093df8e62f87",
            "00316ab1987d40b0b000287eb235cb19",
            "8b311afed55f4d8b81b60b70486b9dff",
            "6f7d8b7f64114a71956b09efcda9f5d9",
            "60e7a467655b4ea18d3f86a3251aceec",
            "cd9ca92c2406451aa058f6fc36c5a6da",
            "eb16bddf789d4b5c9d3c2848beb809d6",
            "517f9b2177ec4fdc85b928f41a80485b",
            "e47dd13affe042829d86774afe9a8428",
            "d896a447feaa42538382668c02a99abe",
            "8d5f8def526c4a1f8db711166a9c1fc5",
            "a45c369e81f64b51aca0f20b4d811e30",
            "1c51469db642487ab425462c4dd6b395",
            "a6a4188905094e9da63a509bb5b63321",
            "e96f0092154143a2917b0059a8353440",
            "80d0e5a8d68d42898e116fd214486710",
            "70a28363b90e42c5a6c9b65864b0ca63",
            "776658f986054490830e66fc4d69fa29",
            "cd606221edec4309802e5477fc3f2209",
            "5177f17ecf244024a8a1d4710dfb16d6",
            "0076f555c1a848b9bd755c9e16881043",
            "5dfcaa25cbb54e72b3554b0bf738c124",
            "a901ca4c8de34f158acca9a7a628d31b",
            "9df0b0087486423dbf523458adbfbe48",
            "53629fdc7bb04239a6eb727290a736dc",
            "4f101ebe344d499e8383370a33133f59",
            "659d98f063334effaeaaa8bd374194ca",
            "7b97a68e29a941638504b7234a5bdf39",
            "9bea99f8cd584d1ba08706d7c9f0ae78"
          ]
        },
        "outputId": "df33f684-86f6-4882-923d-21ed17369b54"
      },
      "execution_count": 45,
      "outputs": [
        {
          "output_type": "display_data",
          "data": {
            "text/plain": [
              "Map:   0%|          | 0/292 [00:00<?, ? examples/s]"
            ],
            "application/vnd.jupyter.widget-view+json": {
              "version_major": 2,
              "version_minor": 0,
              "model_id": "98e810ff7b5141e9a1fb23f512a649d8"
            }
          },
          "metadata": {}
        },
        {
          "output_type": "display_data",
          "data": {
            "text/plain": [
              "Map:   0%|          | 0/22 [00:00<?, ? examples/s]"
            ],
            "application/vnd.jupyter.widget-view+json": {
              "version_major": 2,
              "version_minor": 0,
              "model_id": "517f9b2177ec4fdc85b928f41a80485b"
            }
          },
          "metadata": {}
        },
        {
          "output_type": "display_data",
          "data": {
            "text/plain": [
              "Map:   0%|          | 0/126 [00:00<?, ? examples/s]"
            ],
            "application/vnd.jupyter.widget-view+json": {
              "version_major": 2,
              "version_minor": 0,
              "model_id": "cd606221edec4309802e5477fc3f2209"
            }
          },
          "metadata": {}
        }
      ]
    },
    {
      "cell_type": "markdown",
      "source": [
        "## Developing the Model Parameters"
      ],
      "metadata": {
        "id": "7mRKNiTsIOPD"
      }
    },
    {
      "cell_type": "code",
      "source": [
        "class DistilBertForSentenceClassificationSpan(DistilBertPreTrainedModel):\n",
        "  config_class = DistilBertConfig\n",
        "\n",
        "  def __init__(self, config):\n",
        "    super().__init__(config)\n",
        "    self.num_labels = config.num_labels\n",
        "    # Model body\n",
        "    self.distilbert = distilbert_model\n",
        "    # Attention mechanism for context\n",
        "    self.attention_w = nn.Parameter(torch.randn(config.hidden_size))  # Trainable attention vector\n",
        "    self.attention_bias = nn.Parameter(torch.zeros(1))  # Bias term for attention\n",
        "    # Lookup table for context width embeddings\n",
        "    self.width_embedding = nn.Embedding(config.max_position_embeddings, config.hidden_size)\n",
        "    # Classification head\n",
        "    self.classifier = nn.Linear(768 * 4, self.num_labels)  # Span * 4 (CLS, span, width, predicate)\n",
        "\n",
        "  def _predicate_weight_embedding(self, predicate_input_ids, predicate_attention_mask):\n",
        "    outputs = self.distilbert(input_ids=predicate_input_ids, attention_mask=predicate_attention_mask, output_attentions=False)\n",
        "    predicate_embeddings = outputs.last_hidden_state  # shape: [batch_size, seq_len, hidden_size] torch.Size([batch_size, 512, 768]) --> 512 to 256\n",
        "    # print('context_embeddings', context_embeddings.shape)\n",
        "    # attention scores\n",
        "    attention_scores = torch.matmul(predicate_embeddings, self.attention_w) + self.attention_bias  # shape: [batch_size, seq_len, 1] torch.Size([1, 512, 1])\n",
        "    # print('attention_scores', attention_scores.shape)\n",
        "\n",
        "    # get attention weights from softmax\n",
        "    attention_weights = torch.nn.functional.softmax(attention_scores, dim=-1)  # shape: [batch_size, num_heads, seq_len, seq_len] torch.Size([1, 12, 512, 512])\n",
        "    # print('attention_weights', attention_weights.shape)\n",
        "    attention_weights = attention_weights.unsqueeze(-1)\n",
        "    # print('attention_weights', attention_weights.shape)\n",
        "\n",
        "    # # Weighted sum of span embeddings to get the final attention span representation\n",
        "    # weighted_context_embeddings = attention_weights * context_embeddings.unsqueeze(2)  # shape: [1, 12, 512, 512, 768]\n",
        "\n",
        "    weighted_span_embeddings = torch.sum(attention_weights * predicate_embeddings, dim=1)  # shape: [1, 768]\n",
        "    # print('weighted_span_embeddings', weighted_span_embeddings.shape)\n",
        "    return weighted_span_embeddings #span representation [1, 768]\n",
        "\n",
        "  def _attention_weight_embedding(self, context_input_ids, context_attention_mask):\n",
        "    outputs = self.distilbert(input_ids=context_input_ids, attention_mask=context_attention_mask, output_attentions=False)\n",
        "    context_embeddings = outputs.last_hidden_state  # shape: [batch_size, seq_len, hidden_size] torch.Size([batch_size, 512, 768]) --> 512 to 256\n",
        "    # print('context_embeddings', context_embeddings.shape)\n",
        "    # attention scores\n",
        "    attention_scores = torch.matmul(context_embeddings, self.attention_w) + self.attention_bias  # shape: [batch_size, seq_len, 1] torch.Size([1, 512, 1])\n",
        "    # print('attention_scores', attention_scores.shape)\n",
        "\n",
        "    # get attention weights from softmax\n",
        "    attention_weights = torch.nn.functional.softmax(attention_scores, dim=-1)  # shape: [batch_size, num_heads, seq_len, seq_len] torch.Size([1, 12, 512, 512])\n",
        "    # print('attention_weights', attention_weights.shape)\n",
        "    attention_weights = attention_weights.unsqueeze(-1)\n",
        "    # print('attention_weights', attention_weights.shape)\n",
        "\n",
        "    # # Weighted sum of span embeddings to get the final attention span representation\n",
        "    # weighted_context_embeddings = attention_weights * context_embeddings.unsqueeze(2)  # shape: [1, 12, 512, 512, 768]\n",
        "\n",
        "    weighted_window_embeddings = torch.sum(attention_weights * context_embeddings, dim=1)  # shape: [1, 768]\n",
        "    # print('weighted_span_embeddings', weighted_span_embeddings.shape)\n",
        "\n",
        "    return weighted_window_embeddings #span representation [1, 768]\n",
        "\n",
        "  def _cls_embeddings(self, input_ids, attention_mask):\n",
        "    outputs = self.distilbert(input_ids=input_ids, attention_mask=attention_mask)\n",
        "    embeddings = outputs.last_hidden_state # shape [1, 512, 768]\n",
        "    cls_embedding = embeddings[:, 0:1, :].squeeze(1)  # squeeze converts [1, 1, 768] to [1, 768]\n",
        "    return cls_embedding\n",
        "\n",
        "  def _width_embeddings(self, context_input_ids):\n",
        "    span_length = context_input_ids.ne(0).sum(dim=1) -2\n",
        "    # Ensure no negative or zero indices (minimum span length should be 1)\n",
        "    span_length = torch.clamp(span_length, min=1)\n",
        "    width_embedding = self.width_embedding(span_length)\n",
        "    return width_embedding\n",
        "\n",
        "  def forward(self, context_input_ids=None, context_attention_mask=None, input_ids=None, attention_mask=None, token_type_ids=None, labels=None, predicate_input_ids=None, predicate_attention_mask=None, **kwargs):\n",
        "    # Get embeddings from attention weights\n",
        "    attention_weight_embedding = self._attention_weight_embedding(context_input_ids=context_input_ids, context_attention_mask=context_attention_mask)\n",
        "    # Get embeddings from predicate weights\n",
        "    attention_weight_predicate = self._predicate_weight_embedding(predicate_input_ids=predicate_input_ids, predicate_attention_mask=predicate_attention_mask)\n",
        "    # Get width embedding\n",
        "    width_embedding = self._width_embeddings(context_input_ids=context_input_ids)\n",
        "    # Get CLS token embedding\n",
        "    cls_embedding = self._cls_embeddings(input_ids=input_ids, attention_mask=attention_mask)\n",
        "    # Concatenate span representation, [CLS] embedding, and width embedding\n",
        "    final_representation = torch.cat((attention_weight_embedding, cls_embedding, width_embedding, attention_weight_predicate), dim=-1)  # shape: [batch_size, 768*4]\n",
        "    # Classifier on concat\n",
        "    logits = self.classifier(final_representation)\n",
        "    # Loss calc\n",
        "    loss = None\n",
        "    if labels is not None:\n",
        "      loss_fct = nn.CrossEntropyLoss()\n",
        "      loss = loss_fct(logits.view(-1, self.num_labels), labels.view(-1))\n",
        "    return SequenceClassifierOutput(loss=loss, logits=logits)"
      ],
      "metadata": {
        "id": "zDkPHAcQuOIW"
      },
      "execution_count": 46,
      "outputs": []
    },
    {
      "cell_type": "code",
      "source": [
        "config = DistilBertConfig.from_pretrained(\"Heather-Driver/distilbert-NER-LinearAlg-finetuned\")\n",
        "config.label2id = tag2index\n",
        "config.id2label = index2tag\n",
        "config.num_labels = len(index2tag)\n",
        "\n",
        "model = DistilBertForSentenceClassificationSpan(config)\n",
        "model.to(device)\n",
        "model.gradient_checkpointing_enable()"
      ],
      "metadata": {
        "id": "PIozTIshNWQo"
      },
      "execution_count": 47,
      "outputs": []
    },
    {
      "cell_type": "code",
      "source": [
        "data_collator = DataCollatorWithPadding(\n",
        "    tokenizer=tokenizer,\n",
        "    return_tensors=\"pt\",\n",
        ")"
      ],
      "metadata": {
        "id": "I7S6gA8uGjBR"
      },
      "execution_count": 48,
      "outputs": []
    },
    {
      "cell_type": "code",
      "source": [
        "def compute_metrics(pred):\n",
        "  labels = pred.label_ids\n",
        "  preds = pred.predictions.argmax(-1)\n",
        "  f1 = f1_score(labels, preds, average=\"weighted\") #y_true, y_pred\n",
        "  acc = accuracy_score(labels, preds)\n",
        "  precision = precision_score(labels, preds, average=\"weighted\")\n",
        "  recall = recall_score(labels, preds, average=\"weighted\")\n",
        "  return {\"accuracy\": acc, \"f1\": f1, \"precision\": precision, \"recall\": recall}"
      ],
      "metadata": {
        "id": "QquCJ5Xd851d"
      },
      "execution_count": 49,
      "outputs": []
    },
    {
      "cell_type": "markdown",
      "source": [
        "## Nevergrad optimisation"
      ],
      "metadata": {
        "id": "lNJx2RHbncA3"
      }
    },
    {
      "cell_type": "code",
      "source": [
        "# Load the best hyperparameters from the pickle file\n",
        "with open(\"best_hyperparameters.pkl\", \"rb\") as f:\n",
        "    best_params = pickle.load(f)\n",
        "\n",
        "print(\"Loaded best hyperparameters:\", best_params)\n",
        "\n",
        "# You can now use these hyperparameters, for example:\n",
        "# train_and_evaluate(**best_hyperparameters, name=\"final_model_run\")"
      ],
      "metadata": {
        "colab": {
          "base_uri": "https://localhost:8080/"
        },
        "id": "Ui26ZggQD3RM",
        "outputId": "9f98e7f6-7f58-4493-a110-3af04786c0bb"
      },
      "execution_count": 50,
      "outputs": [
        {
          "output_type": "stream",
          "name": "stdout",
          "text": [
            "Loaded best hyperparameters: {'learning_rate': 0.0005661960144606241, 'batch_size': 32, 'weight_decay': 0.0003358596215703767, 'warmup_steps': 500, 'gradient_accumulation_steps': 2}\n"
          ]
        }
      ]
    },
    {
      "cell_type": "code",
      "source": [
        "%cd '/content/drive/MyDrive/Colab Notebooks/Math_Graph/Model/transformers_cache'"
      ],
      "metadata": {
        "colab": {
          "base_uri": "https://localhost:8080/"
        },
        "id": "qx4amfHlCgUE",
        "outputId": "c1e74ec0-f34e-4b35-f769-edcd453e5610"
      },
      "execution_count": 51,
      "outputs": [
        {
          "output_type": "stream",
          "name": "stdout",
          "text": [
            "[Errno 2] No such file or directory: '/content/drive/MyDrive/Colab Notebooks/Math_Graph/Model/transformers_cache'\n",
            "/content/drive/MyDrive/Colab Notebooks/Math_Graph/pickle_files\n"
          ]
        }
      ]
    },
    {
      "cell_type": "code",
      "source": [
        "  # Set output_dir in TrainingArguments to this temporary folder.\n",
        "  # After exiting the with-block, the directory is deleted.\n",
        "os.environ[\"TRANSFORMERS_CACHE\"] = '/content/drive/MyDrive/Colab Notebooks/Math_Graph/Model/transformers_cache'"
      ],
      "metadata": {
        "id": "0S2uLP8vAEsu"
      },
      "execution_count": 52,
      "outputs": []
    },
    {
      "cell_type": "code",
      "source": [
        "def train_and_evaluate(learning_rate, batch_size, weight_decay, warmup_steps, gradient_accumulation_steps, name):\n",
        "  \"\"\"Function to train the model with different hyperparameters\"\"\"\n",
        "  output_dir = '/content/drive/MyDrive/Colab Notebooks/Math_Graph/Model/' + name\n",
        "  training_arguments = TrainingArguments(\n",
        "      output_dir=output_dir,\n",
        "      run_name=name,\n",
        "      log_level=\"error\",\n",
        "      num_train_epochs=25,  # Keeping epochs fixed for now\n",
        "      per_device_train_batch_size=int(batch_size),\n",
        "      per_device_eval_batch_size=int(batch_size),\n",
        "      learning_rate=learning_rate,\n",
        "      weight_decay=weight_decay,\n",
        "      warmup_steps=int(warmup_steps),\n",
        "      gradient_accumulation_steps=int(gradient_accumulation_steps),\n",
        "      eval_strategy=\"no\",\n",
        "      save_strategy=\"no\",\n",
        "      disable_tqdm=True,  # Avoid flooding the output\n",
        "      report_to=[\"wandb\"],\n",
        "      load_best_model_at_end=True,\n",
        "      push_to_hub=False,\n",
        "      greater_is_better=True,\n",
        "      save_safetensors=True,\n",
        "      save_total_limit=1,\n",
        "  )\n",
        "\n",
        "  trainer = Trainer(\n",
        "      model=model,\n",
        "      args=training_arguments,\n",
        "      train_dataset=dataset[\"train\"],\n",
        "      eval_dataset=dataset[\"validation\"],\n",
        "      tokenizer=tokenizer,\n",
        "      data_collator=data_collator,\n",
        "      compute_metrics=compute_metrics,\n",
        "  )\n",
        "\n",
        "  # Train and evaluate\n",
        "  trainer.train()\n",
        "  metrics = trainer.evaluate()\n",
        "\n",
        "  # Finish the current W&B run so that a new run is created next time\n",
        "  wandb.finish()\n",
        "\n",
        "  # Delete the output directory to free disk space\n",
        "  shutil.rmtree(output_dir, ignore_errors=True)\n",
        "\n",
        "  # Return negative F1-score (Nevergrad minimizes)\n",
        "  return -metrics[\"eval_f1\"]\n",
        "\n",
        "# Define the hyperparameter search space using Instrumentation\n",
        "instrum = ng.p.Instrumentation(\n",
        "    learning_rate=ng.p.Log(lower=1e-6, upper=1e-3),        # Logarithmic scale\n",
        "    batch_size=ng.p.TransitionChoice([4, 8, 16, 32]),\n",
        "    weight_decay=ng.p.Log(lower=1e-5, upper=1e-1),\n",
        "    warmup_steps=ng.p.TransitionChoice([100, 500, 1000, 2000]),\n",
        "    gradient_accumulation_steps=ng.p.TransitionChoice([1, 2, 4])\n",
        ")\n",
        "\n",
        "# Initialize the optimizer with the instrumentation and a budget\n",
        "optimizer = ng.optimizers.OnePlusOne(instrum, budget=20)  # 20 iterations\n",
        "\n",
        "# Define a wrapper function that takes a dictionary of parameters and unpacks them for train_and_evaluate\n",
        "# Wrapper function with dynamic naming\n",
        "def objective_function_wrapper(**parameters):\n",
        "    # Construct a unique name from the hyperparameters\n",
        "    combo_name = (\n",
        "        f\"lr_{parameters['learning_rate']:.1e}_\"\n",
        "        f\"bs_{parameters['batch_size']}_\"\n",
        "        f\"wd_{parameters['weight_decay']:.1e}_\"\n",
        "        f\"ws_{parameters['warmup_steps']}_\"\n",
        "        f\"gas_{parameters['gradient_accumulation_steps']}\"\n",
        "    )\n",
        "    combo_name = \"optimized_model_window_1\" + combo_name\n",
        "    return train_and_evaluate(**parameters, name=combo_name)\n",
        "\n",
        "# Update the optimizer.minimize call to use the wrapper function\n",
        "recommendation = optimizer.minimize(objective_function_wrapper)\n",
        "\n",
        "# Print the best hyperparameters found\n",
        "print(\"Best hyperparameters:\", recommendation.kwargs)\n",
        "\n",
        "# Save best hyperparameters to a pickle file\n",
        "with open(\"best_hyperparameters.pkl\", \"wb\") as f:\n",
        "    pickle.dump(recommendation.kwargs, f)\n",
        "\n",
        "print(\"Best hyperparameters:\", recommendation.kwargs)\n",
        "best_params = recommendation.kwargs"
      ],
      "metadata": {
        "colab": {
          "base_uri": "https://localhost:8080/",
          "height": 1000
        },
        "id": "R7JbsLURni9h",
        "outputId": "5aaf90b4-7a5d-45fa-dbf9-0c94bf11f34c"
      },
      "execution_count": 53,
      "outputs": [
        {
          "output_type": "stream",
          "name": "stderr",
          "text": [
            "<ipython-input-53-8f6c246e9cba>:26: FutureWarning: `tokenizer` is deprecated and will be removed in version 5.0.0 for `Trainer.__init__`. Use `processing_class` instead.\n",
            "  trainer = Trainer(\n"
          ]
        },
        {
          "output_type": "display_data",
          "data": {
            "text/plain": [
              "<IPython.core.display.HTML object>"
            ],
            "text/html": [
              "Tracking run with wandb version 0.19.7"
            ]
          },
          "metadata": {}
        },
        {
          "output_type": "display_data",
          "data": {
            "text/plain": [
              "<IPython.core.display.HTML object>"
            ],
            "text/html": [
              "Run data is saved locally in <code>/content/drive/MyDrive/Colab Notebooks/Math_Graph/pickle_files/wandb/run-20250228_144433-l4p9dnt0</code>"
            ]
          },
          "metadata": {}
        },
        {
          "output_type": "display_data",
          "data": {
            "text/plain": [
              "<IPython.core.display.HTML object>"
            ],
            "text/html": [
              "Syncing run <strong><a href='https://wandb.ai/h-driver/huggingface/runs/l4p9dnt0' target=\"_blank\">optimized_model_window_1lr_3.2e-05_bs_16_wd_1.0e-03_ws_1000_gas_2</a></strong> to <a href='https://wandb.ai/h-driver/huggingface' target=\"_blank\">Weights & Biases</a> (<a href='https://wandb.me/developer-guide' target=\"_blank\">docs</a>)<br>"
            ]
          },
          "metadata": {}
        },
        {
          "output_type": "display_data",
          "data": {
            "text/plain": [
              "<IPython.core.display.HTML object>"
            ],
            "text/html": [
              " View project at <a href='https://wandb.ai/h-driver/huggingface' target=\"_blank\">https://wandb.ai/h-driver/huggingface</a>"
            ]
          },
          "metadata": {}
        },
        {
          "output_type": "display_data",
          "data": {
            "text/plain": [
              "<IPython.core.display.HTML object>"
            ],
            "text/html": [
              " View run at <a href='https://wandb.ai/h-driver/huggingface/runs/l4p9dnt0' target=\"_blank\">https://wandb.ai/h-driver/huggingface/runs/l4p9dnt0</a>"
            ]
          },
          "metadata": {}
        },
        {
          "output_type": "stream",
          "name": "stdout",
          "text": [
            "{'train_runtime': 125.9785, 'train_samples_per_second': 57.946, 'train_steps_per_second': 1.786, 'train_loss': 4.029936794704861, 'epoch': 22.526315789473685}\n",
            "{'eval_loss': 1.3474440574645996, 'eval_accuracy': 0.7063492063492064, 'eval_f1': 0.6967525630569109, 'eval_precision': 0.6946215160500874, 'eval_recall': 0.7063492063492064, 'eval_runtime': 0.63, 'eval_samples_per_second': 199.998, 'eval_steps_per_second': 12.698, 'epoch': 22.526315789473685}\n"
          ]
        },
        {
          "output_type": "display_data",
          "data": {
            "text/plain": [
              "<IPython.core.display.HTML object>"
            ],
            "text/html": []
          },
          "metadata": {}
        },
        {
          "output_type": "display_data",
          "data": {
            "text/plain": [
              "<IPython.core.display.HTML object>"
            ],
            "text/html": [
              "<br>    <style><br>        .wandb-row {<br>            display: flex;<br>            flex-direction: row;<br>            flex-wrap: wrap;<br>            justify-content: flex-start;<br>            width: 100%;<br>        }<br>        .wandb-col {<br>            display: flex;<br>            flex-direction: column;<br>            flex-basis: 100%;<br>            flex: 1;<br>            padding: 10px;<br>        }<br>    </style><br><div class=\"wandb-row\"><div class=\"wandb-col\"><h3>Run history:</h3><br/><table class=\"wandb\"><tr><td>eval/accuracy</td><td>▁</td></tr><tr><td>eval/f1</td><td>▁</td></tr><tr><td>eval/loss</td><td>▁</td></tr><tr><td>eval/precision</td><td>▁</td></tr><tr><td>eval/recall</td><td>▁</td></tr><tr><td>eval/runtime</td><td>▁</td></tr><tr><td>eval/samples_per_second</td><td>▁</td></tr><tr><td>eval/steps_per_second</td><td>▁</td></tr><tr><td>train/epoch</td><td>▁▁</td></tr><tr><td>train/global_step</td><td>▁▁</td></tr></table><br/></div><div class=\"wandb-col\"><h3>Run summary:</h3><br/><table class=\"wandb\"><tr><td>eval/accuracy</td><td>0.70635</td></tr><tr><td>eval/f1</td><td>0.69675</td></tr><tr><td>eval/loss</td><td>1.34744</td></tr><tr><td>eval/precision</td><td>0.69462</td></tr><tr><td>eval/recall</td><td>0.70635</td></tr><tr><td>eval/runtime</td><td>0.63</td></tr><tr><td>eval/samples_per_second</td><td>199.998</td></tr><tr><td>eval/steps_per_second</td><td>12.698</td></tr><tr><td>total_flos</td><td>430444078940160.0</td></tr><tr><td>train/epoch</td><td>22.52632</td></tr><tr><td>train/global_step</td><td>225</td></tr><tr><td>train_loss</td><td>4.02994</td></tr><tr><td>train_runtime</td><td>125.9785</td></tr><tr><td>train_samples_per_second</td><td>57.946</td></tr><tr><td>train_steps_per_second</td><td>1.786</td></tr></table><br/></div></div>"
            ]
          },
          "metadata": {}
        },
        {
          "output_type": "display_data",
          "data": {
            "text/plain": [
              "<IPython.core.display.HTML object>"
            ],
            "text/html": [
              " View run <strong style=\"color:#cdcd00\">optimized_model_window_1lr_3.2e-05_bs_16_wd_1.0e-03_ws_1000_gas_2</strong> at: <a href='https://wandb.ai/h-driver/huggingface/runs/l4p9dnt0' target=\"_blank\">https://wandb.ai/h-driver/huggingface/runs/l4p9dnt0</a><br> View project at: <a href='https://wandb.ai/h-driver/huggingface' target=\"_blank\">https://wandb.ai/h-driver/huggingface</a><br>Synced 5 W&B file(s), 0 media file(s), 0 artifact file(s) and 0 other file(s)"
            ]
          },
          "metadata": {}
        },
        {
          "output_type": "display_data",
          "data": {
            "text/plain": [
              "<IPython.core.display.HTML object>"
            ],
            "text/html": [
              "Find logs at: <code>./wandb/run-20250228_144433-l4p9dnt0/logs</code>"
            ]
          },
          "metadata": {}
        },
        {
          "output_type": "stream",
          "name": "stderr",
          "text": [
            "<ipython-input-53-8f6c246e9cba>:26: FutureWarning: `tokenizer` is deprecated and will be removed in version 5.0.0 for `Trainer.__init__`. Use `processing_class` instead.\n",
            "  trainer = Trainer(\n"
          ]
        },
        {
          "output_type": "display_data",
          "data": {
            "text/plain": [
              "<IPython.core.display.HTML object>"
            ],
            "text/html": [
              "Tracking run with wandb version 0.19.7"
            ]
          },
          "metadata": {}
        },
        {
          "output_type": "display_data",
          "data": {
            "text/plain": [
              "<IPython.core.display.HTML object>"
            ],
            "text/html": [
              "Run data is saved locally in <code>/content/drive/MyDrive/Colab Notebooks/Math_Graph/pickle_files/wandb/run-20250228_144642-hy72nct7</code>"
            ]
          },
          "metadata": {}
        },
        {
          "output_type": "display_data",
          "data": {
            "text/plain": [
              "<IPython.core.display.HTML object>"
            ],
            "text/html": [
              "Syncing run <strong><a href='https://wandb.ai/h-driver/huggingface/runs/hy72nct7' target=\"_blank\">optimized_model_window_1lr_5.7e-04_bs_32_wd_3.4e-04_ws_500_gas_2</a></strong> to <a href='https://wandb.ai/h-driver/huggingface' target=\"_blank\">Weights & Biases</a> (<a href='https://wandb.me/developer-guide' target=\"_blank\">docs</a>)<br>"
            ]
          },
          "metadata": {}
        },
        {
          "output_type": "display_data",
          "data": {
            "text/plain": [
              "<IPython.core.display.HTML object>"
            ],
            "text/html": [
              " View project at <a href='https://wandb.ai/h-driver/huggingface' target=\"_blank\">https://wandb.ai/h-driver/huggingface</a>"
            ]
          },
          "metadata": {}
        },
        {
          "output_type": "display_data",
          "data": {
            "text/plain": [
              "<IPython.core.display.HTML object>"
            ],
            "text/html": [
              " View run at <a href='https://wandb.ai/h-driver/huggingface/runs/hy72nct7' target=\"_blank\">https://wandb.ai/h-driver/huggingface/runs/hy72nct7</a>"
            ]
          },
          "metadata": {}
        },
        {
          "output_type": "stream",
          "name": "stdout",
          "text": [
            "{'train_runtime': 132.1748, 'train_samples_per_second': 55.23, 'train_steps_per_second': 0.946, 'train_loss': 0.6545215454101563, 'epoch': 25.0}\n",
            "{'eval_loss': 0.9218429923057556, 'eval_accuracy': 0.8412698412698413, 'eval_f1': 0.8392888180500327, 'eval_precision': 0.8669197865626438, 'eval_recall': 0.8412698412698413, 'eval_runtime': 0.5926, 'eval_samples_per_second': 212.63, 'eval_steps_per_second': 6.75, 'epoch': 25.0}\n"
          ]
        },
        {
          "output_type": "display_data",
          "data": {
            "text/plain": [
              "<IPython.core.display.HTML object>"
            ],
            "text/html": []
          },
          "metadata": {}
        },
        {
          "output_type": "display_data",
          "data": {
            "text/plain": [
              "<IPython.core.display.HTML object>"
            ],
            "text/html": [
              "<br>    <style><br>        .wandb-row {<br>            display: flex;<br>            flex-direction: row;<br>            flex-wrap: wrap;<br>            justify-content: flex-start;<br>            width: 100%;<br>        }<br>        .wandb-col {<br>            display: flex;<br>            flex-direction: column;<br>            flex-basis: 100%;<br>            flex: 1;<br>            padding: 10px;<br>        }<br>    </style><br><div class=\"wandb-row\"><div class=\"wandb-col\"><h3>Run history:</h3><br/><table class=\"wandb\"><tr><td>eval/accuracy</td><td>▁</td></tr><tr><td>eval/f1</td><td>▁</td></tr><tr><td>eval/loss</td><td>▁</td></tr><tr><td>eval/precision</td><td>▁</td></tr><tr><td>eval/recall</td><td>▁</td></tr><tr><td>eval/runtime</td><td>▁</td></tr><tr><td>eval/samples_per_second</td><td>▁</td></tr><tr><td>eval/steps_per_second</td><td>▁</td></tr><tr><td>train/epoch</td><td>▁▁</td></tr><tr><td>train/global_step</td><td>▁▁</td></tr></table><br/></div><div class=\"wandb-col\"><h3>Run summary:</h3><br/><table class=\"wandb\"><tr><td>eval/accuracy</td><td>0.84127</td></tr><tr><td>eval/f1</td><td>0.83929</td></tr><tr><td>eval/loss</td><td>0.92184</td></tr><tr><td>eval/precision</td><td>0.86692</td></tr><tr><td>eval/recall</td><td>0.84127</td></tr><tr><td>eval/runtime</td><td>0.5926</td></tr><tr><td>eval/samples_per_second</td><td>212.63</td></tr><tr><td>eval/steps_per_second</td><td>6.75</td></tr><tr><td>total_flos</td><td>477254218752000.0</td></tr><tr><td>train/epoch</td><td>25</td></tr><tr><td>train/global_step</td><td>125</td></tr><tr><td>train_loss</td><td>0.65452</td></tr><tr><td>train_runtime</td><td>132.1748</td></tr><tr><td>train_samples_per_second</td><td>55.23</td></tr><tr><td>train_steps_per_second</td><td>0.946</td></tr></table><br/></div></div>"
            ]
          },
          "metadata": {}
        },
        {
          "output_type": "display_data",
          "data": {
            "text/plain": [
              "<IPython.core.display.HTML object>"
            ],
            "text/html": [
              " View run <strong style=\"color:#cdcd00\">optimized_model_window_1lr_5.7e-04_bs_32_wd_3.4e-04_ws_500_gas_2</strong> at: <a href='https://wandb.ai/h-driver/huggingface/runs/hy72nct7' target=\"_blank\">https://wandb.ai/h-driver/huggingface/runs/hy72nct7</a><br> View project at: <a href='https://wandb.ai/h-driver/huggingface' target=\"_blank\">https://wandb.ai/h-driver/huggingface</a><br>Synced 5 W&B file(s), 0 media file(s), 0 artifact file(s) and 0 other file(s)"
            ]
          },
          "metadata": {}
        },
        {
          "output_type": "display_data",
          "data": {
            "text/plain": [
              "<IPython.core.display.HTML object>"
            ],
            "text/html": [
              "Find logs at: <code>./wandb/run-20250228_144642-hy72nct7/logs</code>"
            ]
          },
          "metadata": {}
        },
        {
          "output_type": "stream",
          "name": "stderr",
          "text": [
            "<ipython-input-53-8f6c246e9cba>:26: FutureWarning: `tokenizer` is deprecated and will be removed in version 5.0.0 for `Trainer.__init__`. Use `processing_class` instead.\n",
            "  trainer = Trainer(\n"
          ]
        },
        {
          "output_type": "display_data",
          "data": {
            "text/plain": [
              "<IPython.core.display.HTML object>"
            ],
            "text/html": [
              "Tracking run with wandb version 0.19.7"
            ]
          },
          "metadata": {}
        },
        {
          "output_type": "display_data",
          "data": {
            "text/plain": [
              "<IPython.core.display.HTML object>"
            ],
            "text/html": [
              "Run data is saved locally in <code>/content/drive/MyDrive/Colab Notebooks/Math_Graph/pickle_files/wandb/run-20250228_144858-mejsnkhx</code>"
            ]
          },
          "metadata": {}
        },
        {
          "output_type": "display_data",
          "data": {
            "text/plain": [
              "<IPython.core.display.HTML object>"
            ],
            "text/html": [
              "Syncing run <strong><a href='https://wandb.ai/h-driver/huggingface/runs/mejsnkhx' target=\"_blank\">optimized_model_window_1lr_7.5e-04_bs_16_wd_2.8e-05_ws_2000_gas_1</a></strong> to <a href='https://wandb.ai/h-driver/huggingface' target=\"_blank\">Weights & Biases</a> (<a href='https://wandb.me/developer-guide' target=\"_blank\">docs</a>)<br>"
            ]
          },
          "metadata": {}
        },
        {
          "output_type": "display_data",
          "data": {
            "text/plain": [
              "<IPython.core.display.HTML object>"
            ],
            "text/html": [
              " View project at <a href='https://wandb.ai/h-driver/huggingface' target=\"_blank\">https://wandb.ai/h-driver/huggingface</a>"
            ]
          },
          "metadata": {}
        },
        {
          "output_type": "display_data",
          "data": {
            "text/plain": [
              "<IPython.core.display.HTML object>"
            ],
            "text/html": [
              " View run at <a href='https://wandb.ai/h-driver/huggingface/runs/mejsnkhx' target=\"_blank\">https://wandb.ai/h-driver/huggingface/runs/mejsnkhx</a>"
            ]
          },
          "metadata": {}
        },
        {
          "output_type": "stream",
          "name": "stdout",
          "text": [
            "{'train_runtime': 140.8568, 'train_samples_per_second': 51.826, 'train_steps_per_second': 3.372, 'train_loss': 0.029348230863872327, 'epoch': 25.0}\n",
            "{'eval_loss': 1.2410203218460083, 'eval_accuracy': 0.8492063492063492, 'eval_f1': 0.8448882328851273, 'eval_precision': 0.8624900232043089, 'eval_recall': 0.8492063492063492, 'eval_runtime': 0.6348, 'eval_samples_per_second': 198.483, 'eval_steps_per_second': 12.602, 'epoch': 25.0}\n"
          ]
        },
        {
          "output_type": "display_data",
          "data": {
            "text/plain": [
              "<IPython.core.display.HTML object>"
            ],
            "text/html": []
          },
          "metadata": {}
        },
        {
          "output_type": "display_data",
          "data": {
            "text/plain": [
              "<IPython.core.display.HTML object>"
            ],
            "text/html": [
              "<br>    <style><br>        .wandb-row {<br>            display: flex;<br>            flex-direction: row;<br>            flex-wrap: wrap;<br>            justify-content: flex-start;<br>            width: 100%;<br>        }<br>        .wandb-col {<br>            display: flex;<br>            flex-direction: column;<br>            flex-basis: 100%;<br>            flex: 1;<br>            padding: 10px;<br>        }<br>    </style><br><div class=\"wandb-row\"><div class=\"wandb-col\"><h3>Run history:</h3><br/><table class=\"wandb\"><tr><td>eval/accuracy</td><td>▁</td></tr><tr><td>eval/f1</td><td>▁</td></tr><tr><td>eval/loss</td><td>▁</td></tr><tr><td>eval/precision</td><td>▁</td></tr><tr><td>eval/recall</td><td>▁</td></tr><tr><td>eval/runtime</td><td>▁</td></tr><tr><td>eval/samples_per_second</td><td>▁</td></tr><tr><td>eval/steps_per_second</td><td>▁</td></tr><tr><td>train/epoch</td><td>▁▁</td></tr><tr><td>train/global_step</td><td>▁▁</td></tr></table><br/></div><div class=\"wandb-col\"><h3>Run summary:</h3><br/><table class=\"wandb\"><tr><td>eval/accuracy</td><td>0.84921</td></tr><tr><td>eval/f1</td><td>0.84489</td></tr><tr><td>eval/loss</td><td>1.24102</td></tr><tr><td>eval/precision</td><td>0.86249</td></tr><tr><td>eval/recall</td><td>0.84921</td></tr><tr><td>eval/runtime</td><td>0.6348</td></tr><tr><td>eval/samples_per_second</td><td>198.483</td></tr><tr><td>eval/steps_per_second</td><td>12.602</td></tr><tr><td>total_flos</td><td>477254218752000.0</td></tr><tr><td>train/epoch</td><td>25</td></tr><tr><td>train/global_step</td><td>475</td></tr><tr><td>train_loss</td><td>0.02935</td></tr><tr><td>train_runtime</td><td>140.8568</td></tr><tr><td>train_samples_per_second</td><td>51.826</td></tr><tr><td>train_steps_per_second</td><td>3.372</td></tr></table><br/></div></div>"
            ]
          },
          "metadata": {}
        },
        {
          "output_type": "display_data",
          "data": {
            "text/plain": [
              "<IPython.core.display.HTML object>"
            ],
            "text/html": [
              " View run <strong style=\"color:#cdcd00\">optimized_model_window_1lr_7.5e-04_bs_16_wd_2.8e-05_ws_2000_gas_1</strong> at: <a href='https://wandb.ai/h-driver/huggingface/runs/mejsnkhx' target=\"_blank\">https://wandb.ai/h-driver/huggingface/runs/mejsnkhx</a><br> View project at: <a href='https://wandb.ai/h-driver/huggingface' target=\"_blank\">https://wandb.ai/h-driver/huggingface</a><br>Synced 5 W&B file(s), 0 media file(s), 0 artifact file(s) and 0 other file(s)"
            ]
          },
          "metadata": {}
        },
        {
          "output_type": "display_data",
          "data": {
            "text/plain": [
              "<IPython.core.display.HTML object>"
            ],
            "text/html": [
              "Find logs at: <code>./wandb/run-20250228_144858-mejsnkhx/logs</code>"
            ]
          },
          "metadata": {}
        },
        {
          "output_type": "stream",
          "name": "stderr",
          "text": [
            "<ipython-input-53-8f6c246e9cba>:26: FutureWarning: `tokenizer` is deprecated and will be removed in version 5.0.0 for `Trainer.__init__`. Use `processing_class` instead.\n",
            "  trainer = Trainer(\n"
          ]
        },
        {
          "output_type": "display_data",
          "data": {
            "text/plain": [
              "<IPython.core.display.HTML object>"
            ],
            "text/html": [
              "Tracking run with wandb version 0.19.7"
            ]
          },
          "metadata": {}
        },
        {
          "output_type": "display_data",
          "data": {
            "text/plain": [
              "<IPython.core.display.HTML object>"
            ],
            "text/html": [
              "Run data is saved locally in <code>/content/drive/MyDrive/Colab Notebooks/Math_Graph/pickle_files/wandb/run-20250228_145123-18siuq13</code>"
            ]
          },
          "metadata": {}
        },
        {
          "output_type": "display_data",
          "data": {
            "text/plain": [
              "<IPython.core.display.HTML object>"
            ],
            "text/html": [
              "Syncing run <strong><a href='https://wandb.ai/h-driver/huggingface/runs/18siuq13' target=\"_blank\">optimized_model_window_1lr_7.9e-06_bs_32_wd_5.7e-03_ws_2000_gas_1</a></strong> to <a href='https://wandb.ai/h-driver/huggingface' target=\"_blank\">Weights & Biases</a> (<a href='https://wandb.me/developer-guide' target=\"_blank\">docs</a>)<br>"
            ]
          },
          "metadata": {}
        },
        {
          "output_type": "display_data",
          "data": {
            "text/plain": [
              "<IPython.core.display.HTML object>"
            ],
            "text/html": [
              " View project at <a href='https://wandb.ai/h-driver/huggingface' target=\"_blank\">https://wandb.ai/h-driver/huggingface</a>"
            ]
          },
          "metadata": {}
        },
        {
          "output_type": "display_data",
          "data": {
            "text/plain": [
              "<IPython.core.display.HTML object>"
            ],
            "text/html": [
              " View run at <a href='https://wandb.ai/h-driver/huggingface/runs/18siuq13' target=\"_blank\">https://wandb.ai/h-driver/huggingface/runs/18siuq13</a>"
            ]
          },
          "metadata": {}
        },
        {
          "output_type": "stream",
          "name": "stdout",
          "text": [
            "{'train_runtime': 133.0663, 'train_samples_per_second': 54.86, 'train_steps_per_second': 1.879, 'train_loss': 2.1301586180925368e-05, 'epoch': 25.0}\n",
            "{'eval_loss': 1.2562686204910278, 'eval_accuracy': 0.8492063492063492, 'eval_f1': 0.844615542612437, 'eval_precision': 0.8624028088313802, 'eval_recall': 0.8492063492063492, 'eval_runtime': 0.5924, 'eval_samples_per_second': 212.707, 'eval_steps_per_second': 6.753, 'epoch': 25.0}\n"
          ]
        },
        {
          "output_type": "display_data",
          "data": {
            "text/plain": [
              "<IPython.core.display.HTML object>"
            ],
            "text/html": []
          },
          "metadata": {}
        },
        {
          "output_type": "display_data",
          "data": {
            "text/plain": [
              "<IPython.core.display.HTML object>"
            ],
            "text/html": [
              "<br>    <style><br>        .wandb-row {<br>            display: flex;<br>            flex-direction: row;<br>            flex-wrap: wrap;<br>            justify-content: flex-start;<br>            width: 100%;<br>        }<br>        .wandb-col {<br>            display: flex;<br>            flex-direction: column;<br>            flex-basis: 100%;<br>            flex: 1;<br>            padding: 10px;<br>        }<br>    </style><br><div class=\"wandb-row\"><div class=\"wandb-col\"><h3>Run history:</h3><br/><table class=\"wandb\"><tr><td>eval/accuracy</td><td>▁</td></tr><tr><td>eval/f1</td><td>▁</td></tr><tr><td>eval/loss</td><td>▁</td></tr><tr><td>eval/precision</td><td>▁</td></tr><tr><td>eval/recall</td><td>▁</td></tr><tr><td>eval/runtime</td><td>▁</td></tr><tr><td>eval/samples_per_second</td><td>▁</td></tr><tr><td>eval/steps_per_second</td><td>▁</td></tr><tr><td>train/epoch</td><td>▁▁</td></tr><tr><td>train/global_step</td><td>▁▁</td></tr></table><br/></div><div class=\"wandb-col\"><h3>Run summary:</h3><br/><table class=\"wandb\"><tr><td>eval/accuracy</td><td>0.84921</td></tr><tr><td>eval/f1</td><td>0.84462</td></tr><tr><td>eval/loss</td><td>1.25627</td></tr><tr><td>eval/precision</td><td>0.8624</td></tr><tr><td>eval/recall</td><td>0.84921</td></tr><tr><td>eval/runtime</td><td>0.5924</td></tr><tr><td>eval/samples_per_second</td><td>212.707</td></tr><tr><td>eval/steps_per_second</td><td>6.753</td></tr><tr><td>total_flos</td><td>477254218752000.0</td></tr><tr><td>train/epoch</td><td>25</td></tr><tr><td>train/global_step</td><td>250</td></tr><tr><td>train_loss</td><td>2e-05</td></tr><tr><td>train_runtime</td><td>133.0663</td></tr><tr><td>train_samples_per_second</td><td>54.86</td></tr><tr><td>train_steps_per_second</td><td>1.879</td></tr></table><br/></div></div>"
            ]
          },
          "metadata": {}
        },
        {
          "output_type": "display_data",
          "data": {
            "text/plain": [
              "<IPython.core.display.HTML object>"
            ],
            "text/html": [
              " View run <strong style=\"color:#cdcd00\">optimized_model_window_1lr_7.9e-06_bs_32_wd_5.7e-03_ws_2000_gas_1</strong> at: <a href='https://wandb.ai/h-driver/huggingface/runs/18siuq13' target=\"_blank\">https://wandb.ai/h-driver/huggingface/runs/18siuq13</a><br> View project at: <a href='https://wandb.ai/h-driver/huggingface' target=\"_blank\">https://wandb.ai/h-driver/huggingface</a><br>Synced 5 W&B file(s), 0 media file(s), 0 artifact file(s) and 0 other file(s)"
            ]
          },
          "metadata": {}
        },
        {
          "output_type": "display_data",
          "data": {
            "text/plain": [
              "<IPython.core.display.HTML object>"
            ],
            "text/html": [
              "Find logs at: <code>./wandb/run-20250228_145123-18siuq13/logs</code>"
            ]
          },
          "metadata": {}
        },
        {
          "output_type": "stream",
          "name": "stderr",
          "text": [
            "<ipython-input-53-8f6c246e9cba>:26: FutureWarning: `tokenizer` is deprecated and will be removed in version 5.0.0 for `Trainer.__init__`. Use `processing_class` instead.\n",
            "  trainer = Trainer(\n"
          ]
        },
        {
          "output_type": "display_data",
          "data": {
            "text/plain": [
              "<IPython.core.display.HTML object>"
            ],
            "text/html": [
              "Tracking run with wandb version 0.19.7"
            ]
          },
          "metadata": {}
        },
        {
          "output_type": "display_data",
          "data": {
            "text/plain": [
              "<IPython.core.display.HTML object>"
            ],
            "text/html": [
              "Run data is saved locally in <code>/content/drive/MyDrive/Colab Notebooks/Math_Graph/pickle_files/wandb/run-20250228_145340-x5vp3rr8</code>"
            ]
          },
          "metadata": {}
        },
        {
          "output_type": "display_data",
          "data": {
            "text/plain": [
              "<IPython.core.display.HTML object>"
            ],
            "text/html": [
              "Syncing run <strong><a href='https://wandb.ai/h-driver/huggingface/runs/x5vp3rr8' target=\"_blank\">optimized_model_window_1lr_1.3e-04_bs_4_wd_6.0e-02_ws_500_gas_4</a></strong> to <a href='https://wandb.ai/h-driver/huggingface' target=\"_blank\">Weights & Biases</a> (<a href='https://wandb.me/developer-guide' target=\"_blank\">docs</a>)<br>"
            ]
          },
          "metadata": {}
        },
        {
          "output_type": "display_data",
          "data": {
            "text/plain": [
              "<IPython.core.display.HTML object>"
            ],
            "text/html": [
              " View project at <a href='https://wandb.ai/h-driver/huggingface' target=\"_blank\">https://wandb.ai/h-driver/huggingface</a>"
            ]
          },
          "metadata": {}
        },
        {
          "output_type": "display_data",
          "data": {
            "text/plain": [
              "<IPython.core.display.HTML object>"
            ],
            "text/html": [
              " View run at <a href='https://wandb.ai/h-driver/huggingface/runs/x5vp3rr8' target=\"_blank\">https://wandb.ai/h-driver/huggingface/runs/x5vp3rr8</a>"
            ]
          },
          "metadata": {}
        },
        {
          "output_type": "stream",
          "name": "stdout",
          "text": [
            "{'train_runtime': 156.1164, 'train_samples_per_second': 46.76, 'train_steps_per_second': 2.882, 'train_loss': 5.983140112625228e-06, 'epoch': 23.71232876712329}\n",
            "{'eval_loss': 1.462624430656433, 'eval_accuracy': 0.8412698412698413, 'eval_f1': 0.8382640019961907, 'eval_precision': 0.8533809664762044, 'eval_recall': 0.8412698412698413, 'eval_runtime': 0.7759, 'eval_samples_per_second': 162.382, 'eval_steps_per_second': 41.24, 'epoch': 23.71232876712329}\n"
          ]
        },
        {
          "output_type": "display_data",
          "data": {
            "text/plain": [
              "<IPython.core.display.HTML object>"
            ],
            "text/html": []
          },
          "metadata": {}
        },
        {
          "output_type": "display_data",
          "data": {
            "text/plain": [
              "<IPython.core.display.HTML object>"
            ],
            "text/html": [
              "<br>    <style><br>        .wandb-row {<br>            display: flex;<br>            flex-direction: row;<br>            flex-wrap: wrap;<br>            justify-content: flex-start;<br>            width: 100%;<br>        }<br>        .wandb-col {<br>            display: flex;<br>            flex-direction: column;<br>            flex-basis: 100%;<br>            flex: 1;<br>            padding: 10px;<br>        }<br>    </style><br><div class=\"wandb-row\"><div class=\"wandb-col\"><h3>Run history:</h3><br/><table class=\"wandb\"><tr><td>eval/accuracy</td><td>▁</td></tr><tr><td>eval/f1</td><td>▁</td></tr><tr><td>eval/loss</td><td>▁</td></tr><tr><td>eval/precision</td><td>▁</td></tr><tr><td>eval/recall</td><td>▁</td></tr><tr><td>eval/runtime</td><td>▁</td></tr><tr><td>eval/samples_per_second</td><td>▁</td></tr><tr><td>eval/steps_per_second</td><td>▁</td></tr><tr><td>train/epoch</td><td>▁▁</td></tr><tr><td>train/global_step</td><td>▁▁</td></tr></table><br/></div><div class=\"wandb-col\"><h3>Run summary:</h3><br/><table class=\"wandb\"><tr><td>eval/accuracy</td><td>0.84127</td></tr><tr><td>eval/f1</td><td>0.83826</td></tr><tr><td>eval/loss</td><td>1.46262</td></tr><tr><td>eval/precision</td><td>0.85338</td></tr><tr><td>eval/recall</td><td>0.84127</td></tr><tr><td>eval/runtime</td><td>0.7759</td></tr><tr><td>eval/samples_per_second</td><td>162.382</td></tr><tr><td>eval/steps_per_second</td><td>41.24</td></tr><tr><td>total_flos</td><td>452672357621760.0</td></tr><tr><td>train/epoch</td><td>23.71233</td></tr><tr><td>train/global_step</td><td>450</td></tr><tr><td>train_loss</td><td>1e-05</td></tr><tr><td>train_runtime</td><td>156.1164</td></tr><tr><td>train_samples_per_second</td><td>46.76</td></tr><tr><td>train_steps_per_second</td><td>2.882</td></tr></table><br/></div></div>"
            ]
          },
          "metadata": {}
        },
        {
          "output_type": "display_data",
          "data": {
            "text/plain": [
              "<IPython.core.display.HTML object>"
            ],
            "text/html": [
              " View run <strong style=\"color:#cdcd00\">optimized_model_window_1lr_1.3e-04_bs_4_wd_6.0e-02_ws_500_gas_4</strong> at: <a href='https://wandb.ai/h-driver/huggingface/runs/x5vp3rr8' target=\"_blank\">https://wandb.ai/h-driver/huggingface/runs/x5vp3rr8</a><br> View project at: <a href='https://wandb.ai/h-driver/huggingface' target=\"_blank\">https://wandb.ai/h-driver/huggingface</a><br>Synced 5 W&B file(s), 0 media file(s), 0 artifact file(s) and 0 other file(s)"
            ]
          },
          "metadata": {}
        },
        {
          "output_type": "display_data",
          "data": {
            "text/plain": [
              "<IPython.core.display.HTML object>"
            ],
            "text/html": [
              "Find logs at: <code>./wandb/run-20250228_145340-x5vp3rr8/logs</code>"
            ]
          },
          "metadata": {}
        },
        {
          "output_type": "stream",
          "name": "stderr",
          "text": [
            "<ipython-input-53-8f6c246e9cba>:26: FutureWarning: `tokenizer` is deprecated and will be removed in version 5.0.0 for `Trainer.__init__`. Use `processing_class` instead.\n",
            "  trainer = Trainer(\n"
          ]
        },
        {
          "output_type": "display_data",
          "data": {
            "text/plain": [
              "<IPython.core.display.HTML object>"
            ],
            "text/html": [
              "Tracking run with wandb version 0.19.7"
            ]
          },
          "metadata": {}
        },
        {
          "output_type": "display_data",
          "data": {
            "text/plain": [
              "<IPython.core.display.HTML object>"
            ],
            "text/html": [
              "Run data is saved locally in <code>/content/drive/MyDrive/Colab Notebooks/Math_Graph/pickle_files/wandb/run-20250228_145620-f28479sy</code>"
            ]
          },
          "metadata": {}
        },
        {
          "output_type": "display_data",
          "data": {
            "text/plain": [
              "<IPython.core.display.HTML object>"
            ],
            "text/html": [
              "Syncing run <strong><a href='https://wandb.ai/h-driver/huggingface/runs/f28479sy' target=\"_blank\">optimized_model_window_1lr_1.1e-05_bs_4_wd_6.3e-03_ws_100_gas_1</a></strong> to <a href='https://wandb.ai/h-driver/huggingface' target=\"_blank\">Weights & Biases</a> (<a href='https://wandb.me/developer-guide' target=\"_blank\">docs</a>)<br>"
            ]
          },
          "metadata": {}
        },
        {
          "output_type": "display_data",
          "data": {
            "text/plain": [
              "<IPython.core.display.HTML object>"
            ],
            "text/html": [
              " View project at <a href='https://wandb.ai/h-driver/huggingface' target=\"_blank\">https://wandb.ai/h-driver/huggingface</a>"
            ]
          },
          "metadata": {}
        },
        {
          "output_type": "display_data",
          "data": {
            "text/plain": [
              "<IPython.core.display.HTML object>"
            ],
            "text/html": [
              " View run at <a href='https://wandb.ai/h-driver/huggingface/runs/f28479sy' target=\"_blank\">https://wandb.ai/h-driver/huggingface/runs/f28479sy</a>"
            ]
          },
          "metadata": {}
        },
        {
          "output_type": "stream",
          "name": "stdout",
          "text": [
            "{'loss': 0.0, 'grad_norm': 4.185895647879079e-07, 'learning_rate': 8.68271013972848e-06, 'epoch': 6.8493150684931505}\n",
            "{'loss': 0.0, 'grad_norm': 1.8917465922640986e-06, 'learning_rate': 5.40621574737811e-06, 'epoch': 13.698630136986301}\n",
            "{'loss': 0.0, 'grad_norm': 3.6808423828915693e-06, 'learning_rate': 2.12972135502774e-06, 'epoch': 20.54794520547945}\n",
            "{'train_runtime': 172.7118, 'train_samples_per_second': 42.267, 'train_steps_per_second': 10.567, 'train_loss': 1.9563385524646674e-08, 'epoch': 25.0}\n",
            "{'eval_loss': 1.5293554067611694, 'eval_accuracy': 0.8412698412698413, 'eval_f1': 0.8383519494754424, 'eval_precision': 0.8537225561035083, 'eval_recall': 0.8412698412698413, 'eval_runtime': 0.7759, 'eval_samples_per_second': 162.396, 'eval_steps_per_second': 41.243, 'epoch': 25.0}\n"
          ]
        },
        {
          "output_type": "display_data",
          "data": {
            "text/plain": [
              "<IPython.core.display.HTML object>"
            ],
            "text/html": []
          },
          "metadata": {}
        },
        {
          "output_type": "display_data",
          "data": {
            "text/plain": [
              "<IPython.core.display.HTML object>"
            ],
            "text/html": [
              "<br>    <style><br>        .wandb-row {<br>            display: flex;<br>            flex-direction: row;<br>            flex-wrap: wrap;<br>            justify-content: flex-start;<br>            width: 100%;<br>        }<br>        .wandb-col {<br>            display: flex;<br>            flex-direction: column;<br>            flex-basis: 100%;<br>            flex: 1;<br>            padding: 10px;<br>        }<br>    </style><br><div class=\"wandb-row\"><div class=\"wandb-col\"><h3>Run history:</h3><br/><table class=\"wandb\"><tr><td>eval/accuracy</td><td>▁</td></tr><tr><td>eval/f1</td><td>▁</td></tr><tr><td>eval/loss</td><td>▁</td></tr><tr><td>eval/precision</td><td>▁</td></tr><tr><td>eval/recall</td><td>▁</td></tr><tr><td>eval/runtime</td><td>▁</td></tr><tr><td>eval/samples_per_second</td><td>▁</td></tr><tr><td>eval/steps_per_second</td><td>▁</td></tr><tr><td>train/epoch</td><td>▁▄▆██</td></tr><tr><td>train/global_step</td><td>▁▄▆██</td></tr><tr><td>train/grad_norm</td><td>▁▄█</td></tr><tr><td>train/learning_rate</td><td>█▄▁</td></tr><tr><td>train/loss</td><td>▁▁▁</td></tr></table><br/></div><div class=\"wandb-col\"><h3>Run summary:</h3><br/><table class=\"wandb\"><tr><td>eval/accuracy</td><td>0.84127</td></tr><tr><td>eval/f1</td><td>0.83835</td></tr><tr><td>eval/loss</td><td>1.52936</td></tr><tr><td>eval/precision</td><td>0.85372</td></tr><tr><td>eval/recall</td><td>0.84127</td></tr><tr><td>eval/runtime</td><td>0.7759</td></tr><tr><td>eval/samples_per_second</td><td>162.396</td></tr><tr><td>eval/steps_per_second</td><td>41.243</td></tr><tr><td>total_flos</td><td>477254218752000.0</td></tr><tr><td>train/epoch</td><td>25</td></tr><tr><td>train/global_step</td><td>1825</td></tr><tr><td>train/grad_norm</td><td>0.0</td></tr><tr><td>train/learning_rate</td><td>0.0</td></tr><tr><td>train/loss</td><td>0</td></tr><tr><td>train_loss</td><td>0.0</td></tr><tr><td>train_runtime</td><td>172.7118</td></tr><tr><td>train_samples_per_second</td><td>42.267</td></tr><tr><td>train_steps_per_second</td><td>10.567</td></tr></table><br/></div></div>"
            ]
          },
          "metadata": {}
        },
        {
          "output_type": "display_data",
          "data": {
            "text/plain": [
              "<IPython.core.display.HTML object>"
            ],
            "text/html": [
              " View run <strong style=\"color:#cdcd00\">optimized_model_window_1lr_1.1e-05_bs_4_wd_6.3e-03_ws_100_gas_1</strong> at: <a href='https://wandb.ai/h-driver/huggingface/runs/f28479sy' target=\"_blank\">https://wandb.ai/h-driver/huggingface/runs/f28479sy</a><br> View project at: <a href='https://wandb.ai/h-driver/huggingface' target=\"_blank\">https://wandb.ai/h-driver/huggingface</a><br>Synced 5 W&B file(s), 0 media file(s), 0 artifact file(s) and 0 other file(s)"
            ]
          },
          "metadata": {}
        },
        {
          "output_type": "display_data",
          "data": {
            "text/plain": [
              "<IPython.core.display.HTML object>"
            ],
            "text/html": [
              "Find logs at: <code>./wandb/run-20250228_145620-f28479sy/logs</code>"
            ]
          },
          "metadata": {}
        },
        {
          "output_type": "stream",
          "name": "stderr",
          "text": [
            "<ipython-input-53-8f6c246e9cba>:26: FutureWarning: `tokenizer` is deprecated and will be removed in version 5.0.0 for `Trainer.__init__`. Use `processing_class` instead.\n",
            "  trainer = Trainer(\n"
          ]
        },
        {
          "output_type": "display_data",
          "data": {
            "text/plain": [
              "<IPython.core.display.HTML object>"
            ],
            "text/html": [
              "Tracking run with wandb version 0.19.7"
            ]
          },
          "metadata": {}
        },
        {
          "output_type": "display_data",
          "data": {
            "text/plain": [
              "<IPython.core.display.HTML object>"
            ],
            "text/html": [
              "Run data is saved locally in <code>/content/drive/MyDrive/Colab Notebooks/Math_Graph/pickle_files/wandb/run-20250228_145917-xpemua52</code>"
            ]
          },
          "metadata": {}
        },
        {
          "output_type": "display_data",
          "data": {
            "text/plain": [
              "<IPython.core.display.HTML object>"
            ],
            "text/html": [
              "Syncing run <strong><a href='https://wandb.ai/h-driver/huggingface/runs/xpemua52' target=\"_blank\">optimized_model_window_1lr_1.3e-04_bs_32_wd_1.2e-04_ws_2000_gas_1</a></strong> to <a href='https://wandb.ai/h-driver/huggingface' target=\"_blank\">Weights & Biases</a> (<a href='https://wandb.me/developer-guide' target=\"_blank\">docs</a>)<br>"
            ]
          },
          "metadata": {}
        },
        {
          "output_type": "display_data",
          "data": {
            "text/plain": [
              "<IPython.core.display.HTML object>"
            ],
            "text/html": [
              " View project at <a href='https://wandb.ai/h-driver/huggingface' target=\"_blank\">https://wandb.ai/h-driver/huggingface</a>"
            ]
          },
          "metadata": {}
        },
        {
          "output_type": "display_data",
          "data": {
            "text/plain": [
              "<IPython.core.display.HTML object>"
            ],
            "text/html": [
              " View run at <a href='https://wandb.ai/h-driver/huggingface/runs/xpemua52' target=\"_blank\">https://wandb.ai/h-driver/huggingface/runs/xpemua52</a>"
            ]
          },
          "metadata": {}
        },
        {
          "output_type": "stream",
          "name": "stdout",
          "text": [
            "{'train_runtime': 133.2982, 'train_samples_per_second': 54.764, 'train_steps_per_second': 1.875, 'train_loss': 1.1578201338124927e-08, 'epoch': 25.0}\n",
            "{'eval_loss': 1.5401413440704346, 'eval_accuracy': 0.8412698412698413, 'eval_f1': 0.8383519494754424, 'eval_precision': 0.8537225561035083, 'eval_recall': 0.8412698412698413, 'eval_runtime': 0.594, 'eval_samples_per_second': 212.124, 'eval_steps_per_second': 6.734, 'epoch': 25.0}\n"
          ]
        },
        {
          "output_type": "display_data",
          "data": {
            "text/plain": [
              "<IPython.core.display.HTML object>"
            ],
            "text/html": []
          },
          "metadata": {}
        },
        {
          "output_type": "display_data",
          "data": {
            "text/plain": [
              "<IPython.core.display.HTML object>"
            ],
            "text/html": [
              "<br>    <style><br>        .wandb-row {<br>            display: flex;<br>            flex-direction: row;<br>            flex-wrap: wrap;<br>            justify-content: flex-start;<br>            width: 100%;<br>        }<br>        .wandb-col {<br>            display: flex;<br>            flex-direction: column;<br>            flex-basis: 100%;<br>            flex: 1;<br>            padding: 10px;<br>        }<br>    </style><br><div class=\"wandb-row\"><div class=\"wandb-col\"><h3>Run history:</h3><br/><table class=\"wandb\"><tr><td>eval/accuracy</td><td>▁</td></tr><tr><td>eval/f1</td><td>▁</td></tr><tr><td>eval/loss</td><td>▁</td></tr><tr><td>eval/precision</td><td>▁</td></tr><tr><td>eval/recall</td><td>▁</td></tr><tr><td>eval/runtime</td><td>▁</td></tr><tr><td>eval/samples_per_second</td><td>▁</td></tr><tr><td>eval/steps_per_second</td><td>▁</td></tr><tr><td>train/epoch</td><td>▁▁</td></tr><tr><td>train/global_step</td><td>▁▁</td></tr></table><br/></div><div class=\"wandb-col\"><h3>Run summary:</h3><br/><table class=\"wandb\"><tr><td>eval/accuracy</td><td>0.84127</td></tr><tr><td>eval/f1</td><td>0.83835</td></tr><tr><td>eval/loss</td><td>1.54014</td></tr><tr><td>eval/precision</td><td>0.85372</td></tr><tr><td>eval/recall</td><td>0.84127</td></tr><tr><td>eval/runtime</td><td>0.594</td></tr><tr><td>eval/samples_per_second</td><td>212.124</td></tr><tr><td>eval/steps_per_second</td><td>6.734</td></tr><tr><td>total_flos</td><td>477254218752000.0</td></tr><tr><td>train/epoch</td><td>25</td></tr><tr><td>train/global_step</td><td>250</td></tr><tr><td>train_loss</td><td>0.0</td></tr><tr><td>train_runtime</td><td>133.2982</td></tr><tr><td>train_samples_per_second</td><td>54.764</td></tr><tr><td>train_steps_per_second</td><td>1.875</td></tr></table><br/></div></div>"
            ]
          },
          "metadata": {}
        },
        {
          "output_type": "display_data",
          "data": {
            "text/plain": [
              "<IPython.core.display.HTML object>"
            ],
            "text/html": [
              " View run <strong style=\"color:#cdcd00\">optimized_model_window_1lr_1.3e-04_bs_32_wd_1.2e-04_ws_2000_gas_1</strong> at: <a href='https://wandb.ai/h-driver/huggingface/runs/xpemua52' target=\"_blank\">https://wandb.ai/h-driver/huggingface/runs/xpemua52</a><br> View project at: <a href='https://wandb.ai/h-driver/huggingface' target=\"_blank\">https://wandb.ai/h-driver/huggingface</a><br>Synced 5 W&B file(s), 0 media file(s), 0 artifact file(s) and 0 other file(s)"
            ]
          },
          "metadata": {}
        },
        {
          "output_type": "display_data",
          "data": {
            "text/plain": [
              "<IPython.core.display.HTML object>"
            ],
            "text/html": [
              "Find logs at: <code>./wandb/run-20250228_145917-xpemua52/logs</code>"
            ]
          },
          "metadata": {}
        },
        {
          "output_type": "stream",
          "name": "stderr",
          "text": [
            "<ipython-input-53-8f6c246e9cba>:26: FutureWarning: `tokenizer` is deprecated and will be removed in version 5.0.0 for `Trainer.__init__`. Use `processing_class` instead.\n",
            "  trainer = Trainer(\n"
          ]
        },
        {
          "output_type": "display_data",
          "data": {
            "text/plain": [
              "<IPython.core.display.HTML object>"
            ],
            "text/html": [
              "Tracking run with wandb version 0.19.7"
            ]
          },
          "metadata": {}
        },
        {
          "output_type": "display_data",
          "data": {
            "text/plain": [
              "<IPython.core.display.HTML object>"
            ],
            "text/html": [
              "Run data is saved locally in <code>/content/drive/MyDrive/Colab Notebooks/Math_Graph/pickle_files/wandb/run-20250228_150134-99fwrzk5</code>"
            ]
          },
          "metadata": {}
        },
        {
          "output_type": "display_data",
          "data": {
            "text/plain": [
              "<IPython.core.display.HTML object>"
            ],
            "text/html": [
              "Syncing run <strong><a href='https://wandb.ai/h-driver/huggingface/runs/99fwrzk5' target=\"_blank\">optimized_model_window_1lr_3.5e-04_bs_32_wd_9.3e-03_ws_2000_gas_1</a></strong> to <a href='https://wandb.ai/h-driver/huggingface' target=\"_blank\">Weights & Biases</a> (<a href='https://wandb.me/developer-guide' target=\"_blank\">docs</a>)<br>"
            ]
          },
          "metadata": {}
        },
        {
          "output_type": "display_data",
          "data": {
            "text/plain": [
              "<IPython.core.display.HTML object>"
            ],
            "text/html": [
              " View project at <a href='https://wandb.ai/h-driver/huggingface' target=\"_blank\">https://wandb.ai/h-driver/huggingface</a>"
            ]
          },
          "metadata": {}
        },
        {
          "output_type": "display_data",
          "data": {
            "text/plain": [
              "<IPython.core.display.HTML object>"
            ],
            "text/html": [
              " View run at <a href='https://wandb.ai/h-driver/huggingface/runs/99fwrzk5' target=\"_blank\">https://wandb.ai/h-driver/huggingface/runs/99fwrzk5</a>"
            ]
          },
          "metadata": {}
        },
        {
          "output_type": "stream",
          "name": "stdout",
          "text": [
            "{'train_runtime': 133.1567, 'train_samples_per_second': 54.823, 'train_steps_per_second': 1.877, 'train_loss': 6.854533694422571e-09, 'epoch': 25.0}\n",
            "{'eval_loss': 1.56757390499115, 'eval_accuracy': 0.8412698412698413, 'eval_f1': 0.8383519494754424, 'eval_precision': 0.8537225561035083, 'eval_recall': 0.8412698412698413, 'eval_runtime': 0.5934, 'eval_samples_per_second': 212.347, 'eval_steps_per_second': 6.741, 'epoch': 25.0}\n"
          ]
        },
        {
          "output_type": "display_data",
          "data": {
            "text/plain": [
              "<IPython.core.display.HTML object>"
            ],
            "text/html": []
          },
          "metadata": {}
        },
        {
          "output_type": "display_data",
          "data": {
            "text/plain": [
              "<IPython.core.display.HTML object>"
            ],
            "text/html": [
              "<br>    <style><br>        .wandb-row {<br>            display: flex;<br>            flex-direction: row;<br>            flex-wrap: wrap;<br>            justify-content: flex-start;<br>            width: 100%;<br>        }<br>        .wandb-col {<br>            display: flex;<br>            flex-direction: column;<br>            flex-basis: 100%;<br>            flex: 1;<br>            padding: 10px;<br>        }<br>    </style><br><div class=\"wandb-row\"><div class=\"wandb-col\"><h3>Run history:</h3><br/><table class=\"wandb\"><tr><td>eval/accuracy</td><td>▁</td></tr><tr><td>eval/f1</td><td>▁</td></tr><tr><td>eval/loss</td><td>▁</td></tr><tr><td>eval/precision</td><td>▁</td></tr><tr><td>eval/recall</td><td>▁</td></tr><tr><td>eval/runtime</td><td>▁</td></tr><tr><td>eval/samples_per_second</td><td>▁</td></tr><tr><td>eval/steps_per_second</td><td>▁</td></tr><tr><td>train/epoch</td><td>▁▁</td></tr><tr><td>train/global_step</td><td>▁▁</td></tr></table><br/></div><div class=\"wandb-col\"><h3>Run summary:</h3><br/><table class=\"wandb\"><tr><td>eval/accuracy</td><td>0.84127</td></tr><tr><td>eval/f1</td><td>0.83835</td></tr><tr><td>eval/loss</td><td>1.56757</td></tr><tr><td>eval/precision</td><td>0.85372</td></tr><tr><td>eval/recall</td><td>0.84127</td></tr><tr><td>eval/runtime</td><td>0.5934</td></tr><tr><td>eval/samples_per_second</td><td>212.347</td></tr><tr><td>eval/steps_per_second</td><td>6.741</td></tr><tr><td>total_flos</td><td>477254218752000.0</td></tr><tr><td>train/epoch</td><td>25</td></tr><tr><td>train/global_step</td><td>250</td></tr><tr><td>train_loss</td><td>0.0</td></tr><tr><td>train_runtime</td><td>133.1567</td></tr><tr><td>train_samples_per_second</td><td>54.823</td></tr><tr><td>train_steps_per_second</td><td>1.877</td></tr></table><br/></div></div>"
            ]
          },
          "metadata": {}
        },
        {
          "output_type": "display_data",
          "data": {
            "text/plain": [
              "<IPython.core.display.HTML object>"
            ],
            "text/html": [
              " View run <strong style=\"color:#cdcd00\">optimized_model_window_1lr_3.5e-04_bs_32_wd_9.3e-03_ws_2000_gas_1</strong> at: <a href='https://wandb.ai/h-driver/huggingface/runs/99fwrzk5' target=\"_blank\">https://wandb.ai/h-driver/huggingface/runs/99fwrzk5</a><br> View project at: <a href='https://wandb.ai/h-driver/huggingface' target=\"_blank\">https://wandb.ai/h-driver/huggingface</a><br>Synced 5 W&B file(s), 0 media file(s), 0 artifact file(s) and 0 other file(s)"
            ]
          },
          "metadata": {}
        },
        {
          "output_type": "display_data",
          "data": {
            "text/plain": [
              "<IPython.core.display.HTML object>"
            ],
            "text/html": [
              "Find logs at: <code>./wandb/run-20250228_150134-99fwrzk5/logs</code>"
            ]
          },
          "metadata": {}
        },
        {
          "output_type": "stream",
          "name": "stderr",
          "text": [
            "<ipython-input-53-8f6c246e9cba>:26: FutureWarning: `tokenizer` is deprecated and will be removed in version 5.0.0 for `Trainer.__init__`. Use `processing_class` instead.\n",
            "  trainer = Trainer(\n"
          ]
        },
        {
          "output_type": "display_data",
          "data": {
            "text/plain": [
              "<IPython.core.display.HTML object>"
            ],
            "text/html": [
              "Tracking run with wandb version 0.19.7"
            ]
          },
          "metadata": {}
        },
        {
          "output_type": "display_data",
          "data": {
            "text/plain": [
              "<IPython.core.display.HTML object>"
            ],
            "text/html": [
              "Run data is saved locally in <code>/content/drive/MyDrive/Colab Notebooks/Math_Graph/pickle_files/wandb/run-20250228_150351-vk83s3f4</code>"
            ]
          },
          "metadata": {}
        },
        {
          "output_type": "display_data",
          "data": {
            "text/plain": [
              "<IPython.core.display.HTML object>"
            ],
            "text/html": [
              "Syncing run <strong><a href='https://wandb.ai/h-driver/huggingface/runs/vk83s3f4' target=\"_blank\">optimized_model_window_1lr_1.0e-06_bs_4_wd_6.7e-03_ws_100_gas_1</a></strong> to <a href='https://wandb.ai/h-driver/huggingface' target=\"_blank\">Weights & Biases</a> (<a href='https://wandb.me/developer-guide' target=\"_blank\">docs</a>)<br>"
            ]
          },
          "metadata": {}
        },
        {
          "output_type": "display_data",
          "data": {
            "text/plain": [
              "<IPython.core.display.HTML object>"
            ],
            "text/html": [
              " View project at <a href='https://wandb.ai/h-driver/huggingface' target=\"_blank\">https://wandb.ai/h-driver/huggingface</a>"
            ]
          },
          "metadata": {}
        },
        {
          "output_type": "display_data",
          "data": {
            "text/plain": [
              "<IPython.core.display.HTML object>"
            ],
            "text/html": [
              " View run at <a href='https://wandb.ai/h-driver/huggingface/runs/vk83s3f4' target=\"_blank\">https://wandb.ai/h-driver/huggingface/runs/vk83s3f4</a>"
            ]
          },
          "metadata": {}
        },
        {
          "output_type": "stream",
          "name": "stdout",
          "text": [
            "{'loss': 0.0, 'grad_norm': 2.5128494485215924e-07, 'learning_rate': 7.681159420289861e-07, 'epoch': 6.8493150684931505}\n",
            "{'loss': 0.0, 'grad_norm': 6.923531259417359e-07, 'learning_rate': 4.782608695652178e-07, 'epoch': 13.698630136986301}\n",
            "{'loss': 0.0, 'grad_norm': 2.095130639645504e-06, 'learning_rate': 1.8840579710144943e-07, 'epoch': 20.54794520547945}\n",
            "{'train_runtime': 172.8687, 'train_samples_per_second': 42.229, 'train_steps_per_second': 10.557, 'train_loss': 3.3966480010374107e-09, 'epoch': 25.0}\n",
            "{'eval_loss': 1.570379614830017, 'eval_accuracy': 0.8412698412698413, 'eval_f1': 0.8383519494754424, 'eval_precision': 0.8537225561035083, 'eval_recall': 0.8412698412698413, 'eval_runtime': 0.7781, 'eval_samples_per_second': 161.935, 'eval_steps_per_second': 41.126, 'epoch': 25.0}\n"
          ]
        },
        {
          "output_type": "display_data",
          "data": {
            "text/plain": [
              "<IPython.core.display.HTML object>"
            ],
            "text/html": []
          },
          "metadata": {}
        },
        {
          "output_type": "display_data",
          "data": {
            "text/plain": [
              "<IPython.core.display.HTML object>"
            ],
            "text/html": [
              "<br>    <style><br>        .wandb-row {<br>            display: flex;<br>            flex-direction: row;<br>            flex-wrap: wrap;<br>            justify-content: flex-start;<br>            width: 100%;<br>        }<br>        .wandb-col {<br>            display: flex;<br>            flex-direction: column;<br>            flex-basis: 100%;<br>            flex: 1;<br>            padding: 10px;<br>        }<br>    </style><br><div class=\"wandb-row\"><div class=\"wandb-col\"><h3>Run history:</h3><br/><table class=\"wandb\"><tr><td>eval/accuracy</td><td>▁</td></tr><tr><td>eval/f1</td><td>▁</td></tr><tr><td>eval/loss</td><td>▁</td></tr><tr><td>eval/precision</td><td>▁</td></tr><tr><td>eval/recall</td><td>▁</td></tr><tr><td>eval/runtime</td><td>▁</td></tr><tr><td>eval/samples_per_second</td><td>▁</td></tr><tr><td>eval/steps_per_second</td><td>▁</td></tr><tr><td>train/epoch</td><td>▁▄▆██</td></tr><tr><td>train/global_step</td><td>▁▄▆██</td></tr><tr><td>train/grad_norm</td><td>▁▃█</td></tr><tr><td>train/learning_rate</td><td>█▄▁</td></tr><tr><td>train/loss</td><td>▁▁▁</td></tr></table><br/></div><div class=\"wandb-col\"><h3>Run summary:</h3><br/><table class=\"wandb\"><tr><td>eval/accuracy</td><td>0.84127</td></tr><tr><td>eval/f1</td><td>0.83835</td></tr><tr><td>eval/loss</td><td>1.57038</td></tr><tr><td>eval/precision</td><td>0.85372</td></tr><tr><td>eval/recall</td><td>0.84127</td></tr><tr><td>eval/runtime</td><td>0.7781</td></tr><tr><td>eval/samples_per_second</td><td>161.935</td></tr><tr><td>eval/steps_per_second</td><td>41.126</td></tr><tr><td>total_flos</td><td>477254218752000.0</td></tr><tr><td>train/epoch</td><td>25</td></tr><tr><td>train/global_step</td><td>1825</td></tr><tr><td>train/grad_norm</td><td>0.0</td></tr><tr><td>train/learning_rate</td><td>0.0</td></tr><tr><td>train/loss</td><td>0</td></tr><tr><td>train_loss</td><td>0.0</td></tr><tr><td>train_runtime</td><td>172.8687</td></tr><tr><td>train_samples_per_second</td><td>42.229</td></tr><tr><td>train_steps_per_second</td><td>10.557</td></tr></table><br/></div></div>"
            ]
          },
          "metadata": {}
        },
        {
          "output_type": "display_data",
          "data": {
            "text/plain": [
              "<IPython.core.display.HTML object>"
            ],
            "text/html": [
              " View run <strong style=\"color:#cdcd00\">optimized_model_window_1lr_1.0e-06_bs_4_wd_6.7e-03_ws_100_gas_1</strong> at: <a href='https://wandb.ai/h-driver/huggingface/runs/vk83s3f4' target=\"_blank\">https://wandb.ai/h-driver/huggingface/runs/vk83s3f4</a><br> View project at: <a href='https://wandb.ai/h-driver/huggingface' target=\"_blank\">https://wandb.ai/h-driver/huggingface</a><br>Synced 5 W&B file(s), 0 media file(s), 0 artifact file(s) and 0 other file(s)"
            ]
          },
          "metadata": {}
        },
        {
          "output_type": "display_data",
          "data": {
            "text/plain": [
              "<IPython.core.display.HTML object>"
            ],
            "text/html": [
              "Find logs at: <code>./wandb/run-20250228_150351-vk83s3f4/logs</code>"
            ]
          },
          "metadata": {}
        },
        {
          "output_type": "stream",
          "name": "stderr",
          "text": [
            "<ipython-input-53-8f6c246e9cba>:26: FutureWarning: `tokenizer` is deprecated and will be removed in version 5.0.0 for `Trainer.__init__`. Use `processing_class` instead.\n",
            "  trainer = Trainer(\n"
          ]
        },
        {
          "output_type": "display_data",
          "data": {
            "text/plain": [
              "<IPython.core.display.HTML object>"
            ],
            "text/html": [
              "Tracking run with wandb version 0.19.7"
            ]
          },
          "metadata": {}
        },
        {
          "output_type": "display_data",
          "data": {
            "text/plain": [
              "<IPython.core.display.HTML object>"
            ],
            "text/html": [
              "Run data is saved locally in <code>/content/drive/MyDrive/Colab Notebooks/Math_Graph/pickle_files/wandb/run-20250228_150648-knjh27ez</code>"
            ]
          },
          "metadata": {}
        },
        {
          "output_type": "display_data",
          "data": {
            "text/plain": [
              "<IPython.core.display.HTML object>"
            ],
            "text/html": [
              "Syncing run <strong><a href='https://wandb.ai/h-driver/huggingface/runs/knjh27ez' target=\"_blank\">optimized_model_window_1lr_1.3e-06_bs_32_wd_3.8e-03_ws_100_gas_1</a></strong> to <a href='https://wandb.ai/h-driver/huggingface' target=\"_blank\">Weights & Biases</a> (<a href='https://wandb.me/developer-guide' target=\"_blank\">docs</a>)<br>"
            ]
          },
          "metadata": {}
        },
        {
          "output_type": "display_data",
          "data": {
            "text/plain": [
              "<IPython.core.display.HTML object>"
            ],
            "text/html": [
              " View project at <a href='https://wandb.ai/h-driver/huggingface' target=\"_blank\">https://wandb.ai/h-driver/huggingface</a>"
            ]
          },
          "metadata": {}
        },
        {
          "output_type": "display_data",
          "data": {
            "text/plain": [
              "<IPython.core.display.HTML object>"
            ],
            "text/html": [
              " View run at <a href='https://wandb.ai/h-driver/huggingface/runs/knjh27ez' target=\"_blank\">https://wandb.ai/h-driver/huggingface/runs/knjh27ez</a>"
            ]
          },
          "metadata": {}
        },
        {
          "output_type": "stream",
          "name": "stdout",
          "text": [
            "{'train_runtime': 133.0057, 'train_samples_per_second': 54.885, 'train_steps_per_second': 1.88, 'train_loss': 3.9339061004284305e-09, 'epoch': 25.0}\n",
            "{'eval_loss': 1.5708937644958496, 'eval_accuracy': 0.8412698412698413, 'eval_f1': 0.8383519494754424, 'eval_precision': 0.8537225561035083, 'eval_recall': 0.8412698412698413, 'eval_runtime': 0.5951, 'eval_samples_per_second': 211.726, 'eval_steps_per_second': 6.721, 'epoch': 25.0}\n"
          ]
        },
        {
          "output_type": "display_data",
          "data": {
            "text/plain": [
              "<IPython.core.display.HTML object>"
            ],
            "text/html": []
          },
          "metadata": {}
        },
        {
          "output_type": "display_data",
          "data": {
            "text/plain": [
              "<IPython.core.display.HTML object>"
            ],
            "text/html": [
              "<br>    <style><br>        .wandb-row {<br>            display: flex;<br>            flex-direction: row;<br>            flex-wrap: wrap;<br>            justify-content: flex-start;<br>            width: 100%;<br>        }<br>        .wandb-col {<br>            display: flex;<br>            flex-direction: column;<br>            flex-basis: 100%;<br>            flex: 1;<br>            padding: 10px;<br>        }<br>    </style><br><div class=\"wandb-row\"><div class=\"wandb-col\"><h3>Run history:</h3><br/><table class=\"wandb\"><tr><td>eval/accuracy</td><td>▁</td></tr><tr><td>eval/f1</td><td>▁</td></tr><tr><td>eval/loss</td><td>▁</td></tr><tr><td>eval/precision</td><td>▁</td></tr><tr><td>eval/recall</td><td>▁</td></tr><tr><td>eval/runtime</td><td>▁</td></tr><tr><td>eval/samples_per_second</td><td>▁</td></tr><tr><td>eval/steps_per_second</td><td>▁</td></tr><tr><td>train/epoch</td><td>▁▁</td></tr><tr><td>train/global_step</td><td>▁▁</td></tr></table><br/></div><div class=\"wandb-col\"><h3>Run summary:</h3><br/><table class=\"wandb\"><tr><td>eval/accuracy</td><td>0.84127</td></tr><tr><td>eval/f1</td><td>0.83835</td></tr><tr><td>eval/loss</td><td>1.57089</td></tr><tr><td>eval/precision</td><td>0.85372</td></tr><tr><td>eval/recall</td><td>0.84127</td></tr><tr><td>eval/runtime</td><td>0.5951</td></tr><tr><td>eval/samples_per_second</td><td>211.726</td></tr><tr><td>eval/steps_per_second</td><td>6.721</td></tr><tr><td>total_flos</td><td>477254218752000.0</td></tr><tr><td>train/epoch</td><td>25</td></tr><tr><td>train/global_step</td><td>250</td></tr><tr><td>train_loss</td><td>0.0</td></tr><tr><td>train_runtime</td><td>133.0057</td></tr><tr><td>train_samples_per_second</td><td>54.885</td></tr><tr><td>train_steps_per_second</td><td>1.88</td></tr></table><br/></div></div>"
            ]
          },
          "metadata": {}
        },
        {
          "output_type": "display_data",
          "data": {
            "text/plain": [
              "<IPython.core.display.HTML object>"
            ],
            "text/html": [
              " View run <strong style=\"color:#cdcd00\">optimized_model_window_1lr_1.3e-06_bs_32_wd_3.8e-03_ws_100_gas_1</strong> at: <a href='https://wandb.ai/h-driver/huggingface/runs/knjh27ez' target=\"_blank\">https://wandb.ai/h-driver/huggingface/runs/knjh27ez</a><br> View project at: <a href='https://wandb.ai/h-driver/huggingface' target=\"_blank\">https://wandb.ai/h-driver/huggingface</a><br>Synced 5 W&B file(s), 0 media file(s), 0 artifact file(s) and 0 other file(s)"
            ]
          },
          "metadata": {}
        },
        {
          "output_type": "display_data",
          "data": {
            "text/plain": [
              "<IPython.core.display.HTML object>"
            ],
            "text/html": [
              "Find logs at: <code>./wandb/run-20250228_150648-knjh27ez/logs</code>"
            ]
          },
          "metadata": {}
        },
        {
          "output_type": "stream",
          "name": "stderr",
          "text": [
            "<ipython-input-53-8f6c246e9cba>:26: FutureWarning: `tokenizer` is deprecated and will be removed in version 5.0.0 for `Trainer.__init__`. Use `processing_class` instead.\n",
            "  trainer = Trainer(\n"
          ]
        },
        {
          "output_type": "display_data",
          "data": {
            "text/plain": [
              "<IPython.core.display.HTML object>"
            ],
            "text/html": [
              "Tracking run with wandb version 0.19.7"
            ]
          },
          "metadata": {}
        },
        {
          "output_type": "display_data",
          "data": {
            "text/plain": [
              "<IPython.core.display.HTML object>"
            ],
            "text/html": [
              "Run data is saved locally in <code>/content/drive/MyDrive/Colab Notebooks/Math_Graph/pickle_files/wandb/run-20250228_150905-subuaj2m</code>"
            ]
          },
          "metadata": {}
        },
        {
          "output_type": "display_data",
          "data": {
            "text/plain": [
              "<IPython.core.display.HTML object>"
            ],
            "text/html": [
              "Syncing run <strong><a href='https://wandb.ai/h-driver/huggingface/runs/subuaj2m' target=\"_blank\">optimized_model_window_1lr_8.7e-04_bs_32_wd_5.8e-04_ws_2000_gas_1</a></strong> to <a href='https://wandb.ai/h-driver/huggingface' target=\"_blank\">Weights & Biases</a> (<a href='https://wandb.me/developer-guide' target=\"_blank\">docs</a>)<br>"
            ]
          },
          "metadata": {}
        },
        {
          "output_type": "display_data",
          "data": {
            "text/plain": [
              "<IPython.core.display.HTML object>"
            ],
            "text/html": [
              " View project at <a href='https://wandb.ai/h-driver/huggingface' target=\"_blank\">https://wandb.ai/h-driver/huggingface</a>"
            ]
          },
          "metadata": {}
        },
        {
          "output_type": "display_data",
          "data": {
            "text/plain": [
              "<IPython.core.display.HTML object>"
            ],
            "text/html": [
              " View run at <a href='https://wandb.ai/h-driver/huggingface/runs/subuaj2m' target=\"_blank\">https://wandb.ai/h-driver/huggingface/runs/subuaj2m</a>"
            ]
          },
          "metadata": {}
        },
        {
          "output_type": "stream",
          "name": "stdout",
          "text": [
            "{'train_runtime': 133.0808, 'train_samples_per_second': 54.854, 'train_steps_per_second': 1.879, 'train_loss': 2.756714593488141e-09, 'epoch': 25.0}\n",
            "{'eval_loss': 1.612754225730896, 'eval_accuracy': 0.8492063492063492, 'eval_f1': 0.8459463012258043, 'eval_precision': 0.8566006304101542, 'eval_recall': 0.8492063492063492, 'eval_runtime': 0.5923, 'eval_samples_per_second': 212.738, 'eval_steps_per_second': 6.754, 'epoch': 25.0}\n"
          ]
        },
        {
          "output_type": "display_data",
          "data": {
            "text/plain": [
              "<IPython.core.display.HTML object>"
            ],
            "text/html": []
          },
          "metadata": {}
        },
        {
          "output_type": "display_data",
          "data": {
            "text/plain": [
              "<IPython.core.display.HTML object>"
            ],
            "text/html": [
              "<br>    <style><br>        .wandb-row {<br>            display: flex;<br>            flex-direction: row;<br>            flex-wrap: wrap;<br>            justify-content: flex-start;<br>            width: 100%;<br>        }<br>        .wandb-col {<br>            display: flex;<br>            flex-direction: column;<br>            flex-basis: 100%;<br>            flex: 1;<br>            padding: 10px;<br>        }<br>    </style><br><div class=\"wandb-row\"><div class=\"wandb-col\"><h3>Run history:</h3><br/><table class=\"wandb\"><tr><td>eval/accuracy</td><td>▁</td></tr><tr><td>eval/f1</td><td>▁</td></tr><tr><td>eval/loss</td><td>▁</td></tr><tr><td>eval/precision</td><td>▁</td></tr><tr><td>eval/recall</td><td>▁</td></tr><tr><td>eval/runtime</td><td>▁</td></tr><tr><td>eval/samples_per_second</td><td>▁</td></tr><tr><td>eval/steps_per_second</td><td>▁</td></tr><tr><td>train/epoch</td><td>▁▁</td></tr><tr><td>train/global_step</td><td>▁▁</td></tr></table><br/></div><div class=\"wandb-col\"><h3>Run summary:</h3><br/><table class=\"wandb\"><tr><td>eval/accuracy</td><td>0.84921</td></tr><tr><td>eval/f1</td><td>0.84595</td></tr><tr><td>eval/loss</td><td>1.61275</td></tr><tr><td>eval/precision</td><td>0.8566</td></tr><tr><td>eval/recall</td><td>0.84921</td></tr><tr><td>eval/runtime</td><td>0.5923</td></tr><tr><td>eval/samples_per_second</td><td>212.738</td></tr><tr><td>eval/steps_per_second</td><td>6.754</td></tr><tr><td>total_flos</td><td>477254218752000.0</td></tr><tr><td>train/epoch</td><td>25</td></tr><tr><td>train/global_step</td><td>250</td></tr><tr><td>train_loss</td><td>0.0</td></tr><tr><td>train_runtime</td><td>133.0808</td></tr><tr><td>train_samples_per_second</td><td>54.854</td></tr><tr><td>train_steps_per_second</td><td>1.879</td></tr></table><br/></div></div>"
            ]
          },
          "metadata": {}
        },
        {
          "output_type": "display_data",
          "data": {
            "text/plain": [
              "<IPython.core.display.HTML object>"
            ],
            "text/html": [
              " View run <strong style=\"color:#cdcd00\">optimized_model_window_1lr_8.7e-04_bs_32_wd_5.8e-04_ws_2000_gas_1</strong> at: <a href='https://wandb.ai/h-driver/huggingface/runs/subuaj2m' target=\"_blank\">https://wandb.ai/h-driver/huggingface/runs/subuaj2m</a><br> View project at: <a href='https://wandb.ai/h-driver/huggingface' target=\"_blank\">https://wandb.ai/h-driver/huggingface</a><br>Synced 5 W&B file(s), 0 media file(s), 0 artifact file(s) and 0 other file(s)"
            ]
          },
          "metadata": {}
        },
        {
          "output_type": "display_data",
          "data": {
            "text/plain": [
              "<IPython.core.display.HTML object>"
            ],
            "text/html": [
              "Find logs at: <code>./wandb/run-20250228_150905-subuaj2m/logs</code>"
            ]
          },
          "metadata": {}
        },
        {
          "output_type": "stream",
          "name": "stderr",
          "text": [
            "<ipython-input-53-8f6c246e9cba>:26: FutureWarning: `tokenizer` is deprecated and will be removed in version 5.0.0 for `Trainer.__init__`. Use `processing_class` instead.\n",
            "  trainer = Trainer(\n"
          ]
        },
        {
          "output_type": "display_data",
          "data": {
            "text/plain": [
              "<IPython.core.display.HTML object>"
            ],
            "text/html": [
              "Tracking run with wandb version 0.19.7"
            ]
          },
          "metadata": {}
        },
        {
          "output_type": "display_data",
          "data": {
            "text/plain": [
              "<IPython.core.display.HTML object>"
            ],
            "text/html": [
              "Run data is saved locally in <code>/content/drive/MyDrive/Colab Notebooks/Math_Graph/pickle_files/wandb/run-20250228_151122-4q76rhdy</code>"
            ]
          },
          "metadata": {}
        },
        {
          "output_type": "display_data",
          "data": {
            "text/plain": [
              "<IPython.core.display.HTML object>"
            ],
            "text/html": [
              "Syncing run <strong><a href='https://wandb.ai/h-driver/huggingface/runs/4q76rhdy' target=\"_blank\">optimized_model_window_1lr_1.7e-04_bs_32_wd_1.9e-04_ws_100_gas_1</a></strong> to <a href='https://wandb.ai/h-driver/huggingface' target=\"_blank\">Weights & Biases</a> (<a href='https://wandb.me/developer-guide' target=\"_blank\">docs</a>)<br>"
            ]
          },
          "metadata": {}
        },
        {
          "output_type": "display_data",
          "data": {
            "text/plain": [
              "<IPython.core.display.HTML object>"
            ],
            "text/html": [
              " View project at <a href='https://wandb.ai/h-driver/huggingface' target=\"_blank\">https://wandb.ai/h-driver/huggingface</a>"
            ]
          },
          "metadata": {}
        },
        {
          "output_type": "display_data",
          "data": {
            "text/plain": [
              "<IPython.core.display.HTML object>"
            ],
            "text/html": [
              " View run at <a href='https://wandb.ai/h-driver/huggingface/runs/4q76rhdy' target=\"_blank\">https://wandb.ai/h-driver/huggingface/runs/4q76rhdy</a>"
            ]
          },
          "metadata": {}
        },
        {
          "output_type": "stream",
          "name": "stdout",
          "text": [
            "{'train_runtime': 133.0848, 'train_samples_per_second': 54.852, 'train_steps_per_second': 1.879, 'train_loss': 6.407498744920304e-10, 'epoch': 25.0}\n",
            "{'eval_loss': 1.6536321640014648, 'eval_accuracy': 0.8412698412698413, 'eval_f1': 0.8352739984882841, 'eval_precision': 0.8532264032264032, 'eval_recall': 0.8412698412698413, 'eval_runtime': 0.5928, 'eval_samples_per_second': 212.539, 'eval_steps_per_second': 6.747, 'epoch': 25.0}\n"
          ]
        },
        {
          "output_type": "display_data",
          "data": {
            "text/plain": [
              "<IPython.core.display.HTML object>"
            ],
            "text/html": []
          },
          "metadata": {}
        },
        {
          "output_type": "display_data",
          "data": {
            "text/plain": [
              "<IPython.core.display.HTML object>"
            ],
            "text/html": [
              "<br>    <style><br>        .wandb-row {<br>            display: flex;<br>            flex-direction: row;<br>            flex-wrap: wrap;<br>            justify-content: flex-start;<br>            width: 100%;<br>        }<br>        .wandb-col {<br>            display: flex;<br>            flex-direction: column;<br>            flex-basis: 100%;<br>            flex: 1;<br>            padding: 10px;<br>        }<br>    </style><br><div class=\"wandb-row\"><div class=\"wandb-col\"><h3>Run history:</h3><br/><table class=\"wandb\"><tr><td>eval/accuracy</td><td>▁</td></tr><tr><td>eval/f1</td><td>▁</td></tr><tr><td>eval/loss</td><td>▁</td></tr><tr><td>eval/precision</td><td>▁</td></tr><tr><td>eval/recall</td><td>▁</td></tr><tr><td>eval/runtime</td><td>▁</td></tr><tr><td>eval/samples_per_second</td><td>▁</td></tr><tr><td>eval/steps_per_second</td><td>▁</td></tr><tr><td>train/epoch</td><td>▁▁</td></tr><tr><td>train/global_step</td><td>▁▁</td></tr></table><br/></div><div class=\"wandb-col\"><h3>Run summary:</h3><br/><table class=\"wandb\"><tr><td>eval/accuracy</td><td>0.84127</td></tr><tr><td>eval/f1</td><td>0.83527</td></tr><tr><td>eval/loss</td><td>1.65363</td></tr><tr><td>eval/precision</td><td>0.85323</td></tr><tr><td>eval/recall</td><td>0.84127</td></tr><tr><td>eval/runtime</td><td>0.5928</td></tr><tr><td>eval/samples_per_second</td><td>212.539</td></tr><tr><td>eval/steps_per_second</td><td>6.747</td></tr><tr><td>total_flos</td><td>477254218752000.0</td></tr><tr><td>train/epoch</td><td>25</td></tr><tr><td>train/global_step</td><td>250</td></tr><tr><td>train_loss</td><td>0.0</td></tr><tr><td>train_runtime</td><td>133.0848</td></tr><tr><td>train_samples_per_second</td><td>54.852</td></tr><tr><td>train_steps_per_second</td><td>1.879</td></tr></table><br/></div></div>"
            ]
          },
          "metadata": {}
        },
        {
          "output_type": "display_data",
          "data": {
            "text/plain": [
              "<IPython.core.display.HTML object>"
            ],
            "text/html": [
              " View run <strong style=\"color:#cdcd00\">optimized_model_window_1lr_1.7e-04_bs_32_wd_1.9e-04_ws_100_gas_1</strong> at: <a href='https://wandb.ai/h-driver/huggingface/runs/4q76rhdy' target=\"_blank\">https://wandb.ai/h-driver/huggingface/runs/4q76rhdy</a><br> View project at: <a href='https://wandb.ai/h-driver/huggingface' target=\"_blank\">https://wandb.ai/h-driver/huggingface</a><br>Synced 5 W&B file(s), 0 media file(s), 0 artifact file(s) and 0 other file(s)"
            ]
          },
          "metadata": {}
        },
        {
          "output_type": "display_data",
          "data": {
            "text/plain": [
              "<IPython.core.display.HTML object>"
            ],
            "text/html": [
              "Find logs at: <code>./wandb/run-20250228_151122-4q76rhdy/logs</code>"
            ]
          },
          "metadata": {}
        },
        {
          "output_type": "stream",
          "name": "stderr",
          "text": [
            "<ipython-input-53-8f6c246e9cba>:26: FutureWarning: `tokenizer` is deprecated and will be removed in version 5.0.0 for `Trainer.__init__`. Use `processing_class` instead.\n",
            "  trainer = Trainer(\n"
          ]
        },
        {
          "output_type": "display_data",
          "data": {
            "text/plain": [
              "<IPython.core.display.HTML object>"
            ],
            "text/html": [
              "Tracking run with wandb version 0.19.7"
            ]
          },
          "metadata": {}
        },
        {
          "output_type": "display_data",
          "data": {
            "text/plain": [
              "<IPython.core.display.HTML object>"
            ],
            "text/html": [
              "Run data is saved locally in <code>/content/drive/MyDrive/Colab Notebooks/Math_Graph/pickle_files/wandb/run-20250228_151339-4c75qeq4</code>"
            ]
          },
          "metadata": {}
        },
        {
          "output_type": "display_data",
          "data": {
            "text/plain": [
              "<IPython.core.display.HTML object>"
            ],
            "text/html": [
              "Syncing run <strong><a href='https://wandb.ai/h-driver/huggingface/runs/4c75qeq4' target=\"_blank\">optimized_model_window_1lr_1.2e-04_bs_32_wd_4.6e-02_ws_500_gas_2</a></strong> to <a href='https://wandb.ai/h-driver/huggingface' target=\"_blank\">Weights & Biases</a> (<a href='https://wandb.me/developer-guide' target=\"_blank\">docs</a>)<br>"
            ]
          },
          "metadata": {}
        },
        {
          "output_type": "display_data",
          "data": {
            "text/plain": [
              "<IPython.core.display.HTML object>"
            ],
            "text/html": [
              " View project at <a href='https://wandb.ai/h-driver/huggingface' target=\"_blank\">https://wandb.ai/h-driver/huggingface</a>"
            ]
          },
          "metadata": {}
        },
        {
          "output_type": "display_data",
          "data": {
            "text/plain": [
              "<IPython.core.display.HTML object>"
            ],
            "text/html": [
              " View run at <a href='https://wandb.ai/h-driver/huggingface/runs/4c75qeq4' target=\"_blank\">https://wandb.ai/h-driver/huggingface/runs/4c75qeq4</a>"
            ]
          },
          "metadata": {}
        },
        {
          "output_type": "stream",
          "name": "stdout",
          "text": [
            "{'train_runtime': 132.2222, 'train_samples_per_second': 55.21, 'train_steps_per_second': 0.945, 'train_loss': 3.874301626183296e-10, 'epoch': 25.0}\n",
            "{'eval_loss': 1.660221815109253, 'eval_accuracy': 0.8412698412698413, 'eval_f1': 0.8355564448001421, 'eval_precision': 0.8453916453916454, 'eval_recall': 0.8412698412698413, 'eval_runtime': 0.5965, 'eval_samples_per_second': 211.229, 'eval_steps_per_second': 6.706, 'epoch': 25.0}\n"
          ]
        },
        {
          "output_type": "display_data",
          "data": {
            "text/plain": [
              "<IPython.core.display.HTML object>"
            ],
            "text/html": []
          },
          "metadata": {}
        },
        {
          "output_type": "display_data",
          "data": {
            "text/plain": [
              "<IPython.core.display.HTML object>"
            ],
            "text/html": [
              "<br>    <style><br>        .wandb-row {<br>            display: flex;<br>            flex-direction: row;<br>            flex-wrap: wrap;<br>            justify-content: flex-start;<br>            width: 100%;<br>        }<br>        .wandb-col {<br>            display: flex;<br>            flex-direction: column;<br>            flex-basis: 100%;<br>            flex: 1;<br>            padding: 10px;<br>        }<br>    </style><br><div class=\"wandb-row\"><div class=\"wandb-col\"><h3>Run history:</h3><br/><table class=\"wandb\"><tr><td>eval/accuracy</td><td>▁</td></tr><tr><td>eval/f1</td><td>▁</td></tr><tr><td>eval/loss</td><td>▁</td></tr><tr><td>eval/precision</td><td>▁</td></tr><tr><td>eval/recall</td><td>▁</td></tr><tr><td>eval/runtime</td><td>▁</td></tr><tr><td>eval/samples_per_second</td><td>▁</td></tr><tr><td>eval/steps_per_second</td><td>▁</td></tr><tr><td>train/epoch</td><td>▁▁</td></tr><tr><td>train/global_step</td><td>▁▁</td></tr></table><br/></div><div class=\"wandb-col\"><h3>Run summary:</h3><br/><table class=\"wandb\"><tr><td>eval/accuracy</td><td>0.84127</td></tr><tr><td>eval/f1</td><td>0.83556</td></tr><tr><td>eval/loss</td><td>1.66022</td></tr><tr><td>eval/precision</td><td>0.84539</td></tr><tr><td>eval/recall</td><td>0.84127</td></tr><tr><td>eval/runtime</td><td>0.5965</td></tr><tr><td>eval/samples_per_second</td><td>211.229</td></tr><tr><td>eval/steps_per_second</td><td>6.706</td></tr><tr><td>total_flos</td><td>477254218752000.0</td></tr><tr><td>train/epoch</td><td>25</td></tr><tr><td>train/global_step</td><td>125</td></tr><tr><td>train_loss</td><td>0.0</td></tr><tr><td>train_runtime</td><td>132.2222</td></tr><tr><td>train_samples_per_second</td><td>55.21</td></tr><tr><td>train_steps_per_second</td><td>0.945</td></tr></table><br/></div></div>"
            ]
          },
          "metadata": {}
        },
        {
          "output_type": "display_data",
          "data": {
            "text/plain": [
              "<IPython.core.display.HTML object>"
            ],
            "text/html": [
              " View run <strong style=\"color:#cdcd00\">optimized_model_window_1lr_1.2e-04_bs_32_wd_4.6e-02_ws_500_gas_2</strong> at: <a href='https://wandb.ai/h-driver/huggingface/runs/4c75qeq4' target=\"_blank\">https://wandb.ai/h-driver/huggingface/runs/4c75qeq4</a><br> View project at: <a href='https://wandb.ai/h-driver/huggingface' target=\"_blank\">https://wandb.ai/h-driver/huggingface</a><br>Synced 5 W&B file(s), 0 media file(s), 0 artifact file(s) and 0 other file(s)"
            ]
          },
          "metadata": {}
        },
        {
          "output_type": "display_data",
          "data": {
            "text/plain": [
              "<IPython.core.display.HTML object>"
            ],
            "text/html": [
              "Find logs at: <code>./wandb/run-20250228_151339-4c75qeq4/logs</code>"
            ]
          },
          "metadata": {}
        },
        {
          "output_type": "stream",
          "name": "stderr",
          "text": [
            "<ipython-input-53-8f6c246e9cba>:26: FutureWarning: `tokenizer` is deprecated and will be removed in version 5.0.0 for `Trainer.__init__`. Use `processing_class` instead.\n",
            "  trainer = Trainer(\n"
          ]
        },
        {
          "output_type": "display_data",
          "data": {
            "text/plain": [
              "<IPython.core.display.HTML object>"
            ],
            "text/html": [
              "Tracking run with wandb version 0.19.7"
            ]
          },
          "metadata": {}
        },
        {
          "output_type": "display_data",
          "data": {
            "text/plain": [
              "<IPython.core.display.HTML object>"
            ],
            "text/html": [
              "Run data is saved locally in <code>/content/drive/MyDrive/Colab Notebooks/Math_Graph/pickle_files/wandb/run-20250228_151555-tpo511rm</code>"
            ]
          },
          "metadata": {}
        },
        {
          "output_type": "display_data",
          "data": {
            "text/plain": [
              "<IPython.core.display.HTML object>"
            ],
            "text/html": [
              "Syncing run <strong><a href='https://wandb.ai/h-driver/huggingface/runs/tpo511rm' target=\"_blank\">optimized_model_window_1lr_4.4e-06_bs_32_wd_1.5e-02_ws_500_gas_1</a></strong> to <a href='https://wandb.ai/h-driver/huggingface' target=\"_blank\">Weights & Biases</a> (<a href='https://wandb.me/developer-guide' target=\"_blank\">docs</a>)<br>"
            ]
          },
          "metadata": {}
        },
        {
          "output_type": "display_data",
          "data": {
            "text/plain": [
              "<IPython.core.display.HTML object>"
            ],
            "text/html": [
              " View project at <a href='https://wandb.ai/h-driver/huggingface' target=\"_blank\">https://wandb.ai/h-driver/huggingface</a>"
            ]
          },
          "metadata": {}
        },
        {
          "output_type": "display_data",
          "data": {
            "text/plain": [
              "<IPython.core.display.HTML object>"
            ],
            "text/html": [
              " View run at <a href='https://wandb.ai/h-driver/huggingface/runs/tpo511rm' target=\"_blank\">https://wandb.ai/h-driver/huggingface/runs/tpo511rm</a>"
            ]
          },
          "metadata": {}
        },
        {
          "output_type": "stream",
          "name": "stdout",
          "text": [
            "{'train_runtime': 133.0756, 'train_samples_per_second': 54.856, 'train_steps_per_second': 1.879, 'train_loss': 2.2351740369686012e-10, 'epoch': 25.0}\n",
            "{'eval_loss': 1.66061532497406, 'eval_accuracy': 0.8412698412698413, 'eval_f1': 0.8355564448001421, 'eval_precision': 0.8453916453916454, 'eval_recall': 0.8412698412698413, 'eval_runtime': 0.5928, 'eval_samples_per_second': 212.556, 'eval_steps_per_second': 6.748, 'epoch': 25.0}\n"
          ]
        },
        {
          "output_type": "display_data",
          "data": {
            "text/plain": [
              "<IPython.core.display.HTML object>"
            ],
            "text/html": []
          },
          "metadata": {}
        },
        {
          "output_type": "display_data",
          "data": {
            "text/plain": [
              "<IPython.core.display.HTML object>"
            ],
            "text/html": [
              "<br>    <style><br>        .wandb-row {<br>            display: flex;<br>            flex-direction: row;<br>            flex-wrap: wrap;<br>            justify-content: flex-start;<br>            width: 100%;<br>        }<br>        .wandb-col {<br>            display: flex;<br>            flex-direction: column;<br>            flex-basis: 100%;<br>            flex: 1;<br>            padding: 10px;<br>        }<br>    </style><br><div class=\"wandb-row\"><div class=\"wandb-col\"><h3>Run history:</h3><br/><table class=\"wandb\"><tr><td>eval/accuracy</td><td>▁</td></tr><tr><td>eval/f1</td><td>▁</td></tr><tr><td>eval/loss</td><td>▁</td></tr><tr><td>eval/precision</td><td>▁</td></tr><tr><td>eval/recall</td><td>▁</td></tr><tr><td>eval/runtime</td><td>▁</td></tr><tr><td>eval/samples_per_second</td><td>▁</td></tr><tr><td>eval/steps_per_second</td><td>▁</td></tr><tr><td>train/epoch</td><td>▁▁</td></tr><tr><td>train/global_step</td><td>▁▁</td></tr></table><br/></div><div class=\"wandb-col\"><h3>Run summary:</h3><br/><table class=\"wandb\"><tr><td>eval/accuracy</td><td>0.84127</td></tr><tr><td>eval/f1</td><td>0.83556</td></tr><tr><td>eval/loss</td><td>1.66062</td></tr><tr><td>eval/precision</td><td>0.84539</td></tr><tr><td>eval/recall</td><td>0.84127</td></tr><tr><td>eval/runtime</td><td>0.5928</td></tr><tr><td>eval/samples_per_second</td><td>212.556</td></tr><tr><td>eval/steps_per_second</td><td>6.748</td></tr><tr><td>total_flos</td><td>477254218752000.0</td></tr><tr><td>train/epoch</td><td>25</td></tr><tr><td>train/global_step</td><td>250</td></tr><tr><td>train_loss</td><td>0.0</td></tr><tr><td>train_runtime</td><td>133.0756</td></tr><tr><td>train_samples_per_second</td><td>54.856</td></tr><tr><td>train_steps_per_second</td><td>1.879</td></tr></table><br/></div></div>"
            ]
          },
          "metadata": {}
        },
        {
          "output_type": "display_data",
          "data": {
            "text/plain": [
              "<IPython.core.display.HTML object>"
            ],
            "text/html": [
              " View run <strong style=\"color:#cdcd00\">optimized_model_window_1lr_4.4e-06_bs_32_wd_1.5e-02_ws_500_gas_1</strong> at: <a href='https://wandb.ai/h-driver/huggingface/runs/tpo511rm' target=\"_blank\">https://wandb.ai/h-driver/huggingface/runs/tpo511rm</a><br> View project at: <a href='https://wandb.ai/h-driver/huggingface' target=\"_blank\">https://wandb.ai/h-driver/huggingface</a><br>Synced 5 W&B file(s), 0 media file(s), 0 artifact file(s) and 0 other file(s)"
            ]
          },
          "metadata": {}
        },
        {
          "output_type": "display_data",
          "data": {
            "text/plain": [
              "<IPython.core.display.HTML object>"
            ],
            "text/html": [
              "Find logs at: <code>./wandb/run-20250228_151555-tpo511rm/logs</code>"
            ]
          },
          "metadata": {}
        },
        {
          "output_type": "stream",
          "name": "stderr",
          "text": [
            "<ipython-input-53-8f6c246e9cba>:26: FutureWarning: `tokenizer` is deprecated and will be removed in version 5.0.0 for `Trainer.__init__`. Use `processing_class` instead.\n",
            "  trainer = Trainer(\n"
          ]
        },
        {
          "output_type": "display_data",
          "data": {
            "text/plain": [
              "<IPython.core.display.HTML object>"
            ],
            "text/html": [
              "Tracking run with wandb version 0.19.7"
            ]
          },
          "metadata": {}
        },
        {
          "output_type": "display_data",
          "data": {
            "text/plain": [
              "<IPython.core.display.HTML object>"
            ],
            "text/html": [
              "Run data is saved locally in <code>/content/drive/MyDrive/Colab Notebooks/Math_Graph/pickle_files/wandb/run-20250228_151812-afmn7gh7</code>"
            ]
          },
          "metadata": {}
        },
        {
          "output_type": "display_data",
          "data": {
            "text/plain": [
              "<IPython.core.display.HTML object>"
            ],
            "text/html": [
              "Syncing run <strong><a href='https://wandb.ai/h-driver/huggingface/runs/afmn7gh7' target=\"_blank\">optimized_model_window_1lr_3.5e-04_bs_4_wd_7.7e-02_ws_2000_gas_1</a></strong> to <a href='https://wandb.ai/h-driver/huggingface' target=\"_blank\">Weights & Biases</a> (<a href='https://wandb.me/developer-guide' target=\"_blank\">docs</a>)<br>"
            ]
          },
          "metadata": {}
        },
        {
          "output_type": "display_data",
          "data": {
            "text/plain": [
              "<IPython.core.display.HTML object>"
            ],
            "text/html": [
              " View project at <a href='https://wandb.ai/h-driver/huggingface' target=\"_blank\">https://wandb.ai/h-driver/huggingface</a>"
            ]
          },
          "metadata": {}
        },
        {
          "output_type": "display_data",
          "data": {
            "text/plain": [
              "<IPython.core.display.HTML object>"
            ],
            "text/html": [
              " View run at <a href='https://wandb.ai/h-driver/huggingface/runs/afmn7gh7' target=\"_blank\">https://wandb.ai/h-driver/huggingface/runs/afmn7gh7</a>"
            ]
          },
          "metadata": {}
        },
        {
          "output_type": "stream",
          "name": "stdout",
          "text": [
            "{'loss': 0.0, 'grad_norm': 1.3364076778543676e-07, 'learning_rate': 8.693815827910651e-05, 'epoch': 6.8493150684931505}\n",
            "{'loss': 0.0, 'grad_norm': 5.232504918240011e-07, 'learning_rate': 0.00017387631655821302, 'epoch': 13.698630136986301}\n",
            "{'loss': 2.0646, 'grad_norm': 16.348241806030273, 'learning_rate': 0.00026081447483731953, 'epoch': 20.54794520547945}\n",
            "{'train_runtime': 172.7076, 'train_samples_per_second': 42.268, 'train_steps_per_second': 10.567, 'train_loss': 0.9748696693328962, 'epoch': 25.0}\n",
            "{'eval_loss': 2.5531527996063232, 'eval_accuracy': 0.15873015873015872, 'eval_f1': 0.1009434617405761, 'eval_precision': 0.11486005813736908, 'eval_recall': 0.15873015873015872, 'eval_runtime': 0.7759, 'eval_samples_per_second': 162.389, 'eval_steps_per_second': 41.242, 'epoch': 25.0}\n"
          ]
        },
        {
          "output_type": "stream",
          "name": "stderr",
          "text": [
            "/usr/local/lib/python3.11/dist-packages/sklearn/metrics/_classification.py:1565: UndefinedMetricWarning: Precision is ill-defined and being set to 0.0 in labels with no predicted samples. Use `zero_division` parameter to control this behavior.\n",
            "  _warn_prf(average, modifier, f\"{metric.capitalize()} is\", len(result))\n"
          ]
        },
        {
          "output_type": "display_data",
          "data": {
            "text/plain": [
              "<IPython.core.display.HTML object>"
            ],
            "text/html": []
          },
          "metadata": {}
        },
        {
          "output_type": "display_data",
          "data": {
            "text/plain": [
              "<IPython.core.display.HTML object>"
            ],
            "text/html": [
              "<br>    <style><br>        .wandb-row {<br>            display: flex;<br>            flex-direction: row;<br>            flex-wrap: wrap;<br>            justify-content: flex-start;<br>            width: 100%;<br>        }<br>        .wandb-col {<br>            display: flex;<br>            flex-direction: column;<br>            flex-basis: 100%;<br>            flex: 1;<br>            padding: 10px;<br>        }<br>    </style><br><div class=\"wandb-row\"><div class=\"wandb-col\"><h3>Run history:</h3><br/><table class=\"wandb\"><tr><td>eval/accuracy</td><td>▁</td></tr><tr><td>eval/f1</td><td>▁</td></tr><tr><td>eval/loss</td><td>▁</td></tr><tr><td>eval/precision</td><td>▁</td></tr><tr><td>eval/recall</td><td>▁</td></tr><tr><td>eval/runtime</td><td>▁</td></tr><tr><td>eval/samples_per_second</td><td>▁</td></tr><tr><td>eval/steps_per_second</td><td>▁</td></tr><tr><td>train/epoch</td><td>▁▄▆██</td></tr><tr><td>train/global_step</td><td>▁▄▆██</td></tr><tr><td>train/grad_norm</td><td>▁▁█</td></tr><tr><td>train/learning_rate</td><td>▁▄█</td></tr><tr><td>train/loss</td><td>▁▁█</td></tr></table><br/></div><div class=\"wandb-col\"><h3>Run summary:</h3><br/><table class=\"wandb\"><tr><td>eval/accuracy</td><td>0.15873</td></tr><tr><td>eval/f1</td><td>0.10094</td></tr><tr><td>eval/loss</td><td>2.55315</td></tr><tr><td>eval/precision</td><td>0.11486</td></tr><tr><td>eval/recall</td><td>0.15873</td></tr><tr><td>eval/runtime</td><td>0.7759</td></tr><tr><td>eval/samples_per_second</td><td>162.389</td></tr><tr><td>eval/steps_per_second</td><td>41.242</td></tr><tr><td>total_flos</td><td>477254218752000.0</td></tr><tr><td>train/epoch</td><td>25</td></tr><tr><td>train/global_step</td><td>1825</td></tr><tr><td>train/grad_norm</td><td>16.34824</td></tr><tr><td>train/learning_rate</td><td>0.00026</td></tr><tr><td>train/loss</td><td>2.0646</td></tr><tr><td>train_loss</td><td>0.97487</td></tr><tr><td>train_runtime</td><td>172.7076</td></tr><tr><td>train_samples_per_second</td><td>42.268</td></tr><tr><td>train_steps_per_second</td><td>10.567</td></tr></table><br/></div></div>"
            ]
          },
          "metadata": {}
        },
        {
          "output_type": "display_data",
          "data": {
            "text/plain": [
              "<IPython.core.display.HTML object>"
            ],
            "text/html": [
              " View run <strong style=\"color:#cdcd00\">optimized_model_window_1lr_3.5e-04_bs_4_wd_7.7e-02_ws_2000_gas_1</strong> at: <a href='https://wandb.ai/h-driver/huggingface/runs/afmn7gh7' target=\"_blank\">https://wandb.ai/h-driver/huggingface/runs/afmn7gh7</a><br> View project at: <a href='https://wandb.ai/h-driver/huggingface' target=\"_blank\">https://wandb.ai/h-driver/huggingface</a><br>Synced 5 W&B file(s), 0 media file(s), 0 artifact file(s) and 0 other file(s)"
            ]
          },
          "metadata": {}
        },
        {
          "output_type": "display_data",
          "data": {
            "text/plain": [
              "<IPython.core.display.HTML object>"
            ],
            "text/html": [
              "Find logs at: <code>./wandb/run-20250228_151812-afmn7gh7/logs</code>"
            ]
          },
          "metadata": {}
        },
        {
          "output_type": "stream",
          "name": "stderr",
          "text": [
            "<ipython-input-53-8f6c246e9cba>:26: FutureWarning: `tokenizer` is deprecated and will be removed in version 5.0.0 for `Trainer.__init__`. Use `processing_class` instead.\n",
            "  trainer = Trainer(\n"
          ]
        },
        {
          "output_type": "display_data",
          "data": {
            "text/plain": [
              "<IPython.core.display.HTML object>"
            ],
            "text/html": [
              "Tracking run with wandb version 0.19.7"
            ]
          },
          "metadata": {}
        },
        {
          "output_type": "display_data",
          "data": {
            "text/plain": [
              "<IPython.core.display.HTML object>"
            ],
            "text/html": [
              "Run data is saved locally in <code>/content/drive/MyDrive/Colab Notebooks/Math_Graph/pickle_files/wandb/run-20250228_152109-5ogquk81</code>"
            ]
          },
          "metadata": {}
        },
        {
          "output_type": "display_data",
          "data": {
            "text/plain": [
              "<IPython.core.display.HTML object>"
            ],
            "text/html": [
              "Syncing run <strong><a href='https://wandb.ai/h-driver/huggingface/runs/5ogquk81' target=\"_blank\">optimized_model_window_1lr_9.1e-04_bs_8_wd_4.3e-04_ws_2000_gas_1</a></strong> to <a href='https://wandb.ai/h-driver/huggingface' target=\"_blank\">Weights & Biases</a> (<a href='https://wandb.me/developer-guide' target=\"_blank\">docs</a>)<br>"
            ]
          },
          "metadata": {}
        },
        {
          "output_type": "display_data",
          "data": {
            "text/plain": [
              "<IPython.core.display.HTML object>"
            ],
            "text/html": [
              " View project at <a href='https://wandb.ai/h-driver/huggingface' target=\"_blank\">https://wandb.ai/h-driver/huggingface</a>"
            ]
          },
          "metadata": {}
        },
        {
          "output_type": "display_data",
          "data": {
            "text/plain": [
              "<IPython.core.display.HTML object>"
            ],
            "text/html": [
              " View run at <a href='https://wandb.ai/h-driver/huggingface/runs/5ogquk81' target=\"_blank\">https://wandb.ai/h-driver/huggingface/runs/5ogquk81</a>"
            ]
          },
          "metadata": {}
        },
        {
          "output_type": "stream",
          "name": "stdout",
          "text": [
            "{'loss': 2.1964, 'grad_norm': 10.469857215881348, 'learning_rate': 0.00022809738369828684, 'epoch': 13.513513513513514}\n",
            "{'train_runtime': 152.8748, 'train_samples_per_second': 47.751, 'train_steps_per_second': 6.051, 'train_loss': 2.2199958430109796, 'epoch': 25.0}\n",
            "{'eval_loss': 2.5614712238311768, 'eval_accuracy': 0.1984126984126984, 'eval_f1': 0.1277847585309391, 'eval_precision': 0.13132980393042315, 'eval_recall': 0.1984126984126984, 'eval_runtime': 0.6987, 'eval_samples_per_second': 180.34, 'eval_steps_per_second': 22.9, 'epoch': 25.0}\n"
          ]
        },
        {
          "output_type": "stream",
          "name": "stderr",
          "text": [
            "/usr/local/lib/python3.11/dist-packages/sklearn/metrics/_classification.py:1565: UndefinedMetricWarning: Precision is ill-defined and being set to 0.0 in labels with no predicted samples. Use `zero_division` parameter to control this behavior.\n",
            "  _warn_prf(average, modifier, f\"{metric.capitalize()} is\", len(result))\n"
          ]
        },
        {
          "output_type": "display_data",
          "data": {
            "text/plain": [
              "<IPython.core.display.HTML object>"
            ],
            "text/html": []
          },
          "metadata": {}
        },
        {
          "output_type": "display_data",
          "data": {
            "text/plain": [
              "<IPython.core.display.HTML object>"
            ],
            "text/html": [
              "<br>    <style><br>        .wandb-row {<br>            display: flex;<br>            flex-direction: row;<br>            flex-wrap: wrap;<br>            justify-content: flex-start;<br>            width: 100%;<br>        }<br>        .wandb-col {<br>            display: flex;<br>            flex-direction: column;<br>            flex-basis: 100%;<br>            flex: 1;<br>            padding: 10px;<br>        }<br>    </style><br><div class=\"wandb-row\"><div class=\"wandb-col\"><h3>Run history:</h3><br/><table class=\"wandb\"><tr><td>eval/accuracy</td><td>▁</td></tr><tr><td>eval/f1</td><td>▁</td></tr><tr><td>eval/loss</td><td>▁</td></tr><tr><td>eval/precision</td><td>▁</td></tr><tr><td>eval/recall</td><td>▁</td></tr><tr><td>eval/runtime</td><td>▁</td></tr><tr><td>eval/samples_per_second</td><td>▁</td></tr><tr><td>eval/steps_per_second</td><td>▁</td></tr><tr><td>train/epoch</td><td>▁██</td></tr><tr><td>train/global_step</td><td>▁██</td></tr><tr><td>train/grad_norm</td><td>▁</td></tr><tr><td>train/learning_rate</td><td>▁</td></tr><tr><td>train/loss</td><td>▁</td></tr></table><br/></div><div class=\"wandb-col\"><h3>Run summary:</h3><br/><table class=\"wandb\"><tr><td>eval/accuracy</td><td>0.19841</td></tr><tr><td>eval/f1</td><td>0.12778</td></tr><tr><td>eval/loss</td><td>2.56147</td></tr><tr><td>eval/precision</td><td>0.13133</td></tr><tr><td>eval/recall</td><td>0.19841</td></tr><tr><td>eval/runtime</td><td>0.6987</td></tr><tr><td>eval/samples_per_second</td><td>180.34</td></tr><tr><td>eval/steps_per_second</td><td>22.9</td></tr><tr><td>total_flos</td><td>477254218752000.0</td></tr><tr><td>train/epoch</td><td>25</td></tr><tr><td>train/global_step</td><td>925</td></tr><tr><td>train/grad_norm</td><td>10.46986</td></tr><tr><td>train/learning_rate</td><td>0.00023</td></tr><tr><td>train/loss</td><td>2.1964</td></tr><tr><td>train_loss</td><td>2.22</td></tr><tr><td>train_runtime</td><td>152.8748</td></tr><tr><td>train_samples_per_second</td><td>47.751</td></tr><tr><td>train_steps_per_second</td><td>6.051</td></tr></table><br/></div></div>"
            ]
          },
          "metadata": {}
        },
        {
          "output_type": "display_data",
          "data": {
            "text/plain": [
              "<IPython.core.display.HTML object>"
            ],
            "text/html": [
              " View run <strong style=\"color:#cdcd00\">optimized_model_window_1lr_9.1e-04_bs_8_wd_4.3e-04_ws_2000_gas_1</strong> at: <a href='https://wandb.ai/h-driver/huggingface/runs/5ogquk81' target=\"_blank\">https://wandb.ai/h-driver/huggingface/runs/5ogquk81</a><br> View project at: <a href='https://wandb.ai/h-driver/huggingface' target=\"_blank\">https://wandb.ai/h-driver/huggingface</a><br>Synced 5 W&B file(s), 0 media file(s), 0 artifact file(s) and 0 other file(s)"
            ]
          },
          "metadata": {}
        },
        {
          "output_type": "display_data",
          "data": {
            "text/plain": [
              "<IPython.core.display.HTML object>"
            ],
            "text/html": [
              "Find logs at: <code>./wandb/run-20250228_152109-5ogquk81/logs</code>"
            ]
          },
          "metadata": {}
        },
        {
          "output_type": "stream",
          "name": "stderr",
          "text": [
            "<ipython-input-53-8f6c246e9cba>:26: FutureWarning: `tokenizer` is deprecated and will be removed in version 5.0.0 for `Trainer.__init__`. Use `processing_class` instead.\n",
            "  trainer = Trainer(\n"
          ]
        },
        {
          "output_type": "display_data",
          "data": {
            "text/plain": [
              "<IPython.core.display.HTML object>"
            ],
            "text/html": [
              "Tracking run with wandb version 0.19.7"
            ]
          },
          "metadata": {}
        },
        {
          "output_type": "display_data",
          "data": {
            "text/plain": [
              "<IPython.core.display.HTML object>"
            ],
            "text/html": [
              "Run data is saved locally in <code>/content/drive/MyDrive/Colab Notebooks/Math_Graph/pickle_files/wandb/run-20250228_152346-ut3xe093</code>"
            ]
          },
          "metadata": {}
        },
        {
          "output_type": "display_data",
          "data": {
            "text/plain": [
              "<IPython.core.display.HTML object>"
            ],
            "text/html": [
              "Syncing run <strong><a href='https://wandb.ai/h-driver/huggingface/runs/ut3xe093' target=\"_blank\">optimized_model_window_1lr_4.4e-05_bs_32_wd_3.9e-04_ws_100_gas_1</a></strong> to <a href='https://wandb.ai/h-driver/huggingface' target=\"_blank\">Weights & Biases</a> (<a href='https://wandb.me/developer-guide' target=\"_blank\">docs</a>)<br>"
            ]
          },
          "metadata": {}
        },
        {
          "output_type": "display_data",
          "data": {
            "text/plain": [
              "<IPython.core.display.HTML object>"
            ],
            "text/html": [
              " View project at <a href='https://wandb.ai/h-driver/huggingface' target=\"_blank\">https://wandb.ai/h-driver/huggingface</a>"
            ]
          },
          "metadata": {}
        },
        {
          "output_type": "display_data",
          "data": {
            "text/plain": [
              "<IPython.core.display.HTML object>"
            ],
            "text/html": [
              " View run at <a href='https://wandb.ai/h-driver/huggingface/runs/ut3xe093' target=\"_blank\">https://wandb.ai/h-driver/huggingface/runs/ut3xe093</a>"
            ]
          },
          "metadata": {}
        },
        {
          "output_type": "stream",
          "name": "stdout",
          "text": [
            "{'train_runtime': 133.0363, 'train_samples_per_second': 54.872, 'train_steps_per_second': 1.879, 'train_loss': 2.152450927734375, 'epoch': 25.0}\n",
            "{'eval_loss': 2.535567283630371, 'eval_accuracy': 0.1746031746031746, 'eval_f1': 0.11536701978439964, 'eval_precision': 0.12016017091205061, 'eval_recall': 0.1746031746031746, 'eval_runtime': 0.5938, 'eval_samples_per_second': 212.191, 'eval_steps_per_second': 6.736, 'epoch': 25.0}\n"
          ]
        },
        {
          "output_type": "stream",
          "name": "stderr",
          "text": [
            "/usr/local/lib/python3.11/dist-packages/sklearn/metrics/_classification.py:1565: UndefinedMetricWarning: Precision is ill-defined and being set to 0.0 in labels with no predicted samples. Use `zero_division` parameter to control this behavior.\n",
            "  _warn_prf(average, modifier, f\"{metric.capitalize()} is\", len(result))\n"
          ]
        },
        {
          "output_type": "display_data",
          "data": {
            "text/plain": [
              "<IPython.core.display.HTML object>"
            ],
            "text/html": []
          },
          "metadata": {}
        },
        {
          "output_type": "display_data",
          "data": {
            "text/plain": [
              "<IPython.core.display.HTML object>"
            ],
            "text/html": [
              "<br>    <style><br>        .wandb-row {<br>            display: flex;<br>            flex-direction: row;<br>            flex-wrap: wrap;<br>            justify-content: flex-start;<br>            width: 100%;<br>        }<br>        .wandb-col {<br>            display: flex;<br>            flex-direction: column;<br>            flex-basis: 100%;<br>            flex: 1;<br>            padding: 10px;<br>        }<br>    </style><br><div class=\"wandb-row\"><div class=\"wandb-col\"><h3>Run history:</h3><br/><table class=\"wandb\"><tr><td>eval/accuracy</td><td>▁</td></tr><tr><td>eval/f1</td><td>▁</td></tr><tr><td>eval/loss</td><td>▁</td></tr><tr><td>eval/precision</td><td>▁</td></tr><tr><td>eval/recall</td><td>▁</td></tr><tr><td>eval/runtime</td><td>▁</td></tr><tr><td>eval/samples_per_second</td><td>▁</td></tr><tr><td>eval/steps_per_second</td><td>▁</td></tr><tr><td>train/epoch</td><td>▁▁</td></tr><tr><td>train/global_step</td><td>▁▁</td></tr></table><br/></div><div class=\"wandb-col\"><h3>Run summary:</h3><br/><table class=\"wandb\"><tr><td>eval/accuracy</td><td>0.1746</td></tr><tr><td>eval/f1</td><td>0.11537</td></tr><tr><td>eval/loss</td><td>2.53557</td></tr><tr><td>eval/precision</td><td>0.12016</td></tr><tr><td>eval/recall</td><td>0.1746</td></tr><tr><td>eval/runtime</td><td>0.5938</td></tr><tr><td>eval/samples_per_second</td><td>212.191</td></tr><tr><td>eval/steps_per_second</td><td>6.736</td></tr><tr><td>total_flos</td><td>477254218752000.0</td></tr><tr><td>train/epoch</td><td>25</td></tr><tr><td>train/global_step</td><td>250</td></tr><tr><td>train_loss</td><td>2.15245</td></tr><tr><td>train_runtime</td><td>133.0363</td></tr><tr><td>train_samples_per_second</td><td>54.872</td></tr><tr><td>train_steps_per_second</td><td>1.879</td></tr></table><br/></div></div>"
            ]
          },
          "metadata": {}
        },
        {
          "output_type": "display_data",
          "data": {
            "text/plain": [
              "<IPython.core.display.HTML object>"
            ],
            "text/html": [
              " View run <strong style=\"color:#cdcd00\">optimized_model_window_1lr_4.4e-05_bs_32_wd_3.9e-04_ws_100_gas_1</strong> at: <a href='https://wandb.ai/h-driver/huggingface/runs/ut3xe093' target=\"_blank\">https://wandb.ai/h-driver/huggingface/runs/ut3xe093</a><br> View project at: <a href='https://wandb.ai/h-driver/huggingface' target=\"_blank\">https://wandb.ai/h-driver/huggingface</a><br>Synced 5 W&B file(s), 0 media file(s), 0 artifact file(s) and 0 other file(s)"
            ]
          },
          "metadata": {}
        },
        {
          "output_type": "display_data",
          "data": {
            "text/plain": [
              "<IPython.core.display.HTML object>"
            ],
            "text/html": [
              "Find logs at: <code>./wandb/run-20250228_152346-ut3xe093/logs</code>"
            ]
          },
          "metadata": {}
        },
        {
          "output_type": "stream",
          "name": "stderr",
          "text": [
            "<ipython-input-53-8f6c246e9cba>:26: FutureWarning: `tokenizer` is deprecated and will be removed in version 5.0.0 for `Trainer.__init__`. Use `processing_class` instead.\n",
            "  trainer = Trainer(\n"
          ]
        },
        {
          "output_type": "display_data",
          "data": {
            "text/plain": [
              "<IPython.core.display.HTML object>"
            ],
            "text/html": [
              "Tracking run with wandb version 0.19.7"
            ]
          },
          "metadata": {}
        },
        {
          "output_type": "display_data",
          "data": {
            "text/plain": [
              "<IPython.core.display.HTML object>"
            ],
            "text/html": [
              "Run data is saved locally in <code>/content/drive/MyDrive/Colab Notebooks/Math_Graph/pickle_files/wandb/run-20250228_152602-xflrne8g</code>"
            ]
          },
          "metadata": {}
        },
        {
          "output_type": "display_data",
          "data": {
            "text/plain": [
              "<IPython.core.display.HTML object>"
            ],
            "text/html": [
              "Syncing run <strong><a href='https://wandb.ai/h-driver/huggingface/runs/xflrne8g' target=\"_blank\">optimized_model_window_1lr_2.1e-04_bs_32_wd_2.4e-03_ws_2000_gas_1</a></strong> to <a href='https://wandb.ai/h-driver/huggingface' target=\"_blank\">Weights & Biases</a> (<a href='https://wandb.me/developer-guide' target=\"_blank\">docs</a>)<br>"
            ]
          },
          "metadata": {}
        },
        {
          "output_type": "display_data",
          "data": {
            "text/plain": [
              "<IPython.core.display.HTML object>"
            ],
            "text/html": [
              " View project at <a href='https://wandb.ai/h-driver/huggingface' target=\"_blank\">https://wandb.ai/h-driver/huggingface</a>"
            ]
          },
          "metadata": {}
        },
        {
          "output_type": "display_data",
          "data": {
            "text/plain": [
              "<IPython.core.display.HTML object>"
            ],
            "text/html": [
              " View run at <a href='https://wandb.ai/h-driver/huggingface/runs/xflrne8g' target=\"_blank\">https://wandb.ai/h-driver/huggingface/runs/xflrne8g</a>"
            ]
          },
          "metadata": {}
        },
        {
          "output_type": "stream",
          "name": "stdout",
          "text": [
            "{'train_runtime': 133.0753, 'train_samples_per_second': 54.856, 'train_steps_per_second': 1.879, 'train_loss': 2.137359619140625, 'epoch': 25.0}\n",
            "{'eval_loss': 2.5379834175109863, 'eval_accuracy': 0.1746031746031746, 'eval_f1': 0.11536701978439964, 'eval_precision': 0.12016017091205061, 'eval_recall': 0.1746031746031746, 'eval_runtime': 0.5951, 'eval_samples_per_second': 211.731, 'eval_steps_per_second': 6.722, 'epoch': 25.0}\n"
          ]
        },
        {
          "output_type": "stream",
          "name": "stderr",
          "text": [
            "/usr/local/lib/python3.11/dist-packages/sklearn/metrics/_classification.py:1565: UndefinedMetricWarning: Precision is ill-defined and being set to 0.0 in labels with no predicted samples. Use `zero_division` parameter to control this behavior.\n",
            "  _warn_prf(average, modifier, f\"{metric.capitalize()} is\", len(result))\n"
          ]
        },
        {
          "output_type": "display_data",
          "data": {
            "text/plain": [
              "<IPython.core.display.HTML object>"
            ],
            "text/html": []
          },
          "metadata": {}
        },
        {
          "output_type": "display_data",
          "data": {
            "text/plain": [
              "<IPython.core.display.HTML object>"
            ],
            "text/html": [
              "<br>    <style><br>        .wandb-row {<br>            display: flex;<br>            flex-direction: row;<br>            flex-wrap: wrap;<br>            justify-content: flex-start;<br>            width: 100%;<br>        }<br>        .wandb-col {<br>            display: flex;<br>            flex-direction: column;<br>            flex-basis: 100%;<br>            flex: 1;<br>            padding: 10px;<br>        }<br>    </style><br><div class=\"wandb-row\"><div class=\"wandb-col\"><h3>Run history:</h3><br/><table class=\"wandb\"><tr><td>eval/accuracy</td><td>▁</td></tr><tr><td>eval/f1</td><td>▁</td></tr><tr><td>eval/loss</td><td>▁</td></tr><tr><td>eval/precision</td><td>▁</td></tr><tr><td>eval/recall</td><td>▁</td></tr><tr><td>eval/runtime</td><td>▁</td></tr><tr><td>eval/samples_per_second</td><td>▁</td></tr><tr><td>eval/steps_per_second</td><td>▁</td></tr><tr><td>train/epoch</td><td>▁▁</td></tr><tr><td>train/global_step</td><td>▁▁</td></tr></table><br/></div><div class=\"wandb-col\"><h3>Run summary:</h3><br/><table class=\"wandb\"><tr><td>eval/accuracy</td><td>0.1746</td></tr><tr><td>eval/f1</td><td>0.11537</td></tr><tr><td>eval/loss</td><td>2.53798</td></tr><tr><td>eval/precision</td><td>0.12016</td></tr><tr><td>eval/recall</td><td>0.1746</td></tr><tr><td>eval/runtime</td><td>0.5951</td></tr><tr><td>eval/samples_per_second</td><td>211.731</td></tr><tr><td>eval/steps_per_second</td><td>6.722</td></tr><tr><td>total_flos</td><td>477254218752000.0</td></tr><tr><td>train/epoch</td><td>25</td></tr><tr><td>train/global_step</td><td>250</td></tr><tr><td>train_loss</td><td>2.13736</td></tr><tr><td>train_runtime</td><td>133.0753</td></tr><tr><td>train_samples_per_second</td><td>54.856</td></tr><tr><td>train_steps_per_second</td><td>1.879</td></tr></table><br/></div></div>"
            ]
          },
          "metadata": {}
        },
        {
          "output_type": "display_data",
          "data": {
            "text/plain": [
              "<IPython.core.display.HTML object>"
            ],
            "text/html": [
              " View run <strong style=\"color:#cdcd00\">optimized_model_window_1lr_2.1e-04_bs_32_wd_2.4e-03_ws_2000_gas_1</strong> at: <a href='https://wandb.ai/h-driver/huggingface/runs/xflrne8g' target=\"_blank\">https://wandb.ai/h-driver/huggingface/runs/xflrne8g</a><br> View project at: <a href='https://wandb.ai/h-driver/huggingface' target=\"_blank\">https://wandb.ai/h-driver/huggingface</a><br>Synced 5 W&B file(s), 0 media file(s), 0 artifact file(s) and 0 other file(s)"
            ]
          },
          "metadata": {}
        },
        {
          "output_type": "display_data",
          "data": {
            "text/plain": [
              "<IPython.core.display.HTML object>"
            ],
            "text/html": [
              "Find logs at: <code>./wandb/run-20250228_152602-xflrne8g/logs</code>"
            ]
          },
          "metadata": {}
        },
        {
          "output_type": "stream",
          "name": "stderr",
          "text": [
            "<ipython-input-53-8f6c246e9cba>:26: FutureWarning: `tokenizer` is deprecated and will be removed in version 5.0.0 for `Trainer.__init__`. Use `processing_class` instead.\n",
            "  trainer = Trainer(\n"
          ]
        },
        {
          "output_type": "display_data",
          "data": {
            "text/plain": [
              "<IPython.core.display.HTML object>"
            ],
            "text/html": [
              "Tracking run with wandb version 0.19.7"
            ]
          },
          "metadata": {}
        },
        {
          "output_type": "display_data",
          "data": {
            "text/plain": [
              "<IPython.core.display.HTML object>"
            ],
            "text/html": [
              "Run data is saved locally in <code>/content/drive/MyDrive/Colab Notebooks/Math_Graph/pickle_files/wandb/run-20250228_152819-9gfl5b61</code>"
            ]
          },
          "metadata": {}
        },
        {
          "output_type": "display_data",
          "data": {
            "text/plain": [
              "<IPython.core.display.HTML object>"
            ],
            "text/html": [
              "Syncing run <strong><a href='https://wandb.ai/h-driver/huggingface/runs/9gfl5b61' target=\"_blank\">optimized_model_window_1lr_2.9e-04_bs_8_wd_3.6e-05_ws_1000_gas_1</a></strong> to <a href='https://wandb.ai/h-driver/huggingface' target=\"_blank\">Weights & Biases</a> (<a href='https://wandb.me/developer-guide' target=\"_blank\">docs</a>)<br>"
            ]
          },
          "metadata": {}
        },
        {
          "output_type": "display_data",
          "data": {
            "text/plain": [
              "<IPython.core.display.HTML object>"
            ],
            "text/html": [
              " View project at <a href='https://wandb.ai/h-driver/huggingface' target=\"_blank\">https://wandb.ai/h-driver/huggingface</a>"
            ]
          },
          "metadata": {}
        },
        {
          "output_type": "display_data",
          "data": {
            "text/plain": [
              "<IPython.core.display.HTML object>"
            ],
            "text/html": [
              " View run at <a href='https://wandb.ai/h-driver/huggingface/runs/9gfl5b61' target=\"_blank\">https://wandb.ai/h-driver/huggingface/runs/9gfl5b61</a>"
            ]
          },
          "metadata": {}
        },
        {
          "output_type": "stream",
          "name": "stdout",
          "text": [
            "{'loss': 2.1622, 'grad_norm': 10.341872215270996, 'learning_rate': 0.0001452654154923556, 'epoch': 13.513513513513514}\n",
            "{'train_runtime': 152.8613, 'train_samples_per_second': 47.756, 'train_steps_per_second': 6.051, 'train_loss': 2.176418193095439, 'epoch': 25.0}\n",
            "{'eval_loss': 2.5616891384124756, 'eval_accuracy': 0.1984126984126984, 'eval_f1': 0.1277847585309391, 'eval_precision': 0.13132980393042315, 'eval_recall': 0.1984126984126984, 'eval_runtime': 0.7024, 'eval_samples_per_second': 179.373, 'eval_steps_per_second': 22.778, 'epoch': 25.0}\n"
          ]
        },
        {
          "output_type": "stream",
          "name": "stderr",
          "text": [
            "/usr/local/lib/python3.11/dist-packages/sklearn/metrics/_classification.py:1565: UndefinedMetricWarning: Precision is ill-defined and being set to 0.0 in labels with no predicted samples. Use `zero_division` parameter to control this behavior.\n",
            "  _warn_prf(average, modifier, f\"{metric.capitalize()} is\", len(result))\n"
          ]
        },
        {
          "output_type": "display_data",
          "data": {
            "text/plain": [
              "<IPython.core.display.HTML object>"
            ],
            "text/html": []
          },
          "metadata": {}
        },
        {
          "output_type": "display_data",
          "data": {
            "text/plain": [
              "<IPython.core.display.HTML object>"
            ],
            "text/html": [
              "<br>    <style><br>        .wandb-row {<br>            display: flex;<br>            flex-direction: row;<br>            flex-wrap: wrap;<br>            justify-content: flex-start;<br>            width: 100%;<br>        }<br>        .wandb-col {<br>            display: flex;<br>            flex-direction: column;<br>            flex-basis: 100%;<br>            flex: 1;<br>            padding: 10px;<br>        }<br>    </style><br><div class=\"wandb-row\"><div class=\"wandb-col\"><h3>Run history:</h3><br/><table class=\"wandb\"><tr><td>eval/accuracy</td><td>▁</td></tr><tr><td>eval/f1</td><td>▁</td></tr><tr><td>eval/loss</td><td>▁</td></tr><tr><td>eval/precision</td><td>▁</td></tr><tr><td>eval/recall</td><td>▁</td></tr><tr><td>eval/runtime</td><td>▁</td></tr><tr><td>eval/samples_per_second</td><td>▁</td></tr><tr><td>eval/steps_per_second</td><td>▁</td></tr><tr><td>train/epoch</td><td>▁██</td></tr><tr><td>train/global_step</td><td>▁██</td></tr><tr><td>train/grad_norm</td><td>▁</td></tr><tr><td>train/learning_rate</td><td>▁</td></tr><tr><td>train/loss</td><td>▁</td></tr></table><br/></div><div class=\"wandb-col\"><h3>Run summary:</h3><br/><table class=\"wandb\"><tr><td>eval/accuracy</td><td>0.19841</td></tr><tr><td>eval/f1</td><td>0.12778</td></tr><tr><td>eval/loss</td><td>2.56169</td></tr><tr><td>eval/precision</td><td>0.13133</td></tr><tr><td>eval/recall</td><td>0.19841</td></tr><tr><td>eval/runtime</td><td>0.7024</td></tr><tr><td>eval/samples_per_second</td><td>179.373</td></tr><tr><td>eval/steps_per_second</td><td>22.778</td></tr><tr><td>total_flos</td><td>477254218752000.0</td></tr><tr><td>train/epoch</td><td>25</td></tr><tr><td>train/global_step</td><td>925</td></tr><tr><td>train/grad_norm</td><td>10.34187</td></tr><tr><td>train/learning_rate</td><td>0.00015</td></tr><tr><td>train/loss</td><td>2.1622</td></tr><tr><td>train_loss</td><td>2.17642</td></tr><tr><td>train_runtime</td><td>152.8613</td></tr><tr><td>train_samples_per_second</td><td>47.756</td></tr><tr><td>train_steps_per_second</td><td>6.051</td></tr></table><br/></div></div>"
            ]
          },
          "metadata": {}
        },
        {
          "output_type": "display_data",
          "data": {
            "text/plain": [
              "<IPython.core.display.HTML object>"
            ],
            "text/html": [
              " View run <strong style=\"color:#cdcd00\">optimized_model_window_1lr_2.9e-04_bs_8_wd_3.6e-05_ws_1000_gas_1</strong> at: <a href='https://wandb.ai/h-driver/huggingface/runs/9gfl5b61' target=\"_blank\">https://wandb.ai/h-driver/huggingface/runs/9gfl5b61</a><br> View project at: <a href='https://wandb.ai/h-driver/huggingface' target=\"_blank\">https://wandb.ai/h-driver/huggingface</a><br>Synced 5 W&B file(s), 0 media file(s), 0 artifact file(s) and 0 other file(s)"
            ]
          },
          "metadata": {}
        },
        {
          "output_type": "display_data",
          "data": {
            "text/plain": [
              "<IPython.core.display.HTML object>"
            ],
            "text/html": [
              "Find logs at: <code>./wandb/run-20250228_152819-9gfl5b61/logs</code>"
            ]
          },
          "metadata": {}
        },
        {
          "output_type": "stream",
          "name": "stderr",
          "text": [
            "<ipython-input-53-8f6c246e9cba>:26: FutureWarning: `tokenizer` is deprecated and will be removed in version 5.0.0 for `Trainer.__init__`. Use `processing_class` instead.\n",
            "  trainer = Trainer(\n"
          ]
        },
        {
          "output_type": "display_data",
          "data": {
            "text/plain": [
              "<IPython.core.display.HTML object>"
            ],
            "text/html": [
              "Tracking run with wandb version 0.19.7"
            ]
          },
          "metadata": {}
        },
        {
          "output_type": "display_data",
          "data": {
            "text/plain": [
              "<IPython.core.display.HTML object>"
            ],
            "text/html": [
              "Run data is saved locally in <code>/content/drive/MyDrive/Colab Notebooks/Math_Graph/pickle_files/wandb/run-20250228_153056-7784dw8d</code>"
            ]
          },
          "metadata": {}
        },
        {
          "output_type": "display_data",
          "data": {
            "text/plain": [
              "<IPython.core.display.HTML object>"
            ],
            "text/html": [
              "Syncing run <strong><a href='https://wandb.ai/h-driver/huggingface/runs/7784dw8d' target=\"_blank\">optimized_model_window_1lr_6.8e-04_bs_32_wd_9.5e-04_ws_1000_gas_2</a></strong> to <a href='https://wandb.ai/h-driver/huggingface' target=\"_blank\">Weights & Biases</a> (<a href='https://wandb.me/developer-guide' target=\"_blank\">docs</a>)<br>"
            ]
          },
          "metadata": {}
        },
        {
          "output_type": "display_data",
          "data": {
            "text/plain": [
              "<IPython.core.display.HTML object>"
            ],
            "text/html": [
              " View project at <a href='https://wandb.ai/h-driver/huggingface' target=\"_blank\">https://wandb.ai/h-driver/huggingface</a>"
            ]
          },
          "metadata": {}
        },
        {
          "output_type": "display_data",
          "data": {
            "text/plain": [
              "<IPython.core.display.HTML object>"
            ],
            "text/html": [
              " View run at <a href='https://wandb.ai/h-driver/huggingface/runs/7784dw8d' target=\"_blank\">https://wandb.ai/h-driver/huggingface/runs/7784dw8d</a>"
            ]
          },
          "metadata": {}
        },
        {
          "output_type": "stream",
          "name": "stdout",
          "text": [
            "{'train_runtime': 132.4271, 'train_samples_per_second': 55.125, 'train_steps_per_second': 0.944, 'train_loss': 4.295259765625, 'epoch': 25.0}\n",
            "{'eval_loss': 2.56192684173584, 'eval_accuracy': 0.16666666666666666, 'eval_f1': 0.11512764446437916, 'eval_precision': 0.12561030418173275, 'eval_recall': 0.16666666666666666, 'eval_runtime': 0.5958, 'eval_samples_per_second': 211.485, 'eval_steps_per_second': 6.714, 'epoch': 25.0}\n"
          ]
        },
        {
          "output_type": "stream",
          "name": "stderr",
          "text": [
            "/usr/local/lib/python3.11/dist-packages/sklearn/metrics/_classification.py:1565: UndefinedMetricWarning: Precision is ill-defined and being set to 0.0 in labels with no predicted samples. Use `zero_division` parameter to control this behavior.\n",
            "  _warn_prf(average, modifier, f\"{metric.capitalize()} is\", len(result))\n"
          ]
        },
        {
          "output_type": "display_data",
          "data": {
            "text/plain": [
              "<IPython.core.display.HTML object>"
            ],
            "text/html": []
          },
          "metadata": {}
        },
        {
          "output_type": "display_data",
          "data": {
            "text/plain": [
              "<IPython.core.display.HTML object>"
            ],
            "text/html": [
              "<br>    <style><br>        .wandb-row {<br>            display: flex;<br>            flex-direction: row;<br>            flex-wrap: wrap;<br>            justify-content: flex-start;<br>            width: 100%;<br>        }<br>        .wandb-col {<br>            display: flex;<br>            flex-direction: column;<br>            flex-basis: 100%;<br>            flex: 1;<br>            padding: 10px;<br>        }<br>    </style><br><div class=\"wandb-row\"><div class=\"wandb-col\"><h3>Run history:</h3><br/><table class=\"wandb\"><tr><td>eval/accuracy</td><td>▁</td></tr><tr><td>eval/f1</td><td>▁</td></tr><tr><td>eval/loss</td><td>▁</td></tr><tr><td>eval/precision</td><td>▁</td></tr><tr><td>eval/recall</td><td>▁</td></tr><tr><td>eval/runtime</td><td>▁</td></tr><tr><td>eval/samples_per_second</td><td>▁</td></tr><tr><td>eval/steps_per_second</td><td>▁</td></tr><tr><td>train/epoch</td><td>▁▁</td></tr><tr><td>train/global_step</td><td>▁▁</td></tr></table><br/></div><div class=\"wandb-col\"><h3>Run summary:</h3><br/><table class=\"wandb\"><tr><td>eval/accuracy</td><td>0.16667</td></tr><tr><td>eval/f1</td><td>0.11513</td></tr><tr><td>eval/loss</td><td>2.56193</td></tr><tr><td>eval/precision</td><td>0.12561</td></tr><tr><td>eval/recall</td><td>0.16667</td></tr><tr><td>eval/runtime</td><td>0.5958</td></tr><tr><td>eval/samples_per_second</td><td>211.485</td></tr><tr><td>eval/steps_per_second</td><td>6.714</td></tr><tr><td>total_flos</td><td>477254218752000.0</td></tr><tr><td>train/epoch</td><td>25</td></tr><tr><td>train/global_step</td><td>125</td></tr><tr><td>train_loss</td><td>4.29526</td></tr><tr><td>train_runtime</td><td>132.4271</td></tr><tr><td>train_samples_per_second</td><td>55.125</td></tr><tr><td>train_steps_per_second</td><td>0.944</td></tr></table><br/></div></div>"
            ]
          },
          "metadata": {}
        },
        {
          "output_type": "display_data",
          "data": {
            "text/plain": [
              "<IPython.core.display.HTML object>"
            ],
            "text/html": [
              " View run <strong style=\"color:#cdcd00\">optimized_model_window_1lr_6.8e-04_bs_32_wd_9.5e-04_ws_1000_gas_2</strong> at: <a href='https://wandb.ai/h-driver/huggingface/runs/7784dw8d' target=\"_blank\">https://wandb.ai/h-driver/huggingface/runs/7784dw8d</a><br> View project at: <a href='https://wandb.ai/h-driver/huggingface' target=\"_blank\">https://wandb.ai/h-driver/huggingface</a><br>Synced 5 W&B file(s), 0 media file(s), 0 artifact file(s) and 0 other file(s)"
            ]
          },
          "metadata": {}
        },
        {
          "output_type": "display_data",
          "data": {
            "text/plain": [
              "<IPython.core.display.HTML object>"
            ],
            "text/html": [
              "Find logs at: <code>./wandb/run-20250228_153056-7784dw8d/logs</code>"
            ]
          },
          "metadata": {}
        },
        {
          "output_type": "stream",
          "name": "stdout",
          "text": [
            "Best hyperparameters: {'learning_rate': 0.0008737483861931933, 'batch_size': 32, 'weight_decay': 0.0005765898551871099, 'warmup_steps': 2000, 'gradient_accumulation_steps': 1}\n",
            "Best hyperparameters: {'learning_rate': 0.0008737483861931933, 'batch_size': 32, 'weight_decay': 0.0005765898551871099, 'warmup_steps': 2000, 'gradient_accumulation_steps': 1}\n"
          ]
        }
      ]
    }
  ]
}