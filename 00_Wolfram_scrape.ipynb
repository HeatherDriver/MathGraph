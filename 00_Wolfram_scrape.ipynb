{
  "nbformat": 4,
  "nbformat_minor": 0,
  "metadata": {
    "colab": {
      "provenance": [],
      "authorship_tag": "ABX9TyOcGXnE+KiCFuFYX0CQDAIb",
      "include_colab_link": true
    },
    "kernelspec": {
      "name": "python3",
      "display_name": "Python 3"
    },
    "language_info": {
      "name": "python"
    }
  },
  "cells": [
    {
      "cell_type": "markdown",
      "metadata": {
        "id": "view-in-github",
        "colab_type": "text"
      },
      "source": [
        "<a href=\"https://colab.research.google.com/github/HeatherDriver/MathGraph/blob/main/00_Wolfram_scrape.ipynb\" target=\"_parent\"><img src=\"https://colab.research.google.com/assets/colab-badge.svg\" alt=\"Open In Colab\"/></a>"
      ]
    },
    {
      "cell_type": "code",
      "execution_count": 1,
      "metadata": {
        "id": "otfD-ob5Jczb"
      },
      "outputs": [],
      "source": [
        "import requests\n",
        "from bs4 import BeautifulSoup\n",
        "import re\n",
        "import pickle\n",
        "from google.colab import drive\n",
        "import random"
      ]
    },
    {
      "cell_type": "code",
      "source": [
        "drive.mount(\"/content/drive\")\n",
        "%cd '/content/drive/MyDrive/Colab Notebooks/Math_Graph/pickle_files'"
      ],
      "metadata": {
        "colab": {
          "base_uri": "https://localhost:8080/"
        },
        "id": "m-yneil252cS",
        "outputId": "e449b4c0-01be-4e62-a0fa-4069a93787b8"
      },
      "execution_count": 2,
      "outputs": [
        {
          "output_type": "stream",
          "name": "stdout",
          "text": [
            "Mounted at /content/drive\n",
            "/content/drive/MyDrive/Colab Notebooks/Math_Graph/pickle_files\n"
          ]
        }
      ]
    },
    {
      "cell_type": "code",
      "source": [
        "# Scrape main structure from Wolfram Mathworld\n",
        "\n",
        "url_to_scrape = 'https://mathworld.wolfram.com/'\n",
        "\n",
        "response = requests.get(url_to_scrape)\n",
        "\n",
        "soup_object = BeautifulSoup(response.text)\n",
        "\n",
        "branches = soup_object.find_all('h3', href=False)\n",
        "branches = [tag.text for tag in branches]"
      ],
      "metadata": {
        "id": "x4xHCmIWKVMi"
      },
      "execution_count": 3,
      "outputs": []
    },
    {
      "cell_type": "code",
      "source": [
        "# Remove numbers and symbols from scraped text\n",
        "\n",
        "def clean_text(text):\n",
        "    return re.sub(r'@\\Z', '', re.sub(r'\\(\\d+\\)', '', text))\n",
        "\n",
        "def split_camel_case(text):\n",
        "    # Use regex to insert a space before uppercase letters preceded by lowercase letters\n",
        "    return re.sub(r'(?<=[a-z])(?=[A-Z])', ' ', text)"
      ],
      "metadata": {
        "id": "Nu_WmVW_WT5h"
      },
      "execution_count": 4,
      "outputs": []
    },
    {
      "cell_type": "code",
      "source": [
        "# Highest level dictionary eg has 'Algebra' = ['Polynomials', 'Wavelets', ...]\n",
        "try:\n",
        "  with open('topics.pkl', 'rb') as f:\n",
        "    topics = pickle.load(f)\n",
        "\n",
        "except:\n",
        "  topics = dict()\n",
        "\n",
        "  for i, branch in enumerate(branches):\n",
        "    if branch not in ['New in MathWorld', 'History and Terminology']:\n",
        "      branch_to_find = branch.replace(' ', '')\n",
        "      url_to_scrape = f\"https://mathworld.wolfram.com/topics/{branch_to_find}.html\"\n",
        "\n",
        "      response = requests.get(url_to_scrape)\n",
        "      if response.status_code == 200:\n",
        "        soup_object = BeautifulSoup(response.text)\n",
        "\n",
        "      ul_tag = soup_object.find('ul', class_='topics-list three-columns two-columns__900')\n",
        "      if not ul_tag:\n",
        "        ul_tag = soup_object.find('ul', class_='topics-list two-columns__900')\n",
        "\n",
        "      if ul_tag:\n",
        "        li_tags = ul_tag.find_all('li')\n",
        "        topics_list = [li.get_text(strip=True) for li in li_tags]\n",
        "        topics_list = [clean_text(item) for item in topics_list]\n",
        "        topics[branch] = topics_list\n",
        "\n",
        "      cleaned_dict = {key: [clean_text(item) for item in values] for key, values in topics.items()}\n",
        "      cleaned_dict_no_spaces = {key: [item.replace(' ', '') for item in values] for key, values in cleaned_dict.items()}\n",
        "\n",
        "  with open('topics.pkl', 'wb') as f:\n",
        "    pickle.dump(cleaned_dict, f)"
      ],
      "metadata": {
        "id": "uauGFHAaWKNL"
      },
      "execution_count": 5,
      "outputs": []
    },
    {
      "cell_type": "code",
      "source": [
        "# Lower level dictionary eg has 'Ring Theory' = ['Integral Element', 'Dedekind Ring', ...]\n",
        "\n",
        "try:\n",
        "  with open('sub_topics.pkl', 'rb') as f:\n",
        "    sub_topics = pickle.load(f)\n",
        "except:\n",
        "  sub_topics = dict()\n",
        "  sub_topics_ii = dict()\n",
        "\n",
        "  for key, value_list in cleaned_dict_no_spaces.items():\n",
        "    for i, value in enumerate(value_list):\n",
        "      url_to_scrape = f\"https://mathworld.wolfram.com/topics/{value}.html\"\n",
        "      response = requests.get(url_to_scrape)\n",
        "      if response.status_code == 200:\n",
        "        soup_object = BeautifulSoup(response.text)\n",
        "\n",
        "        ul_tag = soup_object.find('ul', class_='topics-list three-columns two-columns__900')\n",
        "\n",
        "        if not ul_tag:\n",
        "          ul_tag = soup_object.find('ul', class_='topics-list two-columns__900')\n",
        "\n",
        "        if not ul_tag:\n",
        "          first_ul = soup_object.find('ul')\n",
        "          ul_tag = first_ul.find_next('ul') if first_ul else None\n",
        "\n",
        "        if ul_tag:\n",
        "          li_tags = ul_tag.find_all('li')\n",
        "          topics = [li.get_text(strip=True) for li in li_tags]\n",
        "          topics = [clean_text(item) for item in topics]\n",
        "          sub_topics[value] = topics\n",
        "          if i == 0:\n",
        "            sub_topics_ii[key] = topics\n",
        "          else:\n",
        "            sub_topics_ii[key].extend(topics)\n",
        "\n",
        "        cleaned_dict = {key: [clean_text(item) for item in values] for key, values in sub_topics.items()}\n",
        "        cleaned_dict_ii = {key: [clean_text(item) for item in values] for key, values in sub_topics_ii.items()}\n",
        "        cleaned_dict_no_spaces = {key: [item.replace(' ', '') for item in values] for key, values in cleaned_dict.items()}\n",
        "\n",
        "        with open('sub_topics.pkl', 'wb') as f:\n",
        "          pickle.dump(cleaned_dict_ii, f)"
      ],
      "metadata": {
        "id": "Z4cAJhVfYSm8"
      },
      "execution_count": 6,
      "outputs": []
    },
    {
      "cell_type": "code",
      "source": [
        "# Additional levels for linear algebra topics\n",
        "alg_2 = dict()\n",
        "\n",
        "alg_2['Determinants'] = [\"Casoratian\", \"Cauchy's Determinant Theorem\", \"Cayley-Menger Determinant\",  \"Chió Pivotal Condensation\", \"Circulant Determinant\", \"Cofactor\",\n",
        "                         \"Condensation\", \"Determinant\", \"Determinant Expansion by Minors\", \"Determinant Identities\", \"Determinant Theorem\", \"Gram Determinant\", \"Gram's Inequality\",\n",
        "                         \"Hadamard's Maximum Determinant Problem\", \"Hadamard's Theorem\", \"Hafner-Sarnak-McCurley Constant\", \"Hessian\", \"Hill Determinant\", \"Hyperdeterminant\", \"Inversion Number\",\n",
        "                         \"Jacobi's Determinant Identity\", \"Jacobi's Theorem\", \"Jacobian\", \"Mills-Robbins-Rumsey Determinant Formula\", \"Minor\", \"Pfaffian\" \"Pivotal Condensation\", \"Schweins's Theorem\",\n",
        "                         \"Stäckel Determinant\", \"Sylvester's Determinant Identity\", \"Vandermonde Determinant\"]\n",
        "\n",
        "alg_2[\"General Linear Algebra\"] = [\"Alternating Multilinear Form\", \"Bilinear Basis\", \"Complex Vector Space\", \"Fredholm's Theorem\", \"Fundamental Matrix Subspaces\", \"Fundamental Theorem of Linear Algebra\",\n",
        "                                   \"Haar Condition\", \"Hermitian Inner Product\", \"Invertible Linear Map\", \"Kernel\", \"Linear Algebra\", \"Linear Combination\", \"Linear Function\", \"Linear Transformation Kernel\",\n",
        "                                   \"Linearly Independent\", \"Lorentzian Inner Product\", \"Null Space\", \"Nullity\", \"Nullspace\", \"Orthogonal Complement\", \"Orthogonal Set\", \"Orthogonal Sum\", \"Orthogonal Transformation\",\n",
        "                                   \"Orthogonality Condition\", \"Orthonormal Basis\", \"Orthonormal Set\", \"Piecewise Linear Function\", \"Quotient Vector Space\", \"Rank-Nullity Theorem\", \"Real Vector Space\", \"Reduced Whitehead Group\",\n",
        "                                   \"Vector Space Flag\", \"Vector Space Orientation\", \"Vector Space Projection\", \"Whitehead Group\"]\n",
        "\n",
        "alg_2[\"Lie Theory\"] = [\"Lie Algebra\", \"Lie Groups\"] #\n",
        "\n",
        "alg_2[\"Linear Independence\"] = [\"Fredholm's Theorem\", \"Linearly Dependent Functions\", \"Linearly Dependent Vectors\", \"Linearly Independent\", \"Orthogonal\", \"Vector Basis\", \"Wronskian\"]\n",
        "\n",
        "alg_2[\"Linear Systems of Equations\"] = [\"Basis Vector\", \"Change of Basis\", \"Change of Coordinates Matrix\", \"Cramer's Rule\", \"Gauss-Seidel Method\", \"Jacobi Method\", \"Linear Equation\", \"Linear System of Equations\",\n",
        "                                        \"Linear Transformation\", \"Standard Basis\", \"Stationary Iterative Method\", \"Successive Overrelaxation Method\", \"Symmetric Successive Overrelaxation Method\", \"Vector Basis\"]\n",
        "\n",
        "alg_2[\"Matrices\"] = [ \"Integer Matrices\", \"Matrix Decomposition\", \"Matrix Eigenvalues\", \"Matrix Groups\" \"Matrix Inversion\", \"Matrix Norms\", \"Matrix Operations\", \"Matrix Properties\", \"Matrix Types\"] #\n",
        "\n",
        "alg_2[\"Permanents\"] = [ \"Frobenius-König Theorem\", \"Permanent\", \"Ryser Formula\"]\n",
        "\n",
        "with open('alg_2.pkl', 'wb') as f:\n",
        "  pickle.dump(alg_2, f)"
      ],
      "metadata": {
        "id": "m76If3_-5fNC"
      },
      "execution_count": 7,
      "outputs": []
    },
    {
      "cell_type": "code",
      "source": [
        "# Even lower level for lie algebra and matrices\n",
        "alg_3 = dict()\n",
        "\n",
        "alg_3[\"Lie Algebra\"] = [\"Adjoint Representation\", \"Ado's Theorem\", \"Borel Algebra\", \"Cartan Algebra\", \"Cartan Matrix\", \"Cartan Subalgebra\", \"Casimir Operator\", \"Chevalley-Serre Relations\", \"Commutator\", \"Derivation Algebra\",\n",
        "                        \"Dynkin Diagram\", \"Engel's Theorem\", \"Exceptional Lie Algebra\", \"Highest Weight Theorem\", \"Iwasawa's Theorem\", \"Jacobi Identities\", \"Killing Form\", \"Lie Algebra\", \"Lie Algebra Commutator Series\",\n",
        "                        \"Lie Algebra Lower Central Series\", \"Lie Algebra Representation\", \"Lie Algebra Root\", \"Lie Algebra Simple Root\", \"Lie Algebra Weight\", \"Lie Algebroid\", \"Lie Bracket\", \"Lie Product\", \"Lie Subalgebra\",\n",
        "                        \"Macdonald's Constant-Term Conjecture\", \"Nilpotent Lie Algebra\", \"Poincaré-Birkhoff-Witt Theorem\", \"Reduced Root System\", \"Root Lattice\", \"Root System\", \"Semisimple Lie Algebra\", \"Serre Relations\",\n",
        "                        \"Simple Lie Algebra\", \"Solvable Lie Algebra\", \"Structure Constant\", \"Weyl Group\"]\n",
        "\n",
        "alg_3[\"Lie Groups\"] = [\"Anyon\", \"Associated Vector Bundle\", \"Chevalley Groups\", \"Commutator\", \"Compact Lie Group\", \"Exponential Map\", \"Flag Manifold\", \"Homogeneous Space\", \"Jacobi Identities\", \"Lie Group\", \"Lie Group Quotient Space\",\n",
        "                       \"Lie-Type Group\", \"Nil Geometry\", \"Nilmanifold\", \"Nilpotent Lie Group\", \"Principal Bundle\", \"Semisimple Lie Group\", \"Sol Geometry\", \"Solvable Lie Group\", \"Special Linear Group\", \"Special Unitary Group\",\n",
        "                       \"Topological Group\", \"Twisted Chevalley Groups\"]\n",
        "\n",
        "alg_3[\"Integer Matrices\"] = [\"Alternating Sign Matrix\", \"Antimagic Square\", \"Binary Matrix\" \"Boolean Matrix\", \"C-Matrix\", \"Frobenius-König Theorem\", \"Gale-Ryser Theorem\", \"Hadamard's Maximum Determinant Problem\",\n",
        "                             \"Hafner-Sarnak-McCurley Constant\", \"Hard Square Entropy Constant\", \"Heterosquare\", \"Identity Matrix\", \"Incidence Matrix\", \"Integer Matrix\", \"Interspersion\", \"Lam's Problem\", \"Logical Matrix\",\n",
        "                             \"Mortal\", \"Mortality Problem\", \"Null Matrix\", \"Paley Class\", \"Paley Construction\", \"Paley's Theorem\", \"Refined Alternating Sign Matrix Conjecture\", \"Relation Matrix\", \"Special Matrix\",\n",
        "                             \"Stolarsky Array\", \"Unit Matrix\", \"Weisstein's Conjecture\", \"Zero Matrix\"]\n",
        "\n",
        "alg_3[\"Matrix Decomposition\"] = [\"Cholesky Decomposition\", \"Eigen Decomposition\", \"Eigen Decomposition Theorem\", \"Eigenvalue\", \"Eigenvector\", \"Fundamental Matrix Subspaces\", \"Fundamental Theorem of Linear Algebra\",\n",
        "                                 \"Hermite Normal Form\", \"Hessenberg Decomposition\", \"Jacobson Canonical Form\", \"Jordan Basis\", \"Jordan Block\", \"Jordan Canonical Form\", \"Jordan Matrix Decomposition\", \"Le Paige's Theorem\",\n",
        "                                 \"LU Decomposition\", \"Matrix Decomposition\", \"Matrix Diagonalization\", \"Orthogonal Decomposition\", \"QR Decomposition\", \"Rational Canonical Form\", \"Schur Decomposition\", \"Singular Value\",\n",
        "                                 \"Singular Value Decomposition\", \"Smith Normal Form\" ]\n",
        "\n",
        "alg_3[\"Matrix Eigenvalues\"] = [ \"Ballieu's Theorem\", \"Characteristic Polynomial\", \"Characteristic Root\", \"Characteristic Value\", \"Determined by Spectrum\", \"Eigen Decomposition\", \"Eigenspace\", \"Eigenvalue\", \"Eigenvector\",\n",
        "                               \"Frobenius Theorem\", \"Generalized Eigenvector\", \"Gerschgorin Circle Theorem\", \"Gersgorin Circle Theorem\", \"Gershgorin Circle Theorem\", \"Girko's Circular Law\", \"Graph Spectrum\", \"Haemers Conjecture\",\n",
        "                                \"Integral Graph\", \"Lanczos Algorithm\", \"Left Eigenvector\", \"Lyapunov's First Theorem\", \"Lyapunov's Second Theorem\", \"Majorization\", \"Matrix Diagonalization\", \"Matrix Spectrum\", \"McCoy's Theorem\",\n",
        "                                \"Ostrowski's Theorem\", \"Parodi's Theorem\", \"Perron-Frobenius Theorem\", \"Perron's Theorem\", \"Positive Eigenvalued Matrix\", \"Right Eigenvector\", \"Routh-Hurwitz Theorem\", \"Schur Decomposition\",\n",
        "                                \"Schur's Inequalities\", \"Singular Value\", \"Spectral Norm\", \"Spectral Radius\", \"Spectrally Unique\", \"Wielandt's Theorem\", \"Wigner's Semicircle Law\" ]\n",
        "\n",
        "alg_3[\"Matrix Groups\"] = [ \"General Linear Group\", \"Heisenberg Group\", \"Lie-Type Group\", \"Linear Algebraic Group\", \"Maschke's Theorem\", \"Matrix Group\", \"Orthogonal Group\", \"Rotation Group\", \"Special Linear Group\", \"Special Orthogonal Group\",\n",
        "                          \"Special Unitary Group\", \"Symplectic Group\" ]\n",
        "\n",
        "alg_3[\"Matrix Inversion\"] = [ \"Drazin Inverse\", \"Inverse Matrix\", \"Matrix 1-Inverse\", \"Matrix Inverse\", \"Matrix Inversion\", \"Moore-Penrose Matrix Inverse\", \"Pseudoinverse\" ]\n",
        "\n",
        "alg_3[\"Matrix Norms\"] = [ \"Compatible\", \"Euclidean Norm\", \"Frobenius Norm\", \"Hilbert-Schmidt Norm\", \"Matrix Norm\", \"Matrix p-Norm\", \"Maximum Absolute Column Sum Norm\", \"Maximum Absolute Row Sum Norm\", \"Natural Norm\",\n",
        "                         \"Spectral Norm\" ]\n",
        "\n",
        "alg_3[\"Matrix Operations\"] = [\"Antihermitian Part\", \"Antisymmetric Part\", \"Conjugate Transpose\", \"Conjugate Transpose Matrix\", \"Echelon Form\", \"Elementary Row and Column Operations\", \"Fundamental Matrix Subspaces\",\n",
        "                              \"Fundamental Theorem of Linear Algebra\", \"Gauss-Jordan Algorithm\", \"Gauss-Jordan Elimination\", \"Gauss-Jordan Elimination Method\", \"Gauss-Jordan Method\", \"Gaussian Elimination\", \"Hermitian Part\",\n",
        "                              \"Hermitian Transpose\", \"Infinitesimal Matrix Change\", \"Invertible Matrix Theorem\", \"Jacobi Transformation\", \"Kronecker Product\", \"Kronecker Sum\", \"Matrix Addition\", \"Matrix Diagonalization\",\n",
        "                              \"Matrix Direct Product\", \"Matrix Direct Sum\", \"Matrix Equality\", \"Matrix Exponential\", \"Matrix Fraction\", \"Matrix Multiplication\", \"Matrix Power\", \"Matrix Product\", \"Moore-Penrose Pseudoinverse\",\n",
        "                              \"Normal Equation\", \"Pivoting\", \"Reduced Echelon Form\", \"Reduced Row Echelon Form\", \"Row Canonical Form\", \"Row Echelon Form\", \"Row-Reduced Echelon Form\", \"Sherman-Morrison Formula\",\n",
        "                              \"Skew Hermitian Part\", \"Square Root Method\", \"Strassen Formulas\", \"Symmetric Part\", \"Transpose\", \"Woodbury Formula\"  ]\n",
        "\n",
        "alg_3[\"Matrix Properties\"] = [\"Augmented Matrix\", \"Bandwidth\", \"Bourque-Ligh Conjecture\", \"Cayley-Hamilton Theorem\", \"Characteristic Equation\", \"Combinatorial Matrix Theory\", \"Condition Number\", \"Diagonal\", \"Diagonalizable Matrix\",\n",
        "                              \"Fredholm's Theorem\", \"Grothendieck's Constant\", \"Horn's Theorem\", \"Ill-Conditioned Matrix\", \"Immanant\", \"Invariant Factor\", \"Matrix\", \"Matrix Equality\", \"Matrix Minimal Polynomial\", \"Matrix Rank\",\n",
        "                              \"Matrix Signature\", \"Matrix Trace\", \"Roth's Removal Rule\", \"Segre Characteristic\", \"Singular System\", \"Skew Diagonal\", \"Sturmian Separation Theorem\", \"Subdiagonal\", \"Superdiagonal\",\n",
        "                              \"Sylvester's Criterion\", \"Totally Positive Matrix\", \"Transition Matrix\"]\n",
        "\n",
        "alg_3[\"Matrix Types\"] = ['Array', 'Column Space', 'Commuting Matrices', 'Congruent Matrices', 'Conjugate Transpose', 'Adjacency Matrix', 'DiagonalMatrixQ', 'Adjoint Matrix', 'Adjugate Matrix', 'Alternant Matrix', 'Antihermitian Matrix',\n",
        "                         'Antimetric Matrix', 'Antisymmetric Matrix', 'Asymmetric Matrix', 'Bisymmetric Matrix', 'Block Diagonal Matrix', 'Block Matrix', 'Bohr Matrix', 'Centrosymmetric Matrix', 'Circulant Matrix', 'Companion Matrix',\n",
        "                         'Positive Matrix', 'Complex Matrix', 'Conjugate Matrix', 'Copositive Matrix', 'Covariance Matrix', 'Coxeter Matrix', 'Fibonacci Q-Matrix', 'Defective Matrix', 'Diagonal Matrix', 'Diagonally Dominant Matrix',\n",
        "                         'Gamma Matrix', 'Nonnegative Matrix', 'Stochastic Matrix', 'Elementary Matrix', 'Equivalent Matrix', 'Fourier Matrix', 'Generalized Gell-Mann Matrix', 'Dirac Matrices', 'Generalized Vandermonde Matrix', 'Gram Matrix',\n",
        "                         'Hadamard Matrix', 'Hamiltonian Matrix', 'Hankel Matrix', 'Hermitian Matrix', 'Hessenberg Matrix', 'Hilbert Matrix', 'Householder Matrix', 'Idempotent Matrix', 'Identity Matrix', 'Completely Positive Matrix',\n",
        "                         'Conditioned Matrix', 'Indefinite Matrix', 'Involutory Matrix', 'Irreducible Matrix', 'Rotation Matrix', 'Kac Matrix', 'Multiple Matrix', 'Lower Triangular Matrix', 'Square Matrix', 'Equation Matrix', 'Minimal Matrix',\n",
        "                         'Rational Canonical Form', 'Monotonic Matrix', 'Definite Matrix', 'Negative Matrix', 'Semidefinite Matrix', 'Nilpotent Matrix', 'Nonnegative Matrix', 'Nonpositive Matrix', 'Nonsingular Matrix', 'Normal Matrix',\n",
        "                         'Special Orthogonal Matrix', 'Pascal Matrix', 'Payoff Matrix', 'Periodic Matrix', 'Permutation Matrix', 'Polynomial Matrix', 'Definite Matrix', 'Positive Eigenvalued Matrix', 'Positive Matrix',\n",
        "                         'Positive Semidefinite Matrix', 'Projection Matrix', 'Random Matrix', 'Real Matrix', 'Rectangular Matrix', 'Redheffer Matrix', 'Reducible Matrix', 'Rotation Matrix', 'Scalar Matrix', 'Schur Matrix', 'Seifert Matrix',\n",
        "                         'Self-Adjoint Matrix', 'Shear Matrix', 'Singular Matrix', 'Skew Hermitian Matrix', 'Pauli Matrices', 'Skew Symmetric Matrix', 'Sparse Matrix', 'Orthogonal Matrix', 'Unitary Matrix', 'Square Matrix', 'Stability Matrix',\n",
        "                         'Stochastic Matrix', 'Strictly Upper Triangular Matrix', 'Upper Triangular Matrix', 'Sylvester Matrix', 'Symmetric Matrix', 'Magic Square', 'Toeplitz Matrix', 'Tournament Matrix', 'Strictly Lower Triangular Matrix',\n",
        "                         'Tridiagonal Matrix', 'Unimodular Matrix', 'Unitary Matrix', 'Triangular Matrix', 'Vandermonde Matrix', 'Wavelet Matrix', 'Matrix Polynomial', 'Hypermatrix', 'Jordan Block']\n",
        "\n",
        "with open('alg_3.pkl', 'wb') as f:\n",
        "  pickle.dump(alg_3, f)"
      ],
      "metadata": {
        "id": "F_-1G1KEWwUf"
      },
      "execution_count": 8,
      "outputs": []
    }
  ]
}