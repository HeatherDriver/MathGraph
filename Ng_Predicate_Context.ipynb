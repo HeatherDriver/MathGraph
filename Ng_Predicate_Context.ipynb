{
  "nbformat": 4,
  "nbformat_minor": 0,
  "metadata": {
    "colab": {
      "provenance": [],
      "gpuType": "A100",
      "mount_file_id": "1i6s8PyTpRBNOw5t1797ktuJyIDzJkIkU",
      "authorship_tag": "ABX9TyMDsz8HqRykIKgojArZNoQr"
    },
    "kernelspec": {
      "name": "python3",
      "display_name": "Python 3"
    },
    "language_info": {
      "name": "python"
    },
    "widgets": {
      "application/vnd.jupyter.widget-state+json": {
        "68f870701f124d5781d2c10bf250cf58": {
          "model_module": "@jupyter-widgets/controls",
          "model_name": "HBoxModel",
          "model_module_version": "1.5.0",
          "state": {
            "_dom_classes": [],
            "_model_module": "@jupyter-widgets/controls",
            "_model_module_version": "1.5.0",
            "_model_name": "HBoxModel",
            "_view_count": null,
            "_view_module": "@jupyter-widgets/controls",
            "_view_module_version": "1.5.0",
            "_view_name": "HBoxView",
            "box_style": "",
            "children": [
              "IPY_MODEL_6d90e3d103ec433294583f36df949707",
              "IPY_MODEL_900c085f598847d5960c663d7e7e4abd",
              "IPY_MODEL_f666e765555a449eadcb70bfdf2092ee"
            ],
            "layout": "IPY_MODEL_2d917005fe85453886419ef181d83527"
          }
        },
        "6d90e3d103ec433294583f36df949707": {
          "model_module": "@jupyter-widgets/controls",
          "model_name": "HTMLModel",
          "model_module_version": "1.5.0",
          "state": {
            "_dom_classes": [],
            "_model_module": "@jupyter-widgets/controls",
            "_model_module_version": "1.5.0",
            "_model_name": "HTMLModel",
            "_view_count": null,
            "_view_module": "@jupyter-widgets/controls",
            "_view_module_version": "1.5.0",
            "_view_name": "HTMLView",
            "description": "",
            "description_tooltip": null,
            "layout": "IPY_MODEL_c0b23f0817b6400b83ae68f73fc3760b",
            "placeholder": "​",
            "style": "IPY_MODEL_d7a224c030ca4dd3b03e77fa54be04a7",
            "value": "Map: 100%"
          }
        },
        "900c085f598847d5960c663d7e7e4abd": {
          "model_module": "@jupyter-widgets/controls",
          "model_name": "FloatProgressModel",
          "model_module_version": "1.5.0",
          "state": {
            "_dom_classes": [],
            "_model_module": "@jupyter-widgets/controls",
            "_model_module_version": "1.5.0",
            "_model_name": "FloatProgressModel",
            "_view_count": null,
            "_view_module": "@jupyter-widgets/controls",
            "_view_module_version": "1.5.0",
            "_view_name": "ProgressView",
            "bar_style": "success",
            "description": "",
            "description_tooltip": null,
            "layout": "IPY_MODEL_1b8babc53dea4941b8089a5c0b8228c7",
            "max": 292,
            "min": 0,
            "orientation": "horizontal",
            "style": "IPY_MODEL_a275e0c5b3ec4afc8f74951dfa8dfcb2",
            "value": 292
          }
        },
        "f666e765555a449eadcb70bfdf2092ee": {
          "model_module": "@jupyter-widgets/controls",
          "model_name": "HTMLModel",
          "model_module_version": "1.5.0",
          "state": {
            "_dom_classes": [],
            "_model_module": "@jupyter-widgets/controls",
            "_model_module_version": "1.5.0",
            "_model_name": "HTMLModel",
            "_view_count": null,
            "_view_module": "@jupyter-widgets/controls",
            "_view_module_version": "1.5.0",
            "_view_name": "HTMLView",
            "description": "",
            "description_tooltip": null,
            "layout": "IPY_MODEL_1d1281bcf30440e49626f43cfb76c797",
            "placeholder": "​",
            "style": "IPY_MODEL_3f347e1a0763431095af94bdd06c66ef",
            "value": " 292/292 [00:00&lt;00:00, 5537.36 examples/s]"
          }
        },
        "2d917005fe85453886419ef181d83527": {
          "model_module": "@jupyter-widgets/base",
          "model_name": "LayoutModel",
          "model_module_version": "1.2.0",
          "state": {
            "_model_module": "@jupyter-widgets/base",
            "_model_module_version": "1.2.0",
            "_model_name": "LayoutModel",
            "_view_count": null,
            "_view_module": "@jupyter-widgets/base",
            "_view_module_version": "1.2.0",
            "_view_name": "LayoutView",
            "align_content": null,
            "align_items": null,
            "align_self": null,
            "border": null,
            "bottom": null,
            "display": null,
            "flex": null,
            "flex_flow": null,
            "grid_area": null,
            "grid_auto_columns": null,
            "grid_auto_flow": null,
            "grid_auto_rows": null,
            "grid_column": null,
            "grid_gap": null,
            "grid_row": null,
            "grid_template_areas": null,
            "grid_template_columns": null,
            "grid_template_rows": null,
            "height": null,
            "justify_content": null,
            "justify_items": null,
            "left": null,
            "margin": null,
            "max_height": null,
            "max_width": null,
            "min_height": null,
            "min_width": null,
            "object_fit": null,
            "object_position": null,
            "order": null,
            "overflow": null,
            "overflow_x": null,
            "overflow_y": null,
            "padding": null,
            "right": null,
            "top": null,
            "visibility": null,
            "width": null
          }
        },
        "c0b23f0817b6400b83ae68f73fc3760b": {
          "model_module": "@jupyter-widgets/base",
          "model_name": "LayoutModel",
          "model_module_version": "1.2.0",
          "state": {
            "_model_module": "@jupyter-widgets/base",
            "_model_module_version": "1.2.0",
            "_model_name": "LayoutModel",
            "_view_count": null,
            "_view_module": "@jupyter-widgets/base",
            "_view_module_version": "1.2.0",
            "_view_name": "LayoutView",
            "align_content": null,
            "align_items": null,
            "align_self": null,
            "border": null,
            "bottom": null,
            "display": null,
            "flex": null,
            "flex_flow": null,
            "grid_area": null,
            "grid_auto_columns": null,
            "grid_auto_flow": null,
            "grid_auto_rows": null,
            "grid_column": null,
            "grid_gap": null,
            "grid_row": null,
            "grid_template_areas": null,
            "grid_template_columns": null,
            "grid_template_rows": null,
            "height": null,
            "justify_content": null,
            "justify_items": null,
            "left": null,
            "margin": null,
            "max_height": null,
            "max_width": null,
            "min_height": null,
            "min_width": null,
            "object_fit": null,
            "object_position": null,
            "order": null,
            "overflow": null,
            "overflow_x": null,
            "overflow_y": null,
            "padding": null,
            "right": null,
            "top": null,
            "visibility": null,
            "width": null
          }
        },
        "d7a224c030ca4dd3b03e77fa54be04a7": {
          "model_module": "@jupyter-widgets/controls",
          "model_name": "DescriptionStyleModel",
          "model_module_version": "1.5.0",
          "state": {
            "_model_module": "@jupyter-widgets/controls",
            "_model_module_version": "1.5.0",
            "_model_name": "DescriptionStyleModel",
            "_view_count": null,
            "_view_module": "@jupyter-widgets/base",
            "_view_module_version": "1.2.0",
            "_view_name": "StyleView",
            "description_width": ""
          }
        },
        "1b8babc53dea4941b8089a5c0b8228c7": {
          "model_module": "@jupyter-widgets/base",
          "model_name": "LayoutModel",
          "model_module_version": "1.2.0",
          "state": {
            "_model_module": "@jupyter-widgets/base",
            "_model_module_version": "1.2.0",
            "_model_name": "LayoutModel",
            "_view_count": null,
            "_view_module": "@jupyter-widgets/base",
            "_view_module_version": "1.2.0",
            "_view_name": "LayoutView",
            "align_content": null,
            "align_items": null,
            "align_self": null,
            "border": null,
            "bottom": null,
            "display": null,
            "flex": null,
            "flex_flow": null,
            "grid_area": null,
            "grid_auto_columns": null,
            "grid_auto_flow": null,
            "grid_auto_rows": null,
            "grid_column": null,
            "grid_gap": null,
            "grid_row": null,
            "grid_template_areas": null,
            "grid_template_columns": null,
            "grid_template_rows": null,
            "height": null,
            "justify_content": null,
            "justify_items": null,
            "left": null,
            "margin": null,
            "max_height": null,
            "max_width": null,
            "min_height": null,
            "min_width": null,
            "object_fit": null,
            "object_position": null,
            "order": null,
            "overflow": null,
            "overflow_x": null,
            "overflow_y": null,
            "padding": null,
            "right": null,
            "top": null,
            "visibility": null,
            "width": null
          }
        },
        "a275e0c5b3ec4afc8f74951dfa8dfcb2": {
          "model_module": "@jupyter-widgets/controls",
          "model_name": "ProgressStyleModel",
          "model_module_version": "1.5.0",
          "state": {
            "_model_module": "@jupyter-widgets/controls",
            "_model_module_version": "1.5.0",
            "_model_name": "ProgressStyleModel",
            "_view_count": null,
            "_view_module": "@jupyter-widgets/base",
            "_view_module_version": "1.2.0",
            "_view_name": "StyleView",
            "bar_color": null,
            "description_width": ""
          }
        },
        "1d1281bcf30440e49626f43cfb76c797": {
          "model_module": "@jupyter-widgets/base",
          "model_name": "LayoutModel",
          "model_module_version": "1.2.0",
          "state": {
            "_model_module": "@jupyter-widgets/base",
            "_model_module_version": "1.2.0",
            "_model_name": "LayoutModel",
            "_view_count": null,
            "_view_module": "@jupyter-widgets/base",
            "_view_module_version": "1.2.0",
            "_view_name": "LayoutView",
            "align_content": null,
            "align_items": null,
            "align_self": null,
            "border": null,
            "bottom": null,
            "display": null,
            "flex": null,
            "flex_flow": null,
            "grid_area": null,
            "grid_auto_columns": null,
            "grid_auto_flow": null,
            "grid_auto_rows": null,
            "grid_column": null,
            "grid_gap": null,
            "grid_row": null,
            "grid_template_areas": null,
            "grid_template_columns": null,
            "grid_template_rows": null,
            "height": null,
            "justify_content": null,
            "justify_items": null,
            "left": null,
            "margin": null,
            "max_height": null,
            "max_width": null,
            "min_height": null,
            "min_width": null,
            "object_fit": null,
            "object_position": null,
            "order": null,
            "overflow": null,
            "overflow_x": null,
            "overflow_y": null,
            "padding": null,
            "right": null,
            "top": null,
            "visibility": null,
            "width": null
          }
        },
        "3f347e1a0763431095af94bdd06c66ef": {
          "model_module": "@jupyter-widgets/controls",
          "model_name": "DescriptionStyleModel",
          "model_module_version": "1.5.0",
          "state": {
            "_model_module": "@jupyter-widgets/controls",
            "_model_module_version": "1.5.0",
            "_model_name": "DescriptionStyleModel",
            "_view_count": null,
            "_view_module": "@jupyter-widgets/base",
            "_view_module_version": "1.2.0",
            "_view_name": "StyleView",
            "description_width": ""
          }
        },
        "47cbf9374d3f4c4e9f193227bee116a0": {
          "model_module": "@jupyter-widgets/controls",
          "model_name": "HBoxModel",
          "model_module_version": "1.5.0",
          "state": {
            "_dom_classes": [],
            "_model_module": "@jupyter-widgets/controls",
            "_model_module_version": "1.5.0",
            "_model_name": "HBoxModel",
            "_view_count": null,
            "_view_module": "@jupyter-widgets/controls",
            "_view_module_version": "1.5.0",
            "_view_name": "HBoxView",
            "box_style": "",
            "children": [
              "IPY_MODEL_a5d42711308c418db0073f11fcfa9044",
              "IPY_MODEL_0741ec13ae5d4b9c8202f83aaf1ccf12",
              "IPY_MODEL_63b01a9fe4c44afca5a85233b35b3406"
            ],
            "layout": "IPY_MODEL_1c43e484c9604592b49ccfd55163328f"
          }
        },
        "a5d42711308c418db0073f11fcfa9044": {
          "model_module": "@jupyter-widgets/controls",
          "model_name": "HTMLModel",
          "model_module_version": "1.5.0",
          "state": {
            "_dom_classes": [],
            "_model_module": "@jupyter-widgets/controls",
            "_model_module_version": "1.5.0",
            "_model_name": "HTMLModel",
            "_view_count": null,
            "_view_module": "@jupyter-widgets/controls",
            "_view_module_version": "1.5.0",
            "_view_name": "HTMLView",
            "description": "",
            "description_tooltip": null,
            "layout": "IPY_MODEL_1fccf163fffe46fbb680da89239fec28",
            "placeholder": "​",
            "style": "IPY_MODEL_2a99df7022684e8a81732b17528a582e",
            "value": "Map: 100%"
          }
        },
        "0741ec13ae5d4b9c8202f83aaf1ccf12": {
          "model_module": "@jupyter-widgets/controls",
          "model_name": "FloatProgressModel",
          "model_module_version": "1.5.0",
          "state": {
            "_dom_classes": [],
            "_model_module": "@jupyter-widgets/controls",
            "_model_module_version": "1.5.0",
            "_model_name": "FloatProgressModel",
            "_view_count": null,
            "_view_module": "@jupyter-widgets/controls",
            "_view_module_version": "1.5.0",
            "_view_name": "ProgressView",
            "bar_style": "success",
            "description": "",
            "description_tooltip": null,
            "layout": "IPY_MODEL_3cd06e70da6642ddaacc6f00ebe0d7be",
            "max": 22,
            "min": 0,
            "orientation": "horizontal",
            "style": "IPY_MODEL_794f378dbb154f36bc8c6a17d0536867",
            "value": 22
          }
        },
        "63b01a9fe4c44afca5a85233b35b3406": {
          "model_module": "@jupyter-widgets/controls",
          "model_name": "HTMLModel",
          "model_module_version": "1.5.0",
          "state": {
            "_dom_classes": [],
            "_model_module": "@jupyter-widgets/controls",
            "_model_module_version": "1.5.0",
            "_model_name": "HTMLModel",
            "_view_count": null,
            "_view_module": "@jupyter-widgets/controls",
            "_view_module_version": "1.5.0",
            "_view_name": "HTMLView",
            "description": "",
            "description_tooltip": null,
            "layout": "IPY_MODEL_b96c443fed2441fe9b6f44d18cea7f39",
            "placeholder": "​",
            "style": "IPY_MODEL_d74155c29b92438b80b58b249aa8c572",
            "value": " 22/22 [00:00&lt;00:00, 1276.77 examples/s]"
          }
        },
        "1c43e484c9604592b49ccfd55163328f": {
          "model_module": "@jupyter-widgets/base",
          "model_name": "LayoutModel",
          "model_module_version": "1.2.0",
          "state": {
            "_model_module": "@jupyter-widgets/base",
            "_model_module_version": "1.2.0",
            "_model_name": "LayoutModel",
            "_view_count": null,
            "_view_module": "@jupyter-widgets/base",
            "_view_module_version": "1.2.0",
            "_view_name": "LayoutView",
            "align_content": null,
            "align_items": null,
            "align_self": null,
            "border": null,
            "bottom": null,
            "display": null,
            "flex": null,
            "flex_flow": null,
            "grid_area": null,
            "grid_auto_columns": null,
            "grid_auto_flow": null,
            "grid_auto_rows": null,
            "grid_column": null,
            "grid_gap": null,
            "grid_row": null,
            "grid_template_areas": null,
            "grid_template_columns": null,
            "grid_template_rows": null,
            "height": null,
            "justify_content": null,
            "justify_items": null,
            "left": null,
            "margin": null,
            "max_height": null,
            "max_width": null,
            "min_height": null,
            "min_width": null,
            "object_fit": null,
            "object_position": null,
            "order": null,
            "overflow": null,
            "overflow_x": null,
            "overflow_y": null,
            "padding": null,
            "right": null,
            "top": null,
            "visibility": null,
            "width": null
          }
        },
        "1fccf163fffe46fbb680da89239fec28": {
          "model_module": "@jupyter-widgets/base",
          "model_name": "LayoutModel",
          "model_module_version": "1.2.0",
          "state": {
            "_model_module": "@jupyter-widgets/base",
            "_model_module_version": "1.2.0",
            "_model_name": "LayoutModel",
            "_view_count": null,
            "_view_module": "@jupyter-widgets/base",
            "_view_module_version": "1.2.0",
            "_view_name": "LayoutView",
            "align_content": null,
            "align_items": null,
            "align_self": null,
            "border": null,
            "bottom": null,
            "display": null,
            "flex": null,
            "flex_flow": null,
            "grid_area": null,
            "grid_auto_columns": null,
            "grid_auto_flow": null,
            "grid_auto_rows": null,
            "grid_column": null,
            "grid_gap": null,
            "grid_row": null,
            "grid_template_areas": null,
            "grid_template_columns": null,
            "grid_template_rows": null,
            "height": null,
            "justify_content": null,
            "justify_items": null,
            "left": null,
            "margin": null,
            "max_height": null,
            "max_width": null,
            "min_height": null,
            "min_width": null,
            "object_fit": null,
            "object_position": null,
            "order": null,
            "overflow": null,
            "overflow_x": null,
            "overflow_y": null,
            "padding": null,
            "right": null,
            "top": null,
            "visibility": null,
            "width": null
          }
        },
        "2a99df7022684e8a81732b17528a582e": {
          "model_module": "@jupyter-widgets/controls",
          "model_name": "DescriptionStyleModel",
          "model_module_version": "1.5.0",
          "state": {
            "_model_module": "@jupyter-widgets/controls",
            "_model_module_version": "1.5.0",
            "_model_name": "DescriptionStyleModel",
            "_view_count": null,
            "_view_module": "@jupyter-widgets/base",
            "_view_module_version": "1.2.0",
            "_view_name": "StyleView",
            "description_width": ""
          }
        },
        "3cd06e70da6642ddaacc6f00ebe0d7be": {
          "model_module": "@jupyter-widgets/base",
          "model_name": "LayoutModel",
          "model_module_version": "1.2.0",
          "state": {
            "_model_module": "@jupyter-widgets/base",
            "_model_module_version": "1.2.0",
            "_model_name": "LayoutModel",
            "_view_count": null,
            "_view_module": "@jupyter-widgets/base",
            "_view_module_version": "1.2.0",
            "_view_name": "LayoutView",
            "align_content": null,
            "align_items": null,
            "align_self": null,
            "border": null,
            "bottom": null,
            "display": null,
            "flex": null,
            "flex_flow": null,
            "grid_area": null,
            "grid_auto_columns": null,
            "grid_auto_flow": null,
            "grid_auto_rows": null,
            "grid_column": null,
            "grid_gap": null,
            "grid_row": null,
            "grid_template_areas": null,
            "grid_template_columns": null,
            "grid_template_rows": null,
            "height": null,
            "justify_content": null,
            "justify_items": null,
            "left": null,
            "margin": null,
            "max_height": null,
            "max_width": null,
            "min_height": null,
            "min_width": null,
            "object_fit": null,
            "object_position": null,
            "order": null,
            "overflow": null,
            "overflow_x": null,
            "overflow_y": null,
            "padding": null,
            "right": null,
            "top": null,
            "visibility": null,
            "width": null
          }
        },
        "794f378dbb154f36bc8c6a17d0536867": {
          "model_module": "@jupyter-widgets/controls",
          "model_name": "ProgressStyleModel",
          "model_module_version": "1.5.0",
          "state": {
            "_model_module": "@jupyter-widgets/controls",
            "_model_module_version": "1.5.0",
            "_model_name": "ProgressStyleModel",
            "_view_count": null,
            "_view_module": "@jupyter-widgets/base",
            "_view_module_version": "1.2.0",
            "_view_name": "StyleView",
            "bar_color": null,
            "description_width": ""
          }
        },
        "b96c443fed2441fe9b6f44d18cea7f39": {
          "model_module": "@jupyter-widgets/base",
          "model_name": "LayoutModel",
          "model_module_version": "1.2.0",
          "state": {
            "_model_module": "@jupyter-widgets/base",
            "_model_module_version": "1.2.0",
            "_model_name": "LayoutModel",
            "_view_count": null,
            "_view_module": "@jupyter-widgets/base",
            "_view_module_version": "1.2.0",
            "_view_name": "LayoutView",
            "align_content": null,
            "align_items": null,
            "align_self": null,
            "border": null,
            "bottom": null,
            "display": null,
            "flex": null,
            "flex_flow": null,
            "grid_area": null,
            "grid_auto_columns": null,
            "grid_auto_flow": null,
            "grid_auto_rows": null,
            "grid_column": null,
            "grid_gap": null,
            "grid_row": null,
            "grid_template_areas": null,
            "grid_template_columns": null,
            "grid_template_rows": null,
            "height": null,
            "justify_content": null,
            "justify_items": null,
            "left": null,
            "margin": null,
            "max_height": null,
            "max_width": null,
            "min_height": null,
            "min_width": null,
            "object_fit": null,
            "object_position": null,
            "order": null,
            "overflow": null,
            "overflow_x": null,
            "overflow_y": null,
            "padding": null,
            "right": null,
            "top": null,
            "visibility": null,
            "width": null
          }
        },
        "d74155c29b92438b80b58b249aa8c572": {
          "model_module": "@jupyter-widgets/controls",
          "model_name": "DescriptionStyleModel",
          "model_module_version": "1.5.0",
          "state": {
            "_model_module": "@jupyter-widgets/controls",
            "_model_module_version": "1.5.0",
            "_model_name": "DescriptionStyleModel",
            "_view_count": null,
            "_view_module": "@jupyter-widgets/base",
            "_view_module_version": "1.2.0",
            "_view_name": "StyleView",
            "description_width": ""
          }
        },
        "d2c0cb501c2545f28e2059e66a94fa90": {
          "model_module": "@jupyter-widgets/controls",
          "model_name": "HBoxModel",
          "model_module_version": "1.5.0",
          "state": {
            "_dom_classes": [],
            "_model_module": "@jupyter-widgets/controls",
            "_model_module_version": "1.5.0",
            "_model_name": "HBoxModel",
            "_view_count": null,
            "_view_module": "@jupyter-widgets/controls",
            "_view_module_version": "1.5.0",
            "_view_name": "HBoxView",
            "box_style": "",
            "children": [
              "IPY_MODEL_eda9e50af4df45379911df7ecb664e91",
              "IPY_MODEL_d373959ee08141cd92a3710bf4bfcfa0",
              "IPY_MODEL_16ebc3df5cd842149536ca4a332129fd"
            ],
            "layout": "IPY_MODEL_2f3bcb578ec3435897e45f005e8fb74b"
          }
        },
        "eda9e50af4df45379911df7ecb664e91": {
          "model_module": "@jupyter-widgets/controls",
          "model_name": "HTMLModel",
          "model_module_version": "1.5.0",
          "state": {
            "_dom_classes": [],
            "_model_module": "@jupyter-widgets/controls",
            "_model_module_version": "1.5.0",
            "_model_name": "HTMLModel",
            "_view_count": null,
            "_view_module": "@jupyter-widgets/controls",
            "_view_module_version": "1.5.0",
            "_view_name": "HTMLView",
            "description": "",
            "description_tooltip": null,
            "layout": "IPY_MODEL_f42e95b25da843d99f6bd05f913e5bea",
            "placeholder": "​",
            "style": "IPY_MODEL_4e81c1dadbf046d1a99fc772dfd3a697",
            "value": "Map: 100%"
          }
        },
        "d373959ee08141cd92a3710bf4bfcfa0": {
          "model_module": "@jupyter-widgets/controls",
          "model_name": "FloatProgressModel",
          "model_module_version": "1.5.0",
          "state": {
            "_dom_classes": [],
            "_model_module": "@jupyter-widgets/controls",
            "_model_module_version": "1.5.0",
            "_model_name": "FloatProgressModel",
            "_view_count": null,
            "_view_module": "@jupyter-widgets/controls",
            "_view_module_version": "1.5.0",
            "_view_name": "ProgressView",
            "bar_style": "success",
            "description": "",
            "description_tooltip": null,
            "layout": "IPY_MODEL_ddcf4b814b4e450b8d20b3b0839c07dc",
            "max": 126,
            "min": 0,
            "orientation": "horizontal",
            "style": "IPY_MODEL_04e3f089b8054a23929087e14f547a9d",
            "value": 126
          }
        },
        "16ebc3df5cd842149536ca4a332129fd": {
          "model_module": "@jupyter-widgets/controls",
          "model_name": "HTMLModel",
          "model_module_version": "1.5.0",
          "state": {
            "_dom_classes": [],
            "_model_module": "@jupyter-widgets/controls",
            "_model_module_version": "1.5.0",
            "_model_name": "HTMLModel",
            "_view_count": null,
            "_view_module": "@jupyter-widgets/controls",
            "_view_module_version": "1.5.0",
            "_view_name": "HTMLView",
            "description": "",
            "description_tooltip": null,
            "layout": "IPY_MODEL_bd6a8efe524d4210a73c75f8e99d94b1",
            "placeholder": "​",
            "style": "IPY_MODEL_b2e1ee50f5264c28a08bac2d55607e96",
            "value": " 126/126 [00:00&lt;00:00, 3868.32 examples/s]"
          }
        },
        "2f3bcb578ec3435897e45f005e8fb74b": {
          "model_module": "@jupyter-widgets/base",
          "model_name": "LayoutModel",
          "model_module_version": "1.2.0",
          "state": {
            "_model_module": "@jupyter-widgets/base",
            "_model_module_version": "1.2.0",
            "_model_name": "LayoutModel",
            "_view_count": null,
            "_view_module": "@jupyter-widgets/base",
            "_view_module_version": "1.2.0",
            "_view_name": "LayoutView",
            "align_content": null,
            "align_items": null,
            "align_self": null,
            "border": null,
            "bottom": null,
            "display": null,
            "flex": null,
            "flex_flow": null,
            "grid_area": null,
            "grid_auto_columns": null,
            "grid_auto_flow": null,
            "grid_auto_rows": null,
            "grid_column": null,
            "grid_gap": null,
            "grid_row": null,
            "grid_template_areas": null,
            "grid_template_columns": null,
            "grid_template_rows": null,
            "height": null,
            "justify_content": null,
            "justify_items": null,
            "left": null,
            "margin": null,
            "max_height": null,
            "max_width": null,
            "min_height": null,
            "min_width": null,
            "object_fit": null,
            "object_position": null,
            "order": null,
            "overflow": null,
            "overflow_x": null,
            "overflow_y": null,
            "padding": null,
            "right": null,
            "top": null,
            "visibility": null,
            "width": null
          }
        },
        "f42e95b25da843d99f6bd05f913e5bea": {
          "model_module": "@jupyter-widgets/base",
          "model_name": "LayoutModel",
          "model_module_version": "1.2.0",
          "state": {
            "_model_module": "@jupyter-widgets/base",
            "_model_module_version": "1.2.0",
            "_model_name": "LayoutModel",
            "_view_count": null,
            "_view_module": "@jupyter-widgets/base",
            "_view_module_version": "1.2.0",
            "_view_name": "LayoutView",
            "align_content": null,
            "align_items": null,
            "align_self": null,
            "border": null,
            "bottom": null,
            "display": null,
            "flex": null,
            "flex_flow": null,
            "grid_area": null,
            "grid_auto_columns": null,
            "grid_auto_flow": null,
            "grid_auto_rows": null,
            "grid_column": null,
            "grid_gap": null,
            "grid_row": null,
            "grid_template_areas": null,
            "grid_template_columns": null,
            "grid_template_rows": null,
            "height": null,
            "justify_content": null,
            "justify_items": null,
            "left": null,
            "margin": null,
            "max_height": null,
            "max_width": null,
            "min_height": null,
            "min_width": null,
            "object_fit": null,
            "object_position": null,
            "order": null,
            "overflow": null,
            "overflow_x": null,
            "overflow_y": null,
            "padding": null,
            "right": null,
            "top": null,
            "visibility": null,
            "width": null
          }
        },
        "4e81c1dadbf046d1a99fc772dfd3a697": {
          "model_module": "@jupyter-widgets/controls",
          "model_name": "DescriptionStyleModel",
          "model_module_version": "1.5.0",
          "state": {
            "_model_module": "@jupyter-widgets/controls",
            "_model_module_version": "1.5.0",
            "_model_name": "DescriptionStyleModel",
            "_view_count": null,
            "_view_module": "@jupyter-widgets/base",
            "_view_module_version": "1.2.0",
            "_view_name": "StyleView",
            "description_width": ""
          }
        },
        "ddcf4b814b4e450b8d20b3b0839c07dc": {
          "model_module": "@jupyter-widgets/base",
          "model_name": "LayoutModel",
          "model_module_version": "1.2.0",
          "state": {
            "_model_module": "@jupyter-widgets/base",
            "_model_module_version": "1.2.0",
            "_model_name": "LayoutModel",
            "_view_count": null,
            "_view_module": "@jupyter-widgets/base",
            "_view_module_version": "1.2.0",
            "_view_name": "LayoutView",
            "align_content": null,
            "align_items": null,
            "align_self": null,
            "border": null,
            "bottom": null,
            "display": null,
            "flex": null,
            "flex_flow": null,
            "grid_area": null,
            "grid_auto_columns": null,
            "grid_auto_flow": null,
            "grid_auto_rows": null,
            "grid_column": null,
            "grid_gap": null,
            "grid_row": null,
            "grid_template_areas": null,
            "grid_template_columns": null,
            "grid_template_rows": null,
            "height": null,
            "justify_content": null,
            "justify_items": null,
            "left": null,
            "margin": null,
            "max_height": null,
            "max_width": null,
            "min_height": null,
            "min_width": null,
            "object_fit": null,
            "object_position": null,
            "order": null,
            "overflow": null,
            "overflow_x": null,
            "overflow_y": null,
            "padding": null,
            "right": null,
            "top": null,
            "visibility": null,
            "width": null
          }
        },
        "04e3f089b8054a23929087e14f547a9d": {
          "model_module": "@jupyter-widgets/controls",
          "model_name": "ProgressStyleModel",
          "model_module_version": "1.5.0",
          "state": {
            "_model_module": "@jupyter-widgets/controls",
            "_model_module_version": "1.5.0",
            "_model_name": "ProgressStyleModel",
            "_view_count": null,
            "_view_module": "@jupyter-widgets/base",
            "_view_module_version": "1.2.0",
            "_view_name": "StyleView",
            "bar_color": null,
            "description_width": ""
          }
        },
        "bd6a8efe524d4210a73c75f8e99d94b1": {
          "model_module": "@jupyter-widgets/base",
          "model_name": "LayoutModel",
          "model_module_version": "1.2.0",
          "state": {
            "_model_module": "@jupyter-widgets/base",
            "_model_module_version": "1.2.0",
            "_model_name": "LayoutModel",
            "_view_count": null,
            "_view_module": "@jupyter-widgets/base",
            "_view_module_version": "1.2.0",
            "_view_name": "LayoutView",
            "align_content": null,
            "align_items": null,
            "align_self": null,
            "border": null,
            "bottom": null,
            "display": null,
            "flex": null,
            "flex_flow": null,
            "grid_area": null,
            "grid_auto_columns": null,
            "grid_auto_flow": null,
            "grid_auto_rows": null,
            "grid_column": null,
            "grid_gap": null,
            "grid_row": null,
            "grid_template_areas": null,
            "grid_template_columns": null,
            "grid_template_rows": null,
            "height": null,
            "justify_content": null,
            "justify_items": null,
            "left": null,
            "margin": null,
            "max_height": null,
            "max_width": null,
            "min_height": null,
            "min_width": null,
            "object_fit": null,
            "object_position": null,
            "order": null,
            "overflow": null,
            "overflow_x": null,
            "overflow_y": null,
            "padding": null,
            "right": null,
            "top": null,
            "visibility": null,
            "width": null
          }
        },
        "b2e1ee50f5264c28a08bac2d55607e96": {
          "model_module": "@jupyter-widgets/controls",
          "model_name": "DescriptionStyleModel",
          "model_module_version": "1.5.0",
          "state": {
            "_model_module": "@jupyter-widgets/controls",
            "_model_module_version": "1.5.0",
            "_model_name": "DescriptionStyleModel",
            "_view_count": null,
            "_view_module": "@jupyter-widgets/base",
            "_view_module_version": "1.2.0",
            "_view_name": "StyleView",
            "description_width": ""
          }
        },
        "4a7c38ee1f6c4bd987f0678558361875": {
          "model_module": "@jupyter-widgets/controls",
          "model_name": "HBoxModel",
          "model_module_version": "1.5.0",
          "state": {
            "_dom_classes": [],
            "_model_module": "@jupyter-widgets/controls",
            "_model_module_version": "1.5.0",
            "_model_name": "HBoxModel",
            "_view_count": null,
            "_view_module": "@jupyter-widgets/controls",
            "_view_module_version": "1.5.0",
            "_view_name": "HBoxView",
            "box_style": "",
            "children": [
              "IPY_MODEL_a8ae8d8981944942ad8bb73a34f65a62",
              "IPY_MODEL_bc84c640f45446e7b3d80d3f95d4b01b",
              "IPY_MODEL_64c87f7111974b57a926babcf72c75b3"
            ],
            "layout": "IPY_MODEL_a7cbbd4121d04235b59d0ac6a29d854a"
          }
        },
        "a8ae8d8981944942ad8bb73a34f65a62": {
          "model_module": "@jupyter-widgets/controls",
          "model_name": "HTMLModel",
          "model_module_version": "1.5.0",
          "state": {
            "_dom_classes": [],
            "_model_module": "@jupyter-widgets/controls",
            "_model_module_version": "1.5.0",
            "_model_name": "HTMLModel",
            "_view_count": null,
            "_view_module": "@jupyter-widgets/controls",
            "_view_module_version": "1.5.0",
            "_view_name": "HTMLView",
            "description": "",
            "description_tooltip": null,
            "layout": "IPY_MODEL_b137201a551d471baeb2f14f301fda7d",
            "placeholder": "​",
            "style": "IPY_MODEL_3f2adce770f34627b11b9f5cb246806f",
            "value": "Map: 100%"
          }
        },
        "bc84c640f45446e7b3d80d3f95d4b01b": {
          "model_module": "@jupyter-widgets/controls",
          "model_name": "FloatProgressModel",
          "model_module_version": "1.5.0",
          "state": {
            "_dom_classes": [],
            "_model_module": "@jupyter-widgets/controls",
            "_model_module_version": "1.5.0",
            "_model_name": "FloatProgressModel",
            "_view_count": null,
            "_view_module": "@jupyter-widgets/controls",
            "_view_module_version": "1.5.0",
            "_view_name": "ProgressView",
            "bar_style": "success",
            "description": "",
            "description_tooltip": null,
            "layout": "IPY_MODEL_b2ee46411ceb4a5db5436e1a0f8b66a5",
            "max": 292,
            "min": 0,
            "orientation": "horizontal",
            "style": "IPY_MODEL_299d4bcc6f0b49a2bb339b7b7e0c43f2",
            "value": 292
          }
        },
        "64c87f7111974b57a926babcf72c75b3": {
          "model_module": "@jupyter-widgets/controls",
          "model_name": "HTMLModel",
          "model_module_version": "1.5.0",
          "state": {
            "_dom_classes": [],
            "_model_module": "@jupyter-widgets/controls",
            "_model_module_version": "1.5.0",
            "_model_name": "HTMLModel",
            "_view_count": null,
            "_view_module": "@jupyter-widgets/controls",
            "_view_module_version": "1.5.0",
            "_view_name": "HTMLView",
            "description": "",
            "description_tooltip": null,
            "layout": "IPY_MODEL_f7aaac8d5e584040b3c3edc3dbab8d86",
            "placeholder": "​",
            "style": "IPY_MODEL_e39f6683294b4cbb83c566dd9c0bf7e6",
            "value": " 292/292 [00:00&lt;00:00, 5499.12 examples/s]"
          }
        },
        "a7cbbd4121d04235b59d0ac6a29d854a": {
          "model_module": "@jupyter-widgets/base",
          "model_name": "LayoutModel",
          "model_module_version": "1.2.0",
          "state": {
            "_model_module": "@jupyter-widgets/base",
            "_model_module_version": "1.2.0",
            "_model_name": "LayoutModel",
            "_view_count": null,
            "_view_module": "@jupyter-widgets/base",
            "_view_module_version": "1.2.0",
            "_view_name": "LayoutView",
            "align_content": null,
            "align_items": null,
            "align_self": null,
            "border": null,
            "bottom": null,
            "display": null,
            "flex": null,
            "flex_flow": null,
            "grid_area": null,
            "grid_auto_columns": null,
            "grid_auto_flow": null,
            "grid_auto_rows": null,
            "grid_column": null,
            "grid_gap": null,
            "grid_row": null,
            "grid_template_areas": null,
            "grid_template_columns": null,
            "grid_template_rows": null,
            "height": null,
            "justify_content": null,
            "justify_items": null,
            "left": null,
            "margin": null,
            "max_height": null,
            "max_width": null,
            "min_height": null,
            "min_width": null,
            "object_fit": null,
            "object_position": null,
            "order": null,
            "overflow": null,
            "overflow_x": null,
            "overflow_y": null,
            "padding": null,
            "right": null,
            "top": null,
            "visibility": null,
            "width": null
          }
        },
        "b137201a551d471baeb2f14f301fda7d": {
          "model_module": "@jupyter-widgets/base",
          "model_name": "LayoutModel",
          "model_module_version": "1.2.0",
          "state": {
            "_model_module": "@jupyter-widgets/base",
            "_model_module_version": "1.2.0",
            "_model_name": "LayoutModel",
            "_view_count": null,
            "_view_module": "@jupyter-widgets/base",
            "_view_module_version": "1.2.0",
            "_view_name": "LayoutView",
            "align_content": null,
            "align_items": null,
            "align_self": null,
            "border": null,
            "bottom": null,
            "display": null,
            "flex": null,
            "flex_flow": null,
            "grid_area": null,
            "grid_auto_columns": null,
            "grid_auto_flow": null,
            "grid_auto_rows": null,
            "grid_column": null,
            "grid_gap": null,
            "grid_row": null,
            "grid_template_areas": null,
            "grid_template_columns": null,
            "grid_template_rows": null,
            "height": null,
            "justify_content": null,
            "justify_items": null,
            "left": null,
            "margin": null,
            "max_height": null,
            "max_width": null,
            "min_height": null,
            "min_width": null,
            "object_fit": null,
            "object_position": null,
            "order": null,
            "overflow": null,
            "overflow_x": null,
            "overflow_y": null,
            "padding": null,
            "right": null,
            "top": null,
            "visibility": null,
            "width": null
          }
        },
        "3f2adce770f34627b11b9f5cb246806f": {
          "model_module": "@jupyter-widgets/controls",
          "model_name": "DescriptionStyleModel",
          "model_module_version": "1.5.0",
          "state": {
            "_model_module": "@jupyter-widgets/controls",
            "_model_module_version": "1.5.0",
            "_model_name": "DescriptionStyleModel",
            "_view_count": null,
            "_view_module": "@jupyter-widgets/base",
            "_view_module_version": "1.2.0",
            "_view_name": "StyleView",
            "description_width": ""
          }
        },
        "b2ee46411ceb4a5db5436e1a0f8b66a5": {
          "model_module": "@jupyter-widgets/base",
          "model_name": "LayoutModel",
          "model_module_version": "1.2.0",
          "state": {
            "_model_module": "@jupyter-widgets/base",
            "_model_module_version": "1.2.0",
            "_model_name": "LayoutModel",
            "_view_count": null,
            "_view_module": "@jupyter-widgets/base",
            "_view_module_version": "1.2.0",
            "_view_name": "LayoutView",
            "align_content": null,
            "align_items": null,
            "align_self": null,
            "border": null,
            "bottom": null,
            "display": null,
            "flex": null,
            "flex_flow": null,
            "grid_area": null,
            "grid_auto_columns": null,
            "grid_auto_flow": null,
            "grid_auto_rows": null,
            "grid_column": null,
            "grid_gap": null,
            "grid_row": null,
            "grid_template_areas": null,
            "grid_template_columns": null,
            "grid_template_rows": null,
            "height": null,
            "justify_content": null,
            "justify_items": null,
            "left": null,
            "margin": null,
            "max_height": null,
            "max_width": null,
            "min_height": null,
            "min_width": null,
            "object_fit": null,
            "object_position": null,
            "order": null,
            "overflow": null,
            "overflow_x": null,
            "overflow_y": null,
            "padding": null,
            "right": null,
            "top": null,
            "visibility": null,
            "width": null
          }
        },
        "299d4bcc6f0b49a2bb339b7b7e0c43f2": {
          "model_module": "@jupyter-widgets/controls",
          "model_name": "ProgressStyleModel",
          "model_module_version": "1.5.0",
          "state": {
            "_model_module": "@jupyter-widgets/controls",
            "_model_module_version": "1.5.0",
            "_model_name": "ProgressStyleModel",
            "_view_count": null,
            "_view_module": "@jupyter-widgets/base",
            "_view_module_version": "1.2.0",
            "_view_name": "StyleView",
            "bar_color": null,
            "description_width": ""
          }
        },
        "f7aaac8d5e584040b3c3edc3dbab8d86": {
          "model_module": "@jupyter-widgets/base",
          "model_name": "LayoutModel",
          "model_module_version": "1.2.0",
          "state": {
            "_model_module": "@jupyter-widgets/base",
            "_model_module_version": "1.2.0",
            "_model_name": "LayoutModel",
            "_view_count": null,
            "_view_module": "@jupyter-widgets/base",
            "_view_module_version": "1.2.0",
            "_view_name": "LayoutView",
            "align_content": null,
            "align_items": null,
            "align_self": null,
            "border": null,
            "bottom": null,
            "display": null,
            "flex": null,
            "flex_flow": null,
            "grid_area": null,
            "grid_auto_columns": null,
            "grid_auto_flow": null,
            "grid_auto_rows": null,
            "grid_column": null,
            "grid_gap": null,
            "grid_row": null,
            "grid_template_areas": null,
            "grid_template_columns": null,
            "grid_template_rows": null,
            "height": null,
            "justify_content": null,
            "justify_items": null,
            "left": null,
            "margin": null,
            "max_height": null,
            "max_width": null,
            "min_height": null,
            "min_width": null,
            "object_fit": null,
            "object_position": null,
            "order": null,
            "overflow": null,
            "overflow_x": null,
            "overflow_y": null,
            "padding": null,
            "right": null,
            "top": null,
            "visibility": null,
            "width": null
          }
        },
        "e39f6683294b4cbb83c566dd9c0bf7e6": {
          "model_module": "@jupyter-widgets/controls",
          "model_name": "DescriptionStyleModel",
          "model_module_version": "1.5.0",
          "state": {
            "_model_module": "@jupyter-widgets/controls",
            "_model_module_version": "1.5.0",
            "_model_name": "DescriptionStyleModel",
            "_view_count": null,
            "_view_module": "@jupyter-widgets/base",
            "_view_module_version": "1.2.0",
            "_view_name": "StyleView",
            "description_width": ""
          }
        },
        "4922a67d7403472897fa8bcc2b14a583": {
          "model_module": "@jupyter-widgets/controls",
          "model_name": "HBoxModel",
          "model_module_version": "1.5.0",
          "state": {
            "_dom_classes": [],
            "_model_module": "@jupyter-widgets/controls",
            "_model_module_version": "1.5.0",
            "_model_name": "HBoxModel",
            "_view_count": null,
            "_view_module": "@jupyter-widgets/controls",
            "_view_module_version": "1.5.0",
            "_view_name": "HBoxView",
            "box_style": "",
            "children": [
              "IPY_MODEL_8531f4a9d947479bb6ddc1b55072ed48",
              "IPY_MODEL_2626e9a8f8ab4b58b4b88dd49b471cd3",
              "IPY_MODEL_b8fe85e6211e4d93adfcd29cbffce0b9"
            ],
            "layout": "IPY_MODEL_9fd58ad948e14e19b79b37e507368f79"
          }
        },
        "8531f4a9d947479bb6ddc1b55072ed48": {
          "model_module": "@jupyter-widgets/controls",
          "model_name": "HTMLModel",
          "model_module_version": "1.5.0",
          "state": {
            "_dom_classes": [],
            "_model_module": "@jupyter-widgets/controls",
            "_model_module_version": "1.5.0",
            "_model_name": "HTMLModel",
            "_view_count": null,
            "_view_module": "@jupyter-widgets/controls",
            "_view_module_version": "1.5.0",
            "_view_name": "HTMLView",
            "description": "",
            "description_tooltip": null,
            "layout": "IPY_MODEL_0ce513cd8c1c49e69d649b0002e8a659",
            "placeholder": "​",
            "style": "IPY_MODEL_aa30abef2e674440a8868f33e44712ae",
            "value": "Map: 100%"
          }
        },
        "2626e9a8f8ab4b58b4b88dd49b471cd3": {
          "model_module": "@jupyter-widgets/controls",
          "model_name": "FloatProgressModel",
          "model_module_version": "1.5.0",
          "state": {
            "_dom_classes": [],
            "_model_module": "@jupyter-widgets/controls",
            "_model_module_version": "1.5.0",
            "_model_name": "FloatProgressModel",
            "_view_count": null,
            "_view_module": "@jupyter-widgets/controls",
            "_view_module_version": "1.5.0",
            "_view_name": "ProgressView",
            "bar_style": "success",
            "description": "",
            "description_tooltip": null,
            "layout": "IPY_MODEL_bf0fb570e77242d599be700ddc5986f1",
            "max": 22,
            "min": 0,
            "orientation": "horizontal",
            "style": "IPY_MODEL_14eef7b667a94826b2b74133b7e534ae",
            "value": 22
          }
        },
        "b8fe85e6211e4d93adfcd29cbffce0b9": {
          "model_module": "@jupyter-widgets/controls",
          "model_name": "HTMLModel",
          "model_module_version": "1.5.0",
          "state": {
            "_dom_classes": [],
            "_model_module": "@jupyter-widgets/controls",
            "_model_module_version": "1.5.0",
            "_model_name": "HTMLModel",
            "_view_count": null,
            "_view_module": "@jupyter-widgets/controls",
            "_view_module_version": "1.5.0",
            "_view_name": "HTMLView",
            "description": "",
            "description_tooltip": null,
            "layout": "IPY_MODEL_e085b28298bf49e38be0afa69ffb4a5d",
            "placeholder": "​",
            "style": "IPY_MODEL_75cd758ee1074ccd91c51e946bae0a36",
            "value": " 22/22 [00:00&lt;00:00, 1156.89 examples/s]"
          }
        },
        "9fd58ad948e14e19b79b37e507368f79": {
          "model_module": "@jupyter-widgets/base",
          "model_name": "LayoutModel",
          "model_module_version": "1.2.0",
          "state": {
            "_model_module": "@jupyter-widgets/base",
            "_model_module_version": "1.2.0",
            "_model_name": "LayoutModel",
            "_view_count": null,
            "_view_module": "@jupyter-widgets/base",
            "_view_module_version": "1.2.0",
            "_view_name": "LayoutView",
            "align_content": null,
            "align_items": null,
            "align_self": null,
            "border": null,
            "bottom": null,
            "display": null,
            "flex": null,
            "flex_flow": null,
            "grid_area": null,
            "grid_auto_columns": null,
            "grid_auto_flow": null,
            "grid_auto_rows": null,
            "grid_column": null,
            "grid_gap": null,
            "grid_row": null,
            "grid_template_areas": null,
            "grid_template_columns": null,
            "grid_template_rows": null,
            "height": null,
            "justify_content": null,
            "justify_items": null,
            "left": null,
            "margin": null,
            "max_height": null,
            "max_width": null,
            "min_height": null,
            "min_width": null,
            "object_fit": null,
            "object_position": null,
            "order": null,
            "overflow": null,
            "overflow_x": null,
            "overflow_y": null,
            "padding": null,
            "right": null,
            "top": null,
            "visibility": null,
            "width": null
          }
        },
        "0ce513cd8c1c49e69d649b0002e8a659": {
          "model_module": "@jupyter-widgets/base",
          "model_name": "LayoutModel",
          "model_module_version": "1.2.0",
          "state": {
            "_model_module": "@jupyter-widgets/base",
            "_model_module_version": "1.2.0",
            "_model_name": "LayoutModel",
            "_view_count": null,
            "_view_module": "@jupyter-widgets/base",
            "_view_module_version": "1.2.0",
            "_view_name": "LayoutView",
            "align_content": null,
            "align_items": null,
            "align_self": null,
            "border": null,
            "bottom": null,
            "display": null,
            "flex": null,
            "flex_flow": null,
            "grid_area": null,
            "grid_auto_columns": null,
            "grid_auto_flow": null,
            "grid_auto_rows": null,
            "grid_column": null,
            "grid_gap": null,
            "grid_row": null,
            "grid_template_areas": null,
            "grid_template_columns": null,
            "grid_template_rows": null,
            "height": null,
            "justify_content": null,
            "justify_items": null,
            "left": null,
            "margin": null,
            "max_height": null,
            "max_width": null,
            "min_height": null,
            "min_width": null,
            "object_fit": null,
            "object_position": null,
            "order": null,
            "overflow": null,
            "overflow_x": null,
            "overflow_y": null,
            "padding": null,
            "right": null,
            "top": null,
            "visibility": null,
            "width": null
          }
        },
        "aa30abef2e674440a8868f33e44712ae": {
          "model_module": "@jupyter-widgets/controls",
          "model_name": "DescriptionStyleModel",
          "model_module_version": "1.5.0",
          "state": {
            "_model_module": "@jupyter-widgets/controls",
            "_model_module_version": "1.5.0",
            "_model_name": "DescriptionStyleModel",
            "_view_count": null,
            "_view_module": "@jupyter-widgets/base",
            "_view_module_version": "1.2.0",
            "_view_name": "StyleView",
            "description_width": ""
          }
        },
        "bf0fb570e77242d599be700ddc5986f1": {
          "model_module": "@jupyter-widgets/base",
          "model_name": "LayoutModel",
          "model_module_version": "1.2.0",
          "state": {
            "_model_module": "@jupyter-widgets/base",
            "_model_module_version": "1.2.0",
            "_model_name": "LayoutModel",
            "_view_count": null,
            "_view_module": "@jupyter-widgets/base",
            "_view_module_version": "1.2.0",
            "_view_name": "LayoutView",
            "align_content": null,
            "align_items": null,
            "align_self": null,
            "border": null,
            "bottom": null,
            "display": null,
            "flex": null,
            "flex_flow": null,
            "grid_area": null,
            "grid_auto_columns": null,
            "grid_auto_flow": null,
            "grid_auto_rows": null,
            "grid_column": null,
            "grid_gap": null,
            "grid_row": null,
            "grid_template_areas": null,
            "grid_template_columns": null,
            "grid_template_rows": null,
            "height": null,
            "justify_content": null,
            "justify_items": null,
            "left": null,
            "margin": null,
            "max_height": null,
            "max_width": null,
            "min_height": null,
            "min_width": null,
            "object_fit": null,
            "object_position": null,
            "order": null,
            "overflow": null,
            "overflow_x": null,
            "overflow_y": null,
            "padding": null,
            "right": null,
            "top": null,
            "visibility": null,
            "width": null
          }
        },
        "14eef7b667a94826b2b74133b7e534ae": {
          "model_module": "@jupyter-widgets/controls",
          "model_name": "ProgressStyleModel",
          "model_module_version": "1.5.0",
          "state": {
            "_model_module": "@jupyter-widgets/controls",
            "_model_module_version": "1.5.0",
            "_model_name": "ProgressStyleModel",
            "_view_count": null,
            "_view_module": "@jupyter-widgets/base",
            "_view_module_version": "1.2.0",
            "_view_name": "StyleView",
            "bar_color": null,
            "description_width": ""
          }
        },
        "e085b28298bf49e38be0afa69ffb4a5d": {
          "model_module": "@jupyter-widgets/base",
          "model_name": "LayoutModel",
          "model_module_version": "1.2.0",
          "state": {
            "_model_module": "@jupyter-widgets/base",
            "_model_module_version": "1.2.0",
            "_model_name": "LayoutModel",
            "_view_count": null,
            "_view_module": "@jupyter-widgets/base",
            "_view_module_version": "1.2.0",
            "_view_name": "LayoutView",
            "align_content": null,
            "align_items": null,
            "align_self": null,
            "border": null,
            "bottom": null,
            "display": null,
            "flex": null,
            "flex_flow": null,
            "grid_area": null,
            "grid_auto_columns": null,
            "grid_auto_flow": null,
            "grid_auto_rows": null,
            "grid_column": null,
            "grid_gap": null,
            "grid_row": null,
            "grid_template_areas": null,
            "grid_template_columns": null,
            "grid_template_rows": null,
            "height": null,
            "justify_content": null,
            "justify_items": null,
            "left": null,
            "margin": null,
            "max_height": null,
            "max_width": null,
            "min_height": null,
            "min_width": null,
            "object_fit": null,
            "object_position": null,
            "order": null,
            "overflow": null,
            "overflow_x": null,
            "overflow_y": null,
            "padding": null,
            "right": null,
            "top": null,
            "visibility": null,
            "width": null
          }
        },
        "75cd758ee1074ccd91c51e946bae0a36": {
          "model_module": "@jupyter-widgets/controls",
          "model_name": "DescriptionStyleModel",
          "model_module_version": "1.5.0",
          "state": {
            "_model_module": "@jupyter-widgets/controls",
            "_model_module_version": "1.5.0",
            "_model_name": "DescriptionStyleModel",
            "_view_count": null,
            "_view_module": "@jupyter-widgets/base",
            "_view_module_version": "1.2.0",
            "_view_name": "StyleView",
            "description_width": ""
          }
        },
        "213457fe28524d0d892af0527abc8111": {
          "model_module": "@jupyter-widgets/controls",
          "model_name": "HBoxModel",
          "model_module_version": "1.5.0",
          "state": {
            "_dom_classes": [],
            "_model_module": "@jupyter-widgets/controls",
            "_model_module_version": "1.5.0",
            "_model_name": "HBoxModel",
            "_view_count": null,
            "_view_module": "@jupyter-widgets/controls",
            "_view_module_version": "1.5.0",
            "_view_name": "HBoxView",
            "box_style": "",
            "children": [
              "IPY_MODEL_347f65bccb2748d79c941d232836a87b",
              "IPY_MODEL_1b71aec9d7f842d997ca62c00c23ddf3",
              "IPY_MODEL_7a51475ed6a64729a44998e123bbe132"
            ],
            "layout": "IPY_MODEL_022ece6d30744fffa7ebaa59e27162ba"
          }
        },
        "347f65bccb2748d79c941d232836a87b": {
          "model_module": "@jupyter-widgets/controls",
          "model_name": "HTMLModel",
          "model_module_version": "1.5.0",
          "state": {
            "_dom_classes": [],
            "_model_module": "@jupyter-widgets/controls",
            "_model_module_version": "1.5.0",
            "_model_name": "HTMLModel",
            "_view_count": null,
            "_view_module": "@jupyter-widgets/controls",
            "_view_module_version": "1.5.0",
            "_view_name": "HTMLView",
            "description": "",
            "description_tooltip": null,
            "layout": "IPY_MODEL_af5012a76242474c9f0e137522723d86",
            "placeholder": "​",
            "style": "IPY_MODEL_e14822718a5b4dccad639db879b889a8",
            "value": "Map: 100%"
          }
        },
        "1b71aec9d7f842d997ca62c00c23ddf3": {
          "model_module": "@jupyter-widgets/controls",
          "model_name": "FloatProgressModel",
          "model_module_version": "1.5.0",
          "state": {
            "_dom_classes": [],
            "_model_module": "@jupyter-widgets/controls",
            "_model_module_version": "1.5.0",
            "_model_name": "FloatProgressModel",
            "_view_count": null,
            "_view_module": "@jupyter-widgets/controls",
            "_view_module_version": "1.5.0",
            "_view_name": "ProgressView",
            "bar_style": "success",
            "description": "",
            "description_tooltip": null,
            "layout": "IPY_MODEL_76d933cf638d4dbabacaa14603fbddcc",
            "max": 126,
            "min": 0,
            "orientation": "horizontal",
            "style": "IPY_MODEL_457a1c423a334f67a7666e27f781cf22",
            "value": 126
          }
        },
        "7a51475ed6a64729a44998e123bbe132": {
          "model_module": "@jupyter-widgets/controls",
          "model_name": "HTMLModel",
          "model_module_version": "1.5.0",
          "state": {
            "_dom_classes": [],
            "_model_module": "@jupyter-widgets/controls",
            "_model_module_version": "1.5.0",
            "_model_name": "HTMLModel",
            "_view_count": null,
            "_view_module": "@jupyter-widgets/controls",
            "_view_module_version": "1.5.0",
            "_view_name": "HTMLView",
            "description": "",
            "description_tooltip": null,
            "layout": "IPY_MODEL_b63330ef824f4923869b2b94af35767c",
            "placeholder": "​",
            "style": "IPY_MODEL_9433a2218c9a4da88be4f9bd1baf95e6",
            "value": " 126/126 [00:00&lt;00:00, 4333.39 examples/s]"
          }
        },
        "022ece6d30744fffa7ebaa59e27162ba": {
          "model_module": "@jupyter-widgets/base",
          "model_name": "LayoutModel",
          "model_module_version": "1.2.0",
          "state": {
            "_model_module": "@jupyter-widgets/base",
            "_model_module_version": "1.2.0",
            "_model_name": "LayoutModel",
            "_view_count": null,
            "_view_module": "@jupyter-widgets/base",
            "_view_module_version": "1.2.0",
            "_view_name": "LayoutView",
            "align_content": null,
            "align_items": null,
            "align_self": null,
            "border": null,
            "bottom": null,
            "display": null,
            "flex": null,
            "flex_flow": null,
            "grid_area": null,
            "grid_auto_columns": null,
            "grid_auto_flow": null,
            "grid_auto_rows": null,
            "grid_column": null,
            "grid_gap": null,
            "grid_row": null,
            "grid_template_areas": null,
            "grid_template_columns": null,
            "grid_template_rows": null,
            "height": null,
            "justify_content": null,
            "justify_items": null,
            "left": null,
            "margin": null,
            "max_height": null,
            "max_width": null,
            "min_height": null,
            "min_width": null,
            "object_fit": null,
            "object_position": null,
            "order": null,
            "overflow": null,
            "overflow_x": null,
            "overflow_y": null,
            "padding": null,
            "right": null,
            "top": null,
            "visibility": null,
            "width": null
          }
        },
        "af5012a76242474c9f0e137522723d86": {
          "model_module": "@jupyter-widgets/base",
          "model_name": "LayoutModel",
          "model_module_version": "1.2.0",
          "state": {
            "_model_module": "@jupyter-widgets/base",
            "_model_module_version": "1.2.0",
            "_model_name": "LayoutModel",
            "_view_count": null,
            "_view_module": "@jupyter-widgets/base",
            "_view_module_version": "1.2.0",
            "_view_name": "LayoutView",
            "align_content": null,
            "align_items": null,
            "align_self": null,
            "border": null,
            "bottom": null,
            "display": null,
            "flex": null,
            "flex_flow": null,
            "grid_area": null,
            "grid_auto_columns": null,
            "grid_auto_flow": null,
            "grid_auto_rows": null,
            "grid_column": null,
            "grid_gap": null,
            "grid_row": null,
            "grid_template_areas": null,
            "grid_template_columns": null,
            "grid_template_rows": null,
            "height": null,
            "justify_content": null,
            "justify_items": null,
            "left": null,
            "margin": null,
            "max_height": null,
            "max_width": null,
            "min_height": null,
            "min_width": null,
            "object_fit": null,
            "object_position": null,
            "order": null,
            "overflow": null,
            "overflow_x": null,
            "overflow_y": null,
            "padding": null,
            "right": null,
            "top": null,
            "visibility": null,
            "width": null
          }
        },
        "e14822718a5b4dccad639db879b889a8": {
          "model_module": "@jupyter-widgets/controls",
          "model_name": "DescriptionStyleModel",
          "model_module_version": "1.5.0",
          "state": {
            "_model_module": "@jupyter-widgets/controls",
            "_model_module_version": "1.5.0",
            "_model_name": "DescriptionStyleModel",
            "_view_count": null,
            "_view_module": "@jupyter-widgets/base",
            "_view_module_version": "1.2.0",
            "_view_name": "StyleView",
            "description_width": ""
          }
        },
        "76d933cf638d4dbabacaa14603fbddcc": {
          "model_module": "@jupyter-widgets/base",
          "model_name": "LayoutModel",
          "model_module_version": "1.2.0",
          "state": {
            "_model_module": "@jupyter-widgets/base",
            "_model_module_version": "1.2.0",
            "_model_name": "LayoutModel",
            "_view_count": null,
            "_view_module": "@jupyter-widgets/base",
            "_view_module_version": "1.2.0",
            "_view_name": "LayoutView",
            "align_content": null,
            "align_items": null,
            "align_self": null,
            "border": null,
            "bottom": null,
            "display": null,
            "flex": null,
            "flex_flow": null,
            "grid_area": null,
            "grid_auto_columns": null,
            "grid_auto_flow": null,
            "grid_auto_rows": null,
            "grid_column": null,
            "grid_gap": null,
            "grid_row": null,
            "grid_template_areas": null,
            "grid_template_columns": null,
            "grid_template_rows": null,
            "height": null,
            "justify_content": null,
            "justify_items": null,
            "left": null,
            "margin": null,
            "max_height": null,
            "max_width": null,
            "min_height": null,
            "min_width": null,
            "object_fit": null,
            "object_position": null,
            "order": null,
            "overflow": null,
            "overflow_x": null,
            "overflow_y": null,
            "padding": null,
            "right": null,
            "top": null,
            "visibility": null,
            "width": null
          }
        },
        "457a1c423a334f67a7666e27f781cf22": {
          "model_module": "@jupyter-widgets/controls",
          "model_name": "ProgressStyleModel",
          "model_module_version": "1.5.0",
          "state": {
            "_model_module": "@jupyter-widgets/controls",
            "_model_module_version": "1.5.0",
            "_model_name": "ProgressStyleModel",
            "_view_count": null,
            "_view_module": "@jupyter-widgets/base",
            "_view_module_version": "1.2.0",
            "_view_name": "StyleView",
            "bar_color": null,
            "description_width": ""
          }
        },
        "b63330ef824f4923869b2b94af35767c": {
          "model_module": "@jupyter-widgets/base",
          "model_name": "LayoutModel",
          "model_module_version": "1.2.0",
          "state": {
            "_model_module": "@jupyter-widgets/base",
            "_model_module_version": "1.2.0",
            "_model_name": "LayoutModel",
            "_view_count": null,
            "_view_module": "@jupyter-widgets/base",
            "_view_module_version": "1.2.0",
            "_view_name": "LayoutView",
            "align_content": null,
            "align_items": null,
            "align_self": null,
            "border": null,
            "bottom": null,
            "display": null,
            "flex": null,
            "flex_flow": null,
            "grid_area": null,
            "grid_auto_columns": null,
            "grid_auto_flow": null,
            "grid_auto_rows": null,
            "grid_column": null,
            "grid_gap": null,
            "grid_row": null,
            "grid_template_areas": null,
            "grid_template_columns": null,
            "grid_template_rows": null,
            "height": null,
            "justify_content": null,
            "justify_items": null,
            "left": null,
            "margin": null,
            "max_height": null,
            "max_width": null,
            "min_height": null,
            "min_width": null,
            "object_fit": null,
            "object_position": null,
            "order": null,
            "overflow": null,
            "overflow_x": null,
            "overflow_y": null,
            "padding": null,
            "right": null,
            "top": null,
            "visibility": null,
            "width": null
          }
        },
        "9433a2218c9a4da88be4f9bd1baf95e6": {
          "model_module": "@jupyter-widgets/controls",
          "model_name": "DescriptionStyleModel",
          "model_module_version": "1.5.0",
          "state": {
            "_model_module": "@jupyter-widgets/controls",
            "_model_module_version": "1.5.0",
            "_model_name": "DescriptionStyleModel",
            "_view_count": null,
            "_view_module": "@jupyter-widgets/base",
            "_view_module_version": "1.2.0",
            "_view_name": "StyleView",
            "description_width": ""
          }
        },
        "0a90b81d32c744a8b36e320023c494a3": {
          "model_module": "@jupyter-widgets/controls",
          "model_name": "HBoxModel",
          "model_module_version": "1.5.0",
          "state": {
            "_dom_classes": [],
            "_model_module": "@jupyter-widgets/controls",
            "_model_module_version": "1.5.0",
            "_model_name": "HBoxModel",
            "_view_count": null,
            "_view_module": "@jupyter-widgets/controls",
            "_view_module_version": "1.5.0",
            "_view_name": "HBoxView",
            "box_style": "",
            "children": [
              "IPY_MODEL_e28324046ff8415881ab44745a9d3858",
              "IPY_MODEL_12519049d1964a639facd683a5a1feed",
              "IPY_MODEL_804004edc7064bf3a0137c8e5c2bf4b5"
            ],
            "layout": "IPY_MODEL_8b4bfd6e0aca4595838067fde9e648ee"
          }
        },
        "e28324046ff8415881ab44745a9d3858": {
          "model_module": "@jupyter-widgets/controls",
          "model_name": "HTMLModel",
          "model_module_version": "1.5.0",
          "state": {
            "_dom_classes": [],
            "_model_module": "@jupyter-widgets/controls",
            "_model_module_version": "1.5.0",
            "_model_name": "HTMLModel",
            "_view_count": null,
            "_view_module": "@jupyter-widgets/controls",
            "_view_module_version": "1.5.0",
            "_view_name": "HTMLView",
            "description": "",
            "description_tooltip": null,
            "layout": "IPY_MODEL_17cccefef010442194ca0484507e1a9e",
            "placeholder": "​",
            "style": "IPY_MODEL_6487094af54d44ec82607b0a41bb80a3",
            "value": "Map: 100%"
          }
        },
        "12519049d1964a639facd683a5a1feed": {
          "model_module": "@jupyter-widgets/controls",
          "model_name": "FloatProgressModel",
          "model_module_version": "1.5.0",
          "state": {
            "_dom_classes": [],
            "_model_module": "@jupyter-widgets/controls",
            "_model_module_version": "1.5.0",
            "_model_name": "FloatProgressModel",
            "_view_count": null,
            "_view_module": "@jupyter-widgets/controls",
            "_view_module_version": "1.5.0",
            "_view_name": "ProgressView",
            "bar_style": "success",
            "description": "",
            "description_tooltip": null,
            "layout": "IPY_MODEL_a5295fc7ddc843448448f511d979ed38",
            "max": 292,
            "min": 0,
            "orientation": "horizontal",
            "style": "IPY_MODEL_b8bc06ed236442d19ca332e6c9ea0785",
            "value": 292
          }
        },
        "804004edc7064bf3a0137c8e5c2bf4b5": {
          "model_module": "@jupyter-widgets/controls",
          "model_name": "HTMLModel",
          "model_module_version": "1.5.0",
          "state": {
            "_dom_classes": [],
            "_model_module": "@jupyter-widgets/controls",
            "_model_module_version": "1.5.0",
            "_model_name": "HTMLModel",
            "_view_count": null,
            "_view_module": "@jupyter-widgets/controls",
            "_view_module_version": "1.5.0",
            "_view_name": "HTMLView",
            "description": "",
            "description_tooltip": null,
            "layout": "IPY_MODEL_a9ab6c24020d470b924ccdbf676321f8",
            "placeholder": "​",
            "style": "IPY_MODEL_b8ff76113191405eabf803461cadb694",
            "value": " 292/292 [00:00&lt;00:00, 4944.36 examples/s]"
          }
        },
        "8b4bfd6e0aca4595838067fde9e648ee": {
          "model_module": "@jupyter-widgets/base",
          "model_name": "LayoutModel",
          "model_module_version": "1.2.0",
          "state": {
            "_model_module": "@jupyter-widgets/base",
            "_model_module_version": "1.2.0",
            "_model_name": "LayoutModel",
            "_view_count": null,
            "_view_module": "@jupyter-widgets/base",
            "_view_module_version": "1.2.0",
            "_view_name": "LayoutView",
            "align_content": null,
            "align_items": null,
            "align_self": null,
            "border": null,
            "bottom": null,
            "display": null,
            "flex": null,
            "flex_flow": null,
            "grid_area": null,
            "grid_auto_columns": null,
            "grid_auto_flow": null,
            "grid_auto_rows": null,
            "grid_column": null,
            "grid_gap": null,
            "grid_row": null,
            "grid_template_areas": null,
            "grid_template_columns": null,
            "grid_template_rows": null,
            "height": null,
            "justify_content": null,
            "justify_items": null,
            "left": null,
            "margin": null,
            "max_height": null,
            "max_width": null,
            "min_height": null,
            "min_width": null,
            "object_fit": null,
            "object_position": null,
            "order": null,
            "overflow": null,
            "overflow_x": null,
            "overflow_y": null,
            "padding": null,
            "right": null,
            "top": null,
            "visibility": null,
            "width": null
          }
        },
        "17cccefef010442194ca0484507e1a9e": {
          "model_module": "@jupyter-widgets/base",
          "model_name": "LayoutModel",
          "model_module_version": "1.2.0",
          "state": {
            "_model_module": "@jupyter-widgets/base",
            "_model_module_version": "1.2.0",
            "_model_name": "LayoutModel",
            "_view_count": null,
            "_view_module": "@jupyter-widgets/base",
            "_view_module_version": "1.2.0",
            "_view_name": "LayoutView",
            "align_content": null,
            "align_items": null,
            "align_self": null,
            "border": null,
            "bottom": null,
            "display": null,
            "flex": null,
            "flex_flow": null,
            "grid_area": null,
            "grid_auto_columns": null,
            "grid_auto_flow": null,
            "grid_auto_rows": null,
            "grid_column": null,
            "grid_gap": null,
            "grid_row": null,
            "grid_template_areas": null,
            "grid_template_columns": null,
            "grid_template_rows": null,
            "height": null,
            "justify_content": null,
            "justify_items": null,
            "left": null,
            "margin": null,
            "max_height": null,
            "max_width": null,
            "min_height": null,
            "min_width": null,
            "object_fit": null,
            "object_position": null,
            "order": null,
            "overflow": null,
            "overflow_x": null,
            "overflow_y": null,
            "padding": null,
            "right": null,
            "top": null,
            "visibility": null,
            "width": null
          }
        },
        "6487094af54d44ec82607b0a41bb80a3": {
          "model_module": "@jupyter-widgets/controls",
          "model_name": "DescriptionStyleModel",
          "model_module_version": "1.5.0",
          "state": {
            "_model_module": "@jupyter-widgets/controls",
            "_model_module_version": "1.5.0",
            "_model_name": "DescriptionStyleModel",
            "_view_count": null,
            "_view_module": "@jupyter-widgets/base",
            "_view_module_version": "1.2.0",
            "_view_name": "StyleView",
            "description_width": ""
          }
        },
        "a5295fc7ddc843448448f511d979ed38": {
          "model_module": "@jupyter-widgets/base",
          "model_name": "LayoutModel",
          "model_module_version": "1.2.0",
          "state": {
            "_model_module": "@jupyter-widgets/base",
            "_model_module_version": "1.2.0",
            "_model_name": "LayoutModel",
            "_view_count": null,
            "_view_module": "@jupyter-widgets/base",
            "_view_module_version": "1.2.0",
            "_view_name": "LayoutView",
            "align_content": null,
            "align_items": null,
            "align_self": null,
            "border": null,
            "bottom": null,
            "display": null,
            "flex": null,
            "flex_flow": null,
            "grid_area": null,
            "grid_auto_columns": null,
            "grid_auto_flow": null,
            "grid_auto_rows": null,
            "grid_column": null,
            "grid_gap": null,
            "grid_row": null,
            "grid_template_areas": null,
            "grid_template_columns": null,
            "grid_template_rows": null,
            "height": null,
            "justify_content": null,
            "justify_items": null,
            "left": null,
            "margin": null,
            "max_height": null,
            "max_width": null,
            "min_height": null,
            "min_width": null,
            "object_fit": null,
            "object_position": null,
            "order": null,
            "overflow": null,
            "overflow_x": null,
            "overflow_y": null,
            "padding": null,
            "right": null,
            "top": null,
            "visibility": null,
            "width": null
          }
        },
        "b8bc06ed236442d19ca332e6c9ea0785": {
          "model_module": "@jupyter-widgets/controls",
          "model_name": "ProgressStyleModel",
          "model_module_version": "1.5.0",
          "state": {
            "_model_module": "@jupyter-widgets/controls",
            "_model_module_version": "1.5.0",
            "_model_name": "ProgressStyleModel",
            "_view_count": null,
            "_view_module": "@jupyter-widgets/base",
            "_view_module_version": "1.2.0",
            "_view_name": "StyleView",
            "bar_color": null,
            "description_width": ""
          }
        },
        "a9ab6c24020d470b924ccdbf676321f8": {
          "model_module": "@jupyter-widgets/base",
          "model_name": "LayoutModel",
          "model_module_version": "1.2.0",
          "state": {
            "_model_module": "@jupyter-widgets/base",
            "_model_module_version": "1.2.0",
            "_model_name": "LayoutModel",
            "_view_count": null,
            "_view_module": "@jupyter-widgets/base",
            "_view_module_version": "1.2.0",
            "_view_name": "LayoutView",
            "align_content": null,
            "align_items": null,
            "align_self": null,
            "border": null,
            "bottom": null,
            "display": null,
            "flex": null,
            "flex_flow": null,
            "grid_area": null,
            "grid_auto_columns": null,
            "grid_auto_flow": null,
            "grid_auto_rows": null,
            "grid_column": null,
            "grid_gap": null,
            "grid_row": null,
            "grid_template_areas": null,
            "grid_template_columns": null,
            "grid_template_rows": null,
            "height": null,
            "justify_content": null,
            "justify_items": null,
            "left": null,
            "margin": null,
            "max_height": null,
            "max_width": null,
            "min_height": null,
            "min_width": null,
            "object_fit": null,
            "object_position": null,
            "order": null,
            "overflow": null,
            "overflow_x": null,
            "overflow_y": null,
            "padding": null,
            "right": null,
            "top": null,
            "visibility": null,
            "width": null
          }
        },
        "b8ff76113191405eabf803461cadb694": {
          "model_module": "@jupyter-widgets/controls",
          "model_name": "DescriptionStyleModel",
          "model_module_version": "1.5.0",
          "state": {
            "_model_module": "@jupyter-widgets/controls",
            "_model_module_version": "1.5.0",
            "_model_name": "DescriptionStyleModel",
            "_view_count": null,
            "_view_module": "@jupyter-widgets/base",
            "_view_module_version": "1.2.0",
            "_view_name": "StyleView",
            "description_width": ""
          }
        },
        "783d0a36e27643cf869b38f7fcca5f29": {
          "model_module": "@jupyter-widgets/controls",
          "model_name": "HBoxModel",
          "model_module_version": "1.5.0",
          "state": {
            "_dom_classes": [],
            "_model_module": "@jupyter-widgets/controls",
            "_model_module_version": "1.5.0",
            "_model_name": "HBoxModel",
            "_view_count": null,
            "_view_module": "@jupyter-widgets/controls",
            "_view_module_version": "1.5.0",
            "_view_name": "HBoxView",
            "box_style": "",
            "children": [
              "IPY_MODEL_86152d7be0e8430886fac135bbe68459",
              "IPY_MODEL_fa04f8adf90c4b24ab4fc3207a5a3461",
              "IPY_MODEL_7edf5a1605564f178ce8aec08b9c9628"
            ],
            "layout": "IPY_MODEL_8ed9ebb173a245fc9442f3c4cdec2943"
          }
        },
        "86152d7be0e8430886fac135bbe68459": {
          "model_module": "@jupyter-widgets/controls",
          "model_name": "HTMLModel",
          "model_module_version": "1.5.0",
          "state": {
            "_dom_classes": [],
            "_model_module": "@jupyter-widgets/controls",
            "_model_module_version": "1.5.0",
            "_model_name": "HTMLModel",
            "_view_count": null,
            "_view_module": "@jupyter-widgets/controls",
            "_view_module_version": "1.5.0",
            "_view_name": "HTMLView",
            "description": "",
            "description_tooltip": null,
            "layout": "IPY_MODEL_25976acc22074ad6b6ae8b9b33bc6618",
            "placeholder": "​",
            "style": "IPY_MODEL_80d3891393f94a259d40e255d75c14a4",
            "value": "Map: 100%"
          }
        },
        "fa04f8adf90c4b24ab4fc3207a5a3461": {
          "model_module": "@jupyter-widgets/controls",
          "model_name": "FloatProgressModel",
          "model_module_version": "1.5.0",
          "state": {
            "_dom_classes": [],
            "_model_module": "@jupyter-widgets/controls",
            "_model_module_version": "1.5.0",
            "_model_name": "FloatProgressModel",
            "_view_count": null,
            "_view_module": "@jupyter-widgets/controls",
            "_view_module_version": "1.5.0",
            "_view_name": "ProgressView",
            "bar_style": "success",
            "description": "",
            "description_tooltip": null,
            "layout": "IPY_MODEL_5549439e57524895b358c94765c5591e",
            "max": 22,
            "min": 0,
            "orientation": "horizontal",
            "style": "IPY_MODEL_c466f868f6454aa191ea72f420914de9",
            "value": 22
          }
        },
        "7edf5a1605564f178ce8aec08b9c9628": {
          "model_module": "@jupyter-widgets/controls",
          "model_name": "HTMLModel",
          "model_module_version": "1.5.0",
          "state": {
            "_dom_classes": [],
            "_model_module": "@jupyter-widgets/controls",
            "_model_module_version": "1.5.0",
            "_model_name": "HTMLModel",
            "_view_count": null,
            "_view_module": "@jupyter-widgets/controls",
            "_view_module_version": "1.5.0",
            "_view_name": "HTMLView",
            "description": "",
            "description_tooltip": null,
            "layout": "IPY_MODEL_e3eebde90ffb4ff7bb98d92a0c617a6b",
            "placeholder": "​",
            "style": "IPY_MODEL_09d1220e20cf42889e3206e647a82be3",
            "value": " 22/22 [00:00&lt;00:00, 1079.27 examples/s]"
          }
        },
        "8ed9ebb173a245fc9442f3c4cdec2943": {
          "model_module": "@jupyter-widgets/base",
          "model_name": "LayoutModel",
          "model_module_version": "1.2.0",
          "state": {
            "_model_module": "@jupyter-widgets/base",
            "_model_module_version": "1.2.0",
            "_model_name": "LayoutModel",
            "_view_count": null,
            "_view_module": "@jupyter-widgets/base",
            "_view_module_version": "1.2.0",
            "_view_name": "LayoutView",
            "align_content": null,
            "align_items": null,
            "align_self": null,
            "border": null,
            "bottom": null,
            "display": null,
            "flex": null,
            "flex_flow": null,
            "grid_area": null,
            "grid_auto_columns": null,
            "grid_auto_flow": null,
            "grid_auto_rows": null,
            "grid_column": null,
            "grid_gap": null,
            "grid_row": null,
            "grid_template_areas": null,
            "grid_template_columns": null,
            "grid_template_rows": null,
            "height": null,
            "justify_content": null,
            "justify_items": null,
            "left": null,
            "margin": null,
            "max_height": null,
            "max_width": null,
            "min_height": null,
            "min_width": null,
            "object_fit": null,
            "object_position": null,
            "order": null,
            "overflow": null,
            "overflow_x": null,
            "overflow_y": null,
            "padding": null,
            "right": null,
            "top": null,
            "visibility": null,
            "width": null
          }
        },
        "25976acc22074ad6b6ae8b9b33bc6618": {
          "model_module": "@jupyter-widgets/base",
          "model_name": "LayoutModel",
          "model_module_version": "1.2.0",
          "state": {
            "_model_module": "@jupyter-widgets/base",
            "_model_module_version": "1.2.0",
            "_model_name": "LayoutModel",
            "_view_count": null,
            "_view_module": "@jupyter-widgets/base",
            "_view_module_version": "1.2.0",
            "_view_name": "LayoutView",
            "align_content": null,
            "align_items": null,
            "align_self": null,
            "border": null,
            "bottom": null,
            "display": null,
            "flex": null,
            "flex_flow": null,
            "grid_area": null,
            "grid_auto_columns": null,
            "grid_auto_flow": null,
            "grid_auto_rows": null,
            "grid_column": null,
            "grid_gap": null,
            "grid_row": null,
            "grid_template_areas": null,
            "grid_template_columns": null,
            "grid_template_rows": null,
            "height": null,
            "justify_content": null,
            "justify_items": null,
            "left": null,
            "margin": null,
            "max_height": null,
            "max_width": null,
            "min_height": null,
            "min_width": null,
            "object_fit": null,
            "object_position": null,
            "order": null,
            "overflow": null,
            "overflow_x": null,
            "overflow_y": null,
            "padding": null,
            "right": null,
            "top": null,
            "visibility": null,
            "width": null
          }
        },
        "80d3891393f94a259d40e255d75c14a4": {
          "model_module": "@jupyter-widgets/controls",
          "model_name": "DescriptionStyleModel",
          "model_module_version": "1.5.0",
          "state": {
            "_model_module": "@jupyter-widgets/controls",
            "_model_module_version": "1.5.0",
            "_model_name": "DescriptionStyleModel",
            "_view_count": null,
            "_view_module": "@jupyter-widgets/base",
            "_view_module_version": "1.2.0",
            "_view_name": "StyleView",
            "description_width": ""
          }
        },
        "5549439e57524895b358c94765c5591e": {
          "model_module": "@jupyter-widgets/base",
          "model_name": "LayoutModel",
          "model_module_version": "1.2.0",
          "state": {
            "_model_module": "@jupyter-widgets/base",
            "_model_module_version": "1.2.0",
            "_model_name": "LayoutModel",
            "_view_count": null,
            "_view_module": "@jupyter-widgets/base",
            "_view_module_version": "1.2.0",
            "_view_name": "LayoutView",
            "align_content": null,
            "align_items": null,
            "align_self": null,
            "border": null,
            "bottom": null,
            "display": null,
            "flex": null,
            "flex_flow": null,
            "grid_area": null,
            "grid_auto_columns": null,
            "grid_auto_flow": null,
            "grid_auto_rows": null,
            "grid_column": null,
            "grid_gap": null,
            "grid_row": null,
            "grid_template_areas": null,
            "grid_template_columns": null,
            "grid_template_rows": null,
            "height": null,
            "justify_content": null,
            "justify_items": null,
            "left": null,
            "margin": null,
            "max_height": null,
            "max_width": null,
            "min_height": null,
            "min_width": null,
            "object_fit": null,
            "object_position": null,
            "order": null,
            "overflow": null,
            "overflow_x": null,
            "overflow_y": null,
            "padding": null,
            "right": null,
            "top": null,
            "visibility": null,
            "width": null
          }
        },
        "c466f868f6454aa191ea72f420914de9": {
          "model_module": "@jupyter-widgets/controls",
          "model_name": "ProgressStyleModel",
          "model_module_version": "1.5.0",
          "state": {
            "_model_module": "@jupyter-widgets/controls",
            "_model_module_version": "1.5.0",
            "_model_name": "ProgressStyleModel",
            "_view_count": null,
            "_view_module": "@jupyter-widgets/base",
            "_view_module_version": "1.2.0",
            "_view_name": "StyleView",
            "bar_color": null,
            "description_width": ""
          }
        },
        "e3eebde90ffb4ff7bb98d92a0c617a6b": {
          "model_module": "@jupyter-widgets/base",
          "model_name": "LayoutModel",
          "model_module_version": "1.2.0",
          "state": {
            "_model_module": "@jupyter-widgets/base",
            "_model_module_version": "1.2.0",
            "_model_name": "LayoutModel",
            "_view_count": null,
            "_view_module": "@jupyter-widgets/base",
            "_view_module_version": "1.2.0",
            "_view_name": "LayoutView",
            "align_content": null,
            "align_items": null,
            "align_self": null,
            "border": null,
            "bottom": null,
            "display": null,
            "flex": null,
            "flex_flow": null,
            "grid_area": null,
            "grid_auto_columns": null,
            "grid_auto_flow": null,
            "grid_auto_rows": null,
            "grid_column": null,
            "grid_gap": null,
            "grid_row": null,
            "grid_template_areas": null,
            "grid_template_columns": null,
            "grid_template_rows": null,
            "height": null,
            "justify_content": null,
            "justify_items": null,
            "left": null,
            "margin": null,
            "max_height": null,
            "max_width": null,
            "min_height": null,
            "min_width": null,
            "object_fit": null,
            "object_position": null,
            "order": null,
            "overflow": null,
            "overflow_x": null,
            "overflow_y": null,
            "padding": null,
            "right": null,
            "top": null,
            "visibility": null,
            "width": null
          }
        },
        "09d1220e20cf42889e3206e647a82be3": {
          "model_module": "@jupyter-widgets/controls",
          "model_name": "DescriptionStyleModel",
          "model_module_version": "1.5.0",
          "state": {
            "_model_module": "@jupyter-widgets/controls",
            "_model_module_version": "1.5.0",
            "_model_name": "DescriptionStyleModel",
            "_view_count": null,
            "_view_module": "@jupyter-widgets/base",
            "_view_module_version": "1.2.0",
            "_view_name": "StyleView",
            "description_width": ""
          }
        },
        "2061c6392d7f42f196ff6e751a310a24": {
          "model_module": "@jupyter-widgets/controls",
          "model_name": "HBoxModel",
          "model_module_version": "1.5.0",
          "state": {
            "_dom_classes": [],
            "_model_module": "@jupyter-widgets/controls",
            "_model_module_version": "1.5.0",
            "_model_name": "HBoxModel",
            "_view_count": null,
            "_view_module": "@jupyter-widgets/controls",
            "_view_module_version": "1.5.0",
            "_view_name": "HBoxView",
            "box_style": "",
            "children": [
              "IPY_MODEL_ba14f8e26f7f4b5da288bc12153793f2",
              "IPY_MODEL_b4c1239a5ac34544a96791a699b1b26e",
              "IPY_MODEL_bc3a65086b0f410eac36c6d0988a1fdd"
            ],
            "layout": "IPY_MODEL_ae808dbcbcfb49ddab816bb6a1755e1a"
          }
        },
        "ba14f8e26f7f4b5da288bc12153793f2": {
          "model_module": "@jupyter-widgets/controls",
          "model_name": "HTMLModel",
          "model_module_version": "1.5.0",
          "state": {
            "_dom_classes": [],
            "_model_module": "@jupyter-widgets/controls",
            "_model_module_version": "1.5.0",
            "_model_name": "HTMLModel",
            "_view_count": null,
            "_view_module": "@jupyter-widgets/controls",
            "_view_module_version": "1.5.0",
            "_view_name": "HTMLView",
            "description": "",
            "description_tooltip": null,
            "layout": "IPY_MODEL_24e2c950f3c449bf80d7e8e5f12d75b1",
            "placeholder": "​",
            "style": "IPY_MODEL_f37bde1931b8453dba6b8881a1fadd15",
            "value": "Map: 100%"
          }
        },
        "b4c1239a5ac34544a96791a699b1b26e": {
          "model_module": "@jupyter-widgets/controls",
          "model_name": "FloatProgressModel",
          "model_module_version": "1.5.0",
          "state": {
            "_dom_classes": [],
            "_model_module": "@jupyter-widgets/controls",
            "_model_module_version": "1.5.0",
            "_model_name": "FloatProgressModel",
            "_view_count": null,
            "_view_module": "@jupyter-widgets/controls",
            "_view_module_version": "1.5.0",
            "_view_name": "ProgressView",
            "bar_style": "success",
            "description": "",
            "description_tooltip": null,
            "layout": "IPY_MODEL_5325d31a492f451186d11b48bd99a294",
            "max": 126,
            "min": 0,
            "orientation": "horizontal",
            "style": "IPY_MODEL_9ea5c07d06d3418ea0777d541a81fb94",
            "value": 126
          }
        },
        "bc3a65086b0f410eac36c6d0988a1fdd": {
          "model_module": "@jupyter-widgets/controls",
          "model_name": "HTMLModel",
          "model_module_version": "1.5.0",
          "state": {
            "_dom_classes": [],
            "_model_module": "@jupyter-widgets/controls",
            "_model_module_version": "1.5.0",
            "_model_name": "HTMLModel",
            "_view_count": null,
            "_view_module": "@jupyter-widgets/controls",
            "_view_module_version": "1.5.0",
            "_view_name": "HTMLView",
            "description": "",
            "description_tooltip": null,
            "layout": "IPY_MODEL_6981134d31484eb8a110e30c0b66fa06",
            "placeholder": "​",
            "style": "IPY_MODEL_9611574ee072404b899b2a5c0bffdd0a",
            "value": " 126/126 [00:00&lt;00:00, 3496.87 examples/s]"
          }
        },
        "ae808dbcbcfb49ddab816bb6a1755e1a": {
          "model_module": "@jupyter-widgets/base",
          "model_name": "LayoutModel",
          "model_module_version": "1.2.0",
          "state": {
            "_model_module": "@jupyter-widgets/base",
            "_model_module_version": "1.2.0",
            "_model_name": "LayoutModel",
            "_view_count": null,
            "_view_module": "@jupyter-widgets/base",
            "_view_module_version": "1.2.0",
            "_view_name": "LayoutView",
            "align_content": null,
            "align_items": null,
            "align_self": null,
            "border": null,
            "bottom": null,
            "display": null,
            "flex": null,
            "flex_flow": null,
            "grid_area": null,
            "grid_auto_columns": null,
            "grid_auto_flow": null,
            "grid_auto_rows": null,
            "grid_column": null,
            "grid_gap": null,
            "grid_row": null,
            "grid_template_areas": null,
            "grid_template_columns": null,
            "grid_template_rows": null,
            "height": null,
            "justify_content": null,
            "justify_items": null,
            "left": null,
            "margin": null,
            "max_height": null,
            "max_width": null,
            "min_height": null,
            "min_width": null,
            "object_fit": null,
            "object_position": null,
            "order": null,
            "overflow": null,
            "overflow_x": null,
            "overflow_y": null,
            "padding": null,
            "right": null,
            "top": null,
            "visibility": null,
            "width": null
          }
        },
        "24e2c950f3c449bf80d7e8e5f12d75b1": {
          "model_module": "@jupyter-widgets/base",
          "model_name": "LayoutModel",
          "model_module_version": "1.2.0",
          "state": {
            "_model_module": "@jupyter-widgets/base",
            "_model_module_version": "1.2.0",
            "_model_name": "LayoutModel",
            "_view_count": null,
            "_view_module": "@jupyter-widgets/base",
            "_view_module_version": "1.2.0",
            "_view_name": "LayoutView",
            "align_content": null,
            "align_items": null,
            "align_self": null,
            "border": null,
            "bottom": null,
            "display": null,
            "flex": null,
            "flex_flow": null,
            "grid_area": null,
            "grid_auto_columns": null,
            "grid_auto_flow": null,
            "grid_auto_rows": null,
            "grid_column": null,
            "grid_gap": null,
            "grid_row": null,
            "grid_template_areas": null,
            "grid_template_columns": null,
            "grid_template_rows": null,
            "height": null,
            "justify_content": null,
            "justify_items": null,
            "left": null,
            "margin": null,
            "max_height": null,
            "max_width": null,
            "min_height": null,
            "min_width": null,
            "object_fit": null,
            "object_position": null,
            "order": null,
            "overflow": null,
            "overflow_x": null,
            "overflow_y": null,
            "padding": null,
            "right": null,
            "top": null,
            "visibility": null,
            "width": null
          }
        },
        "f37bde1931b8453dba6b8881a1fadd15": {
          "model_module": "@jupyter-widgets/controls",
          "model_name": "DescriptionStyleModel",
          "model_module_version": "1.5.0",
          "state": {
            "_model_module": "@jupyter-widgets/controls",
            "_model_module_version": "1.5.0",
            "_model_name": "DescriptionStyleModel",
            "_view_count": null,
            "_view_module": "@jupyter-widgets/base",
            "_view_module_version": "1.2.0",
            "_view_name": "StyleView",
            "description_width": ""
          }
        },
        "5325d31a492f451186d11b48bd99a294": {
          "model_module": "@jupyter-widgets/base",
          "model_name": "LayoutModel",
          "model_module_version": "1.2.0",
          "state": {
            "_model_module": "@jupyter-widgets/base",
            "_model_module_version": "1.2.0",
            "_model_name": "LayoutModel",
            "_view_count": null,
            "_view_module": "@jupyter-widgets/base",
            "_view_module_version": "1.2.0",
            "_view_name": "LayoutView",
            "align_content": null,
            "align_items": null,
            "align_self": null,
            "border": null,
            "bottom": null,
            "display": null,
            "flex": null,
            "flex_flow": null,
            "grid_area": null,
            "grid_auto_columns": null,
            "grid_auto_flow": null,
            "grid_auto_rows": null,
            "grid_column": null,
            "grid_gap": null,
            "grid_row": null,
            "grid_template_areas": null,
            "grid_template_columns": null,
            "grid_template_rows": null,
            "height": null,
            "justify_content": null,
            "justify_items": null,
            "left": null,
            "margin": null,
            "max_height": null,
            "max_width": null,
            "min_height": null,
            "min_width": null,
            "object_fit": null,
            "object_position": null,
            "order": null,
            "overflow": null,
            "overflow_x": null,
            "overflow_y": null,
            "padding": null,
            "right": null,
            "top": null,
            "visibility": null,
            "width": null
          }
        },
        "9ea5c07d06d3418ea0777d541a81fb94": {
          "model_module": "@jupyter-widgets/controls",
          "model_name": "ProgressStyleModel",
          "model_module_version": "1.5.0",
          "state": {
            "_model_module": "@jupyter-widgets/controls",
            "_model_module_version": "1.5.0",
            "_model_name": "ProgressStyleModel",
            "_view_count": null,
            "_view_module": "@jupyter-widgets/base",
            "_view_module_version": "1.2.0",
            "_view_name": "StyleView",
            "bar_color": null,
            "description_width": ""
          }
        },
        "6981134d31484eb8a110e30c0b66fa06": {
          "model_module": "@jupyter-widgets/base",
          "model_name": "LayoutModel",
          "model_module_version": "1.2.0",
          "state": {
            "_model_module": "@jupyter-widgets/base",
            "_model_module_version": "1.2.0",
            "_model_name": "LayoutModel",
            "_view_count": null,
            "_view_module": "@jupyter-widgets/base",
            "_view_module_version": "1.2.0",
            "_view_name": "LayoutView",
            "align_content": null,
            "align_items": null,
            "align_self": null,
            "border": null,
            "bottom": null,
            "display": null,
            "flex": null,
            "flex_flow": null,
            "grid_area": null,
            "grid_auto_columns": null,
            "grid_auto_flow": null,
            "grid_auto_rows": null,
            "grid_column": null,
            "grid_gap": null,
            "grid_row": null,
            "grid_template_areas": null,
            "grid_template_columns": null,
            "grid_template_rows": null,
            "height": null,
            "justify_content": null,
            "justify_items": null,
            "left": null,
            "margin": null,
            "max_height": null,
            "max_width": null,
            "min_height": null,
            "min_width": null,
            "object_fit": null,
            "object_position": null,
            "order": null,
            "overflow": null,
            "overflow_x": null,
            "overflow_y": null,
            "padding": null,
            "right": null,
            "top": null,
            "visibility": null,
            "width": null
          }
        },
        "9611574ee072404b899b2a5c0bffdd0a": {
          "model_module": "@jupyter-widgets/controls",
          "model_name": "DescriptionStyleModel",
          "model_module_version": "1.5.0",
          "state": {
            "_model_module": "@jupyter-widgets/controls",
            "_model_module_version": "1.5.0",
            "_model_name": "DescriptionStyleModel",
            "_view_count": null,
            "_view_module": "@jupyter-widgets/base",
            "_view_module_version": "1.2.0",
            "_view_name": "StyleView",
            "description_width": ""
          }
        }
      }
    },
    "accelerator": "GPU"
  },
  "cells": [
    {
      "cell_type": "code",
      "source": [
        "# Setup\n",
        "! pip install seqeval evaluate\n",
        "! pip install kaleido\n",
        "! pip install --upgrade nevergrad # upgrade to ensure latest version"
      ],
      "metadata": {
        "colab": {
          "base_uri": "https://localhost:8080/",
          "height": 0
        },
        "id": "l8K_pVvB82I8",
        "outputId": "bf447123-367b-42ab-e571-1ef00b1b689d"
      },
      "execution_count": 53,
      "outputs": [
        {
          "output_type": "stream",
          "name": "stdout",
          "text": [
            "Requirement already satisfied: seqeval in /usr/local/lib/python3.11/dist-packages (1.2.2)\n",
            "Requirement already satisfied: evaluate in /usr/local/lib/python3.11/dist-packages (0.4.3)\n",
            "Requirement already satisfied: numpy>=1.14.0 in /usr/local/lib/python3.11/dist-packages (from seqeval) (1.26.4)\n",
            "Requirement already satisfied: scikit-learn>=0.21.3 in /usr/local/lib/python3.11/dist-packages (from seqeval) (1.6.1)\n",
            "Requirement already satisfied: datasets>=2.0.0 in /usr/local/lib/python3.11/dist-packages (from evaluate) (3.3.2)\n",
            "Requirement already satisfied: dill in /usr/local/lib/python3.11/dist-packages (from evaluate) (0.3.8)\n",
            "Requirement already satisfied: pandas in /usr/local/lib/python3.11/dist-packages (from evaluate) (2.2.2)\n",
            "Requirement already satisfied: requests>=2.19.0 in /usr/local/lib/python3.11/dist-packages (from evaluate) (2.32.3)\n",
            "Requirement already satisfied: tqdm>=4.62.1 in /usr/local/lib/python3.11/dist-packages (from evaluate) (4.67.1)\n",
            "Requirement already satisfied: xxhash in /usr/local/lib/python3.11/dist-packages (from evaluate) (3.5.0)\n",
            "Requirement already satisfied: multiprocess in /usr/local/lib/python3.11/dist-packages (from evaluate) (0.70.16)\n",
            "Requirement already satisfied: fsspec>=2021.05.0 in /usr/local/lib/python3.11/dist-packages (from fsspec[http]>=2021.05.0->evaluate) (2024.10.0)\n",
            "Requirement already satisfied: huggingface-hub>=0.7.0 in /usr/local/lib/python3.11/dist-packages (from evaluate) (0.28.1)\n",
            "Requirement already satisfied: packaging in /usr/local/lib/python3.11/dist-packages (from evaluate) (24.2)\n",
            "Requirement already satisfied: filelock in /usr/local/lib/python3.11/dist-packages (from datasets>=2.0.0->evaluate) (3.17.0)\n",
            "Requirement already satisfied: pyarrow>=15.0.0 in /usr/local/lib/python3.11/dist-packages (from datasets>=2.0.0->evaluate) (18.1.0)\n",
            "Requirement already satisfied: aiohttp in /usr/local/lib/python3.11/dist-packages (from datasets>=2.0.0->evaluate) (3.11.13)\n",
            "Requirement already satisfied: pyyaml>=5.1 in /usr/local/lib/python3.11/dist-packages (from datasets>=2.0.0->evaluate) (6.0.2)\n",
            "Requirement already satisfied: typing-extensions>=3.7.4.3 in /usr/local/lib/python3.11/dist-packages (from huggingface-hub>=0.7.0->evaluate) (4.12.2)\n",
            "Requirement already satisfied: charset-normalizer<4,>=2 in /usr/local/lib/python3.11/dist-packages (from requests>=2.19.0->evaluate) (3.4.1)\n",
            "Requirement already satisfied: idna<4,>=2.5 in /usr/local/lib/python3.11/dist-packages (from requests>=2.19.0->evaluate) (3.10)\n",
            "Requirement already satisfied: urllib3<3,>=1.21.1 in /usr/local/lib/python3.11/dist-packages (from requests>=2.19.0->evaluate) (2.3.0)\n",
            "Requirement already satisfied: certifi>=2017.4.17 in /usr/local/lib/python3.11/dist-packages (from requests>=2.19.0->evaluate) (2025.1.31)\n",
            "Requirement already satisfied: scipy>=1.6.0 in /usr/local/lib/python3.11/dist-packages (from scikit-learn>=0.21.3->seqeval) (1.13.1)\n",
            "Requirement already satisfied: joblib>=1.2.0 in /usr/local/lib/python3.11/dist-packages (from scikit-learn>=0.21.3->seqeval) (1.4.2)\n",
            "Requirement already satisfied: threadpoolctl>=3.1.0 in /usr/local/lib/python3.11/dist-packages (from scikit-learn>=0.21.3->seqeval) (3.5.0)\n",
            "Requirement already satisfied: python-dateutil>=2.8.2 in /usr/local/lib/python3.11/dist-packages (from pandas->evaluate) (2.8.2)\n",
            "Requirement already satisfied: pytz>=2020.1 in /usr/local/lib/python3.11/dist-packages (from pandas->evaluate) (2025.1)\n",
            "Requirement already satisfied: tzdata>=2022.7 in /usr/local/lib/python3.11/dist-packages (from pandas->evaluate) (2025.1)\n",
            "Requirement already satisfied: aiohappyeyeballs>=2.3.0 in /usr/local/lib/python3.11/dist-packages (from aiohttp->datasets>=2.0.0->evaluate) (2.4.6)\n",
            "Requirement already satisfied: aiosignal>=1.1.2 in /usr/local/lib/python3.11/dist-packages (from aiohttp->datasets>=2.0.0->evaluate) (1.3.2)\n",
            "Requirement already satisfied: attrs>=17.3.0 in /usr/local/lib/python3.11/dist-packages (from aiohttp->datasets>=2.0.0->evaluate) (25.1.0)\n",
            "Requirement already satisfied: frozenlist>=1.1.1 in /usr/local/lib/python3.11/dist-packages (from aiohttp->datasets>=2.0.0->evaluate) (1.5.0)\n",
            "Requirement already satisfied: multidict<7.0,>=4.5 in /usr/local/lib/python3.11/dist-packages (from aiohttp->datasets>=2.0.0->evaluate) (6.1.0)\n",
            "Requirement already satisfied: propcache>=0.2.0 in /usr/local/lib/python3.11/dist-packages (from aiohttp->datasets>=2.0.0->evaluate) (0.3.0)\n",
            "Requirement already satisfied: yarl<2.0,>=1.17.0 in /usr/local/lib/python3.11/dist-packages (from aiohttp->datasets>=2.0.0->evaluate) (1.18.3)\n",
            "Requirement already satisfied: six>=1.5 in /usr/local/lib/python3.11/dist-packages (from python-dateutil>=2.8.2->pandas->evaluate) (1.17.0)\n",
            "Requirement already satisfied: kaleido in /usr/local/lib/python3.11/dist-packages (0.2.1)\n",
            "Requirement already satisfied: nevergrad in /usr/local/lib/python3.11/dist-packages (1.0.8)\n",
            "Requirement already satisfied: numpy>=1.24.0 in /usr/local/lib/python3.11/dist-packages (from nevergrad) (1.26.4)\n",
            "Requirement already satisfied: cma>=2.6.0 in /usr/local/lib/python3.11/dist-packages (from nevergrad) (4.0.0)\n",
            "Requirement already satisfied: bayesian-optimization==1.4.0 in /usr/local/lib/python3.11/dist-packages (from nevergrad) (1.4.0)\n",
            "Requirement already satisfied: typing_extensions>=3.6.6 in /usr/local/lib/python3.11/dist-packages (from nevergrad) (4.12.2)\n",
            "Requirement already satisfied: pandas in /usr/local/lib/python3.11/dist-packages (from nevergrad) (2.2.2)\n",
            "Requirement already satisfied: colorama==0.4.0 in /usr/local/lib/python3.11/dist-packages (from nevergrad) (0.4.0)\n",
            "Requirement already satisfied: directsearch in /usr/local/lib/python3.11/dist-packages (from nevergrad) (1.0)\n",
            "Requirement already satisfied: scipy>=1.0.0 in /usr/local/lib/python3.11/dist-packages (from bayesian-optimization==1.4.0->nevergrad) (1.13.1)\n",
            "Requirement already satisfied: scikit-learn>=0.18.0 in /usr/local/lib/python3.11/dist-packages (from bayesian-optimization==1.4.0->nevergrad) (1.6.1)\n",
            "Requirement already satisfied: python-dateutil>=2.8.2 in /usr/local/lib/python3.11/dist-packages (from pandas->nevergrad) (2.8.2)\n",
            "Requirement already satisfied: pytz>=2020.1 in /usr/local/lib/python3.11/dist-packages (from pandas->nevergrad) (2025.1)\n",
            "Requirement already satisfied: tzdata>=2022.7 in /usr/local/lib/python3.11/dist-packages (from pandas->nevergrad) (2025.1)\n",
            "Requirement already satisfied: six>=1.5 in /usr/local/lib/python3.11/dist-packages (from python-dateutil>=2.8.2->pandas->nevergrad) (1.17.0)\n",
            "Requirement already satisfied: joblib>=1.2.0 in /usr/local/lib/python3.11/dist-packages (from scikit-learn>=0.18.0->bayesian-optimization==1.4.0->nevergrad) (1.4.2)\n",
            "Requirement already satisfied: threadpoolctl>=3.1.0 in /usr/local/lib/python3.11/dist-packages (from scikit-learn>=0.18.0->bayesian-optimization==1.4.0->nevergrad) (3.5.0)\n"
          ]
        }
      ]
    },
    {
      "cell_type": "code",
      "execution_count": 54,
      "metadata": {
        "id": "75soUDcWD9wO"
      },
      "outputs": [],
      "source": [
        "# Library imports\n",
        "from transformers import AutoTokenizer, AutoModel, pipeline, AutoConfig, DistilBertForSequenceClassification, DistilBertModel, DistilBertConfig, DistilBertPreTrainedModel, AutoModelForSequenceClassification\n",
        "from transformers import DataCollatorWithPadding, TrainingArguments, Trainer\n",
        "from transformers.modeling_outputs import SequenceClassifierOutput\n",
        "from transformers.tokenization_utils_base import BatchEncoding\n",
        "from datasets import Dataset, DatasetDict\n",
        "import torch\n",
        "import torch.nn as nn\n",
        "from google.colab import drive, userdata\n",
        "import pickle\n",
        "import random\n",
        "import re\n",
        "import time\n",
        "import pandas as pd\n",
        "import numpy as np\n",
        "from sklearn.model_selection import train_test_split\n",
        "import plotly.express as px\n",
        "import evaluate\n",
        "import pprint\n",
        "import kaleido\n",
        "import matplotlib.pyplot as plt\n",
        "import seaborn as sns\n",
        "from sklearn.metrics import accuracy_score, f1_score, recall_score, precision_score\n",
        "import re\n",
        "from tqdm import tqdm\n",
        "import torch.nn.functional as F\n",
        "from torch.utils.data import DataLoader\n",
        "import nevergrad as ng\n",
        "import wandb\n",
        "import shutil\n",
        "import tempfile\n",
        "import os"
      ]
    },
    {
      "cell_type": "code",
      "source": [
        "# Mount drive\n",
        "drive.mount(\"/content/drive\")\n",
        "%cd '/content/drive/MyDrive/Colab Notebooks/Math_Graph/pickle_files'"
      ],
      "metadata": {
        "colab": {
          "base_uri": "https://localhost:8080/",
          "height": 0
        },
        "id": "CuSCLxyxEWlZ",
        "outputId": "c722892d-cc0b-40de-847f-e93d02d87930"
      },
      "execution_count": 55,
      "outputs": [
        {
          "output_type": "stream",
          "name": "stdout",
          "text": [
            "Drive already mounted at /content/drive; to attempt to forcibly remount, call drive.mount(\"/content/drive\", force_remount=True).\n",
            "/content/drive/MyDrive/Colab Notebooks/Math_Graph/pickle_files\n"
          ]
        }
      ]
    },
    {
      "cell_type": "code",
      "source": [
        "# View all pandas columns, rows\n",
        "pd.set_option('display.max_columns', None)\n",
        "pd.set_option('display.max_rows', None)"
      ],
      "metadata": {
        "id": "FlbHeJT1EZQJ"
      },
      "execution_count": 56,
      "outputs": []
    },
    {
      "cell_type": "code",
      "source": [
        "# Define file read function\n",
        "def read_pickle(dict_file):\n",
        "  with open(dict_file, 'rb') as file:\n",
        "    return pickle.load(file)"
      ],
      "metadata": {
        "id": "jDh6B_A7EcKL"
      },
      "execution_count": 57,
      "outputs": []
    },
    {
      "cell_type": "code",
      "source": [
        "# Load custom trained model\n",
        "\n",
        "checkpoint = \"Heather-Driver/distilbert-NER-LinearAlg-finetuned\"\n",
        "tokenizer = AutoTokenizer.from_pretrained(checkpoint, do_lower_case=False)\n",
        "distilbert_model = DistilBertModel.from_pretrained(checkpoint)\n",
        "device = torch.device(\"cuda\" if torch.cuda.is_available() else \"cpu\")"
      ],
      "metadata": {
        "id": "IU0OFbxRZGDF"
      },
      "execution_count": 58,
      "outputs": []
    },
    {
      "cell_type": "code",
      "source": [
        "def extract_window(sentence, predicate, window_size):\n",
        "  \"\"\"This function creates a window around the matching predicate in order to tokenize and later get the span vectors for the window.\n",
        "  The function adjusts according to the window size wanted\"\"\"\n",
        "  tokens = sentence.split()\n",
        "\n",
        "  # Find the starting index of the predicate in the sentence (find all word positions for the predicate)\n",
        "  pattern = re.escape(predicate)  # Escape the predicate string to handle special characters if any\n",
        "  match = re.search(pattern, sentence)\n",
        "\n",
        "  if not match:\n",
        "      return \"Predicate not found in the sentence.\"\n",
        "\n",
        "  # Get the index of where the predicate starts in the list of tokens\n",
        "  start_index = len(sentence[:match.start()].split())  # Token index of the start of predicate\n",
        "\n",
        "  # Define the sample window\n",
        "  start_window = max(0, start_index - window_size)\n",
        "  end_window = min(len(tokens), start_index + len(predicate.split()) + window_size)\n",
        "\n",
        "  # Create the window of words around the predicate\n",
        "  window = tokens[start_window:end_window]\n",
        "\n",
        "  # If the window is too short at the beginning or the end, adjust to take as many as possible\n",
        "  if start_window == 0:\n",
        "      # If the window is at the start, extend the end if possible\n",
        "      end_window = min(len(tokens), start_index + len(predicate.split()) + window_size)\n",
        "  if end_window == len(tokens):\n",
        "      # If the window is at the end, extend the start if possible\n",
        "      start_window = max(0, start_index - window_size)\n",
        "\n",
        "  # Create the window of words around the predicate again after adjustments\n",
        "  window = tokens[start_window:end_window]\n",
        "  return ' '.join(window)\n",
        "\n",
        "def adds_context_window(window_size, df):\n",
        "  for i in range(len(df)):\n",
        "    text = extract_window(df.at[i, 'sentence'], df.at[i, 'predicate'], window_size=window_size)\n",
        "    df.at[i, 'context_window'] = text\n",
        "  return df"
      ],
      "metadata": {
        "id": "nqrXrYsqtyLm"
      },
      "execution_count": 59,
      "outputs": []
    },
    {
      "cell_type": "code",
      "source": [
        "# Read in dictionary\n",
        "predicate_data = read_pickle('predicate_data.pkl')\n",
        "predicate_data = predicate_data.rename(columns={'Window_1': 'context_window', 'Label': 'string_label'})\n",
        "predicate_data.columns = predicate_data.columns.str.lower()"
      ],
      "metadata": {
        "id": "yXGhf-neElw2"
      },
      "execution_count": 60,
      "outputs": []
    },
    {
      "cell_type": "code",
      "source": [
        "# Need mapping of classification tags to their indices for model to use\n",
        "\n",
        "index2tag = {idx:tag for idx, tag in enumerate(predicate_data['string_label'].unique())} # This is just a nonsignificant arbitrary mapping of the label to a number for training the model\n",
        "tag2index = {tag:idx for idx, tag in enumerate(predicate_data['string_label'].unique())} # To lookup indices from tags"
      ],
      "metadata": {
        "id": "kbNLxFcAKtGO"
      },
      "execution_count": 61,
      "outputs": []
    },
    {
      "cell_type": "code",
      "source": [
        "predicate_data['label'] = predicate_data['string_label'].map(tag2index)"
      ],
      "metadata": {
        "id": "OrMStOxQKvpF"
      },
      "execution_count": 62,
      "outputs": []
    },
    {
      "cell_type": "code",
      "source": [
        "predicate_data = adds_context_window(window_size=1, df=predicate_data)"
      ],
      "metadata": {
        "id": "eoLHAqUmGDqo"
      },
      "execution_count": 63,
      "outputs": []
    },
    {
      "cell_type": "code",
      "source": [
        "predicate_data.head(2)"
      ],
      "metadata": {
        "colab": {
          "base_uri": "https://localhost:8080/",
          "height": 112
        },
        "id": "a0WjOqO-5Q3W",
        "outputId": "5cf535a1-8235-404a-c41e-b9875df54627"
      },
      "execution_count": 64,
      "outputs": [
        {
          "output_type": "execute_result",
          "data": {
            "text/plain": [
              "                                            sentence               subject  \\\n",
              "0  The Wishart distribution is used in multivaria...  wishart distribution   \n",
              "1  The Square Root Method is transformed by the a...    Square Root Method   \n",
              "\n",
              "        predicate                                             object  \\\n",
              "0      is used in                            multivariate statistics   \n",
              "1  transformed by  the application of inverse operations to deriv...   \n",
              "\n",
              "  string_label                        context_window  label  \n",
              "0      used in  distribution is used in multivariate      0  \n",
              "1  computation                 is transformed by the      1  "
            ],
            "text/html": [
              "\n",
              "  <div id=\"df-4a54ed0f-9bef-468d-9b3d-b044e0211c64\" class=\"colab-df-container\">\n",
              "    <div>\n",
              "<style scoped>\n",
              "    .dataframe tbody tr th:only-of-type {\n",
              "        vertical-align: middle;\n",
              "    }\n",
              "\n",
              "    .dataframe tbody tr th {\n",
              "        vertical-align: top;\n",
              "    }\n",
              "\n",
              "    .dataframe thead th {\n",
              "        text-align: right;\n",
              "    }\n",
              "</style>\n",
              "<table border=\"1\" class=\"dataframe\">\n",
              "  <thead>\n",
              "    <tr style=\"text-align: right;\">\n",
              "      <th></th>\n",
              "      <th>sentence</th>\n",
              "      <th>subject</th>\n",
              "      <th>predicate</th>\n",
              "      <th>object</th>\n",
              "      <th>string_label</th>\n",
              "      <th>context_window</th>\n",
              "      <th>label</th>\n",
              "    </tr>\n",
              "  </thead>\n",
              "  <tbody>\n",
              "    <tr>\n",
              "      <th>0</th>\n",
              "      <td>The Wishart distribution is used in multivaria...</td>\n",
              "      <td>wishart distribution</td>\n",
              "      <td>is used in</td>\n",
              "      <td>multivariate statistics</td>\n",
              "      <td>used in</td>\n",
              "      <td>distribution is used in multivariate</td>\n",
              "      <td>0</td>\n",
              "    </tr>\n",
              "    <tr>\n",
              "      <th>1</th>\n",
              "      <td>The Square Root Method is transformed by the a...</td>\n",
              "      <td>Square Root Method</td>\n",
              "      <td>transformed by</td>\n",
              "      <td>the application of inverse operations to deriv...</td>\n",
              "      <td>computation</td>\n",
              "      <td>is transformed by the</td>\n",
              "      <td>1</td>\n",
              "    </tr>\n",
              "  </tbody>\n",
              "</table>\n",
              "</div>\n",
              "    <div class=\"colab-df-buttons\">\n",
              "\n",
              "  <div class=\"colab-df-container\">\n",
              "    <button class=\"colab-df-convert\" onclick=\"convertToInteractive('df-4a54ed0f-9bef-468d-9b3d-b044e0211c64')\"\n",
              "            title=\"Convert this dataframe to an interactive table.\"\n",
              "            style=\"display:none;\">\n",
              "\n",
              "  <svg xmlns=\"http://www.w3.org/2000/svg\" height=\"24px\" viewBox=\"0 -960 960 960\">\n",
              "    <path d=\"M120-120v-720h720v720H120Zm60-500h600v-160H180v160Zm220 220h160v-160H400v160Zm0 220h160v-160H400v160ZM180-400h160v-160H180v160Zm440 0h160v-160H620v160ZM180-180h160v-160H180v160Zm440 0h160v-160H620v160Z\"/>\n",
              "  </svg>\n",
              "    </button>\n",
              "\n",
              "  <style>\n",
              "    .colab-df-container {\n",
              "      display:flex;\n",
              "      gap: 12px;\n",
              "    }\n",
              "\n",
              "    .colab-df-convert {\n",
              "      background-color: #E8F0FE;\n",
              "      border: none;\n",
              "      border-radius: 50%;\n",
              "      cursor: pointer;\n",
              "      display: none;\n",
              "      fill: #1967D2;\n",
              "      height: 32px;\n",
              "      padding: 0 0 0 0;\n",
              "      width: 32px;\n",
              "    }\n",
              "\n",
              "    .colab-df-convert:hover {\n",
              "      background-color: #E2EBFA;\n",
              "      box-shadow: 0px 1px 2px rgba(60, 64, 67, 0.3), 0px 1px 3px 1px rgba(60, 64, 67, 0.15);\n",
              "      fill: #174EA6;\n",
              "    }\n",
              "\n",
              "    .colab-df-buttons div {\n",
              "      margin-bottom: 4px;\n",
              "    }\n",
              "\n",
              "    [theme=dark] .colab-df-convert {\n",
              "      background-color: #3B4455;\n",
              "      fill: #D2E3FC;\n",
              "    }\n",
              "\n",
              "    [theme=dark] .colab-df-convert:hover {\n",
              "      background-color: #434B5C;\n",
              "      box-shadow: 0px 1px 3px 1px rgba(0, 0, 0, 0.15);\n",
              "      filter: drop-shadow(0px 1px 2px rgba(0, 0, 0, 0.3));\n",
              "      fill: #FFFFFF;\n",
              "    }\n",
              "  </style>\n",
              "\n",
              "    <script>\n",
              "      const buttonEl =\n",
              "        document.querySelector('#df-4a54ed0f-9bef-468d-9b3d-b044e0211c64 button.colab-df-convert');\n",
              "      buttonEl.style.display =\n",
              "        google.colab.kernel.accessAllowed ? 'block' : 'none';\n",
              "\n",
              "      async function convertToInteractive(key) {\n",
              "        const element = document.querySelector('#df-4a54ed0f-9bef-468d-9b3d-b044e0211c64');\n",
              "        const dataTable =\n",
              "          await google.colab.kernel.invokeFunction('convertToInteractive',\n",
              "                                                    [key], {});\n",
              "        if (!dataTable) return;\n",
              "\n",
              "        const docLinkHtml = 'Like what you see? Visit the ' +\n",
              "          '<a target=\"_blank\" href=https://colab.research.google.com/notebooks/data_table.ipynb>data table notebook</a>'\n",
              "          + ' to learn more about interactive tables.';\n",
              "        element.innerHTML = '';\n",
              "        dataTable['output_type'] = 'display_data';\n",
              "        await google.colab.output.renderOutput(dataTable, element);\n",
              "        const docLink = document.createElement('div');\n",
              "        docLink.innerHTML = docLinkHtml;\n",
              "        element.appendChild(docLink);\n",
              "      }\n",
              "    </script>\n",
              "  </div>\n",
              "\n",
              "\n",
              "<div id=\"df-6978d14f-b2ab-4ff1-a368-8071ac7840a3\">\n",
              "  <button class=\"colab-df-quickchart\" onclick=\"quickchart('df-6978d14f-b2ab-4ff1-a368-8071ac7840a3')\"\n",
              "            title=\"Suggest charts\"\n",
              "            style=\"display:none;\">\n",
              "\n",
              "<svg xmlns=\"http://www.w3.org/2000/svg\" height=\"24px\"viewBox=\"0 0 24 24\"\n",
              "     width=\"24px\">\n",
              "    <g>\n",
              "        <path d=\"M19 3H5c-1.1 0-2 .9-2 2v14c0 1.1.9 2 2 2h14c1.1 0 2-.9 2-2V5c0-1.1-.9-2-2-2zM9 17H7v-7h2v7zm4 0h-2V7h2v10zm4 0h-2v-4h2v4z\"/>\n",
              "    </g>\n",
              "</svg>\n",
              "  </button>\n",
              "\n",
              "<style>\n",
              "  .colab-df-quickchart {\n",
              "      --bg-color: #E8F0FE;\n",
              "      --fill-color: #1967D2;\n",
              "      --hover-bg-color: #E2EBFA;\n",
              "      --hover-fill-color: #174EA6;\n",
              "      --disabled-fill-color: #AAA;\n",
              "      --disabled-bg-color: #DDD;\n",
              "  }\n",
              "\n",
              "  [theme=dark] .colab-df-quickchart {\n",
              "      --bg-color: #3B4455;\n",
              "      --fill-color: #D2E3FC;\n",
              "      --hover-bg-color: #434B5C;\n",
              "      --hover-fill-color: #FFFFFF;\n",
              "      --disabled-bg-color: #3B4455;\n",
              "      --disabled-fill-color: #666;\n",
              "  }\n",
              "\n",
              "  .colab-df-quickchart {\n",
              "    background-color: var(--bg-color);\n",
              "    border: none;\n",
              "    border-radius: 50%;\n",
              "    cursor: pointer;\n",
              "    display: none;\n",
              "    fill: var(--fill-color);\n",
              "    height: 32px;\n",
              "    padding: 0;\n",
              "    width: 32px;\n",
              "  }\n",
              "\n",
              "  .colab-df-quickchart:hover {\n",
              "    background-color: var(--hover-bg-color);\n",
              "    box-shadow: 0 1px 2px rgba(60, 64, 67, 0.3), 0 1px 3px 1px rgba(60, 64, 67, 0.15);\n",
              "    fill: var(--button-hover-fill-color);\n",
              "  }\n",
              "\n",
              "  .colab-df-quickchart-complete:disabled,\n",
              "  .colab-df-quickchart-complete:disabled:hover {\n",
              "    background-color: var(--disabled-bg-color);\n",
              "    fill: var(--disabled-fill-color);\n",
              "    box-shadow: none;\n",
              "  }\n",
              "\n",
              "  .colab-df-spinner {\n",
              "    border: 2px solid var(--fill-color);\n",
              "    border-color: transparent;\n",
              "    border-bottom-color: var(--fill-color);\n",
              "    animation:\n",
              "      spin 1s steps(1) infinite;\n",
              "  }\n",
              "\n",
              "  @keyframes spin {\n",
              "    0% {\n",
              "      border-color: transparent;\n",
              "      border-bottom-color: var(--fill-color);\n",
              "      border-left-color: var(--fill-color);\n",
              "    }\n",
              "    20% {\n",
              "      border-color: transparent;\n",
              "      border-left-color: var(--fill-color);\n",
              "      border-top-color: var(--fill-color);\n",
              "    }\n",
              "    30% {\n",
              "      border-color: transparent;\n",
              "      border-left-color: var(--fill-color);\n",
              "      border-top-color: var(--fill-color);\n",
              "      border-right-color: var(--fill-color);\n",
              "    }\n",
              "    40% {\n",
              "      border-color: transparent;\n",
              "      border-right-color: var(--fill-color);\n",
              "      border-top-color: var(--fill-color);\n",
              "    }\n",
              "    60% {\n",
              "      border-color: transparent;\n",
              "      border-right-color: var(--fill-color);\n",
              "    }\n",
              "    80% {\n",
              "      border-color: transparent;\n",
              "      border-right-color: var(--fill-color);\n",
              "      border-bottom-color: var(--fill-color);\n",
              "    }\n",
              "    90% {\n",
              "      border-color: transparent;\n",
              "      border-bottom-color: var(--fill-color);\n",
              "    }\n",
              "  }\n",
              "</style>\n",
              "\n",
              "  <script>\n",
              "    async function quickchart(key) {\n",
              "      const quickchartButtonEl =\n",
              "        document.querySelector('#' + key + ' button');\n",
              "      quickchartButtonEl.disabled = true;  // To prevent multiple clicks.\n",
              "      quickchartButtonEl.classList.add('colab-df-spinner');\n",
              "      try {\n",
              "        const charts = await google.colab.kernel.invokeFunction(\n",
              "            'suggestCharts', [key], {});\n",
              "      } catch (error) {\n",
              "        console.error('Error during call to suggestCharts:', error);\n",
              "      }\n",
              "      quickchartButtonEl.classList.remove('colab-df-spinner');\n",
              "      quickchartButtonEl.classList.add('colab-df-quickchart-complete');\n",
              "    }\n",
              "    (() => {\n",
              "      let quickchartButtonEl =\n",
              "        document.querySelector('#df-6978d14f-b2ab-4ff1-a368-8071ac7840a3 button');\n",
              "      quickchartButtonEl.style.display =\n",
              "        google.colab.kernel.accessAllowed ? 'block' : 'none';\n",
              "    })();\n",
              "  </script>\n",
              "</div>\n",
              "\n",
              "    </div>\n",
              "  </div>\n"
            ],
            "application/vnd.google.colaboratory.intrinsic+json": {
              "type": "dataframe",
              "variable_name": "predicate_data",
              "summary": "{\n  \"name\": \"predicate_data\",\n  \"rows\": 440,\n  \"fields\": [\n    {\n      \"column\": \"sentence\",\n      \"properties\": {\n        \"dtype\": \"string\",\n        \"num_unique_values\": 376,\n        \"samples\": [\n          \"Schweins's Theorem is specialized by the study of topological spaces and their compactness properties.\",\n          \"The transition matrix can be solved by employing algorithms that calculate the steady-state distribution, allowing researchers to determine the long-term behavior of the Markov process.\",\n          \"In many applications, the concept of a nonpositive matrix is useful for modeling relationships that inherently involve non-positive interactions, such as certain types of resource allocation problems.\"\n        ],\n        \"semantic_type\": \"\",\n        \"description\": \"\"\n      }\n    },\n    {\n      \"column\": \"subject\",\n      \"properties\": {\n        \"dtype\": \"string\",\n        \"num_unique_values\": 328,\n        \"samples\": [\n          \"refined alternating sign matrix conjecture\",\n          \"Singular System\",\n          \"Immanant\"\n        ],\n        \"semantic_type\": \"\",\n        \"description\": \"\"\n      }\n    },\n    {\n      \"column\": \"predicate\",\n      \"properties\": {\n        \"dtype\": \"category\",\n        \"num_unique_values\": 193,\n        \"samples\": [\n          \"is a special type of\",\n          \"is influenced by\",\n          \"has components\"\n        ],\n        \"semantic_type\": \"\",\n        \"description\": \"\"\n      }\n    },\n    {\n      \"column\": \"object\",\n      \"properties\": {\n        \"dtype\": \"string\",\n        \"num_unique_values\": 372,\n        \"samples\": [\n          \"understanding matrix transformations and their effects on vector spaces\",\n          \"the diagonal of the parallelogram formed by the two original vectors\",\n          \"transpose operations combined with complex conjugation\"\n        ],\n        \"semantic_type\": \"\",\n        \"description\": \"\"\n      }\n    },\n    {\n      \"column\": \"string_label\",\n      \"properties\": {\n        \"dtype\": \"category\",\n        \"num_unique_values\": 11,\n        \"samples\": [\n          \"represented\",\n          \"used in\",\n          \"verification\"\n        ],\n        \"semantic_type\": \"\",\n        \"description\": \"\"\n      }\n    },\n    {\n      \"column\": \"context_window\",\n      \"properties\": {\n        \"dtype\": \"string\",\n        \"num_unique_values\": 336,\n        \"samples\": [\n          \"product has subclass characteristics\",\n          \"fundamentally related to the\",\n          \"morphism coincides with the\"\n        ],\n        \"semantic_type\": \"\",\n        \"description\": \"\"\n      }\n    },\n    {\n      \"column\": \"label\",\n      \"properties\": {\n        \"dtype\": \"number\",\n        \"std\": 3,\n        \"min\": 0,\n        \"max\": 10,\n        \"num_unique_values\": 11,\n        \"samples\": [\n          5,\n          0,\n          9\n        ],\n        \"semantic_type\": \"\",\n        \"description\": \"\"\n      }\n    }\n  ]\n}"
            }
          },
          "metadata": {},
          "execution_count": 64
        }
      ]
    },
    {
      "cell_type": "code",
      "source": [
        "X_train_indices, X_test_indices, y_train_indices, y_test_indices = train_test_split(predicate_data.index.to_numpy(), predicate_data['label'].to_numpy(),\n",
        "                                                                                    test_size=0.05, random_state=42, stratify=predicate_data['label'].to_numpy())\n",
        "\n",
        "# Repeat to get validation sub-sample of Train\n",
        "X_train_indices, X_valid_indices, y_train_indices, y_valid_indices = train_test_split(X_train_indices, y_train_indices, test_size=0.3, random_state=42, stratify=y_train_indices)"
      ],
      "metadata": {
        "id": "N5Fm-l7aU946"
      },
      "execution_count": 65,
      "outputs": []
    },
    {
      "cell_type": "markdown",
      "source": [
        "## Preprocessing"
      ],
      "metadata": {
        "id": "uqEkPdbEWy44"
      }
    },
    {
      "cell_type": "code",
      "source": [
        "dataset = Dataset.from_pandas(predicate_data[['sentence', 'label', 'context_window', 'predicate']])"
      ],
      "metadata": {
        "id": "HeiylYQsZqKz"
      },
      "execution_count": 66,
      "outputs": []
    },
    {
      "cell_type": "code",
      "source": [
        "# Select subsets of the dataset for train, test and validation\n",
        "train_split = dataset.select(X_train_indices)\n",
        "test_split = dataset.select(X_test_indices)\n",
        "valid_split = dataset.select(X_valid_indices)\n",
        "\n",
        "dataset = DatasetDict({\n",
        "    'train': train_split,\n",
        "    'test': test_split,\n",
        "    'validation': valid_split\n",
        "})"
      ],
      "metadata": {
        "id": "hYqjVxrhMaku"
      },
      "execution_count": 67,
      "outputs": []
    },
    {
      "cell_type": "code",
      "source": [
        "def preprocess_function_predicate(examples):\n",
        "  context_inputs = tokenizer(examples[\"predicate\"], return_tensors=\"pt\", add_special_tokens=False, truncation=True, padding=\"max_length\", max_length=256)\n",
        "  return context_inputs\n",
        "\n",
        "dataset = dataset.map(preprocess_function_predicate, batched=True)\n",
        "# Rename the 'attention_mask' column to 'context_attention_mask'\n",
        "dataset = dataset.rename_columns({\"attention_mask\": \"predicate_attention_mask\", \"input_ids\": \"predicate_input_ids\"})"
      ],
      "metadata": {
        "colab": {
          "base_uri": "https://localhost:8080/",
          "height": 113,
          "referenced_widgets": [
            "68f870701f124d5781d2c10bf250cf58",
            "6d90e3d103ec433294583f36df949707",
            "900c085f598847d5960c663d7e7e4abd",
            "f666e765555a449eadcb70bfdf2092ee",
            "2d917005fe85453886419ef181d83527",
            "c0b23f0817b6400b83ae68f73fc3760b",
            "d7a224c030ca4dd3b03e77fa54be04a7",
            "1b8babc53dea4941b8089a5c0b8228c7",
            "a275e0c5b3ec4afc8f74951dfa8dfcb2",
            "1d1281bcf30440e49626f43cfb76c797",
            "3f347e1a0763431095af94bdd06c66ef",
            "47cbf9374d3f4c4e9f193227bee116a0",
            "a5d42711308c418db0073f11fcfa9044",
            "0741ec13ae5d4b9c8202f83aaf1ccf12",
            "63b01a9fe4c44afca5a85233b35b3406",
            "1c43e484c9604592b49ccfd55163328f",
            "1fccf163fffe46fbb680da89239fec28",
            "2a99df7022684e8a81732b17528a582e",
            "3cd06e70da6642ddaacc6f00ebe0d7be",
            "794f378dbb154f36bc8c6a17d0536867",
            "b96c443fed2441fe9b6f44d18cea7f39",
            "d74155c29b92438b80b58b249aa8c572",
            "d2c0cb501c2545f28e2059e66a94fa90",
            "eda9e50af4df45379911df7ecb664e91",
            "d373959ee08141cd92a3710bf4bfcfa0",
            "16ebc3df5cd842149536ca4a332129fd",
            "2f3bcb578ec3435897e45f005e8fb74b",
            "f42e95b25da843d99f6bd05f913e5bea",
            "4e81c1dadbf046d1a99fc772dfd3a697",
            "ddcf4b814b4e450b8d20b3b0839c07dc",
            "04e3f089b8054a23929087e14f547a9d",
            "bd6a8efe524d4210a73c75f8e99d94b1",
            "b2e1ee50f5264c28a08bac2d55607e96"
          ]
        },
        "id": "WoJjnbcoRpYU",
        "outputId": "949de892-7a54-4bb3-fa9c-47079fa901af"
      },
      "execution_count": 68,
      "outputs": [
        {
          "output_type": "display_data",
          "data": {
            "text/plain": [
              "Map:   0%|          | 0/292 [00:00<?, ? examples/s]"
            ],
            "application/vnd.jupyter.widget-view+json": {
              "version_major": 2,
              "version_minor": 0,
              "model_id": "68f870701f124d5781d2c10bf250cf58"
            }
          },
          "metadata": {}
        },
        {
          "output_type": "display_data",
          "data": {
            "text/plain": [
              "Map:   0%|          | 0/22 [00:00<?, ? examples/s]"
            ],
            "application/vnd.jupyter.widget-view+json": {
              "version_major": 2,
              "version_minor": 0,
              "model_id": "47cbf9374d3f4c4e9f193227bee116a0"
            }
          },
          "metadata": {}
        },
        {
          "output_type": "display_data",
          "data": {
            "text/plain": [
              "Map:   0%|          | 0/126 [00:00<?, ? examples/s]"
            ],
            "application/vnd.jupyter.widget-view+json": {
              "version_major": 2,
              "version_minor": 0,
              "model_id": "d2c0cb501c2545f28e2059e66a94fa90"
            }
          },
          "metadata": {}
        }
      ]
    },
    {
      "cell_type": "code",
      "source": [
        "def preprocess_function_context(examples):\n",
        "  context_inputs = tokenizer(examples[\"context_window\"], return_tensors=\"pt\", add_special_tokens=True, truncation=True, padding=\"max_length\", max_length=256)\n",
        "  return context_inputs\n",
        "\n",
        "dataset = dataset.map(preprocess_function_context, batched=True)\n",
        "# Rename the 'attention_mask' column to 'context_attention_mask'\n",
        "dataset = dataset.rename_columns({\"attention_mask\": \"context_attention_mask\", \"input_ids\": \"context_input_ids\"})"
      ],
      "metadata": {
        "id": "VDz-FMAyWyZX",
        "colab": {
          "base_uri": "https://localhost:8080/",
          "height": 113,
          "referenced_widgets": [
            "4a7c38ee1f6c4bd987f0678558361875",
            "a8ae8d8981944942ad8bb73a34f65a62",
            "bc84c640f45446e7b3d80d3f95d4b01b",
            "64c87f7111974b57a926babcf72c75b3",
            "a7cbbd4121d04235b59d0ac6a29d854a",
            "b137201a551d471baeb2f14f301fda7d",
            "3f2adce770f34627b11b9f5cb246806f",
            "b2ee46411ceb4a5db5436e1a0f8b66a5",
            "299d4bcc6f0b49a2bb339b7b7e0c43f2",
            "f7aaac8d5e584040b3c3edc3dbab8d86",
            "e39f6683294b4cbb83c566dd9c0bf7e6",
            "4922a67d7403472897fa8bcc2b14a583",
            "8531f4a9d947479bb6ddc1b55072ed48",
            "2626e9a8f8ab4b58b4b88dd49b471cd3",
            "b8fe85e6211e4d93adfcd29cbffce0b9",
            "9fd58ad948e14e19b79b37e507368f79",
            "0ce513cd8c1c49e69d649b0002e8a659",
            "aa30abef2e674440a8868f33e44712ae",
            "bf0fb570e77242d599be700ddc5986f1",
            "14eef7b667a94826b2b74133b7e534ae",
            "e085b28298bf49e38be0afa69ffb4a5d",
            "75cd758ee1074ccd91c51e946bae0a36",
            "213457fe28524d0d892af0527abc8111",
            "347f65bccb2748d79c941d232836a87b",
            "1b71aec9d7f842d997ca62c00c23ddf3",
            "7a51475ed6a64729a44998e123bbe132",
            "022ece6d30744fffa7ebaa59e27162ba",
            "af5012a76242474c9f0e137522723d86",
            "e14822718a5b4dccad639db879b889a8",
            "76d933cf638d4dbabacaa14603fbddcc",
            "457a1c423a334f67a7666e27f781cf22",
            "b63330ef824f4923869b2b94af35767c",
            "9433a2218c9a4da88be4f9bd1baf95e6"
          ]
        },
        "outputId": "6c1d474e-248d-4f91-f702-cd29009dfd5a"
      },
      "execution_count": 69,
      "outputs": [
        {
          "output_type": "display_data",
          "data": {
            "text/plain": [
              "Map:   0%|          | 0/292 [00:00<?, ? examples/s]"
            ],
            "application/vnd.jupyter.widget-view+json": {
              "version_major": 2,
              "version_minor": 0,
              "model_id": "4a7c38ee1f6c4bd987f0678558361875"
            }
          },
          "metadata": {}
        },
        {
          "output_type": "display_data",
          "data": {
            "text/plain": [
              "Map:   0%|          | 0/22 [00:00<?, ? examples/s]"
            ],
            "application/vnd.jupyter.widget-view+json": {
              "version_major": 2,
              "version_minor": 0,
              "model_id": "4922a67d7403472897fa8bcc2b14a583"
            }
          },
          "metadata": {}
        },
        {
          "output_type": "display_data",
          "data": {
            "text/plain": [
              "Map:   0%|          | 0/126 [00:00<?, ? examples/s]"
            ],
            "application/vnd.jupyter.widget-view+json": {
              "version_major": 2,
              "version_minor": 0,
              "model_id": "213457fe28524d0d892af0527abc8111"
            }
          },
          "metadata": {}
        }
      ]
    },
    {
      "cell_type": "code",
      "source": [
        "def preprocess_function(examples):\n",
        "  inputs = tokenizer(examples[\"sentence\"], return_tensors=\"pt\", add_special_tokens=True, truncation=True, padding=\"max_length\", max_length=256)\n",
        "  return inputs\n",
        "\n",
        "dataset = dataset.map(preprocess_function, batched=True)\n",
        "\n",
        "dataset.set_format(type='torch', columns=['input_ids', 'attention_mask', 'label', 'context_attention_mask', 'context_input_ids', 'predicate_attention_mask', 'predicate_input_ids'])"
      ],
      "metadata": {
        "id": "blVRdINTdldr",
        "colab": {
          "base_uri": "https://localhost:8080/",
          "height": 113,
          "referenced_widgets": [
            "0a90b81d32c744a8b36e320023c494a3",
            "e28324046ff8415881ab44745a9d3858",
            "12519049d1964a639facd683a5a1feed",
            "804004edc7064bf3a0137c8e5c2bf4b5",
            "8b4bfd6e0aca4595838067fde9e648ee",
            "17cccefef010442194ca0484507e1a9e",
            "6487094af54d44ec82607b0a41bb80a3",
            "a5295fc7ddc843448448f511d979ed38",
            "b8bc06ed236442d19ca332e6c9ea0785",
            "a9ab6c24020d470b924ccdbf676321f8",
            "b8ff76113191405eabf803461cadb694",
            "783d0a36e27643cf869b38f7fcca5f29",
            "86152d7be0e8430886fac135bbe68459",
            "fa04f8adf90c4b24ab4fc3207a5a3461",
            "7edf5a1605564f178ce8aec08b9c9628",
            "8ed9ebb173a245fc9442f3c4cdec2943",
            "25976acc22074ad6b6ae8b9b33bc6618",
            "80d3891393f94a259d40e255d75c14a4",
            "5549439e57524895b358c94765c5591e",
            "c466f868f6454aa191ea72f420914de9",
            "e3eebde90ffb4ff7bb98d92a0c617a6b",
            "09d1220e20cf42889e3206e647a82be3",
            "2061c6392d7f42f196ff6e751a310a24",
            "ba14f8e26f7f4b5da288bc12153793f2",
            "b4c1239a5ac34544a96791a699b1b26e",
            "bc3a65086b0f410eac36c6d0988a1fdd",
            "ae808dbcbcfb49ddab816bb6a1755e1a",
            "24e2c950f3c449bf80d7e8e5f12d75b1",
            "f37bde1931b8453dba6b8881a1fadd15",
            "5325d31a492f451186d11b48bd99a294",
            "9ea5c07d06d3418ea0777d541a81fb94",
            "6981134d31484eb8a110e30c0b66fa06",
            "9611574ee072404b899b2a5c0bffdd0a"
          ]
        },
        "outputId": "ef9f2b12-8b4d-4a78-9d1e-74b148bc7824"
      },
      "execution_count": 70,
      "outputs": [
        {
          "output_type": "display_data",
          "data": {
            "text/plain": [
              "Map:   0%|          | 0/292 [00:00<?, ? examples/s]"
            ],
            "application/vnd.jupyter.widget-view+json": {
              "version_major": 2,
              "version_minor": 0,
              "model_id": "0a90b81d32c744a8b36e320023c494a3"
            }
          },
          "metadata": {}
        },
        {
          "output_type": "display_data",
          "data": {
            "text/plain": [
              "Map:   0%|          | 0/22 [00:00<?, ? examples/s]"
            ],
            "application/vnd.jupyter.widget-view+json": {
              "version_major": 2,
              "version_minor": 0,
              "model_id": "783d0a36e27643cf869b38f7fcca5f29"
            }
          },
          "metadata": {}
        },
        {
          "output_type": "display_data",
          "data": {
            "text/plain": [
              "Map:   0%|          | 0/126 [00:00<?, ? examples/s]"
            ],
            "application/vnd.jupyter.widget-view+json": {
              "version_major": 2,
              "version_minor": 0,
              "model_id": "2061c6392d7f42f196ff6e751a310a24"
            }
          },
          "metadata": {}
        }
      ]
    },
    {
      "cell_type": "markdown",
      "source": [
        "## Developing the Model Parameters"
      ],
      "metadata": {
        "id": "7mRKNiTsIOPD"
      }
    },
    {
      "cell_type": "code",
      "source": [
        "class DistilBertForSentenceClassificationSpan(DistilBertPreTrainedModel):\n",
        "  config_class = DistilBertConfig\n",
        "\n",
        "  def __init__(self, config):\n",
        "    super().__init__(config)\n",
        "    self.num_labels = config.num_labels\n",
        "    # Model body\n",
        "    self.distilbert = distilbert_model\n",
        "    # Attention mechanism for context\n",
        "    self.attention_w = nn.Parameter(torch.randn(config.hidden_size))  # Trainable attention vector\n",
        "    self.attention_bias = nn.Parameter(torch.zeros(1))  # Bias term for attention\n",
        "    # Lookup table for context width embeddings\n",
        "    self.width_embedding = nn.Embedding(config.max_position_embeddings, config.hidden_size)\n",
        "    # Classification head\n",
        "    self.classifier = nn.Linear(768 * 3, self.num_labels)  # Span * 3 (CLS, span, width)\n",
        "\n",
        "  def _attention_weight_embedding(self, context_input_ids, context_attention_mask):\n",
        "    outputs = self.distilbert(input_ids=context_input_ids, attention_mask=context_attention_mask, output_attentions=False)\n",
        "    context_embeddings = outputs.last_hidden_state  # shape: [batch_size, seq_len, hidden_size] torch.Size([batch_size, 512, 768]) --> 512 to 256\n",
        "    # print('context_embeddings', context_embeddings.shape)\n",
        "    # attention scores\n",
        "    attention_scores = torch.matmul(context_embeddings, self.attention_w) + self.attention_bias  # shape: [batch_size, seq_len, 1] torch.Size([1, 512, 1])\n",
        "    # print('attention_scores', attention_scores.shape)\n",
        "\n",
        "    # get attention weights from softmax\n",
        "    attention_weights = torch.nn.functional.softmax(attention_scores, dim=-1)  # shape: [batch_size, num_heads, seq_len, seq_len] torch.Size([1, 12, 512, 512])\n",
        "    # print('attention_weights', attention_weights.shape)\n",
        "    attention_weights = attention_weights.unsqueeze(-1)\n",
        "    # print('attention_weights', attention_weights.shape)\n",
        "\n",
        "    # # Weighted sum of span embeddings to get the final attention span representation\n",
        "    # weighted_context_embeddings = attention_weights * context_embeddings.unsqueeze(2)  # shape: [1, 12, 512, 512, 768]\n",
        "\n",
        "    weighted_span_embeddings = torch.sum(attention_weights * context_embeddings, dim=1)  # shape: [1, 768]\n",
        "    # print('weighted_span_embeddings', weighted_span_embeddings.shape)\n",
        "\n",
        "    return weighted_span_embeddings #span representation [1, 768]\n",
        "\n",
        "  def _cls_embeddings(self, input_ids, attention_mask):\n",
        "    outputs = self.distilbert(input_ids=input_ids, attention_mask=attention_mask)\n",
        "    embeddings = outputs.last_hidden_state # shape [1, 512, 768]\n",
        "    cls_embedding = embeddings[:, 0:1, :].squeeze(1)  # squeeze converts [1, 1, 768] to [1, 768]\n",
        "    return cls_embedding\n",
        "\n",
        "  def _width_embeddings(self, context_input_ids):\n",
        "    span_length = context_input_ids.ne(0).sum(dim=1) -2\n",
        "    # Ensure no negative or zero indices (minimum span length should be 1)\n",
        "    span_length = torch.clamp(span_length, min=1)\n",
        "    width_embedding = self.width_embedding(span_length)\n",
        "    return width_embedding\n",
        "\n",
        "  def forward(self, context_input_ids=None, context_attention_mask=None, input_ids=None, attention_mask=None, token_type_ids=None, labels=None, **kwargs):\n",
        "    # Get embeddings from attention weights\n",
        "    attention_weight_embedding = self._attention_weight_embedding(context_input_ids=context_input_ids, context_attention_mask=context_attention_mask)\n",
        "    # Get width embedding\n",
        "    width_embedding = self._width_embeddings(context_input_ids=context_input_ids)\n",
        "    # Get CLS token embedding\n",
        "    cls_embedding = self._cls_embeddings(input_ids=input_ids, attention_mask=attention_mask)\n",
        "    # Concatenate span representation, [CLS] embedding, and width embedding\n",
        "    final_representation = torch.cat((attention_weight_embedding, cls_embedding, width_embedding), dim=-1)  # shape: [batch_size, 768*3]\n",
        "    # Classifier on concat\n",
        "    logits = self.classifier(final_representation)\n",
        "    # Loss calc\n",
        "    loss = None\n",
        "    if labels is not None:\n",
        "      loss_fct = nn.CrossEntropyLoss()\n",
        "      loss = loss_fct(logits.view(-1, self.num_labels), labels.view(-1))\n",
        "    return SequenceClassifierOutput(loss=loss, logits=logits)"
      ],
      "metadata": {
        "id": "zDkPHAcQuOIW"
      },
      "execution_count": 71,
      "outputs": []
    },
    {
      "cell_type": "code",
      "source": [
        "config = DistilBertConfig.from_pretrained(\"Heather-Driver/distilbert-NER-LinearAlg-finetuned\")\n",
        "config.label2id = tag2index\n",
        "config.id2label = index2tag\n",
        "config.num_labels = len(index2tag)\n",
        "\n",
        "model = DistilBertForSentenceClassificationSpan(config)\n",
        "model.to(device)\n",
        "model.gradient_checkpointing_enable()"
      ],
      "metadata": {
        "id": "PIozTIshNWQo"
      },
      "execution_count": 72,
      "outputs": []
    },
    {
      "cell_type": "code",
      "source": [
        "data_collator = DataCollatorWithPadding(\n",
        "    tokenizer=tokenizer,\n",
        "    return_tensors=\"pt\",\n",
        ")"
      ],
      "metadata": {
        "id": "I7S6gA8uGjBR"
      },
      "execution_count": 73,
      "outputs": []
    },
    {
      "cell_type": "code",
      "source": [
        "def compute_metrics(pred):\n",
        "  labels = pred.label_ids\n",
        "  preds = pred.predictions.argmax(-1)\n",
        "  f1 = f1_score(labels, preds, average=\"weighted\") #y_true, y_pred\n",
        "  acc = accuracy_score(labels, preds)\n",
        "  precision = precision_score(labels, preds, average=\"weighted\")\n",
        "  recall = recall_score(labels, preds, average=\"weighted\")\n",
        "  return {\"accuracy\": acc, \"f1\": f1, \"precision\": precision, \"recall\": recall}"
      ],
      "metadata": {
        "id": "QquCJ5Xd851d"
      },
      "execution_count": 74,
      "outputs": []
    },
    {
      "cell_type": "markdown",
      "source": [
        "## Nevergrad optimisation"
      ],
      "metadata": {
        "id": "lNJx2RHbncA3"
      }
    },
    {
      "cell_type": "code",
      "source": [
        "# Load the best hyperparameters from the pickle file\n",
        "with open(\"best_hyperparameters.pkl\", \"rb\") as f:\n",
        "    best_params = pickle.load(f)\n",
        "\n",
        "print(\"Loaded best hyperparameters:\", best_params)\n",
        "\n",
        "# You can now use these hyperparameters, for example:\n",
        "# train_and_evaluate(**best_hyperparameters, name=\"final_model_run\")"
      ],
      "metadata": {
        "colab": {
          "base_uri": "https://localhost:8080/",
          "height": 0
        },
        "id": "Ui26ZggQD3RM",
        "outputId": "2fafbc90-55e9-4dc9-88f3-7e58714b558e"
      },
      "execution_count": 75,
      "outputs": [
        {
          "output_type": "stream",
          "name": "stdout",
          "text": [
            "Loaded best hyperparameters: {'learning_rate': 0.000400459958213354, 'batch_size': 32, 'weight_decay': 0.0007264477434506173, 'warmup_steps': 500, 'gradient_accumulation_steps': 2}\n"
          ]
        }
      ]
    },
    {
      "cell_type": "code",
      "source": [
        "%cd '/content/drive/MyDrive/Colab Notebooks/Math_Graph/Model/transformers_cache'"
      ],
      "metadata": {
        "colab": {
          "base_uri": "https://localhost:8080/",
          "height": 0
        },
        "id": "qx4amfHlCgUE",
        "outputId": "52615b39-9734-4bd0-fc8c-69c4de5cb4c4"
      },
      "execution_count": 76,
      "outputs": [
        {
          "output_type": "stream",
          "name": "stdout",
          "text": [
            "[Errno 2] No such file or directory: '/content/drive/MyDrive/Colab Notebooks/Math_Graph/Model/transformers_cache'\n",
            "/content/drive/MyDrive/Colab Notebooks/Math_Graph/pickle_files\n"
          ]
        }
      ]
    },
    {
      "cell_type": "code",
      "source": [
        "  # Set output_dir in TrainingArguments to this temporary folder.\n",
        "  # After exiting the with-block, the directory is deleted.\n",
        "os.environ[\"TRANSFORMERS_CACHE\"] = '/content/drive/MyDrive/Colab Notebooks/Math_Graph/Model/transformers_cache'"
      ],
      "metadata": {
        "id": "0S2uLP8vAEsu"
      },
      "execution_count": 77,
      "outputs": []
    },
    {
      "cell_type": "code",
      "source": [
        "def train_and_evaluate(learning_rate, batch_size, weight_decay, warmup_steps, gradient_accumulation_steps, name):\n",
        "  \"\"\"Function to train the model with different hyperparameters\"\"\"\n",
        "  output_dir = '/content/drive/MyDrive/Colab Notebooks/Math_Graph/Model/' + name\n",
        "  training_arguments = TrainingArguments(\n",
        "      output_dir=output_dir,\n",
        "      run_name=name,\n",
        "      log_level=\"error\",\n",
        "      num_train_epochs=25,  # Keeping epochs fixed for now\n",
        "      per_device_train_batch_size=int(batch_size),\n",
        "      per_device_eval_batch_size=int(batch_size),\n",
        "      learning_rate=learning_rate,\n",
        "      weight_decay=weight_decay,\n",
        "      warmup_steps=int(warmup_steps),\n",
        "      gradient_accumulation_steps=int(gradient_accumulation_steps),\n",
        "      eval_strategy=\"no\",\n",
        "      save_strategy=\"no\",\n",
        "      disable_tqdm=True,  # Avoid flooding the output\n",
        "      report_to=[\"wandb\"],\n",
        "      load_best_model_at_end=True,\n",
        "      push_to_hub=False,\n",
        "      greater_is_better=True,\n",
        "      save_safetensors=True,\n",
        "      save_total_limit=1,\n",
        "  )\n",
        "\n",
        "  trainer = Trainer(\n",
        "      model=model,\n",
        "      args=training_arguments,\n",
        "      train_dataset=dataset[\"train\"],\n",
        "      eval_dataset=dataset[\"validation\"],\n",
        "      tokenizer=tokenizer,\n",
        "      data_collator=data_collator,\n",
        "      compute_metrics=compute_metrics,\n",
        "  )\n",
        "\n",
        "  # Train and evaluate\n",
        "  trainer.train()\n",
        "  metrics = trainer.evaluate()\n",
        "\n",
        "  # Finish the current W&B run so that a new run is created next time\n",
        "  wandb.finish()\n",
        "\n",
        "  # Delete the output directory to free disk space\n",
        "  shutil.rmtree(output_dir, ignore_errors=True)\n",
        "\n",
        "  # Return negative F1-score (Nevergrad minimizes)\n",
        "  return -metrics[\"eval_f1\"]\n",
        "\n",
        "# Define the hyperparameter search space using Instrumentation\n",
        "instrum = ng.p.Instrumentation(\n",
        "    learning_rate=ng.p.Log(lower=1e-6, upper=1e-3),        # Logarithmic scale\n",
        "    batch_size=ng.p.TransitionChoice([4, 8, 16, 32]),\n",
        "    weight_decay=ng.p.Log(lower=1e-5, upper=1e-1),\n",
        "    warmup_steps=ng.p.TransitionChoice([100, 500, 1000, 2000]),\n",
        "    gradient_accumulation_steps=ng.p.TransitionChoice([1, 2, 4])\n",
        ")\n",
        "\n",
        "# Initialize the optimizer with the instrumentation and a budget\n",
        "optimizer = ng.optimizers.OnePlusOne(instrum, budget=20)  # 20 iterations\n",
        "\n",
        "# Define a wrapper function that takes a dictionary of parameters and unpacks them for train_and_evaluate\n",
        "# Wrapper function with dynamic naming\n",
        "def objective_function_wrapper(**parameters):\n",
        "    # Construct a unique name from the hyperparameters\n",
        "    combo_name = (\n",
        "        f\"lr_{parameters['learning_rate']:.1e}_\"\n",
        "        f\"bs_{parameters['batch_size']}_\"\n",
        "        f\"wd_{parameters['weight_decay']:.1e}_\"\n",
        "        f\"ws_{parameters['warmup_steps']}_\"\n",
        "        f\"gas_{parameters['gradient_accumulation_steps']}\"\n",
        "    )\n",
        "    combo_name = \"ns_model_window_1\" + combo_name\n",
        "    return train_and_evaluate(**parameters, name=combo_name)\n",
        "\n",
        "# Update the optimizer.minimize call to use the wrapper function\n",
        "recommendation = optimizer.minimize(objective_function_wrapper)\n",
        "\n",
        "# Print the best hyperparameters found\n",
        "print(\"Best hyperparameters:\", recommendation.kwargs)\n",
        "\n",
        "# Save best hyperparameters to a pickle file\n",
        "with open(\"best_hyperparameters.pkl\", \"wb\") as f:\n",
        "    pickle.dump(recommendation.kwargs, f)\n",
        "\n",
        "print(\"Best hyperparameters:\", recommendation.kwargs)\n",
        "best_params = recommendation.kwargs"
      ],
      "metadata": {
        "colab": {
          "base_uri": "https://localhost:8080/",
          "height": 1000
        },
        "id": "R7JbsLURni9h",
        "outputId": "00bf837d-276a-4a16-c091-f334057db3a4"
      },
      "execution_count": 78,
      "outputs": [
        {
          "output_type": "stream",
          "name": "stderr",
          "text": [
            "<ipython-input-78-e282a38656c6>:26: FutureWarning: `tokenizer` is deprecated and will be removed in version 5.0.0 for `Trainer.__init__`. Use `processing_class` instead.\n",
            "  trainer = Trainer(\n"
          ]
        },
        {
          "output_type": "display_data",
          "data": {
            "text/plain": [
              "<IPython.core.display.HTML object>"
            ],
            "text/html": [
              "Tracking run with wandb version 0.19.7"
            ]
          },
          "metadata": {}
        },
        {
          "output_type": "display_data",
          "data": {
            "text/plain": [
              "<IPython.core.display.HTML object>"
            ],
            "text/html": [
              "Run data is saved locally in <code>/content/drive/MyDrive/Colab Notebooks/Math_Graph/pickle_files/wandb/run-20250302_151238-sat5x5pn</code>"
            ]
          },
          "metadata": {}
        },
        {
          "output_type": "display_data",
          "data": {
            "text/plain": [
              "<IPython.core.display.HTML object>"
            ],
            "text/html": [
              "Syncing run <strong><a href='https://wandb.ai/h-driver/huggingface/runs/sat5x5pn' target=\"_blank\">ns_model_window_1lr_3.2e-05_bs_16_wd_1.0e-03_ws_1000_gas_2</a></strong> to <a href='https://wandb.ai/h-driver/huggingface' target=\"_blank\">Weights & Biases</a> (<a href='https://wandb.me/developer-guide' target=\"_blank\">docs</a>)<br>"
            ]
          },
          "metadata": {}
        },
        {
          "output_type": "display_data",
          "data": {
            "text/plain": [
              "<IPython.core.display.HTML object>"
            ],
            "text/html": [
              " View project at <a href='https://wandb.ai/h-driver/huggingface' target=\"_blank\">https://wandb.ai/h-driver/huggingface</a>"
            ]
          },
          "metadata": {}
        },
        {
          "output_type": "display_data",
          "data": {
            "text/plain": [
              "<IPython.core.display.HTML object>"
            ],
            "text/html": [
              " View run at <a href='https://wandb.ai/h-driver/huggingface/runs/sat5x5pn' target=\"_blank\">https://wandb.ai/h-driver/huggingface/runs/sat5x5pn</a>"
            ]
          },
          "metadata": {}
        },
        {
          "output_type": "stream",
          "name": "stdout",
          "text": [
            "{'train_runtime': 85.7383, 'train_samples_per_second': 85.143, 'train_steps_per_second': 2.624, 'train_loss': 4.28796142578125, 'epoch': 22.526315789473685}\n",
            "{'eval_loss': 1.9302881956100464, 'eval_accuracy': 0.3968253968253968, 'eval_f1': 0.39446532569382914, 'eval_precision': 0.4404383975812547, 'eval_recall': 0.3968253968253968, 'eval_runtime': 0.4309, 'eval_samples_per_second': 292.416, 'eval_steps_per_second': 18.566, 'epoch': 22.526315789473685}\n"
          ]
        },
        {
          "output_type": "display_data",
          "data": {
            "text/plain": [
              "<IPython.core.display.HTML object>"
            ],
            "text/html": []
          },
          "metadata": {}
        },
        {
          "output_type": "display_data",
          "data": {
            "text/plain": [
              "<IPython.core.display.HTML object>"
            ],
            "text/html": [
              "<br>    <style><br>        .wandb-row {<br>            display: flex;<br>            flex-direction: row;<br>            flex-wrap: wrap;<br>            justify-content: flex-start;<br>            width: 100%;<br>        }<br>        .wandb-col {<br>            display: flex;<br>            flex-direction: column;<br>            flex-basis: 100%;<br>            flex: 1;<br>            padding: 10px;<br>        }<br>    </style><br><div class=\"wandb-row\"><div class=\"wandb-col\"><h3>Run history:</h3><br/><table class=\"wandb\"><tr><td>eval/accuracy</td><td>▁</td></tr><tr><td>eval/f1</td><td>▁</td></tr><tr><td>eval/loss</td><td>▁</td></tr><tr><td>eval/precision</td><td>▁</td></tr><tr><td>eval/recall</td><td>▁</td></tr><tr><td>eval/runtime</td><td>▁</td></tr><tr><td>eval/samples_per_second</td><td>▁</td></tr><tr><td>eval/steps_per_second</td><td>▁</td></tr><tr><td>train/epoch</td><td>▁▁</td></tr><tr><td>train/global_step</td><td>▁▁</td></tr></table><br/></div><div class=\"wandb-col\"><h3>Run summary:</h3><br/><table class=\"wandb\"><tr><td>eval/accuracy</td><td>0.39683</td></tr><tr><td>eval/f1</td><td>0.39447</td></tr><tr><td>eval/loss</td><td>1.93029</td></tr><tr><td>eval/precision</td><td>0.44044</td></tr><tr><td>eval/recall</td><td>0.39683</td></tr><tr><td>eval/runtime</td><td>0.4309</td></tr><tr><td>eval/samples_per_second</td><td>292.416</td></tr><tr><td>eval/steps_per_second</td><td>18.566</td></tr><tr><td>total_flos</td><td>430358644113408.0</td></tr><tr><td>train/epoch</td><td>22.52632</td></tr><tr><td>train/global_step</td><td>225</td></tr><tr><td>train_loss</td><td>4.28796</td></tr><tr><td>train_runtime</td><td>85.7383</td></tr><tr><td>train_samples_per_second</td><td>85.143</td></tr><tr><td>train_steps_per_second</td><td>2.624</td></tr></table><br/></div></div>"
            ]
          },
          "metadata": {}
        },
        {
          "output_type": "display_data",
          "data": {
            "text/plain": [
              "<IPython.core.display.HTML object>"
            ],
            "text/html": [
              " View run <strong style=\"color:#cdcd00\">ns_model_window_1lr_3.2e-05_bs_16_wd_1.0e-03_ws_1000_gas_2</strong> at: <a href='https://wandb.ai/h-driver/huggingface/runs/sat5x5pn' target=\"_blank\">https://wandb.ai/h-driver/huggingface/runs/sat5x5pn</a><br> View project at: <a href='https://wandb.ai/h-driver/huggingface' target=\"_blank\">https://wandb.ai/h-driver/huggingface</a><br>Synced 5 W&B file(s), 0 media file(s), 0 artifact file(s) and 0 other file(s)"
            ]
          },
          "metadata": {}
        },
        {
          "output_type": "display_data",
          "data": {
            "text/plain": [
              "<IPython.core.display.HTML object>"
            ],
            "text/html": [
              "Find logs at: <code>./wandb/run-20250302_151238-sat5x5pn/logs</code>"
            ]
          },
          "metadata": {}
        },
        {
          "output_type": "stream",
          "name": "stderr",
          "text": [
            "<ipython-input-78-e282a38656c6>:26: FutureWarning: `tokenizer` is deprecated and will be removed in version 5.0.0 for `Trainer.__init__`. Use `processing_class` instead.\n",
            "  trainer = Trainer(\n"
          ]
        },
        {
          "output_type": "display_data",
          "data": {
            "text/plain": [
              "<IPython.core.display.HTML object>"
            ],
            "text/html": [
              "Tracking run with wandb version 0.19.7"
            ]
          },
          "metadata": {}
        },
        {
          "output_type": "display_data",
          "data": {
            "text/plain": [
              "<IPython.core.display.HTML object>"
            ],
            "text/html": [
              "Run data is saved locally in <code>/content/drive/MyDrive/Colab Notebooks/Math_Graph/pickle_files/wandb/run-20250302_151408-n4w9y2n1</code>"
            ]
          },
          "metadata": {}
        },
        {
          "output_type": "display_data",
          "data": {
            "text/plain": [
              "<IPython.core.display.HTML object>"
            ],
            "text/html": [
              "Syncing run <strong><a href='https://wandb.ai/h-driver/huggingface/runs/n4w9y2n1' target=\"_blank\">ns_model_window_1lr_5.7e-04_bs_32_wd_3.4e-04_ws_500_gas_2</a></strong> to <a href='https://wandb.ai/h-driver/huggingface' target=\"_blank\">Weights & Biases</a> (<a href='https://wandb.me/developer-guide' target=\"_blank\">docs</a>)<br>"
            ]
          },
          "metadata": {}
        },
        {
          "output_type": "display_data",
          "data": {
            "text/plain": [
              "<IPython.core.display.HTML object>"
            ],
            "text/html": [
              " View project at <a href='https://wandb.ai/h-driver/huggingface' target=\"_blank\">https://wandb.ai/h-driver/huggingface</a>"
            ]
          },
          "metadata": {}
        },
        {
          "output_type": "display_data",
          "data": {
            "text/plain": [
              "<IPython.core.display.HTML object>"
            ],
            "text/html": [
              " View run at <a href='https://wandb.ai/h-driver/huggingface/runs/n4w9y2n1' target=\"_blank\">https://wandb.ai/h-driver/huggingface/runs/n4w9y2n1</a>"
            ]
          },
          "metadata": {}
        },
        {
          "output_type": "stream",
          "name": "stdout",
          "text": [
            "{'train_runtime': 89.4466, 'train_samples_per_second': 81.613, 'train_steps_per_second': 1.397, 'train_loss': 0.980978759765625, 'epoch': 25.0}\n",
            "{'eval_loss': 1.0861784219741821, 'eval_accuracy': 0.7777777777777778, 'eval_f1': 0.7771684789587602, 'eval_precision': 0.8012864120006978, 'eval_recall': 0.7777777777777778, 'eval_runtime': 0.4007, 'eval_samples_per_second': 314.429, 'eval_steps_per_second': 9.982, 'epoch': 25.0}\n"
          ]
        },
        {
          "output_type": "display_data",
          "data": {
            "text/plain": [
              "<IPython.core.display.HTML object>"
            ],
            "text/html": []
          },
          "metadata": {}
        },
        {
          "output_type": "display_data",
          "data": {
            "text/plain": [
              "<IPython.core.display.HTML object>"
            ],
            "text/html": [
              "<br>    <style><br>        .wandb-row {<br>            display: flex;<br>            flex-direction: row;<br>            flex-wrap: wrap;<br>            justify-content: flex-start;<br>            width: 100%;<br>        }<br>        .wandb-col {<br>            display: flex;<br>            flex-direction: column;<br>            flex-basis: 100%;<br>            flex: 1;<br>            padding: 10px;<br>        }<br>    </style><br><div class=\"wandb-row\"><div class=\"wandb-col\"><h3>Run history:</h3><br/><table class=\"wandb\"><tr><td>eval/accuracy</td><td>▁</td></tr><tr><td>eval/f1</td><td>▁</td></tr><tr><td>eval/loss</td><td>▁</td></tr><tr><td>eval/precision</td><td>▁</td></tr><tr><td>eval/recall</td><td>▁</td></tr><tr><td>eval/runtime</td><td>▁</td></tr><tr><td>eval/samples_per_second</td><td>▁</td></tr><tr><td>eval/steps_per_second</td><td>▁</td></tr><tr><td>train/epoch</td><td>▁▁</td></tr><tr><td>train/global_step</td><td>▁▁</td></tr></table><br/></div><div class=\"wandb-col\"><h3>Run summary:</h3><br/><table class=\"wandb\"><tr><td>eval/accuracy</td><td>0.77778</td></tr><tr><td>eval/f1</td><td>0.77717</td></tr><tr><td>eval/loss</td><td>1.08618</td></tr><tr><td>eval/precision</td><td>0.80129</td></tr><tr><td>eval/recall</td><td>0.77778</td></tr><tr><td>eval/runtime</td><td>0.4007</td></tr><tr><td>eval/samples_per_second</td><td>314.429</td></tr><tr><td>eval/steps_per_second</td><td>9.982</td></tr><tr><td>total_flos</td><td>477159493017600.0</td></tr><tr><td>train/epoch</td><td>25</td></tr><tr><td>train/global_step</td><td>125</td></tr><tr><td>train_loss</td><td>0.98098</td></tr><tr><td>train_runtime</td><td>89.4466</td></tr><tr><td>train_samples_per_second</td><td>81.613</td></tr><tr><td>train_steps_per_second</td><td>1.397</td></tr></table><br/></div></div>"
            ]
          },
          "metadata": {}
        },
        {
          "output_type": "display_data",
          "data": {
            "text/plain": [
              "<IPython.core.display.HTML object>"
            ],
            "text/html": [
              " View run <strong style=\"color:#cdcd00\">ns_model_window_1lr_5.7e-04_bs_32_wd_3.4e-04_ws_500_gas_2</strong> at: <a href='https://wandb.ai/h-driver/huggingface/runs/n4w9y2n1' target=\"_blank\">https://wandb.ai/h-driver/huggingface/runs/n4w9y2n1</a><br> View project at: <a href='https://wandb.ai/h-driver/huggingface' target=\"_blank\">https://wandb.ai/h-driver/huggingface</a><br>Synced 5 W&B file(s), 0 media file(s), 0 artifact file(s) and 0 other file(s)"
            ]
          },
          "metadata": {}
        },
        {
          "output_type": "display_data",
          "data": {
            "text/plain": [
              "<IPython.core.display.HTML object>"
            ],
            "text/html": [
              "Find logs at: <code>./wandb/run-20250302_151408-n4w9y2n1/logs</code>"
            ]
          },
          "metadata": {}
        },
        {
          "output_type": "stream",
          "name": "stderr",
          "text": [
            "<ipython-input-78-e282a38656c6>:26: FutureWarning: `tokenizer` is deprecated and will be removed in version 5.0.0 for `Trainer.__init__`. Use `processing_class` instead.\n",
            "  trainer = Trainer(\n"
          ]
        },
        {
          "output_type": "display_data",
          "data": {
            "text/plain": [
              "<IPython.core.display.HTML object>"
            ],
            "text/html": [
              "Tracking run with wandb version 0.19.7"
            ]
          },
          "metadata": {}
        },
        {
          "output_type": "display_data",
          "data": {
            "text/plain": [
              "<IPython.core.display.HTML object>"
            ],
            "text/html": [
              "Run data is saved locally in <code>/content/drive/MyDrive/Colab Notebooks/Math_Graph/pickle_files/wandb/run-20250302_151541-j55fx6ct</code>"
            ]
          },
          "metadata": {}
        },
        {
          "output_type": "display_data",
          "data": {
            "text/plain": [
              "<IPython.core.display.HTML object>"
            ],
            "text/html": [
              "Syncing run <strong><a href='https://wandb.ai/h-driver/huggingface/runs/j55fx6ct' target=\"_blank\">ns_model_window_1lr_7.5e-04_bs_16_wd_2.8e-05_ws_2000_gas_1</a></strong> to <a href='https://wandb.ai/h-driver/huggingface' target=\"_blank\">Weights & Biases</a> (<a href='https://wandb.me/developer-guide' target=\"_blank\">docs</a>)<br>"
            ]
          },
          "metadata": {}
        },
        {
          "output_type": "display_data",
          "data": {
            "text/plain": [
              "<IPython.core.display.HTML object>"
            ],
            "text/html": [
              " View project at <a href='https://wandb.ai/h-driver/huggingface' target=\"_blank\">https://wandb.ai/h-driver/huggingface</a>"
            ]
          },
          "metadata": {}
        },
        {
          "output_type": "display_data",
          "data": {
            "text/plain": [
              "<IPython.core.display.HTML object>"
            ],
            "text/html": [
              " View run at <a href='https://wandb.ai/h-driver/huggingface/runs/j55fx6ct' target=\"_blank\">https://wandb.ai/h-driver/huggingface/runs/j55fx6ct</a>"
            ]
          },
          "metadata": {}
        },
        {
          "output_type": "stream",
          "name": "stdout",
          "text": [
            "{'train_runtime': 96.3539, 'train_samples_per_second': 75.762, 'train_steps_per_second': 4.93, 'train_loss': 0.04337641665810033, 'epoch': 25.0}\n",
            "{'eval_loss': 1.6422792673110962, 'eval_accuracy': 0.7857142857142857, 'eval_f1': 0.7857774431687474, 'eval_precision': 0.7995032745032744, 'eval_recall': 0.7857142857142857, 'eval_runtime': 0.4289, 'eval_samples_per_second': 293.803, 'eval_steps_per_second': 18.654, 'epoch': 25.0}\n"
          ]
        },
        {
          "output_type": "display_data",
          "data": {
            "text/plain": [
              "<IPython.core.display.HTML object>"
            ],
            "text/html": []
          },
          "metadata": {}
        },
        {
          "output_type": "display_data",
          "data": {
            "text/plain": [
              "<IPython.core.display.HTML object>"
            ],
            "text/html": [
              "<br>    <style><br>        .wandb-row {<br>            display: flex;<br>            flex-direction: row;<br>            flex-wrap: wrap;<br>            justify-content: flex-start;<br>            width: 100%;<br>        }<br>        .wandb-col {<br>            display: flex;<br>            flex-direction: column;<br>            flex-basis: 100%;<br>            flex: 1;<br>            padding: 10px;<br>        }<br>    </style><br><div class=\"wandb-row\"><div class=\"wandb-col\"><h3>Run history:</h3><br/><table class=\"wandb\"><tr><td>eval/accuracy</td><td>▁</td></tr><tr><td>eval/f1</td><td>▁</td></tr><tr><td>eval/loss</td><td>▁</td></tr><tr><td>eval/precision</td><td>▁</td></tr><tr><td>eval/recall</td><td>▁</td></tr><tr><td>eval/runtime</td><td>▁</td></tr><tr><td>eval/samples_per_second</td><td>▁</td></tr><tr><td>eval/steps_per_second</td><td>▁</td></tr><tr><td>train/epoch</td><td>▁▁</td></tr><tr><td>train/global_step</td><td>▁▁</td></tr></table><br/></div><div class=\"wandb-col\"><h3>Run summary:</h3><br/><table class=\"wandb\"><tr><td>eval/accuracy</td><td>0.78571</td></tr><tr><td>eval/f1</td><td>0.78578</td></tr><tr><td>eval/loss</td><td>1.64228</td></tr><tr><td>eval/precision</td><td>0.7995</td></tr><tr><td>eval/recall</td><td>0.78571</td></tr><tr><td>eval/runtime</td><td>0.4289</td></tr><tr><td>eval/samples_per_second</td><td>293.803</td></tr><tr><td>eval/steps_per_second</td><td>18.654</td></tr><tr><td>total_flos</td><td>477159493017600.0</td></tr><tr><td>train/epoch</td><td>25</td></tr><tr><td>train/global_step</td><td>475</td></tr><tr><td>train_loss</td><td>0.04338</td></tr><tr><td>train_runtime</td><td>96.3539</td></tr><tr><td>train_samples_per_second</td><td>75.762</td></tr><tr><td>train_steps_per_second</td><td>4.93</td></tr></table><br/></div></div>"
            ]
          },
          "metadata": {}
        },
        {
          "output_type": "display_data",
          "data": {
            "text/plain": [
              "<IPython.core.display.HTML object>"
            ],
            "text/html": [
              " View run <strong style=\"color:#cdcd00\">ns_model_window_1lr_7.5e-04_bs_16_wd_2.8e-05_ws_2000_gas_1</strong> at: <a href='https://wandb.ai/h-driver/huggingface/runs/j55fx6ct' target=\"_blank\">https://wandb.ai/h-driver/huggingface/runs/j55fx6ct</a><br> View project at: <a href='https://wandb.ai/h-driver/huggingface' target=\"_blank\">https://wandb.ai/h-driver/huggingface</a><br>Synced 5 W&B file(s), 0 media file(s), 0 artifact file(s) and 0 other file(s)"
            ]
          },
          "metadata": {}
        },
        {
          "output_type": "display_data",
          "data": {
            "text/plain": [
              "<IPython.core.display.HTML object>"
            ],
            "text/html": [
              "Find logs at: <code>./wandb/run-20250302_151541-j55fx6ct/logs</code>"
            ]
          },
          "metadata": {}
        },
        {
          "output_type": "stream",
          "name": "stderr",
          "text": [
            "<ipython-input-78-e282a38656c6>:26: FutureWarning: `tokenizer` is deprecated and will be removed in version 5.0.0 for `Trainer.__init__`. Use `processing_class` instead.\n",
            "  trainer = Trainer(\n"
          ]
        },
        {
          "output_type": "display_data",
          "data": {
            "text/plain": [
              "<IPython.core.display.HTML object>"
            ],
            "text/html": [
              "Tracking run with wandb version 0.19.7"
            ]
          },
          "metadata": {}
        },
        {
          "output_type": "display_data",
          "data": {
            "text/plain": [
              "<IPython.core.display.HTML object>"
            ],
            "text/html": [
              "Run data is saved locally in <code>/content/drive/MyDrive/Colab Notebooks/Math_Graph/pickle_files/wandb/run-20250302_151721-nss24vwa</code>"
            ]
          },
          "metadata": {}
        },
        {
          "output_type": "display_data",
          "data": {
            "text/plain": [
              "<IPython.core.display.HTML object>"
            ],
            "text/html": [
              "Syncing run <strong><a href='https://wandb.ai/h-driver/huggingface/runs/nss24vwa' target=\"_blank\">ns_model_window_1lr_7.9e-06_bs_32_wd_5.7e-03_ws_2000_gas_1</a></strong> to <a href='https://wandb.ai/h-driver/huggingface' target=\"_blank\">Weights & Biases</a> (<a href='https://wandb.me/developer-guide' target=\"_blank\">docs</a>)<br>"
            ]
          },
          "metadata": {}
        },
        {
          "output_type": "display_data",
          "data": {
            "text/plain": [
              "<IPython.core.display.HTML object>"
            ],
            "text/html": [
              " View project at <a href='https://wandb.ai/h-driver/huggingface' target=\"_blank\">https://wandb.ai/h-driver/huggingface</a>"
            ]
          },
          "metadata": {}
        },
        {
          "output_type": "display_data",
          "data": {
            "text/plain": [
              "<IPython.core.display.HTML object>"
            ],
            "text/html": [
              " View run at <a href='https://wandb.ai/h-driver/huggingface/runs/nss24vwa' target=\"_blank\">https://wandb.ai/h-driver/huggingface/runs/nss24vwa</a>"
            ]
          },
          "metadata": {}
        },
        {
          "output_type": "stream",
          "name": "stdout",
          "text": [
            "{'train_runtime': 90.2911, 'train_samples_per_second': 80.85, 'train_steps_per_second': 2.769, 'train_loss': 0.001808133602142334, 'epoch': 25.0}\n",
            "{'eval_loss': 1.6304999589920044, 'eval_accuracy': 0.7857142857142857, 'eval_f1': 0.7871522197609153, 'eval_precision': 0.8035035951702618, 'eval_recall': 0.7857142857142857, 'eval_runtime': 0.4008, 'eval_samples_per_second': 314.349, 'eval_steps_per_second': 9.979, 'epoch': 25.0}\n"
          ]
        },
        {
          "output_type": "display_data",
          "data": {
            "text/plain": [
              "<IPython.core.display.HTML object>"
            ],
            "text/html": []
          },
          "metadata": {}
        },
        {
          "output_type": "display_data",
          "data": {
            "text/plain": [
              "<IPython.core.display.HTML object>"
            ],
            "text/html": [
              "<br>    <style><br>        .wandb-row {<br>            display: flex;<br>            flex-direction: row;<br>            flex-wrap: wrap;<br>            justify-content: flex-start;<br>            width: 100%;<br>        }<br>        .wandb-col {<br>            display: flex;<br>            flex-direction: column;<br>            flex-basis: 100%;<br>            flex: 1;<br>            padding: 10px;<br>        }<br>    </style><br><div class=\"wandb-row\"><div class=\"wandb-col\"><h3>Run history:</h3><br/><table class=\"wandb\"><tr><td>eval/accuracy</td><td>▁</td></tr><tr><td>eval/f1</td><td>▁</td></tr><tr><td>eval/loss</td><td>▁</td></tr><tr><td>eval/precision</td><td>▁</td></tr><tr><td>eval/recall</td><td>▁</td></tr><tr><td>eval/runtime</td><td>▁</td></tr><tr><td>eval/samples_per_second</td><td>▁</td></tr><tr><td>eval/steps_per_second</td><td>▁</td></tr><tr><td>train/epoch</td><td>▁▁</td></tr><tr><td>train/global_step</td><td>▁▁</td></tr></table><br/></div><div class=\"wandb-col\"><h3>Run summary:</h3><br/><table class=\"wandb\"><tr><td>eval/accuracy</td><td>0.78571</td></tr><tr><td>eval/f1</td><td>0.78715</td></tr><tr><td>eval/loss</td><td>1.6305</td></tr><tr><td>eval/precision</td><td>0.8035</td></tr><tr><td>eval/recall</td><td>0.78571</td></tr><tr><td>eval/runtime</td><td>0.4008</td></tr><tr><td>eval/samples_per_second</td><td>314.349</td></tr><tr><td>eval/steps_per_second</td><td>9.979</td></tr><tr><td>total_flos</td><td>477159493017600.0</td></tr><tr><td>train/epoch</td><td>25</td></tr><tr><td>train/global_step</td><td>250</td></tr><tr><td>train_loss</td><td>0.00181</td></tr><tr><td>train_runtime</td><td>90.2911</td></tr><tr><td>train_samples_per_second</td><td>80.85</td></tr><tr><td>train_steps_per_second</td><td>2.769</td></tr></table><br/></div></div>"
            ]
          },
          "metadata": {}
        },
        {
          "output_type": "display_data",
          "data": {
            "text/plain": [
              "<IPython.core.display.HTML object>"
            ],
            "text/html": [
              " View run <strong style=\"color:#cdcd00\">ns_model_window_1lr_7.9e-06_bs_32_wd_5.7e-03_ws_2000_gas_1</strong> at: <a href='https://wandb.ai/h-driver/huggingface/runs/nss24vwa' target=\"_blank\">https://wandb.ai/h-driver/huggingface/runs/nss24vwa</a><br> View project at: <a href='https://wandb.ai/h-driver/huggingface' target=\"_blank\">https://wandb.ai/h-driver/huggingface</a><br>Synced 5 W&B file(s), 0 media file(s), 0 artifact file(s) and 0 other file(s)"
            ]
          },
          "metadata": {}
        },
        {
          "output_type": "display_data",
          "data": {
            "text/plain": [
              "<IPython.core.display.HTML object>"
            ],
            "text/html": [
              "Find logs at: <code>./wandb/run-20250302_151721-nss24vwa/logs</code>"
            ]
          },
          "metadata": {}
        },
        {
          "output_type": "stream",
          "name": "stderr",
          "text": [
            "<ipython-input-78-e282a38656c6>:26: FutureWarning: `tokenizer` is deprecated and will be removed in version 5.0.0 for `Trainer.__init__`. Use `processing_class` instead.\n",
            "  trainer = Trainer(\n"
          ]
        },
        {
          "output_type": "display_data",
          "data": {
            "text/plain": [
              "<IPython.core.display.HTML object>"
            ],
            "text/html": [
              "Tracking run with wandb version 0.19.7"
            ]
          },
          "metadata": {}
        },
        {
          "output_type": "display_data",
          "data": {
            "text/plain": [
              "<IPython.core.display.HTML object>"
            ],
            "text/html": [
              "Run data is saved locally in <code>/content/drive/MyDrive/Colab Notebooks/Math_Graph/pickle_files/wandb/run-20250302_151855-dd9x7dn5</code>"
            ]
          },
          "metadata": {}
        },
        {
          "output_type": "display_data",
          "data": {
            "text/plain": [
              "<IPython.core.display.HTML object>"
            ],
            "text/html": [
              "Syncing run <strong><a href='https://wandb.ai/h-driver/huggingface/runs/dd9x7dn5' target=\"_blank\">ns_model_window_1lr_8.4e-06_bs_4_wd_1.0e-05_ws_100_gas_4</a></strong> to <a href='https://wandb.ai/h-driver/huggingface' target=\"_blank\">Weights & Biases</a> (<a href='https://wandb.me/developer-guide' target=\"_blank\">docs</a>)<br>"
            ]
          },
          "metadata": {}
        },
        {
          "output_type": "display_data",
          "data": {
            "text/plain": [
              "<IPython.core.display.HTML object>"
            ],
            "text/html": [
              " View project at <a href='https://wandb.ai/h-driver/huggingface' target=\"_blank\">https://wandb.ai/h-driver/huggingface</a>"
            ]
          },
          "metadata": {}
        },
        {
          "output_type": "display_data",
          "data": {
            "text/plain": [
              "<IPython.core.display.HTML object>"
            ],
            "text/html": [
              " View run at <a href='https://wandb.ai/h-driver/huggingface/runs/dd9x7dn5' target=\"_blank\">https://wandb.ai/h-driver/huggingface/runs/dd9x7dn5</a>"
            ]
          },
          "metadata": {}
        },
        {
          "output_type": "stream",
          "name": "stdout",
          "text": [
            "{'train_runtime': 106.4935, 'train_samples_per_second': 68.549, 'train_steps_per_second': 4.226, 'train_loss': 0.0006156275007459853, 'epoch': 23.71232876712329}\n",
            "{'eval_loss': 1.6110053062438965, 'eval_accuracy': 0.7936507936507936, 'eval_f1': 0.7967584865100392, 'eval_precision': 0.8143501560168227, 'eval_recall': 0.7936507936507936, 'eval_runtime': 0.536, 'eval_samples_per_second': 235.061, 'eval_steps_per_second': 59.698, 'epoch': 23.71232876712329}\n"
          ]
        },
        {
          "output_type": "display_data",
          "data": {
            "text/plain": [
              "<IPython.core.display.HTML object>"
            ],
            "text/html": []
          },
          "metadata": {}
        },
        {
          "output_type": "display_data",
          "data": {
            "text/plain": [
              "<IPython.core.display.HTML object>"
            ],
            "text/html": [
              "<br>    <style><br>        .wandb-row {<br>            display: flex;<br>            flex-direction: row;<br>            flex-wrap: wrap;<br>            justify-content: flex-start;<br>            width: 100%;<br>        }<br>        .wandb-col {<br>            display: flex;<br>            flex-direction: column;<br>            flex-basis: 100%;<br>            flex: 1;<br>            padding: 10px;<br>        }<br>    </style><br><div class=\"wandb-row\"><div class=\"wandb-col\"><h3>Run history:</h3><br/><table class=\"wandb\"><tr><td>eval/accuracy</td><td>▁</td></tr><tr><td>eval/f1</td><td>▁</td></tr><tr><td>eval/loss</td><td>▁</td></tr><tr><td>eval/precision</td><td>▁</td></tr><tr><td>eval/recall</td><td>▁</td></tr><tr><td>eval/runtime</td><td>▁</td></tr><tr><td>eval/samples_per_second</td><td>▁</td></tr><tr><td>eval/steps_per_second</td><td>▁</td></tr><tr><td>train/epoch</td><td>▁▁</td></tr><tr><td>train/global_step</td><td>▁▁</td></tr></table><br/></div><div class=\"wandb-col\"><h3>Run summary:</h3><br/><table class=\"wandb\"><tr><td>eval/accuracy</td><td>0.79365</td></tr><tr><td>eval/f1</td><td>0.79676</td></tr><tr><td>eval/loss</td><td>1.61101</td></tr><tr><td>eval/precision</td><td>0.81435</td></tr><tr><td>eval/recall</td><td>0.79365</td></tr><tr><td>eval/runtime</td><td>0.536</td></tr><tr><td>eval/samples_per_second</td><td>235.061</td></tr><tr><td>eval/steps_per_second</td><td>59.698</td></tr><tr><td>total_flos</td><td>452582510911488.0</td></tr><tr><td>train/epoch</td><td>23.71233</td></tr><tr><td>train/global_step</td><td>450</td></tr><tr><td>train_loss</td><td>0.00062</td></tr><tr><td>train_runtime</td><td>106.4935</td></tr><tr><td>train_samples_per_second</td><td>68.549</td></tr><tr><td>train_steps_per_second</td><td>4.226</td></tr></table><br/></div></div>"
            ]
          },
          "metadata": {}
        },
        {
          "output_type": "display_data",
          "data": {
            "text/plain": [
              "<IPython.core.display.HTML object>"
            ],
            "text/html": [
              " View run <strong style=\"color:#cdcd00\">ns_model_window_1lr_8.4e-06_bs_4_wd_1.0e-05_ws_100_gas_4</strong> at: <a href='https://wandb.ai/h-driver/huggingface/runs/dd9x7dn5' target=\"_blank\">https://wandb.ai/h-driver/huggingface/runs/dd9x7dn5</a><br> View project at: <a href='https://wandb.ai/h-driver/huggingface' target=\"_blank\">https://wandb.ai/h-driver/huggingface</a><br>Synced 5 W&B file(s), 0 media file(s), 0 artifact file(s) and 0 other file(s)"
            ]
          },
          "metadata": {}
        },
        {
          "output_type": "display_data",
          "data": {
            "text/plain": [
              "<IPython.core.display.HTML object>"
            ],
            "text/html": [
              "Find logs at: <code>./wandb/run-20250302_151855-dd9x7dn5/logs</code>"
            ]
          },
          "metadata": {}
        },
        {
          "output_type": "stream",
          "name": "stderr",
          "text": [
            "<ipython-input-78-e282a38656c6>:26: FutureWarning: `tokenizer` is deprecated and will be removed in version 5.0.0 for `Trainer.__init__`. Use `processing_class` instead.\n",
            "  trainer = Trainer(\n"
          ]
        },
        {
          "output_type": "display_data",
          "data": {
            "text/plain": [
              "<IPython.core.display.HTML object>"
            ],
            "text/html": [
              "Tracking run with wandb version 0.19.7"
            ]
          },
          "metadata": {}
        },
        {
          "output_type": "display_data",
          "data": {
            "text/plain": [
              "<IPython.core.display.HTML object>"
            ],
            "text/html": [
              "Run data is saved locally in <code>/content/drive/MyDrive/Colab Notebooks/Math_Graph/pickle_files/wandb/run-20250302_152045-33vqwwc7</code>"
            ]
          },
          "metadata": {}
        },
        {
          "output_type": "display_data",
          "data": {
            "text/plain": [
              "<IPython.core.display.HTML object>"
            ],
            "text/html": [
              "Syncing run <strong><a href='https://wandb.ai/h-driver/huggingface/runs/33vqwwc7' target=\"_blank\">ns_model_window_1lr_1.0e-06_bs_4_wd_1.0e-01_ws_100_gas_1</a></strong> to <a href='https://wandb.ai/h-driver/huggingface' target=\"_blank\">Weights & Biases</a> (<a href='https://wandb.me/developer-guide' target=\"_blank\">docs</a>)<br>"
            ]
          },
          "metadata": {}
        },
        {
          "output_type": "display_data",
          "data": {
            "text/plain": [
              "<IPython.core.display.HTML object>"
            ],
            "text/html": [
              " View project at <a href='https://wandb.ai/h-driver/huggingface' target=\"_blank\">https://wandb.ai/h-driver/huggingface</a>"
            ]
          },
          "metadata": {}
        },
        {
          "output_type": "display_data",
          "data": {
            "text/plain": [
              "<IPython.core.display.HTML object>"
            ],
            "text/html": [
              " View run at <a href='https://wandb.ai/h-driver/huggingface/runs/33vqwwc7' target=\"_blank\">https://wandb.ai/h-driver/huggingface/runs/33vqwwc7</a>"
            ]
          },
          "metadata": {}
        },
        {
          "output_type": "stream",
          "name": "stdout",
          "text": [
            "{'loss': 0.0, 'grad_norm': 0.0009152163984254003, 'learning_rate': 7.681159420289861e-07, 'epoch': 6.8493150684931505}\n",
            "{'loss': 0.0, 'grad_norm': 0.003036330919712782, 'learning_rate': 4.782608695652178e-07, 'epoch': 13.698630136986301}\n",
            "{'loss': 0.0, 'grad_norm': 0.002367990091443062, 'learning_rate': 1.8840579710144943e-07, 'epoch': 20.54794520547945}\n",
            "{'train_runtime': 120.8921, 'train_samples_per_second': 60.384, 'train_steps_per_second': 15.096, 'train_loss': 3.112591752042509e-05, 'epoch': 25.0}\n",
            "{'eval_loss': 1.6477603912353516, 'eval_accuracy': 0.7936507936507936, 'eval_f1': 0.7954346481675674, 'eval_precision': 0.8083617000283667, 'eval_recall': 0.7936507936507936, 'eval_runtime': 0.5392, 'eval_samples_per_second': 233.678, 'eval_steps_per_second': 59.347, 'epoch': 25.0}\n"
          ]
        },
        {
          "output_type": "display_data",
          "data": {
            "text/plain": [
              "<IPython.core.display.HTML object>"
            ],
            "text/html": []
          },
          "metadata": {}
        },
        {
          "output_type": "display_data",
          "data": {
            "text/plain": [
              "<IPython.core.display.HTML object>"
            ],
            "text/html": [
              "<br>    <style><br>        .wandb-row {<br>            display: flex;<br>            flex-direction: row;<br>            flex-wrap: wrap;<br>            justify-content: flex-start;<br>            width: 100%;<br>        }<br>        .wandb-col {<br>            display: flex;<br>            flex-direction: column;<br>            flex-basis: 100%;<br>            flex: 1;<br>            padding: 10px;<br>        }<br>    </style><br><div class=\"wandb-row\"><div class=\"wandb-col\"><h3>Run history:</h3><br/><table class=\"wandb\"><tr><td>eval/accuracy</td><td>▁</td></tr><tr><td>eval/f1</td><td>▁</td></tr><tr><td>eval/loss</td><td>▁</td></tr><tr><td>eval/precision</td><td>▁</td></tr><tr><td>eval/recall</td><td>▁</td></tr><tr><td>eval/runtime</td><td>▁</td></tr><tr><td>eval/samples_per_second</td><td>▁</td></tr><tr><td>eval/steps_per_second</td><td>▁</td></tr><tr><td>train/epoch</td><td>▁▄▆██</td></tr><tr><td>train/global_step</td><td>▁▄▆██</td></tr><tr><td>train/grad_norm</td><td>▁█▆</td></tr><tr><td>train/learning_rate</td><td>█▄▁</td></tr><tr><td>train/loss</td><td>▁▁▁</td></tr></table><br/></div><div class=\"wandb-col\"><h3>Run summary:</h3><br/><table class=\"wandb\"><tr><td>eval/accuracy</td><td>0.79365</td></tr><tr><td>eval/f1</td><td>0.79543</td></tr><tr><td>eval/loss</td><td>1.64776</td></tr><tr><td>eval/precision</td><td>0.80836</td></tr><tr><td>eval/recall</td><td>0.79365</td></tr><tr><td>eval/runtime</td><td>0.5392</td></tr><tr><td>eval/samples_per_second</td><td>233.678</td></tr><tr><td>eval/steps_per_second</td><td>59.347</td></tr><tr><td>total_flos</td><td>477159493017600.0</td></tr><tr><td>train/epoch</td><td>25</td></tr><tr><td>train/global_step</td><td>1825</td></tr><tr><td>train/grad_norm</td><td>0.00237</td></tr><tr><td>train/learning_rate</td><td>0.0</td></tr><tr><td>train/loss</td><td>0</td></tr><tr><td>train_loss</td><td>3e-05</td></tr><tr><td>train_runtime</td><td>120.8921</td></tr><tr><td>train_samples_per_second</td><td>60.384</td></tr><tr><td>train_steps_per_second</td><td>15.096</td></tr></table><br/></div></div>"
            ]
          },
          "metadata": {}
        },
        {
          "output_type": "display_data",
          "data": {
            "text/plain": [
              "<IPython.core.display.HTML object>"
            ],
            "text/html": [
              " View run <strong style=\"color:#cdcd00\">ns_model_window_1lr_1.0e-06_bs_4_wd_1.0e-01_ws_100_gas_1</strong> at: <a href='https://wandb.ai/h-driver/huggingface/runs/33vqwwc7' target=\"_blank\">https://wandb.ai/h-driver/huggingface/runs/33vqwwc7</a><br> View project at: <a href='https://wandb.ai/h-driver/huggingface' target=\"_blank\">https://wandb.ai/h-driver/huggingface</a><br>Synced 5 W&B file(s), 0 media file(s), 0 artifact file(s) and 0 other file(s)"
            ]
          },
          "metadata": {}
        },
        {
          "output_type": "display_data",
          "data": {
            "text/plain": [
              "<IPython.core.display.HTML object>"
            ],
            "text/html": [
              "Find logs at: <code>./wandb/run-20250302_152045-33vqwwc7/logs</code>"
            ]
          },
          "metadata": {}
        },
        {
          "output_type": "stream",
          "name": "stderr",
          "text": [
            "<ipython-input-78-e282a38656c6>:26: FutureWarning: `tokenizer` is deprecated and will be removed in version 5.0.0 for `Trainer.__init__`. Use `processing_class` instead.\n",
            "  trainer = Trainer(\n"
          ]
        },
        {
          "output_type": "display_data",
          "data": {
            "text/plain": [
              "<IPython.core.display.HTML object>"
            ],
            "text/html": [
              "Tracking run with wandb version 0.19.7"
            ]
          },
          "metadata": {}
        },
        {
          "output_type": "display_data",
          "data": {
            "text/plain": [
              "<IPython.core.display.HTML object>"
            ],
            "text/html": [
              "Run data is saved locally in <code>/content/drive/MyDrive/Colab Notebooks/Math_Graph/pickle_files/wandb/run-20250302_152250-xio9mned</code>"
            ]
          },
          "metadata": {}
        },
        {
          "output_type": "display_data",
          "data": {
            "text/plain": [
              "<IPython.core.display.HTML object>"
            ],
            "text/html": [
              "Syncing run <strong><a href='https://wandb.ai/h-driver/huggingface/runs/xio9mned' target=\"_blank\">ns_model_window_1lr_1.0e-03_bs_32_wd_2.8e-02_ws_2000_gas_1</a></strong> to <a href='https://wandb.ai/h-driver/huggingface' target=\"_blank\">Weights & Biases</a> (<a href='https://wandb.me/developer-guide' target=\"_blank\">docs</a>)<br>"
            ]
          },
          "metadata": {}
        },
        {
          "output_type": "display_data",
          "data": {
            "text/plain": [
              "<IPython.core.display.HTML object>"
            ],
            "text/html": [
              " View project at <a href='https://wandb.ai/h-driver/huggingface' target=\"_blank\">https://wandb.ai/h-driver/huggingface</a>"
            ]
          },
          "metadata": {}
        },
        {
          "output_type": "display_data",
          "data": {
            "text/plain": [
              "<IPython.core.display.HTML object>"
            ],
            "text/html": [
              " View run at <a href='https://wandb.ai/h-driver/huggingface/runs/xio9mned' target=\"_blank\">https://wandb.ai/h-driver/huggingface/runs/xio9mned</a>"
            ]
          },
          "metadata": {}
        },
        {
          "output_type": "stream",
          "name": "stdout",
          "text": [
            "{'train_runtime': 90.2967, 'train_samples_per_second': 80.845, 'train_steps_per_second': 2.769, 'train_loss': 3.3689167350530625e-05, 'epoch': 25.0}\n",
            "{'eval_loss': 2.0288898944854736, 'eval_accuracy': 0.7777777777777778, 'eval_f1': 0.7783167006736801, 'eval_precision': 0.7939785743357172, 'eval_recall': 0.7777777777777778, 'eval_runtime': 0.4006, 'eval_samples_per_second': 314.504, 'eval_steps_per_second': 9.984, 'epoch': 25.0}\n"
          ]
        },
        {
          "output_type": "display_data",
          "data": {
            "text/plain": [
              "<IPython.core.display.HTML object>"
            ],
            "text/html": []
          },
          "metadata": {}
        },
        {
          "output_type": "display_data",
          "data": {
            "text/plain": [
              "<IPython.core.display.HTML object>"
            ],
            "text/html": [
              "<br>    <style><br>        .wandb-row {<br>            display: flex;<br>            flex-direction: row;<br>            flex-wrap: wrap;<br>            justify-content: flex-start;<br>            width: 100%;<br>        }<br>        .wandb-col {<br>            display: flex;<br>            flex-direction: column;<br>            flex-basis: 100%;<br>            flex: 1;<br>            padding: 10px;<br>        }<br>    </style><br><div class=\"wandb-row\"><div class=\"wandb-col\"><h3>Run history:</h3><br/><table class=\"wandb\"><tr><td>eval/accuracy</td><td>▁</td></tr><tr><td>eval/f1</td><td>▁</td></tr><tr><td>eval/loss</td><td>▁</td></tr><tr><td>eval/precision</td><td>▁</td></tr><tr><td>eval/recall</td><td>▁</td></tr><tr><td>eval/runtime</td><td>▁</td></tr><tr><td>eval/samples_per_second</td><td>▁</td></tr><tr><td>eval/steps_per_second</td><td>▁</td></tr><tr><td>train/epoch</td><td>▁▁</td></tr><tr><td>train/global_step</td><td>▁▁</td></tr></table><br/></div><div class=\"wandb-col\"><h3>Run summary:</h3><br/><table class=\"wandb\"><tr><td>eval/accuracy</td><td>0.77778</td></tr><tr><td>eval/f1</td><td>0.77832</td></tr><tr><td>eval/loss</td><td>2.02889</td></tr><tr><td>eval/precision</td><td>0.79398</td></tr><tr><td>eval/recall</td><td>0.77778</td></tr><tr><td>eval/runtime</td><td>0.4006</td></tr><tr><td>eval/samples_per_second</td><td>314.504</td></tr><tr><td>eval/steps_per_second</td><td>9.984</td></tr><tr><td>total_flos</td><td>477159493017600.0</td></tr><tr><td>train/epoch</td><td>25</td></tr><tr><td>train/global_step</td><td>250</td></tr><tr><td>train_loss</td><td>3e-05</td></tr><tr><td>train_runtime</td><td>90.2967</td></tr><tr><td>train_samples_per_second</td><td>80.845</td></tr><tr><td>train_steps_per_second</td><td>2.769</td></tr></table><br/></div></div>"
            ]
          },
          "metadata": {}
        },
        {
          "output_type": "display_data",
          "data": {
            "text/plain": [
              "<IPython.core.display.HTML object>"
            ],
            "text/html": [
              " View run <strong style=\"color:#cdcd00\">ns_model_window_1lr_1.0e-03_bs_32_wd_2.8e-02_ws_2000_gas_1</strong> at: <a href='https://wandb.ai/h-driver/huggingface/runs/xio9mned' target=\"_blank\">https://wandb.ai/h-driver/huggingface/runs/xio9mned</a><br> View project at: <a href='https://wandb.ai/h-driver/huggingface' target=\"_blank\">https://wandb.ai/h-driver/huggingface</a><br>Synced 5 W&B file(s), 0 media file(s), 0 artifact file(s) and 0 other file(s)"
            ]
          },
          "metadata": {}
        },
        {
          "output_type": "display_data",
          "data": {
            "text/plain": [
              "<IPython.core.display.HTML object>"
            ],
            "text/html": [
              "Find logs at: <code>./wandb/run-20250302_152250-xio9mned/logs</code>"
            ]
          },
          "metadata": {}
        },
        {
          "output_type": "stream",
          "name": "stderr",
          "text": [
            "<ipython-input-78-e282a38656c6>:26: FutureWarning: `tokenizer` is deprecated and will be removed in version 5.0.0 for `Trainer.__init__`. Use `processing_class` instead.\n",
            "  trainer = Trainer(\n"
          ]
        },
        {
          "output_type": "display_data",
          "data": {
            "text/plain": [
              "<IPython.core.display.HTML object>"
            ],
            "text/html": [
              "Tracking run with wandb version 0.19.7"
            ]
          },
          "metadata": {}
        },
        {
          "output_type": "display_data",
          "data": {
            "text/plain": [
              "<IPython.core.display.HTML object>"
            ],
            "text/html": [
              "Run data is saved locally in <code>/content/drive/MyDrive/Colab Notebooks/Math_Graph/pickle_files/wandb/run-20250302_152424-79mmwg0n</code>"
            ]
          },
          "metadata": {}
        },
        {
          "output_type": "display_data",
          "data": {
            "text/plain": [
              "<IPython.core.display.HTML object>"
            ],
            "text/html": [
              "Syncing run <strong><a href='https://wandb.ai/h-driver/huggingface/runs/79mmwg0n' target=\"_blank\">ns_model_window_1lr_5.9e-05_bs_32_wd_1.0e-01_ws_2000_gas_2</a></strong> to <a href='https://wandb.ai/h-driver/huggingface' target=\"_blank\">Weights & Biases</a> (<a href='https://wandb.me/developer-guide' target=\"_blank\">docs</a>)<br>"
            ]
          },
          "metadata": {}
        },
        {
          "output_type": "display_data",
          "data": {
            "text/plain": [
              "<IPython.core.display.HTML object>"
            ],
            "text/html": [
              " View project at <a href='https://wandb.ai/h-driver/huggingface' target=\"_blank\">https://wandb.ai/h-driver/huggingface</a>"
            ]
          },
          "metadata": {}
        },
        {
          "output_type": "display_data",
          "data": {
            "text/plain": [
              "<IPython.core.display.HTML object>"
            ],
            "text/html": [
              " View run at <a href='https://wandb.ai/h-driver/huggingface/runs/79mmwg0n' target=\"_blank\">https://wandb.ai/h-driver/huggingface/runs/79mmwg0n</a>"
            ]
          },
          "metadata": {}
        },
        {
          "output_type": "stream",
          "name": "stdout",
          "text": [
            "{'train_runtime': 89.4512, 'train_samples_per_second': 81.609, 'train_steps_per_second': 1.397, 'train_loss': 4.520660266280174e-06, 'epoch': 25.0}\n",
            "{'eval_loss': 2.0141732692718506, 'eval_accuracy': 0.7777777777777778, 'eval_f1': 0.7783167006736801, 'eval_precision': 0.7939785743357172, 'eval_recall': 0.7777777777777778, 'eval_runtime': 0.4042, 'eval_samples_per_second': 311.763, 'eval_steps_per_second': 9.897, 'epoch': 25.0}\n"
          ]
        },
        {
          "output_type": "display_data",
          "data": {
            "text/plain": [
              "<IPython.core.display.HTML object>"
            ],
            "text/html": []
          },
          "metadata": {}
        },
        {
          "output_type": "display_data",
          "data": {
            "text/plain": [
              "<IPython.core.display.HTML object>"
            ],
            "text/html": [
              "<br>    <style><br>        .wandb-row {<br>            display: flex;<br>            flex-direction: row;<br>            flex-wrap: wrap;<br>            justify-content: flex-start;<br>            width: 100%;<br>        }<br>        .wandb-col {<br>            display: flex;<br>            flex-direction: column;<br>            flex-basis: 100%;<br>            flex: 1;<br>            padding: 10px;<br>        }<br>    </style><br><div class=\"wandb-row\"><div class=\"wandb-col\"><h3>Run history:</h3><br/><table class=\"wandb\"><tr><td>eval/accuracy</td><td>▁</td></tr><tr><td>eval/f1</td><td>▁</td></tr><tr><td>eval/loss</td><td>▁</td></tr><tr><td>eval/precision</td><td>▁</td></tr><tr><td>eval/recall</td><td>▁</td></tr><tr><td>eval/runtime</td><td>▁</td></tr><tr><td>eval/samples_per_second</td><td>▁</td></tr><tr><td>eval/steps_per_second</td><td>▁</td></tr><tr><td>train/epoch</td><td>▁▁</td></tr><tr><td>train/global_step</td><td>▁▁</td></tr></table><br/></div><div class=\"wandb-col\"><h3>Run summary:</h3><br/><table class=\"wandb\"><tr><td>eval/accuracy</td><td>0.77778</td></tr><tr><td>eval/f1</td><td>0.77832</td></tr><tr><td>eval/loss</td><td>2.01417</td></tr><tr><td>eval/precision</td><td>0.79398</td></tr><tr><td>eval/recall</td><td>0.77778</td></tr><tr><td>eval/runtime</td><td>0.4042</td></tr><tr><td>eval/samples_per_second</td><td>311.763</td></tr><tr><td>eval/steps_per_second</td><td>9.897</td></tr><tr><td>total_flos</td><td>477159493017600.0</td></tr><tr><td>train/epoch</td><td>25</td></tr><tr><td>train/global_step</td><td>125</td></tr><tr><td>train_loss</td><td>0.0</td></tr><tr><td>train_runtime</td><td>89.4512</td></tr><tr><td>train_samples_per_second</td><td>81.609</td></tr><tr><td>train_steps_per_second</td><td>1.397</td></tr></table><br/></div></div>"
            ]
          },
          "metadata": {}
        },
        {
          "output_type": "display_data",
          "data": {
            "text/plain": [
              "<IPython.core.display.HTML object>"
            ],
            "text/html": [
              " View run <strong style=\"color:#cdcd00\">ns_model_window_1lr_5.9e-05_bs_32_wd_1.0e-01_ws_2000_gas_2</strong> at: <a href='https://wandb.ai/h-driver/huggingface/runs/79mmwg0n' target=\"_blank\">https://wandb.ai/h-driver/huggingface/runs/79mmwg0n</a><br> View project at: <a href='https://wandb.ai/h-driver/huggingface' target=\"_blank\">https://wandb.ai/h-driver/huggingface</a><br>Synced 5 W&B file(s), 0 media file(s), 0 artifact file(s) and 0 other file(s)"
            ]
          },
          "metadata": {}
        },
        {
          "output_type": "display_data",
          "data": {
            "text/plain": [
              "<IPython.core.display.HTML object>"
            ],
            "text/html": [
              "Find logs at: <code>./wandb/run-20250302_152424-79mmwg0n/logs</code>"
            ]
          },
          "metadata": {}
        },
        {
          "output_type": "stream",
          "name": "stderr",
          "text": [
            "<ipython-input-78-e282a38656c6>:26: FutureWarning: `tokenizer` is deprecated and will be removed in version 5.0.0 for `Trainer.__init__`. Use `processing_class` instead.\n",
            "  trainer = Trainer(\n"
          ]
        },
        {
          "output_type": "display_data",
          "data": {
            "text/plain": [
              "<IPython.core.display.HTML object>"
            ],
            "text/html": [
              "Tracking run with wandb version 0.19.7"
            ]
          },
          "metadata": {}
        },
        {
          "output_type": "display_data",
          "data": {
            "text/plain": [
              "<IPython.core.display.HTML object>"
            ],
            "text/html": [
              "Run data is saved locally in <code>/content/drive/MyDrive/Colab Notebooks/Math_Graph/pickle_files/wandb/run-20250302_152557-g8gmwhjz</code>"
            ]
          },
          "metadata": {}
        },
        {
          "output_type": "display_data",
          "data": {
            "text/plain": [
              "<IPython.core.display.HTML object>"
            ],
            "text/html": [
              "Syncing run <strong><a href='https://wandb.ai/h-driver/huggingface/runs/g8gmwhjz' target=\"_blank\">ns_model_window_1lr_1.0e-06_bs_4_wd_1.0e-01_ws_100_gas_1</a></strong> to <a href='https://wandb.ai/h-driver/huggingface' target=\"_blank\">Weights & Biases</a> (<a href='https://wandb.me/developer-guide' target=\"_blank\">docs</a>)<br>"
            ]
          },
          "metadata": {}
        },
        {
          "output_type": "display_data",
          "data": {
            "text/plain": [
              "<IPython.core.display.HTML object>"
            ],
            "text/html": [
              " View project at <a href='https://wandb.ai/h-driver/huggingface' target=\"_blank\">https://wandb.ai/h-driver/huggingface</a>"
            ]
          },
          "metadata": {}
        },
        {
          "output_type": "display_data",
          "data": {
            "text/plain": [
              "<IPython.core.display.HTML object>"
            ],
            "text/html": [
              " View run at <a href='https://wandb.ai/h-driver/huggingface/runs/g8gmwhjz' target=\"_blank\">https://wandb.ai/h-driver/huggingface/runs/g8gmwhjz</a>"
            ]
          },
          "metadata": {}
        },
        {
          "output_type": "stream",
          "name": "stdout",
          "text": [
            "{'loss': 0.0, 'grad_norm': 3.034533619938884e-05, 'learning_rate': 7.681159420289861e-07, 'epoch': 6.8493150684931505}\n",
            "{'loss': 0.0, 'grad_norm': 0.0002570437209215015, 'learning_rate': 4.782608695652178e-07, 'epoch': 13.698630136986301}\n",
            "{'loss': 0.0, 'grad_norm': 0.0001974689366761595, 'learning_rate': 1.8840579710144943e-07, 'epoch': 20.54794520547945}\n",
            "{'train_runtime': 120.7929, 'train_samples_per_second': 60.434, 'train_steps_per_second': 15.109, 'train_loss': 1.8168810423310488e-06, 'epoch': 25.0}\n",
            "{'eval_loss': 2.0580968856811523, 'eval_accuracy': 0.7777777777777778, 'eval_f1': 0.7783167006736801, 'eval_precision': 0.7939785743357172, 'eval_recall': 0.7777777777777778, 'eval_runtime': 0.5347, 'eval_samples_per_second': 235.635, 'eval_steps_per_second': 59.844, 'epoch': 25.0}\n"
          ]
        },
        {
          "output_type": "display_data",
          "data": {
            "text/plain": [
              "<IPython.core.display.HTML object>"
            ],
            "text/html": []
          },
          "metadata": {}
        },
        {
          "output_type": "display_data",
          "data": {
            "text/plain": [
              "<IPython.core.display.HTML object>"
            ],
            "text/html": [
              "<br>    <style><br>        .wandb-row {<br>            display: flex;<br>            flex-direction: row;<br>            flex-wrap: wrap;<br>            justify-content: flex-start;<br>            width: 100%;<br>        }<br>        .wandb-col {<br>            display: flex;<br>            flex-direction: column;<br>            flex-basis: 100%;<br>            flex: 1;<br>            padding: 10px;<br>        }<br>    </style><br><div class=\"wandb-row\"><div class=\"wandb-col\"><h3>Run history:</h3><br/><table class=\"wandb\"><tr><td>eval/accuracy</td><td>▁</td></tr><tr><td>eval/f1</td><td>▁</td></tr><tr><td>eval/loss</td><td>▁</td></tr><tr><td>eval/precision</td><td>▁</td></tr><tr><td>eval/recall</td><td>▁</td></tr><tr><td>eval/runtime</td><td>▁</td></tr><tr><td>eval/samples_per_second</td><td>▁</td></tr><tr><td>eval/steps_per_second</td><td>▁</td></tr><tr><td>train/epoch</td><td>▁▄▆██</td></tr><tr><td>train/global_step</td><td>▁▄▆██</td></tr><tr><td>train/grad_norm</td><td>▁█▆</td></tr><tr><td>train/learning_rate</td><td>█▄▁</td></tr><tr><td>train/loss</td><td>▁▁▁</td></tr></table><br/></div><div class=\"wandb-col\"><h3>Run summary:</h3><br/><table class=\"wandb\"><tr><td>eval/accuracy</td><td>0.77778</td></tr><tr><td>eval/f1</td><td>0.77832</td></tr><tr><td>eval/loss</td><td>2.0581</td></tr><tr><td>eval/precision</td><td>0.79398</td></tr><tr><td>eval/recall</td><td>0.77778</td></tr><tr><td>eval/runtime</td><td>0.5347</td></tr><tr><td>eval/samples_per_second</td><td>235.635</td></tr><tr><td>eval/steps_per_second</td><td>59.844</td></tr><tr><td>total_flos</td><td>477159493017600.0</td></tr><tr><td>train/epoch</td><td>25</td></tr><tr><td>train/global_step</td><td>1825</td></tr><tr><td>train/grad_norm</td><td>0.0002</td></tr><tr><td>train/learning_rate</td><td>0.0</td></tr><tr><td>train/loss</td><td>0</td></tr><tr><td>train_loss</td><td>0.0</td></tr><tr><td>train_runtime</td><td>120.7929</td></tr><tr><td>train_samples_per_second</td><td>60.434</td></tr><tr><td>train_steps_per_second</td><td>15.109</td></tr></table><br/></div></div>"
            ]
          },
          "metadata": {}
        },
        {
          "output_type": "display_data",
          "data": {
            "text/plain": [
              "<IPython.core.display.HTML object>"
            ],
            "text/html": [
              " View run <strong style=\"color:#cdcd00\">ns_model_window_1lr_1.0e-06_bs_4_wd_1.0e-01_ws_100_gas_1</strong> at: <a href='https://wandb.ai/h-driver/huggingface/runs/g8gmwhjz' target=\"_blank\">https://wandb.ai/h-driver/huggingface/runs/g8gmwhjz</a><br> View project at: <a href='https://wandb.ai/h-driver/huggingface' target=\"_blank\">https://wandb.ai/h-driver/huggingface</a><br>Synced 5 W&B file(s), 0 media file(s), 0 artifact file(s) and 0 other file(s)"
            ]
          },
          "metadata": {}
        },
        {
          "output_type": "display_data",
          "data": {
            "text/plain": [
              "<IPython.core.display.HTML object>"
            ],
            "text/html": [
              "Find logs at: <code>./wandb/run-20250302_152557-g8gmwhjz/logs</code>"
            ]
          },
          "metadata": {}
        },
        {
          "output_type": "stream",
          "name": "stderr",
          "text": [
            "<ipython-input-78-e282a38656c6>:26: FutureWarning: `tokenizer` is deprecated and will be removed in version 5.0.0 for `Trainer.__init__`. Use `processing_class` instead.\n",
            "  trainer = Trainer(\n"
          ]
        },
        {
          "output_type": "display_data",
          "data": {
            "text/plain": [
              "<IPython.core.display.HTML object>"
            ],
            "text/html": [
              "Tracking run with wandb version 0.19.7"
            ]
          },
          "metadata": {}
        },
        {
          "output_type": "display_data",
          "data": {
            "text/plain": [
              "<IPython.core.display.HTML object>"
            ],
            "text/html": [
              "Run data is saved locally in <code>/content/drive/MyDrive/Colab Notebooks/Math_Graph/pickle_files/wandb/run-20250302_152801-8gpdzbup</code>"
            ]
          },
          "metadata": {}
        },
        {
          "output_type": "display_data",
          "data": {
            "text/plain": [
              "<IPython.core.display.HTML object>"
            ],
            "text/html": [
              "Syncing run <strong><a href='https://wandb.ai/h-driver/huggingface/runs/8gpdzbup' target=\"_blank\">ns_model_window_1lr_1.0e-06_bs_32_wd_1.0e-05_ws_100_gas_1</a></strong> to <a href='https://wandb.ai/h-driver/huggingface' target=\"_blank\">Weights & Biases</a> (<a href='https://wandb.me/developer-guide' target=\"_blank\">docs</a>)<br>"
            ]
          },
          "metadata": {}
        },
        {
          "output_type": "display_data",
          "data": {
            "text/plain": [
              "<IPython.core.display.HTML object>"
            ],
            "text/html": [
              " View project at <a href='https://wandb.ai/h-driver/huggingface' target=\"_blank\">https://wandb.ai/h-driver/huggingface</a>"
            ]
          },
          "metadata": {}
        },
        {
          "output_type": "display_data",
          "data": {
            "text/plain": [
              "<IPython.core.display.HTML object>"
            ],
            "text/html": [
              " View run at <a href='https://wandb.ai/h-driver/huggingface/runs/8gpdzbup' target=\"_blank\">https://wandb.ai/h-driver/huggingface/runs/8gpdzbup</a>"
            ]
          },
          "metadata": {}
        },
        {
          "output_type": "stream",
          "name": "stdout",
          "text": [
            "{'train_runtime': 90.3395, 'train_samples_per_second': 80.806, 'train_steps_per_second': 2.767, 'train_loss': 1.5506205381825566e-06, 'epoch': 25.0}\n",
            "{'eval_loss': 2.0665907859802246, 'eval_accuracy': 0.7777777777777778, 'eval_f1': 0.7783167006736801, 'eval_precision': 0.7939785743357172, 'eval_recall': 0.7777777777777778, 'eval_runtime': 0.4012, 'eval_samples_per_second': 314.045, 'eval_steps_per_second': 9.97, 'epoch': 25.0}\n"
          ]
        },
        {
          "output_type": "display_data",
          "data": {
            "text/plain": [
              "<IPython.core.display.HTML object>"
            ],
            "text/html": []
          },
          "metadata": {}
        },
        {
          "output_type": "display_data",
          "data": {
            "text/plain": [
              "<IPython.core.display.HTML object>"
            ],
            "text/html": [
              "<br>    <style><br>        .wandb-row {<br>            display: flex;<br>            flex-direction: row;<br>            flex-wrap: wrap;<br>            justify-content: flex-start;<br>            width: 100%;<br>        }<br>        .wandb-col {<br>            display: flex;<br>            flex-direction: column;<br>            flex-basis: 100%;<br>            flex: 1;<br>            padding: 10px;<br>        }<br>    </style><br><div class=\"wandb-row\"><div class=\"wandb-col\"><h3>Run history:</h3><br/><table class=\"wandb\"><tr><td>eval/accuracy</td><td>▁</td></tr><tr><td>eval/f1</td><td>▁</td></tr><tr><td>eval/loss</td><td>▁</td></tr><tr><td>eval/precision</td><td>▁</td></tr><tr><td>eval/recall</td><td>▁</td></tr><tr><td>eval/runtime</td><td>▁</td></tr><tr><td>eval/samples_per_second</td><td>▁</td></tr><tr><td>eval/steps_per_second</td><td>▁</td></tr><tr><td>train/epoch</td><td>▁▁</td></tr><tr><td>train/global_step</td><td>▁▁</td></tr></table><br/></div><div class=\"wandb-col\"><h3>Run summary:</h3><br/><table class=\"wandb\"><tr><td>eval/accuracy</td><td>0.77778</td></tr><tr><td>eval/f1</td><td>0.77832</td></tr><tr><td>eval/loss</td><td>2.06659</td></tr><tr><td>eval/precision</td><td>0.79398</td></tr><tr><td>eval/recall</td><td>0.77778</td></tr><tr><td>eval/runtime</td><td>0.4012</td></tr><tr><td>eval/samples_per_second</td><td>314.045</td></tr><tr><td>eval/steps_per_second</td><td>9.97</td></tr><tr><td>total_flos</td><td>477159493017600.0</td></tr><tr><td>train/epoch</td><td>25</td></tr><tr><td>train/global_step</td><td>250</td></tr><tr><td>train_loss</td><td>0.0</td></tr><tr><td>train_runtime</td><td>90.3395</td></tr><tr><td>train_samples_per_second</td><td>80.806</td></tr><tr><td>train_steps_per_second</td><td>2.767</td></tr></table><br/></div></div>"
            ]
          },
          "metadata": {}
        },
        {
          "output_type": "display_data",
          "data": {
            "text/plain": [
              "<IPython.core.display.HTML object>"
            ],
            "text/html": [
              " View run <strong style=\"color:#cdcd00\">ns_model_window_1lr_1.0e-06_bs_32_wd_1.0e-05_ws_100_gas_1</strong> at: <a href='https://wandb.ai/h-driver/huggingface/runs/8gpdzbup' target=\"_blank\">https://wandb.ai/h-driver/huggingface/runs/8gpdzbup</a><br> View project at: <a href='https://wandb.ai/h-driver/huggingface' target=\"_blank\">https://wandb.ai/h-driver/huggingface</a><br>Synced 5 W&B file(s), 0 media file(s), 0 artifact file(s) and 0 other file(s)"
            ]
          },
          "metadata": {}
        },
        {
          "output_type": "display_data",
          "data": {
            "text/plain": [
              "<IPython.core.display.HTML object>"
            ],
            "text/html": [
              "Find logs at: <code>./wandb/run-20250302_152801-8gpdzbup/logs</code>"
            ]
          },
          "metadata": {}
        },
        {
          "output_type": "stream",
          "name": "stderr",
          "text": [
            "<ipython-input-78-e282a38656c6>:26: FutureWarning: `tokenizer` is deprecated and will be removed in version 5.0.0 for `Trainer.__init__`. Use `processing_class` instead.\n",
            "  trainer = Trainer(\n"
          ]
        },
        {
          "output_type": "display_data",
          "data": {
            "text/plain": [
              "<IPython.core.display.HTML object>"
            ],
            "text/html": [
              "Tracking run with wandb version 0.19.7"
            ]
          },
          "metadata": {}
        },
        {
          "output_type": "display_data",
          "data": {
            "text/plain": [
              "<IPython.core.display.HTML object>"
            ],
            "text/html": [
              "Run data is saved locally in <code>/content/drive/MyDrive/Colab Notebooks/Math_Graph/pickle_files/wandb/run-20250302_152935-i9l901lf</code>"
            ]
          },
          "metadata": {}
        },
        {
          "output_type": "display_data",
          "data": {
            "text/plain": [
              "<IPython.core.display.HTML object>"
            ],
            "text/html": [
              "Syncing run <strong><a href='https://wandb.ai/h-driver/huggingface/runs/i9l901lf' target=\"_blank\">ns_model_window_1lr_2.4e-06_bs_32_wd_1.0e-05_ws_2000_gas_1</a></strong> to <a href='https://wandb.ai/h-driver/huggingface' target=\"_blank\">Weights & Biases</a> (<a href='https://wandb.me/developer-guide' target=\"_blank\">docs</a>)<br>"
            ]
          },
          "metadata": {}
        },
        {
          "output_type": "display_data",
          "data": {
            "text/plain": [
              "<IPython.core.display.HTML object>"
            ],
            "text/html": [
              " View project at <a href='https://wandb.ai/h-driver/huggingface' target=\"_blank\">https://wandb.ai/h-driver/huggingface</a>"
            ]
          },
          "metadata": {}
        },
        {
          "output_type": "display_data",
          "data": {
            "text/plain": [
              "<IPython.core.display.HTML object>"
            ],
            "text/html": [
              " View run at <a href='https://wandb.ai/h-driver/huggingface/runs/i9l901lf' target=\"_blank\">https://wandb.ai/h-driver/huggingface/runs/i9l901lf</a>"
            ]
          },
          "metadata": {}
        },
        {
          "output_type": "stream",
          "name": "stdout",
          "text": [
            "{'train_runtime': 90.2619, 'train_samples_per_second': 80.876, 'train_steps_per_second': 2.77, 'train_loss': 1.4956367667764426e-06, 'epoch': 25.0}\n",
            "{'eval_loss': 2.0675604343414307, 'eval_accuracy': 0.7777777777777778, 'eval_f1': 0.7783167006736801, 'eval_precision': 0.7939785743357172, 'eval_recall': 0.7777777777777778, 'eval_runtime': 0.4056, 'eval_samples_per_second': 310.659, 'eval_steps_per_second': 9.862, 'epoch': 25.0}\n"
          ]
        },
        {
          "output_type": "display_data",
          "data": {
            "text/plain": [
              "<IPython.core.display.HTML object>"
            ],
            "text/html": []
          },
          "metadata": {}
        },
        {
          "output_type": "display_data",
          "data": {
            "text/plain": [
              "<IPython.core.display.HTML object>"
            ],
            "text/html": [
              "<br>    <style><br>        .wandb-row {<br>            display: flex;<br>            flex-direction: row;<br>            flex-wrap: wrap;<br>            justify-content: flex-start;<br>            width: 100%;<br>        }<br>        .wandb-col {<br>            display: flex;<br>            flex-direction: column;<br>            flex-basis: 100%;<br>            flex: 1;<br>            padding: 10px;<br>        }<br>    </style><br><div class=\"wandb-row\"><div class=\"wandb-col\"><h3>Run history:</h3><br/><table class=\"wandb\"><tr><td>eval/accuracy</td><td>▁</td></tr><tr><td>eval/f1</td><td>▁</td></tr><tr><td>eval/loss</td><td>▁</td></tr><tr><td>eval/precision</td><td>▁</td></tr><tr><td>eval/recall</td><td>▁</td></tr><tr><td>eval/runtime</td><td>▁</td></tr><tr><td>eval/samples_per_second</td><td>▁</td></tr><tr><td>eval/steps_per_second</td><td>▁</td></tr><tr><td>train/epoch</td><td>▁▁</td></tr><tr><td>train/global_step</td><td>▁▁</td></tr></table><br/></div><div class=\"wandb-col\"><h3>Run summary:</h3><br/><table class=\"wandb\"><tr><td>eval/accuracy</td><td>0.77778</td></tr><tr><td>eval/f1</td><td>0.77832</td></tr><tr><td>eval/loss</td><td>2.06756</td></tr><tr><td>eval/precision</td><td>0.79398</td></tr><tr><td>eval/recall</td><td>0.77778</td></tr><tr><td>eval/runtime</td><td>0.4056</td></tr><tr><td>eval/samples_per_second</td><td>310.659</td></tr><tr><td>eval/steps_per_second</td><td>9.862</td></tr><tr><td>total_flos</td><td>477159493017600.0</td></tr><tr><td>train/epoch</td><td>25</td></tr><tr><td>train/global_step</td><td>250</td></tr><tr><td>train_loss</td><td>0.0</td></tr><tr><td>train_runtime</td><td>90.2619</td></tr><tr><td>train_samples_per_second</td><td>80.876</td></tr><tr><td>train_steps_per_second</td><td>2.77</td></tr></table><br/></div></div>"
            ]
          },
          "metadata": {}
        },
        {
          "output_type": "display_data",
          "data": {
            "text/plain": [
              "<IPython.core.display.HTML object>"
            ],
            "text/html": [
              " View run <strong style=\"color:#cdcd00\">ns_model_window_1lr_2.4e-06_bs_32_wd_1.0e-05_ws_2000_gas_1</strong> at: <a href='https://wandb.ai/h-driver/huggingface/runs/i9l901lf' target=\"_blank\">https://wandb.ai/h-driver/huggingface/runs/i9l901lf</a><br> View project at: <a href='https://wandb.ai/h-driver/huggingface' target=\"_blank\">https://wandb.ai/h-driver/huggingface</a><br>Synced 5 W&B file(s), 0 media file(s), 0 artifact file(s) and 0 other file(s)"
            ]
          },
          "metadata": {}
        },
        {
          "output_type": "display_data",
          "data": {
            "text/plain": [
              "<IPython.core.display.HTML object>"
            ],
            "text/html": [
              "Find logs at: <code>./wandb/run-20250302_152935-i9l901lf/logs</code>"
            ]
          },
          "metadata": {}
        },
        {
          "output_type": "stream",
          "name": "stderr",
          "text": [
            "<ipython-input-78-e282a38656c6>:26: FutureWarning: `tokenizer` is deprecated and will be removed in version 5.0.0 for `Trainer.__init__`. Use `processing_class` instead.\n",
            "  trainer = Trainer(\n"
          ]
        },
        {
          "output_type": "display_data",
          "data": {
            "text/plain": [
              "<IPython.core.display.HTML object>"
            ],
            "text/html": [
              "Tracking run with wandb version 0.19.7"
            ]
          },
          "metadata": {}
        },
        {
          "output_type": "display_data",
          "data": {
            "text/plain": [
              "<IPython.core.display.HTML object>"
            ],
            "text/html": [
              "Run data is saved locally in <code>/content/drive/MyDrive/Colab Notebooks/Math_Graph/pickle_files/wandb/run-20250302_153108-kx3b3hky</code>"
            ]
          },
          "metadata": {}
        },
        {
          "output_type": "display_data",
          "data": {
            "text/plain": [
              "<IPython.core.display.HTML object>"
            ],
            "text/html": [
              "Syncing run <strong><a href='https://wandb.ai/h-driver/huggingface/runs/kx3b3hky' target=\"_blank\">ns_model_window_1lr_4.8e-05_bs_32_wd_7.0e-03_ws_100_gas_1</a></strong> to <a href='https://wandb.ai/h-driver/huggingface' target=\"_blank\">Weights & Biases</a> (<a href='https://wandb.me/developer-guide' target=\"_blank\">docs</a>)<br>"
            ]
          },
          "metadata": {}
        },
        {
          "output_type": "display_data",
          "data": {
            "text/plain": [
              "<IPython.core.display.HTML object>"
            ],
            "text/html": [
              " View project at <a href='https://wandb.ai/h-driver/huggingface' target=\"_blank\">https://wandb.ai/h-driver/huggingface</a>"
            ]
          },
          "metadata": {}
        },
        {
          "output_type": "display_data",
          "data": {
            "text/plain": [
              "<IPython.core.display.HTML object>"
            ],
            "text/html": [
              " View run at <a href='https://wandb.ai/h-driver/huggingface/runs/kx3b3hky' target=\"_blank\">https://wandb.ai/h-driver/huggingface/runs/kx3b3hky</a>"
            ]
          },
          "metadata": {}
        },
        {
          "output_type": "stream",
          "name": "stdout",
          "text": [
            "{'train_runtime': 90.3525, 'train_samples_per_second': 80.795, 'train_steps_per_second': 2.767, 'train_loss': 8.443942060694099e-07, 'epoch': 25.0}\n",
            "{'eval_loss': 2.1987922191619873, 'eval_accuracy': 0.7857142857142857, 'eval_f1': 0.7877340328239315, 'eval_precision': 0.8013481888481888, 'eval_recall': 0.7857142857142857, 'eval_runtime': 0.4017, 'eval_samples_per_second': 313.697, 'eval_steps_per_second': 9.959, 'epoch': 25.0}\n"
          ]
        },
        {
          "output_type": "display_data",
          "data": {
            "text/plain": [
              "<IPython.core.display.HTML object>"
            ],
            "text/html": []
          },
          "metadata": {}
        },
        {
          "output_type": "display_data",
          "data": {
            "text/plain": [
              "<IPython.core.display.HTML object>"
            ],
            "text/html": [
              "<br>    <style><br>        .wandb-row {<br>            display: flex;<br>            flex-direction: row;<br>            flex-wrap: wrap;<br>            justify-content: flex-start;<br>            width: 100%;<br>        }<br>        .wandb-col {<br>            display: flex;<br>            flex-direction: column;<br>            flex-basis: 100%;<br>            flex: 1;<br>            padding: 10px;<br>        }<br>    </style><br><div class=\"wandb-row\"><div class=\"wandb-col\"><h3>Run history:</h3><br/><table class=\"wandb\"><tr><td>eval/accuracy</td><td>▁</td></tr><tr><td>eval/f1</td><td>▁</td></tr><tr><td>eval/loss</td><td>▁</td></tr><tr><td>eval/precision</td><td>▁</td></tr><tr><td>eval/recall</td><td>▁</td></tr><tr><td>eval/runtime</td><td>▁</td></tr><tr><td>eval/samples_per_second</td><td>▁</td></tr><tr><td>eval/steps_per_second</td><td>▁</td></tr><tr><td>train/epoch</td><td>▁▁</td></tr><tr><td>train/global_step</td><td>▁▁</td></tr></table><br/></div><div class=\"wandb-col\"><h3>Run summary:</h3><br/><table class=\"wandb\"><tr><td>eval/accuracy</td><td>0.78571</td></tr><tr><td>eval/f1</td><td>0.78773</td></tr><tr><td>eval/loss</td><td>2.19879</td></tr><tr><td>eval/precision</td><td>0.80135</td></tr><tr><td>eval/recall</td><td>0.78571</td></tr><tr><td>eval/runtime</td><td>0.4017</td></tr><tr><td>eval/samples_per_second</td><td>313.697</td></tr><tr><td>eval/steps_per_second</td><td>9.959</td></tr><tr><td>total_flos</td><td>477159493017600.0</td></tr><tr><td>train/epoch</td><td>25</td></tr><tr><td>train/global_step</td><td>250</td></tr><tr><td>train_loss</td><td>0.0</td></tr><tr><td>train_runtime</td><td>90.3525</td></tr><tr><td>train_samples_per_second</td><td>80.795</td></tr><tr><td>train_steps_per_second</td><td>2.767</td></tr></table><br/></div></div>"
            ]
          },
          "metadata": {}
        },
        {
          "output_type": "display_data",
          "data": {
            "text/plain": [
              "<IPython.core.display.HTML object>"
            ],
            "text/html": [
              " View run <strong style=\"color:#cdcd00\">ns_model_window_1lr_4.8e-05_bs_32_wd_7.0e-03_ws_100_gas_1</strong> at: <a href='https://wandb.ai/h-driver/huggingface/runs/kx3b3hky' target=\"_blank\">https://wandb.ai/h-driver/huggingface/runs/kx3b3hky</a><br> View project at: <a href='https://wandb.ai/h-driver/huggingface' target=\"_blank\">https://wandb.ai/h-driver/huggingface</a><br>Synced 5 W&B file(s), 0 media file(s), 0 artifact file(s) and 0 other file(s)"
            ]
          },
          "metadata": {}
        },
        {
          "output_type": "display_data",
          "data": {
            "text/plain": [
              "<IPython.core.display.HTML object>"
            ],
            "text/html": [
              "Find logs at: <code>./wandb/run-20250302_153108-kx3b3hky/logs</code>"
            ]
          },
          "metadata": {}
        },
        {
          "output_type": "stream",
          "name": "stderr",
          "text": [
            "<ipython-input-78-e282a38656c6>:26: FutureWarning: `tokenizer` is deprecated and will be removed in version 5.0.0 for `Trainer.__init__`. Use `processing_class` instead.\n",
            "  trainer = Trainer(\n"
          ]
        },
        {
          "output_type": "display_data",
          "data": {
            "text/plain": [
              "<IPython.core.display.HTML object>"
            ],
            "text/html": [
              "Tracking run with wandb version 0.19.7"
            ]
          },
          "metadata": {}
        },
        {
          "output_type": "display_data",
          "data": {
            "text/plain": [
              "<IPython.core.display.HTML object>"
            ],
            "text/html": [
              "Run data is saved locally in <code>/content/drive/MyDrive/Colab Notebooks/Math_Graph/pickle_files/wandb/run-20250302_153242-id3f7tz6</code>"
            ]
          },
          "metadata": {}
        },
        {
          "output_type": "display_data",
          "data": {
            "text/plain": [
              "<IPython.core.display.HTML object>"
            ],
            "text/html": [
              "Syncing run <strong><a href='https://wandb.ai/h-driver/huggingface/runs/id3f7tz6' target=\"_blank\">ns_model_window_1lr_1.0e-03_bs_32_wd_1.0e-05_ws_100_gas_4</a></strong> to <a href='https://wandb.ai/h-driver/huggingface' target=\"_blank\">Weights & Biases</a> (<a href='https://wandb.me/developer-guide' target=\"_blank\">docs</a>)<br>"
            ]
          },
          "metadata": {}
        },
        {
          "output_type": "display_data",
          "data": {
            "text/plain": [
              "<IPython.core.display.HTML object>"
            ],
            "text/html": [
              " View project at <a href='https://wandb.ai/h-driver/huggingface' target=\"_blank\">https://wandb.ai/h-driver/huggingface</a>"
            ]
          },
          "metadata": {}
        },
        {
          "output_type": "display_data",
          "data": {
            "text/plain": [
              "<IPython.core.display.HTML object>"
            ],
            "text/html": [
              " View run at <a href='https://wandb.ai/h-driver/huggingface/runs/id3f7tz6' target=\"_blank\">https://wandb.ai/h-driver/huggingface/runs/id3f7tz6</a>"
            ]
          },
          "metadata": {}
        },
        {
          "output_type": "stream",
          "name": "stdout",
          "text": [
            "{'train_runtime': 60.5537, 'train_samples_per_second': 120.554, 'train_steps_per_second': 0.826, 'train_loss': 6.603424844797701e-07, 'epoch': 16.8}\n",
            "{'eval_loss': 2.521421194076538, 'eval_accuracy': 0.7777777777777778, 'eval_f1': 0.7749349118669159, 'eval_precision': 0.7816250548393404, 'eval_recall': 0.7777777777777778, 'eval_runtime': 0.4011, 'eval_samples_per_second': 314.129, 'eval_steps_per_second': 9.972, 'epoch': 16.8}\n"
          ]
        },
        {
          "output_type": "display_data",
          "data": {
            "text/plain": [
              "<IPython.core.display.HTML object>"
            ],
            "text/html": []
          },
          "metadata": {}
        },
        {
          "output_type": "display_data",
          "data": {
            "text/plain": [
              "<IPython.core.display.HTML object>"
            ],
            "text/html": [
              "<br>    <style><br>        .wandb-row {<br>            display: flex;<br>            flex-direction: row;<br>            flex-wrap: wrap;<br>            justify-content: flex-start;<br>            width: 100%;<br>        }<br>        .wandb-col {<br>            display: flex;<br>            flex-direction: column;<br>            flex-basis: 100%;<br>            flex: 1;<br>            padding: 10px;<br>        }<br>    </style><br><div class=\"wandb-row\"><div class=\"wandb-col\"><h3>Run history:</h3><br/><table class=\"wandb\"><tr><td>eval/accuracy</td><td>▁</td></tr><tr><td>eval/f1</td><td>▁</td></tr><tr><td>eval/loss</td><td>▁</td></tr><tr><td>eval/precision</td><td>▁</td></tr><tr><td>eval/recall</td><td>▁</td></tr><tr><td>eval/runtime</td><td>▁</td></tr><tr><td>eval/samples_per_second</td><td>▁</td></tr><tr><td>eval/steps_per_second</td><td>▁</td></tr><tr><td>train/epoch</td><td>▁▁</td></tr><tr><td>train/global_step</td><td>▁▁</td></tr></table><br/></div><div class=\"wandb-col\"><h3>Run summary:</h3><br/><table class=\"wandb\"><tr><td>eval/accuracy</td><td>0.77778</td></tr><tr><td>eval/f1</td><td>0.77493</td></tr><tr><td>eval/loss</td><td>2.52142</td></tr><tr><td>eval/precision</td><td>0.78163</td></tr><tr><td>eval/recall</td><td>0.77778</td></tr><tr><td>eval/runtime</td><td>0.4011</td></tr><tr><td>eval/samples_per_second</td><td>314.129</td></tr><tr><td>eval/steps_per_second</td><td>9.972</td></tr><tr><td>total_flos</td><td>322115339943936.0</td></tr><tr><td>train/epoch</td><td>16.8</td></tr><tr><td>train/global_step</td><td>50</td></tr><tr><td>train_loss</td><td>0.0</td></tr><tr><td>train_runtime</td><td>60.5537</td></tr><tr><td>train_samples_per_second</td><td>120.554</td></tr><tr><td>train_steps_per_second</td><td>0.826</td></tr></table><br/></div></div>"
            ]
          },
          "metadata": {}
        },
        {
          "output_type": "display_data",
          "data": {
            "text/plain": [
              "<IPython.core.display.HTML object>"
            ],
            "text/html": [
              " View run <strong style=\"color:#cdcd00\">ns_model_window_1lr_1.0e-03_bs_32_wd_1.0e-05_ws_100_gas_4</strong> at: <a href='https://wandb.ai/h-driver/huggingface/runs/id3f7tz6' target=\"_blank\">https://wandb.ai/h-driver/huggingface/runs/id3f7tz6</a><br> View project at: <a href='https://wandb.ai/h-driver/huggingface' target=\"_blank\">https://wandb.ai/h-driver/huggingface</a><br>Synced 5 W&B file(s), 0 media file(s), 0 artifact file(s) and 0 other file(s)"
            ]
          },
          "metadata": {}
        },
        {
          "output_type": "display_data",
          "data": {
            "text/plain": [
              "<IPython.core.display.HTML object>"
            ],
            "text/html": [
              "Find logs at: <code>./wandb/run-20250302_153242-id3f7tz6/logs</code>"
            ]
          },
          "metadata": {}
        },
        {
          "output_type": "stream",
          "name": "stderr",
          "text": [
            "<ipython-input-78-e282a38656c6>:26: FutureWarning: `tokenizer` is deprecated and will be removed in version 5.0.0 for `Trainer.__init__`. Use `processing_class` instead.\n",
            "  trainer = Trainer(\n"
          ]
        },
        {
          "output_type": "display_data",
          "data": {
            "text/plain": [
              "<IPython.core.display.HTML object>"
            ],
            "text/html": [
              "Tracking run with wandb version 0.19.7"
            ]
          },
          "metadata": {}
        },
        {
          "output_type": "display_data",
          "data": {
            "text/plain": [
              "<IPython.core.display.HTML object>"
            ],
            "text/html": [
              "Run data is saved locally in <code>/content/drive/MyDrive/Colab Notebooks/Math_Graph/pickle_files/wandb/run-20250302_153347-guynn38s</code>"
            ]
          },
          "metadata": {}
        },
        {
          "output_type": "display_data",
          "data": {
            "text/plain": [
              "<IPython.core.display.HTML object>"
            ],
            "text/html": [
              "Syncing run <strong><a href='https://wandb.ai/h-driver/huggingface/runs/guynn38s' target=\"_blank\">ns_model_window_1lr_1.0e-06_bs_32_wd_1.0e-05_ws_100_gas_1</a></strong> to <a href='https://wandb.ai/h-driver/huggingface' target=\"_blank\">Weights & Biases</a> (<a href='https://wandb.me/developer-guide' target=\"_blank\">docs</a>)<br>"
            ]
          },
          "metadata": {}
        },
        {
          "output_type": "display_data",
          "data": {
            "text/plain": [
              "<IPython.core.display.HTML object>"
            ],
            "text/html": [
              " View project at <a href='https://wandb.ai/h-driver/huggingface' target=\"_blank\">https://wandb.ai/h-driver/huggingface</a>"
            ]
          },
          "metadata": {}
        },
        {
          "output_type": "display_data",
          "data": {
            "text/plain": [
              "<IPython.core.display.HTML object>"
            ],
            "text/html": [
              " View run at <a href='https://wandb.ai/h-driver/huggingface/runs/guynn38s' target=\"_blank\">https://wandb.ai/h-driver/huggingface/runs/guynn38s</a>"
            ]
          },
          "metadata": {}
        },
        {
          "output_type": "stream",
          "name": "stdout",
          "text": [
            "{'train_runtime': 90.3147, 'train_samples_per_second': 80.828, 'train_steps_per_second': 2.768, 'train_loss': 3.1664960260968654e-08, 'epoch': 25.0}\n",
            "{'eval_loss': 2.522679328918457, 'eval_accuracy': 0.7777777777777778, 'eval_f1': 0.7749349118669159, 'eval_precision': 0.7816250548393404, 'eval_recall': 0.7777777777777778, 'eval_runtime': 0.4005, 'eval_samples_per_second': 314.618, 'eval_steps_per_second': 9.988, 'epoch': 25.0}\n"
          ]
        },
        {
          "output_type": "display_data",
          "data": {
            "text/plain": [
              "<IPython.core.display.HTML object>"
            ],
            "text/html": []
          },
          "metadata": {}
        },
        {
          "output_type": "display_data",
          "data": {
            "text/plain": [
              "<IPython.core.display.HTML object>"
            ],
            "text/html": [
              "<br>    <style><br>        .wandb-row {<br>            display: flex;<br>            flex-direction: row;<br>            flex-wrap: wrap;<br>            justify-content: flex-start;<br>            width: 100%;<br>        }<br>        .wandb-col {<br>            display: flex;<br>            flex-direction: column;<br>            flex-basis: 100%;<br>            flex: 1;<br>            padding: 10px;<br>        }<br>    </style><br><div class=\"wandb-row\"><div class=\"wandb-col\"><h3>Run history:</h3><br/><table class=\"wandb\"><tr><td>eval/accuracy</td><td>▁</td></tr><tr><td>eval/f1</td><td>▁</td></tr><tr><td>eval/loss</td><td>▁</td></tr><tr><td>eval/precision</td><td>▁</td></tr><tr><td>eval/recall</td><td>▁</td></tr><tr><td>eval/runtime</td><td>▁</td></tr><tr><td>eval/samples_per_second</td><td>▁</td></tr><tr><td>eval/steps_per_second</td><td>▁</td></tr><tr><td>train/epoch</td><td>▁▁</td></tr><tr><td>train/global_step</td><td>▁▁</td></tr></table><br/></div><div class=\"wandb-col\"><h3>Run summary:</h3><br/><table class=\"wandb\"><tr><td>eval/accuracy</td><td>0.77778</td></tr><tr><td>eval/f1</td><td>0.77493</td></tr><tr><td>eval/loss</td><td>2.52268</td></tr><tr><td>eval/precision</td><td>0.78163</td></tr><tr><td>eval/recall</td><td>0.77778</td></tr><tr><td>eval/runtime</td><td>0.4005</td></tr><tr><td>eval/samples_per_second</td><td>314.618</td></tr><tr><td>eval/steps_per_second</td><td>9.988</td></tr><tr><td>total_flos</td><td>477159493017600.0</td></tr><tr><td>train/epoch</td><td>25</td></tr><tr><td>train/global_step</td><td>250</td></tr><tr><td>train_loss</td><td>0.0</td></tr><tr><td>train_runtime</td><td>90.3147</td></tr><tr><td>train_samples_per_second</td><td>80.828</td></tr><tr><td>train_steps_per_second</td><td>2.768</td></tr></table><br/></div></div>"
            ]
          },
          "metadata": {}
        },
        {
          "output_type": "display_data",
          "data": {
            "text/plain": [
              "<IPython.core.display.HTML object>"
            ],
            "text/html": [
              " View run <strong style=\"color:#cdcd00\">ns_model_window_1lr_1.0e-06_bs_32_wd_1.0e-05_ws_100_gas_1</strong> at: <a href='https://wandb.ai/h-driver/huggingface/runs/guynn38s' target=\"_blank\">https://wandb.ai/h-driver/huggingface/runs/guynn38s</a><br> View project at: <a href='https://wandb.ai/h-driver/huggingface' target=\"_blank\">https://wandb.ai/h-driver/huggingface</a><br>Synced 5 W&B file(s), 0 media file(s), 0 artifact file(s) and 0 other file(s)"
            ]
          },
          "metadata": {}
        },
        {
          "output_type": "display_data",
          "data": {
            "text/plain": [
              "<IPython.core.display.HTML object>"
            ],
            "text/html": [
              "Find logs at: <code>./wandb/run-20250302_153347-guynn38s/logs</code>"
            ]
          },
          "metadata": {}
        },
        {
          "output_type": "stream",
          "name": "stderr",
          "text": [
            "<ipython-input-78-e282a38656c6>:26: FutureWarning: `tokenizer` is deprecated and will be removed in version 5.0.0 for `Trainer.__init__`. Use `processing_class` instead.\n",
            "  trainer = Trainer(\n"
          ]
        },
        {
          "output_type": "display_data",
          "data": {
            "text/plain": [
              "<IPython.core.display.HTML object>"
            ],
            "text/html": [
              "Tracking run with wandb version 0.19.7"
            ]
          },
          "metadata": {}
        },
        {
          "output_type": "display_data",
          "data": {
            "text/plain": [
              "<IPython.core.display.HTML object>"
            ],
            "text/html": [
              "Run data is saved locally in <code>/content/drive/MyDrive/Colab Notebooks/Math_Graph/pickle_files/wandb/run-20250302_153521-vzhz43km</code>"
            ]
          },
          "metadata": {}
        },
        {
          "output_type": "display_data",
          "data": {
            "text/plain": [
              "<IPython.core.display.HTML object>"
            ],
            "text/html": [
              "Syncing run <strong><a href='https://wandb.ai/h-driver/huggingface/runs/vzhz43km' target=\"_blank\">ns_model_window_1lr_1.9e-04_bs_4_wd_1.0e-05_ws_2000_gas_1</a></strong> to <a href='https://wandb.ai/h-driver/huggingface' target=\"_blank\">Weights & Biases</a> (<a href='https://wandb.me/developer-guide' target=\"_blank\">docs</a>)<br>"
            ]
          },
          "metadata": {}
        },
        {
          "output_type": "display_data",
          "data": {
            "text/plain": [
              "<IPython.core.display.HTML object>"
            ],
            "text/html": [
              " View project at <a href='https://wandb.ai/h-driver/huggingface' target=\"_blank\">https://wandb.ai/h-driver/huggingface</a>"
            ]
          },
          "metadata": {}
        },
        {
          "output_type": "display_data",
          "data": {
            "text/plain": [
              "<IPython.core.display.HTML object>"
            ],
            "text/html": [
              " View run at <a href='https://wandb.ai/h-driver/huggingface/runs/vzhz43km' target=\"_blank\">https://wandb.ai/h-driver/huggingface/runs/vzhz43km</a>"
            ]
          },
          "metadata": {}
        },
        {
          "output_type": "stream",
          "name": "stdout",
          "text": [
            "{'loss': 0.0, 'grad_norm': 3.7164551258683787e-07, 'learning_rate': 4.636295109090229e-05, 'epoch': 6.8493150684931505}\n",
            "{'loss': 0.0, 'grad_norm': 1.430725092177454e-06, 'learning_rate': 9.272590218180458e-05, 'epoch': 13.698630136986301}\n",
            "{'loss': 0.0, 'grad_norm': 3.19359372724648e-07, 'learning_rate': 0.00013908885327270688, 'epoch': 20.54794520547945}\n",
            "{'train_runtime': 120.776, 'train_samples_per_second': 60.442, 'train_steps_per_second': 15.111, 'train_loss': 1.188826655529177e-08, 'epoch': 25.0}\n",
            "{'eval_loss': 2.4852077960968018, 'eval_accuracy': 0.7857142857142857, 'eval_f1': 0.78432172358292, 'eval_precision': 0.7961201717154098, 'eval_recall': 0.7857142857142857, 'eval_runtime': 0.5325, 'eval_samples_per_second': 236.617, 'eval_steps_per_second': 60.093, 'epoch': 25.0}\n"
          ]
        },
        {
          "output_type": "display_data",
          "data": {
            "text/plain": [
              "<IPython.core.display.HTML object>"
            ],
            "text/html": []
          },
          "metadata": {}
        },
        {
          "output_type": "display_data",
          "data": {
            "text/plain": [
              "<IPython.core.display.HTML object>"
            ],
            "text/html": [
              "<br>    <style><br>        .wandb-row {<br>            display: flex;<br>            flex-direction: row;<br>            flex-wrap: wrap;<br>            justify-content: flex-start;<br>            width: 100%;<br>        }<br>        .wandb-col {<br>            display: flex;<br>            flex-direction: column;<br>            flex-basis: 100%;<br>            flex: 1;<br>            padding: 10px;<br>        }<br>    </style><br><div class=\"wandb-row\"><div class=\"wandb-col\"><h3>Run history:</h3><br/><table class=\"wandb\"><tr><td>eval/accuracy</td><td>▁</td></tr><tr><td>eval/f1</td><td>▁</td></tr><tr><td>eval/loss</td><td>▁</td></tr><tr><td>eval/precision</td><td>▁</td></tr><tr><td>eval/recall</td><td>▁</td></tr><tr><td>eval/runtime</td><td>▁</td></tr><tr><td>eval/samples_per_second</td><td>▁</td></tr><tr><td>eval/steps_per_second</td><td>▁</td></tr><tr><td>train/epoch</td><td>▁▄▆██</td></tr><tr><td>train/global_step</td><td>▁▄▆██</td></tr><tr><td>train/grad_norm</td><td>▁█▁</td></tr><tr><td>train/learning_rate</td><td>▁▅█</td></tr><tr><td>train/loss</td><td>▁▁▁</td></tr></table><br/></div><div class=\"wandb-col\"><h3>Run summary:</h3><br/><table class=\"wandb\"><tr><td>eval/accuracy</td><td>0.78571</td></tr><tr><td>eval/f1</td><td>0.78432</td></tr><tr><td>eval/loss</td><td>2.48521</td></tr><tr><td>eval/precision</td><td>0.79612</td></tr><tr><td>eval/recall</td><td>0.78571</td></tr><tr><td>eval/runtime</td><td>0.5325</td></tr><tr><td>eval/samples_per_second</td><td>236.617</td></tr><tr><td>eval/steps_per_second</td><td>60.093</td></tr><tr><td>total_flos</td><td>477159493017600.0</td></tr><tr><td>train/epoch</td><td>25</td></tr><tr><td>train/global_step</td><td>1825</td></tr><tr><td>train/grad_norm</td><td>0.0</td></tr><tr><td>train/learning_rate</td><td>0.00014</td></tr><tr><td>train/loss</td><td>0</td></tr><tr><td>train_loss</td><td>0.0</td></tr><tr><td>train_runtime</td><td>120.776</td></tr><tr><td>train_samples_per_second</td><td>60.442</td></tr><tr><td>train_steps_per_second</td><td>15.111</td></tr></table><br/></div></div>"
            ]
          },
          "metadata": {}
        },
        {
          "output_type": "display_data",
          "data": {
            "text/plain": [
              "<IPython.core.display.HTML object>"
            ],
            "text/html": [
              " View run <strong style=\"color:#cdcd00\">ns_model_window_1lr_1.9e-04_bs_4_wd_1.0e-05_ws_2000_gas_1</strong> at: <a href='https://wandb.ai/h-driver/huggingface/runs/vzhz43km' target=\"_blank\">https://wandb.ai/h-driver/huggingface/runs/vzhz43km</a><br> View project at: <a href='https://wandb.ai/h-driver/huggingface' target=\"_blank\">https://wandb.ai/h-driver/huggingface</a><br>Synced 5 W&B file(s), 0 media file(s), 0 artifact file(s) and 0 other file(s)"
            ]
          },
          "metadata": {}
        },
        {
          "output_type": "display_data",
          "data": {
            "text/plain": [
              "<IPython.core.display.HTML object>"
            ],
            "text/html": [
              "Find logs at: <code>./wandb/run-20250302_153521-vzhz43km/logs</code>"
            ]
          },
          "metadata": {}
        },
        {
          "output_type": "stream",
          "name": "stderr",
          "text": [
            "<ipython-input-78-e282a38656c6>:26: FutureWarning: `tokenizer` is deprecated and will be removed in version 5.0.0 for `Trainer.__init__`. Use `processing_class` instead.\n",
            "  trainer = Trainer(\n"
          ]
        },
        {
          "output_type": "display_data",
          "data": {
            "text/plain": [
              "<IPython.core.display.HTML object>"
            ],
            "text/html": [
              "Tracking run with wandb version 0.19.7"
            ]
          },
          "metadata": {}
        },
        {
          "output_type": "display_data",
          "data": {
            "text/plain": [
              "<IPython.core.display.HTML object>"
            ],
            "text/html": [
              "Run data is saved locally in <code>/content/drive/MyDrive/Colab Notebooks/Math_Graph/pickle_files/wandb/run-20250302_153725-tfcazkyj</code>"
            ]
          },
          "metadata": {}
        },
        {
          "output_type": "display_data",
          "data": {
            "text/plain": [
              "<IPython.core.display.HTML object>"
            ],
            "text/html": [
              "Syncing run <strong><a href='https://wandb.ai/h-driver/huggingface/runs/tfcazkyj' target=\"_blank\">ns_model_window_1lr_1.3e-06_bs_4_wd_1.8e-02_ws_2000_gas_1</a></strong> to <a href='https://wandb.ai/h-driver/huggingface' target=\"_blank\">Weights & Biases</a> (<a href='https://wandb.me/developer-guide' target=\"_blank\">docs</a>)<br>"
            ]
          },
          "metadata": {}
        },
        {
          "output_type": "display_data",
          "data": {
            "text/plain": [
              "<IPython.core.display.HTML object>"
            ],
            "text/html": [
              " View project at <a href='https://wandb.ai/h-driver/huggingface' target=\"_blank\">https://wandb.ai/h-driver/huggingface</a>"
            ]
          },
          "metadata": {}
        },
        {
          "output_type": "display_data",
          "data": {
            "text/plain": [
              "<IPython.core.display.HTML object>"
            ],
            "text/html": [
              " View run at <a href='https://wandb.ai/h-driver/huggingface/runs/tfcazkyj' target=\"_blank\">https://wandb.ai/h-driver/huggingface/runs/tfcazkyj</a>"
            ]
          },
          "metadata": {}
        },
        {
          "output_type": "stream",
          "name": "stdout",
          "text": [
            "{'loss': 0.0, 'grad_norm': 1.3387672481712798e-07, 'learning_rate': 3.1950778223811783e-07, 'epoch': 6.8493150684931505}\n",
            "{'loss': 0.0, 'grad_norm': 3.455367050264613e-07, 'learning_rate': 6.390155644762357e-07, 'epoch': 13.698630136986301}\n",
            "{'loss': 0.0, 'grad_norm': 3.095315435075463e-07, 'learning_rate': 9.585233467143535e-07, 'epoch': 20.54794520547945}\n",
            "{'train_runtime': 120.6803, 'train_samples_per_second': 60.49, 'train_steps_per_second': 15.123, 'train_loss': 9.961323183059194e-10, 'epoch': 25.0}\n",
            "{'eval_loss': 2.4893460273742676, 'eval_accuracy': 0.7857142857142857, 'eval_f1': 0.78432172358292, 'eval_precision': 0.7961201717154098, 'eval_recall': 0.7857142857142857, 'eval_runtime': 0.5321, 'eval_samples_per_second': 236.795, 'eval_steps_per_second': 60.138, 'epoch': 25.0}\n"
          ]
        },
        {
          "output_type": "display_data",
          "data": {
            "text/plain": [
              "<IPython.core.display.HTML object>"
            ],
            "text/html": []
          },
          "metadata": {}
        },
        {
          "output_type": "display_data",
          "data": {
            "text/plain": [
              "<IPython.core.display.HTML object>"
            ],
            "text/html": [
              "<br>    <style><br>        .wandb-row {<br>            display: flex;<br>            flex-direction: row;<br>            flex-wrap: wrap;<br>            justify-content: flex-start;<br>            width: 100%;<br>        }<br>        .wandb-col {<br>            display: flex;<br>            flex-direction: column;<br>            flex-basis: 100%;<br>            flex: 1;<br>            padding: 10px;<br>        }<br>    </style><br><div class=\"wandb-row\"><div class=\"wandb-col\"><h3>Run history:</h3><br/><table class=\"wandb\"><tr><td>eval/accuracy</td><td>▁</td></tr><tr><td>eval/f1</td><td>▁</td></tr><tr><td>eval/loss</td><td>▁</td></tr><tr><td>eval/precision</td><td>▁</td></tr><tr><td>eval/recall</td><td>▁</td></tr><tr><td>eval/runtime</td><td>▁</td></tr><tr><td>eval/samples_per_second</td><td>▁</td></tr><tr><td>eval/steps_per_second</td><td>▁</td></tr><tr><td>train/epoch</td><td>▁▄▆██</td></tr><tr><td>train/global_step</td><td>▁▄▆██</td></tr><tr><td>train/grad_norm</td><td>▁█▇</td></tr><tr><td>train/learning_rate</td><td>▁▄█</td></tr><tr><td>train/loss</td><td>▁▁▁</td></tr></table><br/></div><div class=\"wandb-col\"><h3>Run summary:</h3><br/><table class=\"wandb\"><tr><td>eval/accuracy</td><td>0.78571</td></tr><tr><td>eval/f1</td><td>0.78432</td></tr><tr><td>eval/loss</td><td>2.48935</td></tr><tr><td>eval/precision</td><td>0.79612</td></tr><tr><td>eval/recall</td><td>0.78571</td></tr><tr><td>eval/runtime</td><td>0.5321</td></tr><tr><td>eval/samples_per_second</td><td>236.795</td></tr><tr><td>eval/steps_per_second</td><td>60.138</td></tr><tr><td>total_flos</td><td>477159493017600.0</td></tr><tr><td>train/epoch</td><td>25</td></tr><tr><td>train/global_step</td><td>1825</td></tr><tr><td>train/grad_norm</td><td>0.0</td></tr><tr><td>train/learning_rate</td><td>0.0</td></tr><tr><td>train/loss</td><td>0</td></tr><tr><td>train_loss</td><td>0.0</td></tr><tr><td>train_runtime</td><td>120.6803</td></tr><tr><td>train_samples_per_second</td><td>60.49</td></tr><tr><td>train_steps_per_second</td><td>15.123</td></tr></table><br/></div></div>"
            ]
          },
          "metadata": {}
        },
        {
          "output_type": "display_data",
          "data": {
            "text/plain": [
              "<IPython.core.display.HTML object>"
            ],
            "text/html": [
              " View run <strong style=\"color:#cdcd00\">ns_model_window_1lr_1.3e-06_bs_4_wd_1.8e-02_ws_2000_gas_1</strong> at: <a href='https://wandb.ai/h-driver/huggingface/runs/tfcazkyj' target=\"_blank\">https://wandb.ai/h-driver/huggingface/runs/tfcazkyj</a><br> View project at: <a href='https://wandb.ai/h-driver/huggingface' target=\"_blank\">https://wandb.ai/h-driver/huggingface</a><br>Synced 5 W&B file(s), 0 media file(s), 0 artifact file(s) and 0 other file(s)"
            ]
          },
          "metadata": {}
        },
        {
          "output_type": "display_data",
          "data": {
            "text/plain": [
              "<IPython.core.display.HTML object>"
            ],
            "text/html": [
              "Find logs at: <code>./wandb/run-20250302_153725-tfcazkyj/logs</code>"
            ]
          },
          "metadata": {}
        },
        {
          "output_type": "stream",
          "name": "stderr",
          "text": [
            "<ipython-input-78-e282a38656c6>:26: FutureWarning: `tokenizer` is deprecated and will be removed in version 5.0.0 for `Trainer.__init__`. Use `processing_class` instead.\n",
            "  trainer = Trainer(\n"
          ]
        },
        {
          "output_type": "display_data",
          "data": {
            "text/plain": [
              "<IPython.core.display.HTML object>"
            ],
            "text/html": [
              "Tracking run with wandb version 0.19.7"
            ]
          },
          "metadata": {}
        },
        {
          "output_type": "display_data",
          "data": {
            "text/plain": [
              "<IPython.core.display.HTML object>"
            ],
            "text/html": [
              "Run data is saved locally in <code>/content/drive/MyDrive/Colab Notebooks/Math_Graph/pickle_files/wandb/run-20250302_153930-bjmim6ug</code>"
            ]
          },
          "metadata": {}
        },
        {
          "output_type": "display_data",
          "data": {
            "text/plain": [
              "<IPython.core.display.HTML object>"
            ],
            "text/html": [
              "Syncing run <strong><a href='https://wandb.ai/h-driver/huggingface/runs/bjmim6ug' target=\"_blank\">ns_model_window_1lr_1.0e-03_bs_32_wd_1.1e-02_ws_100_gas_1</a></strong> to <a href='https://wandb.ai/h-driver/huggingface' target=\"_blank\">Weights & Biases</a> (<a href='https://wandb.me/developer-guide' target=\"_blank\">docs</a>)<br>"
            ]
          },
          "metadata": {}
        },
        {
          "output_type": "display_data",
          "data": {
            "text/plain": [
              "<IPython.core.display.HTML object>"
            ],
            "text/html": [
              " View project at <a href='https://wandb.ai/h-driver/huggingface' target=\"_blank\">https://wandb.ai/h-driver/huggingface</a>"
            ]
          },
          "metadata": {}
        },
        {
          "output_type": "display_data",
          "data": {
            "text/plain": [
              "<IPython.core.display.HTML object>"
            ],
            "text/html": [
              " View run at <a href='https://wandb.ai/h-driver/huggingface/runs/bjmim6ug' target=\"_blank\">https://wandb.ai/h-driver/huggingface/runs/bjmim6ug</a>"
            ]
          },
          "metadata": {}
        },
        {
          "output_type": "stream",
          "name": "stdout",
          "text": [
            "{'train_runtime': 90.3471, 'train_samples_per_second': 80.8, 'train_steps_per_second': 2.767, 'train_loss': 5.364417461350968e-10, 'epoch': 25.0}\n",
            "{'eval_loss': 2.5939552783966064, 'eval_accuracy': 0.7936507936507936, 'eval_f1': 0.7934487029613903, 'eval_precision': 0.8076257711061633, 'eval_recall': 0.7936507936507936, 'eval_runtime': 0.4011, 'eval_samples_per_second': 314.149, 'eval_steps_per_second': 9.973, 'epoch': 25.0}\n"
          ]
        },
        {
          "output_type": "display_data",
          "data": {
            "text/plain": [
              "<IPython.core.display.HTML object>"
            ],
            "text/html": []
          },
          "metadata": {}
        },
        {
          "output_type": "display_data",
          "data": {
            "text/plain": [
              "<IPython.core.display.HTML object>"
            ],
            "text/html": [
              "<br>    <style><br>        .wandb-row {<br>            display: flex;<br>            flex-direction: row;<br>            flex-wrap: wrap;<br>            justify-content: flex-start;<br>            width: 100%;<br>        }<br>        .wandb-col {<br>            display: flex;<br>            flex-direction: column;<br>            flex-basis: 100%;<br>            flex: 1;<br>            padding: 10px;<br>        }<br>    </style><br><div class=\"wandb-row\"><div class=\"wandb-col\"><h3>Run history:</h3><br/><table class=\"wandb\"><tr><td>eval/accuracy</td><td>▁</td></tr><tr><td>eval/f1</td><td>▁</td></tr><tr><td>eval/loss</td><td>▁</td></tr><tr><td>eval/precision</td><td>▁</td></tr><tr><td>eval/recall</td><td>▁</td></tr><tr><td>eval/runtime</td><td>▁</td></tr><tr><td>eval/samples_per_second</td><td>▁</td></tr><tr><td>eval/steps_per_second</td><td>▁</td></tr><tr><td>train/epoch</td><td>▁▁</td></tr><tr><td>train/global_step</td><td>▁▁</td></tr></table><br/></div><div class=\"wandb-col\"><h3>Run summary:</h3><br/><table class=\"wandb\"><tr><td>eval/accuracy</td><td>0.79365</td></tr><tr><td>eval/f1</td><td>0.79345</td></tr><tr><td>eval/loss</td><td>2.59396</td></tr><tr><td>eval/precision</td><td>0.80763</td></tr><tr><td>eval/recall</td><td>0.79365</td></tr><tr><td>eval/runtime</td><td>0.4011</td></tr><tr><td>eval/samples_per_second</td><td>314.149</td></tr><tr><td>eval/steps_per_second</td><td>9.973</td></tr><tr><td>total_flos</td><td>477159493017600.0</td></tr><tr><td>train/epoch</td><td>25</td></tr><tr><td>train/global_step</td><td>250</td></tr><tr><td>train_loss</td><td>0.0</td></tr><tr><td>train_runtime</td><td>90.3471</td></tr><tr><td>train_samples_per_second</td><td>80.8</td></tr><tr><td>train_steps_per_second</td><td>2.767</td></tr></table><br/></div></div>"
            ]
          },
          "metadata": {}
        },
        {
          "output_type": "display_data",
          "data": {
            "text/plain": [
              "<IPython.core.display.HTML object>"
            ],
            "text/html": [
              " View run <strong style=\"color:#cdcd00\">ns_model_window_1lr_1.0e-03_bs_32_wd_1.1e-02_ws_100_gas_1</strong> at: <a href='https://wandb.ai/h-driver/huggingface/runs/bjmim6ug' target=\"_blank\">https://wandb.ai/h-driver/huggingface/runs/bjmim6ug</a><br> View project at: <a href='https://wandb.ai/h-driver/huggingface' target=\"_blank\">https://wandb.ai/h-driver/huggingface</a><br>Synced 5 W&B file(s), 0 media file(s), 0 artifact file(s) and 0 other file(s)"
            ]
          },
          "metadata": {}
        },
        {
          "output_type": "display_data",
          "data": {
            "text/plain": [
              "<IPython.core.display.HTML object>"
            ],
            "text/html": [
              "Find logs at: <code>./wandb/run-20250302_153930-bjmim6ug/logs</code>"
            ]
          },
          "metadata": {}
        },
        {
          "output_type": "stream",
          "name": "stderr",
          "text": [
            "<ipython-input-78-e282a38656c6>:26: FutureWarning: `tokenizer` is deprecated and will be removed in version 5.0.0 for `Trainer.__init__`. Use `processing_class` instead.\n",
            "  trainer = Trainer(\n"
          ]
        },
        {
          "output_type": "display_data",
          "data": {
            "text/plain": [
              "<IPython.core.display.HTML object>"
            ],
            "text/html": [
              "Tracking run with wandb version 0.19.7"
            ]
          },
          "metadata": {}
        },
        {
          "output_type": "display_data",
          "data": {
            "text/plain": [
              "<IPython.core.display.HTML object>"
            ],
            "text/html": [
              "Run data is saved locally in <code>/content/drive/MyDrive/Colab Notebooks/Math_Graph/pickle_files/wandb/run-20250302_154103-1vhlklfv</code>"
            ]
          },
          "metadata": {}
        },
        {
          "output_type": "display_data",
          "data": {
            "text/plain": [
              "<IPython.core.display.HTML object>"
            ],
            "text/html": [
              "Syncing run <strong><a href='https://wandb.ai/h-driver/huggingface/runs/1vhlklfv' target=\"_blank\">ns_model_window_1lr_1.0e-06_bs_32_wd_1.0e-05_ws_2000_gas_1</a></strong> to <a href='https://wandb.ai/h-driver/huggingface' target=\"_blank\">Weights & Biases</a> (<a href='https://wandb.me/developer-guide' target=\"_blank\">docs</a>)<br>"
            ]
          },
          "metadata": {}
        },
        {
          "output_type": "display_data",
          "data": {
            "text/plain": [
              "<IPython.core.display.HTML object>"
            ],
            "text/html": [
              " View project at <a href='https://wandb.ai/h-driver/huggingface' target=\"_blank\">https://wandb.ai/h-driver/huggingface</a>"
            ]
          },
          "metadata": {}
        },
        {
          "output_type": "display_data",
          "data": {
            "text/plain": [
              "<IPython.core.display.HTML object>"
            ],
            "text/html": [
              " View run at <a href='https://wandb.ai/h-driver/huggingface/runs/1vhlklfv' target=\"_blank\">https://wandb.ai/h-driver/huggingface/runs/1vhlklfv</a>"
            ]
          },
          "metadata": {}
        },
        {
          "output_type": "stream",
          "name": "stdout",
          "text": [
            "{'train_runtime': 90.2811, 'train_samples_per_second': 80.859, 'train_steps_per_second': 2.769, 'train_loss': 4.470348002882929e-11, 'epoch': 25.0}\n",
            "{'eval_loss': 2.5939531326293945, 'eval_accuracy': 0.7936507936507936, 'eval_f1': 0.7934487029613903, 'eval_precision': 0.8076257711061633, 'eval_recall': 0.7936507936507936, 'eval_runtime': 0.3997, 'eval_samples_per_second': 315.253, 'eval_steps_per_second': 10.008, 'epoch': 25.0}\n"
          ]
        },
        {
          "output_type": "display_data",
          "data": {
            "text/plain": [
              "<IPython.core.display.HTML object>"
            ],
            "text/html": []
          },
          "metadata": {}
        },
        {
          "output_type": "display_data",
          "data": {
            "text/plain": [
              "<IPython.core.display.HTML object>"
            ],
            "text/html": [
              "<br>    <style><br>        .wandb-row {<br>            display: flex;<br>            flex-direction: row;<br>            flex-wrap: wrap;<br>            justify-content: flex-start;<br>            width: 100%;<br>        }<br>        .wandb-col {<br>            display: flex;<br>            flex-direction: column;<br>            flex-basis: 100%;<br>            flex: 1;<br>            padding: 10px;<br>        }<br>    </style><br><div class=\"wandb-row\"><div class=\"wandb-col\"><h3>Run history:</h3><br/><table class=\"wandb\"><tr><td>eval/accuracy</td><td>▁</td></tr><tr><td>eval/f1</td><td>▁</td></tr><tr><td>eval/loss</td><td>▁</td></tr><tr><td>eval/precision</td><td>▁</td></tr><tr><td>eval/recall</td><td>▁</td></tr><tr><td>eval/runtime</td><td>▁</td></tr><tr><td>eval/samples_per_second</td><td>▁</td></tr><tr><td>eval/steps_per_second</td><td>▁</td></tr><tr><td>train/epoch</td><td>▁▁</td></tr><tr><td>train/global_step</td><td>▁▁</td></tr></table><br/></div><div class=\"wandb-col\"><h3>Run summary:</h3><br/><table class=\"wandb\"><tr><td>eval/accuracy</td><td>0.79365</td></tr><tr><td>eval/f1</td><td>0.79345</td></tr><tr><td>eval/loss</td><td>2.59395</td></tr><tr><td>eval/precision</td><td>0.80763</td></tr><tr><td>eval/recall</td><td>0.79365</td></tr><tr><td>eval/runtime</td><td>0.3997</td></tr><tr><td>eval/samples_per_second</td><td>315.253</td></tr><tr><td>eval/steps_per_second</td><td>10.008</td></tr><tr><td>total_flos</td><td>477159493017600.0</td></tr><tr><td>train/epoch</td><td>25</td></tr><tr><td>train/global_step</td><td>250</td></tr><tr><td>train_loss</td><td>0.0</td></tr><tr><td>train_runtime</td><td>90.2811</td></tr><tr><td>train_samples_per_second</td><td>80.859</td></tr><tr><td>train_steps_per_second</td><td>2.769</td></tr></table><br/></div></div>"
            ]
          },
          "metadata": {}
        },
        {
          "output_type": "display_data",
          "data": {
            "text/plain": [
              "<IPython.core.display.HTML object>"
            ],
            "text/html": [
              " View run <strong style=\"color:#cdcd00\">ns_model_window_1lr_1.0e-06_bs_32_wd_1.0e-05_ws_2000_gas_1</strong> at: <a href='https://wandb.ai/h-driver/huggingface/runs/1vhlklfv' target=\"_blank\">https://wandb.ai/h-driver/huggingface/runs/1vhlklfv</a><br> View project at: <a href='https://wandb.ai/h-driver/huggingface' target=\"_blank\">https://wandb.ai/h-driver/huggingface</a><br>Synced 5 W&B file(s), 0 media file(s), 0 artifact file(s) and 0 other file(s)"
            ]
          },
          "metadata": {}
        },
        {
          "output_type": "display_data",
          "data": {
            "text/plain": [
              "<IPython.core.display.HTML object>"
            ],
            "text/html": [
              "Find logs at: <code>./wandb/run-20250302_154103-1vhlklfv/logs</code>"
            ]
          },
          "metadata": {}
        },
        {
          "output_type": "stream",
          "name": "stderr",
          "text": [
            "<ipython-input-78-e282a38656c6>:26: FutureWarning: `tokenizer` is deprecated and will be removed in version 5.0.0 for `Trainer.__init__`. Use `processing_class` instead.\n",
            "  trainer = Trainer(\n"
          ]
        },
        {
          "output_type": "display_data",
          "data": {
            "text/plain": [
              "<IPython.core.display.HTML object>"
            ],
            "text/html": [
              "Tracking run with wandb version 0.19.7"
            ]
          },
          "metadata": {}
        },
        {
          "output_type": "display_data",
          "data": {
            "text/plain": [
              "<IPython.core.display.HTML object>"
            ],
            "text/html": [
              "Run data is saved locally in <code>/content/drive/MyDrive/Colab Notebooks/Math_Graph/pickle_files/wandb/run-20250302_154237-yru557ym</code>"
            ]
          },
          "metadata": {}
        },
        {
          "output_type": "display_data",
          "data": {
            "text/plain": [
              "<IPython.core.display.HTML object>"
            ],
            "text/html": [
              "Syncing run <strong><a href='https://wandb.ai/h-driver/huggingface/runs/yru557ym' target=\"_blank\">ns_model_window_1lr_1.0e-03_bs_4_wd_1.0e-01_ws_100_gas_1</a></strong> to <a href='https://wandb.ai/h-driver/huggingface' target=\"_blank\">Weights & Biases</a> (<a href='https://wandb.me/developer-guide' target=\"_blank\">docs</a>)<br>"
            ]
          },
          "metadata": {}
        },
        {
          "output_type": "display_data",
          "data": {
            "text/plain": [
              "<IPython.core.display.HTML object>"
            ],
            "text/html": [
              " View project at <a href='https://wandb.ai/h-driver/huggingface' target=\"_blank\">https://wandb.ai/h-driver/huggingface</a>"
            ]
          },
          "metadata": {}
        },
        {
          "output_type": "display_data",
          "data": {
            "text/plain": [
              "<IPython.core.display.HTML object>"
            ],
            "text/html": [
              " View run at <a href='https://wandb.ai/h-driver/huggingface/runs/yru557ym' target=\"_blank\">https://wandb.ai/h-driver/huggingface/runs/yru557ym</a>"
            ]
          },
          "metadata": {}
        },
        {
          "output_type": "stream",
          "name": "stdout",
          "text": [
            "{'loss': 2.3447, 'grad_norm': 17.134586334228516, 'learning_rate': 0.0007681159420289858, 'epoch': 6.8493150684931505}\n",
            "{'loss': 2.5455, 'grad_norm': 16.35771369934082, 'learning_rate': 0.0004782608695652176, 'epoch': 13.698630136986301}\n",
            "{'loss': 2.3386, 'grad_norm': 15.789960861206055, 'learning_rate': 0.00018840579710144938, 'epoch': 20.54794520547945}\n",
            "{'train_runtime': 120.6463, 'train_samples_per_second': 60.507, 'train_steps_per_second': 15.127, 'train_loss': 2.3745051637414383, 'epoch': 25.0}\n",
            "{'eval_loss': 2.524622917175293, 'eval_accuracy': 0.14285714285714285, 'eval_f1': 0.09879105606557878, 'eval_precision': 0.12620703410177092, 'eval_recall': 0.14285714285714285, 'eval_runtime': 0.5306, 'eval_samples_per_second': 237.463, 'eval_steps_per_second': 60.308, 'epoch': 25.0}\n"
          ]
        },
        {
          "output_type": "stream",
          "name": "stderr",
          "text": [
            "/usr/local/lib/python3.11/dist-packages/sklearn/metrics/_classification.py:1565: UndefinedMetricWarning: Precision is ill-defined and being set to 0.0 in labels with no predicted samples. Use `zero_division` parameter to control this behavior.\n",
            "  _warn_prf(average, modifier, f\"{metric.capitalize()} is\", len(result))\n"
          ]
        },
        {
          "output_type": "display_data",
          "data": {
            "text/plain": [
              "<IPython.core.display.HTML object>"
            ],
            "text/html": []
          },
          "metadata": {}
        },
        {
          "output_type": "display_data",
          "data": {
            "text/plain": [
              "<IPython.core.display.HTML object>"
            ],
            "text/html": [
              "<br>    <style><br>        .wandb-row {<br>            display: flex;<br>            flex-direction: row;<br>            flex-wrap: wrap;<br>            justify-content: flex-start;<br>            width: 100%;<br>        }<br>        .wandb-col {<br>            display: flex;<br>            flex-direction: column;<br>            flex-basis: 100%;<br>            flex: 1;<br>            padding: 10px;<br>        }<br>    </style><br><div class=\"wandb-row\"><div class=\"wandb-col\"><h3>Run history:</h3><br/><table class=\"wandb\"><tr><td>eval/accuracy</td><td>▁</td></tr><tr><td>eval/f1</td><td>▁</td></tr><tr><td>eval/loss</td><td>▁</td></tr><tr><td>eval/precision</td><td>▁</td></tr><tr><td>eval/recall</td><td>▁</td></tr><tr><td>eval/runtime</td><td>▁</td></tr><tr><td>eval/samples_per_second</td><td>▁</td></tr><tr><td>eval/steps_per_second</td><td>▁</td></tr><tr><td>train/epoch</td><td>▁▄▆██</td></tr><tr><td>train/global_step</td><td>▁▄▆██</td></tr><tr><td>train/grad_norm</td><td>█▄▁</td></tr><tr><td>train/learning_rate</td><td>█▅▁</td></tr><tr><td>train/loss</td><td>▁█▁</td></tr></table><br/></div><div class=\"wandb-col\"><h3>Run summary:</h3><br/><table class=\"wandb\"><tr><td>eval/accuracy</td><td>0.14286</td></tr><tr><td>eval/f1</td><td>0.09879</td></tr><tr><td>eval/loss</td><td>2.52462</td></tr><tr><td>eval/precision</td><td>0.12621</td></tr><tr><td>eval/recall</td><td>0.14286</td></tr><tr><td>eval/runtime</td><td>0.5306</td></tr><tr><td>eval/samples_per_second</td><td>237.463</td></tr><tr><td>eval/steps_per_second</td><td>60.308</td></tr><tr><td>total_flos</td><td>477159493017600.0</td></tr><tr><td>train/epoch</td><td>25</td></tr><tr><td>train/global_step</td><td>1825</td></tr><tr><td>train/grad_norm</td><td>15.78996</td></tr><tr><td>train/learning_rate</td><td>0.00019</td></tr><tr><td>train/loss</td><td>2.3386</td></tr><tr><td>train_loss</td><td>2.37451</td></tr><tr><td>train_runtime</td><td>120.6463</td></tr><tr><td>train_samples_per_second</td><td>60.507</td></tr><tr><td>train_steps_per_second</td><td>15.127</td></tr></table><br/></div></div>"
            ]
          },
          "metadata": {}
        },
        {
          "output_type": "display_data",
          "data": {
            "text/plain": [
              "<IPython.core.display.HTML object>"
            ],
            "text/html": [
              " View run <strong style=\"color:#cdcd00\">ns_model_window_1lr_1.0e-03_bs_4_wd_1.0e-01_ws_100_gas_1</strong> at: <a href='https://wandb.ai/h-driver/huggingface/runs/yru557ym' target=\"_blank\">https://wandb.ai/h-driver/huggingface/runs/yru557ym</a><br> View project at: <a href='https://wandb.ai/h-driver/huggingface' target=\"_blank\">https://wandb.ai/h-driver/huggingface</a><br>Synced 5 W&B file(s), 0 media file(s), 0 artifact file(s) and 0 other file(s)"
            ]
          },
          "metadata": {}
        },
        {
          "output_type": "display_data",
          "data": {
            "text/plain": [
              "<IPython.core.display.HTML object>"
            ],
            "text/html": [
              "Find logs at: <code>./wandb/run-20250302_154237-yru557ym/logs</code>"
            ]
          },
          "metadata": {}
        },
        {
          "output_type": "stream",
          "name": "stderr",
          "text": [
            "<ipython-input-78-e282a38656c6>:26: FutureWarning: `tokenizer` is deprecated and will be removed in version 5.0.0 for `Trainer.__init__`. Use `processing_class` instead.\n",
            "  trainer = Trainer(\n"
          ]
        },
        {
          "output_type": "display_data",
          "data": {
            "text/plain": [
              "<IPython.core.display.HTML object>"
            ],
            "text/html": [
              "Tracking run with wandb version 0.19.7"
            ]
          },
          "metadata": {}
        },
        {
          "output_type": "display_data",
          "data": {
            "text/plain": [
              "<IPython.core.display.HTML object>"
            ],
            "text/html": [
              "Run data is saved locally in <code>/content/drive/MyDrive/Colab Notebooks/Math_Graph/pickle_files/wandb/run-20250302_154441-g12hw28l</code>"
            ]
          },
          "metadata": {}
        },
        {
          "output_type": "display_data",
          "data": {
            "text/plain": [
              "<IPython.core.display.HTML object>"
            ],
            "text/html": [
              "Syncing run <strong><a href='https://wandb.ai/h-driver/huggingface/runs/g12hw28l' target=\"_blank\">ns_model_window_1lr_1.0e-06_bs_32_wd_1.0e-05_ws_100_gas_4</a></strong> to <a href='https://wandb.ai/h-driver/huggingface' target=\"_blank\">Weights & Biases</a> (<a href='https://wandb.me/developer-guide' target=\"_blank\">docs</a>)<br>"
            ]
          },
          "metadata": {}
        },
        {
          "output_type": "display_data",
          "data": {
            "text/plain": [
              "<IPython.core.display.HTML object>"
            ],
            "text/html": [
              " View project at <a href='https://wandb.ai/h-driver/huggingface' target=\"_blank\">https://wandb.ai/h-driver/huggingface</a>"
            ]
          },
          "metadata": {}
        },
        {
          "output_type": "display_data",
          "data": {
            "text/plain": [
              "<IPython.core.display.HTML object>"
            ],
            "text/html": [
              " View run at <a href='https://wandb.ai/h-driver/huggingface/runs/g12hw28l' target=\"_blank\">https://wandb.ai/h-driver/huggingface/runs/g12hw28l</a>"
            ]
          },
          "metadata": {}
        },
        {
          "output_type": "stream",
          "name": "stdout",
          "text": [
            "{'train_runtime': 60.7057, 'train_samples_per_second': 120.252, 'train_steps_per_second': 0.824, 'train_loss': 7.222557373046875, 'epoch': 16.8}\n",
            "{'eval_loss': 2.5244972705841064, 'eval_accuracy': 0.14285714285714285, 'eval_f1': 0.09879105606557878, 'eval_precision': 0.12620703410177092, 'eval_recall': 0.14285714285714285, 'eval_runtime': 0.4028, 'eval_samples_per_second': 312.813, 'eval_steps_per_second': 9.931, 'epoch': 16.8}\n"
          ]
        },
        {
          "output_type": "stream",
          "name": "stderr",
          "text": [
            "/usr/local/lib/python3.11/dist-packages/sklearn/metrics/_classification.py:1565: UndefinedMetricWarning: Precision is ill-defined and being set to 0.0 in labels with no predicted samples. Use `zero_division` parameter to control this behavior.\n",
            "  _warn_prf(average, modifier, f\"{metric.capitalize()} is\", len(result))\n"
          ]
        },
        {
          "output_type": "display_data",
          "data": {
            "text/plain": [
              "<IPython.core.display.HTML object>"
            ],
            "text/html": []
          },
          "metadata": {}
        },
        {
          "output_type": "display_data",
          "data": {
            "text/plain": [
              "<IPython.core.display.HTML object>"
            ],
            "text/html": [
              "<br>    <style><br>        .wandb-row {<br>            display: flex;<br>            flex-direction: row;<br>            flex-wrap: wrap;<br>            justify-content: flex-start;<br>            width: 100%;<br>        }<br>        .wandb-col {<br>            display: flex;<br>            flex-direction: column;<br>            flex-basis: 100%;<br>            flex: 1;<br>            padding: 10px;<br>        }<br>    </style><br><div class=\"wandb-row\"><div class=\"wandb-col\"><h3>Run history:</h3><br/><table class=\"wandb\"><tr><td>eval/accuracy</td><td>▁</td></tr><tr><td>eval/f1</td><td>▁</td></tr><tr><td>eval/loss</td><td>▁</td></tr><tr><td>eval/precision</td><td>▁</td></tr><tr><td>eval/recall</td><td>▁</td></tr><tr><td>eval/runtime</td><td>▁</td></tr><tr><td>eval/samples_per_second</td><td>▁</td></tr><tr><td>eval/steps_per_second</td><td>▁</td></tr><tr><td>train/epoch</td><td>▁▁</td></tr><tr><td>train/global_step</td><td>▁▁</td></tr></table><br/></div><div class=\"wandb-col\"><h3>Run summary:</h3><br/><table class=\"wandb\"><tr><td>eval/accuracy</td><td>0.14286</td></tr><tr><td>eval/f1</td><td>0.09879</td></tr><tr><td>eval/loss</td><td>2.5245</td></tr><tr><td>eval/precision</td><td>0.12621</td></tr><tr><td>eval/recall</td><td>0.14286</td></tr><tr><td>eval/runtime</td><td>0.4028</td></tr><tr><td>eval/samples_per_second</td><td>312.813</td></tr><tr><td>eval/steps_per_second</td><td>9.931</td></tr><tr><td>total_flos</td><td>322115339943936.0</td></tr><tr><td>train/epoch</td><td>16.8</td></tr><tr><td>train/global_step</td><td>50</td></tr><tr><td>train_loss</td><td>7.22256</td></tr><tr><td>train_runtime</td><td>60.7057</td></tr><tr><td>train_samples_per_second</td><td>120.252</td></tr><tr><td>train_steps_per_second</td><td>0.824</td></tr></table><br/></div></div>"
            ]
          },
          "metadata": {}
        },
        {
          "output_type": "display_data",
          "data": {
            "text/plain": [
              "<IPython.core.display.HTML object>"
            ],
            "text/html": [
              " View run <strong style=\"color:#cdcd00\">ns_model_window_1lr_1.0e-06_bs_32_wd_1.0e-05_ws_100_gas_4</strong> at: <a href='https://wandb.ai/h-driver/huggingface/runs/g12hw28l' target=\"_blank\">https://wandb.ai/h-driver/huggingface/runs/g12hw28l</a><br> View project at: <a href='https://wandb.ai/h-driver/huggingface' target=\"_blank\">https://wandb.ai/h-driver/huggingface</a><br>Synced 5 W&B file(s), 0 media file(s), 0 artifact file(s) and 0 other file(s)"
            ]
          },
          "metadata": {}
        },
        {
          "output_type": "display_data",
          "data": {
            "text/plain": [
              "<IPython.core.display.HTML object>"
            ],
            "text/html": [
              "Find logs at: <code>./wandb/run-20250302_154441-g12hw28l/logs</code>"
            ]
          },
          "metadata": {}
        },
        {
          "output_type": "stream",
          "name": "stdout",
          "text": [
            "Best hyperparameters: {'learning_rate': 8.356222913708296e-06, 'batch_size': 4, 'weight_decay': 1.0000000000000008e-05, 'warmup_steps': 100, 'gradient_accumulation_steps': 4}\n",
            "Best hyperparameters: {'learning_rate': 8.356222913708296e-06, 'batch_size': 4, 'weight_decay': 1.0000000000000008e-05, 'warmup_steps': 100, 'gradient_accumulation_steps': 4}\n"
          ]
        }
      ]
    }
  ]
}