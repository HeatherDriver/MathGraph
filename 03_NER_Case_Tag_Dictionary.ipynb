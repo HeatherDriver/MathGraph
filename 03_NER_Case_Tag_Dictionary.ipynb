{
  "nbformat": 4,
  "nbformat_minor": 0,
  "metadata": {
    "colab": {
      "provenance": [],
      "authorship_tag": "ABX9TyNt6/mjYNeq2ctaUoJ9xybN"
    },
    "kernelspec": {
      "name": "python3",
      "display_name": "Python 3"
    },
    "language_info": {
      "name": "python"
    }
  },
  "cells": [
    {
      "cell_type": "code",
      "source": [
        "# Imports and setup\n",
        "! pip install intervaltree"
      ],
      "metadata": {
        "colab": {
          "base_uri": "https://localhost:8080/"
        },
        "id": "eb1z_5v_MDve",
        "outputId": "28290de5-5138-44cd-81e0-95df8b3896a8"
      },
      "execution_count": 1,
      "outputs": [
        {
          "output_type": "stream",
          "name": "stdout",
          "text": [
            "Requirement already satisfied: intervaltree in /usr/local/lib/python3.11/dist-packages (3.1.0)\n",
            "Requirement already satisfied: sortedcontainers<3.0,>=2.0 in /usr/local/lib/python3.11/dist-packages (from intervaltree) (2.4.0)\n"
          ]
        }
      ]
    },
    {
      "cell_type": "code",
      "source": [
        "# Imports and setup\n",
        "from transformers import AutoTokenizer, AutoModelForTokenClassification, pipeline\n",
        "from google.colab import drive, userdata\n",
        "import pickle\n",
        "import random\n",
        "import re\n",
        "from collections import defaultdict\n",
        "from intervaltree import Interval, IntervalTree\n",
        "from collections import Counter\n",
        "import json"
      ],
      "metadata": {
        "id": "nx1WL2SGMEog"
      },
      "execution_count": 2,
      "outputs": []
    },
    {
      "cell_type": "code",
      "source": [
        "# Mount Google Drive\n",
        "drive.mount(\"/content/drive\")\n",
        "%cd '/content/drive/MyDrive/Colab Notebooks/Math_Graph/pickle_files'"
      ],
      "metadata": {
        "colab": {
          "base_uri": "https://localhost:8080/"
        },
        "id": "l_0Z2YZBMNT-",
        "outputId": "93eb6d67-0acd-4657-9d9f-de88f7766f85"
      },
      "execution_count": 3,
      "outputs": [
        {
          "output_type": "stream",
          "name": "stdout",
          "text": [
            "Drive already mounted at /content/drive; to attempt to forcibly remount, call drive.mount(\"/content/drive\", force_remount=True).\n",
            "/content/drive/MyDrive/Colab Notebooks/Math_Graph/pickle_files\n"
          ]
        }
      ]
    },
    {
      "cell_type": "code",
      "source": [
        "# Utility Functions\n",
        "\n",
        "# Define nested_dict function\n",
        "def nested_dict():\n",
        "  return defaultdict(nested_dict)\n",
        "\n",
        "# Define file read function\n",
        "def read_pickle(dict_file):\n",
        "  with open(dict_file, 'rb') as file:\n",
        "    return pickle.load(file)\n",
        "\n",
        "# Split CamelCase to s e p a r a t e d text\n",
        "def split_camel_case(text):\n",
        "    # Use regex to insert a space before uppercase letters preceded by lowercase letters\n",
        "    return re.sub(r'(?<=[a-z])(?=[A-Z])', ' ', text)"
      ],
      "metadata": {
        "id": "AFz-ma2MMQhD"
      },
      "execution_count": 4,
      "outputs": []
    },
    {
      "cell_type": "code",
      "source": [
        "# Tokenization and NER Setup\n",
        "# Existing tags from DistilBERT\n",
        "tag_checkpoint = \"dslim/distilbert-NER\"\n",
        "tag_tokenizer = AutoTokenizer.from_pretrained(tag_checkpoint, do_lower_case=False)\n",
        "tag_model = AutoModelForTokenClassification.from_pretrained(tag_checkpoint)\n",
        "\n",
        "tags = pipeline(\"ner\", model=tag_model, tokenizer=tag_tokenizer)"
      ],
      "metadata": {
        "colab": {
          "base_uri": "https://localhost:8080/"
        },
        "id": "jtvIEW0bMWqs",
        "outputId": "d7c4d9f0-2b2b-416c-e0da-7f05aa753f8a"
      },
      "execution_count": 5,
      "outputs": [
        {
          "output_type": "stream",
          "name": "stderr",
          "text": [
            "Device set to use cpu\n"
          ]
        }
      ]
    },
    {
      "cell_type": "code",
      "source": [
        "tag_tokenizer.is_fast"
      ],
      "metadata": {
        "colab": {
          "base_uri": "https://localhost:8080/"
        },
        "id": "GGew7_CrMdWw",
        "outputId": "572a29e6-853e-4541-8f35-bfc82c454960"
      },
      "execution_count": 6,
      "outputs": [
        {
          "output_type": "execute_result",
          "data": {
            "text/plain": [
              "True"
            ]
          },
          "metadata": {},
          "execution_count": 6
        }
      ]
    },
    {
      "cell_type": "code",
      "source": [
        "# Helper methods built from DistilBERT NER\n",
        "\n",
        "def idx2string(text):\n",
        "    # Converts the text into a list of words and returns a dictionary where keys are indices, and values are the words\n",
        "    # Split on whitespace or punctuation, punctuation is used for tokens\n",
        "    words = re.findall(r'\\b\\w+\\b|[^\\s\\w]', text)\n",
        "    my_dict = {i: word for i, word in enumerate(words)}\n",
        "    return my_dict\n",
        "\n",
        "def tokenidx2words(ner_results):\n",
        "  # Maps token indices to the actual words based on the NER results\n",
        "  my_dict = dict()\n",
        "  for sub_dict in ner_results:\n",
        "    word, index = sub_dict['word'], sub_dict['index']\n",
        "    my_dict[index] = word\n",
        "  return my_dict\n",
        "\n",
        "def tokenidx2entity(ner_results):\n",
        "  # Maps token indices to the corresponding entity types from the NER results\n",
        "  my_dict = dict()\n",
        "  for sub_dict in ner_results:\n",
        "    entity, index = sub_dict['entity'], sub_dict['index']\n",
        "    my_dict[index] = entity\n",
        "  return my_dict\n",
        "\n",
        "def idx2wordpos(text, idx2string):\n",
        "  # Maps word indices to their start and end positions in the original text, allowing the exact location of words to be tracked\n",
        "  my_dict = {}\n",
        "  current_pos = 0\n",
        "  for idx, word in idx2string.items():\n",
        "    start = text.index(word, current_pos)\n",
        "    end = start + len(word)\n",
        "    my_dict[idx] = (start, end)\n",
        "    current_pos = end\n",
        "  return my_dict\n",
        "\n",
        "def tokenidx2entityword(example2wordidx, ner_results):\n",
        "  # Create an IntervalTree to map entity spans to token indices. Handles tokens overlapping or being split into subwords\n",
        "  tree = IntervalTree(Interval(start, end, key) for key, (start, end) in example2wordidx.items())\n",
        "\n",
        "  my_dict = dict()\n",
        "  for sub_dict in ner_results:\n",
        "    tag_start, tag_end = sub_dict['start'], sub_dict['end']\n",
        "    tag_entity = sub_dict['entity']\n",
        "    token_idx = sub_dict['index']\n",
        "\n",
        "    overlapping_intervals = tree[tag_start : tag_end] # Intervals which contain the entitry recognised\n",
        "    for interval in overlapping_intervals:\n",
        "      my_dict[token_idx] = {'entity' : tag_entity, 'word_idx': interval.data}\n",
        "\n",
        "  return my_dict"
      ],
      "metadata": {
        "id": "X4hqFPrhMhcL"
      },
      "execution_count": 7,
      "outputs": []
    },
    {
      "cell_type": "code",
      "source": [
        "def idx2token_and_id(idx2string_dict, token_list, input_ids_list):\n",
        "  my_token_dict = dict()\n",
        "  token_index = 0 # start of tokens list\n",
        "  # match word to the start of the token\n",
        "  for key, value in idx2string_dict.items():\n",
        "    reconstructed_word = \"\"\n",
        "    start_token = None\n",
        "    start_input_id = None\n",
        "\n",
        "    # Loop through tokens to find the starting token\n",
        "    while token_index < len(token_list):\n",
        "      token = token_list[token_index]\n",
        "\n",
        "      # strip '##' in subwords\n",
        "      if token.startswith(\"##\"):\n",
        "        reconstructed_word += token[2:]  # Add subword without \"##\"\n",
        "      else:\n",
        "        if reconstructed_word:  # Reset if a new word starts\n",
        "          reconstructed_word = \"\"\n",
        "        reconstructed_word += token\n",
        "        start_token = token\n",
        "        start_input_id = input_ids_list[token_index]\n",
        "      # Break if reconstructed\n",
        "      if reconstructed_word == value:\n",
        "        my_token_dict[key] = (start_token, start_input_id)\n",
        "        token_index += 1  # Move to the next token\n",
        "        break\n",
        "      token_index += 1\n",
        "  return my_token_dict"
      ],
      "metadata": {
        "id": "nGrEeNmEGetq"
      },
      "execution_count": 8,
      "outputs": []
    },
    {
      "cell_type": "code",
      "execution_count": 9,
      "metadata": {
        "colab": {
          "base_uri": "https://localhost:8080/"
        },
        "id": "0hz7sum7K2HK",
        "outputId": "c962f9b9-eb59-4908-a42f-d3d466d2cf3e"
      },
      "outputs": [
        {
          "output_type": "stream",
          "name": "stdout",
          "text": [
            "topic_dict dictionary length: 10\n",
            "Topology:\n",
            "['Algebraic Topology', 'Bundles', 'Cohomology', 'General Topology', 'Knot Theory', 'Low-Dimensional Topology', 'Manifolds', 'Point-Set Topology', 'Spaces', 'Topological Invariants', 'Topological Operations', 'Topological Structures']\n",
            "Recreational Mathematics:\n",
            "['Cryptograms', 'Dissection', 'Folding', 'Games', 'Illusions', 'Magic Figures', 'Mathematical Art', 'Mathematical Humor', 'Mathematical Records', 'Mathematics in the Arts', 'Number Guessing', 'Numerology', 'Puzzles', 'Sports']\n",
            "Foundations of Mathematics:\n",
            "['A New Kind of Science', 'Axioms', 'Category Theory', 'Logic', 'Mathematical Problems', 'Point-Set Topology', 'Set Theory', 'Theorem Proving']\n"
          ]
        }
      ],
      "source": [
        "# Get naming convention from scraped data\n",
        "topics = read_pickle(\"topics.pkl\")\n",
        "\n",
        "print(f\"topic_dict dictionary length: {len(topics)}\")\n",
        "random_sample = random.sample(list(topics.items()), 3)\n",
        "\n",
        "for key, value in random_sample:\n",
        "  print(f\"{key}:\\n{value}\")"
      ]
    },
    {
      "cell_type": "code",
      "source": [
        "# Get naming convention from scraped data\n",
        "sub_topics = read_pickle(\"sub_topics.pkl\")\n",
        "\n",
        "my_dict = dict()\n",
        "for key, value in sub_topics.items():\n",
        "  split_key = split_camel_case(key)\n",
        "  my_dict[split_key] = value\n",
        "\n",
        "sub_topics = my_dict\n",
        "\n",
        "print(f\"sub_topics dictionary length: {len(sub_topics)}\")\n",
        "\n",
        "for key, value in random_sample:\n",
        "  print(f\"{key}:\\n{sub_topics[key]}\")"
      ],
      "metadata": {
        "colab": {
          "base_uri": "https://localhost:8080/"
        },
        "id": "lNb0jSheLB9F",
        "outputId": "2cf3585c-3fea-490d-ec6d-71278ab522b9"
      },
      "execution_count": 10,
      "outputs": [
        {
          "output_type": "stream",
          "name": "stdout",
          "text": [
            "sub_topics dictionary length: 10\n",
            "Topology:\n",
            "['Absolute Retract', 'Abstract Simplicial Complex', 'Acyclic Chain Complex', \"Adams' Theorem\", 'Algebraic Gadget', 'Algebraic K-Theory', 'Algebraic Topology', 'Analytic Torsion', 'Band', 'Bordism Group', 'Cellular Approximation Theorem', 'Cellular Map', 'Chain Contraction', 'Characteristic Class', 'Chern Class', 'Chern Number', 'Closed Star', 'Combinatorial Topology', 'Commutative Diagram', 'Contractibility', 'Contractible', 'Cup Product', 'CW-Approximation Theorem', 'CW-Complex', 'Deck Transformation', 'Deformation Retract', 'Euler Number', 'Extension Problem', 'Fiber Space', 'Five Lemma', 'Four Lemma', 'Free', 'Fundamental Class', 'Fundamental Group', 'Gadget', 'Geometric Realization', 'Gerbe', 'Graded Module', 'H-Space', 'Hereditarily Unicoherent Continuum', 'Homeomorphism Group', 'Homologous', 'Homology Class', 'Homotopic', 'Homotopy', 'Homotopy Axiom', 'Homotopy Class', 'Homotopy Equivalence', 'Homotopy Group', 'Homotopy Sphere', 'Homotopy Theory', 'Homotopy Type', 'Hopf Invariant One Theorem', 'Hopf Map', 'Hopf Trace Theorem', 'Immersion', 'Induced Map', 'Isotopy', 'Jordan Curve Theorem', 'K-Theory', 'Lefschetz Number', 'Lichtenbaum-Quillen Conjecture', 'Lift', 'Lifting Problem', 'Locally Finite Complex', 'Loop Space', 'Machine', \"Milnor's Theorem\", 'Modularity Theorem', 'Morse Function', 'Morse Theory', 'Nerve', 'Obstruction', 'Orientable Manifold', 'Pontryagin Class', 'Pontryagin Duality', 'Pontryagin Number', 'Postnikov System', 'Presheaf', 'Quillen-Lichtenbaum Conjecture', 'Reidemeister Torsion', 'Retract', 'Retraction', 'Schönflies Theorem', 'Simplicial Complex', 'Simplicial Complex Link', 'Simplicial Homology', 'Simplicial Homomorphism', 'Simplicial Map', 'Simplicial Subcomplex', 'Singular Homology', 'Skeleton', 'Smale-Hirsch Theorem', 'Souslin Set', 'Spectral Theorem', \"Steenrod's Realization Problem\", 'Stiefel-Whitney Class', 'Stiefel-Whitney Number', 'Stone-Weierstrass Theorem', 'Strong Deformation Retract', 'Structurally Stable', \"Suslin's Theorem\", 'Suspension', 'Taniyama-Shimura Conjecture', 'Topological Entropy', 'Topological Group', 'Topologically Conjugate', 'Tubular Neighborhood', 'Underlying Space', 'Universal Cover', \"van Kampen's Theorem\", 'Vertex Scheme', 'Vertex Set', \"Whitehead's Theorem\", 'Whitehead Torsion', 'Whitney-Graustein Theorem', 'Whitney Sum', 'Wild Point', 'Algebraic K-Theory', 'Anchor', 'Anosov Flow', 'Associated Fiber Bundle', 'Associated Vector Bundle', 'Axiom A Flow', 'Base Manifold', 'Base Space', 'Bundle', 'Bundle Curvature', 'Bundle Map', 'Bundle Orientation', 'Bundle Rank', 'Bundle Section', 'Canonical Bundle', 'Characteristic Class', 'Chern Class', 'Circle Bundle', 'Complex Vector Bundle', 'Continuous Vector Bundle', 'Cotangent Bundle', 'Dual Bundle', 'Exponential Map', 'Fiber', 'Fiber Bundle', 'Fibration', 'Finsler Metric', 'Finsler Space', 'Frame Bundle', 'Geodesic Flow', 'Grassmann Manifold', 'Holomorphic Line Bundle', 'Holomorphic Tangent Bundle', 'Holomorphic Vector Bundle', 'K-Theory', 'Lie Algebroid', 'Lift', 'Line Bundle', 'Manifold Tangent Vector', 'Normal Bundle', 'Pontryagin Class', 'Principal Bundle', 'Riemannian Geometry', 'Smale-Hirsch Theorem', 'Smooth Structure', 'Stable Equivalence', 'Stiefel-Whitney Class', 'Tangent Bundle', 'Tangent Bundle Section', 'Tangent Map', 'Total Space', 'Transition Function', 'Trivial Bundle', 'Trivialization', 'Vector Bundle', 'Vector Bundle Connection', 'Vector Field', 'Whitney Sum', 'Zero Section', 'Aleksandrov-Čech Cohomology', 'Alexander-Spanier Cohomology', 'Čech Cohomology', 'Connecting Homomorphism', 'de Rham Cohomology', 'Exact Form', \"Hodge's Theorem\", 'Homology', 'Homology Class', 'Homology Intersection', 'Steenrod Algebra', 'Betti Number', 'Coloring', 'Compact-Open Topology', 'Compactness Theorem', \"Dehn's Lemma\", 'Differential Topology', 'Dimension', 'Dimension Invariance Theorem', 'Euclidean Topology', 'Euler Characteristic', 'Exterior', 'Genus', 'Hairy Ball Theorem', 'Homeomorphic', 'Homeomorphic Type', 'Homeomorphism', \"Kirby's List\", 'Local', 'Presheaf of Categories', 'Sheaf', 'Sigma-Algebra', 'Sigma-Discrete Family', 'Sigma-Locally Finite Family', 'Topology', 'Tychonoff Theorem', \"Urysohn's Lemma\", \"Urysohn's Metrization Theorem\", 'Alternating Knots', 'Amphichiral Knots', 'Braids', 'Chiral Knots', 'General Knot Theory', 'Hyperbolic Knots', 'Invertible Knots', 'Knot Invariants', 'Knot Operations', 'Knot Properties', 'Knots', 'Links', 'Nonhyperbolic Knots', 'Nonsatellite Knots', 'Nontorus Knots', 'Prime Knots', 'Satellite Knots', 'Torus Knots', 'Low-Dimensional Topology', \"Witten's Equations\", 'Abstract Manifold', 'Ahlfors-Bers Theorem', 'Algebraic Manifold', 'Ambient Isotopy', 'Analytic Torsion', 'Antipodal Map', 'Atiyah-Singer Index Theorem', 'Atlas', 'Axiom A Diffeomorphism', 'Baire Category Theorem', 'Baire Space', 'Beltrami Field', 'Berger-Kazdan Comparison Theorem', 'Bergman Space', 'Besov Space', \"Bing's Theorem\", 'Blaschke Conjecture', 'Bordism', 'Brouwer Degree', 'Calabi-Yau Space', \"Campbell's Theorem\", 'Cellular Space', 'Chart Tangent Space', \"Cheeger's Finiteness Theorem\", 'Closed Graph Theorem', 'Closed Manifold', 'Closing Lemma', 'Cobordant Manifold', 'Cohomology', 'Cohomotopy Group', 'Compact Manifold', 'Complex Manifold', 'Connected Sum Decomposition', 'Connex', 'Coordinate Chart', 'Diffeomorphic', 'Diffeomorphism', 'Differential k-Form', 'Donaldson Invariants', 'Exotic Cohomology', 'Flag Manifold', 'Flat Manifold', 'Freedman Theorem', 'Generalized Reeb Component', 'Grassmann Manifold', 'Grassmannian', 'h-Cobordism', 'h-Cobordism Theorem', 'Harmonic Map', 'Hodge Star', \"Hodge's Theorem\", 'Hyper-Kähler Manifold', 'Intrinsic Tangent Space', 'Jaco-Shalen-Johannson Torus Decomposition', 'Kähler Manifold', 'Kähler Metric', 'Kähler Structure', 'Kirby-Siebenmann Invariant', 'Koenigs-Poincaré Theorem', 'Lens Space', 'Lichnerowicz Formula', 'Lichnerowicz-Weitzenbock Formula', 'Manifold', 'Manifold Orientation', 'Manifold Tangent Vector', 'Map Degree', \"Marcus's Theorem\", 'Morse Inequalities', \"Nash's Embedding Theorem\", 'Nice Vector Field', 'Open Manifold', 'Parallel Transport', 'Partition of Unity', 'Poincaré Conjecture', 'Poincaré Dodecahedral Space', 'Poincaré Duality', 'Poincaré-Hopf Index Theorem', 'Poincaré Manifold', 'Poisson Manifold', 'Prime Manifold', 'Pseudo-Riemannian Manifold', 'Pseudo-Riemannian Metric', 'Quaternion Kähler Manifold', 'Reeb Component', 'Reebless', 'Regge Calculus', 'Reidemeister Torsion', 'Riemann Sphere', 'Riemannian Geometry', 'Riemannian Manifold', 'Riemannian Metric', 'Seiberg-Witten Equations', 'Smale Theorem', 'Smooth Manifold', 'Smooth Structure', 'Stallings-Zeeman Theorem', 'Stiefel Manifold', \"Stokes' Theorem\", 'Stratified Manifold', 'Submanifold', 'Submanifold Tangent Space', 'Submersion', 'Sutured Manifold', 'Symplectic Manifold', 'Taut Foliation', 'Topological Manifold', 'Transition Function', 'Transversal Intersection', 'Transversely Orientable Foliation', 'Trivialization', 'Whitehead Manifold', 'Whitehead Torsion', '0-Connected', '1-Connected', 'Affine Hull', 'Almost Everywhere Convergence', 'Arc Component', 'Arcwise-Connected', 'Basepoint', 'Basis Element', 'Bicollared', 'Borel Hierarchy', 'Borel Measure', 'Borel Set', 'Borel Sigma-Algebra', 'Borel Space', 'Boundary', 'Boundary Map', 'Boundary Point', 'Boundary Set', 'Bounded', 'Bounded from Above', 'Bounded from Below', 'Bounded Set', \"Cantor's Discontinuum\", \"Carathéodory's Fundamental Theorem\", 'Clopen', 'Closed', 'Closed Ball', 'Closed Disk', 'Closed Map', 'Closed Set', 'Closure', 'Compact Closure', 'Compact Set', 'Compact Subset', 'Compact Support', 'Compactification', 'Compactum', 'Complete Metric Space', 'Complete Space', 'Completely Regular Space', 'Completion', 'Concave', 'Cone Set', 'Connected Component', 'Connected im Kleinen', 'Connected Set', 'Connected Space', 'Contingent Cone', 'Continuous Function', 'Continuous Map', 'Continuous Space', 'Contractibility', 'Contractible', 'Convex', 'Convex Cone', 'Convex Function', 'Convex Set', 'Convexity Coefficient', 'Covering Map', 'Covering Space', 'Dense', 'Derived Set', 'Dimension Axiom', 'Disconnected Set', 'Disconnected Space', 'Discrete Family', 'Discrete Set', 'Discrete Topology', 'Disk', 'Domain', 'Domain Invariance Theorem', 'Endpoint', 'Extremals', 'F_sigma Set', 'Fiber', 'First Category', 'Foliation', 'Foliation Leaf', 'G_delta Set', 'Generalized Diameter', 'Generalized Reeb Component', 'Half-Closed Interval', 'Half-Space', 'Hausdorff Axioms', 'Heine-Borel Theorem', \"Helly's Theorem\", 'Hereditary Property', 'Heredity', 'Hopf-Rinow Theorem', \"Hurwitz's Root Theorem\", 'Injection', 'Interior', 'Interval', 'Landau Constant', 'Lebesgue Covering Dimension', 'Locally Compact', 'Locally Connected', 'Locally Finite Family', 'Locally Pathwise-Connected', 'Lyusternik-Schnirelmann Theorem', \"Mackey's Theorem\", 'Magic Geometric Constants', \"Mergelyan's Theorem\", 'Metric Space', 'Metric Topology', 'Metrizable Topology', 'Multiply Connected', 'Mutually Singular', 'Neighborhood', 'Net', 'Nice Vector Field', 'One-Point Compactification', 'Open', 'Open Ball', 'Open Cover', 'Open Disk', 'Open Interval', 'Open Map', 'Open Neighborhood', 'Open Set', 'Order Topology', 'Path-Connected', 'Pathwise-Connected', 'Point-Set Topology', 'Polydisk', 'Pseudo-Convex Set', 'Pseudo-Tangent Cone', 'Pseudoconcave Function', 'Pseudoconvex Function', 'Punctured Plane', 'Punctured Set', 'Quasi-Concave Function', 'Quasi-Convex Function', 'Ramification Index', 'Reeb Component', 'Reebless', 'Region', 'Regular Borel Measure', 'Reinhardt Domain', 'Relative Topology', 'Residual Set', 'Second Countable Topology', 'Semilocally 1-Connected', 'Semilocally Simply Connected', 'Separation Axioms', 'Set Closure', 'Sigma-Compact Topological Space', 'Simply Connected', 'Species', 'Star Convex', 'Subanalytic', 'Subbasis', 'Surjection', 'Sutured Manifold', 'T_2-Separation Axiom', 'T_2-Space', 'Taut Foliation', \"Tietze's Extension Theorem\", 'Topological Basis', 'Topological Closure', 'Topologically Transitive', \"Topologist's Sine Curve\", 'Transversely Orientable Foliation', 'Trivial Loop', 'Trivial Topology', 'Ultrametric', 'Unicoherent Space', 'Uniform Convexity', 'Unit Interval', 'Zariski Topology', 'Zero Set', 'Abstract Topological Space', 'Abstract Vector Space', 'Approximation Problem', 'Approximation Property', 'Banach Space', 'Boundedly Compact Space', 'Broom Space', 'Character Space', 'Column Space', 'Comb Space', 'Compact Space', 'Complex Vector Space', 'Continuum', 'Decomposable Continuum', 'Dendrite', 'Disconnected Space', \"Drinfeld's Symmetric Space\", 'Dual Normed Space', 'Eilenberg-Mac Lane Space', 'Etale Space', 'Euclidean Space', 'Finsler Geometry', 'First-Countable Space', 'Fréchet Space', 'Fréchet Topological Vector Space', 'Function Space', 'G-Space', 'Gauss-Bolyai-Lobachevsky Space', 'Gift Wrap Theorem', 'Green Space', 'Half-Space', 'Hamel Basis', 'Heisenberg Space', 'Helly Number', 'Hereditarily Decomposable Continuum', 'Hermitian Inner Product Space', 'Hilbert Space', 'Holography', 'Homogeneous Space', 'Hyperspace', 'Indecomposable Continuum', 'Jordan Decomposition Theorem', 'L^2-Space', 'Lens Space', 'Liouville Space', 'Locally Finite Space', 'Locally Pathwise-Connected', 'Loop Space', 'Mapping Space', 'May-Thomason Uniqueness Theorem', 'Minkowski Space', 'Minkowski Sum', 'Moduli Space', 'Müntz Space', 'n-Space', 'Normal Space', 'Normed Space', 'Normed Vector Space', 'Orthogonal Subspaces', 'Paracompact Space', 'Path Space', 'Pentaspherical Space', 'Phase Space', 'Planar Space', 'Pointed Map', 'Pointed Space', 'Polish Space', 'Product Space', 'Projective Space', 'Pseudo-Euclidean Space', 'Quotient Space', 'Quotient Vector Space', 'Real Vector Space', 'Regular Space', 'Row Space', 'Schwartz Space', 'Second Countable Space', 'Separable Space', 'Separation Axioms', 'Sobolev Space', 'Space', 'Standard Space', 'State Space', 'Stone Space', 'Subspace', 'Symplectic Space', 'T_0-Separation Axiom', 'T_0-Space', 'T_1-Separation Axiom', 'T_1-Space', 'T_2-Space', 'T_3-Separation Axiom', 'T_3-Space', 'T_4-Separation Axiom', 'T_4-Space', 'Tangent Space', 'Teichmüller Space', 'Tensor Space', 'Topological Space', 'Topological Vector Space', 'Total Space', 'Totally Disconnected Space', 'Triangle Space', 'Twistor Space', 'Tychonoff Plank', 'Tychonoff Space', 'Unicoherent Space', 'Universal Space', 'Vector Space', 'Zero Map', 'Dehn Invariant', 'Divisible Property', 'Hereditary Property', 'Productive Property', 'Connected Sum', 'Cutting', 'Dehn Surgery', 'Embedding', 'Eversion', 'Heegaard Diagram', 'Heegaard Splitting', 'Isotope', 'Kirby Calculus', 'Lefschetz Trace Formula', 'Mutation', 'Orthogonal', 'Orthogonal Sum', 'Perforation', 'Plumbing', 'Pretzel Transformation', 'Productive Property', 'Reeb Foliation', 'Regular Isotopy', 'Smale Horseshoe Map', 'Sphere Eversion', 'Surgery', 'Topological Cube', 'Torus Cannibal', 'Tychonoff Theorem', \"Alexander's Horned Sphere\", \"Antoine's Horned Sphere\", \"Antoine's Necklace\", 'Band', 'Cap', 'Classification Theorem of Surfaces', 'Confoliation', 'Conway Sphere', 'Cross-Cap', 'Cross-Handle', 'Cross Surface', 'Disconnectivity', \"Dvoretzky's Theorem\", \"Dyck's Surface\", \"Dyck's Theorem\", 'Elliptic Plane', 'Exotic R^4', 'Exotic Sphere', 'Flat', 'Geometrically Essential', 'Gerbe', 'Gift Wrap Theorem', 'Handle', 'Handlebody', 'Hole', 'Hyperboloid Embedding', 'Klein Bottle', \"Marcus's Theorem\", \"Mazur's Theorem\", 'Möbius Shorts', 'Möbius Strip', 'Ordinary Surface', 'Parallelizable', 'Path', 'Poincaré Dodecahedral Space', 'Poincaré Manifold', 'Prismatic Ring', 'Product Topology', 'Pseudocrosscap', 'Pseudometric Topology', 'Real Projective Plane', 'Seifert Surface', 'Space Cone', 'Thurston Elliptization Conjecture', \"Thurston's Geometrization Conjecture\", 'Triple Torus', 'Tychonoff Plank', 'Whitehead Manifold', 'Zip', 'Zip-Pair']\n",
            "Recreational Mathematics:\n",
            "['Alphametic', \"Caesar's Method\", 'Cipher', 'Ciphertext', 'Cryptarithmetic', 'Digimetic', \"Printer's Errors\", 'Skeleton Division', 'Ambiguous Rectangle', \"Archimedes' Box\", 'Banach-Tarski Paradox', \"Blanche's Dissection\", \"Borsuk's Conjecture\", 'Conway Puzzle', 'Cube Dissection', 'Curry Triangle', 'Cylinder Dissection', 'Dehn Invariant', 'Diabolical Cube', 'Dissection', 'Dissection Fallacy', 'Dissection Puzzles', 'Equidecomposable', 'Eternity', 'Fault-Free Rectangle', \"Haberdasher's Problem\", \"Haberdasher's Puzzle\", 'Hadwiger Problem', 'Integer Triangle', 'Klein Bottle Dissection', 'Loculus', 'Loculus of Archimedes', 'Möbius Strip Dissection', \"Mrs. Perkins's Quilt\", 'No-Touch Dissection', 'Nowhere-Neat Dissection', 'Ostomachion', 'Perfect Square', 'Perfect Square Dissection', 'Polyhedron Dissection', 'Projective Plane Dissection', 'Pythagorean Square Puzzle', 'Rep-Tile', 'Slothouber-Graatsma Puzzle', 'Soma Cube', \"Sperner's Lemma\", 'Square Dissection', 'Stomachion', 'Syntemachion', 'T-Puzzle', 'Tangram', 'Tangram Paradox', 'Torus Dissection', 'Triangle Dissection', 'Triangle Dissection Paradox', 'Wallace-Bolyai-Gerwien Theorem', 'Flexagons', 'General Folding', 'Origami', 'Paper Sculpture', 'Board Games', 'Card Games', 'Dice Games', 'Game Theory', 'General Games', 'Ambihelical Hexnut', 'Angle Illusions', \"Benham's Wheel\", 'Blivet', 'Bullseye Illusion', 'Café Wall Illusion', 'Continuous Line Illusion', 'Delboeuf Illusion', 'Ehrenstein Illusion', \"Escher's Cube\", \"Fraser's Spiral\", 'Freemish Crate', 'Goblet Illusion', 'Hering Illusion', 'Hermann Grid Illusion', 'Hermann-Hering Illusion', 'Illusion', 'Illusory Contour Figures', 'Impossible Box', 'Impossible Figure', 'Impossible Fork', 'Impossible Joinery', 'Impossible Torus', 'Impossible Triangle', 'Impossible Tribar', 'Irradiation Illusion', 'Jastrow Illusion', 'Kanizsa Triangle', \"Morellet's Tirets Illusion\", 'Müller-Lyer Illusion', 'Münsterberg Illusion', 'Necker Cube', 'Optical Illusion', \"Orbison's Illusion\", 'Ouchi Illusion', 'Parallelogram Illusion', 'Penrose Rectangle', 'Penrose Square', 'Penrose Stairway', 'Penrose Triangle', 'Penrose Tribar', 'Poggendorff Illusion', 'Poiuyt', \"Ponzo's Illusion\", 'Rabbit-Duck Illusion', 'Rotating Square Illusion', \"Schouten's Staircase\", 'Schroeder Stairs', 'Scintillating Grid Illusion', 'Square Illusions', 'Square-in-a-Circle Illusion', 'Three-Arc Illusion', 'Titchener Illusion', 'Tri-Bar', 'Tribar', 'Tribox', 'Vertical-Horizontal Illusion', 'Wundt Area Illusion', 'Wundt Illusion', 'Young Girl-Old Woman Illusion', \"Zöllner's Illusion\", 'Magic Circles', 'Magic Cubes', 'Magic Graphs', 'Magic Series', 'Magic Squares', 'Magic Tesseracts', 'Miscellaneous Magic Figures', 'Mathematical Images', 'Paper Sculpture', 'Polyhedron Nets', 'Ray-Traced Images', 'String Figures', 'Abelian Group', 'Abelian Semigroup', 'Aleph-0', 'ASS Theorem', 'At Least One', 'Banach Space', \"Bertrand's Postulate\", 'Contour Integral', 'Cross Product', 'Cyclic Group C_2', 'Cylinder', 'Definite Integral', 'Derivative', 'Dihedral Group', 'e', 'Eigenfunction', 'Epsilon', 'Fibonacci Number', 'Finite Group', 'Finitely Presented Group', 'Fluxion', 'FoxTrot Series', 'Fraction', 'Geometry', 'Hilbert Space', \"Hoyle's Social Network Theorem\", 'i', 'Lemma', 'Limit', 'Mean', 'Milliard', 'Nested Logarithm', 'Non-Abelian Group', 'Perrin Sequence', 'Pi', 'Pi Wordplay', 'Pizza Theorem', 'Point', 'Pole', 'Proof', 'Real Line', 'Ring', 'Self-Recursion', 'Simple Group', 'Statistics', 'Strange Loop', 'Sufficiently Large', 'Theorem', 'Topology', \"Tupper's Self-Referential Formula\", \"Zeno's Paradoxes\", \"Zorn's Lemma\", '10', '13th Root', '196-Algorithm', 'Aliquot Sequence', 'Amicable Pair', \"Apéry's Constant\", \"Apéry's Constant Continued Fraction\", \"Apéry's Constant Digits\", 'Belphegor Prime', 'Bernoulli Number', 'Bitwin Chain', 'Braced Polygon', \"Brocard's Problem\", \"Brun's Constant\", 'Busy Beaver', 'Carmichael Number', \"Catalan's Constant Continued Fraction\", \"Catalan's Constant Digits\", 'Champernowne Constant Continued Fraction', 'Champernowne Constant Digits', 'Circle Packing', 'Collatz Problem', 'Computational Number Theory', 'Consecutive Number Sequences', 'Constant', 'Constant Digit Scanning', 'Constant Primes', 'Copeland-Erdős Constant Continued Fraction', 'Copeland-Erdős Constant Digits', 'Cousin Primes', 'Cube', 'Cubic Nonplanar Graph', 'Cubic Number', 'Cunningham Chain', 'Cunningham Number', 'Curve of Constant Width', 'Dedekind Number', 'Double Factorial Prime', 'Double Mersenne Number', 'e Continued Fraction', 'e Digits', 'e-Prime', 'Earls Sequence', 'Elliptic Curve Factorization Method', 'Elliptic Curve Primality Proving', 'Euclid Number', 'Euler-Mascheroni Constant Continued Fraction', 'Euler-Mascheroni Constant Digits', 'Euler Number Prime', 'Euler Prime', 'Factorial Prime', 'Fermat Number', 'Fermat Prime', \"Ferrier's Prime\", 'Fibonacci Prime', 'Folding', 'Gaussian Prime', 'Generalized Fermat Number', 'Gigantic Prime', \"Gilbreath's Conjecture\", 'Glaisher-Kinkelin Constant Digits', 'Goldbach Conjecture', 'Golden Ratio Digits', 'Golomb-Dickman Constant Continued Fraction', 'Golomb-Dickman Constant Digits', 'Golomb Ruler', 'Hadamard Matrix', 'Hadwiger Problem', 'Harmonic Number', 'Heesch Number', 'Heilbronn Triangle Problem', 'High-Water Mark', \"Hochberg-O'Donnell Fish Graph\", 'Home Prime', 'Integer Sequence Primes', 'Irrationality Measure', 'Irregular Prime', 'Juggler Sequence', 'Keith Number', \"Khinchin's Constant\", \"Khinchin's Constant Continued Fraction\", \"Khinchin's Constant Digits\", 'Kissing Number', 'Large Prime', 'Latin Square', \"Lehmer's Mahler Measure Problem\", 'Lucas Number', 'Lucas Prime', 'Mersenne Number', 'Mersenne Prime', 'Mertens Conjecture', \"Mrs. Perkins's Quilt\", 'Multiperfect Number', 'Natural Logarithm of 2 Continued Fraction', 'Natural Logarithm of 2 Digits', 'Natural Logarithm of 10 Continued Fraction', 'Natural Logarithm of 10 Digits', 'Near-Square Prime', 'NSW Number', 'Number Field Sieve', 'Odd Perfect Number', 'Out-Shuffle', 'Palindromic Prime', 'Partition Function P', 'Pell Number', 'Perfect Number', 'Perfect Square Dissection', 'Perrin Sequence', 'Phi-Prime', 'Pi', 'Pi Continued Fraction', 'Pi Digits', 'Pi-Prime', 'Prime Arithmetic Progression', 'Prime Array', 'Prime Counting Function', 'Prime Factorization Algorithms', 'Prime Gaps', 'Prime-Generating Polynomial', 'Prime Number', 'Prime Triplet', 'Probable Prime', \"Pythagoras's Constant Digits\", 'Record Setting', 'Rectilinear Crossing Number', 'Repunit Prime', 'RSA Number', 'Ruth-Aaron Pair', 'Semiprime', 'Sexy Primes', 'Smarandache Sequences', 'Smarandache-Wellin Prime', 'Smith Number', \"Soldner's Constant Continued Fraction\", \"Soldner's Constant Digits\", 'Sophie Germain Prime', 'Square Number', 'Square Packing', 'Strassen Formulas', 'Strong Pseudoprime', 'Tau Function Prime', 'Ternary', 'Thâbit ibn Kurrah Prime', \"Theodorus's Constant Digits\", 'Titanic Prime', 'Triangle Packing', 'Twin Primes', 'Union-Closed Sets Conjecture', 'Unitary Amicable Pair', 'Wagstaff Prime', 'Wall-Sun-Sun Prime', 'Weird Number', 'Wieferich Prime', 'Wilson Prime', 'Wolstenholme Prime', 'Woodall Prime', 'Mathematical Book Covers', 'Mathematical Journal Covers', 'Mathematical Sculpture', 'Mathematics in Architecture', 'Mathematics in Art', 'Mathematics in Films', 'Mathematics in Literature', 'Mathematics in Music', 'Mathematics in Radio', 'Mathematics in Television', 'Mathematics in Theater', 'Mathematics in the Media', 'Number Guessing', '666', 'Almost Integer', 'Almost Zero', \"Apéry's Constant Approximations\", 'Apocalypse Number', 'Apocalyptic Number', 'Baseball', 'Beast Number', 'Belphegor Number', 'Belphegor Prime', \"Catalan's Constant Approximations\", 'e Approximations', 'Euler-Mascheroni Constant Approximations', 'Evil Number', 'Feigenbaum Constant Approximations', 'Golden Ratio Approximations', \"Jenny's Constant\", \"Khinchin's Constant Approximations\", \"Legion's Numbers\", 'Leviathan Number', 'Number of the Beast', 'Number of the Devil', 'Numerology', 'Pi Approximations', 'Sign of the Devil', 'Triskaidekaphobia', 'White House Switchboard Constant', \"Wyler's Constant\", '15 Puzzle', \"Archimedes' Box\", 'Baguenaudier', 'Book Stacking Problem', 'Braced Polygon', 'Braced Square', \"Caesar's Method\", 'Card Stacking Problem', 'Cigarettes', 'Cipher', 'Ciphertext', 'Cube Dovetailing Problem', 'Eternity', 'Goat Problem', \"God's Number\", 'Kobon Triangle', 'Loculus', 'Loculus of Archimedes', 'Lost in a Forest Problem', 'Lucas Correspondence', 'Moat-Crossing Problem', 'Nanpure', 'Number Place', 'Ostomachion', 'Puzzle', 'Railroad Track Problem', \"Reve's Puzzle\", \"Rubik's Clock\", \"Rubik's Cube\", 'Soma Cube', 'Spider and Fly Problem', 'St. Ives Problem', 'Stomachion', 'Sudoku', \"Sultan's Dowry Problem\", 'Syntemachion', 'Tangram', 'Tent Problem', 'Tower of Hanoi', 'Towers of Hanoi', 'Two Trains Puzzle', 'Zome', '10 Pins', 'Baseball', 'Bowling', 'Fibonacci Number', 'Home Plate', 'Magic Number', 'Perrin Sequence', 'Ruth-Aaron Pair', 'Sabermetrics', 'Ten Pins']\n",
            "Foundations of Mathematics:\n",
            "['Ackermann Function', 'Additive Category', 'Additive Cellular Automaton', 'AND', 'Apollonian Gasket', 'Associative Algebra', 'Binary', 'Boolean Function', 'Bootstrap Percolation', 'Busy Beaver', 'Causal Graph', 'Causal Invariance', 'Causal Network', 'Cayley Graph', 'Cellular Automaton', 'Champernowne Constant', 'Church-Rosser Property', 'Church-Turing Thesis', 'Circle Packing', 'Closed-Form Solution', 'Code', 'Code 177', 'Code 912', 'Code 2040', 'Collatz Problem', 'Combinator', 'Commutative Monoid', 'Complex Number', 'Complexity', 'Computable Number', 'Computational Irreducibility', 'Computational Paradigm', 'Computational Reducibility', 'Confluent', 'Consecutive Number Sequences', \"Conway's Constant\", 'Conway Sequence', 'Cosmological Theorem', 'Critical Pair', 'Cubic Symmetric Graph', 'Cyclic Tag System', 'Cyclotomic Polynomial', 'Decision Problem', 'Digit Count', 'Elementary Cellular Automaton', 'Encoding', 'Equational Logic', 'Experimental Mathematics', 'Fast Walsh Transform', 'Feigenbaum Constant', 'Firing Squad Problem', 'Flower of Life', 'Formal Language', 'Generalized Mobile Automaton', 'Genetic Algorithm', \"Gödel's First Incompleteness Theorem\", 'Gödel Number', 'Hadamard Matrix', 'Hofstadter-Conway $10,000 Sequence', \"Hofstadter's Q-Sequence\", 'Integer Complexity', 'Iterated Map', \"Kelvin's Conjecture\", 'Klein Quartic', 'Kleinian Group', 'Knuth-Bendix Completion Algorithm', 'Lag System', \"Langton's Ant\", 'Least Significant Bit', 'Logic', 'Logistic Equation', 'Logistic Map', 'Logistic Map--r=2', 'Logistic Map--r=4', 'Look and Say Sequence', 'Mathematical Paradigm', 'Mathematics', 'Maze', 'Method of Steepest Descent', 'Mobile Automaton', 'Multicomputation', 'Multicomputational Paradigm', 'Multicomputational Process', 'Multicomputational System', 'Multiway Graph', 'Multiway System', 'Munching Squares', 'Nested Radical Constant', 'New Kind of Science', \"Newton's Iteration\", 'Nondeterministic Turing Machine', 'OR', 'Outer-Totalistic Cellular Automaton', \"Pascal's Triangle\", \"Paterson's Worms\", \"Peano's Axioms\", 'Polyomino Tiling', 'Power Ceilings', 'Power Fractional Parts', 'Presburger Arithmetic', 'Primitive Recursive Function', 'Principle of Computational Equivalence', 'Principle of Permanence', 'Proof', 'Propositional Calculus', 'Quasi-Monte Carlo Integration', 'Recurrence Equation', 'Recursive Function', 'Recursive Sequence', 'Recursively Enumerable Set', 'Reduction Order', 'Register Machine', 'Reverse-Then-Add Sequence', \"Rice's Theorem\", 'Rule', 'Rule 28', 'Rule 30', 'Rule 50', 'Rule 54', 'Rule 60', 'Rule 62', 'Rule 90', 'Rule 94', 'Rule 102', 'Rule 110', 'Rule 126', 'Rule 150', 'Rule 158', 'Rule 182', 'Rule 188', 'Rule 190', 'Rule 220', 'Rule 222', 'Rule 250', 'Seed of Life', 'Self-Counting Sequence', 'Sequential Substitution System', 'Sierpiński Sieve', 'Sieve of Eratosthenes', 'Smarandache Number', 'Square Root Algorithms', 'Stochastic', 'Substitution System', 'Tag System', 'Tangent Circles', 'Ternary', 'Thue-Morse Sequence', 'Totalistic Cellular Automaton', 'Truchet Tiling', 'Turing Machine', 'Turmite', 'Ulam Sequence', 'Universal Algebra', 'Universal Turing Machine', 'Universality', 'Walsh Function', 'Walsh Transform', 'WireWorld', 'Wolfram Axiom', \"Wolfram's Iteration\", 'Wolfram Sequences', 'XOR', 'Absorption Identities', 'Absorption Identity', 'Absorption Law', 'Algebra of Random Variables', 'Axiom', 'Axiom of Choice', 'Axiom of Extensionality', 'Axiom of Foundation', 'Axiom of Infinity', 'Axiom of Replacement', 'Axiom of Subsets', 'Axiom of the Empty Set', 'Axiom of the Power Set', 'Axiom of the Sum Set', 'Axiom of the Unordered Pair', 'Axiom Schema', 'Axiomatic Set Theory', 'Axiomatic System', 'Axioms of Subsets', 'Categorical Axiomatic System', 'Congruence Axioms', 'Continuity Axioms', \"de Morgan's Laws\", 'Eilenberg-Steenrod Axioms', 'Equidistance Postulate', \"Euclid's Postulates\", 'Excision Axiom', 'Field Axioms', 'Hausdorff Axioms', \"Hilbert's Axioms\", 'Homotopy Axiom', 'Incidence Axioms', 'Induction Axiom', \"Kolmogorov's Axioms\", 'Long Exact Sequence of a Pair Axiom', 'Ordering Axioms', 'Parallel Postulate', 'Peano Arithmetic', \"Peano's Axioms\", \"Playfair's Axiom\", 'Postulate', 'Presburger Arithmetic', 'Probability Axioms', \"Proclus' Axiom\", 'Zermelo-Fraenkel Axioms', 'Abelian Category', 'Additive Category', 'Additive Functor', 'Algebraic Geometry Stack', 'Allegory', 'Categorical Variable', 'Category', 'Category Product', 'Category Theory', 'Coequalizer', 'Commutative Diagram', 'Contravariant Functor', 'Coproduct', 'Covariant Functor', 'Direct Factor', 'Direct Product', 'Endomorphism', 'Epimorphism', 'Equalizer', 'Exact Functor', 'Faithful Functor', 'Fibered Category', 'Fibered Category Morphism', 'Forgetful Functor', 'Free Product', \"Freyd's Theorem\", 'Functor', 'Gerbe', 'Holonomy', 'Hom-Set', 'Homeomorphic', 'Homeomorphism Group', 'Homomorphic', 'Homomorphism', 'Initial Object', 'Isomorphism', 'Long Exact Sequence', 'Monodromy', 'Monomorphism', 'Morphism', 'Natural Isomorphism', 'Natural Transformation', 'Object', 'Orthomorphism', 'Presheaf of Categories', 'Pullback Map', 'R-Category', 'Schur Functor', 'Separable Morphism', 'Stack of Groupoids', 'Strict Tensor Category', 'Subcategory', 'Tensor Category', 'Tensor R-Category', 'Terminal Object', 'Topos', 'Unital Natural Transformation', 'Unital R-Module', 'Zero Map', 'Decidability', 'Fuzzy Logic', 'General Logic', 'Logical Operations', 'Nonstandard Analysis', 'Paradoxes', 'Prize Problems', 'Prizes', 'Problem Collections', 'Proved Conjectures', 'Refuted Conjectures', 'Solved Problems', 'Unsolved Problems', '0-Connected', '1-Connected', 'Affine Hull', 'Almost Everywhere Convergence', 'Arc Component', 'Arcwise-Connected', 'Basepoint', 'Basis Element', 'Bicollared', 'Borel Hierarchy', 'Borel Measure', 'Borel Set', 'Borel Sigma-Algebra', 'Borel Space', 'Boundary', 'Boundary Map', 'Boundary Point', 'Boundary Set', 'Bounded', 'Bounded from Above', 'Bounded from Below', 'Bounded Set', \"Cantor's Discontinuum\", \"Carathéodory's Fundamental Theorem\", 'Clopen', 'Closed', 'Closed Ball', 'Closed Disk', 'Closed Map', 'Closed Set', 'Closure', 'Compact Closure', 'Compact Set', 'Compact Subset', 'Compact Support', 'Compactification', 'Compactum', 'Complete Metric Space', 'Complete Space', 'Completely Regular Space', 'Completion', 'Concave', 'Cone Set', 'Connected Component', 'Connected im Kleinen', 'Connected Set', 'Connected Space', 'Contingent Cone', 'Continuous Function', 'Continuous Map', 'Continuous Space', 'Contractibility', 'Contractible', 'Convex', 'Convex Cone', 'Convex Function', 'Convex Set', 'Convexity Coefficient', 'Covering Map', 'Covering Space', 'Dense', 'Derived Set', 'Dimension Axiom', 'Disconnected Set', 'Disconnected Space', 'Discrete Family', 'Discrete Set', 'Discrete Topology', 'Disk', 'Domain', 'Domain Invariance Theorem', 'Endpoint', 'Extremals', 'F_sigma Set', 'Fiber', 'First Category', 'Foliation', 'Foliation Leaf', 'G_delta Set', 'Generalized Diameter', 'Generalized Reeb Component', 'Half-Closed Interval', 'Half-Space', 'Hausdorff Axioms', 'Heine-Borel Theorem', \"Helly's Theorem\", 'Hereditary Property', 'Heredity', 'Hopf-Rinow Theorem', \"Hurwitz's Root Theorem\", 'Injection', 'Interior', 'Interval', 'Landau Constant', 'Lebesgue Covering Dimension', 'Locally Compact', 'Locally Connected', 'Locally Finite Family', 'Locally Pathwise-Connected', 'Lyusternik-Schnirelmann Theorem', \"Mackey's Theorem\", 'Magic Geometric Constants', \"Mergelyan's Theorem\", 'Metric Space', 'Metric Topology', 'Metrizable Topology', 'Multiply Connected', 'Mutually Singular', 'Neighborhood', 'Net', 'Nice Vector Field', 'One-Point Compactification', 'Open', 'Open Ball', 'Open Cover', 'Open Disk', 'Open Interval', 'Open Map', 'Open Neighborhood', 'Open Set', 'Order Topology', 'Path-Connected', 'Pathwise-Connected', 'Point-Set Topology', 'Polydisk', 'Pseudo-Convex Set', 'Pseudo-Tangent Cone', 'Pseudoconcave Function', 'Pseudoconvex Function', 'Punctured Plane', 'Punctured Set', 'Quasi-Concave Function', 'Quasi-Convex Function', 'Ramification Index', 'Reeb Component', 'Reebless', 'Region', 'Regular Borel Measure', 'Reinhardt Domain', 'Relative Topology', 'Residual Set', 'Second Countable Topology', 'Semilocally 1-Connected', 'Semilocally Simply Connected', 'Separation Axioms', 'Set Closure', 'Sigma-Compact Topological Space', 'Simply Connected', 'Species', 'Star Convex', 'Subanalytic', 'Subbasis', 'Surjection', 'Sutured Manifold', 'T_2-Separation Axiom', 'T_2-Space', 'Taut Foliation', \"Tietze's Extension Theorem\", 'Topological Basis', 'Topological Closure', 'Topologically Transitive', \"Topologist's Sine Curve\", 'Transversely Orientable Foliation', 'Trivial Loop', 'Trivial Topology', 'Ultrametric', 'Unicoherent Space', 'Uniform Convexity', 'Unit Interval', 'Zariski Topology', 'Zero Set', 'Cardinal Numbers', 'Equivalence Classes', 'General Set Theory', 'Lattice Theory', 'Logical Operations', 'Model Theory', 'Ordinal Numbers', 'Partial Orders', 'Relations', 'Set Operations', 'Set Properties', 'Sets', 'Flawed Proofs', 'Proofs']\n"
          ]
        }
      ]
    },
    {
      "cell_type": "code",
      "source": [
        "# Merge Topics and Subtopics to one dictionary\n",
        "for key, value in topics.items():\n",
        "  if key in sub_topics and sub_topics[key] is not None:\n",
        "    value.extend(sub_topics[key])\n",
        "    # Convert to set and back to list to remove duplicates and sort\n",
        "    new_value = list(set(value))\n",
        "    new_value.sort()\n",
        "    topics[key] = new_value"
      ],
      "metadata": {
        "id": "QKf2s1x5uT39"
      },
      "execution_count": 11,
      "outputs": []
    },
    {
      "cell_type": "code",
      "source": [
        "print(f\"topics dictionary length: {len(topics)}\")\n",
        "\n",
        "for key, value in random_sample:\n",
        "  print(f\"{key}:\\n{topics[key]}\")"
      ],
      "metadata": {
        "colab": {
          "base_uri": "https://localhost:8080/"
        },
        "id": "nTN1q33E_E4x",
        "outputId": "18f5d483-2c1a-4e33-fb45-7b0532fe32cd"
      },
      "execution_count": 12,
      "outputs": [
        {
          "output_type": "stream",
          "name": "stdout",
          "text": [
            "topics dictionary length: 10\n",
            "Topology:\n",
            "['0-Connected', '1-Connected', 'Absolute Retract', 'Abstract Manifold', 'Abstract Simplicial Complex', 'Abstract Topological Space', 'Abstract Vector Space', 'Acyclic Chain Complex', \"Adams' Theorem\", 'Affine Hull', 'Ahlfors-Bers Theorem', 'Aleksandrov-Čech Cohomology', \"Alexander's Horned Sphere\", 'Alexander-Spanier Cohomology', 'Algebraic Gadget', 'Algebraic K-Theory', 'Algebraic Manifold', 'Algebraic Topology', 'Almost Everywhere Convergence', 'Alternating Knots', 'Ambient Isotopy', 'Amphichiral Knots', 'Analytic Torsion', 'Anchor', 'Anosov Flow', 'Antipodal Map', \"Antoine's Horned Sphere\", \"Antoine's Necklace\", 'Approximation Problem', 'Approximation Property', 'Arc Component', 'Arcwise-Connected', 'Associated Fiber Bundle', 'Associated Vector Bundle', 'Atiyah-Singer Index Theorem', 'Atlas', 'Axiom A Diffeomorphism', 'Axiom A Flow', 'Baire Category Theorem', 'Baire Space', 'Banach Space', 'Band', 'Base Manifold', 'Base Space', 'Basepoint', 'Basis Element', 'Beltrami Field', 'Berger-Kazdan Comparison Theorem', 'Bergman Space', 'Besov Space', 'Betti Number', 'Bicollared', \"Bing's Theorem\", 'Blaschke Conjecture', 'Bordism', 'Bordism Group', 'Borel Hierarchy', 'Borel Measure', 'Borel Set', 'Borel Sigma-Algebra', 'Borel Space', 'Boundary', 'Boundary Map', 'Boundary Point', 'Boundary Set', 'Bounded', 'Bounded Set', 'Bounded from Above', 'Bounded from Below', 'Boundedly Compact Space', 'Braids', 'Broom Space', 'Brouwer Degree', 'Bundle', 'Bundle Curvature', 'Bundle Map', 'Bundle Orientation', 'Bundle Rank', 'Bundle Section', 'Bundles', 'CW-Approximation Theorem', 'CW-Complex', 'Calabi-Yau Space', \"Campbell's Theorem\", 'Canonical Bundle', \"Cantor's Discontinuum\", 'Cap', \"Carathéodory's Fundamental Theorem\", 'Cellular Approximation Theorem', 'Cellular Map', 'Cellular Space', 'Chain Contraction', 'Character Space', 'Characteristic Class', 'Chart Tangent Space', \"Cheeger's Finiteness Theorem\", 'Chern Class', 'Chern Number', 'Chiral Knots', 'Circle Bundle', 'Classification Theorem of Surfaces', 'Clopen', 'Closed', 'Closed Ball', 'Closed Disk', 'Closed Graph Theorem', 'Closed Manifold', 'Closed Map', 'Closed Set', 'Closed Star', 'Closing Lemma', 'Closure', 'Cobordant Manifold', 'Cohomology', 'Cohomotopy Group', 'Coloring', 'Column Space', 'Comb Space', 'Combinatorial Topology', 'Commutative Diagram', 'Compact Closure', 'Compact Manifold', 'Compact Set', 'Compact Space', 'Compact Subset', 'Compact Support', 'Compact-Open Topology', 'Compactification', 'Compactness Theorem', 'Compactum', 'Complete Metric Space', 'Complete Space', 'Completely Regular Space', 'Completion', 'Complex Manifold', 'Complex Vector Bundle', 'Complex Vector Space', 'Concave', 'Cone Set', 'Confoliation', 'Connected Component', 'Connected Set', 'Connected Space', 'Connected Sum', 'Connected Sum Decomposition', 'Connected im Kleinen', 'Connecting Homomorphism', 'Connex', 'Contingent Cone', 'Continuous Function', 'Continuous Map', 'Continuous Space', 'Continuous Vector Bundle', 'Continuum', 'Contractibility', 'Contractible', 'Convex', 'Convex Cone', 'Convex Function', 'Convex Set', 'Convexity Coefficient', 'Conway Sphere', 'Coordinate Chart', 'Cotangent Bundle', 'Covering Map', 'Covering Space', 'Cross Surface', 'Cross-Cap', 'Cross-Handle', 'Cup Product', 'Cutting', 'Deck Transformation', 'Decomposable Continuum', 'Deformation Retract', 'Dehn Invariant', 'Dehn Surgery', \"Dehn's Lemma\", 'Dendrite', 'Dense', 'Derived Set', 'Diffeomorphic', 'Diffeomorphism', 'Differential Topology', 'Differential k-Form', 'Dimension', 'Dimension Axiom', 'Dimension Invariance Theorem', 'Disconnected Set', 'Disconnected Space', 'Disconnectivity', 'Discrete Family', 'Discrete Set', 'Discrete Topology', 'Disk', 'Divisible Property', 'Domain', 'Domain Invariance Theorem', 'Donaldson Invariants', \"Drinfeld's Symmetric Space\", 'Dual Bundle', 'Dual Normed Space', \"Dvoretzky's Theorem\", \"Dyck's Surface\", \"Dyck's Theorem\", 'Eilenberg-Mac Lane Space', 'Elliptic Plane', 'Embedding', 'Endpoint', 'Etale Space', 'Euclidean Space', 'Euclidean Topology', 'Euler Characteristic', 'Euler Number', 'Eversion', 'Exact Form', 'Exotic Cohomology', 'Exotic R^4', 'Exotic Sphere', 'Exponential Map', 'Extension Problem', 'Exterior', 'Extremals', 'F_sigma Set', 'Fiber', 'Fiber Bundle', 'Fiber Space', 'Fibration', 'Finsler Geometry', 'Finsler Metric', 'Finsler Space', 'First Category', 'First-Countable Space', 'Five Lemma', 'Flag Manifold', 'Flat', 'Flat Manifold', 'Foliation', 'Foliation Leaf', 'Four Lemma', 'Frame Bundle', 'Free', 'Freedman Theorem', 'Fréchet Space', 'Fréchet Topological Vector Space', 'Function Space', 'Fundamental Class', 'Fundamental Group', 'G-Space', 'G_delta Set', 'Gadget', 'Gauss-Bolyai-Lobachevsky Space', 'General Knot Theory', 'General Topology', 'Generalized Diameter', 'Generalized Reeb Component', 'Genus', 'Geodesic Flow', 'Geometric Realization', 'Geometrically Essential', 'Gerbe', 'Gift Wrap Theorem', 'Graded Module', 'Grassmann Manifold', 'Grassmannian', 'Green Space', 'H-Space', 'Hairy Ball Theorem', 'Half-Closed Interval', 'Half-Space', 'Hamel Basis', 'Handle', 'Handlebody', 'Harmonic Map', 'Hausdorff Axioms', 'Heegaard Diagram', 'Heegaard Splitting', 'Heine-Borel Theorem', 'Heisenberg Space', 'Helly Number', \"Helly's Theorem\", 'Hereditarily Decomposable Continuum', 'Hereditarily Unicoherent Continuum', 'Hereditary Property', 'Heredity', 'Hermitian Inner Product Space', 'Hilbert Space', 'Hodge Star', \"Hodge's Theorem\", 'Hole', 'Holography', 'Holomorphic Line Bundle', 'Holomorphic Tangent Bundle', 'Holomorphic Vector Bundle', 'Homeomorphic', 'Homeomorphic Type', 'Homeomorphism', 'Homeomorphism Group', 'Homogeneous Space', 'Homologous', 'Homology', 'Homology Class', 'Homology Intersection', 'Homotopic', 'Homotopy', 'Homotopy Axiom', 'Homotopy Class', 'Homotopy Equivalence', 'Homotopy Group', 'Homotopy Sphere', 'Homotopy Theory', 'Homotopy Type', 'Hopf Invariant One Theorem', 'Hopf Map', 'Hopf Trace Theorem', 'Hopf-Rinow Theorem', \"Hurwitz's Root Theorem\", 'Hyper-Kähler Manifold', 'Hyperbolic Knots', 'Hyperboloid Embedding', 'Hyperspace', 'Immersion', 'Indecomposable Continuum', 'Induced Map', 'Injection', 'Interior', 'Interval', 'Intrinsic Tangent Space', 'Invertible Knots', 'Isotope', 'Isotopy', 'Jaco-Shalen-Johannson Torus Decomposition', 'Jordan Curve Theorem', 'Jordan Decomposition Theorem', 'K-Theory', 'Kirby Calculus', \"Kirby's List\", 'Kirby-Siebenmann Invariant', 'Klein Bottle', 'Knot Invariants', 'Knot Operations', 'Knot Properties', 'Knot Theory', 'Knots', 'Koenigs-Poincaré Theorem', 'Kähler Manifold', 'Kähler Metric', 'Kähler Structure', 'L^2-Space', 'Landau Constant', 'Lebesgue Covering Dimension', 'Lefschetz Number', 'Lefschetz Trace Formula', 'Lens Space', 'Lichnerowicz Formula', 'Lichnerowicz-Weitzenbock Formula', 'Lichtenbaum-Quillen Conjecture', 'Lie Algebroid', 'Lift', 'Lifting Problem', 'Line Bundle', 'Links', 'Liouville Space', 'Local', 'Locally Compact', 'Locally Connected', 'Locally Finite Complex', 'Locally Finite Family', 'Locally Finite Space', 'Locally Pathwise-Connected', 'Loop Space', 'Low-Dimensional Topology', 'Lyusternik-Schnirelmann Theorem', 'Machine', \"Mackey's Theorem\", 'Magic Geometric Constants', 'Manifold', 'Manifold Orientation', 'Manifold Tangent Vector', 'Manifolds', 'Map Degree', 'Mapping Space', \"Marcus's Theorem\", 'May-Thomason Uniqueness Theorem', \"Mazur's Theorem\", \"Mergelyan's Theorem\", 'Metric Space', 'Metric Topology', 'Metrizable Topology', \"Milnor's Theorem\", 'Minkowski Space', 'Minkowski Sum', 'Modularity Theorem', 'Moduli Space', 'Morse Function', 'Morse Inequalities', 'Morse Theory', 'Multiply Connected', 'Mutation', 'Mutually Singular', 'Möbius Shorts', 'Möbius Strip', 'Müntz Space', \"Nash's Embedding Theorem\", 'Neighborhood', 'Nerve', 'Net', 'Nice Vector Field', 'Nonhyperbolic Knots', 'Nonsatellite Knots', 'Nontorus Knots', 'Normal Bundle', 'Normal Space', 'Normed Space', 'Normed Vector Space', 'Obstruction', 'One-Point Compactification', 'Open', 'Open Ball', 'Open Cover', 'Open Disk', 'Open Interval', 'Open Manifold', 'Open Map', 'Open Neighborhood', 'Open Set', 'Order Topology', 'Ordinary Surface', 'Orientable Manifold', 'Orthogonal', 'Orthogonal Subspaces', 'Orthogonal Sum', 'Paracompact Space', 'Parallel Transport', 'Parallelizable', 'Partition of Unity', 'Path', 'Path Space', 'Path-Connected', 'Pathwise-Connected', 'Pentaspherical Space', 'Perforation', 'Phase Space', 'Planar Space', 'Plumbing', 'Poincaré Conjecture', 'Poincaré Dodecahedral Space', 'Poincaré Duality', 'Poincaré Manifold', 'Poincaré-Hopf Index Theorem', 'Point-Set Topology', 'Pointed Map', 'Pointed Space', 'Poisson Manifold', 'Polish Space', 'Polydisk', 'Pontryagin Class', 'Pontryagin Duality', 'Pontryagin Number', 'Postnikov System', 'Presheaf', 'Presheaf of Categories', 'Pretzel Transformation', 'Prime Knots', 'Prime Manifold', 'Principal Bundle', 'Prismatic Ring', 'Product Space', 'Product Topology', 'Productive Property', 'Projective Space', 'Pseudo-Convex Set', 'Pseudo-Euclidean Space', 'Pseudo-Riemannian Manifold', 'Pseudo-Riemannian Metric', 'Pseudo-Tangent Cone', 'Pseudoconcave Function', 'Pseudoconvex Function', 'Pseudocrosscap', 'Pseudometric Topology', 'Punctured Plane', 'Punctured Set', 'Quasi-Concave Function', 'Quasi-Convex Function', 'Quaternion Kähler Manifold', 'Quillen-Lichtenbaum Conjecture', 'Quotient Space', 'Quotient Vector Space', 'Ramification Index', 'Real Projective Plane', 'Real Vector Space', 'Reeb Component', 'Reeb Foliation', 'Reebless', 'Regge Calculus', 'Region', 'Regular Borel Measure', 'Regular Isotopy', 'Regular Space', 'Reidemeister Torsion', 'Reinhardt Domain', 'Relative Topology', 'Residual Set', 'Retract', 'Retraction', 'Riemann Sphere', 'Riemannian Geometry', 'Riemannian Manifold', 'Riemannian Metric', 'Row Space', 'Satellite Knots', 'Schwartz Space', 'Schönflies Theorem', 'Second Countable Space', 'Second Countable Topology', 'Seiberg-Witten Equations', 'Seifert Surface', 'Semilocally 1-Connected', 'Semilocally Simply Connected', 'Separable Space', 'Separation Axioms', 'Set Closure', 'Sheaf', 'Sigma-Algebra', 'Sigma-Compact Topological Space', 'Sigma-Discrete Family', 'Sigma-Locally Finite Family', 'Simplicial Complex', 'Simplicial Complex Link', 'Simplicial Homology', 'Simplicial Homomorphism', 'Simplicial Map', 'Simplicial Subcomplex', 'Simply Connected', 'Singular Homology', 'Skeleton', 'Smale Horseshoe Map', 'Smale Theorem', 'Smale-Hirsch Theorem', 'Smooth Manifold', 'Smooth Structure', 'Sobolev Space', 'Souslin Set', 'Space', 'Space Cone', 'Spaces', 'Species', 'Spectral Theorem', 'Sphere Eversion', 'Stable Equivalence', 'Stallings-Zeeman Theorem', 'Standard Space', 'Star Convex', 'State Space', 'Steenrod Algebra', \"Steenrod's Realization Problem\", 'Stiefel Manifold', 'Stiefel-Whitney Class', 'Stiefel-Whitney Number', \"Stokes' Theorem\", 'Stone Space', 'Stone-Weierstrass Theorem', 'Stratified Manifold', 'Strong Deformation Retract', 'Structurally Stable', 'Subanalytic', 'Subbasis', 'Submanifold', 'Submanifold Tangent Space', 'Submersion', 'Subspace', 'Surgery', 'Surjection', \"Suslin's Theorem\", 'Suspension', 'Sutured Manifold', 'Symplectic Manifold', 'Symplectic Space', 'T_0-Separation Axiom', 'T_0-Space', 'T_1-Separation Axiom', 'T_1-Space', 'T_2-Separation Axiom', 'T_2-Space', 'T_3-Separation Axiom', 'T_3-Space', 'T_4-Separation Axiom', 'T_4-Space', 'Tangent Bundle', 'Tangent Bundle Section', 'Tangent Map', 'Tangent Space', 'Taniyama-Shimura Conjecture', 'Taut Foliation', 'Teichmüller Space', 'Tensor Space', 'Thurston Elliptization Conjecture', \"Thurston's Geometrization Conjecture\", \"Tietze's Extension Theorem\", 'Topological Basis', 'Topological Closure', 'Topological Cube', 'Topological Entropy', 'Topological Group', 'Topological Invariants', 'Topological Manifold', 'Topological Operations', 'Topological Space', 'Topological Structures', 'Topological Vector Space', 'Topologically Conjugate', 'Topologically Transitive', \"Topologist's Sine Curve\", 'Topology', 'Torus Cannibal', 'Torus Knots', 'Total Space', 'Totally Disconnected Space', 'Transition Function', 'Transversal Intersection', 'Transversely Orientable Foliation', 'Triangle Space', 'Triple Torus', 'Trivial Bundle', 'Trivial Loop', 'Trivial Topology', 'Trivialization', 'Tubular Neighborhood', 'Twistor Space', 'Tychonoff Plank', 'Tychonoff Space', 'Tychonoff Theorem', 'Ultrametric', 'Underlying Space', 'Unicoherent Space', 'Uniform Convexity', 'Unit Interval', 'Universal Cover', 'Universal Space', \"Urysohn's Lemma\", \"Urysohn's Metrization Theorem\", 'Vector Bundle', 'Vector Bundle Connection', 'Vector Field', 'Vector Space', 'Vertex Scheme', 'Vertex Set', 'Whitehead Manifold', 'Whitehead Torsion', \"Whitehead's Theorem\", 'Whitney Sum', 'Whitney-Graustein Theorem', 'Wild Point', \"Witten's Equations\", 'Zariski Topology', 'Zero Map', 'Zero Section', 'Zero Set', 'Zip', 'Zip-Pair', 'de Rham Cohomology', 'h-Cobordism', 'h-Cobordism Theorem', 'n-Space', \"van Kampen's Theorem\", 'Čech Cohomology']\n",
            "Recreational Mathematics:\n",
            "['10', '10 Pins', '13th Root', '15 Puzzle', '196-Algorithm', '666', 'ASS Theorem', 'Abelian Group', 'Abelian Semigroup', 'Aleph-0', 'Aliquot Sequence', 'Almost Integer', 'Almost Zero', 'Alphametic', 'Ambiguous Rectangle', 'Ambihelical Hexnut', 'Amicable Pair', 'Angle Illusions', 'Apocalypse Number', 'Apocalyptic Number', \"Apéry's Constant\", \"Apéry's Constant Approximations\", \"Apéry's Constant Continued Fraction\", \"Apéry's Constant Digits\", \"Archimedes' Box\", 'At Least One', 'Baguenaudier', 'Banach Space', 'Banach-Tarski Paradox', 'Baseball', 'Beast Number', 'Belphegor Number', 'Belphegor Prime', \"Benham's Wheel\", 'Bernoulli Number', \"Bertrand's Postulate\", 'Bitwin Chain', \"Blanche's Dissection\", 'Blivet', 'Board Games', 'Book Stacking Problem', \"Borsuk's Conjecture\", 'Bowling', 'Braced Polygon', 'Braced Square', \"Brocard's Problem\", \"Brun's Constant\", 'Bullseye Illusion', 'Busy Beaver', \"Caesar's Method\", 'Café Wall Illusion', 'Card Games', 'Card Stacking Problem', 'Carmichael Number', \"Catalan's Constant Approximations\", \"Catalan's Constant Continued Fraction\", \"Catalan's Constant Digits\", 'Champernowne Constant Continued Fraction', 'Champernowne Constant Digits', 'Cigarettes', 'Cipher', 'Ciphertext', 'Circle Packing', 'Collatz Problem', 'Computational Number Theory', 'Consecutive Number Sequences', 'Constant', 'Constant Digit Scanning', 'Constant Primes', 'Continuous Line Illusion', 'Contour Integral', 'Conway Puzzle', 'Copeland-Erdős Constant Continued Fraction', 'Copeland-Erdős Constant Digits', 'Cousin Primes', 'Cross Product', 'Cryptarithmetic', 'Cryptograms', 'Cube', 'Cube Dissection', 'Cube Dovetailing Problem', 'Cubic Nonplanar Graph', 'Cubic Number', 'Cunningham Chain', 'Cunningham Number', 'Curry Triangle', 'Curve of Constant Width', 'Cyclic Group C_2', 'Cylinder', 'Cylinder Dissection', 'Dedekind Number', 'Definite Integral', 'Dehn Invariant', 'Delboeuf Illusion', 'Derivative', 'Diabolical Cube', 'Dice Games', 'Digimetic', 'Dihedral Group', 'Dissection', 'Dissection Fallacy', 'Dissection Puzzles', 'Double Factorial Prime', 'Double Mersenne Number', 'Earls Sequence', 'Ehrenstein Illusion', 'Eigenfunction', 'Elliptic Curve Factorization Method', 'Elliptic Curve Primality Proving', 'Epsilon', 'Equidecomposable', \"Escher's Cube\", 'Eternity', 'Euclid Number', 'Euler Number Prime', 'Euler Prime', 'Euler-Mascheroni Constant Approximations', 'Euler-Mascheroni Constant Continued Fraction', 'Euler-Mascheroni Constant Digits', 'Evil Number', 'Factorial Prime', 'Fault-Free Rectangle', 'Feigenbaum Constant Approximations', 'Fermat Number', 'Fermat Prime', \"Ferrier's Prime\", 'Fibonacci Number', 'Fibonacci Prime', 'Finite Group', 'Finitely Presented Group', 'Flexagons', 'Fluxion', 'Folding', 'FoxTrot Series', 'Fraction', \"Fraser's Spiral\", 'Freemish Crate', 'Game Theory', 'Games', 'Gaussian Prime', 'General Folding', 'General Games', 'Generalized Fermat Number', 'Geometry', 'Gigantic Prime', \"Gilbreath's Conjecture\", 'Glaisher-Kinkelin Constant Digits', 'Goat Problem', 'Goblet Illusion', \"God's Number\", 'Goldbach Conjecture', 'Golden Ratio Approximations', 'Golden Ratio Digits', 'Golomb Ruler', 'Golomb-Dickman Constant Continued Fraction', 'Golomb-Dickman Constant Digits', \"Haberdasher's Problem\", \"Haberdasher's Puzzle\", 'Hadamard Matrix', 'Hadwiger Problem', 'Harmonic Number', 'Heesch Number', 'Heilbronn Triangle Problem', 'Hering Illusion', 'Hermann Grid Illusion', 'Hermann-Hering Illusion', 'High-Water Mark', 'Hilbert Space', \"Hochberg-O'Donnell Fish Graph\", 'Home Plate', 'Home Prime', \"Hoyle's Social Network Theorem\", 'Illusion', 'Illusions', 'Illusory Contour Figures', 'Impossible Box', 'Impossible Figure', 'Impossible Fork', 'Impossible Joinery', 'Impossible Torus', 'Impossible Triangle', 'Impossible Tribar', 'Integer Sequence Primes', 'Integer Triangle', 'Irradiation Illusion', 'Irrationality Measure', 'Irregular Prime', 'Jastrow Illusion', \"Jenny's Constant\", 'Juggler Sequence', 'Kanizsa Triangle', 'Keith Number', \"Khinchin's Constant\", \"Khinchin's Constant Approximations\", \"Khinchin's Constant Continued Fraction\", \"Khinchin's Constant Digits\", 'Kissing Number', 'Klein Bottle Dissection', 'Kobon Triangle', 'Large Prime', 'Latin Square', \"Legion's Numbers\", \"Lehmer's Mahler Measure Problem\", 'Lemma', 'Leviathan Number', 'Limit', 'Loculus', 'Loculus of Archimedes', 'Lost in a Forest Problem', 'Lucas Correspondence', 'Lucas Number', 'Lucas Prime', 'Magic Circles', 'Magic Cubes', 'Magic Figures', 'Magic Graphs', 'Magic Number', 'Magic Series', 'Magic Squares', 'Magic Tesseracts', 'Mathematical Art', 'Mathematical Book Covers', 'Mathematical Humor', 'Mathematical Images', 'Mathematical Journal Covers', 'Mathematical Records', 'Mathematical Sculpture', 'Mathematics in Architecture', 'Mathematics in Art', 'Mathematics in Films', 'Mathematics in Literature', 'Mathematics in Music', 'Mathematics in Radio', 'Mathematics in Television', 'Mathematics in Theater', 'Mathematics in the Arts', 'Mathematics in the Media', 'Mean', 'Mersenne Number', 'Mersenne Prime', 'Mertens Conjecture', 'Milliard', 'Miscellaneous Magic Figures', 'Moat-Crossing Problem', \"Morellet's Tirets Illusion\", \"Mrs. Perkins's Quilt\", 'Multiperfect Number', 'Möbius Strip Dissection', 'Müller-Lyer Illusion', 'Münsterberg Illusion', 'NSW Number', 'Nanpure', 'Natural Logarithm of 10 Continued Fraction', 'Natural Logarithm of 10 Digits', 'Natural Logarithm of 2 Continued Fraction', 'Natural Logarithm of 2 Digits', 'Near-Square Prime', 'Necker Cube', 'Nested Logarithm', 'No-Touch Dissection', 'Non-Abelian Group', 'Nowhere-Neat Dissection', 'Number Field Sieve', 'Number Guessing', 'Number Place', 'Number of the Beast', 'Number of the Devil', 'Numerology', 'Odd Perfect Number', 'Optical Illusion', \"Orbison's Illusion\", 'Origami', 'Ostomachion', 'Ouchi Illusion', 'Out-Shuffle', 'Palindromic Prime', 'Paper Sculpture', 'Parallelogram Illusion', 'Partition Function P', 'Pell Number', 'Penrose Rectangle', 'Penrose Square', 'Penrose Stairway', 'Penrose Triangle', 'Penrose Tribar', 'Perfect Number', 'Perfect Square', 'Perfect Square Dissection', 'Perrin Sequence', 'Phi-Prime', 'Pi', 'Pi Approximations', 'Pi Continued Fraction', 'Pi Digits', 'Pi Wordplay', 'Pi-Prime', 'Pizza Theorem', 'Poggendorff Illusion', 'Point', 'Poiuyt', 'Pole', 'Polyhedron Dissection', 'Polyhedron Nets', \"Ponzo's Illusion\", 'Prime Arithmetic Progression', 'Prime Array', 'Prime Counting Function', 'Prime Factorization Algorithms', 'Prime Gaps', 'Prime Number', 'Prime Triplet', 'Prime-Generating Polynomial', \"Printer's Errors\", 'Probable Prime', 'Projective Plane Dissection', 'Proof', 'Puzzle', 'Puzzles', \"Pythagoras's Constant Digits\", 'Pythagorean Square Puzzle', 'RSA Number', 'Rabbit-Duck Illusion', 'Railroad Track Problem', 'Ray-Traced Images', 'Real Line', 'Record Setting', 'Rectilinear Crossing Number', 'Rep-Tile', 'Repunit Prime', \"Reve's Puzzle\", 'Ring', 'Rotating Square Illusion', \"Rubik's Clock\", \"Rubik's Cube\", 'Ruth-Aaron Pair', 'Sabermetrics', \"Schouten's Staircase\", 'Schroeder Stairs', 'Scintillating Grid Illusion', 'Self-Recursion', 'Semiprime', 'Sexy Primes', 'Sign of the Devil', 'Simple Group', 'Skeleton Division', 'Slothouber-Graatsma Puzzle', 'Smarandache Sequences', 'Smarandache-Wellin Prime', 'Smith Number', \"Soldner's Constant Continued Fraction\", \"Soldner's Constant Digits\", 'Soma Cube', 'Sophie Germain Prime', \"Sperner's Lemma\", 'Spider and Fly Problem', 'Sports', 'Square Dissection', 'Square Illusions', 'Square Number', 'Square Packing', 'Square-in-a-Circle Illusion', 'St. Ives Problem', 'Statistics', 'Stomachion', 'Strange Loop', 'Strassen Formulas', 'String Figures', 'Strong Pseudoprime', 'Sudoku', 'Sufficiently Large', \"Sultan's Dowry Problem\", 'Syntemachion', 'T-Puzzle', 'Tangram', 'Tangram Paradox', 'Tau Function Prime', 'Ten Pins', 'Tent Problem', 'Ternary', \"Theodorus's Constant Digits\", 'Theorem', 'Three-Arc Illusion', 'Thâbit ibn Kurrah Prime', 'Titanic Prime', 'Titchener Illusion', 'Topology', 'Torus Dissection', 'Tower of Hanoi', 'Towers of Hanoi', 'Tri-Bar', 'Triangle Dissection', 'Triangle Dissection Paradox', 'Triangle Packing', 'Tribar', 'Tribox', 'Triskaidekaphobia', \"Tupper's Self-Referential Formula\", 'Twin Primes', 'Two Trains Puzzle', 'Union-Closed Sets Conjecture', 'Unitary Amicable Pair', 'Vertical-Horizontal Illusion', 'Wagstaff Prime', 'Wall-Sun-Sun Prime', 'Wallace-Bolyai-Gerwien Theorem', 'Weird Number', 'White House Switchboard Constant', 'Wieferich Prime', 'Wilson Prime', 'Wolstenholme Prime', 'Woodall Prime', 'Wundt Area Illusion', 'Wundt Illusion', \"Wyler's Constant\", 'Young Girl-Old Woman Illusion', \"Zeno's Paradoxes\", 'Zome', \"Zorn's Lemma\", \"Zöllner's Illusion\", 'e', 'e Approximations', 'e Continued Fraction', 'e Digits', 'e-Prime', 'i']\n",
            "Foundations of Mathematics:\n",
            "['0-Connected', '1-Connected', 'A New Kind of Science', 'AND', 'Abelian Category', 'Absorption Identities', 'Absorption Identity', 'Absorption Law', 'Ackermann Function', 'Additive Category', 'Additive Cellular Automaton', 'Additive Functor', 'Affine Hull', 'Algebra of Random Variables', 'Algebraic Geometry Stack', 'Allegory', 'Almost Everywhere Convergence', 'Apollonian Gasket', 'Arc Component', 'Arcwise-Connected', 'Associative Algebra', 'Axiom', 'Axiom Schema', 'Axiom of Choice', 'Axiom of Extensionality', 'Axiom of Foundation', 'Axiom of Infinity', 'Axiom of Replacement', 'Axiom of Subsets', 'Axiom of the Empty Set', 'Axiom of the Power Set', 'Axiom of the Sum Set', 'Axiom of the Unordered Pair', 'Axiomatic Set Theory', 'Axiomatic System', 'Axioms', 'Axioms of Subsets', 'Basepoint', 'Basis Element', 'Bicollared', 'Binary', 'Boolean Function', 'Bootstrap Percolation', 'Borel Hierarchy', 'Borel Measure', 'Borel Set', 'Borel Sigma-Algebra', 'Borel Space', 'Boundary', 'Boundary Map', 'Boundary Point', 'Boundary Set', 'Bounded', 'Bounded Set', 'Bounded from Above', 'Bounded from Below', 'Busy Beaver', \"Cantor's Discontinuum\", \"Carathéodory's Fundamental Theorem\", 'Cardinal Numbers', 'Categorical Axiomatic System', 'Categorical Variable', 'Category', 'Category Product', 'Category Theory', 'Causal Graph', 'Causal Invariance', 'Causal Network', 'Cayley Graph', 'Cellular Automaton', 'Champernowne Constant', 'Church-Rosser Property', 'Church-Turing Thesis', 'Circle Packing', 'Clopen', 'Closed', 'Closed Ball', 'Closed Disk', 'Closed Map', 'Closed Set', 'Closed-Form Solution', 'Closure', 'Code', 'Code 177', 'Code 2040', 'Code 912', 'Coequalizer', 'Collatz Problem', 'Combinator', 'Commutative Diagram', 'Commutative Monoid', 'Compact Closure', 'Compact Set', 'Compact Subset', 'Compact Support', 'Compactification', 'Compactum', 'Complete Metric Space', 'Complete Space', 'Completely Regular Space', 'Completion', 'Complex Number', 'Complexity', 'Computable Number', 'Computational Irreducibility', 'Computational Paradigm', 'Computational Reducibility', 'Concave', 'Cone Set', 'Confluent', 'Congruence Axioms', 'Connected Component', 'Connected Set', 'Connected Space', 'Connected im Kleinen', 'Consecutive Number Sequences', 'Contingent Cone', 'Continuity Axioms', 'Continuous Function', 'Continuous Map', 'Continuous Space', 'Contractibility', 'Contractible', 'Contravariant Functor', 'Convex', 'Convex Cone', 'Convex Function', 'Convex Set', 'Convexity Coefficient', 'Conway Sequence', \"Conway's Constant\", 'Coproduct', 'Cosmological Theorem', 'Covariant Functor', 'Covering Map', 'Covering Space', 'Critical Pair', 'Cubic Symmetric Graph', 'Cyclic Tag System', 'Cyclotomic Polynomial', 'Decidability', 'Decision Problem', 'Dense', 'Derived Set', 'Digit Count', 'Dimension Axiom', 'Direct Factor', 'Direct Product', 'Disconnected Set', 'Disconnected Space', 'Discrete Family', 'Discrete Set', 'Discrete Topology', 'Disk', 'Domain', 'Domain Invariance Theorem', 'Eilenberg-Steenrod Axioms', 'Elementary Cellular Automaton', 'Encoding', 'Endomorphism', 'Endpoint', 'Epimorphism', 'Equalizer', 'Equational Logic', 'Equidistance Postulate', 'Equivalence Classes', \"Euclid's Postulates\", 'Exact Functor', 'Excision Axiom', 'Experimental Mathematics', 'Extremals', 'F_sigma Set', 'Faithful Functor', 'Fast Walsh Transform', 'Feigenbaum Constant', 'Fiber', 'Fibered Category', 'Fibered Category Morphism', 'Field Axioms', 'Firing Squad Problem', 'First Category', 'Flawed Proofs', 'Flower of Life', 'Foliation', 'Foliation Leaf', 'Forgetful Functor', 'Formal Language', 'Free Product', \"Freyd's Theorem\", 'Functor', 'Fuzzy Logic', 'G_delta Set', 'General Logic', 'General Set Theory', 'Generalized Diameter', 'Generalized Mobile Automaton', 'Generalized Reeb Component', 'Genetic Algorithm', 'Gerbe', 'Gödel Number', \"Gödel's First Incompleteness Theorem\", 'Hadamard Matrix', 'Half-Closed Interval', 'Half-Space', 'Hausdorff Axioms', 'Heine-Borel Theorem', \"Helly's Theorem\", 'Hereditary Property', 'Heredity', \"Hilbert's Axioms\", \"Hofstadter's Q-Sequence\", 'Hofstadter-Conway $10,000 Sequence', 'Holonomy', 'Hom-Set', 'Homeomorphic', 'Homeomorphism Group', 'Homomorphic', 'Homomorphism', 'Homotopy Axiom', 'Hopf-Rinow Theorem', \"Hurwitz's Root Theorem\", 'Incidence Axioms', 'Induction Axiom', 'Initial Object', 'Injection', 'Integer Complexity', 'Interior', 'Interval', 'Isomorphism', 'Iterated Map', \"Kelvin's Conjecture\", 'Klein Quartic', 'Kleinian Group', 'Knuth-Bendix Completion Algorithm', \"Kolmogorov's Axioms\", 'Lag System', 'Landau Constant', \"Langton's Ant\", 'Lattice Theory', 'Least Significant Bit', 'Lebesgue Covering Dimension', 'Locally Compact', 'Locally Connected', 'Locally Finite Family', 'Locally Pathwise-Connected', 'Logic', 'Logical Operations', 'Logistic Equation', 'Logistic Map', 'Logistic Map--r=2', 'Logistic Map--r=4', 'Long Exact Sequence', 'Long Exact Sequence of a Pair Axiom', 'Look and Say Sequence', 'Lyusternik-Schnirelmann Theorem', \"Mackey's Theorem\", 'Magic Geometric Constants', 'Mathematical Paradigm', 'Mathematical Problems', 'Mathematics', 'Maze', \"Mergelyan's Theorem\", 'Method of Steepest Descent', 'Metric Space', 'Metric Topology', 'Metrizable Topology', 'Mobile Automaton', 'Model Theory', 'Monodromy', 'Monomorphism', 'Morphism', 'Multicomputation', 'Multicomputational Paradigm', 'Multicomputational Process', 'Multicomputational System', 'Multiply Connected', 'Multiway Graph', 'Multiway System', 'Munching Squares', 'Mutually Singular', 'Natural Isomorphism', 'Natural Transformation', 'Neighborhood', 'Nested Radical Constant', 'Net', 'New Kind of Science', \"Newton's Iteration\", 'Nice Vector Field', 'Nondeterministic Turing Machine', 'Nonstandard Analysis', 'OR', 'Object', 'One-Point Compactification', 'Open', 'Open Ball', 'Open Cover', 'Open Disk', 'Open Interval', 'Open Map', 'Open Neighborhood', 'Open Set', 'Order Topology', 'Ordering Axioms', 'Ordinal Numbers', 'Orthomorphism', 'Outer-Totalistic Cellular Automaton', 'Paradoxes', 'Parallel Postulate', 'Partial Orders', \"Pascal's Triangle\", \"Paterson's Worms\", 'Path-Connected', 'Pathwise-Connected', 'Peano Arithmetic', \"Peano's Axioms\", \"Playfair's Axiom\", 'Point-Set Topology', 'Polydisk', 'Polyomino Tiling', 'Postulate', 'Power Ceilings', 'Power Fractional Parts', 'Presburger Arithmetic', 'Presheaf of Categories', 'Primitive Recursive Function', 'Principle of Computational Equivalence', 'Principle of Permanence', 'Prize Problems', 'Prizes', 'Probability Axioms', 'Problem Collections', \"Proclus' Axiom\", 'Proof', 'Proofs', 'Propositional Calculus', 'Proved Conjectures', 'Pseudo-Convex Set', 'Pseudo-Tangent Cone', 'Pseudoconcave Function', 'Pseudoconvex Function', 'Pullback Map', 'Punctured Plane', 'Punctured Set', 'Quasi-Concave Function', 'Quasi-Convex Function', 'Quasi-Monte Carlo Integration', 'R-Category', 'Ramification Index', 'Recurrence Equation', 'Recursive Function', 'Recursive Sequence', 'Recursively Enumerable Set', 'Reduction Order', 'Reeb Component', 'Reebless', 'Refuted Conjectures', 'Region', 'Register Machine', 'Regular Borel Measure', 'Reinhardt Domain', 'Relations', 'Relative Topology', 'Residual Set', 'Reverse-Then-Add Sequence', \"Rice's Theorem\", 'Rule', 'Rule 102', 'Rule 110', 'Rule 126', 'Rule 150', 'Rule 158', 'Rule 182', 'Rule 188', 'Rule 190', 'Rule 220', 'Rule 222', 'Rule 250', 'Rule 28', 'Rule 30', 'Rule 50', 'Rule 54', 'Rule 60', 'Rule 62', 'Rule 90', 'Rule 94', 'Schur Functor', 'Second Countable Topology', 'Seed of Life', 'Self-Counting Sequence', 'Semilocally 1-Connected', 'Semilocally Simply Connected', 'Separable Morphism', 'Separation Axioms', 'Sequential Substitution System', 'Set Closure', 'Set Operations', 'Set Properties', 'Set Theory', 'Sets', 'Sierpiński Sieve', 'Sieve of Eratosthenes', 'Sigma-Compact Topological Space', 'Simply Connected', 'Smarandache Number', 'Solved Problems', 'Species', 'Square Root Algorithms', 'Stack of Groupoids', 'Star Convex', 'Stochastic', 'Strict Tensor Category', 'Subanalytic', 'Subbasis', 'Subcategory', 'Substitution System', 'Surjection', 'Sutured Manifold', 'T_2-Separation Axiom', 'T_2-Space', 'Tag System', 'Tangent Circles', 'Taut Foliation', 'Tensor Category', 'Tensor R-Category', 'Terminal Object', 'Ternary', 'Theorem Proving', 'Thue-Morse Sequence', \"Tietze's Extension Theorem\", 'Topological Basis', 'Topological Closure', 'Topologically Transitive', \"Topologist's Sine Curve\", 'Topos', 'Totalistic Cellular Automaton', 'Transversely Orientable Foliation', 'Trivial Loop', 'Trivial Topology', 'Truchet Tiling', 'Turing Machine', 'Turmite', 'Ulam Sequence', 'Ultrametric', 'Unicoherent Space', 'Uniform Convexity', 'Unit Interval', 'Unital Natural Transformation', 'Unital R-Module', 'Universal Algebra', 'Universal Turing Machine', 'Universality', 'Unsolved Problems', 'Walsh Function', 'Walsh Transform', 'WireWorld', 'Wolfram Axiom', 'Wolfram Sequences', \"Wolfram's Iteration\", 'XOR', 'Zariski Topology', 'Zermelo-Fraenkel Axioms', 'Zero Map', 'Zero Set', \"de Morgan's Laws\"]\n"
          ]
        }
      ]
    },
    {
      "cell_type": "code",
      "source": [
        "# Merge Topics and Subtopics to one dictionary - continued\n",
        "alg_2 = read_pickle(\"alg_2.pkl\")\n",
        "alg_3 = read_pickle(\"alg_3.pkl\")\n",
        "\n",
        "# merge alg_2 and alg_3 into 1 dictionary\n",
        "alg_dict = dict()\n",
        "\n",
        "for key, value in alg_2.items():\n",
        "  alg_dict[key] = value\n",
        "\n",
        "for key, value in alg_3.items():\n",
        "  alg_dict[key] = value\n",
        "\n",
        "print(f\"alg_dict dictionary length: {len(alg_dict)}\")\n",
        "random_sample = random.sample(list(alg_dict.items()), 3)\n",
        "\n",
        "for key, value in random_sample:\n",
        "  print(f\"{key}:\\n{value}\")"
      ],
      "metadata": {
        "colab": {
          "base_uri": "https://localhost:8080/"
        },
        "id": "qZGC6rcXLL6c",
        "outputId": "888659d3-942c-4779-e0a4-402fdccda041"
      },
      "execution_count": 13,
      "outputs": [
        {
          "output_type": "stream",
          "name": "stdout",
          "text": [
            "alg_dict dictionary length: 18\n",
            "Matrix Groups:\n",
            "['General Linear Group', 'Heisenberg Group', 'Lie-Type Group', 'Linear Algebraic Group', \"Maschke's Theorem\", 'Matrix Group', 'Orthogonal Group', 'Rotation Group', 'Special Linear Group', 'Special Orthogonal Group', 'Special Unitary Group', 'Symplectic Group']\n",
            "Determinants:\n",
            "['Casoratian', \"Cauchy's Determinant Theorem\", 'Cayley-Menger Determinant', 'Chió Pivotal Condensation', 'Circulant Determinant', 'Cofactor', 'Condensation', 'Determinant', 'Determinant Expansion by Minors', 'Determinant Identities', 'Determinant Theorem', 'Gram Determinant', \"Gram's Inequality\", \"Hadamard's Maximum Determinant Problem\", \"Hadamard's Theorem\", 'Hafner-Sarnak-McCurley Constant', 'Hessian', 'Hill Determinant', 'Hyperdeterminant', 'Inversion Number', \"Jacobi's Determinant Identity\", \"Jacobi's Theorem\", 'Jacobian', 'Mills-Robbins-Rumsey Determinant Formula', 'Minor', 'PfaffianPivotal Condensation', \"Schweins's Theorem\", 'Stäckel Determinant', \"Sylvester's Determinant Identity\", 'Vandermonde Determinant']\n",
            "Linear Systems of Equations:\n",
            "['Basis Vector', 'Change of Basis', 'Change of Coordinates Matrix', \"Cramer's Rule\", 'Gauss-Seidel Method', 'Jacobi Method', 'Linear Equation', 'Linear System of Equations', 'Linear Transformation', 'Standard Basis', 'Stationary Iterative Method', 'Successive Overrelaxation Method', 'Symmetric Successive Overrelaxation Method', 'Vector Basis']\n"
          ]
        }
      ]
    },
    {
      "cell_type": "code",
      "source": [
        "# Merged to all_topics dict\n",
        "all_topics = dict()\n",
        "for key, value in alg_dict.items():\n",
        "  all_topics[key] = value\n",
        "\n",
        "for key, value in topics.items():\n",
        "  all_topics[key] = value\n",
        "\n",
        "all_topics['Linear Algebra'] = all_topics['General Linear Algebra']\n",
        "del all_topics['General Linear Algebra']\n",
        "\n",
        "print(f\"all_topics dictionary length: {len(all_topics)}\")\n",
        "random_sample = random.sample(list(all_topics.items()), 3)\n",
        "\n",
        "for key, value in random_sample:\n",
        "  print(f\"{key}:\\n{value}\")"
      ],
      "metadata": {
        "colab": {
          "base_uri": "https://localhost:8080/"
        },
        "id": "ZSmGPgnCBxI0",
        "outputId": "1ce44088-5acc-4c43-c668-b2e1116972e5"
      },
      "execution_count": 14,
      "outputs": [
        {
          "output_type": "stream",
          "name": "stdout",
          "text": [
            "all_topics dictionary length: 28\n",
            "Linear Algebra:\n",
            "['Alternating Multilinear Form', 'Bilinear Basis', 'Complex Vector Space', \"Fredholm's Theorem\", 'Fundamental Matrix Subspaces', 'Fundamental Theorem of Linear Algebra', 'Haar Condition', 'Hermitian Inner Product', 'Invertible Linear Map', 'Kernel', 'Linear Algebra', 'Linear Combination', 'Linear Function', 'Linear Transformation Kernel', 'Linearly Independent', 'Lorentzian Inner Product', 'Null Space', 'Nullity', 'Nullspace', 'Orthogonal Complement', 'Orthogonal Set', 'Orthogonal Sum', 'Orthogonal Transformation', 'Orthogonality Condition', 'Orthonormal Basis', 'Orthonormal Set', 'Piecewise Linear Function', 'Quotient Vector Space', 'Rank-Nullity Theorem', 'Real Vector Space', 'Reduced Whitehead Group', 'Vector Space Flag', 'Vector Space Orientation', 'Vector Space Projection', 'Whitehead Group']\n",
            "Linear Systems of Equations:\n",
            "['Basis Vector', 'Change of Basis', 'Change of Coordinates Matrix', \"Cramer's Rule\", 'Gauss-Seidel Method', 'Jacobi Method', 'Linear Equation', 'Linear System of Equations', 'Linear Transformation', 'Standard Basis', 'Stationary Iterative Method', 'Successive Overrelaxation Method', 'Symmetric Successive Overrelaxation Method', 'Vector Basis']\n",
            "Applied Mathematics:\n",
            "['2x mod 1 Map', 'Accounting', 'Accumulation Point', 'Action', 'Actuarial Mathematics', 'Adiabatic Invariant', 'All-to-All Communication', 'Allometric', 'Ambrose-Kakutani Theorem', 'Angel Problem', 'Annealing', 'Anonymous', 'Anosov Automorphism', 'Anosov Diffeomorphism', 'Anosov Flow', 'Anosov Map', 'Ant Colony Algorithm', 'Anti-Aliasing', 'Antialiasing', 'Approximation Theory', \"Arnold's Cat Map\", \"Arrow's Impossibility Theorem\", \"Arrow's Paradox\", 'Asymptotic Equipartition Property', 'Auction', 'Average Power', 'Axiom A Flow', \"Baker's Map\", 'Banzhaf Power Index', 'Bar Chart', 'Bifurcation', 'Bifurcation Theory', 'Biggest Little Hexagon', 'Biggest Little Polygon', 'Binary Plot', 'Biotic Potential', \"Birkhoff's Ergodic Theorem\", \"Birkhoff's Inequality\", 'Borel Determinacy Theorem', 'Branch and Bound Algorithm', 'Broadcasting', 'Building Problem', 'Business', 'Byzantine Generals Problem', 'Cake Cutting', 'Carrying Capacity', 'Cascade', 'Catastrophe Theory', 'Categorical Game', 'Cellular Automata', 'Chaos', 'Circle Map', 'Circulant Matrix', 'Cobweb Plot', 'Codimension', 'Cofinite Filter', 'Combinatorial Game Theory', 'Complex Systems', 'Concept', 'Condorcet Candidate', \"Condorcet's Jury Theorem\", 'Contour Line', 'Contour Plot', 'Control Theory', 'Convex Optimization Theory', 'Conway Game', \"Conway's Game of Life\", 'Criss-Cross Method', 'Crossing the Desert Problem', 'Cusp Map', 'Data Cube', 'Data Visualization', 'Decision Theory', 'Desert Problem', 'Differential Entropy', 'Differential Equation Solving', 'Differential Evolution', 'Dissipative System', 'Domineering', 'Draw', 'Dual Voting', 'Duality Theorem', 'Duel', \"Dye's Theorem\", 'Dynamical System', 'Dynamical Systems', 'Early Election Results', 'Economics', 'Electrical Engineering', 'Ellipsoidal Calculus', 'Endomorphism', 'Engineering', 'Entropy', 'Envyfree', 'Equilibrium Point', 'Equipotential Curve', 'Ergodic Measure', 'Ergodic Theory', 'Evolution Strategies', 'Fair Game', 'Fast Walsh Transform', 'Fibonacci Chain Map', 'Filter', 'Finance', 'Finite Differences', 'Finite Element Methods', 'Finite Game', 'Flip Bifurcation', 'Flow', 'Fold Bifurcation', 'Fractals', 'Fractional Fourier Transform', 'Frobenius-Perron Equation', 'Function Graph', 'Futile Game', 'Game', 'Game Expectation', 'Game Place', 'Game Saddle Point', 'Game Theory', 'Game Value', 'General Possibility Theorem', 'Generation', 'Genetic Algorithm', 'Geodesic Flow', 'Global Optimization', 'Gompertz Curve', 'Gossip Problem', 'Gossiping', \"Graham's Biggest Little Hexagon\", 'Graphical Equation Solving', 'Griewank Function', 'Growth', 'Hackenbush', \"Hamilton's Equations\", 'Hamiltonian Map', 'Hamiltonian System', 'Homoclinic Point', 'Homoclinic Tangle', 'Hopf Bifurcation', 'Hough Transform', \"Hoyle's Social Network Theorem\", 'Hypergame', 'Hénon Attractor', 'Hénon Map', 'Hénon-Heiles Equation', 'Impartial Game', 'Information Theory', 'Inside-Outside Plot', 'Integer Programming', 'Integral Current', 'Integral of Motion', 'Interior Point Method', 'Invariant Manifold', 'Inverse Problem', 'Inverse Problems', 'Island', 'Isoenergetic Nondegeneracy', 'Isolating Integral', 'Jeep Problem', 'Jordan Canonical Form', 'K-Means Clustering Algorithm', 'KMS Condition', 'Kalman Filter', 'Kaplan-Yorke Map', 'Kermack-McKendrick Model', 'Kolmogorov Entropy', 'Kramers Rate', 'Kronecker-Weyl Theorem', 'Kubo-Martin-Schwinger Condition', 'Kuhn-Tucker Theorem', 'Lagrange Multiplier', 'Lagrangian Multiplier', 'Largest Small Hexagon', 'Largest Small Octagon', 'Law of Growth', 'Leakage', 'Level Curve', 'Level Set', 'Level Surface', 'Level-k Thinking', 'Levenberg-Marquardt Method', 'Life Expectancy', 'Limit Cycle', 'Linear Optimization', 'Linear Programming', 'Linear Stability', 'Linear Systems', \"Liouville's Phase Space Theorem\", \"Little's Law\", 'Logistic Equation', 'Logistic Growth', 'Logistic Growth Curve', 'Logistic Map', 'Logistic Map--r=-2', 'Logistic Map--r=2', 'Logistic Map--r=4', 'Longest Path', 'Lorenz Attractor', 'Lotka-Volterra Equations', 'Lozi Map', 'Lyapunov Characteristic Exponent', 'Lyapunov Characteristic Number', 'Lyapunov Dimension', 'Lévy Flight', 'Lévy Process', 'Lévy Walk', 'Makeham Curve', 'Malthusian Parameter', 'Mann Iteration', 'Map Sink', \"May's Theorem\", 'Mechanical Devices', 'Merit Factor Problem', 'Method of Steepest Descent', 'Minimax Theorem', 'Mixed Strategy', 'Moiré Pattern', 'Monotonic Voting', 'Monty Hall Dilemma', 'Monty Hall Problem', 'Mutual Information', 'Nash Equilibrium', \"Nash's Theorem\", 'Natural Invariant', 'Nelder-Mead Method', 'Nim-Value', 'Noise', 'Nonwandering', 'Normal-Form Game', 'Number Partitioning Problem', 'Numerical Integration', 'Numerical Methods', 'Numerical Summation', 'Nyquist Frequency', 'Nyquist Limit', 'Nyquist Sampling', 'Operations Research', 'Optimization', 'Optimization Theory', 'Ordinate', \"Ornstein's Theorem\", 'Oseledec Theorem', 'Oversampling', \"Parrondo's Paradox\", 'Partisan Game', 'Partizan Game', 'Payoff Matrix', 'Perfect Information', 'Pesin Theory', 'Phase Curve', 'Phase Flow', 'Phase Plane', 'Phase Portrait', 'Phase Space', 'Phase Transition', 'Pie Chart', 'Pitchfork Bifurcation', 'Poincaré Map', 'Poincaré Section', 'Pointwise Dimension', 'Poisson Process', 'Pontryagin Maximum Principle', 'Population Dynamics', 'Population Growth', \"Prisoner's Dilemma\", 'Pólya Plot', 'Quadratic Phase Array', 'Quantization Efficiency', 'Quantum Stochastic Calculus', 'Quasiperiodic Motion', 'Quota System', 'Recurrence Plot', 'Relative Entropy', 'Remes Algorithm', 'Remez Algorithm', 'Remez Exchange Algorithm', 'Riccati Differential Equation', 'Robbins-Monro Stochastic Approximation', 'Root-Finding', 'Rosenbrock Function', \"Rosenbrock's Banana Function\", \"Rosenbrock's Valley\", 'Rotation Number', 'Rényi Entropy', 'Rényi Information', 'Rössler Attractor', 'SIR Model', 'Safe', 'Sampling', 'Sampling Theorem', 'Saunders Graphic', 'Savitzky-Golay Filter', 'Scatter Diagram', 'Scatter Plot', 'Scatterplot', 'Schur Decomposition', 'Seed', 'Semidefinite Programming', 'Semiflow', 'Separatrix', 'Set Covering Deployment', 'Set-Covering Deployment', 'Shannon Capacity', 'Sharing Problem', 'Shattered Set', 'Signal Processing', 'Similarity Transformation', 'Simplex Method', 'Simplex Plot', 'Simulated Annealing', 'Slope Field', 'Smale Horseshoe Map', 'Social Choice Theory', 'Sparkline', 'Spectral Leakage', 'Stability', 'Stochastic', 'Stochastic Function', 'Stochastic Optimization', 'Stochastic Resonance', \"Strang's Strange Figures\", 'Strategy', 'Surface of Section', 'Surreal Number', 'Survivorship Curve', 'Swallowtail Catastrophe', 'Synergetics', 'Tabu Search', 'Tent Map', 'Tent Problem', 'Ternary Diagram', 'Ternary Graph', 'Ternary Plot', 'Tetraview', 'Tit-for-Tat', 'Transcritical Bifurcation', 'Transfer Function', \"Traveler's Problem\", 'Traveling Salesman Constants', 'Traveling Salesman Problem', 'Triangle Plot', \"Tupper's Self-Referential Formula\", 'Ultrafilter', 'Unfair Game', 'Unsafe', 'Vapnik-Chervonenkis Dimension', 'Vector Field', 'Verhulst Model', 'Vickrey Auction', 'Voter Model', 'Voting Paradoxes', 'Walsh Transform', 'Web Diagram', 'Wiener Filter', 'World Line', \"Wythoff's Game\", 'Zak Transform', 'Zero-Sum Game', 'de Finetti Diagram']\n"
          ]
        }
      ]
    },
    {
      "cell_type": "code",
      "source": [
        "# Check 1: 1 mapping of keys values\n",
        "my_dict = dict()\n",
        "for key, value_list in all_topics.items():\n",
        "  for value in value_list:\n",
        "    if value not in my_dict.keys():\n",
        "      my_dict[value] = [key]\n",
        "    else:\n",
        "      my_dict[value].extend([key])\n",
        "\n",
        "map_to = dict()\n",
        "for key, value_list in my_dict.items():\n",
        "  if len(value_list) == 2:\n",
        "    if 'Recreational Mathematics' in value_list:\n",
        "      value_list.remove('Recreational Mathematics')\n",
        "      map_to[key] = value_list[0]\n",
        "\n",
        "# Create a list of keys to delete to avoid changing dictionary size during iteration\n",
        "keys_to_delete = [key for key in my_dict if key in map_to]\n",
        "\n",
        "# Delete the keys\n",
        "for key in keys_to_delete:\n",
        "  del my_dict[key]\n",
        "  # Delete from all_topics\n",
        "  all_topics['Recreational Mathematics'].remove(key)"
      ],
      "metadata": {
        "id": "2DRn9Dm_MB9i"
      },
      "execution_count": 15,
      "outputs": []
    },
    {
      "cell_type": "code",
      "source": [
        "# Choose linear algebra topic classification over other types\n",
        "all_topics_keys_to_remove = dict()\n",
        "keys_to_delete = list()\n",
        "\n",
        "for key, value_list in my_dict.items():\n",
        "  if len(value_list) == 2:\n",
        "    if 'Determinants' in value_list:\n",
        "      value_list.remove('Determinants')\n",
        "      all_topics_keys_to_remove[value_list[0]] = key\n",
        "      keys_to_delete.append(key)\n",
        "\n",
        "# Delete the keys\n",
        "for key in keys_to_delete:\n",
        "  del my_dict[key]\n",
        "\n",
        "for key, value in all_topics_keys_to_remove.items():\n",
        "  # Delete from all_topics\n",
        "  all_topics[key].remove(value)"
      ],
      "metadata": {
        "id": "RG5JQrJlPbJ9"
      },
      "execution_count": 16,
      "outputs": []
    },
    {
      "cell_type": "code",
      "source": [
        "# Additional cleaning\n",
        "my_dict = dict()\n",
        "for key, value_list in all_topics.items():\n",
        "  for value in value_list:\n",
        "    if value not in my_dict.keys():\n",
        "      my_dict[value] = [key]\n",
        "    else:\n",
        "      my_dict[value].extend([key])"
      ],
      "metadata": {
        "id": "0GhzpFQMUYu0"
      },
      "execution_count": 17,
      "outputs": []
    },
    {
      "cell_type": "code",
      "source": [
        "# Additional cleaning\n",
        "to_remove = {\n",
        "    \"Fundamental Matrix Subspaces\": ['Matrix Decomposition', 'Matrix Operations'],\n",
        "    \"Matrix Diagonalization\": ['Matrix Decomposition', 'Matrix Eigenvalues'],\n",
        "    \"Stochastic Matrix\": ['Algebra', 'Probability and Statistics'],\n",
        "    \"Hadamard Matrix\": ['Algebra', 'Foundations of Mathematics', 'Recreational Mathematics', 'Discrete Mathematics'],\n",
        "    \"Polynomial Matrix\": [ 'Algebra', 'Calculus and Analysis'],\n",
        "    \"Sylvester Matrix\": ['Algebra', 'Calculus and Analysis'],\n",
        "    \"Matrix Polynomial\": ['Algebra', 'Calculus and Analysis']\n",
        "    }\n",
        "\n",
        "for key, value_list in to_remove.items():\n",
        "  for val in value_list:\n",
        "    all_topics[val].remove(key)\n",
        "\n",
        "my_dict = dict()\n",
        "for key, value_list in all_topics.items():\n",
        "  for value in value_list:\n",
        "    if value not in my_dict.keys():\n",
        "      my_dict[value] = [key]\n",
        "    else:\n",
        "      my_dict[value].extend([key])"
      ],
      "metadata": {
        "id": "F2QLg8mfI4uB"
      },
      "execution_count": 18,
      "outputs": []
    },
    {
      "cell_type": "code",
      "source": [
        "# Additional cleaning - duplicate definitions\n",
        "to_remove = {\n",
        "    \"Lie Algebra\": ['Lie Theory', 'Lie Algebra']\n",
        "    ,\"Fredholm's Theorem\": ['Linear Independence', 'Matrix Properties']\n",
        "    ,\"Jacobi Identities\": ['Lie Algebra', 'Lie Groups']\n",
        "    ,\"Flag Manifold\": ['Lie Groups', 'Calculus and Analysis']\n",
        "    ,\"Lie-Type Group\": ['Lie Groups', 'Discrete Mathematics']\n",
        "    ,\"Special Linear Group\": ['Lie Groups', 'Discrete Mathematics']\n",
        "    ,\"Fundamental Theorem of Linear Algebra\": ['Matrix Decomposition', 'Matrix Operations']\n",
        "    ,\"Schur Decomposition\": ['Matrix Eigenvalues', 'Applied Mathematics']\n",
        "    ,\"Conjugate Transpose\": ['Matrix Types', 'Calculus and Analysis']\n",
        "    ,\"Analytic Torsion\": ['Calculus and Analysis', 'Topology']\n",
        "    ,\"Byzantine Generals Problem\": ['Algebra', 'Applied Mathematics']\n",
        "    ,\"Code\": ['Algebra', 'Foundations of Mathematics']\n",
        "    ,\"Commutative Diagram\": ['Algebra', 'Foundations of Mathematics']\n",
        "    ,\"Contractible\": ['Foundations of Mathematics', 'Topology']\n",
        "    ,\"Cyclotomic Polynomial\": ['Foundations of Mathematics', 'Discrete Mathematics']\n",
        "    ,\"Elliptic Curves\": ['Algebra', 'Geometry']\n",
        "    ,\"Encoding\": ['Algebra', 'Foundations of Mathematics']\n",
        "    ,\"Endomorphism\": ['Algebra', 'Foundations of Mathematics', 'Applied Mathematics', 'Geometry']\n",
        "    ,\"Ergodic Theory\": ['Algebra', 'Applied Mathematics', 'Geometry', 'Calculus and Analysis']\n",
        "    ,\"Gerbe\": [ 'Foundations of Mathematics', 'Topology']\n",
        "    ,\"Gröbner Basis\": ['Algebra', 'Discrete Mathematics']\n",
        "    ,\"Icosahedral Equation\": ['Algebra', 'Calculus and Analysis']\n",
        "    ,\"Kac Formula\": ['Algebra', 'Probability and Statistics']\n",
        "    ,\"Minimax Polynomial\": ['Probability and Statistics', 'Calculus and Analysis']\n",
        "    ,\"Modularity Theorem\": ['Algebra', 'Number Theory']\n",
        "    ,\"Noise\": ['Algebra', 'Applied Mathematics']\n",
        "    ,\"Normal Polynomial\": ['Calculus and Analysis', 'Number Theory']\n",
        "    ,\"Octahedral Equation\": ['Geometry', 'Calculus and Analysis']\n",
        "    ,\"Polynomial Sequence\": ['Algebra', 'Calculus and Analysis']\n",
        "    ,\"Power Polynomial\": ['Calculus and Analysis', 'Discrete Mathematics']\n",
        "    ,\"Real Vector Space\": ['Algebra', 'Topology']\n",
        "    ,\"Reidemeister Torsion\": ['Calculus and Analysis', 'Topology']\n",
        "    ,\"Taniyama-Shimura Conjecture\": ['Algebra', 'Topology']\n",
        "    ,\"Tetrahedral Equation\": ['Algebra', 'Geometry']\n",
        "    ,\"Vector Field\": ['Applied Mathematics', 'Topology']\n",
        "    ,\"Whitehead Torsion\": ['Algebra', 'Calculus and Analysis']\n",
        "    ,\"Zero Map\": ['Algebra', 'Foundations of Mathematics', 'Calculus and Analysis']\n",
        "    ,\"Borel Hierarchy\": ['Foundations of Mathematics', 'Topology']\n",
        "    ,\"Busy Beaver\": ['Foundations of Mathematics', 'Recreational Mathematics']\n",
        "    ,\"Circle Packing\": ['Foundations of Mathematics', 'Recreational Mathematics', 'Discrete Mathematics']\n",
        "    ,\"Closed Map\": ['Foundations of Mathematics', 'Calculus and Analysis']\n",
        "    ,\"Collatz Problem\": ['Foundations of Mathematics', 'Recreational Mathematics']\n",
        "    ,\"Complete Metric Space\": ['Foundations of Mathematics', 'Topology']\n",
        "    ,\"Contingent Cone\": ['Foundations of Mathematics', 'Calculus and Analysis']\n",
        "    ,\"Dense\": ['Foundations of Mathematics', 'Topology']\n",
        "    ,\"Domain\": ['Foundations of Mathematics', 'Calculus and Analysis', 'Topology']\n",
        "    ,\"Endpoint\": ['Foundations of Mathematics', 'Geometry']\n",
        "    ,\"F_sigma Set\": ['Foundations of Mathematics', 'Topology']\n",
        "    ,\"First Category\": ['Foundations of Mathematics', 'Calculus and Analysis']\n",
        "    ,\"G_delta Set\": ['Foundations of Mathematics', 'Calculus and Analysis']\n",
        "    ,\"Generalized Reeb Component\": ['Foundations of Mathematics', 'Topology']\n",
        "    ,\"Helly's Theorem\": ['Foundations of Mathematics', 'Geometry']\n",
        "    ,\"Hofstadter's Q-Sequence\": ['Foundations of Mathematics', 'Discrete Mathematics']\n",
        "    ,\"Hofstadter-Conway $10,000 Sequence\": ['Foundations of Mathematics', 'Discrete Mathematics']\n",
        "    ,\"Injection\": ['Foundations of Mathematics', 'Topology']\n",
        "    ,\"Lebesgue Covering Dimension\": ['Foundations of Mathematics', 'Calculus and Analysis']\n",
        "    ,\"Logistic Map\": ['Foundations of Mathematics', 'Applied Mathematics', 'Discrete Mathematics']\n",
        "    ,\"Logistic Map--r=2\": ['Foundations of Mathematics', 'Applied Mathematics']\n",
        "    ,\"Logistic Map--r=4\": ['Foundations of Mathematics', 'Applied Mathematics']\n",
        "    ,\"Metric Topology\": ['Foundations of Mathematics', 'Calculus and Analysis']\n",
        "    ,\"Metrizable Topology\": ['Foundations of Mathematics', 'Calculus and Analysis']\n",
        "    ,\"Net\": ['Foundations of Mathematics', 'Probability and Statistics']\n",
        "    ,\"Nice Vector Field\": ['Foundations of Mathematics', 'Topology']\n",
        "    ,\"Pseudoconcave Function\": ['Foundations of Mathematics', 'Topology']\n",
        "    ,\"Pseudoconvex Function\": ['Foundations of Mathematics', 'Topology']\n",
        "    ,\"Quasi-Concave Function\": ['Foundations of Mathematics', 'Topology']\n",
        "    ,\"Quasi-Convex Function\": ['Foundations of Mathematics', 'Topology']\n",
        "    ,\"Reeb Component\": ['Foundations of Mathematics', 'Calculus and Analysis']\n",
        "    ,\"Reebless\": ['Foundations of Mathematics', 'Calculus and Analysis']\n",
        "    ,\"Stochastic\": ['Foundations of Mathematics', 'Applied Mathematics', 'Geometry', 'Number Theory']\n",
        "    ,\"Surjection\": ['Foundations of Mathematics', 'Calculus and Analysis']\n",
        "    ,\"Sutured Manifold\": ['Foundations of Mathematics', 'Topology']\n",
        "    ,\"Taut Foliation\": ['Foundations of Mathematics', 'Topology']\n",
        "    ,\"Transversely Orientable Foliation\": ['Foundations of Mathematics', 'Topology']\n",
        "    ,\"Uniform Convexity\": ['Foundations of Mathematics', 'Topology']\n",
        "    ,\"Zero Set\": ['Foundations of Mathematics', 'Topology']\n",
        "    ,\"Lévy Flight\": ['Probability and Statistics', 'Applied Mathematics', 'Geometry']\n",
        "    ,\"Lévy Walk\": ['Probability and Statistics', 'Applied Mathematics', 'Geometry']\n",
        "    ,\"Quantum Stochastic Calculus\": ['Probability and Statistics', 'Geometry', 'Number Theory']\n",
        "    ,\"Sampling\": ['Applied Mathematics', 'Discrete Mathematics']\n",
        "    ,\"Seed\": ['Probability and Statistics', 'Calculus and Analysis']\n",
        "    ,\"2x mod 1 Map\": ['Calculus and Analysis', 'Discrete Mathematics']\n",
        "    ,\"Anosov Flow\": ['Calculus and Analysis', 'Topology']\n",
        "    ,\"Axiom A Flow\": ['Calculus and Analysis', 'Topology']\n",
        "    ,\"Cake Cutting\": ['Geometry', 'Discrete Mathematics']\n",
        "    ,\"Dye's Theorem\": ['Applied Mathematics', 'Geometry']\n",
        "    ,\"Ergodic Measure\": ['Applied Mathematics', 'Geometry']\n",
        "    ,\"Geodesic Flow\": ['Calculus and Analysis', 'Topology']\n",
        "    ,\"KMS Condition\": ['Applied Mathematics', 'Geometry', 'Calculus and Analysis']\n",
        "    ,\"Kronecker-Weyl Theorem\": ['Applied Mathematics', 'Geometry']\n",
        "    ,\"Kubo-Martin-Schwinger Condition\": ['Geometry', 'Calculus and Analysis', 'Number Theory']\n",
        "    ,\"Lévy Process\": ['Geometry', 'Number Theory']\n",
        "    ,\"Number Partitioning Problem\": ['Applied Mathematics', 'Geometry']\n",
        "    ,\"Ornstein's Theorem\": ['Geometry', 'Number Theory']\n",
        "    ,\"Pesin Theory\": ['Geometry', 'Number Theory']\n",
        "    ,\"Phase Space\": ['Applied Mathematics', 'Topology']\n",
        "    ,\"Poisson Process\": ['Geometry', 'Number Theory']\n",
        "    ,\"Smale Horseshoe Map\": ['Applied Mathematics', 'Calculus and Analysis']\n",
        "    ,\"Connex\": ['Geometry', 'Calculus and Analysis']\n",
        "    ,\"Dehn Invariant\": ['Geometry', 'Recreational Mathematics']\n",
        "    ,\"Integer Triangle\": ['Geometry', 'Recreational Mathematics']\n",
        "    ,\"Kobon Triangle\": ['Geometry', 'Recreational Mathematics']\n",
        "    ,\"Pizza Theorem\": ['Geometry', 'Recreational Mathematics']\n",
        "    ,\"Subset Sum Problem\": ['Geometry', 'Discrete Mathematics']\n",
        "    ,\"Banach Space\": ['Recreational Mathematics', 'Topology']\n",
        "    ,\"Hilbert Space\": ['Recreational Mathematics', 'Topology']\n",
        "    ,\"Perrin Sequence\": ['Recreational Mathematics', 'Discrete Mathematics']\n",
        "    ,\"Pi\": ['Recreational Mathematics', 'Discrete Mathematics']\n",
        "}\n",
        "\n",
        "for key, value_list in to_remove.items():\n",
        "  for val in value_list:\n",
        "    all_topics[val].remove(key)\n",
        "\n",
        "my_dict = dict()\n",
        "for key, value_list in all_topics.items():\n",
        "  for value in value_list:\n",
        "    if value not in my_dict.keys():\n",
        "      my_dict[value] = [key]\n",
        "    else:\n",
        "      my_dict[value].extend([key])\n",
        "\n",
        "# Final 1:1 check\n",
        "my_dict = dict()\n",
        "for key, value_list in my_dict.items():\n",
        "  if len(value_list) != 1:\n",
        "    print(f\"{key}: {value_list}\")"
      ],
      "metadata": {
        "id": "Bia3JdbEWP4A"
      },
      "execution_count": 19,
      "outputs": []
    },
    {
      "cell_type": "code",
      "source": [
        "# Final Processing of NER Tags\n",
        "def capitalise_key(key):\n",
        "  # Capitalizes the first word in a string and lowers the rest for consistent key formatting\n",
        "  words = key.split()\n",
        "  if len(words) == 1:\n",
        "    to_return = words[0].capitalize()\n",
        "  else:\n",
        "    first = words[0].capitalize()\n",
        "    rest = words[1:]\n",
        "    to_return = ' '.join(rest).lower()\n",
        "    to_return = f\"{first} {to_return}\"\n",
        "  return to_return\n",
        "\n",
        "def apostrophe_s_replacement(match):\n",
        "  # Fixes changes in case which leads to results eg \"segner'S recurrence formula\"\n",
        "  word = match.group(1)\n",
        "  # Preserve the case for fully uppercase words\n",
        "  if word.isupper():\n",
        "    return word + \"'S\"\n",
        "  else:\n",
        "    return word + \"'s\""
      ],
      "metadata": {
        "id": "0JNsXVxAxjDW"
      },
      "execution_count": 20,
      "outputs": []
    },
    {
      "cell_type": "code",
      "source": [
        "# Regex pattern to match words with special characters\n",
        "special_char_pattern = re.compile(r\"[^\\w\\s'-]\")"
      ],
      "metadata": {
        "id": "LOMlp45VnfGm"
      },
      "execution_count": 21,
      "outputs": []
    },
    {
      "cell_type": "code",
      "source": [
        "def creates_bioes_labels(ner_mapper_list, key):\n",
        "  # Generate BIOES-style labels (Beginning, Inside, Outside, End, Single) for a list of values, corresponding to the input. helps label the tokens in a sequence to identify the boundaries of named entities.\n",
        "  n = len(ner_mapper_list)\n",
        "  if n == 1:\n",
        "    labels_list = [f'S-{key}']\n",
        "  else:\n",
        "    labels_list = [f'B-{key}']  # Labels start with 'B-ENTITY_NAME'\n",
        "    labels_list.extend([f'I-{key}'] * (n - 2))  # middle tokens are 'I-ENTITY_NAME'\n",
        "    labels_list.append(f'E-{key}')  # End with 'E-ENTITY_NAME'\n",
        "  return labels_list"
      ],
      "metadata": {
        "id": "OOnHlhYxG8Q9"
      },
      "execution_count": 22,
      "outputs": []
    },
    {
      "cell_type": "code",
      "source": [
        "def generate_ner_tags(classification_dict):\n",
        "  # Generates hierarchical tags based on the key\n",
        "  transformations = {\n",
        "        \"lower\": str.lower,\n",
        "        \"upper\": str.upper,\n",
        "        \"title\": str.title,\n",
        "        \"capitalise\": capitalise_key,\n",
        "  }\n",
        "  pattern = r\"(\\b[a-zA-Z]+)'[sS]\"\n",
        "  my_dict = dict()\n",
        "  for key, value_list in classification_dict.items():\n",
        "    # key = key.replace(\" \", \"_\").upper()\n",
        "    for value in value_list:\n",
        "      transformed_values = {}\n",
        "      if special_char_pattern.search(value):\n",
        "        continue\n",
        "      for name, transform_fn in transformations.items():\n",
        "        _ = transform_fn(value)\n",
        "        transformed_values[name] = re.sub(pattern, apostrophe_s_replacement, _)\n",
        "\n",
        "      for value in transformed_values.values():\n",
        "        if value in [\"SIERPIŃSKI SIEVE\", \"ERDŐS-ANNING THEOREM\", \"BÔCHER'S THEOREM\", \"DOBIŃSKI'S FORMULA\", \"MIKUSIŃSKI'S PROBLEM\", \"ERDŐS-IVIĆ CONJECTURE\", \"ERDŐS-MOSER EQUATION\", \"ERDŐS-STRAUS CONJECTURE\", \"ERDŐS-SZEKERES THEOREM\",\n",
        "                     \"ERDŐS-TURÁN CONJECTURE\", \"ERDŐS-TURÁN DISCREPANCY BOUND\"]:\n",
        "          continue\n",
        "        value = value.replace(\"\\n\", \" \") #Removing new line in key\n",
        "        value = value.replace(\"--\", \"-\") #Removing double-dashes\n",
        "        value = value.replace(\"_\", \" \") #Removing underscores\n",
        "\n",
        "        text_index = idx2string(value)\n",
        "        token_list = tag_tokenizer(value).tokens()\n",
        "        input_id_list = tag_tokenizer.encode(value)\n",
        "        token_id_index = idx2token_and_id(text_index, token_list, input_id_list)\n",
        "        my_dict[value] = {\n",
        "          \"text_index\": text_index,\n",
        "          \"tokens\" : token_list,\n",
        "          \"input_ids\" : input_id_list,\n",
        "          }\n",
        "        ner_mapper = [tup[1] for key, tup in token_id_index.items()]\n",
        "        for i, (k, v) in enumerate(my_dict[value]['text_index'].items()):\n",
        "          my_dict[value]['ner_mapper'] = ner_mapper\n",
        "          my_dict[value]['ner_tags'] = creates_bioes_labels(ner_mapper, key)\n",
        "          if len(my_dict[value]['ner_mapper']) != len(my_dict[value]['ner_tags']):\n",
        "            print(f\"Error: {value}\")\n",
        "  return my_dict"
      ],
      "metadata": {
        "id": "8cO2tsJn986W"
      },
      "execution_count": 23,
      "outputs": []
    },
    {
      "cell_type": "code",
      "source": [
        "# Final NER Tag Generation\n",
        "_all_classifications = generate_ner_tags(all_topics)"
      ],
      "metadata": {
        "id": "O_gaTYRjC2ve"
      },
      "execution_count": 24,
      "outputs": []
    },
    {
      "cell_type": "code",
      "source": [
        "print(f\"topic_dict_ner dictionary length: {len(_all_classifications)}\")\n",
        "random_sample = random.sample(list(_all_classifications.keys()), 3)\n",
        "\n",
        "for key in random_sample:\n",
        "  print(f\"{key}:\\n{_all_classifications[key]}\")"
      ],
      "metadata": {
        "colab": {
          "base_uri": "https://localhost:8080/"
        },
        "id": "81w9B8woPk48",
        "outputId": "52d67602-b209-4096-baae-f77bd62f2b07"
      },
      "execution_count": 25,
      "outputs": [
        {
          "output_type": "stream",
          "name": "stdout",
          "text": [
            "topic_dict_ner dictionary length: 21506\n",
            "Bivariate polynomial:\n",
            "{'text_index': {0: 'Bivariate', 1: 'polynomial'}, 'tokens': ['[CLS]', 'B', '##iva', '##ria', '##te', 'polynomial', '[SEP]'], 'input_ids': [101, 139, 12416, 3464, 1566, 19068, 102], 'ner_mapper': [139, 19068], 'ner_tags': ['B-Calculus and Analysis', 'E-Calculus and Analysis']}\n",
            "CUMULATIVE SUM:\n",
            "{'text_index': {0: 'CUMULATIVE', 1: 'SUM'}, 'tokens': ['[CLS]', 'C', '##UM', '##U', '##LA', '##TI', '##VE', 'S', '##UM', '[SEP]'], 'input_ids': [101, 140, 25810, 2591, 10783, 21669, 17145, 156, 25810, 102], 'ner_mapper': [140, 156], 'ner_tags': ['B-Algebra', 'E-Algebra']}\n",
            "field characteristic exponent:\n",
            "{'text_index': {0: 'field', 1: 'characteristic', 2: 'exponent'}, 'tokens': ['[CLS]', 'field', 'characteristic', 'ex', '##po', '##nent', '[SEP]'], 'input_ids': [101, 1768, 7987, 4252, 5674, 21222, 102], 'ner_mapper': [1768, 7987, 4252], 'ner_tags': ['B-Algebra', 'I-Algebra', 'E-Algebra']}\n"
          ]
        }
      ]
    },
    {
      "cell_type": "code",
      "source": [
        "# Final cleaning\n",
        "all_classifications = dict()\n",
        "full_ner_tags = []\n",
        "\n",
        "for key, sub_dict in _all_classifications.items():\n",
        "  ner_mapper = sub_dict['ner_mapper'].copy()\n",
        "  ner_tags = sub_dict['ner_tags'].copy()\n",
        "  full_ner_tags = []\n",
        "\n",
        "  for i in sub_dict['input_ids']:\n",
        "    if i == ner_mapper[0]:\n",
        "      full_ner_tags.append(ner_tags[0])\n",
        "      ner_mapper = ner_mapper[1:]\n",
        "      ner_tags = ner_tags[1:]\n",
        "      if len(ner_mapper) == 0:\n",
        "        ner_mapper = ['-']\n",
        "        ner_tags = ['-']\n",
        "    else:\n",
        "      full_ner_tags.append('IGN')\n",
        "      # full_ner_tags.append('O')\n",
        "\n",
        "  assert len(full_ner_tags) == len(sub_dict['input_ids']), f\"Error: {key}\"\n",
        "\n",
        "  all_classifications[key] = {\n",
        "        'text_index': sub_dict['text_index'],\n",
        "        'tokens': sub_dict['tokens'],\n",
        "        'input_ids': sub_dict['input_ids'],\n",
        "        'ner_mapper': sub_dict['ner_mapper'],\n",
        "        'ner_tags': full_ner_tags,\n",
        "    }"
      ],
      "metadata": {
        "id": "Iuk7rMQrpwpb"
      },
      "execution_count": 26,
      "outputs": []
    },
    {
      "cell_type": "code",
      "source": [
        "print(f\"topic_dict_ner dictionary length: {len(all_classifications)}\")\n",
        "\n",
        "for key in random_sample:\n",
        "  print(f\"{key}:\\n{all_classifications[key]}\")"
      ],
      "metadata": {
        "colab": {
          "base_uri": "https://localhost:8080/"
        },
        "id": "FijrL-z5fBBc",
        "outputId": "d752f6b6-9789-4884-9d50-d899ba4b8cb2"
      },
      "execution_count": 27,
      "outputs": [
        {
          "output_type": "stream",
          "name": "stdout",
          "text": [
            "topic_dict_ner dictionary length: 21506\n",
            "Bivariate polynomial:\n",
            "{'text_index': {0: 'Bivariate', 1: 'polynomial'}, 'tokens': ['[CLS]', 'B', '##iva', '##ria', '##te', 'polynomial', '[SEP]'], 'input_ids': [101, 139, 12416, 3464, 1566, 19068, 102], 'ner_mapper': [139, 19068], 'ner_tags': ['IGN', 'B-Calculus and Analysis', 'IGN', 'IGN', 'IGN', 'E-Calculus and Analysis', 'IGN']}\n",
            "CUMULATIVE SUM:\n",
            "{'text_index': {0: 'CUMULATIVE', 1: 'SUM'}, 'tokens': ['[CLS]', 'C', '##UM', '##U', '##LA', '##TI', '##VE', 'S', '##UM', '[SEP]'], 'input_ids': [101, 140, 25810, 2591, 10783, 21669, 17145, 156, 25810, 102], 'ner_mapper': [140, 156], 'ner_tags': ['IGN', 'B-Algebra', 'IGN', 'IGN', 'IGN', 'IGN', 'IGN', 'E-Algebra', 'IGN', 'IGN']}\n",
            "field characteristic exponent:\n",
            "{'text_index': {0: 'field', 1: 'characteristic', 2: 'exponent'}, 'tokens': ['[CLS]', 'field', 'characteristic', 'ex', '##po', '##nent', '[SEP]'], 'input_ids': [101, 1768, 7987, 4252, 5674, 21222, 102], 'ner_mapper': [1768, 7987, 4252], 'ner_tags': ['IGN', 'B-Algebra', 'I-Algebra', 'E-Algebra', 'IGN', 'IGN', 'IGN']}\n"
          ]
        }
      ]
    },
    {
      "cell_type": "code",
      "source": [
        "# Final results saved as a pickle file of classified topics and NER tags\n",
        "file_name = 'all_classifications.pkl'\n",
        "\n",
        "with open(file_name, 'wb') as file:\n",
        "  pickle.dump(all_classifications, file)"
      ],
      "metadata": {
        "id": "RKogysw6Lxtw"
      },
      "execution_count": 28,
      "outputs": []
    }
  ]
}