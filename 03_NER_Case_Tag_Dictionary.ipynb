{
  "nbformat": 4,
  "nbformat_minor": 0,
  "metadata": {
    "colab": {
      "provenance": [],
      "authorship_tag": "ABX9TyOuoBvGBe4nBfvpa8l0eicq",
      "include_colab_link": true
    },
    "kernelspec": {
      "name": "python3",
      "display_name": "Python 3"
    },
    "language_info": {
      "name": "python"
    }
  },
  "cells": [
    {
      "cell_type": "markdown",
      "metadata": {
        "id": "view-in-github",
        "colab_type": "text"
      },
      "source": [
        "<a href=\"https://colab.research.google.com/github/HeatherDriver/MathGraph/blob/main/03_NER_Case_Tag_Dictionary.ipynb\" target=\"_parent\"><img src=\"https://colab.research.google.com/assets/colab-badge.svg\" alt=\"Open In Colab\"/></a>"
      ]
    },
    {
      "cell_type": "code",
      "source": [
        "! pip install intervaltree"
      ],
      "metadata": {
        "colab": {
          "base_uri": "https://localhost:8080/"
        },
        "id": "eb1z_5v_MDve",
        "outputId": "3dc0dc1e-1605-4047-fbb0-8d6c513ba342"
      },
      "execution_count": 48,
      "outputs": [
        {
          "output_type": "stream",
          "name": "stdout",
          "text": [
            "Requirement already satisfied: intervaltree in /usr/local/lib/python3.10/dist-packages (3.1.0)\n",
            "Requirement already satisfied: sortedcontainers<3.0,>=2.0 in /usr/local/lib/python3.10/dist-packages (from intervaltree) (2.4.0)\n"
          ]
        }
      ]
    },
    {
      "cell_type": "code",
      "source": [
        "from transformers import AutoTokenizer, AutoModelForTokenClassification, pipeline\n",
        "from google.colab import drive, userdata\n",
        "import pickle\n",
        "import random\n",
        "import re\n",
        "from collections import defaultdict\n",
        "from intervaltree import Interval, IntervalTree\n",
        "from collections import Counter\n",
        "import json"
      ],
      "metadata": {
        "id": "nx1WL2SGMEog"
      },
      "execution_count": 49,
      "outputs": []
    },
    {
      "cell_type": "code",
      "source": [
        "drive.mount(\"/content/drive\")\n",
        "%cd '/content/drive/MyDrive/Colab Notebooks/Math_Graph/pickle_files'"
      ],
      "metadata": {
        "colab": {
          "base_uri": "https://localhost:8080/"
        },
        "id": "l_0Z2YZBMNT-",
        "outputId": "d7f7df17-c506-48cd-fff9-366ec966fe8e"
      },
      "execution_count": 50,
      "outputs": [
        {
          "output_type": "stream",
          "name": "stdout",
          "text": [
            "Drive already mounted at /content/drive; to attempt to forcibly remount, call drive.mount(\"/content/drive\", force_remount=True).\n",
            "/content/drive/MyDrive/Colab Notebooks/Math_Graph/pickle_files\n"
          ]
        }
      ]
    },
    {
      "cell_type": "code",
      "source": [
        "# Define nested_dict function\n",
        "def nested_dict():\n",
        "  return defaultdict(nested_dict)\n",
        "\n",
        "# Define file read function\n",
        "def read_pickle(dict_file):\n",
        "  with open(dict_file, 'rb') as file:\n",
        "    return pickle.load(file)\n",
        "\n",
        "# Split CamelCase to s e p a r a t e d text\n",
        "def split_camel_case(text):\n",
        "    # Use regex to insert a space before uppercase letters preceded by lowercase letters\n",
        "    return re.sub(r'(?<=[a-z])(?=[A-Z])', ' ', text)"
      ],
      "metadata": {
        "id": "AFz-ma2MMQhD"
      },
      "execution_count": 51,
      "outputs": []
    },
    {
      "cell_type": "code",
      "source": [
        "# Existing tags from DistilBERT\n",
        "tag_checkpoint = \"dslim/distilbert-NER\"\n",
        "tag_tokenizer = AutoTokenizer.from_pretrained(tag_checkpoint, do_lower_case=False)\n",
        "tag_model = AutoModelForTokenClassification.from_pretrained(tag_checkpoint)\n",
        "\n",
        "tags = pipeline(\"ner\", model=tag_model, tokenizer=tag_tokenizer)"
      ],
      "metadata": {
        "colab": {
          "base_uri": "https://localhost:8080/"
        },
        "id": "jtvIEW0bMWqs",
        "outputId": "b3cf8e16-5a2e-4226-a407-70cb3be7c233"
      },
      "execution_count": 52,
      "outputs": [
        {
          "output_type": "stream",
          "name": "stderr",
          "text": [
            "Device set to use cpu\n"
          ]
        }
      ]
    },
    {
      "cell_type": "code",
      "source": [
        "tag_tokenizer.is_fast"
      ],
      "metadata": {
        "colab": {
          "base_uri": "https://localhost:8080/"
        },
        "id": "GGew7_CrMdWw",
        "outputId": "4b0a0b0f-2a77-4b44-de96-7877f4eb0f13"
      },
      "execution_count": 53,
      "outputs": [
        {
          "output_type": "execute_result",
          "data": {
            "text/plain": [
              "True"
            ]
          },
          "metadata": {},
          "execution_count": 53
        }
      ]
    },
    {
      "cell_type": "code",
      "source": [
        "# Methods built from DistilBERT NER\n",
        "\n",
        "def idx2string(text):\n",
        "    # Split on whitespace or punctuation, punctuation is used for tokens\n",
        "    words = re.findall(r'\\b\\w+\\b|[^\\s\\w]', text)\n",
        "    my_dict = {i: word for i, word in enumerate(words)}\n",
        "    return my_dict\n",
        "\n",
        "def tokenidx2words(ner_results):\n",
        "  my_dict = dict()\n",
        "  for sub_dict in ner_results:\n",
        "    word, index = sub_dict['word'], sub_dict['index']\n",
        "    my_dict[index] = word\n",
        "  return my_dict\n",
        "\n",
        "def tokenidx2entity(ner_results):\n",
        "  my_dict = dict()\n",
        "  for sub_dict in ner_results:\n",
        "    entity, index = sub_dict['entity'], sub_dict['index']\n",
        "    my_dict[index] = entity\n",
        "  return my_dict\n",
        "\n",
        "def idx2wordpos(text, idx2string):\n",
        "  my_dict = {}\n",
        "  current_pos = 0\n",
        "  for idx, word in idx2string.items():\n",
        "    start = text.index(word, current_pos)\n",
        "    end = start + len(word)\n",
        "    my_dict[idx] = (start, end)\n",
        "    current_pos = end\n",
        "  return my_dict\n",
        "\n",
        "def tokenidx2entityword(example2wordidx, ner_results):\n",
        "  # Create an IntervalTree\n",
        "  tree = IntervalTree(Interval(start, end, key) for key, (start, end) in example2wordidx.items())\n",
        "\n",
        "  my_dict = dict()\n",
        "  for sub_dict in ner_results:\n",
        "    tag_start, tag_end = sub_dict['start'], sub_dict['end']\n",
        "    tag_entity = sub_dict['entity']\n",
        "    token_idx = sub_dict['index']\n",
        "\n",
        "    overlapping_intervals = tree[tag_start : tag_end] # Intervals which contain the entitry recognised\n",
        "    for interval in overlapping_intervals:\n",
        "      my_dict[token_idx] = {'entity' : tag_entity, 'word_idx': interval.data}\n",
        "\n",
        "  return my_dict"
      ],
      "metadata": {
        "id": "X4hqFPrhMhcL"
      },
      "execution_count": 54,
      "outputs": []
    },
    {
      "cell_type": "code",
      "execution_count": 55,
      "metadata": {
        "colab": {
          "base_uri": "https://localhost:8080/"
        },
        "id": "0hz7sum7K2HK",
        "outputId": "01487631-083e-42df-f096-ff8b10ddeeae"
      },
      "outputs": [
        {
          "output_type": "stream",
          "name": "stdout",
          "text": [
            "topic_dict dictionary length: 10\n",
            "Foundations of Mathematics:\n",
            "['A New Kind of Science', 'Axioms', 'Category Theory', 'Logic', 'Mathematical Problems', 'Point-Set Topology', 'Set Theory', 'Theorem Proving']\n",
            "Number Theory:\n",
            "['Algebraic Number Theory', 'Arithmetic', 'Automorphic Forms', 'Binary Sequences', 'Class Numbers', 'Congruences', 'Constants', 'Continued Fractions', 'Diophantine Equations', 'Divisors', 'Elliptic Curves', 'Ergodic Theory', 'General Number Theory', 'Generating Functions', 'Integer Relations', 'Integers', 'Irrational Numbers', 'Normal Numbers', 'Numbers', 'Number Theoretic Functions', 'Parity', 'Prime Numbers', 'p-adic Numbers', 'Rational Approximation', 'Rational Numbers', 'Real Numbers', 'Reciprocity Theorems', 'Rounding', 'Sequences', 'Special Numbers', 'Transcendental Numbers']\n",
            "Calculus and Analysis:\n",
            "['Calculus', 'Calculus of Variations', 'Catastrophe Theory', 'Complex Analysis', 'Differential Equations', 'Differential Forms', 'Differential Geometry', 'Dynamical Systems', 'Fixed Points', 'Functional Analysis', 'Functions', 'General Analysis', 'Generalized Functions', 'Harmonic Analysis', 'Inequalities', 'Integral Transforms', 'Inversion Formulas', 'Manifolds', 'Measure Theory', 'Metrics', 'Norms', 'Operator Theory', 'Polynomials', 'Roots', 'Series', 'Singularities', 'Special Functions']\n"
          ]
        }
      ],
      "source": [
        "# Get naming convention from scraped data\n",
        "topics = read_pickle(\"topics.pkl\")\n",
        "\n",
        "print(f\"topic_dict dictionary length: {len(topics)}\")\n",
        "random_sample = random.sample(list(topics.items()), 3)\n",
        "\n",
        "for key, value in random_sample:\n",
        "  print(f\"{key}:\\n{value}\")"
      ]
    },
    {
      "cell_type": "code",
      "source": [
        "# Get naming convention from scraped data\n",
        "sub_topics = read_pickle(\"sub_topics.pkl\")\n",
        "\n",
        "my_dict = dict()\n",
        "for key, value in sub_topics.items():\n",
        "  split_key = split_camel_case(key)\n",
        "  my_dict[split_key] = value\n",
        "\n",
        "sub_topics = my_dict\n",
        "\n",
        "print(f\"sub_topics dictionary length: {len(sub_topics)}\")\n",
        "\n",
        "for key, value in random_sample:\n",
        "  print(f\"{key}:\\n{sub_topics[key]}\")"
      ],
      "metadata": {
        "colab": {
          "base_uri": "https://localhost:8080/"
        },
        "id": "lNb0jSheLB9F",
        "outputId": "c32a2de0-ffee-4606-e7d3-c9f35f035379"
      },
      "execution_count": 56,
      "outputs": [
        {
          "output_type": "stream",
          "name": "stdout",
          "text": [
            "sub_topics dictionary length: 10\n",
            "Foundations of Mathematics:\n",
            "['Ackermann Function', 'Additive Category', 'Additive Cellular Automaton', 'AND', 'Apollonian Gasket', 'Associative Algebra', 'Binary', 'Boolean Function', 'Bootstrap Percolation', 'Busy Beaver', 'Causal Graph', 'Causal Invariance', 'Causal Network', 'Cayley Graph', 'Cellular Automaton', 'Champernowne Constant', 'Church-Rosser Property', 'Church-Turing Thesis', 'Circle Packing', 'Closed-Form Solution', 'Code', 'Code 177', 'Code 912', 'Code 2040', 'Collatz Problem', 'Combinator', 'Commutative Monoid', 'Complex Number', 'Complexity', 'Computable Number', 'Computational Irreducibility', 'Computational Paradigm', 'Computational Reducibility', 'Confluent', 'Consecutive Number Sequences', \"Conway's Constant\", 'Conway Sequence', 'Cosmological Theorem', 'Critical Pair', 'Cubic Symmetric Graph', 'Cyclic Tag System', 'Cyclotomic Polynomial', 'Decision Problem', 'Digit Count', 'Elementary Cellular Automaton', 'Encoding', 'Equational Logic', 'Experimental Mathematics', 'Fast Walsh Transform', 'Feigenbaum Constant', 'Firing Squad Problem', 'Flower of Life', 'Formal Language', 'Generalized Mobile Automaton', 'Genetic Algorithm', \"Gödel's First Incompleteness Theorem\", 'Gödel Number', 'Hadamard Matrix', 'Hofstadter-Conway $10,000 Sequence', \"Hofstadter's Q-Sequence\", 'Integer Complexity', 'Iterated Map', \"Kelvin's Conjecture\", 'Klein Quartic', 'Kleinian Group', 'Knuth-Bendix Completion Algorithm', 'Lag System', \"Langton's Ant\", 'Least Significant Bit', 'Logic', 'Logistic Equation', 'Logistic Map', 'Logistic Map--r=2', 'Logistic Map--r=4', 'Look and Say Sequence', 'Mathematical Paradigm', 'Mathematics', 'Maze', 'Method of Steepest Descent', 'Mobile Automaton', 'Multicomputation', 'Multicomputational Paradigm', 'Multicomputational Process', 'Multicomputational System', 'Multiway Graph', 'Multiway System', 'Munching Squares', 'Nested Radical Constant', 'New Kind of Science', \"Newton's Iteration\", 'Nondeterministic Turing Machine', 'OR', 'Outer-Totalistic Cellular Automaton', \"Pascal's Triangle\", \"Paterson's Worms\", \"Peano's Axioms\", 'Polyomino Tiling', 'Power Ceilings', 'Power Fractional Parts', 'Presburger Arithmetic', 'Primitive Recursive Function', 'Principle of Computational Equivalence', 'Principle of Permanence', 'Proof', 'Propositional Calculus', 'Quasi-Monte Carlo Integration', 'Recurrence Equation', 'Recursive Function', 'Recursive Sequence', 'Recursively Enumerable Set', 'Reduction Order', 'Register Machine', 'Reverse-Then-Add Sequence', \"Rice's Theorem\", 'Rule', 'Rule 28', 'Rule 30', 'Rule 50', 'Rule 54', 'Rule 60', 'Rule 62', 'Rule 90', 'Rule 94', 'Rule 102', 'Rule 110', 'Rule 126', 'Rule 150', 'Rule 158', 'Rule 182', 'Rule 188', 'Rule 190', 'Rule 220', 'Rule 222', 'Rule 250', 'Seed of Life', 'Self-Counting Sequence', 'Sequential Substitution System', 'Sierpiński Sieve', 'Sieve of Eratosthenes', 'Smarandache Number', 'Square Root Algorithms', 'Stochastic', 'Substitution System', 'Tag System', 'Tangent Circles', 'Ternary', 'Thue-Morse Sequence', 'Totalistic Cellular Automaton', 'Truchet Tiling', 'Turing Machine', 'Turmite', 'Ulam Sequence', 'Universal Algebra', 'Universal Turing Machine', 'Universality', 'Walsh Function', 'Walsh Transform', 'WireWorld', 'Wolfram Axiom', \"Wolfram's Iteration\", 'Wolfram Sequences', 'XOR', 'Absorption Identities', 'Absorption Identity', 'Absorption Law', 'Algebra of Random Variables', 'Axiom', 'Axiom of Choice', 'Axiom of Extensionality', 'Axiom of Foundation', 'Axiom of Infinity', 'Axiom of Replacement', 'Axiom of Subsets', 'Axiom of the Empty Set', 'Axiom of the Power Set', 'Axiom of the Sum Set', 'Axiom of the Unordered Pair', 'Axiom Schema', 'Axiomatic Set Theory', 'Axiomatic System', 'Axioms of Subsets', 'Categorical Axiomatic System', 'Congruence Axioms', 'Continuity Axioms', \"de Morgan's Laws\", 'Eilenberg-Steenrod Axioms', 'Equidistance Postulate', \"Euclid's Postulates\", 'Excision Axiom', 'Field Axioms', 'Hausdorff Axioms', \"Hilbert's Axioms\", 'Homotopy Axiom', 'Incidence Axioms', 'Induction Axiom', \"Kolmogorov's Axioms\", 'Long Exact Sequence of a Pair Axiom', 'Ordering Axioms', 'Parallel Postulate', 'Peano Arithmetic', \"Peano's Axioms\", \"Playfair's Axiom\", 'Postulate', 'Presburger Arithmetic', 'Probability Axioms', \"Proclus' Axiom\", 'Zermelo-Fraenkel Axioms', 'Abelian Category', 'Additive Category', 'Additive Functor', 'Algebraic Geometry Stack', 'Allegory', 'Categorical Variable', 'Category', 'Category Product', 'Category Theory', 'Coequalizer', 'Commutative Diagram', 'Contravariant Functor', 'Coproduct', 'Covariant Functor', 'Direct Factor', 'Direct Product', 'Endomorphism', 'Epimorphism', 'Equalizer', 'Exact Functor', 'Faithful Functor', 'Fibered Category', 'Fibered Category Morphism', 'Forgetful Functor', 'Free Product', \"Freyd's Theorem\", 'Functor', 'Gerbe', 'Holonomy', 'Hom-Set', 'Homeomorphic', 'Homeomorphism Group', 'Homomorphic', 'Homomorphism', 'Initial Object', 'Isomorphism', 'Long Exact Sequence', 'Monodromy', 'Monomorphism', 'Morphism', 'Natural Isomorphism', 'Natural Transformation', 'Object', 'Orthomorphism', 'Presheaf of Categories', 'Pullback Map', 'R-Category', 'Schur Functor', 'Separable Morphism', 'Stack of Groupoids', 'Strict Tensor Category', 'Subcategory', 'Tensor Category', 'Tensor R-Category', 'Terminal Object', 'Topos', 'Unital Natural Transformation', 'Unital R-Module', 'Zero Map', 'Decidability', 'Fuzzy Logic', 'General Logic', 'Logical Operations', 'Nonstandard Analysis', 'Paradoxes', 'Prize Problems', 'Prizes', 'Problem Collections', 'Proved Conjectures', 'Refuted Conjectures', 'Solved Problems', 'Unsolved Problems', '0-Connected', '1-Connected', 'Affine Hull', 'Almost Everywhere Convergence', 'Arc Component', 'Arcwise-Connected', 'Basepoint', 'Basis Element', 'Bicollared', 'Borel Hierarchy', 'Borel Measure', 'Borel Set', 'Borel Sigma-Algebra', 'Borel Space', 'Boundary', 'Boundary Map', 'Boundary Point', 'Boundary Set', 'Bounded', 'Bounded from Above', 'Bounded from Below', 'Bounded Set', \"Cantor's Discontinuum\", \"Carathéodory's Fundamental Theorem\", 'Clopen', 'Closed', 'Closed Ball', 'Closed Disk', 'Closed Map', 'Closed Set', 'Closure', 'Compact Closure', 'Compact Set', 'Compact Subset', 'Compact Support', 'Compactification', 'Compactum', 'Complete Metric Space', 'Complete Space', 'Completely Regular Space', 'Completion', 'Concave', 'Cone Set', 'Connected Component', 'Connected im Kleinen', 'Connected Set', 'Connected Space', 'Contingent Cone', 'Continuous Function', 'Continuous Map', 'Continuous Space', 'Contractibility', 'Contractible', 'Convex', 'Convex Cone', 'Convex Function', 'Convex Set', 'Convexity Coefficient', 'Covering Map', 'Covering Space', 'Dense', 'Derived Set', 'Dimension Axiom', 'Disconnected Set', 'Disconnected Space', 'Discrete Family', 'Discrete Set', 'Discrete Topology', 'Disk', 'Domain', 'Domain Invariance Theorem', 'Endpoint', 'Extremals', 'F_sigma Set', 'Fiber', 'First Category', 'Foliation', 'Foliation Leaf', 'G_delta Set', 'Generalized Diameter', 'Generalized Reeb Component', 'Half-Closed Interval', 'Half-Space', 'Hausdorff Axioms', 'Heine-Borel Theorem', \"Helly's Theorem\", 'Hereditary Property', 'Heredity', 'Hopf-Rinow Theorem', \"Hurwitz's Root Theorem\", 'Injection', 'Interior', 'Interval', 'Landau Constant', 'Lebesgue Covering Dimension', 'Locally Compact', 'Locally Connected', 'Locally Finite Family', 'Locally Pathwise-Connected', 'Lyusternik-Schnirelmann Theorem', \"Mackey's Theorem\", 'Magic Geometric Constants', \"Mergelyan's Theorem\", 'Metric Space', 'Metric Topology', 'Metrizable Topology', 'Multiply Connected', 'Mutually Singular', 'Neighborhood', 'Net', 'Nice Vector Field', 'One-Point Compactification', 'Open', 'Open Ball', 'Open Cover', 'Open Disk', 'Open Interval', 'Open Map', 'Open Neighborhood', 'Open Set', 'Order Topology', 'Path-Connected', 'Pathwise-Connected', 'Point-Set Topology', 'Polydisk', 'Pseudo-Convex Set', 'Pseudo-Tangent Cone', 'Pseudoconcave Function', 'Pseudoconvex Function', 'Punctured Plane', 'Punctured Set', 'Quasi-Concave Function', 'Quasi-Convex Function', 'Ramification Index', 'Reeb Component', 'Reebless', 'Region', 'Regular Borel Measure', 'Reinhardt Domain', 'Relative Topology', 'Residual Set', 'Second Countable Topology', 'Semilocally 1-Connected', 'Semilocally Simply Connected', 'Separation Axioms', 'Set Closure', 'Sigma-Compact Topological Space', 'Simply Connected', 'Species', 'Star Convex', 'Subanalytic', 'Subbasis', 'Surjection', 'Sutured Manifold', 'T_2-Separation Axiom', 'T_2-Space', 'Taut Foliation', \"Tietze's Extension Theorem\", 'Topological Basis', 'Topological Closure', 'Topologically Transitive', \"Topologist's Sine Curve\", 'Transversely Orientable Foliation', 'Trivial Loop', 'Trivial Topology', 'Ultrametric', 'Unicoherent Space', 'Uniform Convexity', 'Unit Interval', 'Zariski Topology', 'Zero Set', 'Cardinal Numbers', 'Equivalence Classes', 'General Set Theory', 'Lattice Theory', 'Logical Operations', 'Model Theory', 'Ordinal Numbers', 'Partial Orders', 'Relations', 'Set Operations', 'Set Properties', 'Sets', 'Flawed Proofs', 'Proofs']\n",
            "Number Theory:\n",
            "['Algebraic Integer', 'Algebraic Number', 'Algebraic Number Theory', 'Algebraics', 'Chebotarev Density Theorem', 'Class Field', 'Cyclotomic Field', 'Dedekind Domain', 'Dedekind Ring', 'Fractional Ideal', 'Global Field', 'Local Class Field Theory', 'Local Field', 'Number Field Signature', 'Picard Group', 'Pisot Constant', 'Pisot Number', 'Pisot-Vijayaraghavan Constant', 'Weyl Sum', 'Addition and Subtraction', 'Fractions', 'General Arithmetic', 'Multiplication and Division', 'Number Bases', 'Signed Numbers', 'L-Series', 'Modular Forms', 'Baum-Sweet Sequence', 'Cantor Set', 'Dragon Curve', 'Kolakoski Sequence', 'Least Significant Bit', \"Liouville's Constant\", 'Mephisto Waltz Sequence', 'Rabbit Sequence', 'Thue Constant', 'Thue-Morse Sequence', 'Thue Sequence', 'Class Field Theory', 'Class Group', 'Class Number', 'Dirichlet Structure Constant', 'Fundamental Discriminant', 'Fundamental Theorem of Genera', \"Gauss's Class Number Conjecture\", \"Gauss's Class Number Problem\", 'Heegner Number', 'Algebraic Congruence', \"Artin's Conjecture\", \"Artin's Constant\", \"Bauer's Identical Congruence\", \"Bauer's Theorem\", 'Blankinship Algorithm', 'Boolean Arithmetic', 'Cancellation Law', 'Casting Out Nines', 'Casting Out Sevens', 'Cauchy-Davenport Theorem', 'Chinese Congruence', 'Chinese Hypothesis', 'Chinese Remainder Theorem', 'Clock Arithmetic', 'Common Residue', 'Complete Residue System', 'Congruence', 'Congruence Equation', 'Congruent', 'Crank Conjecture', 'Discrete Log', 'Discrete Logarithm', 'Erdős-Ivić Conjecture', \"Euler's Totient Theorem\", 'Exact Covering System', 'Excludent', \"Fermat's Little Theorem\", \"Fermat's Little Theorem Converse\", 'Fermat Quotient', \"Fermat's Theorem\", 'Fractional Congruence', 'Functional Congruence', 'Galois Imaginary', \"Gauss's Criterion\", 'Linear Congruence Equation', 'Minimal Residue', 'Mod', 'Modular Arithmetic', 'Modular Inverse', 'Modulo Multiplication Group', 'Modulo Order', 'Modulus', 'Multiplicative Order', 'Multiplicative Primitive Residue Class Group', \"Newman's Conjecture\", 'Normal Polynomial', 'Partition Function P Congruences', 'Partition Function Q Congruences', 'Pisano Period', 'Prime Cut', 'Primitive Root', 'Quadratic Congruence Equation', 'Reduced Residue System', 'Residue', 'Residue Class', 'Set Modulus', \"Shanks' Algorithm\", 'Solvable Congruence', 'Suborder Function', 'Successive Square Method', \"Thue's Theorem\", \"Wilson's Theorem\", \"Wolstenholme's Theorem\", \"Aery's Constant\", 'Algebraic Constants', \"Apery's Constant\", \"Catalan's Constant\", 'Constant Digits', 'Continued Fraction Constants', 'e', 'Euler-Mascheroni Constant', 'Geometric Constants', 'Glaisher-Kinkelin Constant', 'Golden Ratio', 'Golomb-Dickman Constant', \"Khinchin's Constant\", 'Miscellaneous Constants', 'Pi', 'Prime-Related Constants', 'Recurrence Relation Constants', \"Soldner's Constant\", 'Square Root Constants', 'Transcendental Root Constants', 'Alternated Egyptian Product', 'Anthyphairetic Ratio', \"Apéry's Constant Continued Fraction\", 'Bauer-Muir Transformation', 'Bolyai Expansion', 'Brjuno Number', \"Catalan's Constant Continued Fraction\", 'Champernowne Constant Continued Fraction', 'Continued Fraction', 'Continued Fraction Constants', 'Continued Fraction Fundamental Recurrence\\nRelation', 'Convergent', 'Copeland-Erdős Constant Continued Fraction', 'e Continued Fraction', 'Egyptian Product', 'Engel Expansion', \"Euler's Continued Fraction\", 'Euler-Mascheroni Constant Continued Fraction', 'Factorial Reduction', \"Gauss's Continued Fraction\", 'Gauss-Kuzmin Distribution', 'Gauss-Kuzmin-Wirsing Constant', 'Gaussian Brackets', 'Generalized Continued Fraction', 'GK-Regular', 'Glaisher-Kinkelin Constant Continued Fraction', 'Golomb-Dickman Constant Continued Fraction', 'Harmonic Expansion', 'Hurwitz Number', \"Khinchin's Constant\", \"Khinchin's Constant Continued Fraction\", \"Lagrange's Continued Fraction Theorem\", \"Laguerre's Continued Fraction\", \"Laguerre's Repeated Fraction\", \"Lambert's Continued Fraction\", 'Lehner Continued Fraction', 'Lévy Constant', \"Lochs' Theorem\", \"Minkowski's Question Mark Function\", 'Natural Logarithm of 2 Continued Fraction', 'Natural Logarithm of 10 Continued Fraction', 'Near Noble Number', 'Nearest Integer Continued Fraction', 'Noble Number', 'Partial Denominator', 'Partial Numerator', 'Partial Quotient', 'Periodic Continued Fraction', \"Perron's Continued Fraction\", 'Pi Continued Fraction', 'Pierce Expansion', 'Quotient-Difference Algorithm', 'Ramanujan Continued Fractions', 'Regular Continued Fraction', 'Repeated Fraction', 'Shift Transformation', 'Simple Continued Fraction', \"Soldner's Constant Continued Fraction\", 'Antimorph', 'Antimorphic Number', \"Archimedes' Cattle Problem\", \"Archimedes' Revenge\", 'Ass and Mule Problem', 'Bachet Equation', \"Beal's Conjecture\", \"Brahmagupta's Problem\", \"Catalan's Conjecture\", \"Catalan's Diophantine Problem\", 'Coin Problem', 'Concordant Form', 'Congruent Number', 'Congruum', 'Congruum Problem', 'Convenient Number', 'Diophantine', 'Diophantine Equation', 'Diophantine Equation--2nd Powers', 'Diophantine Equation--3rd Powers', 'Diophantine Equation--4th Powers', 'Diophantine Equation--5th Powers', 'Diophantine Equation--6th Powers', 'Diophantine Equation--7th Powers', 'Diophantine Equation--8th Powers', 'Diophantine Equation--9th Powers', 'Diophantine Equation--10th Powers', 'Diophantine Equation--nth Powers', 'Diophantine Quadruple', 'Diophantine Set', 'Diophantus Property', \"Diophantus's Riddle\", 'Erdős-Moser Equation', 'Erdős-Straus Conjecture', 'Euler Brick', 'Euler Quartic Conjecture', \"Euler's Sum of Powers Conjecture\", \"Falting's Theorem\", 'Fermat-Catalan Conjecture', 'Fermat Elliptic Curve Theorem', 'Fermat Equation', \"Fermat's Last Theorem\", \"Fermat's Sandwich Theorem\", 'Frobenius Coin Problem', 'Frobenius Equation', 'Frobenius Number', 'Frobenius Postage Stamp Problem', 'Frobenius Problem', \"Gauss's Cyclotomic Formula\", 'Generalized Fermat Equation', 'Geometric Triple', 'Hardy-Ramanujan Number', 'Harmonic Triple', 'Heronian Tetrahedron', 'Hurwitz Equation', 'Idoneal Number', 'Integer Triangle', 'Lagrange Number', \"Lucas's Theorem\", 'Markoff Number', 'Markov Equation', 'Markov Number', 'Method of Exclusions', \"Mirimanoff's Congruence\", 'Monkey and Coconut Problem', 'Monomorph', 'Mordell Conjecture', 'Multigrade Equation', 'Pell Equation', 'Perfect Cuboid', 'Perfect Pyramid', 'Perfect Tetrahedron', \"Pillai's Conjecture\", 'Polymorph', 'Postage Stamp Problem', 'Power Equation', 'Prime Diophantine Equations', 'Prouhet-Tarry-Escott Problem', 'Pythagorean Fraction', 'Pythagorean Quadruple', 'Pythagorean Triad', 'Pythagorean Triangle', 'Pythagorean Triple', 'Ramanujan-Nagell Equation', \"Ramanujan's Square Equation\", 'Rational Distance Problem', 'Rational Distances', 'Shafarevich Conjecture', 'Square-Triangle Theorem', 'Suitable Number', 'Thue Equation', 'Tijdeman-Zagier Conjecture', 'Twin Pythagorean Triple', \"Wallis's Problem\", \"Waring's Problem\", 'Bézout Numbers', 'Biunitary Divisor', 'Carefree Couple', 'Carmichael Condition', 'Coprime', 'Divides', 'Divisibility Rules', 'Divisibility Tests', 'Divisible', 'Divisor', \"Euclid's Lemma\", 'GCD-Closed Set', 'Greatest Dividing Exponent', \"Honaker's Problem\", 'Infinitary Divisor', \"Korselt's Criterion\", 'Leudesdorf Theorem', 'Multiple', \"Porter's Constant\", 'Relatively Prime', 'Rule of Nines', 'Steffi Problem', 'Strangers', 'Unitary Divisor', 'Unitary Divisor Function', \"Vorobiev's Theorem\", \"Znám's Problem\", 'Bogomolov-Miyaoka-Yau Inequality', 'Burnside Curve', 'Coates-Wiles Theorem', 'Elliptic Curve', 'Elliptic Curve Group Law', 'Elliptic Discriminant', 'Elliptic Exponential Function', 'Elliptic Logarithm', 'Epsilon Conjecture', 'Fermat Elliptic Curve Theorem', 'Frey Curve', 'Hyperelliptic Curve', 'j-Conductor', 'j-Invariant', 'Lenstra Elliptic Curve Method', 'Modularity Theorem', 'Mordell Curve', 'Mordell-Weil Theorem', 'Ochoa Curve', \"Ribet's Theorem\", 'Schoof-Elkies-Atkin Algorithm', 'Semicubical Parabola', 'Semistable', \"Siegel's Theorem\", 'Swinnerton-Dyer Conjecture', \"Szpiro's Conjecture\", 'Taniyama-Shimura Conjecture', \"Vojta's Conjecture\", 'Weierstrass Form', \"Dye's Theorem\", 'Endomorphism', 'Ergodic Measure', 'Ergodic Theory', 'KMS Condition', 'Kronecker-Weyl Theorem', 'Kubo-Martin-Schwinger Condition', 'Lévy Flight', 'Lévy Process', 'Lévy Walk', \"Ornstein's Theorem\", 'Pesin Theory', 'Poisson Process', 'Quantum Stochastic Calculus', 'Stochastic', 'Additive Number Theory', 'Analytic Number Theory', 'Computational Number Theory', 'Elementary Methods', 'Elementary Number Theory', 'Higher Arithmetic', 'Number Theory', 'Dirichlet Series Generating Function', 'Enumerate', 'Exponential Generating Function', 'Generating Function', 'Pentagonal Number Theorem', \"Ramanujan's Sum Identity\", 'Subset Sum Problem', 'Euclidean Algorithm', 'Ferguson-Forcade Algorithm', 'Frobenius Coin Problem', 'Frobenius Equation', 'Frobenius Number', 'Frobenius Postage Stamp Problem', 'Frobenius Problem', 'Greatest Common Divisor', 'HJLS Algorithm', 'Integer Relation', 'Integration Problem', 'Knapsack Problem', 'Lattice Reduction', 'Lenstra-Lenstra-Lovasz Algorithm', 'LLL Algorithm', 'Postage Stamp Problem', 'PSLQ Algorithm', 'PSOS Algorithm', 'Stöhr Sequence', 'Subset Sum Problem', 'Consecutive Numbers', 'Even Number', 'Highly Cototient Number', 'I', 'Integer', 'N', 'Nonnegative Integer', 'Nonpositive Integer', 'Odd Number', 'Positive Integer', 'Rational Integer', 'Ring of Integers', 'Singly Even Number', 'Whole Number', 'Z', 'Z^-', 'Z^+', 'Z^*', 'Zero', \"Devil's Staircase\", 'Incommensurate', 'Irrational Number', 'Irrationality Estimate', 'Irrationality Exponent', 'Irrationality Measure', 'Irrationality Sequence', 'Lindemann-Weierstrass Theorem', \"Pythagoras's Constant\", \"Pythagoras's Theorem\", 'Square Root of 2', 'Square Root of 3', 'Stoneham Number', 'Surd', \"Theodorus's Constant\", \"Weyl's Criterion\", 'Absolutely Normal', 'Champernowne Constant', 'Dense', 'Equidistributed Sequence', 'Normal Number', 'Stoneham Number', 'Large Numbers', 'Numbers Representation', 'Small Numbers', 'Characters', 'Divisor Function', 'General Number Theoretic Functions', 'Greatest Common Divisor', 'Integer Functions', 'Least Common Multiple', 'Legendre Symbol', 'Number Theoretic Sums', 'Prime Counting Function', 'Totient Function', 'Binary Carry Sequence', 'Connell Sequence', 'Doubly Even Number', 'Even Number', 'Odd Number', 'Parity', 'Thue-Morse Constant', 'Miscellaneous Primes', 'Primality Testing', 'Prime Arrangements', 'Prime Clusters', 'Prime Counting Function', 'Prime Factorization', 'Prime Number Properties', 'Prime Number Sequences', 'Prime Number Theorem', 'Prime-Related Constants', 'Prime-Related Numbers', 'Prime Representations', 'Prime Sums and Products', 'Ax-Kochen Isomorphism Theorem', 'Hilbert Symbol', 'p-adic Integer', 'p-adic Norm', 'p-adic Number', 'Product Formula', 'Badly Approximable', \"Dirichlet's Approximation Theorem\", \"Freiman's Constant\", \"Hurwitz's Irrational Number Theorem\", \"Kronecker's Approximation Theorem\", 'Lagrange Number', 'Lagrange Spectrum', \"Liouville's Approximation Theorem\", 'Littlewood Conjecture', 'Rational Approximation', \"Roth's Theorem\", \"Segre's Theorem\", \"Siegel's Theorem\", \"Strang's Strange Figures\", \"Devil's Staircase\", 'Digit', 'Field of Rationals', 'Hundred-Dollar, Hundred-Digit Challenge\\nProblems', \"Niven's Theorem\", 'Q', 'OverscriptBox[Q, _]', 'Q^+', 'Quadratic Irrational Number', 'Quadratic Surd', 'Rational Number', 'Sequence Rank', 'Affinely Extended Real Numbers', 'Field of Reals', 'Projectively Extended Real Numbers', 'R', 'OverscriptBox[R, _]', 'R^*', 'R^-', 'R^+', 'Real Number', 'Real Number Picking', 'Real Numbers', 'Reals', 'R^n', 'Artin Reciprocity', \"Artin's Reciprocity Theorem\", 'Associate', 'Aureum Theorema', 'Balanced Binomial Coefficient', 'Biquadratic Reciprocity Theorem', 'Biquadratic Residue', 'Cubic Reciprocity Theorem', 'Cubic Residue', \"Euler's Quadratic Residue Theorem\", 'Extended Riemann Hypothesis', \"Gauss's Lemma\", 'Genus Theorem', 'Octic Reciprocity Theorem', 'Quadratic Nonresidue', 'Quadratic Reciprocity Theorem', 'Quadratic Residue', 'Reciprocity Theorem', 'Ceiling Function', 'Congruence', 'Floor Function', 'Fractional Part', 'Gauss Map', 'Integer Part', 'Integer Value', 'Mod', 'Nearest Integer Function', 'Nint', 'Power Ceilings', 'Power Floor Prime Sequence', 'Power Floors', 'Power Fractional Parts', 'Quotient', 'Rounding', 'Rounding Error', 'Roundoff Error', 'Truncate', '3n+1 Problem', '3x+1 Mapping', '196-Algorithm', 'A-Sequence', 'Addition Chain', 'Artistic Sequence', 'Associative Array', 'Automatic Set', 'B_2-Sequence', 'Banach Density', 'Beatty Sequence', 'Berlekamp-Massey Algorithm', 'Binary Plot', 'Binet Forms', 'Binomial Transform', 'Borwein Integrals', 'Brauer Chain', 'Brauer Number', 'Brauer-Scholz Conjecture', \"Brown's Criterion\", 'Carmichael Sequence', 'Casoratian', 'Cauchy-Davenport Theorem', 'Cauchy Sequence', 'Chi Inequality', 'Collatz Problem', 'Common Difference', 'Common Ratio', 'Complete Sequence', 'Connell Sequence', 'Convergent Sequence', 'Conway Sequence', 'Davenport-Schinzel Sequence', 'Decreasing Sequence', 'Double-Free Set', 'EKG Sequence', 'Equidistributed Sequence', 'Erdős-Szekeres Theorem', 'Erdős-Turán Conjecture', 'Erdős-Turán Discrepancy Bound', 'Euler Transform', 'Eventually', 'Eventually Periodic', 'Exponential Transform', 'Fibonacci Dual Theorem', 'Fractal Sequence', 'Geometric Sequence', 'Geometric Triple', 'Giuga Sequence', 'Graham-Pollak Sequence', 'Grid Shading Problem', 'Hailstone Number', 'Hansen Chain', 'Hansen Number', 'Hofstadter-Conway $10,000 Sequence', 'Hofstadter Figure-Figure Sequence', 'Hofstadter G-Sequence', 'Hofstadter H-Sequence', 'Hofstadter Male-Female Sequences', \"Hofstadter's Q-Sequence\", 'Hofstadter Sequences', 'Increasing Sequence', 'Independent Sequence', 'Infinitive Sequence', 'Integer Sequence', 'Integer Sequence Primes', 'Irrationality Sequence', 'Iteration Sequence', 'Joyce Sequence', 'Juggler Sequence', 'Klarner-Rado Sequence', 'Kolakoski Sequence', 'Legendre Transform', 'Lehmer Number', \"Levine-O'Sullivan Greedy Algorithm\", \"Levine-O'Sullivan Sequence\", 'Limit Inferior', 'Limit Superior', 'Linearly Dependent Sequences', 'Linus Sequence', 'Logarithmic Transform', 'Logarithmically Concave Polynomial', 'Logarithmically Concave Sequence', 'Longest Increasing Scattered Subsequence', 'Longest Increasing Subsequence', 'Lower-Trimmed Subsequence', 'Lucas Chain', 'Lucas Sequence', 'Lychrel Number', 'Majorization', \"Mallows' Sequence\", 'Markov Spectrum', 'Max Sequence', 'Maximal Sum-Free Set', 'Maximal Zero-Sum-Free Set', 'Melodic Sequence', 'Mex Sequence', 'Mian-Chowla Sequence', 'Möbius Transform', 'Monotone Convergence Theorem', 'Nonarithmetic Progression Sequence', 'Nonaveraging Sequence', 'Nondividing Set', 'Odd Sequence', 'Perfect Difference Set', 'Periodic Sequence', 'Perrin Sequence', 'Polynomial Sequence', 'Positive Definite Sequence', 'Primefree Sequence', 'Primitive Sequence', \"Recamán's Sequence\", 'Reeds-Sloane Algorithm', 's-Additive Sequence', 'Sally Sequence', 'Scholz-Brauer Conjecture', 'Scholz Conjecture', 'Self-Counting Sequence', 'Sequence', 'Sequence Density', 'Sequence Dispersion', 'Signature Sequence', \"Silverman's Sequence\", 'Smarandache Sequences', 'Spectrum Sequence', 'Steffensen Sequence', \"Stern's Diatomic Series\", 'Stirling Transform', 'Strongly Independent', 'Sturmian Sequence', 'Subsequence', 'Subsequences', 'Sum-Free Set', 'Sumset', 'Supremum Limit', 'Suzanne Set', 'Sylvester Cyclotomic Number', \"Szemerédi's Theorem\", 'Tangent Number', 'Triple-Free Set', 'U-Number', 'Ulam Number', \"Ulam's Problem\", 'Ulam Sequence', 'Unimodal Sequence', 'Upper-Trimmed Subsequence', \"van der Corput's Theorem\", 'Weakly Complete Sequence', 'Weakly Independent', \"Weyl's Criterion\", 'Wolfram Sequences', 'Digit-Related Numbers', 'Divisor-Related Numbers', 'Fibonacci Numbers', 'Figurate Numbers', 'Miscellaneous Special Numbers', 'Number Triangles', 'Palindromic Numbers', 'Prime-Related Numbers', 'Pseudoprimes', 'Sieve-Related Numbers', 'Word-Related Numbers', 'Algebraic Integer', 'Algebraic Number', 'Algebraically Independent', 'Constant Problem', 'E-Function', 'Four Exponentials Conjecture', \"Gelfond's Constant\", 'Gelfond-Schneider Constant', 'Gelfond-Schneider Theorem', \"Gelfond's Theorem\", 'Hermite-Lindemann Theorem', \"Hermite's Theorem\", 'Lindemann-Weierstrass Theorem', \"Liouville's Constant\", 'Liouville Number', 'Prime Algebraic Number', 'Radical Integer', \"Schanuel's Conjecture\", 'Shidlovskii Theorem', 'Six Exponentials Theorem', 'Thue Constant', 'Thue-Morse Constant', 'Transcendental Number', 'Uniformity Conjecture']\n",
            "Calculus and Analysis:\n",
            "['Continuity', 'Differential Calculus', 'Differential Equations', 'Fractional Calculus', 'General Calculus', 'Increasing and Decreasing', 'Integral Calculus', 'Integrals', 'Limits', 'Maxima and Minima', 'Mean-Value Theorems', 'Multivariable Calculus', 'Beltrami Identity', 'Bolza Problem', 'Brachistochrone Problem', 'Calculus of Variations', \"Dido's Problem\", 'Euler-Lagrange Derivative', 'Euler-Lagrange Differential Equation', 'Functional Calculus', 'Functional Derivative', 'Fundamental Lemma of Calculus of Variations', 'Goldschmidt Solution', 'Isoperimetric Problem', 'Isoperimetric Theorem', 'Isovolume Problem', 'Jacobi Differential Equation', 'Morse Function', 'Morse Theory', 'Navigation Problem', \"Plateau's Laws\", \"Plateau's Problem\", \"Sinclair's Soap Film Problem\", 'Tautochrone Problem', 'Variation', 'Weierstrass-Erdman Corner Condition', 'Butterfly Catastrophe', 'Catastrophe', 'Elliptic Umbilic Catastrophe', 'Fold Catastrophe', 'Hyperbolic Umbilic Catastrophe', 'Parabolic Umbilic Catastrophe', 'Analytic Continuation', 'Complex Derivatives', 'Complex Numbers', 'Conformal Mapping', 'Contours', 'Entire Functions', 'General Complex Analysis', 'Residues', 'Delay Differential Equations', 'Differential Equation Solving', 'Differential-Algebraic Equations', 'General Differential Equations', \"Green's Functions\", 'Harmonic Functions', 'Integral Equations', 'Ordinary Differential Equations', 'Partial Differential Equations', 'Angle Bracket', 'Bilinear Form', 'Bra', 'Differential', 'Differential Form', 'Differential k-Form', 'Dirac Notation', 'Eigenform', 'Exact Differential', 'Exact Form', 'Exterior Derivative', 'Exterior Power', 'Hasse-Minkowski Theorem', 'Hodge Star', 'Inexact Differential', 'Kähler Form', 'Ket', 'Kodaira Embedding Theorem', 'Lagrange Bracket', 'Legendre Transformation', 'Multilinear Form', 'One-Form', 'Pfaffian Form', \"Poincaré's Lemma\", 'Projection Operator', 'Rectifiable Current', \"Stokes' Theorem\", \"Sylvester's Signature\", 'Wedge Product', 'Differential Geometry of Curves', 'Differential Geometry of Surfaces', 'Ergodic Theory', 'General Differential Geometry', 'Geodesics', 'Metrics', 'Minimal Surfaces', 'Tensor Analysis', '2x mod 1 Map', 'Accumulation Point', 'Action', 'Adiabatic Invariant', 'Ambrose-Kakutani Theorem', 'Anosov Automorphism', 'Anosov Diffeomorphism', 'Anosov Flow', 'Anosov Map', \"Arnold's Cat Map\", 'Axiom A Flow', \"Baker's Map\", 'Bifurcation', 'Bifurcation Theory', \"Birkhoff's Ergodic Theorem\", \"Birkhoff's Inequality\", 'Cascade', 'Catastrophe Theory', 'Circle Map', 'Cobweb Plot', 'Codimension', 'Cusp Map', 'Dissipative System', 'Dynamical System', 'Fibonacci Chain Map', 'Flip Bifurcation', 'Flow', 'Fold Bifurcation', 'Frobenius-Perron Equation', 'Geodesic Flow', \"Hamilton's Equations\", 'Hamiltonian Map', 'Hamiltonian System', 'Hénon Attractor', 'Hénon-Heiles Equation', 'Hénon Map', 'Homoclinic Point', 'Homoclinic Tangle', 'Hopf Bifurcation', 'Integral Current', 'Integral of Motion', 'Invariant Manifold', 'Island', 'Isoenergetic Nondegeneracy', 'Isolating Integral', 'Kaplan-Yorke Map', 'Limit Cycle', 'Linear Stability', \"Liouville's Phase Space Theorem\", 'Logistic Map', 'Lorenz Attractor', 'Lozi Map', 'Lyapunov Characteristic Exponent', 'Lyapunov Characteristic Number', 'Lyapunov Dimension', 'Mann Iteration', 'Map Sink', 'Natural Invariant', 'Nonwandering', 'Oseledec Theorem', 'Phase Curve', 'Phase Flow', 'Phase Plane', 'Phase Portrait', 'Phase Space', 'Phase Transition', 'Pitchfork Bifurcation', 'Poincaré Map', 'Poincaré Section', 'Pointwise Dimension', 'Quasiperiodic Motion', 'Rössler Attractor', 'Rotation Number', 'Seed', 'Semiflow', 'Separatrix', 'Smale Horseshoe Map', 'Stability', 'Surface of Section', 'Swallowtail Catastrophe', 'Transcritical Bifurcation', 'Web Diagram', 'World Line', 'Cosine Constant', 'Cosine Fixed Point Constant', 'Cosine Superposition Constant', 'Dottie Number', 'Elliptic Fixed Point', 'Fixed Point', 'Fixed Point Node', 'Fixed Point Star', 'Fixed Point Theorem', 'Heteroclinic Point', \"Hillam's Theorem\", 'Hopf Bifurcation', 'Hyperbolic Fixed Point', 'Improper Node', 'Iterated Cosine Constant', 'Lefschetz Fixed Point Theorem', 'Lefschetz Trace Formula', 'Map Cycle', 'Map Fixed Point', \"Newton's Method\", 'Parabolic Fixed Point', 'Poincaré-Birkhoff Fixed Point Theorem', 'Schauder Fixed Point Theorem', 'Spiral Point', 'Stable Improper Node', 'Stable Node', 'Stable Spiral Point', 'Stable Star', 'Unstable Improper Node', 'Unstable Node', 'Unstable Spiral Point', 'Unstable Star', \"Abel's Duplication Formula\", \"Abel's Functional Equation\", 'Absorbing Set', 'Algebraic Conjugate Space', 'Amenable', 'Approximate Identity', 'Approximate Unit', 'Approximation Problem', 'Baire Category Theorem', 'Baire Function', 'Balanced Set', 'Banach-Alaoglu Theorem', 'Banach Algebra', 'Banach Completion', 'Banach Limit', 'Banach-Saks Theorem', 'Banach Space', 'Banach-Steinhaus Theorem', 'Bicommutant', 'Bicommutant Theorem', 'Bounded Approximation Property', 'Bounded Left Approximate Identity', 'Bounded Operator', 'Bump Function', 'C^*-Algebra Representation', 'C^infty Function', 'C^infty Topology', 'Carl Neumann Criterion', 'Cauchy Functional Equation', 'Cesàro Mean', 'Character', 'C^k Function', 'Closable Operator', 'Closed Operator', 'Co-Isometry', 'Coercive Functional', 'Commutant', 'Compact Operator', 'Complementary Subspace Problem', 'Complemented Subspace', 'Complete Linear Metric Space', 'Complete Metric', 'Complete Metric Space', 'Concentrated', 'Continuously Differentiable Function', 'Contractible Banach Algebra', 'Convergence in Mean', 'Current', 'Cyclic Operator', 'Cyclic Vector', 'Derivation', \"Dirichlet's Principle\", 'Discrete Group Algebra', 'Discrete Semigroup Algebra', 'Disk Algebra', 'Dual Space', 'Dual Vector Space', 'Eigenfunction', 'Equicontinuous', 'Essential Ideal', 'Essentially Unitary', 'Extreme Point', 'Extreme Set', 'Finsler Module', 'First Category', 'Flat Norm', 'Fréchet Space', 'Fredholm Alternative', 'Friedrichs Inequality', \"Fuglede's Conjecture\", 'Functional', 'Functional Analysis', 'Functional Equation', 'Gelfand Mazur Theorem', 'Gelfand-Naimark Theorem', 'Gelfand Theorem', 'Gelfand Transform', 'Generalized Function', 'Generalized Hilbert Algebra', \"Grothendieck's Theorem\", 'Group Algebra', 'Hahn-Banach Theorem', 'Hardy Space', 'Hereditary C^*-Subalgebra', 'Hilbert Algebra', 'Hilbert Basis', 'Hilbert C^*-Module', 'Hilbert-Schmidt Operator', 'Hilbert Space', 'Hochschild-Kamowitz Complex', 'Inner Product', 'Inner Product Space', 'Involutive Banach Algebra', 'Isometry Element', \"Kakutani's Fixed Point Theorem\", 'KMS Condition', 'Krein-Milman Theorem', 'Kubo-Martin-Schwinger Condition', 'L^2-Function', 'L^2-Inner Product', 'L^2-Space', 'L^infty-Space', 'Lax-Milgram Theorem', 'Left Hilbert Algebra', 'Linear Functional', 'Linear Manifold', 'Linear Space', 'Littlewood-Paley Decomposition', 'Local Banach *-Algebra', 'Local Banach Algebra', 'Local Base', 'Local C^*-Algebra', 'Locally Convex', 'L^p-Function', 'L^p-Space', 'Maximal Ideal Space', 'Meager Set', \"Milman's Theorem\", 'Minimal Banach Space', 'Minkowski Inner Product', 'Modular Hilbert Algebra', 'Multiplier Algebra', 'Nest and Nest Algebra', 'Noncommutative Topology', 'Nondegenerate Operator Action', 'Nonmeager Set', 'Norm Topology', 'Normal Element', 'Normed Banach Bimodule', 'Normed Banach Module', 'Open Mapping Theorem', 'Operator Extension', 'Operator Norm', 'Operator Spectrum', 'Partial Isometry Element', 'Poincaré-Friedrichs Inequalities', 'Poincaré Inequality', 'Polar Decomposition', 'Positive Element', 'Positive Linear Functional', 'Positive Map', 'Pre-C^*-Algebra', 'Pre-Hilbert Space', 'Preclosed Operator', 'Prime Banach Space', 'Principle of Uniform Boundedness', 'Projection Matrix', 'Quasi-Hilbert Algebra', 'Rayleigh-Ritz Variational Technique', 'Real Normed Algebra', 'Reflexive Space', 'Riesz-Fischer Theorem', \"Riesz's Theorem\", 'Right Hilbert Algebra', 'sigma-Strong Operator Topology', 'Schauder Basis', \"Schröder's Equation\", 'Second Category', 'Self-Adjoint Element', 'Self-Dual', 'Seminorm', 'Separating Vector', 'Shift Transformation', 'Sobolev Embedding Theorem', 'Spectral Theorem', 'Stably Unital', 'Stampacchia Theorem', 'State', 'T_1-Space', 'Tomita-Takesaki Theory', 'Topological Vector Space', 'Trace-Class Operator', 'Trace Operator', 'Umbral Algebra', 'Uniform Boundedness Principle', 'Uniformly Continuous', 'Uniformly Convex', 'Unilateral Shift', 'Unimodular Hilbert Algebra', 'Unitarily Equivalent', 'Unitary Element', 'Unitization', 'Vector Space Polar', 'Volterra Algebra', 'von Neumann Algebra', 'W^*-Algebra', 'Weak-* Topology', 'Weak Topology', 'Weakly Amenable', 'Weakly Complemented Subspace', 'Weighted Shift', 'Wiener Algebra', 'Absolute Value', 'Absolutely Monotonic Function', 'Additive Function', 'Almost Periodic Function', 'Antiperiodic Function', 'Arithmetic Function', 'Arithmetical Function', 'Bilinear Function', 'Borsuk-Ulam Theorem', 'Cadlag Function', 'Closed Map', 'Codomain', 'Complete Biorthogonal System', 'Complete Convex Function', 'Complete Orthogonal System', 'Completely Monotonic Function', 'Completely Multiplicative Function', 'Complex Map', 'Complex Modulus', 'Complex Variable', 'Composite Function', 'Conditional Intensity Function', 'Constant Map', 'Decreasing Function', 'Dependent Variable', 'Domain', 'Doubly Periodic Function', 'Elementary Function', \"Euler's Homogeneous Function Theorem\", 'Even Function', 'Excitation Function', 'Exciting Function', 'Exponentially Decreasing Function', 'Exponentially Increasing Function', 'Function', 'Function Centroid', 'Function Convex Hull', 'Function Space', 'Function Value', 'Fundamental Theorem of Symmetric Functions', 'Gram-Schmidt Orthonormalization', 'Gram-Schmidt Process', 'Hamburger Moment Problem', 'Hawkes Process', 'Homogeneous Function', 'Image', 'Immigrant', 'Implicit Function', 'Implicit Function Theorem', 'Increasing Function', 'Independent Variable', 'Injection', 'Integer Function', 'Inverse', 'Inverse Function', 'Inverse Function Theorem', \"Jensen's Theorem\", \"Kepler's Equation\", 'Lacunary Function', 'Least Period', 'Left Inverse', 'Linear Function', 'Linearly Dependent Functions', \"Liouville's Principle\", 'Lipschitz Function', 'Logarithmically Concave Function', 'Logarithmically Convex Function', 'Logarithmically Decreasing Function', 'Logarithmically Increasing Function', 'Many-to-One', 'Map', 'Map Germ', 'Map Orbit', 'Masser-Gramain Constant', 'Möbius Periodic Function', 'Monotone Function', 'Multilinear', 'Multiple-Valued Function', 'Multiplicative Function', 'Multivalued Function', 'Multivariate Function', 'Natural Boundary', 'Natural Domain', 'Negative Part', 'Nested Function', 'Normal Function', 'Numeric Function', 'Odd Function', 'Operation', 'Orthogonal Functions', 'Orthonormal Functions', 'Oscillating Function', 'Oscillation', 'Particularly Well-Behaved Functions', 'Path Trace', 'Period', 'Periodic Function', 'Periodic Point', 'Piecewise Linear Function', 'Plurisubharmonic Function', 'Polynomial Function', 'Positive Definite Function', 'Positive Part', 'Pre-Image', \"Pringsheim's Theorem\", 'Pseudoconcave Function', 'Pseudoconvex Function', 'Quasi-Concave Function', 'Quasi-Convex Function', 'Radial Function', 'Range', 'Real Analytic Function', 'Real Function', 'Real Variable', 'Rectifiable Set', 'Reflection Relation', 'Regular Sequence', \"Riemann's Moduli Problem\", \"Riemann's Moduli Space\", 'Right Inverse', 'Saltus', 'Scalar Function', 'Scalar-Valued Function', 'Schwartz Function', 'Schwartz Space', \"Schwarz's Inequality\", 'Semianalytic', \"Sharkovsky's Theorem\", 'Single-Valued Function', 'Singleton Function', 'Singly Periodic Function', 'Smooth Curve', 'Smooth Function', 'Special Function', 'Strictly Decreasing Function', 'Strictly Increasing Function', 'Surjection', 'Symmetric Function', 'Totally Multiplicative Function', 'Transcendental Equation', 'Transcendental Function', 'Triply Periodic Function', 'Unary Operation', 'Uniform Convexity', 'Univalent Function', 'Univariate Function', 'Unknown', 'Value', 'Variable', 'Vertical Line Test', 'Zero Map', 'Abelian Differential', 'Affine Space', 'Algebraic Function', 'Analysis', 'Argument', 'Argument Addition Relation', 'Argument Multiplication Relation', 'Banach Fixed Point Theorem', \"Bochner's Theorem\", 'Brouwer Fixed Point Theorem', 'Contingent Cone', 'Countable Additivity', 'Countable Monotonicity', 'Countable Subadditivity', 'Denjoy-Saks-Young Theorem', 'Dini Derivative', \"Dini's Theorem\", 'Finite Additivity', 'Finite Monotonicity', 'Finite Subadditivity', 'Gâteaux Derivative', 'Monotonic Function', 'Real Analysis', 'Set Function', 'Bed-of-Nails Function', 'Castle Rim Function', 'Closure Relation', 'Delta Function', 'Delta Sequence', 'Dirac Delta Function', 'Doublet Function', 'Gate Function', 'Generalized Function', 'Heaviside Lambda', 'Heaviside Pi', 'Heaviside Step Function', 'Impulse Pair', 'Impulse Symbol', 'Null Function', 'Poincaré-Bertrand Theorem', 'Ramp Function', 'Rectangle Function', 'Sampling Function', 'Sawtooth Wave', 'Shah Function', 'Sifting Property', 'Singular Support', \"Sokhotsky's Formula\", 'Square Wave', 'Staircase Function', 'Step Function', 'Triangle Function', 'Triangle Wave', 'Unit Box', 'Unit Step', 'Unit Step Function', 'Unit Triangle', 'Harmonic Functions', \"Abel's Inequality\", 'Abi-Khuzam Inequality', \"Archimedes' Axiom\", \"Archimedes' Lemma\", \"Archimedes' Postulate\", 'Arithmetic-Logarithmic-Geometric Mean\\nInequality', 'Average Function', 'Bernoulli Inequality', 'Bohr-Favard Inequalities', \"Brauer's Theorem\", \"Carleman's Inequality\", \"Cauchy's Inequality\", 'Chebyshev Inequality', 'Chebyshev Integral Inequality', 'Chebyshev Sum Inequality', \"Copson's Inequality\", 'Cylindrical Algebraic Decomposition', 'Cylindrical Parts', 'de Bruijn Constant', 'Exponential Inequality', \"Farkas's Lemma\", \"Flanders' Inequality\", \"Garfunkel's Inequality\", 'Generic Cylindrical Algebraic Decomposition', 'Greater', 'Greater than/Less than Symbol', \"Hadamard's Inequality\", \"Hardy's Inequality\", \"Hilbert's Constants\", \"Hilbert's Inequality\", \"Hlawka's Inequality\", 'Hölder Condition', \"Hölder's Inequalities\", 'Inequality', 'Isoperimetric Inequality', 'Isoperimetric Quotient', \"Jarnick's Inequality\", \"Jensen's Inequality\", \"Jordan's Inequality\", 'Kantorovich Inequality', 'Less', 'Lipschitz Condition', 'Lower Bound', \"Markov's Inequality\", 'Milin Conjecture', \"Minkowski's Inequalities\", \"Muirhead's Theorem\", \"Napier's Inequality\", \"Ostrowski's Inequality\", 'Phragmén-Lindêlöf Theorem', 'Polyhedron', 'Quantified System', \"Robin's Theorem\", 'Square Root Inequality', \"Steffensen's Inequality\", \"Stolarsky's Inequality\", 'Strict Inequality', 'Strong Subadditivity Inequality', 'Strong Triangle Inequality', 'Triangle Inequalities', 'Triangle Inequality', 'Triangular Inequalities', \"Turán's Inequalities\", 'Upper Bound', \"van der Corput's Inequality\", 'Weierstrass Product Inequality', \"Wilker's Inequalities\", \"Wirtinger's Inequality\", 'Wirtinger-Sobolev Isoperimetric Constants', 'Yff Conjecture', \"Yff's Inequality\", \"Young's Inequality\", \"Young's Integral\", 'Apodization Functions', 'Convolution', 'Fourier Transforms', 'General Integral Transforms', 'Radon Transforms', \"Bürmann's Theorem\", 'Gould and Hsu Matrix Inversion Formula', 'Krattenthaler Matrix Inversion Formula', 'Lagrange Inversion Theorem', \"Ludwig's Inversion Formula\", 'Möbius Inversion Formula', \"Teixeira's Theorem\", 'Abstract Manifold', 'Ahlfors-Bers Theorem', 'Algebraic Manifold', 'Ambient Isotopy', 'Analytic Torsion', 'Antipodal Map', 'Atiyah-Singer Index Theorem', 'Atlas', 'Axiom A Diffeomorphism', 'Baire Category Theorem', 'Baire Space', 'Beltrami Field', 'Berger-Kazdan Comparison Theorem', 'Bergman Space', 'Besov Space', \"Bing's Theorem\", 'Blaschke Conjecture', 'Bordism', 'Brouwer Degree', 'Calabi-Yau Space', \"Campbell's Theorem\", 'Cellular Space', 'Chart Tangent Space', \"Cheeger's Finiteness Theorem\", 'Closed Graph Theorem', 'Closed Manifold', 'Closing Lemma', 'Cobordant Manifold', 'Cohomology', 'Cohomotopy Group', 'Compact Manifold', 'Complex Manifold', 'Connected Sum Decomposition', 'Connex', 'Coordinate Chart', 'Diffeomorphic', 'Diffeomorphism', 'Differential k-Form', 'Donaldson Invariants', 'Exotic Cohomology', 'Flag Manifold', 'Flat Manifold', 'Freedman Theorem', 'Generalized Reeb Component', 'Grassmann Manifold', 'Grassmannian', 'h-Cobordism', 'h-Cobordism Theorem', 'Harmonic Map', 'Hodge Star', \"Hodge's Theorem\", 'Hyper-Kähler Manifold', 'Intrinsic Tangent Space', 'Jaco-Shalen-Johannson Torus Decomposition', 'Kähler Manifold', 'Kähler Metric', 'Kähler Structure', 'Kirby-Siebenmann Invariant', 'Koenigs-Poincaré Theorem', 'Lens Space', 'Lichnerowicz Formula', 'Lichnerowicz-Weitzenbock Formula', 'Manifold', 'Manifold Orientation', 'Manifold Tangent Vector', 'Map Degree', \"Marcus's Theorem\", 'Morse Inequalities', \"Nash's Embedding Theorem\", 'Nice Vector Field', 'Open Manifold', 'Parallel Transport', 'Partition of Unity', 'Poincaré Conjecture', 'Poincaré Dodecahedral Space', 'Poincaré Duality', 'Poincaré-Hopf Index Theorem', 'Poincaré Manifold', 'Poisson Manifold', 'Prime Manifold', 'Pseudo-Riemannian Manifold', 'Pseudo-Riemannian Metric', 'Quaternion Kähler Manifold', 'Reeb Component', 'Reebless', 'Regge Calculus', 'Reidemeister Torsion', 'Riemann Sphere', 'Riemannian Geometry', 'Riemannian Manifold', 'Riemannian Metric', 'Seiberg-Witten Equations', 'Smale Theorem', 'Smooth Manifold', 'Smooth Structure', 'Stallings-Zeeman Theorem', 'Stiefel Manifold', \"Stokes' Theorem\", 'Stratified Manifold', 'Submanifold', 'Submanifold Tangent Space', 'Submersion', 'Sutured Manifold', 'Symplectic Manifold', 'Taut Foliation', 'Topological Manifold', 'Transition Function', 'Transversal Intersection', 'Transversely Orientable Foliation', 'Trivialization', 'Whitehead Manifold', 'Whitehead Torsion', 'A-Integrable', 'Absolutely Continuous', 'Almost Surely', 'Banach Measure', 'Borel Hierarchy', 'Cantor Set', 'Carathéodory Derivative', 'Carathéodory Extension', 'Carathéodory Measure', 'Completeness Property', 'Complex Measure', 'Correlation Dimension', 'Countable Additivity', 'Countable Monotonicity', 'Countable Subadditivity', 'Darboux Integral', 'Darboux-Stieltjes Integral', 'Denjoy Integral', 'Denjoy-Saks-Young Theorem', \"Egoroff's Theorem\", \"Egorov's Theorem\", 'Energy', 'Essential Supremum', 'Euclidean Metric', 'Euler Integral', 'F_sigma Set', \"Fatou's Lemma\", \"Fatou's Theorems\", 'Finite Additivity', 'Finite Monotonicity', 'Finite Subadditivity', 'Fréchet Derivative', 'French Metro Metric', \"Frullani's Integral\", 'G_delta Set', 'Gauss Measure', 'Haar Integral', 'Hausdorff Measure', 'Hausdorff Paradox', 'Helson-Szegö Measure', \"Hopf's Theorem\", 'Jordan Measure', 'Jordan Measure Decomposition', 'KMS Condition', 'Kubo-Martin-Schwinger Condition', 'Lebesgue Covering Dimension', 'Lebesgue Decomposition', \"Lebesgue's Dominated Convergence Theorem\", 'Lebesgue Integrable', 'Lebesgue Integral', 'Lebesgue Measure', 'Lebesgue-Stieltjes Integral', 'Lebesgue Sum', 'Liouville Measure', \"Lusin's Theorem\", 'Mahler Measure', 'Measurable Function', 'Measurable Set', 'Measurable Rectangle', 'Measurable Space', 'Measure', 'Measure Algebra', 'Measure Space', 'Measure Theory', 'Measure Zero', 'Minkowski Measure', 'Monotonic Function', 'Mutual Energy', 'Outer Measure', 'Perron Integral', 'Pincherle Derivative', 'Pointwise Convergence', 'Polar Representation', 'Positive Measure', 'Premeasure', 'Product Measure', 'Radon Measure', 'Radon-Nikodym Derivative', 'Radon-Nikodym Theorem', 'Random-Cluster Model', 'Real Measure', 'Riemann Sum', 'Riesz Representation Theorem', \"Sard's Theorem\", 'Scrawny Cantor Set', 'Set Function', 'Singular Measure', 'Square Integrable', 'Stieltjes Integral', 'Titchmarsh Theorem', 'Total Variation', 'Complete Riemannian Metric', 'Diagonal Metric', 'Discrete Metric', 'Equivalent Metrics', 'Euclidean Metric', 'Hedgehog Metric', 'Kähler Metric', 'Light Cone', 'Line Element', 'Lorentzian Space', 'Manhattan Distance', 'Metric', 'Metric Discriminant', 'Metric Equivalence Problem', 'Metric Signature', 'Metric Tensor', 'Metric Topology', 'Metrizable Topology', 'Minkowski Inner Product', 'Minkowski Metric', 'Planar Space', 'Product Metric', 'Pseudo-Riemannian Metric', 'Pseudometric', 'Regge Calculus', 'Ricci Flow', 'Riemannian Metric', 'Scale Factor', 'Spacelike', 'Taxicab Metric', 'Timelike', \"Bombieri's Inequality\", 'Bombieri Inner Product', 'Bombieri Norm', 'L^1-Norm', 'L^2-Norm', 'L^infty-Norm', 'Landau-Kolmogorov Constants', 'Norm', \"Reznick's Identity\", 'Supremum Norm', 'Adomian Polynomial', 'Anticommutative', 'Anticommutator', 'Antilaplacian', 'Antilinear', 'Antisymmetric', 'Antiunitary', 'Closable Operator', 'Closed Operator', 'Conjugate Transpose', 'Cyclic Operator', 'Cyclic Vector', 'Generalized Hilbert Algebra', 'Hermitian Operator', 'Identity Operator', 'Involution', 'Left Hilbert Algebra', 'Linear Operator', 'Operand', 'Operator', 'Operator Extension', 'Operator Spectrum', 'Operator Theory', 'Perron-Frobenius Operator', 'Preclosed Operator', 'Right Hilbert Algebra', 'Scattering Operator', 'Scattering Theory', 'Separating Vector', 'Shift-Invariant Operator', 'Shift Operator', 'Tomita-Takesaki Theory', 'Unimodular Hilbert Algebra', 'Unitary', 'Wave Operator', 'Weierstrass Operator', \"Abel's Irreducibility Theorem\", \"Abel's Lemma\", 'AC Method', 'Additive Polynomial', 'Adomian Polynomial', 'Algebraic Element', \"Beauzamy and Dégot's Identity\", 'Berlekamp-Zassenhaus Algorithm', \"Bernstein's Inequality\", \"Bernstein's Polynomial Theorem\", 'Bieberbach Conjecture', 'Binomial', 'Bivariate Polynomial', 'Bouniakowsky Conjecture', 'Bring-Jerrard Quintic Form', 'Bring Quintic Form', \"Buchberger's Algorithm\", 'Christoffel-Darboux Formula', 'Christoffel-Darboux Identity', 'Christoffel Formula', 'Coefficient', 'Complex Polynomial', 'Complex Variable', 'Constant Polynomial', 'Content', 'Cubic Equation', 'Cubic Formula', 'Cubic Polynomial', \"de Moivre's Quintic\", \"Descartes' Sign Rule\", 'Disconnected Form', \"Eisenstein's Irreducibility Criterion\", 'Eliminant', 'Factorization', 'Fundamental Continuity Theorem', 'Fundamental Theorem of Algebra', \"Gauss's Polynomial Theorem\", \"Gauss's Root Theorem\", 'Gröbner Basis', 'Gröbner Walk', 'Harmonic Decomposition', \"Hilbert's Theorem\", 'Homogeneous Polynomial', \"Horner's Rule\", 'Hurwitz Polynomial', 'Icosahedral Equation', 'Indeterminate', 'Integer Polynomial', 'Integer-Representing Polynomial', 'Invertible Polynomial', 'Irreducible Polynomial', 'Isobaric Polynomial', 'Jensen Disk', 'Jensen Polynomial', \"Jensen's Theorem\", 'Kac Formula', \"Kronecker's Algorithm\", \"Kronecker's Polynomial Theorem\", 'Lagrange Resolvent', 'Landau-Mignotte Bound', 'Laurent Polynomial', 'Long Multiplication', \"Lucas's Root Theorem\", 'Lukács Theorem', \"Mason's Theorem\", 'Masser-Gramain Constant', 'Matrix Polynomial', 'Mignotte Bound', 'Milin Conjecture', 'Minimax Polynomial', 'Monic Polynomial', 'Monomial', 'Monomial Order', 'Multinomial', 'Multivariate Polynomial', \"Müntz's Theorem\", 'Newton-Girard Formulas', 'Normal Polynomial', 'Octahedral Equation', 'Orthogonal Polynomials', 'Polynomial', 'Polynomial Degree', 'Polynomial Discriminant', 'Polynomial Equation', 'Polynomial Factor Theorem', 'Polynomial Factorization', 'Polynomial Form', 'Polynomial Function', 'Polynomial Height', 'Polynomial Identity', 'Polynomial Map', 'Polynomial Matrix', 'Polynomial Norm', 'Polynomial Order', 'Polynomial Quotient', 'Polynomial Remainder', 'Polynomial Remainder Theorem', 'Polynomial Ring', 'Polynomial Roots', 'Polynomial Sequence', 'Polynomial Span', 'Polynomial Term', 'Power Polynomial', 'Prime Divisor', 'Primitive Part', 'Primitive Polynomial', 'Quadratic Polynomial', 'Quantic', 'Quartic Equation', 'Quartic Formula', 'Quintic Equation', 'Random Polynomial', 'Rational Function', 'Rational Polynomial', 'Rational Polynomial Function', 'Rational Zero Theorem', 'Real Polynomial', 'Real Variable', 'Reciprocal Polynomial', \"Rényi's Polynomial\", 'Resolvent Cubic', 'Resultant', 'Root Dragging Theorem', 'Root Separation', \"Ruffini's Rule\", \"Schinzel's Hypothesis\", \"Schönemann's Theorem\", 'Sendov Conjecture', 'Sextic Equation', 'Sparse Polynomial Square', 'Stable Polynomial', 'Stable Type', 'Subresultant', 'Swinnerton-Dyer Polynomial', 'Sylvester Matrix', 'Symmetric Polynomial', 'Synthetic Division', 'Term', 'Tetrahedral Equation', 'Trinomial', 'Tschirnhausen Transformation', 'Ultraradical', 'Unimodal Polynomial', 'Univariate Polynomial', 'Unknown', 'Variable', \"Vieta's Formulas\", \"Vieta's Substitution\", \"Wallis's Constant\", 'Zassenhaus-Berlekamp Algorithm', 'Zero Polynomial', '13th Root', 'Airy Function Zeros', 'Bessel Function Zeros', \"Bôcher's Theorem\", \"Bourget's Hypothesis\", 'Casus Irreducibilis', 'Chromatic Root', 'Domination Root', 'Eliminant', 'Fourier-Budan Theorem', \"Gauss's Root Theorem\", 'Gram Point', 'Hilbert-Pólya Conjecture', \"Jensen's Theorem\", \"Lucas's Root Theorem\", 'Montgomery-Odlyzko Law', \"Montgomery's Pair Correlation Conjecture\", 'Multiple Point', 'Multiple Root', 'Multiplicity', 'Newtonian Graph', 'Radical Root', 'Rational Zero Theorem', 'Resultant', 'Riemann Hypothesis', 'Riemann Zeta Function Zeros', 'Root', 'Root Dragging Theorem', 'Root Extraction', 'Root Linear Coefficient Theorem', 'Root Separation', \"Rouché's Theorem\", 'Separation Theorem', 'Simple Root', 'Stable Polynomial', 'Sylvester Matrix', 'Tanc Function', 'Tangent', \"Wallis's Constant\", 'Weierstrass Factor Theorem', 'Weierstrass Product Theorem', 'Xi-Function', 'Zero Separation', 'Zero Set', 'Asymptotic Series', 'BBP Formulas', 'Convergence', 'Double Series', 'Fourier Series', 'General Series', 'Series Expansions', 'Blow-Up', 'Essential Singularity', 'Isolated Singularity', 'Leading Order Analysis', 'Logarithmic Singularity', \"Mittag-Leffler's Theorem\", \"Picard's Great Theorem\", 'Pinch Point', 'Pole', 'Removable Singularity', 'Simple Pole', 'Singular Point', 'Singularity', 'Weierstrass-Casorati Theorem', 'Arithmetic-Geometric Mean', 'Bessel Functions', 'Clebsch-Gordan Related', 'Elliptic Functions', 'Elliptic Integrals', 'Erf', 'Exponentials', 'Factorials', 'Gamma Functions', 'Generalized Functions', 'Heun Functions', 'Hyperbolic Functions', 'Hypergeometric Functions', 'Inverse Trigonometric Functions', 'Logarithms', 'Mathieu Functions', 'Means', 'Miscellaneous Special Functions', 'Multivariate Functions', 'Named Integrals', 'Orthogonal Polynomials', 'Parabolic Cylinder Functions', 'Polygamma Functions', 'Polylogarithms', 'Powers', 'Product Functions', 'q-Series', 'Radicals', 'Riemann Zeta Function', 'Special Polynomials', 'Spherical Harmonics', 'Step Functions', 'Theta Functions', 'Trigonometric Functions']\n"
          ]
        }
      ]
    },
    {
      "cell_type": "code",
      "source": [
        "# Merge Topics and Subtopics to one dictionary\n",
        "for key, value in topics.items():\n",
        "  if key in sub_topics and sub_topics[key] is not None:\n",
        "    value.extend(sub_topics[key])\n",
        "    # Convert to set and back to list to remove duplicates and sort\n",
        "    new_value = list(set(value))\n",
        "    new_value.sort()\n",
        "    topics[key] = new_value"
      ],
      "metadata": {
        "id": "QKf2s1x5uT39"
      },
      "execution_count": 57,
      "outputs": []
    },
    {
      "cell_type": "code",
      "source": [
        "print(f\"topics dictionary length: {len(topics)}\")\n",
        "\n",
        "for key, value in random_sample:\n",
        "  print(f\"{key}:\\n{topics[key]}\")"
      ],
      "metadata": {
        "colab": {
          "base_uri": "https://localhost:8080/"
        },
        "id": "nTN1q33E_E4x",
        "outputId": "4cf8df5b-d3e2-49b9-ed37-cc0641d1da03"
      },
      "execution_count": 58,
      "outputs": [
        {
          "output_type": "stream",
          "name": "stdout",
          "text": [
            "topics dictionary length: 10\n",
            "Foundations of Mathematics:\n",
            "['0-Connected', '1-Connected', 'A New Kind of Science', 'AND', 'Abelian Category', 'Absorption Identities', 'Absorption Identity', 'Absorption Law', 'Ackermann Function', 'Additive Category', 'Additive Cellular Automaton', 'Additive Functor', 'Affine Hull', 'Algebra of Random Variables', 'Algebraic Geometry Stack', 'Allegory', 'Almost Everywhere Convergence', 'Apollonian Gasket', 'Arc Component', 'Arcwise-Connected', 'Associative Algebra', 'Axiom', 'Axiom Schema', 'Axiom of Choice', 'Axiom of Extensionality', 'Axiom of Foundation', 'Axiom of Infinity', 'Axiom of Replacement', 'Axiom of Subsets', 'Axiom of the Empty Set', 'Axiom of the Power Set', 'Axiom of the Sum Set', 'Axiom of the Unordered Pair', 'Axiomatic Set Theory', 'Axiomatic System', 'Axioms', 'Axioms of Subsets', 'Basepoint', 'Basis Element', 'Bicollared', 'Binary', 'Boolean Function', 'Bootstrap Percolation', 'Borel Hierarchy', 'Borel Measure', 'Borel Set', 'Borel Sigma-Algebra', 'Borel Space', 'Boundary', 'Boundary Map', 'Boundary Point', 'Boundary Set', 'Bounded', 'Bounded Set', 'Bounded from Above', 'Bounded from Below', 'Busy Beaver', \"Cantor's Discontinuum\", \"Carathéodory's Fundamental Theorem\", 'Cardinal Numbers', 'Categorical Axiomatic System', 'Categorical Variable', 'Category', 'Category Product', 'Category Theory', 'Causal Graph', 'Causal Invariance', 'Causal Network', 'Cayley Graph', 'Cellular Automaton', 'Champernowne Constant', 'Church-Rosser Property', 'Church-Turing Thesis', 'Circle Packing', 'Clopen', 'Closed', 'Closed Ball', 'Closed Disk', 'Closed Map', 'Closed Set', 'Closed-Form Solution', 'Closure', 'Code', 'Code 177', 'Code 2040', 'Code 912', 'Coequalizer', 'Collatz Problem', 'Combinator', 'Commutative Diagram', 'Commutative Monoid', 'Compact Closure', 'Compact Set', 'Compact Subset', 'Compact Support', 'Compactification', 'Compactum', 'Complete Metric Space', 'Complete Space', 'Completely Regular Space', 'Completion', 'Complex Number', 'Complexity', 'Computable Number', 'Computational Irreducibility', 'Computational Paradigm', 'Computational Reducibility', 'Concave', 'Cone Set', 'Confluent', 'Congruence Axioms', 'Connected Component', 'Connected Set', 'Connected Space', 'Connected im Kleinen', 'Consecutive Number Sequences', 'Contingent Cone', 'Continuity Axioms', 'Continuous Function', 'Continuous Map', 'Continuous Space', 'Contractibility', 'Contractible', 'Contravariant Functor', 'Convex', 'Convex Cone', 'Convex Function', 'Convex Set', 'Convexity Coefficient', 'Conway Sequence', \"Conway's Constant\", 'Coproduct', 'Cosmological Theorem', 'Covariant Functor', 'Covering Map', 'Covering Space', 'Critical Pair', 'Cubic Symmetric Graph', 'Cyclic Tag System', 'Cyclotomic Polynomial', 'Decidability', 'Decision Problem', 'Dense', 'Derived Set', 'Digit Count', 'Dimension Axiom', 'Direct Factor', 'Direct Product', 'Disconnected Set', 'Disconnected Space', 'Discrete Family', 'Discrete Set', 'Discrete Topology', 'Disk', 'Domain', 'Domain Invariance Theorem', 'Eilenberg-Steenrod Axioms', 'Elementary Cellular Automaton', 'Encoding', 'Endomorphism', 'Endpoint', 'Epimorphism', 'Equalizer', 'Equational Logic', 'Equidistance Postulate', 'Equivalence Classes', \"Euclid's Postulates\", 'Exact Functor', 'Excision Axiom', 'Experimental Mathematics', 'Extremals', 'F_sigma Set', 'Faithful Functor', 'Fast Walsh Transform', 'Feigenbaum Constant', 'Fiber', 'Fibered Category', 'Fibered Category Morphism', 'Field Axioms', 'Firing Squad Problem', 'First Category', 'Flawed Proofs', 'Flower of Life', 'Foliation', 'Foliation Leaf', 'Forgetful Functor', 'Formal Language', 'Free Product', \"Freyd's Theorem\", 'Functor', 'Fuzzy Logic', 'G_delta Set', 'General Logic', 'General Set Theory', 'Generalized Diameter', 'Generalized Mobile Automaton', 'Generalized Reeb Component', 'Genetic Algorithm', 'Gerbe', 'Gödel Number', \"Gödel's First Incompleteness Theorem\", 'Hadamard Matrix', 'Half-Closed Interval', 'Half-Space', 'Hausdorff Axioms', 'Heine-Borel Theorem', \"Helly's Theorem\", 'Hereditary Property', 'Heredity', \"Hilbert's Axioms\", \"Hofstadter's Q-Sequence\", 'Hofstadter-Conway $10,000 Sequence', 'Holonomy', 'Hom-Set', 'Homeomorphic', 'Homeomorphism Group', 'Homomorphic', 'Homomorphism', 'Homotopy Axiom', 'Hopf-Rinow Theorem', \"Hurwitz's Root Theorem\", 'Incidence Axioms', 'Induction Axiom', 'Initial Object', 'Injection', 'Integer Complexity', 'Interior', 'Interval', 'Isomorphism', 'Iterated Map', \"Kelvin's Conjecture\", 'Klein Quartic', 'Kleinian Group', 'Knuth-Bendix Completion Algorithm', \"Kolmogorov's Axioms\", 'Lag System', 'Landau Constant', \"Langton's Ant\", 'Lattice Theory', 'Least Significant Bit', 'Lebesgue Covering Dimension', 'Locally Compact', 'Locally Connected', 'Locally Finite Family', 'Locally Pathwise-Connected', 'Logic', 'Logical Operations', 'Logistic Equation', 'Logistic Map', 'Logistic Map--r=2', 'Logistic Map--r=4', 'Long Exact Sequence', 'Long Exact Sequence of a Pair Axiom', 'Look and Say Sequence', 'Lyusternik-Schnirelmann Theorem', \"Mackey's Theorem\", 'Magic Geometric Constants', 'Mathematical Paradigm', 'Mathematical Problems', 'Mathematics', 'Maze', \"Mergelyan's Theorem\", 'Method of Steepest Descent', 'Metric Space', 'Metric Topology', 'Metrizable Topology', 'Mobile Automaton', 'Model Theory', 'Monodromy', 'Monomorphism', 'Morphism', 'Multicomputation', 'Multicomputational Paradigm', 'Multicomputational Process', 'Multicomputational System', 'Multiply Connected', 'Multiway Graph', 'Multiway System', 'Munching Squares', 'Mutually Singular', 'Natural Isomorphism', 'Natural Transformation', 'Neighborhood', 'Nested Radical Constant', 'Net', 'New Kind of Science', \"Newton's Iteration\", 'Nice Vector Field', 'Nondeterministic Turing Machine', 'Nonstandard Analysis', 'OR', 'Object', 'One-Point Compactification', 'Open', 'Open Ball', 'Open Cover', 'Open Disk', 'Open Interval', 'Open Map', 'Open Neighborhood', 'Open Set', 'Order Topology', 'Ordering Axioms', 'Ordinal Numbers', 'Orthomorphism', 'Outer-Totalistic Cellular Automaton', 'Paradoxes', 'Parallel Postulate', 'Partial Orders', \"Pascal's Triangle\", \"Paterson's Worms\", 'Path-Connected', 'Pathwise-Connected', 'Peano Arithmetic', \"Peano's Axioms\", \"Playfair's Axiom\", 'Point-Set Topology', 'Polydisk', 'Polyomino Tiling', 'Postulate', 'Power Ceilings', 'Power Fractional Parts', 'Presburger Arithmetic', 'Presheaf of Categories', 'Primitive Recursive Function', 'Principle of Computational Equivalence', 'Principle of Permanence', 'Prize Problems', 'Prizes', 'Probability Axioms', 'Problem Collections', \"Proclus' Axiom\", 'Proof', 'Proofs', 'Propositional Calculus', 'Proved Conjectures', 'Pseudo-Convex Set', 'Pseudo-Tangent Cone', 'Pseudoconcave Function', 'Pseudoconvex Function', 'Pullback Map', 'Punctured Plane', 'Punctured Set', 'Quasi-Concave Function', 'Quasi-Convex Function', 'Quasi-Monte Carlo Integration', 'R-Category', 'Ramification Index', 'Recurrence Equation', 'Recursive Function', 'Recursive Sequence', 'Recursively Enumerable Set', 'Reduction Order', 'Reeb Component', 'Reebless', 'Refuted Conjectures', 'Region', 'Register Machine', 'Regular Borel Measure', 'Reinhardt Domain', 'Relations', 'Relative Topology', 'Residual Set', 'Reverse-Then-Add Sequence', \"Rice's Theorem\", 'Rule', 'Rule 102', 'Rule 110', 'Rule 126', 'Rule 150', 'Rule 158', 'Rule 182', 'Rule 188', 'Rule 190', 'Rule 220', 'Rule 222', 'Rule 250', 'Rule 28', 'Rule 30', 'Rule 50', 'Rule 54', 'Rule 60', 'Rule 62', 'Rule 90', 'Rule 94', 'Schur Functor', 'Second Countable Topology', 'Seed of Life', 'Self-Counting Sequence', 'Semilocally 1-Connected', 'Semilocally Simply Connected', 'Separable Morphism', 'Separation Axioms', 'Sequential Substitution System', 'Set Closure', 'Set Operations', 'Set Properties', 'Set Theory', 'Sets', 'Sierpiński Sieve', 'Sieve of Eratosthenes', 'Sigma-Compact Topological Space', 'Simply Connected', 'Smarandache Number', 'Solved Problems', 'Species', 'Square Root Algorithms', 'Stack of Groupoids', 'Star Convex', 'Stochastic', 'Strict Tensor Category', 'Subanalytic', 'Subbasis', 'Subcategory', 'Substitution System', 'Surjection', 'Sutured Manifold', 'T_2-Separation Axiom', 'T_2-Space', 'Tag System', 'Tangent Circles', 'Taut Foliation', 'Tensor Category', 'Tensor R-Category', 'Terminal Object', 'Ternary', 'Theorem Proving', 'Thue-Morse Sequence', \"Tietze's Extension Theorem\", 'Topological Basis', 'Topological Closure', 'Topologically Transitive', \"Topologist's Sine Curve\", 'Topos', 'Totalistic Cellular Automaton', 'Transversely Orientable Foliation', 'Trivial Loop', 'Trivial Topology', 'Truchet Tiling', 'Turing Machine', 'Turmite', 'Ulam Sequence', 'Ultrametric', 'Unicoherent Space', 'Uniform Convexity', 'Unit Interval', 'Unital Natural Transformation', 'Unital R-Module', 'Universal Algebra', 'Universal Turing Machine', 'Universality', 'Unsolved Problems', 'Walsh Function', 'Walsh Transform', 'WireWorld', 'Wolfram Axiom', 'Wolfram Sequences', \"Wolfram's Iteration\", 'XOR', 'Zariski Topology', 'Zermelo-Fraenkel Axioms', 'Zero Map', 'Zero Set', \"de Morgan's Laws\"]\n",
            "Number Theory:\n",
            "['196-Algorithm', '3n+1 Problem', '3x+1 Mapping', 'A-Sequence', 'Absolutely Normal', 'Addition Chain', 'Addition and Subtraction', 'Additive Number Theory', \"Aery's Constant\", 'Affinely Extended Real Numbers', 'Algebraic Congruence', 'Algebraic Constants', 'Algebraic Integer', 'Algebraic Number', 'Algebraic Number Theory', 'Algebraically Independent', 'Algebraics', 'Alternated Egyptian Product', 'Analytic Number Theory', 'Anthyphairetic Ratio', 'Antimorph', 'Antimorphic Number', \"Apery's Constant\", \"Apéry's Constant Continued Fraction\", \"Archimedes' Cattle Problem\", \"Archimedes' Revenge\", 'Arithmetic', 'Artin Reciprocity', \"Artin's Conjecture\", \"Artin's Constant\", \"Artin's Reciprocity Theorem\", 'Artistic Sequence', 'Ass and Mule Problem', 'Associate', 'Associative Array', 'Aureum Theorema', 'Automatic Set', 'Automorphic Forms', 'Ax-Kochen Isomorphism Theorem', 'B_2-Sequence', 'Bachet Equation', 'Badly Approximable', 'Balanced Binomial Coefficient', 'Banach Density', \"Bauer's Identical Congruence\", \"Bauer's Theorem\", 'Bauer-Muir Transformation', 'Baum-Sweet Sequence', \"Beal's Conjecture\", 'Beatty Sequence', 'Berlekamp-Massey Algorithm', 'Binary Carry Sequence', 'Binary Plot', 'Binary Sequences', 'Binet Forms', 'Binomial Transform', 'Biquadratic Reciprocity Theorem', 'Biquadratic Residue', 'Biunitary Divisor', 'Blankinship Algorithm', 'Bogomolov-Miyaoka-Yau Inequality', 'Bolyai Expansion', 'Boolean Arithmetic', 'Borwein Integrals', \"Brahmagupta's Problem\", 'Brauer Chain', 'Brauer Number', 'Brauer-Scholz Conjecture', 'Brjuno Number', \"Brown's Criterion\", 'Burnside Curve', 'Bézout Numbers', 'Cancellation Law', 'Cantor Set', 'Carefree Couple', 'Carmichael Condition', 'Carmichael Sequence', 'Casoratian', 'Casting Out Nines', 'Casting Out Sevens', \"Catalan's Conjecture\", \"Catalan's Constant\", \"Catalan's Constant Continued Fraction\", \"Catalan's Diophantine Problem\", 'Cauchy Sequence', 'Cauchy-Davenport Theorem', 'Ceiling Function', 'Champernowne Constant', 'Champernowne Constant Continued Fraction', 'Characters', 'Chebotarev Density Theorem', 'Chi Inequality', 'Chinese Congruence', 'Chinese Hypothesis', 'Chinese Remainder Theorem', 'Class Field', 'Class Field Theory', 'Class Group', 'Class Number', 'Class Numbers', 'Clock Arithmetic', 'Coates-Wiles Theorem', 'Coin Problem', 'Collatz Problem', 'Common Difference', 'Common Ratio', 'Common Residue', 'Complete Residue System', 'Complete Sequence', 'Computational Number Theory', 'Concordant Form', 'Congruence', 'Congruence Equation', 'Congruences', 'Congruent', 'Congruent Number', 'Congruum', 'Congruum Problem', 'Connell Sequence', 'Consecutive Numbers', 'Constant Digits', 'Constant Problem', 'Constants', 'Continued Fraction', 'Continued Fraction Constants', 'Continued Fraction Fundamental Recurrence\\nRelation', 'Continued Fractions', 'Convenient Number', 'Convergent', 'Convergent Sequence', 'Conway Sequence', 'Copeland-Erdős Constant Continued Fraction', 'Coprime', 'Crank Conjecture', 'Cubic Reciprocity Theorem', 'Cubic Residue', 'Cyclotomic Field', 'Davenport-Schinzel Sequence', 'Decreasing Sequence', 'Dedekind Domain', 'Dedekind Ring', 'Dense', \"Devil's Staircase\", 'Digit', 'Digit-Related Numbers', 'Diophantine', 'Diophantine Equation', 'Diophantine Equation--10th Powers', 'Diophantine Equation--2nd Powers', 'Diophantine Equation--3rd Powers', 'Diophantine Equation--4th Powers', 'Diophantine Equation--5th Powers', 'Diophantine Equation--6th Powers', 'Diophantine Equation--7th Powers', 'Diophantine Equation--8th Powers', 'Diophantine Equation--9th Powers', 'Diophantine Equation--nth Powers', 'Diophantine Equations', 'Diophantine Quadruple', 'Diophantine Set', 'Diophantus Property', \"Diophantus's Riddle\", 'Dirichlet Series Generating Function', 'Dirichlet Structure Constant', \"Dirichlet's Approximation Theorem\", 'Discrete Log', 'Discrete Logarithm', 'Divides', 'Divisibility Rules', 'Divisibility Tests', 'Divisible', 'Divisor', 'Divisor Function', 'Divisor-Related Numbers', 'Divisors', 'Double-Free Set', 'Doubly Even Number', 'Dragon Curve', \"Dye's Theorem\", 'E-Function', 'EKG Sequence', 'Egyptian Product', 'Elementary Methods', 'Elementary Number Theory', 'Elliptic Curve', 'Elliptic Curve Group Law', 'Elliptic Curves', 'Elliptic Discriminant', 'Elliptic Exponential Function', 'Elliptic Logarithm', 'Endomorphism', 'Engel Expansion', 'Enumerate', 'Epsilon Conjecture', 'Equidistributed Sequence', 'Erdős-Ivić Conjecture', 'Erdős-Moser Equation', 'Erdős-Straus Conjecture', 'Erdős-Szekeres Theorem', 'Erdős-Turán Conjecture', 'Erdős-Turán Discrepancy Bound', 'Ergodic Measure', 'Ergodic Theory', \"Euclid's Lemma\", 'Euclidean Algorithm', 'Euler Brick', 'Euler Quartic Conjecture', 'Euler Transform', \"Euler's Continued Fraction\", \"Euler's Quadratic Residue Theorem\", \"Euler's Sum of Powers Conjecture\", \"Euler's Totient Theorem\", 'Euler-Mascheroni Constant', 'Euler-Mascheroni Constant Continued Fraction', 'Even Number', 'Eventually', 'Eventually Periodic', 'Exact Covering System', 'Excludent', 'Exponential Generating Function', 'Exponential Transform', 'Extended Riemann Hypothesis', 'Factorial Reduction', \"Falting's Theorem\", 'Ferguson-Forcade Algorithm', 'Fermat Elliptic Curve Theorem', 'Fermat Equation', 'Fermat Quotient', \"Fermat's Last Theorem\", \"Fermat's Little Theorem\", \"Fermat's Little Theorem Converse\", \"Fermat's Sandwich Theorem\", \"Fermat's Theorem\", 'Fermat-Catalan Conjecture', 'Fibonacci Dual Theorem', 'Fibonacci Numbers', 'Field of Rationals', 'Field of Reals', 'Figurate Numbers', 'Floor Function', 'Four Exponentials Conjecture', 'Fractal Sequence', 'Fractional Congruence', 'Fractional Ideal', 'Fractional Part', 'Fractions', \"Freiman's Constant\", 'Frey Curve', 'Frobenius Coin Problem', 'Frobenius Equation', 'Frobenius Number', 'Frobenius Postage Stamp Problem', 'Frobenius Problem', 'Functional Congruence', 'Fundamental Discriminant', 'Fundamental Theorem of Genera', 'GCD-Closed Set', 'GK-Regular', 'Galois Imaginary', 'Gauss Map', \"Gauss's Class Number Conjecture\", \"Gauss's Class Number Problem\", \"Gauss's Continued Fraction\", \"Gauss's Criterion\", \"Gauss's Cyclotomic Formula\", \"Gauss's Lemma\", 'Gauss-Kuzmin Distribution', 'Gauss-Kuzmin-Wirsing Constant', 'Gaussian Brackets', \"Gelfond's Constant\", \"Gelfond's Theorem\", 'Gelfond-Schneider Constant', 'Gelfond-Schneider Theorem', 'General Arithmetic', 'General Number Theoretic Functions', 'General Number Theory', 'Generalized Continued Fraction', 'Generalized Fermat Equation', 'Generating Function', 'Generating Functions', 'Genus Theorem', 'Geometric Constants', 'Geometric Sequence', 'Geometric Triple', 'Giuga Sequence', 'Glaisher-Kinkelin Constant', 'Glaisher-Kinkelin Constant Continued Fraction', 'Global Field', 'Golden Ratio', 'Golomb-Dickman Constant', 'Golomb-Dickman Constant Continued Fraction', 'Graham-Pollak Sequence', 'Greatest Common Divisor', 'Greatest Dividing Exponent', 'Grid Shading Problem', 'HJLS Algorithm', 'Hailstone Number', 'Hansen Chain', 'Hansen Number', 'Hardy-Ramanujan Number', 'Harmonic Expansion', 'Harmonic Triple', 'Heegner Number', \"Hermite's Theorem\", 'Hermite-Lindemann Theorem', 'Heronian Tetrahedron', 'Higher Arithmetic', 'Highly Cototient Number', 'Hilbert Symbol', 'Hofstadter Figure-Figure Sequence', 'Hofstadter G-Sequence', 'Hofstadter H-Sequence', 'Hofstadter Male-Female Sequences', 'Hofstadter Sequences', \"Hofstadter's Q-Sequence\", 'Hofstadter-Conway $10,000 Sequence', \"Honaker's Problem\", 'Hundred-Dollar, Hundred-Digit Challenge\\nProblems', 'Hurwitz Equation', 'Hurwitz Number', \"Hurwitz's Irrational Number Theorem\", 'Hyperelliptic Curve', 'I', 'Idoneal Number', 'Incommensurate', 'Increasing Sequence', 'Independent Sequence', 'Infinitary Divisor', 'Infinitive Sequence', 'Integer', 'Integer Functions', 'Integer Part', 'Integer Relation', 'Integer Relations', 'Integer Sequence', 'Integer Sequence Primes', 'Integer Triangle', 'Integer Value', 'Integers', 'Integration Problem', 'Irrational Number', 'Irrational Numbers', 'Irrationality Estimate', 'Irrationality Exponent', 'Irrationality Measure', 'Irrationality Sequence', 'Iteration Sequence', 'Joyce Sequence', 'Juggler Sequence', 'KMS Condition', \"Khinchin's Constant\", \"Khinchin's Constant Continued Fraction\", 'Klarner-Rado Sequence', 'Knapsack Problem', 'Kolakoski Sequence', \"Korselt's Criterion\", \"Kronecker's Approximation Theorem\", 'Kronecker-Weyl Theorem', 'Kubo-Martin-Schwinger Condition', 'L-Series', 'LLL Algorithm', 'Lagrange Number', 'Lagrange Spectrum', \"Lagrange's Continued Fraction Theorem\", \"Laguerre's Continued Fraction\", \"Laguerre's Repeated Fraction\", \"Lambert's Continued Fraction\", 'Large Numbers', 'Lattice Reduction', 'Least Common Multiple', 'Least Significant Bit', 'Legendre Symbol', 'Legendre Transform', 'Lehmer Number', 'Lehner Continued Fraction', 'Lenstra Elliptic Curve Method', 'Lenstra-Lenstra-Lovasz Algorithm', 'Leudesdorf Theorem', \"Levine-O'Sullivan Greedy Algorithm\", \"Levine-O'Sullivan Sequence\", 'Limit Inferior', 'Limit Superior', 'Lindemann-Weierstrass Theorem', 'Linear Congruence Equation', 'Linearly Dependent Sequences', 'Linus Sequence', 'Liouville Number', \"Liouville's Approximation Theorem\", \"Liouville's Constant\", 'Littlewood Conjecture', 'Local Class Field Theory', 'Local Field', \"Lochs' Theorem\", 'Logarithmic Transform', 'Logarithmically Concave Polynomial', 'Logarithmically Concave Sequence', 'Longest Increasing Scattered Subsequence', 'Longest Increasing Subsequence', 'Lower-Trimmed Subsequence', 'Lucas Chain', 'Lucas Sequence', \"Lucas's Theorem\", 'Lychrel Number', 'Lévy Constant', 'Lévy Flight', 'Lévy Process', 'Lévy Walk', 'Majorization', \"Mallows' Sequence\", 'Markoff Number', 'Markov Equation', 'Markov Number', 'Markov Spectrum', 'Max Sequence', 'Maximal Sum-Free Set', 'Maximal Zero-Sum-Free Set', 'Melodic Sequence', 'Mephisto Waltz Sequence', 'Method of Exclusions', 'Mex Sequence', 'Mian-Chowla Sequence', 'Minimal Residue', \"Minkowski's Question Mark Function\", \"Mirimanoff's Congruence\", 'Miscellaneous Constants', 'Miscellaneous Primes', 'Miscellaneous Special Numbers', 'Mod', 'Modular Arithmetic', 'Modular Forms', 'Modular Inverse', 'Modularity Theorem', 'Modulo Multiplication Group', 'Modulo Order', 'Modulus', 'Monkey and Coconut Problem', 'Monomorph', 'Monotone Convergence Theorem', 'Mordell Conjecture', 'Mordell Curve', 'Mordell-Weil Theorem', 'Multigrade Equation', 'Multiple', 'Multiplication and Division', 'Multiplicative Order', 'Multiplicative Primitive Residue Class Group', 'Möbius Transform', 'N', 'Natural Logarithm of 10 Continued Fraction', 'Natural Logarithm of 2 Continued Fraction', 'Near Noble Number', 'Nearest Integer Continued Fraction', 'Nearest Integer Function', \"Newman's Conjecture\", 'Nint', \"Niven's Theorem\", 'Noble Number', 'Nonarithmetic Progression Sequence', 'Nonaveraging Sequence', 'Nondividing Set', 'Nonnegative Integer', 'Nonpositive Integer', 'Normal Number', 'Normal Numbers', 'Normal Polynomial', 'Number Bases', 'Number Field Signature', 'Number Theoretic Functions', 'Number Theoretic Sums', 'Number Theory', 'Number Triangles', 'Numbers', 'Numbers Representation', 'Ochoa Curve', 'Octic Reciprocity Theorem', 'Odd Number', 'Odd Sequence', \"Ornstein's Theorem\", 'OverscriptBox[Q, _]', 'OverscriptBox[R, _]', 'PSLQ Algorithm', 'PSOS Algorithm', 'Palindromic Numbers', 'Parity', 'Partial Denominator', 'Partial Numerator', 'Partial Quotient', 'Partition Function P Congruences', 'Partition Function Q Congruences', 'Pell Equation', 'Pentagonal Number Theorem', 'Perfect Cuboid', 'Perfect Difference Set', 'Perfect Pyramid', 'Perfect Tetrahedron', 'Periodic Continued Fraction', 'Periodic Sequence', 'Perrin Sequence', \"Perron's Continued Fraction\", 'Pesin Theory', 'Pi', 'Pi Continued Fraction', 'Picard Group', 'Pierce Expansion', \"Pillai's Conjecture\", 'Pisano Period', 'Pisot Constant', 'Pisot Number', 'Pisot-Vijayaraghavan Constant', 'Poisson Process', 'Polymorph', 'Polynomial Sequence', \"Porter's Constant\", 'Positive Definite Sequence', 'Positive Integer', 'Postage Stamp Problem', 'Power Ceilings', 'Power Equation', 'Power Floor Prime Sequence', 'Power Floors', 'Power Fractional Parts', 'Primality Testing', 'Prime Algebraic Number', 'Prime Arrangements', 'Prime Clusters', 'Prime Counting Function', 'Prime Cut', 'Prime Diophantine Equations', 'Prime Factorization', 'Prime Number Properties', 'Prime Number Sequences', 'Prime Number Theorem', 'Prime Numbers', 'Prime Representations', 'Prime Sums and Products', 'Prime-Related Constants', 'Prime-Related Numbers', 'Primefree Sequence', 'Primitive Root', 'Primitive Sequence', 'Product Formula', 'Projectively Extended Real Numbers', 'Prouhet-Tarry-Escott Problem', 'Pseudoprimes', \"Pythagoras's Constant\", \"Pythagoras's Theorem\", 'Pythagorean Fraction', 'Pythagorean Quadruple', 'Pythagorean Triad', 'Pythagorean Triangle', 'Pythagorean Triple', 'Q', 'Q^+', 'Quadratic Congruence Equation', 'Quadratic Irrational Number', 'Quadratic Nonresidue', 'Quadratic Reciprocity Theorem', 'Quadratic Residue', 'Quadratic Surd', 'Quantum Stochastic Calculus', 'Quotient', 'Quotient-Difference Algorithm', 'R', 'R^*', 'R^+', 'R^-', 'R^n', 'Rabbit Sequence', 'Radical Integer', 'Ramanujan Continued Fractions', \"Ramanujan's Square Equation\", \"Ramanujan's Sum Identity\", 'Ramanujan-Nagell Equation', 'Rational Approximation', 'Rational Distance Problem', 'Rational Distances', 'Rational Integer', 'Rational Number', 'Rational Numbers', 'Real Number', 'Real Number Picking', 'Real Numbers', 'Reals', \"Recamán's Sequence\", 'Reciprocity Theorem', 'Reciprocity Theorems', 'Recurrence Relation Constants', 'Reduced Residue System', 'Reeds-Sloane Algorithm', 'Regular Continued Fraction', 'Relatively Prime', 'Repeated Fraction', 'Residue', 'Residue Class', \"Ribet's Theorem\", 'Ring of Integers', \"Roth's Theorem\", 'Rounding', 'Rounding Error', 'Roundoff Error', 'Rule of Nines', 'Sally Sequence', \"Schanuel's Conjecture\", 'Scholz Conjecture', 'Scholz-Brauer Conjecture', 'Schoof-Elkies-Atkin Algorithm', \"Segre's Theorem\", 'Self-Counting Sequence', 'Semicubical Parabola', 'Semistable', 'Sequence', 'Sequence Density', 'Sequence Dispersion', 'Sequence Rank', 'Sequences', 'Set Modulus', 'Shafarevich Conjecture', \"Shanks' Algorithm\", 'Shidlovskii Theorem', 'Shift Transformation', \"Siegel's Theorem\", 'Sieve-Related Numbers', 'Signature Sequence', 'Signed Numbers', \"Silverman's Sequence\", 'Simple Continued Fraction', 'Singly Even Number', 'Six Exponentials Theorem', 'Small Numbers', 'Smarandache Sequences', \"Soldner's Constant\", \"Soldner's Constant Continued Fraction\", 'Solvable Congruence', 'Special Numbers', 'Spectrum Sequence', 'Square Root Constants', 'Square Root of 2', 'Square Root of 3', 'Square-Triangle Theorem', 'Steffensen Sequence', 'Steffi Problem', \"Stern's Diatomic Series\", 'Stirling Transform', 'Stochastic', 'Stoneham Number', \"Strang's Strange Figures\", 'Strangers', 'Strongly Independent', 'Sturmian Sequence', 'Stöhr Sequence', 'Suborder Function', 'Subsequence', 'Subsequences', 'Subset Sum Problem', 'Successive Square Method', 'Suitable Number', 'Sum-Free Set', 'Sumset', 'Supremum Limit', 'Surd', 'Suzanne Set', 'Swinnerton-Dyer Conjecture', 'Sylvester Cyclotomic Number', \"Szemerédi's Theorem\", \"Szpiro's Conjecture\", 'Tangent Number', 'Taniyama-Shimura Conjecture', \"Theodorus's Constant\", 'Thue Constant', 'Thue Equation', 'Thue Sequence', \"Thue's Theorem\", 'Thue-Morse Constant', 'Thue-Morse Sequence', 'Tijdeman-Zagier Conjecture', 'Totient Function', 'Transcendental Number', 'Transcendental Numbers', 'Transcendental Root Constants', 'Triple-Free Set', 'Truncate', 'Twin Pythagorean Triple', 'U-Number', 'Ulam Number', 'Ulam Sequence', \"Ulam's Problem\", 'Uniformity Conjecture', 'Unimodal Sequence', 'Unitary Divisor', 'Unitary Divisor Function', 'Upper-Trimmed Subsequence', \"Vojta's Conjecture\", \"Vorobiev's Theorem\", \"Wallis's Problem\", \"Waring's Problem\", 'Weakly Complete Sequence', 'Weakly Independent', 'Weierstrass Form', 'Weyl Sum', \"Weyl's Criterion\", 'Whole Number', \"Wilson's Theorem\", 'Wolfram Sequences', \"Wolstenholme's Theorem\", 'Word-Related Numbers', 'Z', 'Z^*', 'Z^+', 'Z^-', 'Zero', \"Znám's Problem\", 'e', 'e Continued Fraction', 'j-Conductor', 'j-Invariant', 'p-adic Integer', 'p-adic Norm', 'p-adic Number', 'p-adic Numbers', 's-Additive Sequence', \"van der Corput's Theorem\"]\n",
            "Calculus and Analysis:\n",
            "['13th Root', '2x mod 1 Map', 'A-Integrable', 'AC Method', \"Abel's Duplication Formula\", \"Abel's Functional Equation\", \"Abel's Inequality\", \"Abel's Irreducibility Theorem\", \"Abel's Lemma\", 'Abelian Differential', 'Abi-Khuzam Inequality', 'Absolute Value', 'Absolutely Continuous', 'Absolutely Monotonic Function', 'Absorbing Set', 'Abstract Manifold', 'Accumulation Point', 'Action', 'Additive Function', 'Additive Polynomial', 'Adiabatic Invariant', 'Adomian Polynomial', 'Affine Space', 'Ahlfors-Bers Theorem', 'Airy Function Zeros', 'Algebraic Conjugate Space', 'Algebraic Element', 'Algebraic Function', 'Algebraic Manifold', 'Almost Periodic Function', 'Almost Surely', 'Ambient Isotopy', 'Ambrose-Kakutani Theorem', 'Amenable', 'Analysis', 'Analytic Continuation', 'Analytic Torsion', 'Angle Bracket', 'Anosov Automorphism', 'Anosov Diffeomorphism', 'Anosov Flow', 'Anosov Map', 'Anticommutative', 'Anticommutator', 'Antilaplacian', 'Antilinear', 'Antiperiodic Function', 'Antipodal Map', 'Antisymmetric', 'Antiunitary', 'Apodization Functions', 'Approximate Identity', 'Approximate Unit', 'Approximation Problem', \"Archimedes' Axiom\", \"Archimedes' Lemma\", \"Archimedes' Postulate\", 'Argument', 'Argument Addition Relation', 'Argument Multiplication Relation', 'Arithmetic Function', 'Arithmetic-Geometric Mean', 'Arithmetic-Logarithmic-Geometric Mean\\nInequality', 'Arithmetical Function', \"Arnold's Cat Map\", 'Asymptotic Series', 'Atiyah-Singer Index Theorem', 'Atlas', 'Average Function', 'Axiom A Diffeomorphism', 'Axiom A Flow', 'BBP Formulas', 'Baire Category Theorem', 'Baire Function', 'Baire Space', \"Baker's Map\", 'Balanced Set', 'Banach Algebra', 'Banach Completion', 'Banach Fixed Point Theorem', 'Banach Limit', 'Banach Measure', 'Banach Space', 'Banach-Alaoglu Theorem', 'Banach-Saks Theorem', 'Banach-Steinhaus Theorem', \"Beauzamy and Dégot's Identity\", 'Bed-of-Nails Function', 'Beltrami Field', 'Beltrami Identity', 'Berger-Kazdan Comparison Theorem', 'Bergman Space', 'Berlekamp-Zassenhaus Algorithm', 'Bernoulli Inequality', \"Bernstein's Inequality\", \"Bernstein's Polynomial Theorem\", 'Besov Space', 'Bessel Function Zeros', 'Bessel Functions', 'Bicommutant', 'Bicommutant Theorem', 'Bieberbach Conjecture', 'Bifurcation', 'Bifurcation Theory', 'Bilinear Form', 'Bilinear Function', \"Bing's Theorem\", 'Binomial', \"Birkhoff's Ergodic Theorem\", \"Birkhoff's Inequality\", 'Bivariate Polynomial', 'Blaschke Conjecture', 'Blow-Up', \"Bochner's Theorem\", 'Bohr-Favard Inequalities', 'Bolza Problem', 'Bombieri Inner Product', 'Bombieri Norm', \"Bombieri's Inequality\", 'Bordism', 'Borel Hierarchy', 'Borsuk-Ulam Theorem', 'Bounded Approximation Property', 'Bounded Left Approximate Identity', 'Bounded Operator', 'Bouniakowsky Conjecture', \"Bourget's Hypothesis\", 'Bra', 'Brachistochrone Problem', \"Brauer's Theorem\", 'Bring Quintic Form', 'Bring-Jerrard Quintic Form', 'Brouwer Degree', 'Brouwer Fixed Point Theorem', \"Buchberger's Algorithm\", 'Bump Function', 'Butterfly Catastrophe', \"Bôcher's Theorem\", \"Bürmann's Theorem\", 'C^*-Algebra Representation', 'C^infty Function', 'C^infty Topology', 'C^k Function', 'Cadlag Function', 'Calabi-Yau Space', 'Calculus', 'Calculus of Variations', \"Campbell's Theorem\", 'Cantor Set', 'Carathéodory Derivative', 'Carathéodory Extension', 'Carathéodory Measure', 'Carl Neumann Criterion', \"Carleman's Inequality\", 'Cascade', 'Castle Rim Function', 'Casus Irreducibilis', 'Catastrophe', 'Catastrophe Theory', 'Cauchy Functional Equation', \"Cauchy's Inequality\", 'Cellular Space', 'Cesàro Mean', 'Character', 'Chart Tangent Space', 'Chebyshev Inequality', 'Chebyshev Integral Inequality', 'Chebyshev Sum Inequality', \"Cheeger's Finiteness Theorem\", 'Christoffel Formula', 'Christoffel-Darboux Formula', 'Christoffel-Darboux Identity', 'Chromatic Root', 'Circle Map', 'Clebsch-Gordan Related', 'Closable Operator', 'Closed Graph Theorem', 'Closed Manifold', 'Closed Map', 'Closed Operator', 'Closing Lemma', 'Closure Relation', 'Co-Isometry', 'Cobordant Manifold', 'Cobweb Plot', 'Codimension', 'Codomain', 'Coefficient', 'Coercive Functional', 'Cohomology', 'Cohomotopy Group', 'Commutant', 'Compact Manifold', 'Compact Operator', 'Complementary Subspace Problem', 'Complemented Subspace', 'Complete Biorthogonal System', 'Complete Convex Function', 'Complete Linear Metric Space', 'Complete Metric', 'Complete Metric Space', 'Complete Orthogonal System', 'Complete Riemannian Metric', 'Completely Monotonic Function', 'Completely Multiplicative Function', 'Completeness Property', 'Complex Analysis', 'Complex Derivatives', 'Complex Manifold', 'Complex Map', 'Complex Measure', 'Complex Modulus', 'Complex Numbers', 'Complex Polynomial', 'Complex Variable', 'Composite Function', 'Concentrated', 'Conditional Intensity Function', 'Conformal Mapping', 'Conjugate Transpose', 'Connected Sum Decomposition', 'Connex', 'Constant Map', 'Constant Polynomial', 'Content', 'Contingent Cone', 'Continuity', 'Continuously Differentiable Function', 'Contours', 'Contractible Banach Algebra', 'Convergence', 'Convergence in Mean', 'Convolution', 'Coordinate Chart', \"Copson's Inequality\", 'Correlation Dimension', 'Cosine Constant', 'Cosine Fixed Point Constant', 'Cosine Superposition Constant', 'Countable Additivity', 'Countable Monotonicity', 'Countable Subadditivity', 'Cubic Equation', 'Cubic Formula', 'Cubic Polynomial', 'Current', 'Cusp Map', 'Cyclic Operator', 'Cyclic Vector', 'Cylindrical Algebraic Decomposition', 'Cylindrical Parts', 'Darboux Integral', 'Darboux-Stieltjes Integral', 'Decreasing Function', 'Delay Differential Equations', 'Delta Function', 'Delta Sequence', 'Denjoy Integral', 'Denjoy-Saks-Young Theorem', 'Dependent Variable', 'Derivation', \"Descartes' Sign Rule\", 'Diagonal Metric', \"Dido's Problem\", 'Diffeomorphic', 'Diffeomorphism', 'Differential', 'Differential Calculus', 'Differential Equation Solving', 'Differential Equations', 'Differential Form', 'Differential Forms', 'Differential Geometry', 'Differential Geometry of Curves', 'Differential Geometry of Surfaces', 'Differential k-Form', 'Differential-Algebraic Equations', 'Dini Derivative', \"Dini's Theorem\", 'Dirac Delta Function', 'Dirac Notation', \"Dirichlet's Principle\", 'Disconnected Form', 'Discrete Group Algebra', 'Discrete Metric', 'Discrete Semigroup Algebra', 'Disk Algebra', 'Dissipative System', 'Domain', 'Domination Root', 'Donaldson Invariants', 'Dottie Number', 'Double Series', 'Doublet Function', 'Doubly Periodic Function', 'Dual Space', 'Dual Vector Space', 'Dynamical System', 'Dynamical Systems', \"Egoroff's Theorem\", \"Egorov's Theorem\", 'Eigenform', 'Eigenfunction', \"Eisenstein's Irreducibility Criterion\", 'Elementary Function', 'Eliminant', 'Elliptic Fixed Point', 'Elliptic Functions', 'Elliptic Integrals', 'Elliptic Umbilic Catastrophe', 'Energy', 'Entire Functions', 'Equicontinuous', 'Equivalent Metrics', 'Erf', 'Ergodic Theory', 'Essential Ideal', 'Essential Singularity', 'Essential Supremum', 'Essentially Unitary', 'Euclidean Metric', 'Euler Integral', \"Euler's Homogeneous Function Theorem\", 'Euler-Lagrange Derivative', 'Euler-Lagrange Differential Equation', 'Even Function', 'Exact Differential', 'Exact Form', 'Excitation Function', 'Exciting Function', 'Exotic Cohomology', 'Exponential Inequality', 'Exponentially Decreasing Function', 'Exponentially Increasing Function', 'Exponentials', 'Exterior Derivative', 'Exterior Power', 'Extreme Point', 'Extreme Set', 'F_sigma Set', 'Factorials', 'Factorization', \"Farkas's Lemma\", \"Fatou's Lemma\", \"Fatou's Theorems\", 'Fibonacci Chain Map', 'Finite Additivity', 'Finite Monotonicity', 'Finite Subadditivity', 'Finsler Module', 'First Category', 'Fixed Point', 'Fixed Point Node', 'Fixed Point Star', 'Fixed Point Theorem', 'Fixed Points', 'Flag Manifold', \"Flanders' Inequality\", 'Flat Manifold', 'Flat Norm', 'Flip Bifurcation', 'Flow', 'Fold Bifurcation', 'Fold Catastrophe', 'Fourier Series', 'Fourier Transforms', 'Fourier-Budan Theorem', 'Fractional Calculus', 'Fredholm Alternative', 'Freedman Theorem', 'French Metro Metric', 'Friedrichs Inequality', 'Frobenius-Perron Equation', \"Frullani's Integral\", 'Fréchet Derivative', 'Fréchet Space', \"Fuglede's Conjecture\", 'Function', 'Function Centroid', 'Function Convex Hull', 'Function Space', 'Function Value', 'Functional', 'Functional Analysis', 'Functional Calculus', 'Functional Derivative', 'Functional Equation', 'Functions', 'Fundamental Continuity Theorem', 'Fundamental Lemma of Calculus of Variations', 'Fundamental Theorem of Algebra', 'Fundamental Theorem of Symmetric Functions', 'G_delta Set', 'Gamma Functions', \"Garfunkel's Inequality\", 'Gate Function', 'Gauss Measure', \"Gauss's Polynomial Theorem\", \"Gauss's Root Theorem\", 'Gelfand Mazur Theorem', 'Gelfand Theorem', 'Gelfand Transform', 'Gelfand-Naimark Theorem', 'General Analysis', 'General Calculus', 'General Complex Analysis', 'General Differential Equations', 'General Differential Geometry', 'General Integral Transforms', 'General Series', 'Generalized Function', 'Generalized Functions', 'Generalized Hilbert Algebra', 'Generalized Reeb Component', 'Generic Cylindrical Algebraic Decomposition', 'Geodesic Flow', 'Geodesics', 'Goldschmidt Solution', 'Gould and Hsu Matrix Inversion Formula', 'Gram Point', 'Gram-Schmidt Orthonormalization', 'Gram-Schmidt Process', 'Grassmann Manifold', 'Grassmannian', 'Greater', 'Greater than/Less than Symbol', \"Green's Functions\", \"Grothendieck's Theorem\", 'Group Algebra', 'Gröbner Basis', 'Gröbner Walk', 'Gâteaux Derivative', 'Haar Integral', \"Hadamard's Inequality\", 'Hahn-Banach Theorem', 'Hamburger Moment Problem', \"Hamilton's Equations\", 'Hamiltonian Map', 'Hamiltonian System', 'Hardy Space', \"Hardy's Inequality\", 'Harmonic Analysis', 'Harmonic Decomposition', 'Harmonic Functions', 'Harmonic Map', 'Hasse-Minkowski Theorem', 'Hausdorff Measure', 'Hausdorff Paradox', 'Hawkes Process', 'Heaviside Lambda', 'Heaviside Pi', 'Heaviside Step Function', 'Hedgehog Metric', 'Helson-Szegö Measure', 'Hereditary C^*-Subalgebra', 'Hermitian Operator', 'Heteroclinic Point', 'Heun Functions', 'Hilbert Algebra', 'Hilbert Basis', 'Hilbert C^*-Module', 'Hilbert Space', \"Hilbert's Constants\", \"Hilbert's Inequality\", \"Hilbert's Theorem\", 'Hilbert-Pólya Conjecture', 'Hilbert-Schmidt Operator', \"Hillam's Theorem\", \"Hlawka's Inequality\", 'Hochschild-Kamowitz Complex', 'Hodge Star', \"Hodge's Theorem\", 'Homoclinic Point', 'Homoclinic Tangle', 'Homogeneous Function', 'Homogeneous Polynomial', 'Hopf Bifurcation', \"Hopf's Theorem\", \"Horner's Rule\", 'Hurwitz Polynomial', 'Hyper-Kähler Manifold', 'Hyperbolic Fixed Point', 'Hyperbolic Functions', 'Hyperbolic Umbilic Catastrophe', 'Hypergeometric Functions', 'Hénon Attractor', 'Hénon Map', 'Hénon-Heiles Equation', 'Hölder Condition', \"Hölder's Inequalities\", 'Icosahedral Equation', 'Identity Operator', 'Image', 'Immigrant', 'Implicit Function', 'Implicit Function Theorem', 'Improper Node', 'Impulse Pair', 'Impulse Symbol', 'Increasing Function', 'Increasing and Decreasing', 'Independent Variable', 'Indeterminate', 'Inequalities', 'Inequality', 'Inexact Differential', 'Injection', 'Inner Product', 'Inner Product Space', 'Integer Function', 'Integer Polynomial', 'Integer-Representing Polynomial', 'Integral Calculus', 'Integral Current', 'Integral Equations', 'Integral Transforms', 'Integral of Motion', 'Integrals', 'Intrinsic Tangent Space', 'Invariant Manifold', 'Inverse', 'Inverse Function', 'Inverse Function Theorem', 'Inverse Trigonometric Functions', 'Inversion Formulas', 'Invertible Polynomial', 'Involution', 'Involutive Banach Algebra', 'Irreducible Polynomial', 'Island', 'Isobaric Polynomial', 'Isoenergetic Nondegeneracy', 'Isolated Singularity', 'Isolating Integral', 'Isometry Element', 'Isoperimetric Inequality', 'Isoperimetric Problem', 'Isoperimetric Quotient', 'Isoperimetric Theorem', 'Isovolume Problem', 'Iterated Cosine Constant', 'Jaco-Shalen-Johannson Torus Decomposition', 'Jacobi Differential Equation', \"Jarnick's Inequality\", 'Jensen Disk', 'Jensen Polynomial', \"Jensen's Inequality\", \"Jensen's Theorem\", 'Jordan Measure', 'Jordan Measure Decomposition', \"Jordan's Inequality\", 'KMS Condition', 'Kac Formula', \"Kakutani's Fixed Point Theorem\", 'Kantorovich Inequality', 'Kaplan-Yorke Map', \"Kepler's Equation\", 'Ket', 'Kirby-Siebenmann Invariant', 'Kodaira Embedding Theorem', 'Koenigs-Poincaré Theorem', 'Krattenthaler Matrix Inversion Formula', 'Krein-Milman Theorem', \"Kronecker's Algorithm\", \"Kronecker's Polynomial Theorem\", 'Kubo-Martin-Schwinger Condition', 'Kähler Form', 'Kähler Manifold', 'Kähler Metric', 'Kähler Structure', 'L^1-Norm', 'L^2-Function', 'L^2-Inner Product', 'L^2-Norm', 'L^2-Space', 'L^infty-Norm', 'L^infty-Space', 'L^p-Function', 'L^p-Space', 'Lacunary Function', 'Lagrange Bracket', 'Lagrange Inversion Theorem', 'Lagrange Resolvent', 'Landau-Kolmogorov Constants', 'Landau-Mignotte Bound', 'Laurent Polynomial', 'Lax-Milgram Theorem', 'Leading Order Analysis', 'Least Period', 'Lebesgue Covering Dimension', 'Lebesgue Decomposition', 'Lebesgue Integrable', 'Lebesgue Integral', 'Lebesgue Measure', 'Lebesgue Sum', \"Lebesgue's Dominated Convergence Theorem\", 'Lebesgue-Stieltjes Integral', 'Lefschetz Fixed Point Theorem', 'Lefschetz Trace Formula', 'Left Hilbert Algebra', 'Left Inverse', 'Legendre Transformation', 'Lens Space', 'Less', 'Lichnerowicz Formula', 'Lichnerowicz-Weitzenbock Formula', 'Light Cone', 'Limit Cycle', 'Limits', 'Line Element', 'Linear Function', 'Linear Functional', 'Linear Manifold', 'Linear Operator', 'Linear Space', 'Linear Stability', 'Linearly Dependent Functions', 'Liouville Measure', \"Liouville's Phase Space Theorem\", \"Liouville's Principle\", 'Lipschitz Condition', 'Lipschitz Function', 'Littlewood-Paley Decomposition', 'Local Banach *-Algebra', 'Local Banach Algebra', 'Local Base', 'Local C^*-Algebra', 'Locally Convex', 'Logarithmic Singularity', 'Logarithmically Concave Function', 'Logarithmically Convex Function', 'Logarithmically Decreasing Function', 'Logarithmically Increasing Function', 'Logarithms', 'Logistic Map', 'Long Multiplication', 'Lorentzian Space', 'Lorenz Attractor', 'Lower Bound', 'Lozi Map', \"Lucas's Root Theorem\", \"Ludwig's Inversion Formula\", 'Lukács Theorem', \"Lusin's Theorem\", 'Lyapunov Characteristic Exponent', 'Lyapunov Characteristic Number', 'Lyapunov Dimension', 'Mahler Measure', 'Manhattan Distance', 'Manifold', 'Manifold Orientation', 'Manifold Tangent Vector', 'Manifolds', 'Mann Iteration', 'Many-to-One', 'Map', 'Map Cycle', 'Map Degree', 'Map Fixed Point', 'Map Germ', 'Map Orbit', 'Map Sink', \"Marcus's Theorem\", \"Markov's Inequality\", \"Mason's Theorem\", 'Masser-Gramain Constant', 'Mathieu Functions', 'Matrix Polynomial', 'Maxima and Minima', 'Maximal Ideal Space', 'Meager Set', 'Mean-Value Theorems', 'Means', 'Measurable Function', 'Measurable Rectangle', 'Measurable Set', 'Measurable Space', 'Measure', 'Measure Algebra', 'Measure Space', 'Measure Theory', 'Measure Zero', 'Metric', 'Metric Discriminant', 'Metric Equivalence Problem', 'Metric Signature', 'Metric Tensor', 'Metric Topology', 'Metrics', 'Metrizable Topology', 'Mignotte Bound', 'Milin Conjecture', \"Milman's Theorem\", 'Minimal Banach Space', 'Minimal Surfaces', 'Minimax Polynomial', 'Minkowski Inner Product', 'Minkowski Measure', 'Minkowski Metric', \"Minkowski's Inequalities\", 'Miscellaneous Special Functions', \"Mittag-Leffler's Theorem\", 'Modular Hilbert Algebra', 'Monic Polynomial', 'Monomial', 'Monomial Order', 'Monotone Function', 'Monotonic Function', \"Montgomery's Pair Correlation Conjecture\", 'Montgomery-Odlyzko Law', 'Morse Function', 'Morse Inequalities', 'Morse Theory', \"Muirhead's Theorem\", 'Multilinear', 'Multilinear Form', 'Multinomial', 'Multiple Point', 'Multiple Root', 'Multiple-Valued Function', 'Multiplicative Function', 'Multiplicity', 'Multiplier Algebra', 'Multivalued Function', 'Multivariable Calculus', 'Multivariate Function', 'Multivariate Functions', 'Multivariate Polynomial', 'Mutual Energy', 'Möbius Inversion Formula', 'Möbius Periodic Function', \"Müntz's Theorem\", 'Named Integrals', \"Napier's Inequality\", \"Nash's Embedding Theorem\", 'Natural Boundary', 'Natural Domain', 'Natural Invariant', 'Navigation Problem', 'Negative Part', 'Nest and Nest Algebra', 'Nested Function', \"Newton's Method\", 'Newton-Girard Formulas', 'Newtonian Graph', 'Nice Vector Field', 'Noncommutative Topology', 'Nondegenerate Operator Action', 'Nonmeager Set', 'Nonwandering', 'Norm', 'Norm Topology', 'Normal Element', 'Normal Function', 'Normal Polynomial', 'Normed Banach Bimodule', 'Normed Banach Module', 'Norms', 'Null Function', 'Numeric Function', 'Octahedral Equation', 'Odd Function', 'One-Form', 'Open Manifold', 'Open Mapping Theorem', 'Operand', 'Operation', 'Operator', 'Operator Extension', 'Operator Norm', 'Operator Spectrum', 'Operator Theory', 'Ordinary Differential Equations', 'Orthogonal Functions', 'Orthogonal Polynomials', 'Orthonormal Functions', 'Oscillating Function', 'Oscillation', 'Oseledec Theorem', \"Ostrowski's Inequality\", 'Outer Measure', 'Parabolic Cylinder Functions', 'Parabolic Fixed Point', 'Parabolic Umbilic Catastrophe', 'Parallel Transport', 'Partial Differential Equations', 'Partial Isometry Element', 'Particularly Well-Behaved Functions', 'Partition of Unity', 'Path Trace', 'Period', 'Periodic Function', 'Periodic Point', 'Perron Integral', 'Perron-Frobenius Operator', 'Pfaffian Form', 'Phase Curve', 'Phase Flow', 'Phase Plane', 'Phase Portrait', 'Phase Space', 'Phase Transition', 'Phragmén-Lindêlöf Theorem', \"Picard's Great Theorem\", 'Piecewise Linear Function', 'Pinch Point', 'Pincherle Derivative', 'Pitchfork Bifurcation', 'Planar Space', \"Plateau's Laws\", \"Plateau's Problem\", 'Plurisubharmonic Function', 'Poincaré Conjecture', 'Poincaré Dodecahedral Space', 'Poincaré Duality', 'Poincaré Inequality', 'Poincaré Manifold', 'Poincaré Map', 'Poincaré Section', \"Poincaré's Lemma\", 'Poincaré-Bertrand Theorem', 'Poincaré-Birkhoff Fixed Point Theorem', 'Poincaré-Friedrichs Inequalities', 'Poincaré-Hopf Index Theorem', 'Pointwise Convergence', 'Pointwise Dimension', 'Poisson Manifold', 'Polar Decomposition', 'Polar Representation', 'Pole', 'Polygamma Functions', 'Polyhedron', 'Polylogarithms', 'Polynomial', 'Polynomial Degree', 'Polynomial Discriminant', 'Polynomial Equation', 'Polynomial Factor Theorem', 'Polynomial Factorization', 'Polynomial Form', 'Polynomial Function', 'Polynomial Height', 'Polynomial Identity', 'Polynomial Map', 'Polynomial Matrix', 'Polynomial Norm', 'Polynomial Order', 'Polynomial Quotient', 'Polynomial Remainder', 'Polynomial Remainder Theorem', 'Polynomial Ring', 'Polynomial Roots', 'Polynomial Sequence', 'Polynomial Span', 'Polynomial Term', 'Polynomials', 'Positive Definite Function', 'Positive Element', 'Positive Linear Functional', 'Positive Map', 'Positive Measure', 'Positive Part', 'Power Polynomial', 'Powers', 'Pre-C^*-Algebra', 'Pre-Hilbert Space', 'Pre-Image', 'Preclosed Operator', 'Premeasure', 'Prime Banach Space', 'Prime Divisor', 'Prime Manifold', 'Primitive Part', 'Primitive Polynomial', 'Principle of Uniform Boundedness', \"Pringsheim's Theorem\", 'Product Functions', 'Product Measure', 'Product Metric', 'Projection Matrix', 'Projection Operator', 'Pseudo-Riemannian Manifold', 'Pseudo-Riemannian Metric', 'Pseudoconcave Function', 'Pseudoconvex Function', 'Pseudometric', 'Quadratic Polynomial', 'Quantic', 'Quantified System', 'Quartic Equation', 'Quartic Formula', 'Quasi-Concave Function', 'Quasi-Convex Function', 'Quasi-Hilbert Algebra', 'Quasiperiodic Motion', 'Quaternion Kähler Manifold', 'Quintic Equation', 'Radial Function', 'Radical Root', 'Radicals', 'Radon Measure', 'Radon Transforms', 'Radon-Nikodym Derivative', 'Radon-Nikodym Theorem', 'Ramp Function', 'Random Polynomial', 'Random-Cluster Model', 'Range', 'Rational Function', 'Rational Polynomial', 'Rational Polynomial Function', 'Rational Zero Theorem', 'Rayleigh-Ritz Variational Technique', 'Real Analysis', 'Real Analytic Function', 'Real Function', 'Real Measure', 'Real Normed Algebra', 'Real Polynomial', 'Real Variable', 'Reciprocal Polynomial', 'Rectangle Function', 'Rectifiable Current', 'Rectifiable Set', 'Reeb Component', 'Reebless', 'Reflection Relation', 'Reflexive Space', 'Regge Calculus', 'Regular Sequence', 'Reidemeister Torsion', 'Removable Singularity', 'Residues', 'Resolvent Cubic', 'Resultant', \"Reznick's Identity\", 'Ricci Flow', 'Riemann Hypothesis', 'Riemann Sphere', 'Riemann Sum', 'Riemann Zeta Function', 'Riemann Zeta Function Zeros', \"Riemann's Moduli Problem\", \"Riemann's Moduli Space\", 'Riemannian Geometry', 'Riemannian Manifold', 'Riemannian Metric', 'Riesz Representation Theorem', \"Riesz's Theorem\", 'Riesz-Fischer Theorem', 'Right Hilbert Algebra', 'Right Inverse', \"Robin's Theorem\", 'Root', 'Root Dragging Theorem', 'Root Extraction', 'Root Linear Coefficient Theorem', 'Root Separation', 'Roots', 'Rotation Number', \"Rouché's Theorem\", \"Ruffini's Rule\", \"Rényi's Polynomial\", 'Rössler Attractor', 'Saltus', 'Sampling Function', \"Sard's Theorem\", 'Sawtooth Wave', 'Scalar Function', 'Scalar-Valued Function', 'Scale Factor', 'Scattering Operator', 'Scattering Theory', 'Schauder Basis', 'Schauder Fixed Point Theorem', \"Schinzel's Hypothesis\", \"Schröder's Equation\", 'Schwartz Function', 'Schwartz Space', \"Schwarz's Inequality\", \"Schönemann's Theorem\", 'Scrawny Cantor Set', 'Second Category', 'Seed', 'Seiberg-Witten Equations', 'Self-Adjoint Element', 'Self-Dual', 'Semianalytic', 'Semiflow', 'Seminorm', 'Sendov Conjecture', 'Separating Vector', 'Separation Theorem', 'Separatrix', 'Series', 'Series Expansions', 'Set Function', 'Sextic Equation', 'Shah Function', \"Sharkovsky's Theorem\", 'Shift Operator', 'Shift Transformation', 'Shift-Invariant Operator', 'Sifting Property', 'Simple Pole', 'Simple Root', \"Sinclair's Soap Film Problem\", 'Single-Valued Function', 'Singleton Function', 'Singly Periodic Function', 'Singular Measure', 'Singular Point', 'Singular Support', 'Singularities', 'Singularity', 'Smale Horseshoe Map', 'Smale Theorem', 'Smooth Curve', 'Smooth Function', 'Smooth Manifold', 'Smooth Structure', 'Sobolev Embedding Theorem', \"Sokhotsky's Formula\", 'Spacelike', 'Sparse Polynomial Square', 'Special Function', 'Special Functions', 'Special Polynomials', 'Spectral Theorem', 'Spherical Harmonics', 'Spiral Point', 'Square Integrable', 'Square Root Inequality', 'Square Wave', 'Stability', 'Stable Improper Node', 'Stable Node', 'Stable Polynomial', 'Stable Spiral Point', 'Stable Star', 'Stable Type', 'Stably Unital', 'Staircase Function', 'Stallings-Zeeman Theorem', 'Stampacchia Theorem', 'State', \"Steffensen's Inequality\", 'Step Function', 'Step Functions', 'Stiefel Manifold', 'Stieltjes Integral', \"Stokes' Theorem\", \"Stolarsky's Inequality\", 'Stratified Manifold', 'Strict Inequality', 'Strictly Decreasing Function', 'Strictly Increasing Function', 'Strong Subadditivity Inequality', 'Strong Triangle Inequality', 'Submanifold', 'Submanifold Tangent Space', 'Submersion', 'Subresultant', 'Supremum Norm', 'Surface of Section', 'Surjection', 'Sutured Manifold', 'Swallowtail Catastrophe', 'Swinnerton-Dyer Polynomial', 'Sylvester Matrix', \"Sylvester's Signature\", 'Symmetric Function', 'Symmetric Polynomial', 'Symplectic Manifold', 'Synthetic Division', 'T_1-Space', 'Tanc Function', 'Tangent', 'Taut Foliation', 'Tautochrone Problem', 'Taxicab Metric', \"Teixeira's Theorem\", 'Tensor Analysis', 'Term', 'Tetrahedral Equation', 'Theta Functions', 'Timelike', 'Titchmarsh Theorem', 'Tomita-Takesaki Theory', 'Topological Manifold', 'Topological Vector Space', 'Total Variation', 'Totally Multiplicative Function', 'Trace Operator', 'Trace-Class Operator', 'Transcendental Equation', 'Transcendental Function', 'Transcritical Bifurcation', 'Transition Function', 'Transversal Intersection', 'Transversely Orientable Foliation', 'Triangle Function', 'Triangle Inequalities', 'Triangle Inequality', 'Triangle Wave', 'Triangular Inequalities', 'Trigonometric Functions', 'Trinomial', 'Triply Periodic Function', 'Trivialization', 'Tschirnhausen Transformation', \"Turán's Inequalities\", 'Ultraradical', 'Umbral Algebra', 'Unary Operation', 'Uniform Boundedness Principle', 'Uniform Convexity', 'Uniformly Continuous', 'Uniformly Convex', 'Unilateral Shift', 'Unimodal Polynomial', 'Unimodular Hilbert Algebra', 'Unit Box', 'Unit Step', 'Unit Step Function', 'Unit Triangle', 'Unitarily Equivalent', 'Unitary', 'Unitary Element', 'Unitization', 'Univalent Function', 'Univariate Function', 'Univariate Polynomial', 'Unknown', 'Unstable Improper Node', 'Unstable Node', 'Unstable Spiral Point', 'Unstable Star', 'Upper Bound', 'Value', 'Variable', 'Variation', 'Vector Space Polar', 'Vertical Line Test', \"Vieta's Formulas\", \"Vieta's Substitution\", 'Volterra Algebra', 'W^*-Algebra', \"Wallis's Constant\", 'Wave Operator', 'Weak Topology', 'Weak-* Topology', 'Weakly Amenable', 'Weakly Complemented Subspace', 'Web Diagram', 'Wedge Product', 'Weierstrass Factor Theorem', 'Weierstrass Operator', 'Weierstrass Product Inequality', 'Weierstrass Product Theorem', 'Weierstrass-Casorati Theorem', 'Weierstrass-Erdman Corner Condition', 'Weighted Shift', 'Whitehead Manifold', 'Whitehead Torsion', 'Wiener Algebra', \"Wilker's Inequalities\", \"Wirtinger's Inequality\", 'Wirtinger-Sobolev Isoperimetric Constants', 'World Line', 'Xi-Function', 'Yff Conjecture', \"Yff's Inequality\", \"Young's Inequality\", \"Young's Integral\", 'Zassenhaus-Berlekamp Algorithm', 'Zero Map', 'Zero Polynomial', 'Zero Separation', 'Zero Set', 'de Bruijn Constant', \"de Moivre's Quintic\", 'h-Cobordism', 'h-Cobordism Theorem', 'q-Series', 'sigma-Strong Operator Topology', \"van der Corput's Inequality\", 'von Neumann Algebra']\n"
          ]
        }
      ]
    },
    {
      "cell_type": "code",
      "source": [
        "alg_2 = read_pickle(\"alg_2.pkl\")\n",
        "alg_3 = read_pickle(\"alg_3.pkl\")\n",
        "\n",
        "# merge alg_2 and alg_3 into 1 dictionary\n",
        "alg_dict = dict()\n",
        "\n",
        "for key, value in alg_2.items():\n",
        "  alg_dict[key] = value\n",
        "\n",
        "for key, value in alg_3.items():\n",
        "  alg_dict[key] = value\n",
        "\n",
        "print(f\"alg_dict dictionary length: {len(alg_dict)}\")\n",
        "random_sample = random.sample(list(alg_dict.items()), 3)\n",
        "\n",
        "for key, value in random_sample:\n",
        "  print(f\"{key}:\\n{value}\")"
      ],
      "metadata": {
        "colab": {
          "base_uri": "https://localhost:8080/"
        },
        "id": "qZGC6rcXLL6c",
        "outputId": "e0e5ce20-0af4-4137-e32f-459e0333dc94"
      },
      "execution_count": 59,
      "outputs": [
        {
          "output_type": "stream",
          "name": "stdout",
          "text": [
            "alg_dict dictionary length: 18\n",
            "Determinants:\n",
            "['Casoratian', \"Cauchy's Determinant Theorem\", 'Cayley-Menger Determinant', 'Chió Pivotal Condensation', 'Circulant Determinant', 'Cofactor', 'Condensation', 'Determinant', 'Determinant Expansion by Minors', 'Determinant Identities', 'Determinant Theorem', 'Gram Determinant', \"Gram's Inequality\", \"Hadamard's Maximum Determinant Problem\", \"Hadamard's Theorem\", 'Hafner-Sarnak-McCurley Constant', 'Hessian', 'Hill Determinant', 'Hyperdeterminant', 'Inversion Number', \"Jacobi's Determinant Identity\", \"Jacobi's Theorem\", 'Jacobian', 'Mills-Robbins-Rumsey Determinant Formula', 'Minor', 'PfaffianPivotal Condensation', \"Schweins's Theorem\", 'Stäckel Determinant', \"Sylvester's Determinant Identity\", 'Vandermonde Determinant']\n",
            "Matrix Operations:\n",
            "['Antihermitian Part', 'Antisymmetric Part', 'Conjugate Transpose', 'Conjugate Transpose Matrix', 'Echelon Form', 'Elementary Row and Column Operations', 'Fundamental Matrix Subspaces', 'Fundamental Theorem of Linear Algebra', 'Gauss-Jordan Algorithm', 'Gauss-Jordan Elimination', 'Gauss-Jordan Elimination Method', 'Gauss-Jordan Method', 'Gaussian Elimination', 'Hermitian Part', 'Hermitian Transpose', 'Infinitesimal Matrix Change', 'Invertible Matrix Theorem', 'Jacobi Transformation', 'Kronecker Product', 'Kronecker Sum', 'Matrix Addition', 'Matrix Diagonalization', 'Matrix Direct Product', 'Matrix Direct Sum', 'Matrix Equality', 'Matrix Exponential', 'Matrix Fraction', 'Matrix Multiplication', 'Matrix Power', 'Matrix Product', 'Moore-Penrose Pseudoinverse', 'Normal Equation', 'Pivoting', 'Reduced Echelon Form', 'Reduced Row Echelon Form', 'Row Canonical Form', 'Row Echelon Form', 'Row-Reduced Echelon Form', 'Sherman-Morrison Formula', 'Skew Hermitian Part', 'Square Root Method', 'Strassen Formulas', 'Symmetric Part', 'Transpose', 'Woodbury Formula']\n",
            "Linear Independence:\n",
            "[\"Fredholm's Theorem\", 'Linearly Dependent Functions', 'Linearly Dependent Vectors', 'Linearly Independent', 'Orthogonal', 'Vector Basis', 'Wronskian']\n"
          ]
        }
      ]
    },
    {
      "cell_type": "code",
      "source": [
        "all_topics = dict()\n",
        "for key, value in alg_dict.items():\n",
        "  all_topics[key] = value\n",
        "\n",
        "for key, value in topics.items():\n",
        "  all_topics[key] = value\n",
        "\n",
        "all_topics['Linear Algebra'] = all_topics['General Linear Algebra']\n",
        "del all_topics['General Linear Algebra']\n",
        "\n",
        "print(f\"all_topics dictionary length: {len(all_topics)}\")\n",
        "random_sample = random.sample(list(all_topics.items()), 3)\n",
        "\n",
        "for key, value in random_sample:\n",
        "  print(f\"{key}:\\n{value}\")"
      ],
      "metadata": {
        "colab": {
          "base_uri": "https://localhost:8080/"
        },
        "id": "ZSmGPgnCBxI0",
        "outputId": "200f5323-28f4-48f0-873a-9ccef8c81d5c"
      },
      "execution_count": 60,
      "outputs": [
        {
          "output_type": "stream",
          "name": "stdout",
          "text": [
            "all_topics dictionary length: 28\n",
            "Determinants:\n",
            "['Casoratian', \"Cauchy's Determinant Theorem\", 'Cayley-Menger Determinant', 'Chió Pivotal Condensation', 'Circulant Determinant', 'Cofactor', 'Condensation', 'Determinant', 'Determinant Expansion by Minors', 'Determinant Identities', 'Determinant Theorem', 'Gram Determinant', \"Gram's Inequality\", \"Hadamard's Maximum Determinant Problem\", \"Hadamard's Theorem\", 'Hafner-Sarnak-McCurley Constant', 'Hessian', 'Hill Determinant', 'Hyperdeterminant', 'Inversion Number', \"Jacobi's Determinant Identity\", \"Jacobi's Theorem\", 'Jacobian', 'Mills-Robbins-Rumsey Determinant Formula', 'Minor', 'PfaffianPivotal Condensation', \"Schweins's Theorem\", 'Stäckel Determinant', \"Sylvester's Determinant Identity\", 'Vandermonde Determinant']\n",
            "Matrix Properties:\n",
            "['Augmented Matrix', 'Bandwidth', 'Bourque-Ligh Conjecture', 'Cayley-Hamilton Theorem', 'Characteristic Equation', 'Combinatorial Matrix Theory', 'Condition Number', 'Diagonal', 'Diagonalizable Matrix', \"Fredholm's Theorem\", \"Grothendieck's Constant\", \"Horn's Theorem\", 'Ill-Conditioned Matrix', 'Immanant', 'Invariant Factor', 'Matrix', 'Matrix Equality', 'Matrix Minimal Polynomial', 'Matrix Rank', 'Matrix Signature', 'Matrix Trace', \"Roth's Removal Rule\", 'Segre Characteristic', 'Singular System', 'Skew Diagonal', 'Sturmian Separation Theorem', 'Subdiagonal', 'Superdiagonal', \"Sylvester's Criterion\", 'Totally Positive Matrix', 'Transition Matrix']\n",
            "Topology:\n",
            "['0-Connected', '1-Connected', 'Absolute Retract', 'Abstract Manifold', 'Abstract Simplicial Complex', 'Abstract Topological Space', 'Abstract Vector Space', 'Acyclic Chain Complex', \"Adams' Theorem\", 'Affine Hull', 'Ahlfors-Bers Theorem', 'Aleksandrov-Čech Cohomology', \"Alexander's Horned Sphere\", 'Alexander-Spanier Cohomology', 'Algebraic Gadget', 'Algebraic K-Theory', 'Algebraic Manifold', 'Algebraic Topology', 'Almost Everywhere Convergence', 'Alternating Knots', 'Ambient Isotopy', 'Amphichiral Knots', 'Analytic Torsion', 'Anchor', 'Anosov Flow', 'Antipodal Map', \"Antoine's Horned Sphere\", \"Antoine's Necklace\", 'Approximation Problem', 'Approximation Property', 'Arc Component', 'Arcwise-Connected', 'Associated Fiber Bundle', 'Associated Vector Bundle', 'Atiyah-Singer Index Theorem', 'Atlas', 'Axiom A Diffeomorphism', 'Axiom A Flow', 'Baire Category Theorem', 'Baire Space', 'Banach Space', 'Band', 'Base Manifold', 'Base Space', 'Basepoint', 'Basis Element', 'Beltrami Field', 'Berger-Kazdan Comparison Theorem', 'Bergman Space', 'Besov Space', 'Betti Number', 'Bicollared', \"Bing's Theorem\", 'Blaschke Conjecture', 'Bordism', 'Bordism Group', 'Borel Hierarchy', 'Borel Measure', 'Borel Set', 'Borel Sigma-Algebra', 'Borel Space', 'Boundary', 'Boundary Map', 'Boundary Point', 'Boundary Set', 'Bounded', 'Bounded Set', 'Bounded from Above', 'Bounded from Below', 'Boundedly Compact Space', 'Braids', 'Broom Space', 'Brouwer Degree', 'Bundle', 'Bundle Curvature', 'Bundle Map', 'Bundle Orientation', 'Bundle Rank', 'Bundle Section', 'Bundles', 'CW-Approximation Theorem', 'CW-Complex', 'Calabi-Yau Space', \"Campbell's Theorem\", 'Canonical Bundle', \"Cantor's Discontinuum\", 'Cap', \"Carathéodory's Fundamental Theorem\", 'Cellular Approximation Theorem', 'Cellular Map', 'Cellular Space', 'Chain Contraction', 'Character Space', 'Characteristic Class', 'Chart Tangent Space', \"Cheeger's Finiteness Theorem\", 'Chern Class', 'Chern Number', 'Chiral Knots', 'Circle Bundle', 'Classification Theorem of Surfaces', 'Clopen', 'Closed', 'Closed Ball', 'Closed Disk', 'Closed Graph Theorem', 'Closed Manifold', 'Closed Map', 'Closed Set', 'Closed Star', 'Closing Lemma', 'Closure', 'Cobordant Manifold', 'Cohomology', 'Cohomotopy Group', 'Coloring', 'Column Space', 'Comb Space', 'Combinatorial Topology', 'Commutative Diagram', 'Compact Closure', 'Compact Manifold', 'Compact Set', 'Compact Space', 'Compact Subset', 'Compact Support', 'Compact-Open Topology', 'Compactification', 'Compactness Theorem', 'Compactum', 'Complete Metric Space', 'Complete Space', 'Completely Regular Space', 'Completion', 'Complex Manifold', 'Complex Vector Bundle', 'Complex Vector Space', 'Concave', 'Cone Set', 'Confoliation', 'Connected Component', 'Connected Set', 'Connected Space', 'Connected Sum', 'Connected Sum Decomposition', 'Connected im Kleinen', 'Connecting Homomorphism', 'Connex', 'Contingent Cone', 'Continuous Function', 'Continuous Map', 'Continuous Space', 'Continuous Vector Bundle', 'Continuum', 'Contractibility', 'Contractible', 'Convex', 'Convex Cone', 'Convex Function', 'Convex Set', 'Convexity Coefficient', 'Conway Sphere', 'Coordinate Chart', 'Cotangent Bundle', 'Covering Map', 'Covering Space', 'Cross Surface', 'Cross-Cap', 'Cross-Handle', 'Cup Product', 'Cutting', 'Deck Transformation', 'Decomposable Continuum', 'Deformation Retract', 'Dehn Invariant', 'Dehn Surgery', \"Dehn's Lemma\", 'Dendrite', 'Dense', 'Derived Set', 'Diffeomorphic', 'Diffeomorphism', 'Differential Topology', 'Differential k-Form', 'Dimension', 'Dimension Axiom', 'Dimension Invariance Theorem', 'Disconnected Set', 'Disconnected Space', 'Disconnectivity', 'Discrete Family', 'Discrete Set', 'Discrete Topology', 'Disk', 'Divisible Property', 'Domain', 'Domain Invariance Theorem', 'Donaldson Invariants', \"Drinfeld's Symmetric Space\", 'Dual Bundle', 'Dual Normed Space', \"Dvoretzky's Theorem\", \"Dyck's Surface\", \"Dyck's Theorem\", 'Eilenberg-Mac Lane Space', 'Elliptic Plane', 'Embedding', 'Endpoint', 'Etale Space', 'Euclidean Space', 'Euclidean Topology', 'Euler Characteristic', 'Euler Number', 'Eversion', 'Exact Form', 'Exotic Cohomology', 'Exotic R^4', 'Exotic Sphere', 'Exponential Map', 'Extension Problem', 'Exterior', 'Extremals', 'F_sigma Set', 'Fiber', 'Fiber Bundle', 'Fiber Space', 'Fibration', 'Finsler Geometry', 'Finsler Metric', 'Finsler Space', 'First Category', 'First-Countable Space', 'Five Lemma', 'Flag Manifold', 'Flat', 'Flat Manifold', 'Foliation', 'Foliation Leaf', 'Four Lemma', 'Frame Bundle', 'Free', 'Freedman Theorem', 'Fréchet Space', 'Fréchet Topological Vector Space', 'Function Space', 'Fundamental Class', 'Fundamental Group', 'G-Space', 'G_delta Set', 'Gadget', 'Gauss-Bolyai-Lobachevsky Space', 'General Knot Theory', 'General Topology', 'Generalized Diameter', 'Generalized Reeb Component', 'Genus', 'Geodesic Flow', 'Geometric Realization', 'Geometrically Essential', 'Gerbe', 'Gift Wrap Theorem', 'Graded Module', 'Grassmann Manifold', 'Grassmannian', 'Green Space', 'H-Space', 'Hairy Ball Theorem', 'Half-Closed Interval', 'Half-Space', 'Hamel Basis', 'Handle', 'Handlebody', 'Harmonic Map', 'Hausdorff Axioms', 'Heegaard Diagram', 'Heegaard Splitting', 'Heine-Borel Theorem', 'Heisenberg Space', 'Helly Number', \"Helly's Theorem\", 'Hereditarily Decomposable Continuum', 'Hereditarily Unicoherent Continuum', 'Hereditary Property', 'Heredity', 'Hermitian Inner Product Space', 'Hilbert Space', 'Hodge Star', \"Hodge's Theorem\", 'Hole', 'Holography', 'Holomorphic Line Bundle', 'Holomorphic Tangent Bundle', 'Holomorphic Vector Bundle', 'Homeomorphic', 'Homeomorphic Type', 'Homeomorphism', 'Homeomorphism Group', 'Homogeneous Space', 'Homologous', 'Homology', 'Homology Class', 'Homology Intersection', 'Homotopic', 'Homotopy', 'Homotopy Axiom', 'Homotopy Class', 'Homotopy Equivalence', 'Homotopy Group', 'Homotopy Sphere', 'Homotopy Theory', 'Homotopy Type', 'Hopf Invariant One Theorem', 'Hopf Map', 'Hopf Trace Theorem', 'Hopf-Rinow Theorem', \"Hurwitz's Root Theorem\", 'Hyper-Kähler Manifold', 'Hyperbolic Knots', 'Hyperboloid Embedding', 'Hyperspace', 'Immersion', 'Indecomposable Continuum', 'Induced Map', 'Injection', 'Interior', 'Interval', 'Intrinsic Tangent Space', 'Invertible Knots', 'Isotope', 'Isotopy', 'Jaco-Shalen-Johannson Torus Decomposition', 'Jordan Curve Theorem', 'Jordan Decomposition Theorem', 'K-Theory', 'Kirby Calculus', \"Kirby's List\", 'Kirby-Siebenmann Invariant', 'Klein Bottle', 'Knot Invariants', 'Knot Operations', 'Knot Properties', 'Knot Theory', 'Knots', 'Koenigs-Poincaré Theorem', 'Kähler Manifold', 'Kähler Metric', 'Kähler Structure', 'L^2-Space', 'Landau Constant', 'Lebesgue Covering Dimension', 'Lefschetz Number', 'Lefschetz Trace Formula', 'Lens Space', 'Lichnerowicz Formula', 'Lichnerowicz-Weitzenbock Formula', 'Lichtenbaum-Quillen Conjecture', 'Lie Algebroid', 'Lift', 'Lifting Problem', 'Line Bundle', 'Links', 'Liouville Space', 'Local', 'Locally Compact', 'Locally Connected', 'Locally Finite Complex', 'Locally Finite Family', 'Locally Finite Space', 'Locally Pathwise-Connected', 'Loop Space', 'Low-Dimensional Topology', 'Lyusternik-Schnirelmann Theorem', 'Machine', \"Mackey's Theorem\", 'Magic Geometric Constants', 'Manifold', 'Manifold Orientation', 'Manifold Tangent Vector', 'Manifolds', 'Map Degree', 'Mapping Space', \"Marcus's Theorem\", 'May-Thomason Uniqueness Theorem', \"Mazur's Theorem\", \"Mergelyan's Theorem\", 'Metric Space', 'Metric Topology', 'Metrizable Topology', \"Milnor's Theorem\", 'Minkowski Space', 'Minkowski Sum', 'Modularity Theorem', 'Moduli Space', 'Morse Function', 'Morse Inequalities', 'Morse Theory', 'Multiply Connected', 'Mutation', 'Mutually Singular', 'Möbius Shorts', 'Möbius Strip', 'Müntz Space', \"Nash's Embedding Theorem\", 'Neighborhood', 'Nerve', 'Net', 'Nice Vector Field', 'Nonhyperbolic Knots', 'Nonsatellite Knots', 'Nontorus Knots', 'Normal Bundle', 'Normal Space', 'Normed Space', 'Normed Vector Space', 'Obstruction', 'One-Point Compactification', 'Open', 'Open Ball', 'Open Cover', 'Open Disk', 'Open Interval', 'Open Manifold', 'Open Map', 'Open Neighborhood', 'Open Set', 'Order Topology', 'Ordinary Surface', 'Orientable Manifold', 'Orthogonal', 'Orthogonal Subspaces', 'Orthogonal Sum', 'Paracompact Space', 'Parallel Transport', 'Parallelizable', 'Partition of Unity', 'Path', 'Path Space', 'Path-Connected', 'Pathwise-Connected', 'Pentaspherical Space', 'Perforation', 'Phase Space', 'Planar Space', 'Plumbing', 'Poincaré Conjecture', 'Poincaré Dodecahedral Space', 'Poincaré Duality', 'Poincaré Manifold', 'Poincaré-Hopf Index Theorem', 'Point-Set Topology', 'Pointed Map', 'Pointed Space', 'Poisson Manifold', 'Polish Space', 'Polydisk', 'Pontryagin Class', 'Pontryagin Duality', 'Pontryagin Number', 'Postnikov System', 'Presheaf', 'Presheaf of Categories', 'Pretzel Transformation', 'Prime Knots', 'Prime Manifold', 'Principal Bundle', 'Prismatic Ring', 'Product Space', 'Product Topology', 'Productive Property', 'Projective Space', 'Pseudo-Convex Set', 'Pseudo-Euclidean Space', 'Pseudo-Riemannian Manifold', 'Pseudo-Riemannian Metric', 'Pseudo-Tangent Cone', 'Pseudoconcave Function', 'Pseudoconvex Function', 'Pseudocrosscap', 'Pseudometric Topology', 'Punctured Plane', 'Punctured Set', 'Quasi-Concave Function', 'Quasi-Convex Function', 'Quaternion Kähler Manifold', 'Quillen-Lichtenbaum Conjecture', 'Quotient Space', 'Quotient Vector Space', 'Ramification Index', 'Real Projective Plane', 'Real Vector Space', 'Reeb Component', 'Reeb Foliation', 'Reebless', 'Regge Calculus', 'Region', 'Regular Borel Measure', 'Regular Isotopy', 'Regular Space', 'Reidemeister Torsion', 'Reinhardt Domain', 'Relative Topology', 'Residual Set', 'Retract', 'Retraction', 'Riemann Sphere', 'Riemannian Geometry', 'Riemannian Manifold', 'Riemannian Metric', 'Row Space', 'Satellite Knots', 'Schwartz Space', 'Schönflies Theorem', 'Second Countable Space', 'Second Countable Topology', 'Seiberg-Witten Equations', 'Seifert Surface', 'Semilocally 1-Connected', 'Semilocally Simply Connected', 'Separable Space', 'Separation Axioms', 'Set Closure', 'Sheaf', 'Sigma-Algebra', 'Sigma-Compact Topological Space', 'Sigma-Discrete Family', 'Sigma-Locally Finite Family', 'Simplicial Complex', 'Simplicial Complex Link', 'Simplicial Homology', 'Simplicial Homomorphism', 'Simplicial Map', 'Simplicial Subcomplex', 'Simply Connected', 'Singular Homology', 'Skeleton', 'Smale Horseshoe Map', 'Smale Theorem', 'Smale-Hirsch Theorem', 'Smooth Manifold', 'Smooth Structure', 'Sobolev Space', 'Souslin Set', 'Space', 'Space Cone', 'Spaces', 'Species', 'Spectral Theorem', 'Sphere Eversion', 'Stable Equivalence', 'Stallings-Zeeman Theorem', 'Standard Space', 'Star Convex', 'State Space', 'Steenrod Algebra', \"Steenrod's Realization Problem\", 'Stiefel Manifold', 'Stiefel-Whitney Class', 'Stiefel-Whitney Number', \"Stokes' Theorem\", 'Stone Space', 'Stone-Weierstrass Theorem', 'Stratified Manifold', 'Strong Deformation Retract', 'Structurally Stable', 'Subanalytic', 'Subbasis', 'Submanifold', 'Submanifold Tangent Space', 'Submersion', 'Subspace', 'Surgery', 'Surjection', \"Suslin's Theorem\", 'Suspension', 'Sutured Manifold', 'Symplectic Manifold', 'Symplectic Space', 'T_0-Separation Axiom', 'T_0-Space', 'T_1-Separation Axiom', 'T_1-Space', 'T_2-Separation Axiom', 'T_2-Space', 'T_3-Separation Axiom', 'T_3-Space', 'T_4-Separation Axiom', 'T_4-Space', 'Tangent Bundle', 'Tangent Bundle Section', 'Tangent Map', 'Tangent Space', 'Taniyama-Shimura Conjecture', 'Taut Foliation', 'Teichmüller Space', 'Tensor Space', 'Thurston Elliptization Conjecture', \"Thurston's Geometrization Conjecture\", \"Tietze's Extension Theorem\", 'Topological Basis', 'Topological Closure', 'Topological Cube', 'Topological Entropy', 'Topological Group', 'Topological Invariants', 'Topological Manifold', 'Topological Operations', 'Topological Space', 'Topological Structures', 'Topological Vector Space', 'Topologically Conjugate', 'Topologically Transitive', \"Topologist's Sine Curve\", 'Topology', 'Torus Cannibal', 'Torus Knots', 'Total Space', 'Totally Disconnected Space', 'Transition Function', 'Transversal Intersection', 'Transversely Orientable Foliation', 'Triangle Space', 'Triple Torus', 'Trivial Bundle', 'Trivial Loop', 'Trivial Topology', 'Trivialization', 'Tubular Neighborhood', 'Twistor Space', 'Tychonoff Plank', 'Tychonoff Space', 'Tychonoff Theorem', 'Ultrametric', 'Underlying Space', 'Unicoherent Space', 'Uniform Convexity', 'Unit Interval', 'Universal Cover', 'Universal Space', \"Urysohn's Lemma\", \"Urysohn's Metrization Theorem\", 'Vector Bundle', 'Vector Bundle Connection', 'Vector Field', 'Vector Space', 'Vertex Scheme', 'Vertex Set', 'Whitehead Manifold', 'Whitehead Torsion', \"Whitehead's Theorem\", 'Whitney Sum', 'Whitney-Graustein Theorem', 'Wild Point', \"Witten's Equations\", 'Zariski Topology', 'Zero Map', 'Zero Section', 'Zero Set', 'Zip', 'Zip-Pair', 'de Rham Cohomology', 'h-Cobordism', 'h-Cobordism Theorem', 'n-Space', \"van Kampen's Theorem\", 'Čech Cohomology']\n"
          ]
        }
      ]
    },
    {
      "cell_type": "code",
      "source": [
        "# Check 1: 1 mapping of keys values\n",
        "my_dict = dict()\n",
        "for key, value_list in all_topics.items():\n",
        "  for value in value_list:\n",
        "    if value not in my_dict.keys():\n",
        "      my_dict[value] = [key]\n",
        "    else:\n",
        "      my_dict[value].extend([key])\n",
        "\n",
        "map_to = dict()\n",
        "for key, value_list in my_dict.items():\n",
        "  if len(value_list) == 2:\n",
        "    if 'Recreational Mathematics' in value_list:\n",
        "      value_list.remove('Recreational Mathematics')\n",
        "      map_to[key] = value_list[0]\n",
        "\n",
        "# Create a list of keys to delete to avoid changing dictionary size during iteration\n",
        "keys_to_delete = [key for key in my_dict if key in map_to]\n",
        "\n",
        "# Delete the keys\n",
        "for key in keys_to_delete:\n",
        "  del my_dict[key]\n",
        "  # Delete from all_topics\n",
        "  all_topics['Recreational Mathematics'].remove(key)"
      ],
      "metadata": {
        "id": "2DRn9Dm_MB9i"
      },
      "execution_count": 61,
      "outputs": []
    },
    {
      "cell_type": "code",
      "source": [
        "# Choose linear algebra topic classification over other types\n",
        "all_topics_keys_to_remove = dict()\n",
        "keys_to_delete = list()\n",
        "\n",
        "for key, value_list in my_dict.items():\n",
        "  if len(value_list) == 2:\n",
        "    if 'Determinants' in value_list:\n",
        "      value_list.remove('Determinants')\n",
        "      all_topics_keys_to_remove[value_list[0]] = key\n",
        "      keys_to_delete.append(key)\n",
        "\n",
        "# Delete the keys\n",
        "for key in keys_to_delete:\n",
        "  del my_dict[key]\n",
        "\n",
        "for key, value in all_topics_keys_to_remove.items():\n",
        "  # Delete from all_topics\n",
        "  all_topics[key].remove(value)"
      ],
      "metadata": {
        "id": "RG5JQrJlPbJ9"
      },
      "execution_count": 62,
      "outputs": []
    },
    {
      "cell_type": "code",
      "source": [
        "my_dict = dict()\n",
        "for key, value_list in all_topics.items():\n",
        "  for value in value_list:\n",
        "    if value not in my_dict.keys():\n",
        "      my_dict[value] = [key]\n",
        "    else:\n",
        "      my_dict[value].extend([key])"
      ],
      "metadata": {
        "id": "0GhzpFQMUYu0"
      },
      "execution_count": 63,
      "outputs": []
    },
    {
      "cell_type": "code",
      "source": [
        "to_remove = {\n",
        "    \"Fundamental Matrix Subspaces\": ['Matrix Decomposition', 'Matrix Operations'],\n",
        "    \"Matrix Diagonalization\": ['Matrix Decomposition', 'Matrix Eigenvalues'],\n",
        "    \"Stochastic Matrix\": ['Algebra', 'Probability and Statistics'],\n",
        "    \"Hadamard Matrix\": ['Algebra', 'Foundations of Mathematics', 'Recreational Mathematics', 'Discrete Mathematics'],\n",
        "    \"Polynomial Matrix\": [ 'Algebra', 'Calculus and Analysis'],\n",
        "    \"Sylvester Matrix\": ['Algebra', 'Calculus and Analysis'],\n",
        "    \"Matrix Polynomial\": ['Algebra', 'Calculus and Analysis']\n",
        "    }\n",
        "\n",
        "for key, value_list in to_remove.items():\n",
        "  for val in value_list:\n",
        "    all_topics[val].remove(key)\n",
        "\n",
        "my_dict = dict()\n",
        "for key, value_list in all_topics.items():\n",
        "  for value in value_list:\n",
        "    if value not in my_dict.keys():\n",
        "      my_dict[value] = [key]\n",
        "    else:\n",
        "      my_dict[value].extend([key])"
      ],
      "metadata": {
        "id": "F2QLg8mfI4uB"
      },
      "execution_count": 64,
      "outputs": []
    },
    {
      "cell_type": "code",
      "source": [
        "to_remove = {\n",
        "    \"Lie Algebra\": ['Lie Theory', 'Lie Algebra']\n",
        "    ,\"Fredholm's Theorem\": ['Linear Independence', 'Matrix Properties']\n",
        "    ,\"Jacobi Identities\": ['Lie Algebra', 'Lie Groups']\n",
        "    ,\"Flag Manifold\": ['Lie Groups', 'Calculus and Analysis']\n",
        "    ,\"Lie-Type Group\": ['Lie Groups', 'Discrete Mathematics']\n",
        "    ,\"Special Linear Group\": ['Lie Groups', 'Discrete Mathematics']\n",
        "    ,\"Fundamental Theorem of Linear Algebra\": ['Matrix Decomposition', 'Matrix Operations']\n",
        "    ,\"Schur Decomposition\": ['Matrix Eigenvalues', 'Applied Mathematics']\n",
        "    ,\"Conjugate Transpose\": ['Matrix Types', 'Calculus and Analysis']\n",
        "    ,\"Analytic Torsion\": ['Calculus and Analysis', 'Topology']\n",
        "    ,\"Byzantine Generals Problem\": ['Algebra', 'Applied Mathematics']\n",
        "    ,\"Code\": ['Algebra', 'Foundations of Mathematics']\n",
        "    ,\"Commutative Diagram\": ['Algebra', 'Foundations of Mathematics']\n",
        "    ,\"Contractible\": ['Foundations of Mathematics', 'Topology']\n",
        "    ,\"Cyclotomic Polynomial\": ['Foundations of Mathematics', 'Discrete Mathematics']\n",
        "    ,\"Elliptic Curves\": ['Algebra', 'Geometry']\n",
        "    ,\"Encoding\": ['Algebra', 'Foundations of Mathematics']\n",
        "    ,\"Endomorphism\": ['Algebra', 'Foundations of Mathematics', 'Applied Mathematics', 'Geometry']\n",
        "    ,\"Ergodic Theory\": ['Algebra', 'Applied Mathematics', 'Geometry', 'Calculus and Analysis']\n",
        "    ,\"Gerbe\": [ 'Foundations of Mathematics', 'Topology']\n",
        "    ,\"Gröbner Basis\": ['Algebra', 'Discrete Mathematics']\n",
        "    ,\"Icosahedral Equation\": ['Algebra', 'Calculus and Analysis']\n",
        "    ,\"Kac Formula\": ['Algebra', 'Probability and Statistics']\n",
        "    ,\"Minimax Polynomial\": ['Probability and Statistics', 'Calculus and Analysis']\n",
        "    ,\"Modularity Theorem\": ['Algebra', 'Number Theory']\n",
        "    ,\"Noise\": ['Algebra', 'Applied Mathematics']\n",
        "    ,\"Normal Polynomial\": ['Calculus and Analysis', 'Number Theory']\n",
        "    ,\"Octahedral Equation\": ['Geometry', 'Calculus and Analysis']\n",
        "    ,\"Polynomial Sequence\": ['Algebra', 'Calculus and Analysis']\n",
        "    ,\"Power Polynomial\": ['Calculus and Analysis', 'Discrete Mathematics']\n",
        "    ,\"Real Vector Space\": ['Algebra', 'Topology']\n",
        "    ,\"Reidemeister Torsion\": ['Calculus and Analysis', 'Topology']\n",
        "    ,\"Taniyama-Shimura Conjecture\": ['Algebra', 'Topology']\n",
        "    ,\"Tetrahedral Equation\": ['Algebra', 'Geometry']\n",
        "    ,\"Vector Field\": ['Applied Mathematics', 'Topology']\n",
        "    ,\"Whitehead Torsion\": ['Algebra', 'Calculus and Analysis']\n",
        "    ,\"Zero Map\": ['Algebra', 'Foundations of Mathematics', 'Calculus and Analysis']\n",
        "    ,\"Borel Hierarchy\": ['Foundations of Mathematics', 'Topology']\n",
        "    ,\"Busy Beaver\": ['Foundations of Mathematics', 'Recreational Mathematics']\n",
        "    ,\"Circle Packing\": ['Foundations of Mathematics', 'Recreational Mathematics', 'Discrete Mathematics']\n",
        "    ,\"Closed Map\": ['Foundations of Mathematics', 'Calculus and Analysis']\n",
        "    ,\"Collatz Problem\": ['Foundations of Mathematics', 'Recreational Mathematics']\n",
        "    ,\"Complete Metric Space\": ['Foundations of Mathematics', 'Topology']\n",
        "    ,\"Contingent Cone\": ['Foundations of Mathematics', 'Calculus and Analysis']\n",
        "    ,\"Dense\": ['Foundations of Mathematics', 'Topology']\n",
        "    ,\"Domain\": ['Foundations of Mathematics', 'Calculus and Analysis', 'Topology']\n",
        "    ,\"Endpoint\": ['Foundations of Mathematics', 'Geometry']\n",
        "    ,\"F_sigma Set\": ['Foundations of Mathematics', 'Topology']\n",
        "    ,\"First Category\": ['Foundations of Mathematics', 'Calculus and Analysis']\n",
        "    ,\"G_delta Set\": ['Foundations of Mathematics', 'Calculus and Analysis']\n",
        "    ,\"Generalized Reeb Component\": ['Foundations of Mathematics', 'Topology']\n",
        "    ,\"Helly's Theorem\": ['Foundations of Mathematics', 'Geometry']\n",
        "    ,\"Hofstadter's Q-Sequence\": ['Foundations of Mathematics', 'Discrete Mathematics']\n",
        "    ,\"Hofstadter-Conway $10,000 Sequence\": ['Foundations of Mathematics', 'Discrete Mathematics']\n",
        "    ,\"Injection\": ['Foundations of Mathematics', 'Topology']\n",
        "    ,\"Lebesgue Covering Dimension\": ['Foundations of Mathematics', 'Calculus and Analysis']\n",
        "    ,\"Logistic Map\": ['Foundations of Mathematics', 'Applied Mathematics', 'Discrete Mathematics']\n",
        "    ,\"Logistic Map--r=2\": ['Foundations of Mathematics', 'Applied Mathematics']\n",
        "    ,\"Logistic Map--r=4\": ['Foundations of Mathematics', 'Applied Mathematics']\n",
        "    ,\"Metric Topology\": ['Foundations of Mathematics', 'Calculus and Analysis']\n",
        "    ,\"Metrizable Topology\": ['Foundations of Mathematics', 'Calculus and Analysis']\n",
        "    ,\"Net\": ['Foundations of Mathematics', 'Probability and Statistics']\n",
        "    ,\"Nice Vector Field\": ['Foundations of Mathematics', 'Topology']\n",
        "    ,\"Pseudoconcave Function\": ['Foundations of Mathematics', 'Topology']\n",
        "    ,\"Pseudoconvex Function\": ['Foundations of Mathematics', 'Topology']\n",
        "    ,\"Quasi-Concave Function\": ['Foundations of Mathematics', 'Topology']\n",
        "    ,\"Quasi-Convex Function\": ['Foundations of Mathematics', 'Topology']\n",
        "    ,\"Reeb Component\": ['Foundations of Mathematics', 'Calculus and Analysis']\n",
        "    ,\"Reebless\": ['Foundations of Mathematics', 'Calculus and Analysis']\n",
        "    ,\"Stochastic\": ['Foundations of Mathematics', 'Applied Mathematics', 'Geometry', 'Number Theory']\n",
        "    ,\"Surjection\": ['Foundations of Mathematics', 'Calculus and Analysis']\n",
        "    ,\"Sutured Manifold\": ['Foundations of Mathematics', 'Topology']\n",
        "    ,\"Taut Foliation\": ['Foundations of Mathematics', 'Topology']\n",
        "    ,\"Transversely Orientable Foliation\": ['Foundations of Mathematics', 'Topology']\n",
        "    ,\"Uniform Convexity\": ['Foundations of Mathematics', 'Topology']\n",
        "    ,\"Zero Set\": ['Foundations of Mathematics', 'Topology']\n",
        "    ,\"Lévy Flight\": ['Probability and Statistics', 'Applied Mathematics', 'Geometry']\n",
        "    ,\"Lévy Walk\": ['Probability and Statistics', 'Applied Mathematics', 'Geometry']\n",
        "    ,\"Quantum Stochastic Calculus\": ['Probability and Statistics', 'Geometry', 'Number Theory']\n",
        "    ,\"Sampling\": ['Applied Mathematics', 'Discrete Mathematics']\n",
        "    ,\"Seed\": ['Probability and Statistics', 'Calculus and Analysis']\n",
        "    ,\"2x mod 1 Map\": ['Calculus and Analysis', 'Discrete Mathematics']\n",
        "    ,\"Anosov Flow\": ['Calculus and Analysis', 'Topology']\n",
        "    ,\"Axiom A Flow\": ['Calculus and Analysis', 'Topology']\n",
        "    ,\"Cake Cutting\": ['Geometry', 'Discrete Mathematics']\n",
        "    ,\"Dye's Theorem\": ['Applied Mathematics', 'Geometry']\n",
        "    ,\"Ergodic Measure\": ['Applied Mathematics', 'Geometry']\n",
        "    ,\"Geodesic Flow\": ['Calculus and Analysis', 'Topology']\n",
        "    ,\"KMS Condition\": ['Applied Mathematics', 'Geometry', 'Calculus and Analysis']\n",
        "    ,\"Kronecker-Weyl Theorem\": ['Applied Mathematics', 'Geometry']\n",
        "    ,\"Kubo-Martin-Schwinger Condition\": ['Geometry', 'Calculus and Analysis', 'Number Theory']\n",
        "    ,\"Lévy Process\": ['Geometry', 'Number Theory']\n",
        "    ,\"Number Partitioning Problem\": ['Applied Mathematics', 'Geometry']\n",
        "    ,\"Ornstein's Theorem\": ['Geometry', 'Number Theory']\n",
        "    ,\"Pesin Theory\": ['Geometry', 'Number Theory']\n",
        "    ,\"Phase Space\": ['Applied Mathematics', 'Topology']\n",
        "    ,\"Poisson Process\": ['Geometry', 'Number Theory']\n",
        "    ,\"Smale Horseshoe Map\": ['Applied Mathematics', 'Calculus and Analysis']\n",
        "    ,\"Connex\": ['Geometry', 'Calculus and Analysis']\n",
        "    ,\"Dehn Invariant\": ['Geometry', 'Recreational Mathematics']\n",
        "    ,\"Integer Triangle\": ['Geometry', 'Recreational Mathematics']\n",
        "    ,\"Kobon Triangle\": ['Geometry', 'Recreational Mathematics']\n",
        "    ,\"Pizza Theorem\": ['Geometry', 'Recreational Mathematics']\n",
        "    ,\"Subset Sum Problem\": ['Geometry', 'Discrete Mathematics']\n",
        "    ,\"Banach Space\": ['Recreational Mathematics', 'Topology']\n",
        "    ,\"Hilbert Space\": ['Recreational Mathematics', 'Topology']\n",
        "    ,\"Perrin Sequence\": ['Recreational Mathematics', 'Discrete Mathematics']\n",
        "    ,\"Pi\": ['Recreational Mathematics', 'Discrete Mathematics']\n",
        "}\n",
        "\n",
        "for key, value_list in to_remove.items():\n",
        "  for val in value_list:\n",
        "    all_topics[val].remove(key)\n",
        "\n",
        "my_dict = dict()\n",
        "for key, value_list in all_topics.items():\n",
        "  for value in value_list:\n",
        "    if value not in my_dict.keys():\n",
        "      my_dict[value] = [key]\n",
        "    else:\n",
        "      my_dict[value].extend([key])\n",
        "\n",
        "# Final 1:1 check\n",
        "my_dict = dict()\n",
        "for key, value_list in my_dict.items():\n",
        "  if len(value_list) != 1:\n",
        "    print(f\"{key}: {value_list}\")"
      ],
      "metadata": {
        "id": "Bia3JdbEWP4A"
      },
      "execution_count": 65,
      "outputs": []
    },
    {
      "cell_type": "code",
      "source": [
        "def capitalise_key(key):\n",
        "  words = key.split()\n",
        "  if len(words) == 1:\n",
        "    to_return = words[0].capitalize()\n",
        "  else:\n",
        "    first = words[0].capitalize()\n",
        "    rest = words[1:]\n",
        "    to_return = ' '.join(rest).lower()\n",
        "    to_return = f\"{first} {to_return}\"\n",
        "  return to_return"
      ],
      "metadata": {
        "id": "0JNsXVxAxjDW"
      },
      "execution_count": 66,
      "outputs": []
    },
    {
      "cell_type": "code",
      "source": [
        "def creates_bioes_labels(ner_mapper_list, key):\n",
        "  # Generate BIOES-style labels for a list of values, corresponding to the input.\n",
        "  n = len(ner_mapper_list)\n",
        "  if n == 1:\n",
        "    labels_list = [f'S-{key}']\n",
        "  else:\n",
        "    labels_list = [f'B-{key}']  # Labels start with 'B-ENTITY_NAME'\n",
        "    labels_list.extend([f'I-{key}'] * (n - 2))  # middle tokens are 'I-ENTITY_NAME'\n",
        "    labels_list.append(f'E-{key}')  # End with 'E-ENTITY_NAME'\n",
        "  return labels_list"
      ],
      "metadata": {
        "id": "OOnHlhYxG8Q9"
      },
      "execution_count": 67,
      "outputs": []
    },
    {
      "cell_type": "code",
      "source": [
        "# def generate_ner_tags(classification_dict):\n",
        "#   # Generates hierarchical tags based on the key\n",
        "#   transformations = {\n",
        "#         \"lower\": str.lower,\n",
        "#         \"upper\": str.upper,\n",
        "#         \"title\": str.title,\n",
        "#         \"capitalise\": capitalise_key,\n",
        "#   }\n",
        "#   my_dict = dict()\n",
        "#   for key, value_list in classification_dict.items():\n",
        "#     key = key.replace(\" \", \"_\").upper()\n",
        "#     for value in value_list:\n",
        "#       transformed_values = {}\n",
        "#       for name, transform_fn in transformations.items():\n",
        "#         transformed_values[name] = transform_fn(value)\n",
        "\n",
        "#       for value in transformed_values.values():\n",
        "#         value = value.replace(\"\\n\", \" \") #Removing new line in key\n",
        "#         value = value.replace(\"--\", \"-\") #Removing double-dashes\n",
        "\n",
        "#         text_index = idx2string(value)\n",
        "#         my_dict[value] = {\n",
        "#           \"text_index\": text_index,\n",
        "#           \"tokens\" : tag_tokenizer(value).tokens(),\n",
        "#           \"input_ids\" : tag_tokenizer.encode(value),\n",
        "#           }\n",
        "#         my_list = []\n",
        "#         for k, v in my_dict[value]['text_index'].items():\n",
        "#           for token, input_id in zip(my_dict[value]['tokens'], my_dict[value]['input_ids']):\n",
        "#             if v.startswith(token):\n",
        "#               my_list.append(input_id)\n",
        "#           my_dict[value]['ner_mapper'] = my_list\n",
        "#           my_dict[value]['ner_tags'] = creates_bioes_labels(my_list, key)\n",
        "#   return my_dict"
      ],
      "metadata": {
        "id": "5h5vRcWrHMLh"
      },
      "execution_count": 68,
      "outputs": []
    },
    {
      "cell_type": "code",
      "source": [
        "def generate_ner_tags(classification_dict):\n",
        "  # Generates hierarchical tags based on the key\n",
        "  transformations = {\n",
        "        \"lower\": str.lower,\n",
        "        \"upper\": str.upper,\n",
        "        \"title\": str.title,\n",
        "        \"capitalise\": capitalise_key,\n",
        "  }\n",
        "  my_dict = dict()\n",
        "  for key, value_list in classification_dict.items():\n",
        "    key = key.replace(\" \", \"_\").upper()\n",
        "    for value in value_list:\n",
        "      transformed_values = {}\n",
        "      for name, transform_fn in transformations.items():\n",
        "        transformed_values[name] = transform_fn(value)\n",
        "\n",
        "      for value in transformed_values.values():\n",
        "        value = value.replace(\"\\n\", \" \") #Removing new line in key\n",
        "        value = value.replace(\"--\", \"-\") #Removing double-dashes\n",
        "\n",
        "        text_index = idx2string(value)\n",
        "        my_dict[value] = {\n",
        "          \"text_index\": text_index,\n",
        "          \"tokens\" : tag_tokenizer(value).tokens(),\n",
        "          \"input_ids\" : tag_tokenizer.encode(value),\n",
        "          }\n",
        "        my_list = []\n",
        "        for i, (k, v) in enumerate(my_dict[value]['text_index'].items()):\n",
        "          for token, input_id in zip(my_dict[value]['tokens'], my_dict[value]['input_ids']):\n",
        "            if v.startswith(token):\n",
        "              my_list.append(input_id)\n",
        "              continue\n",
        "          my_dict[value]['ner_mapper'] = my_list\n",
        "          my_dict[value]['ner_tags'] = creates_bioes_labels(my_list, key)\n",
        "  return my_dict"
      ],
      "metadata": {
        "id": "8cO2tsJn986W"
      },
      "execution_count": 106,
      "outputs": []
    },
    {
      "cell_type": "code",
      "source": [
        "# Generate the NER tags per dictionary\n",
        "_all_classifications = generate_ner_tags(all_topics)"
      ],
      "metadata": {
        "id": "O_gaTYRjC2ve"
      },
      "execution_count": 107,
      "outputs": []
    },
    {
      "cell_type": "code",
      "source": [
        "print(f\"topic_dict_ner dictionary length: {len(_all_classifications)}\")\n",
        "random_sample = random.sample(list(_all_classifications.items()), 3)\n",
        "\n",
        "for key, value in random_sample:\n",
        "  print(f\"{key}:\\n{value}\")"
      ],
      "metadata": {
        "colab": {
          "base_uri": "https://localhost:8080/"
        },
        "id": "81w9B8woPk48",
        "outputId": "c15d997d-4548-439e-85db-1dabda20a3e9"
      },
      "execution_count": 108,
      "outputs": [
        {
          "output_type": "stream",
          "name": "stdout",
          "text": [
            "topic_dict_ner dictionary length: 21696\n",
            "Actuarial Polynomial:\n",
            "{'text_index': {0: 'Actuarial', 1: 'Polynomial'}, 'tokens': ['[CLS]', 'Act', '##ua', '##rial', 'Pol', '##yn', '##omi', '##al', '[SEP]'], 'input_ids': [101, 2173, 6718, 13119, 17129, 5730, 18882, 1348, 102], 'ner_mapper': [2173, 17129], 'ner_tags': ['B-DISCRETE_MATHEMATICS', 'E-DISCRETE_MATHEMATICS']}\n",
            "event space:\n",
            "{'text_index': {0: 'event', 1: 'space'}, 'tokens': ['[CLS]', 'event', 'space', '[SEP]'], 'input_ids': [101, 1856, 2000, 102], 'ner_mapper': [1856, 2000], 'ner_tags': ['B-PROBABILITY_AND_STATISTICS', 'E-PROBABILITY_AND_STATISTICS']}\n",
            "Probability Axioms:\n",
            "{'text_index': {0: 'Probability', 1: 'Axioms'}, 'tokens': ['[CLS]', 'Pro', '##ba', '##bility', 'A', '##xi', '##oms', '[SEP]'], 'input_ids': [101, 5096, 2822, 5474, 138, 8745, 17112, 102], 'ner_mapper': [5096, 138], 'ner_tags': ['B-PROBABILITY_AND_STATISTICS', 'E-PROBABILITY_AND_STATISTICS']}\n"
          ]
        }
      ]
    },
    {
      "cell_type": "code",
      "source": [
        "all_classifications = dict()\n",
        "\n",
        "for key, sub_dict in _all_classifications.items():\n",
        "  ner = list('O' * len(sub_dict['input_ids']))\n",
        "\n",
        "  for match_input_id, ner_tag in zip(sub_dict['ner_mapper'], sub_dict['ner_tags']):\n",
        "    idx = sub_dict['input_ids'].index(match_input_id)\n",
        "    ner[idx] = ner_tag\n",
        "    ner = [i.replace('_', '-') for i in ner]\n",
        "    all_classifications[key] = {\n",
        "        'text_index': sub_dict['text_index'],\n",
        "        'tokens': sub_dict['tokens'],\n",
        "        'input_ids': sub_dict['input_ids'],\n",
        "        'ner_mapper': sub_dict['ner_mapper'],\n",
        "        'ner_tags': ner,\n",
        "    }"
      ],
      "metadata": {
        "id": "pRBuG9EVcpY0"
      },
      "execution_count": 114,
      "outputs": []
    },
    {
      "cell_type": "code",
      "source": [
        "print(f\"topic_dict_ner dictionary length: {len(all_classifications)}\")\n",
        "\n",
        "for key, value in random_sample:\n",
        "  print(f\"{key}:\\n{all_classifications[key]}\")"
      ],
      "metadata": {
        "colab": {
          "base_uri": "https://localhost:8080/"
        },
        "id": "FijrL-z5fBBc",
        "outputId": "c6400434-16a6-4625-b012-77f0cfe39169"
      },
      "execution_count": 115,
      "outputs": [
        {
          "output_type": "stream",
          "name": "stdout",
          "text": [
            "topic_dict_ner dictionary length: 21696\n",
            "Actuarial Polynomial:\n",
            "{'text_index': {0: 'Actuarial', 1: 'Polynomial'}, 'tokens': ['[CLS]', 'Act', '##ua', '##rial', 'Pol', '##yn', '##omi', '##al', '[SEP]'], 'input_ids': [101, 2173, 6718, 13119, 17129, 5730, 18882, 1348, 102], 'ner_mapper': [2173, 17129], 'ner_tags': ['O', 'B-DISCRETE-MATHEMATICS', 'O', 'O', 'E-DISCRETE-MATHEMATICS', 'O', 'O', 'O', 'O']}\n",
            "event space:\n",
            "{'text_index': {0: 'event', 1: 'space'}, 'tokens': ['[CLS]', 'event', 'space', '[SEP]'], 'input_ids': [101, 1856, 2000, 102], 'ner_mapper': [1856, 2000], 'ner_tags': ['O', 'B-PROBABILITY-AND-STATISTICS', 'E-PROBABILITY-AND-STATISTICS', 'O']}\n",
            "Probability Axioms:\n",
            "{'text_index': {0: 'Probability', 1: 'Axioms'}, 'tokens': ['[CLS]', 'Pro', '##ba', '##bility', 'A', '##xi', '##oms', '[SEP]'], 'input_ids': [101, 5096, 2822, 5474, 138, 8745, 17112, 102], 'ner_mapper': [5096, 138], 'ner_tags': ['O', 'B-PROBABILITY-AND-STATISTICS', 'O', 'O', 'E-PROBABILITY-AND-STATISTICS', 'O', 'O', 'O']}\n"
          ]
        }
      ]
    },
    {
      "cell_type": "code",
      "source": [
        "file_name = 'all_classifications.pkl'\n",
        "\n",
        "with open(file_name, 'wb') as file:\n",
        "  pickle.dump(all_classifications, file)"
      ],
      "metadata": {
        "id": "RKogysw6Lxtw"
      },
      "execution_count": 116,
      "outputs": []
    }
  ]
}