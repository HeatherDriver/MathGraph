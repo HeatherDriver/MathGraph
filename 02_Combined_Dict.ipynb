{
  "nbformat": 4,
  "nbformat_minor": 0,
  "metadata": {
    "colab": {
      "provenance": [],
      "authorship_tag": "ABX9TyPnTxMgl43ffLIshZj+Qfz7",
      "include_colab_link": true
    },
    "kernelspec": {
      "name": "python3",
      "display_name": "Python 3"
    },
    "language_info": {
      "name": "python"
    }
  },
  "cells": [
    {
      "cell_type": "markdown",
      "metadata": {
        "id": "view-in-github",
        "colab_type": "text"
      },
      "source": [
        "<a href=\"https://colab.research.google.com/github/HeatherDriver/MathGraph/blob/main/02_Combined_Dict.ipynb\" target=\"_parent\"><img src=\"https://colab.research.google.com/assets/colab-badge.svg\" alt=\"Open In Colab\"/></a>"
      ]
    },
    {
      "cell_type": "code",
      "source": [
        "! pip install --upgrade openai"
      ],
      "metadata": {
        "colab": {
          "base_uri": "https://localhost:8080/"
        },
        "id": "1wbnI1zawdYd",
        "outputId": "c4d8636a-cb6a-4eda-e8d6-3eab6bc78075"
      },
      "execution_count": null,
      "outputs": [
        {
          "output_type": "stream",
          "name": "stdout",
          "text": [
            "Requirement already satisfied: openai in /usr/local/lib/python3.10/dist-packages (1.57.4)\n",
            "Requirement already satisfied: anyio<5,>=3.5.0 in /usr/local/lib/python3.10/dist-packages (from openai) (3.7.1)\n",
            "Requirement already satisfied: distro<2,>=1.7.0 in /usr/local/lib/python3.10/dist-packages (from openai) (1.9.0)\n",
            "Requirement already satisfied: httpx<1,>=0.23.0 in /usr/local/lib/python3.10/dist-packages (from openai) (0.28.1)\n",
            "Requirement already satisfied: jiter<1,>=0.4.0 in /usr/local/lib/python3.10/dist-packages (from openai) (0.8.2)\n",
            "Requirement already satisfied: pydantic<3,>=1.9.0 in /usr/local/lib/python3.10/dist-packages (from openai) (2.10.3)\n",
            "Requirement already satisfied: sniffio in /usr/local/lib/python3.10/dist-packages (from openai) (1.3.1)\n",
            "Requirement already satisfied: tqdm>4 in /usr/local/lib/python3.10/dist-packages (from openai) (4.66.6)\n",
            "Requirement already satisfied: typing-extensions<5,>=4.11 in /usr/local/lib/python3.10/dist-packages (from openai) (4.12.2)\n",
            "Requirement already satisfied: idna>=2.8 in /usr/local/lib/python3.10/dist-packages (from anyio<5,>=3.5.0->openai) (3.10)\n",
            "Requirement already satisfied: exceptiongroup in /usr/local/lib/python3.10/dist-packages (from anyio<5,>=3.5.0->openai) (1.2.2)\n",
            "Requirement already satisfied: certifi in /usr/local/lib/python3.10/dist-packages (from httpx<1,>=0.23.0->openai) (2024.8.30)\n",
            "Requirement already satisfied: httpcore==1.* in /usr/local/lib/python3.10/dist-packages (from httpx<1,>=0.23.0->openai) (1.0.7)\n",
            "Requirement already satisfied: h11<0.15,>=0.13 in /usr/local/lib/python3.10/dist-packages (from httpcore==1.*->httpx<1,>=0.23.0->openai) (0.14.0)\n",
            "Requirement already satisfied: annotated-types>=0.6.0 in /usr/local/lib/python3.10/dist-packages (from pydantic<3,>=1.9.0->openai) (0.7.0)\n",
            "Requirement already satisfied: pydantic-core==2.27.1 in /usr/local/lib/python3.10/dist-packages (from pydantic<3,>=1.9.0->openai) (2.27.1)\n"
          ]
        }
      ]
    },
    {
      "cell_type": "code",
      "execution_count": null,
      "metadata": {
        "id": "jfoHvsCOJEK8"
      },
      "outputs": [],
      "source": [
        "from google.colab import drive, userdata\n",
        "import pickle\n",
        "import random\n",
        "from collections import defaultdict\n",
        "from openai import OpenAI"
      ]
    },
    {
      "cell_type": "code",
      "source": [
        "drive.mount(\"/content/drive\")\n",
        "%cd '/content/drive/MyDrive/Colab Notebooks/Math_Graph/pickle_files'"
      ],
      "metadata": {
        "colab": {
          "base_uri": "https://localhost:8080/"
        },
        "id": "MBwk-GyLJKbm",
        "outputId": "eae3c959-f211-48cf-8578-35367f5b84fd"
      },
      "execution_count": null,
      "outputs": [
        {
          "output_type": "stream",
          "name": "stdout",
          "text": [
            "Drive already mounted at /content/drive; to attempt to forcibly remount, call drive.mount(\"/content/drive\", force_remount=True).\n",
            "/content/drive/MyDrive/Colab Notebooks/Math_Graph/pickle_files\n"
          ]
        }
      ]
    },
    {
      "cell_type": "code",
      "source": [
        "# Open pickle file and load\n",
        "def read_pickle(dict_file):\n",
        "  with open(dict_file, 'rb') as file:\n",
        "    return pickle.load(file)"
      ],
      "metadata": {
        "id": "FfO6G1DnJPMe"
      },
      "execution_count": null,
      "outputs": []
    },
    {
      "cell_type": "code",
      "source": [
        "# Function to combine wikidata and short answer data for mizar into a single dictionary\n",
        "\n",
        "def combine_dictionaries(wiki_dict, short_ans_dict):\n",
        "  wiki_dict = read_pickle(wiki_dict)\n",
        "  short_ans_dict = read_pickle(short_ans_dict)\n",
        "\n",
        "  all_keys = set(wiki_dict.keys()).union(set(short_ans_dict.keys()))\n",
        "  _combined_dict = dict()\n",
        "\n",
        "  for key in all_keys:\n",
        "    _combined_dict[key] = {'wikidata': wiki_dict.get(key),  'short_answer': short_ans_dict.get(key)}\n",
        "\n",
        "  return _combined_dict"
      ],
      "metadata": {
        "id": "BQxhkQEtJfv6"
      },
      "execution_count": null,
      "outputs": []
    },
    {
      "cell_type": "code",
      "source": [
        "combined_mizar_dict = combine_dictionaries(\"mizar_wikidata_api.pkl\", \"mizar_short_ans_api.pkl\")\n",
        "combined_wolfram_dict = combine_dictionaries(\"wolfram_wikidata_api.pkl\", \"wolfram_short_ans_api.pkl\")\n",
        "\n",
        "combined_mizar_dict = {k.replace(\"_\", \" \"): v for k, v in combined_mizar_dict.items()}\n",
        "combined_wolfram_dict = {k.replace(\"_\", \" \"): v for k, v in combined_wolfram_dict.items()}"
      ],
      "metadata": {
        "id": "zbNHQ9lcJpFP"
      },
      "execution_count": null,
      "outputs": []
    },
    {
      "cell_type": "code",
      "source": [
        "# cleaning combined output\n",
        "\n",
        "all_keys = set(combined_mizar_dict.keys()).union(set(combined_wolfram_dict.keys()))\n",
        "\n",
        "combined_dict = dict()\n",
        "\n",
        "for key in all_keys:\n",
        "  combined_dict[key] = {'mizar': combined_mizar_dict.get(key),  'wolfram': combined_wolfram_dict.get(key)}\n",
        "\n",
        "my_dict = {}\n",
        "\n",
        "for key, value in combined_dict.items():\n",
        "    # keys to lowercase\n",
        "    lower_key = key.lower()\n",
        "\n",
        "    # If the lowercase key is not in the cleaned dictionary, add it\n",
        "    if lower_key not in my_dict:\n",
        "        my_dict[lower_key] = (key, value)\n",
        "    else:\n",
        "        existing_key = my_dict[lower_key][0]\n",
        "        if key.istitle() and not existing_key.istitle():\n",
        "            my_dict[lower_key] = (key, value)\n",
        "\n",
        "final_combined_dict = {key: value for key, value in my_dict.values()}"
      ],
      "metadata": {
        "id": "6A1jiJ2cJsod"
      },
      "execution_count": null,
      "outputs": []
    },
    {
      "cell_type": "code",
      "source": [
        "# Still need last few short definitions - separate these to have definitions in one\n",
        "get_definition = []\n",
        "short_answer = dict()\n",
        "\n",
        "for key in final_combined_dict.keys():\n",
        "  try:\n",
        "    definition = final_combined_dict[key][\"wolfram\"][\"short_answer\"]\n",
        "    short_answer.update({key: definition})\n",
        "  except:\n",
        "    get_definition.append(key)"
      ],
      "metadata": {
        "id": "FTZnmcQ5stDd"
      },
      "execution_count": null,
      "outputs": []
    },
    {
      "cell_type": "code",
      "source": [
        "# Also append if the short answer is None\n",
        "for key, value in short_answer.items():\n",
        "  if value is None:\n",
        "    get_definition.append(key)\n",
        "  if value == 'None':\n",
        "    get_definition.append(key)"
      ],
      "metadata": {
        "id": "FHEWLxVehvVA"
      },
      "execution_count": null,
      "outputs": []
    },
    {
      "cell_type": "code",
      "source": [
        "# Also append if 'constant' is in the key name - this is because Wolfram short answer reverts to the actual number, eg Conway's Constant = 1.30358 which is non-informative\n",
        "for key in final_combined_dict.keys():\n",
        "  if 'constant' in key.lower():\n",
        "    get_definition.append(key)\n",
        "\n",
        "# Also append for a few miscellaneous names where Wolfram short answer reverts to the actual number which is non-informative\n",
        "for key in final_combined_dict.keys():\n",
        "  if key.lower() in ['combinatorial identities', 'combinatorial optimization', 'difference plot', 'general combinatorics', 'gini coefficient', \"god's number\",  'graph spectrum', 'l^infty-norm',  'lehmer number',\n",
        "                     'milliard', 'natural logarithm of 2', 'out-shuffle', 'pi', 'pi squared', 'pi-prime', 'prime arrangements', 'zero', 'e']:\n",
        "    get_definition.append(key)"
      ],
      "metadata": {
        "id": "OtFgg1aT_V2N"
      },
      "execution_count": null,
      "outputs": []
    },
    {
      "cell_type": "code",
      "source": [
        "# Get the API key and set the model name\n",
        "model = \"gpt-4o-mini\"\n",
        "client = OpenAI(api_key=userdata.get('ChatGPT'))\n",
        "\n",
        "# Function to return answers based on prompt\n",
        "def gpt_answers(topic):\n",
        "  completion = client.chat.completions.create(\n",
        "    model=model,\n",
        "    messages=[\n",
        "      {\"role\": \"system\", \"content\": f\"\"\"I will ask you to provide a short summary of a topic, 2 or 3 sentences long. Output must not include mathematical notation or history.\n",
        "                  Example:\n",
        "\n",
        "                  Question:\n",
        "                  bertrand's postulate\n",
        "\n",
        "                  Answer:\n",
        "                  Bertrand's Postulate states that for any number greater than 1, there is always at least one prime number between that number and its double.\n",
        "                  This postulate ensures that prime numbers are distributed somewhat evenly across the number line, and there is always a prime within this range.\n",
        "                  It provides a guarantee about the existence of primes in intervals.\n",
        "\n",
        "                  End of example. \"\"\"}, # system message that provides context to the model\n",
        "      {\"role\": \"user\", \"content\": f\"\"\"Provide a short summary of: {topic}\"\"\"}  # topic query\n",
        "    ]\n",
        "  )\n",
        "\n",
        "  response = completion.choices[0].message.content\n",
        "  return response"
      ],
      "metadata": {
        "id": "Yf2mWn2IqOfT"
      },
      "execution_count": null,
      "outputs": []
    },
    {
      "cell_type": "code",
      "source": [
        "try:\n",
        "  with open('gpt_responses_dict.pkl', 'rb') as file:\n",
        "    gpt_responses = pickle.load(file)\n",
        "except:\n",
        "  gpt_responses = dict()\n",
        "\n",
        "  for definition in get_definition:\n",
        "    gpt_responses[definition] = gpt_answers(definition)\n",
        "\n",
        "  with open('gpt_responses_dict.pkl', 'wb') as file:\n",
        "    pickle.dump(gpt_responses, file)"
      ],
      "metadata": {
        "id": "4hmWHK9euS_u"
      },
      "execution_count": null,
      "outputs": []
    },
    {
      "cell_type": "code",
      "source": [
        "print(gpt_responses[\"Tietze extension theorem\"])"
      ],
      "metadata": {
        "colab": {
          "base_uri": "https://localhost:8080/"
        },
        "id": "8_WkzxEUtZTv",
        "outputId": "610cc7b4-37cb-4284-c26f-856b630180f9"
      },
      "execution_count": null,
      "outputs": [
        {
          "output_type": "stream",
          "name": "stdout",
          "text": [
            "The Tietze Extension Theorem states that any continuous function defined on a closed subset of a normal topological space can be extended to a continuous function on the entire space. This result is significant in topology, as it allows for the preservation of continuity when expanding functions to larger domains. The theorem underscores the importance of normal spaces in the context of function extension.\n"
          ]
        }
      ]
    },
    {
      "cell_type": "code",
      "source": [
        "def deep_update(original, new):\n",
        "  for key, value in new.items():\n",
        "    if isinstance(value, dict) and key in original:\n",
        "      deep_update(original[key], value)\n",
        "    else:\n",
        "      original[key] = value"
      ],
      "metadata": {
        "id": "sAMCLkAkaPHs"
      },
      "execution_count": null,
      "outputs": []
    },
    {
      "cell_type": "code",
      "source": [
        "my_dict = dict()\n",
        "for key, values in gpt_responses.items():\n",
        "  my_dict.setdefault(key, {}).setdefault('gpt', {})['gpt'] = values\n",
        "\n",
        "deep_update(final_combined_dict, my_dict)\n",
        "\n",
        "my_list = [k for k in final_combined_dict.keys()]\n",
        "my_list.sort()\n",
        "\n",
        "_final_combined_dict = dict()\n",
        "for key in my_list:\n",
        "  _final_combined_dict[key] = final_combined_dict[key]\n",
        "\n",
        "final_combined_dict = _final_combined_dict\n",
        "\n",
        "with open('final_combined_dict.pkl', 'wb') as file:\n",
        "  pickle.dump(final_combined_dict, file)"
      ],
      "metadata": {
        "id": "fkvjNRsxvI3o"
      },
      "execution_count": null,
      "outputs": []
    },
    {
      "cell_type": "code",
      "source": [
        "short_answer.update(gpt_responses)\n",
        "\n",
        "for keys in short_answer.keys():\n",
        "  if keys not in final_combined_dict.keys():\n",
        "    print(keys)"
      ],
      "metadata": {
        "id": "m0Gi1zOgfm-S"
      },
      "execution_count": null,
      "outputs": []
    },
    {
      "cell_type": "code",
      "source": [
        "my_list = [k for k in short_answer.keys()]\n",
        "my_list.sort()\n",
        "\n",
        "_short_answer = dict()\n",
        "for key in my_list:\n",
        "  _short_answer[key] = short_answer[key]\n",
        "\n",
        "short_answer = _short_answer\n",
        "\n",
        "with open('short_answer_dict.pkl', 'wb') as file:\n",
        "  pickle.dump(short_answer, file)"
      ],
      "metadata": {
        "id": "LTVi0Npyf3Ut"
      },
      "execution_count": null,
      "outputs": []
    },
    {
      "cell_type": "code",
      "source": [
        "final_combined_dict[\"Algebraic Curve\"]"
      ],
      "metadata": {
        "colab": {
          "base_uri": "https://localhost:8080/"
        },
        "id": "zzNWaYgqxKmq",
        "outputId": "3a814f06-7b69-45bd-cb87-628ac39c1e41"
      },
      "execution_count": null,
      "outputs": [
        {
          "output_type": "execute_result",
          "data": {
            "text/plain": [
              "{'mizar': None,\n",
              " 'wolfram': {'wikidata': [{'id': 'Q266237',\n",
              "    'title': 'Q266237',\n",
              "    'pageid': 258014,\n",
              "    'concepturi': 'http://www.wikidata.org/entity/Q266237',\n",
              "    'repository': 'wikidata',\n",
              "    'url': '//www.wikidata.org/wiki/Q266237',\n",
              "    'display': {'label': {'value': 'algebraic curve', 'language': 'en'},\n",
              "     'description': {'value': 'algebraic variety of dimension one',\n",
              "      'language': 'en'}},\n",
              "    'label': 'algebraic curve',\n",
              "    'description': 'algebraic variety of dimension one',\n",
              "    'match': {'type': 'label', 'language': 'en', 'text': 'algebraic curve'}},\n",
              "   {'id': 'Q59256198',\n",
              "    'title': 'Q59256198',\n",
              "    'pageid': 59162229,\n",
              "    'concepturi': 'http://www.wikidata.org/entity/Q59256198',\n",
              "    'repository': 'wikidata',\n",
              "    'url': '//www.wikidata.org/wiki/Q59256198',\n",
              "    'display': {'label': {'value': 'Algebraic Curve for the SO(6) Sector of AdS/CFT',\n",
              "      'language': 'en'},\n",
              "     'description': {'value': 'scholarly article by N. Beisert et al published 4 March 2006 in Communications in Mathematical Physics',\n",
              "      'language': 'en'}},\n",
              "    'label': 'Algebraic Curve for the SO(6) Sector of AdS/CFT',\n",
              "    'description': 'scholarly article by N. Beisert et al published 4 March 2006 in Communications in Mathematical Physics',\n",
              "    'match': {'type': 'label',\n",
              "     'language': 'en',\n",
              "     'text': 'Algebraic Curve for the SO(6) Sector of AdS/CFT'}},\n",
              "   {'id': 'Q33748388',\n",
              "    'title': 'Q33748388',\n",
              "    'pageid': 35192414,\n",
              "    'concepturi': 'http://www.wikidata.org/entity/Q33748388',\n",
              "    'repository': 'wikidata',\n",
              "    'url': '//www.wikidata.org/wiki/Q33748388',\n",
              "    'display': {'label': {'value': 'Algebraic Curves, Symmetries and Satellites',\n",
              "      'language': 'en'},\n",
              "     'description': {'value': 'scientific article', 'language': 'en'}},\n",
              "    'label': 'Algebraic Curves, Symmetries and Satellites',\n",
              "    'description': 'scientific article',\n",
              "    'match': {'type': 'label',\n",
              "     'language': 'en',\n",
              "     'text': 'Algebraic Curves, Symmetries and Satellites'}},\n",
              "   {'id': 'Q57343742',\n",
              "    'title': 'Q57343742',\n",
              "    'pageid': 57260130,\n",
              "    'concepturi': 'http://www.wikidata.org/entity/Q57343742',\n",
              "    'repository': 'wikidata',\n",
              "    'url': '//www.wikidata.org/wiki/Q57343742',\n",
              "    'display': {'label': {'value': 'Algebraic Curves and Their Theta Functions in a Nutshell',\n",
              "      'language': 'en'},\n",
              "     'description': {'value': 'scholarly article', 'language': 'en'}},\n",
              "    'label': 'Algebraic Curves and Their Theta Functions in a Nutshell',\n",
              "    'description': 'scholarly article',\n",
              "    'match': {'type': 'label',\n",
              "     'language': 'en',\n",
              "     'text': 'Algebraic Curves and Their Theta Functions in a Nutshell'}},\n",
              "   {'id': 'Q59249216',\n",
              "    'title': 'Q59249216',\n",
              "    'pageid': 59155254,\n",
              "    'concepturi': 'http://www.wikidata.org/entity/Q59249216',\n",
              "    'repository': 'wikidata',\n",
              "    'url': '//www.wikidata.org/wiki/Q59249216',\n",
              "    'display': {'label': {'value': 'Algebraic curves and maximal arcs',\n",
              "      'language': 'en'},\n",
              "     'description': {'value': 'scholarly article by A. Aguglia et al published 24 January 2008 in Journal of Algebraic Combinatorics',\n",
              "      'language': 'en'}},\n",
              "    'label': 'Algebraic curves and maximal arcs',\n",
              "    'description': 'scholarly article by A. Aguglia et al published 24 January 2008 in Journal of Algebraic Combinatorics',\n",
              "    'match': {'type': 'label',\n",
              "     'language': 'en',\n",
              "     'text': 'Algebraic curves and maximal arcs'}},\n",
              "   {'id': 'Q128870861',\n",
              "    'title': 'Q128870861',\n",
              "    'pageid': 122846174,\n",
              "    'concepturi': 'http://www.wikidata.org/entity/Q128870861',\n",
              "    'repository': 'wikidata',\n",
              "    'url': '//www.wikidata.org/wiki/Q128870861',\n",
              "    'display': {'label': {'value': 'Algebraic curves with non-classical types of gap sequences for genus three and four',\n",
              "      'language': 'en'},\n",
              "     'description': {'value': 'scholarly article', 'language': 'en'}},\n",
              "    'label': 'Algebraic curves with non-classical types of gap sequences for genus three and four',\n",
              "    'description': 'scholarly article',\n",
              "    'match': {'type': 'label',\n",
              "     'language': 'en',\n",
              "     'text': 'Algebraic curves with non-classical types of gap sequences for genus three and four'}},\n",
              "   {'id': 'Q61914067',\n",
              "    'title': 'Q61914067',\n",
              "    'pageid': 61745949,\n",
              "    'concepturi': 'http://www.wikidata.org/entity/Q61914067',\n",
              "    'repository': 'wikidata',\n",
              "    'url': '//www.wikidata.org/wiki/Q61914067',\n",
              "    'display': {'label': {'value': 'Algebraic curves and cryptography',\n",
              "      'language': 'en'},\n",
              "     'description': {'value': 'scientific article published in August 2005',\n",
              "      'language': 'en'}},\n",
              "    'label': 'Algebraic curves and cryptography',\n",
              "    'description': 'scientific article published in August 2005',\n",
              "    'match': {'type': 'label',\n",
              "     'language': 'en',\n",
              "     'text': 'Algebraic curves and cryptography'}}],\n",
              "  'short_answer': 'None'},\n",
              " 'gpt': {'gpt': 'An algebraic curve is a one-dimensional geometric object defined by polynomial equations in two variables. These curves can be used to study various properties in algebraic geometry, and they can represent both smooth and singular points. Algebraic curves play a critical role in connecting abstract algebraic concepts to geometric interpretations.'}}"
            ]
          },
          "metadata": {},
          "execution_count": 18
        }
      ]
    }
  ]
}